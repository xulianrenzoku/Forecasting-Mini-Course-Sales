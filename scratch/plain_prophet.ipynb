{
 "cells": [
  {
   "cell_type": "code",
   "execution_count": 49,
   "id": "e98fb2db",
   "metadata": {
    "ExecuteTime": {
     "end_time": "2023-07-24T14:10:22.124792Z",
     "start_time": "2023-07-24T14:10:22.120219Z"
    }
   },
   "outputs": [],
   "source": [
    "import os\n",
    "import numpy as np\n",
    "import pandas as pd\n",
    "import matplotlib.pyplot as plt\n",
    "import matplotlib.dates as mdates\n",
    "import seaborn as sns\n",
    "from IPython.core.pylabtools import figsize\n",
    "from tqdm import tqdm"
   ]
  },
  {
   "cell_type": "code",
   "execution_count": 2,
   "id": "5b77763e",
   "metadata": {
    "ExecuteTime": {
     "end_time": "2023-07-24T13:49:41.821237Z",
     "start_time": "2023-07-24T13:49:41.533324Z"
    }
   },
   "outputs": [],
   "source": [
    "from prophet import Prophet\n",
    "from prophet.diagnostics import cross_validation\n",
    "from prophet.diagnostics import performance_metrics"
   ]
  },
  {
   "cell_type": "code",
   "execution_count": 3,
   "id": "e0cdc14e",
   "metadata": {
    "ExecuteTime": {
     "end_time": "2023-07-24T13:49:41.830300Z",
     "start_time": "2023-07-24T13:49:41.827005Z"
    }
   },
   "outputs": [],
   "source": [
    "import warnings\n",
    "warnings.filterwarnings('ignore')"
   ]
  },
  {
   "cell_type": "code",
   "execution_count": null,
   "id": "5569f62d",
   "metadata": {
    "ExecuteTime": {
     "start_time": "2023-07-24T13:49:39.585Z"
    }
   },
   "outputs": [],
   "source": [
    "# sns.set()"
   ]
  },
  {
   "cell_type": "markdown",
   "id": "19d5f201",
   "metadata": {},
   "source": [
    "## Read Data"
   ]
  },
  {
   "cell_type": "code",
   "execution_count": 4,
   "id": "ab94bdc6",
   "metadata": {
    "ExecuteTime": {
     "end_time": "2023-07-24T13:49:41.859879Z",
     "start_time": "2023-07-24T13:49:41.851094Z"
    }
   },
   "outputs": [
    {
     "data": {
      "text/plain": [
       "['test.csv', 'train.csv', 'sample_submission.csv']"
      ]
     },
     "execution_count": 4,
     "metadata": {},
     "output_type": "execute_result"
    }
   ],
   "source": [
    "os.listdir('input')"
   ]
  },
  {
   "cell_type": "code",
   "execution_count": 5,
   "id": "45c9e915",
   "metadata": {
    "ExecuteTime": {
     "end_time": "2023-07-24T13:49:42.042292Z",
     "start_time": "2023-07-24T13:49:41.862436Z"
    }
   },
   "outputs": [
    {
     "name": "stdout",
     "output_type": "stream",
     "text": [
      "(136950, 6)\n"
     ]
    },
    {
     "data": {
      "text/html": [
       "<div>\n",
       "<style scoped>\n",
       "    .dataframe tbody tr th:only-of-type {\n",
       "        vertical-align: middle;\n",
       "    }\n",
       "\n",
       "    .dataframe tbody tr th {\n",
       "        vertical-align: top;\n",
       "    }\n",
       "\n",
       "    .dataframe thead th {\n",
       "        text-align: right;\n",
       "    }\n",
       "</style>\n",
       "<table border=\"1\" class=\"dataframe\">\n",
       "  <thead>\n",
       "    <tr style=\"text-align: right;\">\n",
       "      <th></th>\n",
       "      <th>id</th>\n",
       "      <th>date</th>\n",
       "      <th>country</th>\n",
       "      <th>store</th>\n",
       "      <th>product</th>\n",
       "      <th>num_sold</th>\n",
       "    </tr>\n",
       "  </thead>\n",
       "  <tbody>\n",
       "    <tr>\n",
       "      <th>0</th>\n",
       "      <td>0</td>\n",
       "      <td>2017-01-01</td>\n",
       "      <td>Argentina</td>\n",
       "      <td>Kaggle Learn</td>\n",
       "      <td>Using LLMs to Improve Your Coding</td>\n",
       "      <td>63</td>\n",
       "    </tr>\n",
       "  </tbody>\n",
       "</table>\n",
       "</div>"
      ],
      "text/plain": [
       "   id        date    country         store                            product  \\\n",
       "0   0  2017-01-01  Argentina  Kaggle Learn  Using LLMs to Improve Your Coding   \n",
       "\n",
       "   num_sold  \n",
       "0        63  "
      ]
     },
     "execution_count": 5,
     "metadata": {},
     "output_type": "execute_result"
    }
   ],
   "source": [
    "train_df = pd.read_csv('input/train.csv')\n",
    "print(train_df.shape)\n",
    "train_df.head(1)"
   ]
  },
  {
   "cell_type": "code",
   "execution_count": 6,
   "id": "4e939af9",
   "metadata": {
    "ExecuteTime": {
     "end_time": "2023-07-24T13:49:42.087431Z",
     "start_time": "2023-07-24T13:49:42.045083Z"
    }
   },
   "outputs": [
    {
     "data": {
      "text/plain": [
       "(27375, 5)"
      ]
     },
     "execution_count": 6,
     "metadata": {},
     "output_type": "execute_result"
    }
   ],
   "source": [
    "test_df = pd.read_csv('input/test.csv')\n",
    "test_df.shape"
   ]
  },
  {
   "cell_type": "code",
   "execution_count": 7,
   "id": "eb6b79b5",
   "metadata": {
    "ExecuteTime": {
     "end_time": "2023-07-24T13:49:42.114174Z",
     "start_time": "2023-07-24T13:49:42.097271Z"
    }
   },
   "outputs": [
    {
     "name": "stdout",
     "output_type": "stream",
     "text": [
      "(27375, 2)\n"
     ]
    },
    {
     "data": {
      "text/html": [
       "<div>\n",
       "<style scoped>\n",
       "    .dataframe tbody tr th:only-of-type {\n",
       "        vertical-align: middle;\n",
       "    }\n",
       "\n",
       "    .dataframe tbody tr th {\n",
       "        vertical-align: top;\n",
       "    }\n",
       "\n",
       "    .dataframe thead th {\n",
       "        text-align: right;\n",
       "    }\n",
       "</style>\n",
       "<table border=\"1\" class=\"dataframe\">\n",
       "  <thead>\n",
       "    <tr style=\"text-align: right;\">\n",
       "      <th></th>\n",
       "      <th>id</th>\n",
       "      <th>num_sold</th>\n",
       "    </tr>\n",
       "  </thead>\n",
       "  <tbody>\n",
       "    <tr>\n",
       "      <th>0</th>\n",
       "      <td>136950</td>\n",
       "      <td>100</td>\n",
       "    </tr>\n",
       "  </tbody>\n",
       "</table>\n",
       "</div>"
      ],
      "text/plain": [
       "       id  num_sold\n",
       "0  136950       100"
      ]
     },
     "execution_count": 7,
     "metadata": {},
     "output_type": "execute_result"
    }
   ],
   "source": [
    "sample_sub = pd.read_csv('input/sample_submission.csv')\n",
    "print(sample_sub.shape)\n",
    "sample_sub.head(1)"
   ]
  },
  {
   "cell_type": "markdown",
   "id": "6e103bec",
   "metadata": {},
   "source": [
    "## Data Examination"
   ]
  },
  {
   "cell_type": "markdown",
   "id": "cfc4b463",
   "metadata": {},
   "source": [
    "### Column Check"
   ]
  },
  {
   "cell_type": "markdown",
   "id": "7557f827",
   "metadata": {},
   "source": [
    "#### No duplicate `id`"
   ]
  },
  {
   "cell_type": "code",
   "execution_count": 8,
   "id": "2a0985df",
   "metadata": {
    "ExecuteTime": {
     "end_time": "2023-07-24T13:49:44.280214Z",
     "start_time": "2023-07-24T13:49:44.269173Z"
    }
   },
   "outputs": [
    {
     "data": {
      "text/plain": [
       "((136950,), (27375,))"
      ]
     },
     "execution_count": 8,
     "metadata": {},
     "output_type": "execute_result"
    }
   ],
   "source": [
    "train_df.id.unique().shape, test_df.id.unique().shape"
   ]
  },
  {
   "cell_type": "markdown",
   "id": "a0000f87",
   "metadata": {},
   "source": [
    "#### No new `country` shows up in the test set"
   ]
  },
  {
   "cell_type": "code",
   "execution_count": 9,
   "id": "ba719fe3",
   "metadata": {
    "ExecuteTime": {
     "end_time": "2023-07-24T13:49:44.958668Z",
     "start_time": "2023-07-24T13:49:44.927056Z"
    }
   },
   "outputs": [
    {
     "data": {
      "text/plain": [
       "(array(['Argentina', 'Canada', 'Estonia', 'Japan', 'Spain'], dtype=object),\n",
       " array(['Argentina', 'Canada', 'Estonia', 'Japan', 'Spain'], dtype=object))"
      ]
     },
     "execution_count": 9,
     "metadata": {},
     "output_type": "execute_result"
    }
   ],
   "source": [
    "train_df.country.unique(), test_df.country.unique()"
   ]
  },
  {
   "cell_type": "markdown",
   "id": "4487ae60",
   "metadata": {},
   "source": [
    "#### No new `store` shows up in the test set"
   ]
  },
  {
   "cell_type": "code",
   "execution_count": 10,
   "id": "23150bca",
   "metadata": {
    "ExecuteTime": {
     "end_time": "2023-07-24T13:49:45.365672Z",
     "start_time": "2023-07-24T13:49:45.350803Z"
    }
   },
   "outputs": [
    {
     "data": {
      "text/plain": [
       "(array(['Kaggle Learn', 'Kaggle Store', 'Kagglazon'], dtype=object),\n",
       " array(['Kaggle Learn', 'Kaggle Store', 'Kagglazon'], dtype=object))"
      ]
     },
     "execution_count": 10,
     "metadata": {},
     "output_type": "execute_result"
    }
   ],
   "source": [
    "train_df.store.unique(), test_df.store.unique()"
   ]
  },
  {
   "cell_type": "markdown",
   "id": "a6060720",
   "metadata": {},
   "source": [
    "#### No new `product` shows up in the test set"
   ]
  },
  {
   "cell_type": "code",
   "execution_count": 11,
   "id": "f724da8b",
   "metadata": {
    "ExecuteTime": {
     "end_time": "2023-07-24T13:49:45.959842Z",
     "start_time": "2023-07-24T13:49:45.939945Z"
    }
   },
   "outputs": [
    {
     "data": {
      "text/plain": [
       "(array(['Using LLMs to Improve Your Coding',\n",
       "        'Using LLMs to Train More LLMs',\n",
       "        'Using LLMs to Win Friends and Influence People',\n",
       "        'Using LLMs to Win More Kaggle Competitions',\n",
       "        'Using LLMs to Write Better'], dtype=object),\n",
       " array(['Using LLMs to Improve Your Coding',\n",
       "        'Using LLMs to Train More LLMs',\n",
       "        'Using LLMs to Win Friends and Influence People',\n",
       "        'Using LLMs to Win More Kaggle Competitions',\n",
       "        'Using LLMs to Write Better'], dtype=object))"
      ]
     },
     "execution_count": 11,
     "metadata": {},
     "output_type": "execute_result"
    }
   ],
   "source": [
    "train_df['product'].unique(), test_df['product'].unique()"
   ]
  },
  {
   "cell_type": "markdown",
   "id": "8f52a91a",
   "metadata": {},
   "source": [
    "## EDA"
   ]
  },
  {
   "cell_type": "code",
   "execution_count": 12,
   "id": "f1286662",
   "metadata": {
    "ExecuteTime": {
     "end_time": "2023-07-24T13:49:48.242808Z",
     "start_time": "2023-07-24T13:49:47.211332Z"
    }
   },
   "outputs": [
    {
     "data": {
      "text/html": [
       "<div>\n",
       "<style scoped>\n",
       "    .dataframe tbody tr th:only-of-type {\n",
       "        vertical-align: middle;\n",
       "    }\n",
       "\n",
       "    .dataframe tbody tr th {\n",
       "        vertical-align: top;\n",
       "    }\n",
       "\n",
       "    .dataframe thead th {\n",
       "        text-align: right;\n",
       "    }\n",
       "</style>\n",
       "<table border=\"1\" class=\"dataframe\">\n",
       "  <thead>\n",
       "    <tr style=\"text-align: right;\">\n",
       "      <th>comb</th>\n",
       "      <th>Argentina|Kagglazon|Using LLMs to Improve Your Coding</th>\n",
       "      <th>Argentina|Kagglazon|Using LLMs to Train More LLMs</th>\n",
       "      <th>Argentina|Kagglazon|Using LLMs to Win Friends and Influence People</th>\n",
       "      <th>Argentina|Kagglazon|Using LLMs to Win More Kaggle Competitions</th>\n",
       "      <th>Argentina|Kagglazon|Using LLMs to Write Better</th>\n",
       "      <th>Argentina|Kaggle Learn|Using LLMs to Improve Your Coding</th>\n",
       "      <th>Argentina|Kaggle Learn|Using LLMs to Train More LLMs</th>\n",
       "      <th>Argentina|Kaggle Learn|Using LLMs to Win Friends and Influence People</th>\n",
       "      <th>Argentina|Kaggle Learn|Using LLMs to Win More Kaggle Competitions</th>\n",
       "      <th>Argentina|Kaggle Learn|Using LLMs to Write Better</th>\n",
       "      <th>...</th>\n",
       "      <th>Spain|Kaggle Learn|Using LLMs to Improve Your Coding</th>\n",
       "      <th>Spain|Kaggle Learn|Using LLMs to Train More LLMs</th>\n",
       "      <th>Spain|Kaggle Learn|Using LLMs to Win Friends and Influence People</th>\n",
       "      <th>Spain|Kaggle Learn|Using LLMs to Win More Kaggle Competitions</th>\n",
       "      <th>Spain|Kaggle Learn|Using LLMs to Write Better</th>\n",
       "      <th>Spain|Kaggle Store|Using LLMs to Improve Your Coding</th>\n",
       "      <th>Spain|Kaggle Store|Using LLMs to Train More LLMs</th>\n",
       "      <th>Spain|Kaggle Store|Using LLMs to Win Friends and Influence People</th>\n",
       "      <th>Spain|Kaggle Store|Using LLMs to Win More Kaggle Competitions</th>\n",
       "      <th>Spain|Kaggle Store|Using LLMs to Write Better</th>\n",
       "    </tr>\n",
       "    <tr>\n",
       "      <th>date</th>\n",
       "      <th></th>\n",
       "      <th></th>\n",
       "      <th></th>\n",
       "      <th></th>\n",
       "      <th></th>\n",
       "      <th></th>\n",
       "      <th></th>\n",
       "      <th></th>\n",
       "      <th></th>\n",
       "      <th></th>\n",
       "      <th></th>\n",
       "      <th></th>\n",
       "      <th></th>\n",
       "      <th></th>\n",
       "      <th></th>\n",
       "      <th></th>\n",
       "      <th></th>\n",
       "      <th></th>\n",
       "      <th></th>\n",
       "      <th></th>\n",
       "      <th></th>\n",
       "    </tr>\n",
       "  </thead>\n",
       "  <tbody>\n",
       "    <tr>\n",
       "      <th>2017-01-01</th>\n",
       "      <td>340</td>\n",
       "      <td>371</td>\n",
       "      <td>53</td>\n",
       "      <td>364</td>\n",
       "      <td>285</td>\n",
       "      <td>63</td>\n",
       "      <td>66</td>\n",
       "      <td>9</td>\n",
       "      <td>59</td>\n",
       "      <td>49</td>\n",
       "      <td>...</td>\n",
       "      <td>122</td>\n",
       "      <td>125</td>\n",
       "      <td>20</td>\n",
       "      <td>106</td>\n",
       "      <td>90</td>\n",
       "      <td>177</td>\n",
       "      <td>198</td>\n",
       "      <td>29</td>\n",
       "      <td>184</td>\n",
       "      <td>139</td>\n",
       "    </tr>\n",
       "    <tr>\n",
       "      <th>2017-01-02</th>\n",
       "      <td>250</td>\n",
       "      <td>273</td>\n",
       "      <td>52</td>\n",
       "      <td>236</td>\n",
       "      <td>206</td>\n",
       "      <td>51</td>\n",
       "      <td>47</td>\n",
       "      <td>7</td>\n",
       "      <td>43</td>\n",
       "      <td>35</td>\n",
       "      <td>...</td>\n",
       "      <td>106</td>\n",
       "      <td>100</td>\n",
       "      <td>13</td>\n",
       "      <td>94</td>\n",
       "      <td>68</td>\n",
       "      <td>145</td>\n",
       "      <td>140</td>\n",
       "      <td>22</td>\n",
       "      <td>125</td>\n",
       "      <td>110</td>\n",
       "    </tr>\n",
       "    <tr>\n",
       "      <th>2017-01-03</th>\n",
       "      <td>267</td>\n",
       "      <td>253</td>\n",
       "      <td>35</td>\n",
       "      <td>252</td>\n",
       "      <td>201</td>\n",
       "      <td>44</td>\n",
       "      <td>45</td>\n",
       "      <td>7</td>\n",
       "      <td>41</td>\n",
       "      <td>37</td>\n",
       "      <td>...</td>\n",
       "      <td>85</td>\n",
       "      <td>90</td>\n",
       "      <td>14</td>\n",
       "      <td>80</td>\n",
       "      <td>60</td>\n",
       "      <td>161</td>\n",
       "      <td>133</td>\n",
       "      <td>20</td>\n",
       "      <td>118</td>\n",
       "      <td>106</td>\n",
       "    </tr>\n",
       "    <tr>\n",
       "      <th>2017-01-04</th>\n",
       "      <td>236</td>\n",
       "      <td>243</td>\n",
       "      <td>34</td>\n",
       "      <td>224</td>\n",
       "      <td>194</td>\n",
       "      <td>44</td>\n",
       "      <td>42</td>\n",
       "      <td>7</td>\n",
       "      <td>40</td>\n",
       "      <td>32</td>\n",
       "      <td>...</td>\n",
       "      <td>79</td>\n",
       "      <td>76</td>\n",
       "      <td>13</td>\n",
       "      <td>69</td>\n",
       "      <td>69</td>\n",
       "      <td>128</td>\n",
       "      <td>121</td>\n",
       "      <td>19</td>\n",
       "      <td>126</td>\n",
       "      <td>99</td>\n",
       "    </tr>\n",
       "    <tr>\n",
       "      <th>2017-01-05</th>\n",
       "      <td>247</td>\n",
       "      <td>231</td>\n",
       "      <td>38</td>\n",
       "      <td>207</td>\n",
       "      <td>179</td>\n",
       "      <td>40</td>\n",
       "      <td>46</td>\n",
       "      <td>6</td>\n",
       "      <td>39</td>\n",
       "      <td>32</td>\n",
       "      <td>...</td>\n",
       "      <td>80</td>\n",
       "      <td>83</td>\n",
       "      <td>12</td>\n",
       "      <td>77</td>\n",
       "      <td>60</td>\n",
       "      <td>122</td>\n",
       "      <td>129</td>\n",
       "      <td>20</td>\n",
       "      <td>118</td>\n",
       "      <td>104</td>\n",
       "    </tr>\n",
       "  </tbody>\n",
       "</table>\n",
       "<p>5 rows × 75 columns</p>\n",
       "</div>"
      ],
      "text/plain": [
       "comb        Argentina|Kagglazon|Using LLMs to Improve Your Coding  \\\n",
       "date                                                                \n",
       "2017-01-01                                                340       \n",
       "2017-01-02                                                250       \n",
       "2017-01-03                                                267       \n",
       "2017-01-04                                                236       \n",
       "2017-01-05                                                247       \n",
       "\n",
       "comb        Argentina|Kagglazon|Using LLMs to Train More LLMs  \\\n",
       "date                                                            \n",
       "2017-01-01                                                371   \n",
       "2017-01-02                                                273   \n",
       "2017-01-03                                                253   \n",
       "2017-01-04                                                243   \n",
       "2017-01-05                                                231   \n",
       "\n",
       "comb        Argentina|Kagglazon|Using LLMs to Win Friends and Influence People  \\\n",
       "date                                                                             \n",
       "2017-01-01                                                 53                    \n",
       "2017-01-02                                                 52                    \n",
       "2017-01-03                                                 35                    \n",
       "2017-01-04                                                 34                    \n",
       "2017-01-05                                                 38                    \n",
       "\n",
       "comb        Argentina|Kagglazon|Using LLMs to Win More Kaggle Competitions  \\\n",
       "date                                                                         \n",
       "2017-01-01                                                364                \n",
       "2017-01-02                                                236                \n",
       "2017-01-03                                                252                \n",
       "2017-01-04                                                224                \n",
       "2017-01-05                                                207                \n",
       "\n",
       "comb        Argentina|Kagglazon|Using LLMs to Write Better  \\\n",
       "date                                                         \n",
       "2017-01-01                                             285   \n",
       "2017-01-02                                             206   \n",
       "2017-01-03                                             201   \n",
       "2017-01-04                                             194   \n",
       "2017-01-05                                             179   \n",
       "\n",
       "comb        Argentina|Kaggle Learn|Using LLMs to Improve Your Coding  \\\n",
       "date                                                                   \n",
       "2017-01-01                                                 63          \n",
       "2017-01-02                                                 51          \n",
       "2017-01-03                                                 44          \n",
       "2017-01-04                                                 44          \n",
       "2017-01-05                                                 40          \n",
       "\n",
       "comb        Argentina|Kaggle Learn|Using LLMs to Train More LLMs  \\\n",
       "date                                                               \n",
       "2017-01-01                                                 66      \n",
       "2017-01-02                                                 47      \n",
       "2017-01-03                                                 45      \n",
       "2017-01-04                                                 42      \n",
       "2017-01-05                                                 46      \n",
       "\n",
       "comb        Argentina|Kaggle Learn|Using LLMs to Win Friends and Influence People  \\\n",
       "date                                                                                \n",
       "2017-01-01                                                  9                       \n",
       "2017-01-02                                                  7                       \n",
       "2017-01-03                                                  7                       \n",
       "2017-01-04                                                  7                       \n",
       "2017-01-05                                                  6                       \n",
       "\n",
       "comb        Argentina|Kaggle Learn|Using LLMs to Win More Kaggle Competitions  \\\n",
       "date                                                                            \n",
       "2017-01-01                                                 59                   \n",
       "2017-01-02                                                 43                   \n",
       "2017-01-03                                                 41                   \n",
       "2017-01-04                                                 40                   \n",
       "2017-01-05                                                 39                   \n",
       "\n",
       "comb        Argentina|Kaggle Learn|Using LLMs to Write Better  ...  \\\n",
       "date                                                           ...   \n",
       "2017-01-01                                                 49  ...   \n",
       "2017-01-02                                                 35  ...   \n",
       "2017-01-03                                                 37  ...   \n",
       "2017-01-04                                                 32  ...   \n",
       "2017-01-05                                                 32  ...   \n",
       "\n",
       "comb        Spain|Kaggle Learn|Using LLMs to Improve Your Coding  \\\n",
       "date                                                               \n",
       "2017-01-01                                                122      \n",
       "2017-01-02                                                106      \n",
       "2017-01-03                                                 85      \n",
       "2017-01-04                                                 79      \n",
       "2017-01-05                                                 80      \n",
       "\n",
       "comb        Spain|Kaggle Learn|Using LLMs to Train More LLMs  \\\n",
       "date                                                           \n",
       "2017-01-01                                               125   \n",
       "2017-01-02                                               100   \n",
       "2017-01-03                                                90   \n",
       "2017-01-04                                                76   \n",
       "2017-01-05                                                83   \n",
       "\n",
       "comb        Spain|Kaggle Learn|Using LLMs to Win Friends and Influence People  \\\n",
       "date                                                                            \n",
       "2017-01-01                                                 20                   \n",
       "2017-01-02                                                 13                   \n",
       "2017-01-03                                                 14                   \n",
       "2017-01-04                                                 13                   \n",
       "2017-01-05                                                 12                   \n",
       "\n",
       "comb        Spain|Kaggle Learn|Using LLMs to Win More Kaggle Competitions  \\\n",
       "date                                                                        \n",
       "2017-01-01                                                106               \n",
       "2017-01-02                                                 94               \n",
       "2017-01-03                                                 80               \n",
       "2017-01-04                                                 69               \n",
       "2017-01-05                                                 77               \n",
       "\n",
       "comb        Spain|Kaggle Learn|Using LLMs to Write Better  \\\n",
       "date                                                        \n",
       "2017-01-01                                             90   \n",
       "2017-01-02                                             68   \n",
       "2017-01-03                                             60   \n",
       "2017-01-04                                             69   \n",
       "2017-01-05                                             60   \n",
       "\n",
       "comb        Spain|Kaggle Store|Using LLMs to Improve Your Coding  \\\n",
       "date                                                               \n",
       "2017-01-01                                                177      \n",
       "2017-01-02                                                145      \n",
       "2017-01-03                                                161      \n",
       "2017-01-04                                                128      \n",
       "2017-01-05                                                122      \n",
       "\n",
       "comb        Spain|Kaggle Store|Using LLMs to Train More LLMs  \\\n",
       "date                                                           \n",
       "2017-01-01                                               198   \n",
       "2017-01-02                                               140   \n",
       "2017-01-03                                               133   \n",
       "2017-01-04                                               121   \n",
       "2017-01-05                                               129   \n",
       "\n",
       "comb        Spain|Kaggle Store|Using LLMs to Win Friends and Influence People  \\\n",
       "date                                                                            \n",
       "2017-01-01                                                 29                   \n",
       "2017-01-02                                                 22                   \n",
       "2017-01-03                                                 20                   \n",
       "2017-01-04                                                 19                   \n",
       "2017-01-05                                                 20                   \n",
       "\n",
       "comb        Spain|Kaggle Store|Using LLMs to Win More Kaggle Competitions  \\\n",
       "date                                                                        \n",
       "2017-01-01                                                184               \n",
       "2017-01-02                                                125               \n",
       "2017-01-03                                                118               \n",
       "2017-01-04                                                126               \n",
       "2017-01-05                                                118               \n",
       "\n",
       "comb        Spain|Kaggle Store|Using LLMs to Write Better  \n",
       "date                                                       \n",
       "2017-01-01                                            139  \n",
       "2017-01-02                                            110  \n",
       "2017-01-03                                            106  \n",
       "2017-01-04                                             99  \n",
       "2017-01-05                                            104  \n",
       "\n",
       "[5 rows x 75 columns]"
      ]
     },
     "execution_count": 12,
     "metadata": {},
     "output_type": "execute_result"
    }
   ],
   "source": [
    "cats = ['country', 'store', 'product']\n",
    "temp = train_df.copy()\n",
    "temp['comb'] = temp[cats].apply(lambda x: '|'.join(list(x)), \n",
    "                                axis=1)\n",
    "temp = temp.pivot(index='date', \n",
    "                  columns='comb',\n",
    "                  values='num_sold')\n",
    "temp.head()"
   ]
  },
  {
   "cell_type": "code",
   "execution_count": 13,
   "id": "c1d5d78f",
   "metadata": {
    "ExecuteTime": {
     "end_time": "2023-07-24T13:49:52.118511Z",
     "start_time": "2023-07-24T13:49:48.350123Z"
    }
   },
   "outputs": [
    {
     "data": {
      "image/png": "[encoded data removed]",
      "text/plain": [
       "<Figure size 1200x800 with 1 Axes>"
      ]
     },
     "metadata": {},
     "output_type": "display_data"
    }
   ],
   "source": [
    "figsize(12, 8)\n",
    "\n",
    "fig, ax = plt.subplots(1, 1)\n",
    "\n",
    "for col in temp.columns:\n",
    "    if col.startswith('Argentina|Kagglazon'):\n",
    "        sns.lineplot(temp.index,\n",
    "                     temp[col],\n",
    "                     label=col)\n",
    "plt.legend()\n",
    "\n",
    "xticklabels = [x.get_text() for x in ax.get_xticklabels()]\n",
    "xticks = []\n",
    "xlabels = []\n",
    "for i, label in enumerate(xticklabels, 0):\n",
    "    if label.endswith('-01'):\n",
    "        xlabels.append(label)\n",
    "        xticks.append(i)\n",
    "        \n",
    "_ = ax.set_xticks(xticks, xlabels, rotation=90)"
   ]
  },
  {
   "cell_type": "markdown",
   "id": "fa899ecf",
   "metadata": {},
   "source": [
    "## Modeling"
   ]
  },
  {
   "cell_type": "code",
   "execution_count": 14,
   "id": "84c0c8e3",
   "metadata": {
    "ExecuteTime": {
     "end_time": "2023-07-24T13:49:53.112125Z",
     "start_time": "2023-07-24T13:49:52.121686Z"
    }
   },
   "outputs": [],
   "source": [
    "train_df['comb'] = train_df[cats].apply(lambda x: '|'.join(list(x)), \n",
    "                                        axis=1)"
   ]
  },
  {
   "cell_type": "code",
   "execution_count": 15,
   "id": "e2810ce4",
   "metadata": {
    "ExecuteTime": {
     "end_time": "2023-07-24T13:49:53.120612Z",
     "start_time": "2023-07-24T13:49:53.114667Z"
    }
   },
   "outputs": [],
   "source": [
    "train_df['y'] = train_df['num_sold']\n",
    "train_df['ds'] = train_df['date']"
   ]
  },
  {
   "cell_type": "code",
   "execution_count": 16,
   "id": "b49d7b72",
   "metadata": {
    "ExecuteTime": {
     "end_time": "2023-07-24T13:49:53.152720Z",
     "start_time": "2023-07-24T13:49:53.126228Z"
    }
   },
   "outputs": [
    {
     "data": {
      "text/plain": [
       "75"
      ]
     },
     "execution_count": 16,
     "metadata": {},
     "output_type": "execute_result"
    }
   ],
   "source": [
    "groups_by_comb = train_df.groupby('comb')\n",
    "len(groups_by_comb.groups.keys())"
   ]
  },
  {
   "cell_type": "markdown",
   "id": "34acbc39",
   "metadata": {},
   "source": [
    "### Define Function"
   ]
  },
  {
   "cell_type": "code",
   "execution_count": 17,
   "id": "61c45555",
   "metadata": {
    "ExecuteTime": {
     "end_time": "2023-07-24T13:50:04.309598Z",
     "start_time": "2023-07-24T13:50:04.305048Z"
    }
   },
   "outputs": [],
   "source": [
    "def train_and_forecast(group):\n",
    "    # Train\n",
    "    m = Prophet()\n",
    "    m.fit(group)\n",
    "    \n",
    "    # Predict\n",
    "    future = m.make_future_dataframe(periods=365)\n",
    "    forecast = m.predict(future)[['ds', 'yhat', 'yhat_lower', 'yhat_upper']]\n",
    "    forecast['comb'] = group['comb'].iloc[0]\n",
    "    \n",
    "    # Return \n",
    "    return m, forecast[['ds', 'comb', 'yhat', 'yhat_upper', 'yhat_lower']]"
   ]
  },
  {
   "cell_type": "code",
   "execution_count": 18,
   "id": "164c0068",
   "metadata": {
    "ExecuteTime": {
     "end_time": "2023-07-24T13:51:35.867139Z",
     "start_time": "2023-07-24T13:50:21.036549Z"
    }
   },
   "outputs": [
    {
     "name": "stderr",
     "output_type": "stream",
     "text": [
      "14:50:21 - cmdstanpy - INFO - Chain [1] start processing\n",
      "14:50:21 - cmdstanpy - INFO - Chain [1] done processing\n",
      "14:50:22 - cmdstanpy - INFO - Chain [1] start processing\n",
      "14:50:22 - cmdstanpy - INFO - Chain [1] done processing\n",
      "14:50:23 - cmdstanpy - INFO - Chain [1] start processing\n",
      "14:50:23 - cmdstanpy - INFO - Chain [1] done processing\n",
      "14:50:24 - cmdstanpy - INFO - Chain [1] start processing\n",
      "14:50:24 - cmdstanpy - INFO - Chain [1] done processing\n",
      "14:50:25 - cmdstanpy - INFO - Chain [1] start processing\n",
      "14:50:25 - cmdstanpy - INFO - Chain [1] done processing\n",
      "14:50:26 - cmdstanpy - INFO - Chain [1] start processing\n",
      "14:50:26 - cmdstanpy - INFO - Chain [1] done processing\n",
      "14:50:27 - cmdstanpy - INFO - Chain [1] start processing\n",
      "14:50:27 - cmdstanpy - INFO - Chain [1] done processing\n",
      "14:50:28 - cmdstanpy - INFO - Chain [1] start processing\n",
      "14:50:28 - cmdstanpy - INFO - Chain [1] done processing\n",
      "14:50:28 - cmdstanpy - INFO - Chain [1] start processing\n",
      "14:50:29 - cmdstanpy - INFO - Chain [1] done processing\n",
      "14:50:29 - cmdstanpy - INFO - Chain [1] start processing\n",
      "14:50:30 - cmdstanpy - INFO - Chain [1] done processing\n",
      "14:50:30 - cmdstanpy - INFO - Chain [1] start processing\n",
      "14:50:31 - cmdstanpy - INFO - Chain [1] done processing\n",
      "14:50:31 - cmdstanpy - INFO - Chain [1] start processing\n",
      "14:50:32 - cmdstanpy - INFO - Chain [1] done processing\n",
      "14:50:32 - cmdstanpy - INFO - Chain [1] start processing\n",
      "14:50:33 - cmdstanpy - INFO - Chain [1] done processing\n",
      "14:50:33 - cmdstanpy - INFO - Chain [1] start processing\n",
      "14:50:34 - cmdstanpy - INFO - Chain [1] done processing\n",
      "14:50:34 - cmdstanpy - INFO - Chain [1] start processing\n",
      "14:50:35 - cmdstanpy - INFO - Chain [1] done processing\n",
      "14:50:35 - cmdstanpy - INFO - Chain [1] start processing\n",
      "14:50:36 - cmdstanpy - INFO - Chain [1] done processing\n",
      "14:50:36 - cmdstanpy - INFO - Chain [1] start processing\n",
      "14:50:36 - cmdstanpy - INFO - Chain [1] done processing\n",
      "14:50:37 - cmdstanpy - INFO - Chain [1] start processing\n",
      "14:50:38 - cmdstanpy - INFO - Chain [1] done processing\n",
      "14:50:38 - cmdstanpy - INFO - Chain [1] start processing\n",
      "14:50:39 - cmdstanpy - INFO - Chain [1] done processing\n",
      "14:50:39 - cmdstanpy - INFO - Chain [1] start processing\n",
      "14:50:40 - cmdstanpy - INFO - Chain [1] done processing\n",
      "14:50:40 - cmdstanpy - INFO - Chain [1] start processing\n",
      "14:50:40 - cmdstanpy - INFO - Chain [1] done processing\n",
      "14:50:41 - cmdstanpy - INFO - Chain [1] start processing\n",
      "14:50:41 - cmdstanpy - INFO - Chain [1] done processing\n",
      "14:50:42 - cmdstanpy - INFO - Chain [1] start processing\n",
      "14:50:42 - cmdstanpy - INFO - Chain [1] done processing\n",
      "14:50:43 - cmdstanpy - INFO - Chain [1] start processing\n",
      "14:50:43 - cmdstanpy - INFO - Chain [1] done processing\n",
      "14:50:44 - cmdstanpy - INFO - Chain [1] start processing\n",
      "14:50:44 - cmdstanpy - INFO - Chain [1] done processing\n",
      "14:50:45 - cmdstanpy - INFO - Chain [1] start processing\n",
      "14:50:45 - cmdstanpy - INFO - Chain [1] done processing\n",
      "14:50:46 - cmdstanpy - INFO - Chain [1] start processing\n",
      "14:50:47 - cmdstanpy - INFO - Chain [1] done processing\n",
      "14:50:47 - cmdstanpy - INFO - Chain [1] start processing\n",
      "14:50:48 - cmdstanpy - INFO - Chain [1] done processing\n",
      "14:50:48 - cmdstanpy - INFO - Chain [1] start processing\n",
      "14:50:49 - cmdstanpy - INFO - Chain [1] done processing\n",
      "14:50:49 - cmdstanpy - INFO - Chain [1] start processing\n",
      "14:50:50 - cmdstanpy - INFO - Chain [1] done processing\n",
      "14:50:50 - cmdstanpy - INFO - Chain [1] start processing\n",
      "14:50:51 - cmdstanpy - INFO - Chain [1] done processing\n",
      "14:50:51 - cmdstanpy - INFO - Chain [1] start processing\n",
      "14:50:52 - cmdstanpy - INFO - Chain [1] done processing\n",
      "14:50:52 - cmdstanpy - INFO - Chain [1] start processing\n",
      "14:50:53 - cmdstanpy - INFO - Chain [1] done processing\n",
      "14:50:53 - cmdstanpy - INFO - Chain [1] start processing\n",
      "14:50:54 - cmdstanpy - INFO - Chain [1] done processing\n",
      "14:50:55 - cmdstanpy - INFO - Chain [1] start processing\n",
      "14:50:55 - cmdstanpy - INFO - Chain [1] done processing\n",
      "14:50:56 - cmdstanpy - INFO - Chain [1] start processing\n",
      "14:50:56 - cmdstanpy - INFO - Chain [1] done processing\n",
      "14:50:57 - cmdstanpy - INFO - Chain [1] start processing\n",
      "14:50:57 - cmdstanpy - INFO - Chain [1] done processing\n",
      "14:50:58 - cmdstanpy - INFO - Chain [1] start processing\n",
      "14:50:58 - cmdstanpy - INFO - Chain [1] done processing\n",
      "14:50:59 - cmdstanpy - INFO - Chain [1] start processing\n",
      "14:50:59 - cmdstanpy - INFO - Chain [1] done processing\n",
      "14:51:00 - cmdstanpy - INFO - Chain [1] start processing\n",
      "14:51:00 - cmdstanpy - INFO - Chain [1] done processing\n",
      "14:51:01 - cmdstanpy - INFO - Chain [1] start processing\n",
      "14:51:01 - cmdstanpy - INFO - Chain [1] done processing\n",
      "14:51:02 - cmdstanpy - INFO - Chain [1] start processing\n",
      "14:51:02 - cmdstanpy - INFO - Chain [1] done processing\n",
      "14:51:03 - cmdstanpy - INFO - Chain [1] start processing\n",
      "14:51:03 - cmdstanpy - INFO - Chain [1] done processing\n",
      "14:51:04 - cmdstanpy - INFO - Chain [1] start processing\n",
      "14:51:05 - cmdstanpy - INFO - Chain [1] done processing\n",
      "14:51:05 - cmdstanpy - INFO - Chain [1] start processing\n",
      "14:51:06 - cmdstanpy - INFO - Chain [1] done processing\n",
      "14:51:06 - cmdstanpy - INFO - Chain [1] start processing\n",
      "14:51:07 - cmdstanpy - INFO - Chain [1] done processing\n",
      "14:51:07 - cmdstanpy - INFO - Chain [1] start processing\n",
      "14:51:08 - cmdstanpy - INFO - Chain [1] done processing\n",
      "14:51:08 - cmdstanpy - INFO - Chain [1] start processing\n",
      "14:51:08 - cmdstanpy - INFO - Chain [1] done processing\n",
      "14:51:09 - cmdstanpy - INFO - Chain [1] start processing\n",
      "14:51:10 - cmdstanpy - INFO - Chain [1] done processing\n",
      "14:51:10 - cmdstanpy - INFO - Chain [1] start processing\n",
      "14:51:11 - cmdstanpy - INFO - Chain [1] done processing\n",
      "14:51:11 - cmdstanpy - INFO - Chain [1] start processing\n",
      "14:51:11 - cmdstanpy - INFO - Chain [1] done processing\n",
      "14:51:12 - cmdstanpy - INFO - Chain [1] start processing\n",
      "14:51:12 - cmdstanpy - INFO - Chain [1] done processing\n",
      "14:51:13 - cmdstanpy - INFO - Chain [1] start processing\n",
      "14:51:13 - cmdstanpy - INFO - Chain [1] done processing\n",
      "14:51:14 - cmdstanpy - INFO - Chain [1] start processing\n",
      "14:51:14 - cmdstanpy - INFO - Chain [1] done processing\n",
      "14:51:15 - cmdstanpy - INFO - Chain [1] start processing\n",
      "14:51:16 - cmdstanpy - INFO - Chain [1] done processing\n",
      "14:51:16 - cmdstanpy - INFO - Chain [1] start processing\n",
      "14:51:17 - cmdstanpy - INFO - Chain [1] done processing\n",
      "14:51:17 - cmdstanpy - INFO - Chain [1] start processing\n",
      "14:51:18 - cmdstanpy - INFO - Chain [1] done processing\n",
      "14:51:18 - cmdstanpy - INFO - Chain [1] start processing\n",
      "14:51:19 - cmdstanpy - INFO - Chain [1] done processing\n",
      "14:51:19 - cmdstanpy - INFO - Chain [1] start processing\n",
      "14:51:20 - cmdstanpy - INFO - Chain [1] done processing\n",
      "14:51:20 - cmdstanpy - INFO - Chain [1] start processing\n",
      "14:51:20 - cmdstanpy - INFO - Chain [1] done processing\n",
      "14:51:21 - cmdstanpy - INFO - Chain [1] start processing\n",
      "14:51:22 - cmdstanpy - INFO - Chain [1] done processing\n",
      "14:51:22 - cmdstanpy - INFO - Chain [1] start processing\n",
      "14:51:22 - cmdstanpy - INFO - Chain [1] done processing\n",
      "14:51:23 - cmdstanpy - INFO - Chain [1] start processing\n",
      "14:51:23 - cmdstanpy - INFO - Chain [1] done processing\n",
      "14:51:24 - cmdstanpy - INFO - Chain [1] start processing\n",
      "14:51:24 - cmdstanpy - INFO - Chain [1] done processing\n",
      "14:51:25 - cmdstanpy - INFO - Chain [1] start processing\n",
      "14:51:25 - cmdstanpy - INFO - Chain [1] done processing\n",
      "14:51:26 - cmdstanpy - INFO - Chain [1] start processing\n",
      "14:51:26 - cmdstanpy - INFO - Chain [1] done processing\n",
      "14:51:27 - cmdstanpy - INFO - Chain [1] start processing\n",
      "14:51:27 - cmdstanpy - INFO - Chain [1] done processing\n",
      "14:51:28 - cmdstanpy - INFO - Chain [1] start processing\n",
      "14:51:28 - cmdstanpy - INFO - Chain [1] done processing\n",
      "14:51:29 - cmdstanpy - INFO - Chain [1] start processing\n",
      "14:51:29 - cmdstanpy - INFO - Chain [1] done processing\n",
      "14:51:30 - cmdstanpy - INFO - Chain [1] start processing\n",
      "14:51:30 - cmdstanpy - INFO - Chain [1] done processing\n",
      "14:51:31 - cmdstanpy - INFO - Chain [1] start processing\n",
      "14:51:31 - cmdstanpy - INFO - Chain [1] done processing\n",
      "14:51:32 - cmdstanpy - INFO - Chain [1] start processing\n",
      "14:51:32 - cmdstanpy - INFO - Chain [1] done processing\n",
      "14:51:33 - cmdstanpy - INFO - Chain [1] start processing\n"
     ]
    },
    {
     "name": "stderr",
     "output_type": "stream",
     "text": [
      "14:51:33 - cmdstanpy - INFO - Chain [1] done processing\n",
      "14:51:34 - cmdstanpy - INFO - Chain [1] start processing\n",
      "14:51:34 - cmdstanpy - INFO - Chain [1] done processing\n",
      "14:51:35 - cmdstanpy - INFO - Chain [1] start processing\n",
      "14:51:35 - cmdstanpy - INFO - Chain [1] done processing\n"
     ]
    },
    {
     "data": {
      "text/html": [
       "<div>\n",
       "<style scoped>\n",
       "    .dataframe tbody tr th:only-of-type {\n",
       "        vertical-align: middle;\n",
       "    }\n",
       "\n",
       "    .dataframe tbody tr th {\n",
       "        vertical-align: top;\n",
       "    }\n",
       "\n",
       "    .dataframe thead th {\n",
       "        text-align: right;\n",
       "    }\n",
       "</style>\n",
       "<table border=\"1\" class=\"dataframe\">\n",
       "  <thead>\n",
       "    <tr style=\"text-align: right;\">\n",
       "      <th></th>\n",
       "      <th>ds</th>\n",
       "      <th>comb</th>\n",
       "      <th>yhat</th>\n",
       "      <th>yhat_upper</th>\n",
       "      <th>yhat_lower</th>\n",
       "    </tr>\n",
       "  </thead>\n",
       "  <tbody>\n",
       "    <tr>\n",
       "      <th>0</th>\n",
       "      <td>2017-01-01</td>\n",
       "      <td>Argentina|Kaggle Learn|Using LLMs to Improve Y...</td>\n",
       "      <td>47.382357</td>\n",
       "      <td>50.954983</td>\n",
       "      <td>43.682469</td>\n",
       "    </tr>\n",
       "    <tr>\n",
       "      <th>1</th>\n",
       "      <td>2017-01-02</td>\n",
       "      <td>Argentina|Kaggle Learn|Using LLMs to Improve Y...</td>\n",
       "      <td>41.278726</td>\n",
       "      <td>45.091134</td>\n",
       "      <td>38.112695</td>\n",
       "    </tr>\n",
       "    <tr>\n",
       "      <th>2</th>\n",
       "      <td>2017-01-03</td>\n",
       "      <td>Argentina|Kaggle Learn|Using LLMs to Improve Y...</td>\n",
       "      <td>40.747431</td>\n",
       "      <td>44.335999</td>\n",
       "      <td>36.924841</td>\n",
       "    </tr>\n",
       "    <tr>\n",
       "      <th>3</th>\n",
       "      <td>2017-01-04</td>\n",
       "      <td>Argentina|Kaggle Learn|Using LLMs to Improve Y...</td>\n",
       "      <td>40.520659</td>\n",
       "      <td>44.244781</td>\n",
       "      <td>36.946607</td>\n",
       "    </tr>\n",
       "    <tr>\n",
       "      <th>4</th>\n",
       "      <td>2017-01-05</td>\n",
       "      <td>Argentina|Kaggle Learn|Using LLMs to Improve Y...</td>\n",
       "      <td>40.254745</td>\n",
       "      <td>43.771878</td>\n",
       "      <td>36.718684</td>\n",
       "    </tr>\n",
       "  </tbody>\n",
       "</table>\n",
       "</div>"
      ],
      "text/plain": [
       "          ds                                               comb       yhat  \\\n",
       "0 2017-01-01  Argentina|Kaggle Learn|Using LLMs to Improve Y...  47.382357   \n",
       "1 2017-01-02  Argentina|Kaggle Learn|Using LLMs to Improve Y...  41.278726   \n",
       "2 2017-01-03  Argentina|Kaggle Learn|Using LLMs to Improve Y...  40.747431   \n",
       "3 2017-01-04  Argentina|Kaggle Learn|Using LLMs to Improve Y...  40.520659   \n",
       "4 2017-01-05  Argentina|Kaggle Learn|Using LLMs to Improve Y...  40.254745   \n",
       "\n",
       "   yhat_upper  yhat_lower  \n",
       "0   50.954983   43.682469  \n",
       "1   45.091134   38.112695  \n",
       "2   44.335999   36.924841  \n",
       "3   44.244781   36.946607  \n",
       "4   43.771878   36.718684  "
      ]
     },
     "execution_count": 18,
     "metadata": {},
     "output_type": "execute_result"
    }
   ],
   "source": [
    "preds = pd.DataFrame()\n",
    "models = []\n",
    "\n",
    "for comb in train_df.comb.unique():\n",
    "    group = groups_by_comb.get_group(comb)\n",
    "    m, forecast = train_and_forecast(group)\n",
    "    preds = pd.concat((preds, forecast))\n",
    "    models.append(m)\n",
    "    \n",
    "preds.head()"
   ]
  },
  {
   "cell_type": "markdown",
   "id": "53fd5c98",
   "metadata": {},
   "source": [
    "## Evaluation"
   ]
  },
  {
   "cell_type": "code",
   "execution_count": 48,
   "id": "8d3fa334",
   "metadata": {
    "ExecuteTime": {
     "end_time": "2023-07-24T14:08:54.191249Z",
     "start_time": "2023-07-24T14:08:54.186771Z"
    }
   },
   "outputs": [],
   "source": [
    "def get_smape(m):\n",
    "    m_cv = cross_validation(model=m, \n",
    "                            initial='1000 days',\n",
    "                            period='30 days',\n",
    "                            horizon='365 days')\n",
    "    pm = performance_metrics(m_cv)\n",
    "    return pm[pm['horizon'] == '365 days']['smape'].values[0]"
   ]
  },
  {
   "cell_type": "code",
   "execution_count": 50,
   "id": "c1f46e86",
   "metadata": {
    "ExecuteTime": {
     "end_time": "2023-07-24T14:19:54.311444Z",
     "start_time": "2023-07-24T14:10:45.899592Z"
    }
   },
   "outputs": [
    {
     "name": "stderr",
     "output_type": "stream",
     "text": [
      "\r",
      "  0%|                                                    | 0/75 [00:00<?, ?it/s]"
     ]
    },
    {
     "data": {
      "application/vnd.jupyter.widget-view+json": {
       "model_id": "b3d73db904bc4098ad2fec4be0e423dd",
       "version_major": 2,
       "version_minor": 0
      },
      "text/plain": [
       "  0%|          | 0/16 [00:00<?, ?it/s]"
      ]
     },
     "metadata": {},
     "output_type": "display_data"
    },
    {
     "name": "stderr",
     "output_type": "stream",
     "text": [
      "15:10:46 - cmdstanpy - INFO - Chain [1] start processing\n",
      "15:10:46 - cmdstanpy - INFO - Chain [1] done processing\n",
      "15:10:46 - cmdstanpy - INFO - Chain [1] start processing\n",
      "15:10:46 - cmdstanpy - INFO - Chain [1] done processing\n",
      "15:10:46 - cmdstanpy - INFO - Chain [1] start processing\n",
      "15:10:47 - cmdstanpy - INFO - Chain [1] done processing\n",
      "15:10:47 - cmdstanpy - INFO - Chain [1] start processing\n",
      "15:10:47 - cmdstanpy - INFO - Chain [1] done processing\n",
      "15:10:47 - cmdstanpy - INFO - Chain [1] start processing\n",
      "15:10:47 - cmdstanpy - INFO - Chain [1] done processing\n",
      "15:10:48 - cmdstanpy - INFO - Chain [1] start processing\n",
      "15:10:48 - cmdstanpy - INFO - Chain [1] done processing\n",
      "15:10:48 - cmdstanpy - INFO - Chain [1] start processing\n",
      "15:10:48 - cmdstanpy - INFO - Chain [1] done processing\n",
      "15:10:48 - cmdstanpy - INFO - Chain [1] start processing\n",
      "15:10:49 - cmdstanpy - INFO - Chain [1] done processing\n",
      "15:10:49 - cmdstanpy - INFO - Chain [1] start processing\n",
      "15:10:49 - cmdstanpy - INFO - Chain [1] done processing\n",
      "15:10:49 - cmdstanpy - INFO - Chain [1] start processing\n",
      "15:10:50 - cmdstanpy - INFO - Chain [1] done processing\n",
      "15:10:50 - cmdstanpy - INFO - Chain [1] start processing\n",
      "15:10:50 - cmdstanpy - INFO - Chain [1] done processing\n",
      "15:10:50 - cmdstanpy - INFO - Chain [1] start processing\n",
      "15:10:50 - cmdstanpy - INFO - Chain [1] done processing\n",
      "15:10:51 - cmdstanpy - INFO - Chain [1] start processing\n",
      "15:10:51 - cmdstanpy - INFO - Chain [1] done processing\n",
      "15:10:51 - cmdstanpy - INFO - Chain [1] start processing\n",
      "15:10:51 - cmdstanpy - INFO - Chain [1] done processing\n",
      "15:10:51 - cmdstanpy - INFO - Chain [1] start processing\n",
      "15:10:52 - cmdstanpy - INFO - Chain [1] done processing\n",
      "15:10:52 - cmdstanpy - INFO - Chain [1] start processing\n",
      "15:10:52 - cmdstanpy - INFO - Chain [1] done processing\n",
      "  1%|▌                                           | 1/75 [00:07<09:38,  7.82s/it]"
     ]
    },
    {
     "data": {
      "application/vnd.jupyter.widget-view+json": {
       "model_id": "6d5f69e43b764442b7e8f531e14c2d03",
       "version_major": 2,
       "version_minor": 0
      },
      "text/plain": [
       "  0%|          | 0/16 [00:00<?, ?it/s]"
      ]
     },
     "metadata": {},
     "output_type": "display_data"
    },
    {
     "name": "stderr",
     "output_type": "stream",
     "text": [
      "15:10:53 - cmdstanpy - INFO - Chain [1] start processing\n",
      "15:10:53 - cmdstanpy - INFO - Chain [1] done processing\n",
      "15:10:54 - cmdstanpy - INFO - Chain [1] start processing\n",
      "15:10:54 - cmdstanpy - INFO - Chain [1] done processing\n",
      "15:10:54 - cmdstanpy - INFO - Chain [1] start processing\n",
      "15:10:54 - cmdstanpy - INFO - Chain [1] done processing\n",
      "15:10:55 - cmdstanpy - INFO - Chain [1] start processing\n",
      "15:10:55 - cmdstanpy - INFO - Chain [1] done processing\n",
      "15:10:55 - cmdstanpy - INFO - Chain [1] start processing\n",
      "15:10:55 - cmdstanpy - INFO - Chain [1] done processing\n",
      "15:10:55 - cmdstanpy - INFO - Chain [1] start processing\n",
      "15:10:55 - cmdstanpy - INFO - Chain [1] done processing\n",
      "15:10:56 - cmdstanpy - INFO - Chain [1] start processing\n",
      "15:10:56 - cmdstanpy - INFO - Chain [1] done processing\n",
      "15:10:56 - cmdstanpy - INFO - Chain [1] start processing\n",
      "15:10:56 - cmdstanpy - INFO - Chain [1] done processing\n",
      "15:10:56 - cmdstanpy - INFO - Chain [1] start processing\n",
      "15:10:57 - cmdstanpy - INFO - Chain [1] done processing\n",
      "15:10:57 - cmdstanpy - INFO - Chain [1] start processing\n",
      "15:10:57 - cmdstanpy - INFO - Chain [1] done processing\n",
      "15:10:57 - cmdstanpy - INFO - Chain [1] start processing\n",
      "15:10:57 - cmdstanpy - INFO - Chain [1] done processing\n",
      "15:10:58 - cmdstanpy - INFO - Chain [1] start processing\n",
      "15:10:58 - cmdstanpy - INFO - Chain [1] done processing\n",
      "15:10:58 - cmdstanpy - INFO - Chain [1] start processing\n",
      "15:10:58 - cmdstanpy - INFO - Chain [1] done processing\n",
      "15:10:58 - cmdstanpy - INFO - Chain [1] start processing\n",
      "15:10:59 - cmdstanpy - INFO - Chain [1] done processing\n",
      "15:10:59 - cmdstanpy - INFO - Chain [1] start processing\n",
      "15:10:59 - cmdstanpy - INFO - Chain [1] done processing\n",
      "15:10:59 - cmdstanpy - INFO - Chain [1] start processing\n",
      "15:10:59 - cmdstanpy - INFO - Chain [1] done processing\n",
      "  3%|█▏                                          | 2/75 [00:15<09:11,  7.55s/it]"
     ]
    },
    {
     "data": {
      "application/vnd.jupyter.widget-view+json": {
       "model_id": "b16c342283e74665bf027658ae3a225f",
       "version_major": 2,
       "version_minor": 0
      },
      "text/plain": [
       "  0%|          | 0/16 [00:00<?, ?it/s]"
      ]
     },
     "metadata": {},
     "output_type": "display_data"
    },
    {
     "name": "stderr",
     "output_type": "stream",
     "text": [
      "15:11:01 - cmdstanpy - INFO - Chain [1] start processing\n",
      "15:11:01 - cmdstanpy - INFO - Chain [1] done processing\n",
      "15:11:01 - cmdstanpy - INFO - Chain [1] start processing\n",
      "15:11:01 - cmdstanpy - INFO - Chain [1] done processing\n",
      "15:11:01 - cmdstanpy - INFO - Chain [1] start processing\n",
      "15:11:02 - cmdstanpy - INFO - Chain [1] done processing\n",
      "15:11:02 - cmdstanpy - INFO - Chain [1] start processing\n",
      "15:11:02 - cmdstanpy - INFO - Chain [1] done processing\n",
      "15:11:02 - cmdstanpy - INFO - Chain [1] start processing\n",
      "15:11:02 - cmdstanpy - INFO - Chain [1] done processing\n",
      "15:11:03 - cmdstanpy - INFO - Chain [1] start processing\n",
      "15:11:03 - cmdstanpy - INFO - Chain [1] done processing\n",
      "15:11:03 - cmdstanpy - INFO - Chain [1] start processing\n",
      "15:11:03 - cmdstanpy - INFO - Chain [1] done processing\n",
      "15:11:03 - cmdstanpy - INFO - Chain [1] start processing\n",
      "15:11:03 - cmdstanpy - INFO - Chain [1] done processing\n",
      "15:11:04 - cmdstanpy - INFO - Chain [1] start processing\n",
      "15:11:04 - cmdstanpy - INFO - Chain [1] done processing\n",
      "15:11:04 - cmdstanpy - INFO - Chain [1] start processing\n",
      "15:11:04 - cmdstanpy - INFO - Chain [1] done processing\n",
      "15:11:05 - cmdstanpy - INFO - Chain [1] start processing\n",
      "15:11:05 - cmdstanpy - INFO - Chain [1] done processing\n",
      "15:11:05 - cmdstanpy - INFO - Chain [1] start processing\n",
      "15:11:05 - cmdstanpy - INFO - Chain [1] done processing\n",
      "15:11:05 - cmdstanpy - INFO - Chain [1] start processing\n",
      "15:11:05 - cmdstanpy - INFO - Chain [1] done processing\n",
      "15:11:06 - cmdstanpy - INFO - Chain [1] start processing\n",
      "15:11:06 - cmdstanpy - INFO - Chain [1] done processing\n",
      "15:11:06 - cmdstanpy - INFO - Chain [1] start processing\n",
      "15:11:06 - cmdstanpy - INFO - Chain [1] done processing\n",
      "15:11:07 - cmdstanpy - INFO - Chain [1] start processing\n",
      "15:11:07 - cmdstanpy - INFO - Chain [1] done processing\n",
      "  4%|█▊                                          | 3/75 [00:22<08:53,  7.40s/it]"
     ]
    },
    {
     "data": {
      "application/vnd.jupyter.widget-view+json": {
       "model_id": "252ac22bd42c4e0cb7ad002e3d6b5bea",
       "version_major": 2,
       "version_minor": 0
      },
      "text/plain": [
       "  0%|          | 0/16 [00:00<?, ?it/s]"
      ]
     },
     "metadata": {},
     "output_type": "display_data"
    },
    {
     "name": "stderr",
     "output_type": "stream",
     "text": [
      "15:11:08 - cmdstanpy - INFO - Chain [1] start processing\n",
      "15:11:08 - cmdstanpy - INFO - Chain [1] done processing\n",
      "15:11:08 - cmdstanpy - INFO - Chain [1] start processing\n",
      "15:11:08 - cmdstanpy - INFO - Chain [1] done processing\n",
      "15:11:09 - cmdstanpy - INFO - Chain [1] start processing\n",
      "15:11:09 - cmdstanpy - INFO - Chain [1] done processing\n",
      "15:11:09 - cmdstanpy - INFO - Chain [1] start processing\n",
      "15:11:09 - cmdstanpy - INFO - Chain [1] done processing\n",
      "15:11:10 - cmdstanpy - INFO - Chain [1] start processing\n",
      "15:11:10 - cmdstanpy - INFO - Chain [1] done processing\n",
      "15:11:10 - cmdstanpy - INFO - Chain [1] start processing\n",
      "15:11:10 - cmdstanpy - INFO - Chain [1] done processing\n",
      "15:11:10 - cmdstanpy - INFO - Chain [1] start processing\n",
      "15:11:10 - cmdstanpy - INFO - Chain [1] done processing\n",
      "15:11:11 - cmdstanpy - INFO - Chain [1] start processing\n",
      "15:11:11 - cmdstanpy - INFO - Chain [1] done processing\n",
      "15:11:11 - cmdstanpy - INFO - Chain [1] start processing\n",
      "15:11:11 - cmdstanpy - INFO - Chain [1] done processing\n",
      "15:11:12 - cmdstanpy - INFO - Chain [1] start processing\n",
      "15:11:12 - cmdstanpy - INFO - Chain [1] done processing\n",
      "15:11:12 - cmdstanpy - INFO - Chain [1] start processing\n",
      "15:11:12 - cmdstanpy - INFO - Chain [1] done processing\n",
      "15:11:12 - cmdstanpy - INFO - Chain [1] start processing\n",
      "15:11:13 - cmdstanpy - INFO - Chain [1] done processing\n",
      "15:11:13 - cmdstanpy - INFO - Chain [1] start processing\n",
      "15:11:13 - cmdstanpy - INFO - Chain [1] done processing\n",
      "15:11:13 - cmdstanpy - INFO - Chain [1] start processing\n",
      "15:11:13 - cmdstanpy - INFO - Chain [1] done processing\n",
      "15:11:14 - cmdstanpy - INFO - Chain [1] start processing\n",
      "15:11:14 - cmdstanpy - INFO - Chain [1] done processing\n",
      "15:11:14 - cmdstanpy - INFO - Chain [1] start processing\n",
      "15:11:14 - cmdstanpy - INFO - Chain [1] done processing\n",
      "  5%|██▎                                         | 4/75 [00:29<08:45,  7.40s/it]"
     ]
    },
    {
     "data": {
      "application/vnd.jupyter.widget-view+json": {
       "model_id": "b165356ab3114fd190c607ca67325d87",
       "version_major": 2,
       "version_minor": 0
      },
      "text/plain": [
       "  0%|          | 0/16 [00:00<?, ?it/s]"
      ]
     },
     "metadata": {},
     "output_type": "display_data"
    },
    {
     "name": "stderr",
     "output_type": "stream",
     "text": [
      "15:11:15 - cmdstanpy - INFO - Chain [1] start processing\n",
      "15:11:15 - cmdstanpy - INFO - Chain [1] done processing\n",
      "15:11:16 - cmdstanpy - INFO - Chain [1] start processing\n",
      "15:11:16 - cmdstanpy - INFO - Chain [1] done processing\n",
      "15:11:16 - cmdstanpy - INFO - Chain [1] start processing\n",
      "15:11:16 - cmdstanpy - INFO - Chain [1] done processing\n",
      "15:11:16 - cmdstanpy - INFO - Chain [1] start processing\n",
      "15:11:16 - cmdstanpy - INFO - Chain [1] done processing\n",
      "15:11:17 - cmdstanpy - INFO - Chain [1] start processing\n",
      "15:11:17 - cmdstanpy - INFO - Chain [1] done processing\n",
      "15:11:17 - cmdstanpy - INFO - Chain [1] start processing\n",
      "15:11:17 - cmdstanpy - INFO - Chain [1] done processing\n",
      "15:11:17 - cmdstanpy - INFO - Chain [1] start processing\n",
      "15:11:17 - cmdstanpy - INFO - Chain [1] done processing\n",
      "15:11:18 - cmdstanpy - INFO - Chain [1] start processing\n",
      "15:11:18 - cmdstanpy - INFO - Chain [1] done processing\n",
      "15:11:18 - cmdstanpy - INFO - Chain [1] start processing\n",
      "15:11:18 - cmdstanpy - INFO - Chain [1] done processing\n",
      "15:11:19 - cmdstanpy - INFO - Chain [1] start processing\n",
      "15:11:19 - cmdstanpy - INFO - Chain [1] done processing\n",
      "15:11:19 - cmdstanpy - INFO - Chain [1] start processing\n",
      "15:11:19 - cmdstanpy - INFO - Chain [1] done processing\n",
      "15:11:19 - cmdstanpy - INFO - Chain [1] start processing\n",
      "15:11:19 - cmdstanpy - INFO - Chain [1] done processing\n",
      "15:11:20 - cmdstanpy - INFO - Chain [1] start processing\n",
      "15:11:20 - cmdstanpy - INFO - Chain [1] done processing\n",
      "15:11:20 - cmdstanpy - INFO - Chain [1] start processing\n",
      "15:11:20 - cmdstanpy - INFO - Chain [1] done processing\n",
      "15:11:20 - cmdstanpy - INFO - Chain [1] start processing\n",
      "15:11:21 - cmdstanpy - INFO - Chain [1] done processing\n",
      "15:11:21 - cmdstanpy - INFO - Chain [1] start processing\n",
      "15:11:21 - cmdstanpy - INFO - Chain [1] done processing\n",
      "  7%|██▉                                         | 5/75 [00:36<08:21,  7.17s/it]"
     ]
    },
    {
     "data": {
      "application/vnd.jupyter.widget-view+json": {
       "model_id": "7f8e3841b66c4a838ba1cd5adb64bf43",
       "version_major": 2,
       "version_minor": 0
      },
      "text/plain": [
       "  0%|          | 0/16 [00:00<?, ?it/s]"
      ]
     },
     "metadata": {},
     "output_type": "display_data"
    },
    {
     "name": "stderr",
     "output_type": "stream",
     "text": [
      "15:11:22 - cmdstanpy - INFO - Chain [1] start processing\n",
      "15:11:22 - cmdstanpy - INFO - Chain [1] done processing\n",
      "15:11:22 - cmdstanpy - INFO - Chain [1] start processing\n",
      "15:11:23 - cmdstanpy - INFO - Chain [1] done processing\n",
      "15:11:23 - cmdstanpy - INFO - Chain [1] start processing\n",
      "15:11:23 - cmdstanpy - INFO - Chain [1] done processing\n",
      "15:11:23 - cmdstanpy - INFO - Chain [1] start processing\n",
      "15:11:23 - cmdstanpy - INFO - Chain [1] done processing\n",
      "15:11:24 - cmdstanpy - INFO - Chain [1] start processing\n",
      "15:11:24 - cmdstanpy - INFO - Chain [1] done processing\n",
      "15:11:24 - cmdstanpy - INFO - Chain [1] start processing\n",
      "15:11:24 - cmdstanpy - INFO - Chain [1] done processing\n",
      "15:11:24 - cmdstanpy - INFO - Chain [1] start processing\n",
      "15:11:25 - cmdstanpy - INFO - Chain [1] done processing\n",
      "15:11:25 - cmdstanpy - INFO - Chain [1] start processing\n",
      "15:11:25 - cmdstanpy - INFO - Chain [1] done processing\n",
      "15:11:25 - cmdstanpy - INFO - Chain [1] start processing\n",
      "15:11:25 - cmdstanpy - INFO - Chain [1] done processing\n",
      "15:11:26 - cmdstanpy - INFO - Chain [1] start processing\n",
      "15:11:26 - cmdstanpy - INFO - Chain [1] done processing\n",
      "15:11:26 - cmdstanpy - INFO - Chain [1] start processing\n",
      "15:11:26 - cmdstanpy - INFO - Chain [1] done processing\n",
      "15:11:26 - cmdstanpy - INFO - Chain [1] start processing\n",
      "15:11:26 - cmdstanpy - INFO - Chain [1] done processing\n",
      "15:11:27 - cmdstanpy - INFO - Chain [1] start processing\n",
      "15:11:27 - cmdstanpy - INFO - Chain [1] done processing\n",
      "15:11:27 - cmdstanpy - INFO - Chain [1] start processing\n",
      "15:11:27 - cmdstanpy - INFO - Chain [1] done processing\n",
      "15:11:28 - cmdstanpy - INFO - Chain [1] start processing\n",
      "15:11:28 - cmdstanpy - INFO - Chain [1] done processing\n",
      "15:11:28 - cmdstanpy - INFO - Chain [1] start processing\n",
      "15:11:28 - cmdstanpy - INFO - Chain [1] done processing\n",
      "  8%|███▌                                        | 6/75 [00:43<08:14,  7.16s/it]"
     ]
    },
    {
     "data": {
      "application/vnd.jupyter.widget-view+json": {
       "model_id": "606b52126ee343faba8149424b35d457",
       "version_major": 2,
       "version_minor": 0
      },
      "text/plain": [
       "  0%|          | 0/16 [00:00<?, ?it/s]"
      ]
     },
     "metadata": {},
     "output_type": "display_data"
    },
    {
     "name": "stderr",
     "output_type": "stream",
     "text": [
      "15:11:29 - cmdstanpy - INFO - Chain [1] start processing\n",
      "15:11:29 - cmdstanpy - INFO - Chain [1] done processing\n",
      "15:11:30 - cmdstanpy - INFO - Chain [1] start processing\n",
      "15:11:30 - cmdstanpy - INFO - Chain [1] done processing\n",
      "15:11:30 - cmdstanpy - INFO - Chain [1] start processing\n",
      "15:11:30 - cmdstanpy - INFO - Chain [1] done processing\n",
      "15:11:30 - cmdstanpy - INFO - Chain [1] start processing\n",
      "15:11:30 - cmdstanpy - INFO - Chain [1] done processing\n",
      "15:11:31 - cmdstanpy - INFO - Chain [1] start processing\n",
      "15:11:31 - cmdstanpy - INFO - Chain [1] done processing\n",
      "15:11:31 - cmdstanpy - INFO - Chain [1] start processing\n",
      "15:11:31 - cmdstanpy - INFO - Chain [1] done processing\n",
      "15:11:32 - cmdstanpy - INFO - Chain [1] start processing\n",
      "15:11:32 - cmdstanpy - INFO - Chain [1] done processing\n",
      "15:11:32 - cmdstanpy - INFO - Chain [1] start processing\n",
      "15:11:32 - cmdstanpy - INFO - Chain [1] done processing\n",
      "15:11:32 - cmdstanpy - INFO - Chain [1] start processing\n",
      "15:11:32 - cmdstanpy - INFO - Chain [1] done processing\n",
      "15:11:33 - cmdstanpy - INFO - Chain [1] start processing\n",
      "15:11:33 - cmdstanpy - INFO - Chain [1] done processing\n",
      "15:11:33 - cmdstanpy - INFO - Chain [1] start processing\n",
      "15:11:33 - cmdstanpy - INFO - Chain [1] done processing\n",
      "15:11:33 - cmdstanpy - INFO - Chain [1] start processing\n",
      "15:11:34 - cmdstanpy - INFO - Chain [1] done processing\n",
      "15:11:34 - cmdstanpy - INFO - Chain [1] start processing\n",
      "15:11:34 - cmdstanpy - INFO - Chain [1] done processing\n",
      "15:11:34 - cmdstanpy - INFO - Chain [1] start processing\n",
      "15:11:34 - cmdstanpy - INFO - Chain [1] done processing\n",
      "15:11:35 - cmdstanpy - INFO - Chain [1] start processing\n",
      "15:11:35 - cmdstanpy - INFO - Chain [1] done processing\n",
      "15:11:35 - cmdstanpy - INFO - Chain [1] start processing\n",
      "15:11:35 - cmdstanpy - INFO - Chain [1] done processing\n",
      "  9%|████                                        | 7/75 [00:50<08:06,  7.16s/it]"
     ]
    },
    {
     "data": {
      "application/vnd.jupyter.widget-view+json": {
       "model_id": "dc993b0472314bb4ad0d529220734360",
       "version_major": 2,
       "version_minor": 0
      },
      "text/plain": [
       "  0%|          | 0/16 [00:00<?, ?it/s]"
      ]
     },
     "metadata": {},
     "output_type": "display_data"
    },
    {
     "name": "stderr",
     "output_type": "stream",
     "text": [
      "15:11:36 - cmdstanpy - INFO - Chain [1] start processing\n",
      "15:11:37 - cmdstanpy - INFO - Chain [1] done processing\n",
      "15:11:37 - cmdstanpy - INFO - Chain [1] start processing\n",
      "15:11:37 - cmdstanpy - INFO - Chain [1] done processing\n",
      "15:11:37 - cmdstanpy - INFO - Chain [1] start processing\n",
      "15:11:37 - cmdstanpy - INFO - Chain [1] done processing\n",
      "15:11:38 - cmdstanpy - INFO - Chain [1] start processing\n",
      "15:11:38 - cmdstanpy - INFO - Chain [1] done processing\n",
      "15:11:38 - cmdstanpy - INFO - Chain [1] start processing\n",
      "15:11:38 - cmdstanpy - INFO - Chain [1] done processing\n",
      "15:11:38 - cmdstanpy - INFO - Chain [1] start processing\n",
      "15:11:38 - cmdstanpy - INFO - Chain [1] done processing\n",
      "15:11:39 - cmdstanpy - INFO - Chain [1] start processing\n",
      "15:11:39 - cmdstanpy - INFO - Chain [1] done processing\n",
      "15:11:39 - cmdstanpy - INFO - Chain [1] start processing\n",
      "15:11:39 - cmdstanpy - INFO - Chain [1] done processing\n",
      "15:11:39 - cmdstanpy - INFO - Chain [1] start processing\n",
      "15:11:39 - cmdstanpy - INFO - Chain [1] done processing\n",
      "15:11:40 - cmdstanpy - INFO - Chain [1] start processing\n",
      "15:11:40 - cmdstanpy - INFO - Chain [1] done processing\n",
      "15:11:40 - cmdstanpy - INFO - Chain [1] start processing\n",
      "15:11:40 - cmdstanpy - INFO - Chain [1] done processing\n",
      "15:11:40 - cmdstanpy - INFO - Chain [1] start processing\n",
      "15:11:41 - cmdstanpy - INFO - Chain [1] done processing\n",
      "15:11:41 - cmdstanpy - INFO - Chain [1] start processing\n",
      "15:11:41 - cmdstanpy - INFO - Chain [1] done processing\n",
      "15:11:41 - cmdstanpy - INFO - Chain [1] start processing\n",
      "15:11:41 - cmdstanpy - INFO - Chain [1] done processing\n",
      "15:11:42 - cmdstanpy - INFO - Chain [1] start processing\n",
      "15:11:42 - cmdstanpy - INFO - Chain [1] done processing\n",
      "15:11:42 - cmdstanpy - INFO - Chain [1] start processing\n",
      "15:11:42 - cmdstanpy - INFO - Chain [1] done processing\n",
      " 11%|████▋                                       | 8/75 [00:57<07:51,  7.04s/it]"
     ]
    },
    {
     "data": {
      "application/vnd.jupyter.widget-view+json": {
       "model_id": "4c9d10fa26634ee18c71db12301a47e5",
       "version_major": 2,
       "version_minor": 0
      },
      "text/plain": [
       "  0%|          | 0/16 [00:00<?, ?it/s]"
      ]
     },
     "metadata": {},
     "output_type": "display_data"
    },
    {
     "name": "stderr",
     "output_type": "stream",
     "text": [
      "15:11:43 - cmdstanpy - INFO - Chain [1] start processing\n",
      "15:11:43 - cmdstanpy - INFO - Chain [1] done processing\n",
      "15:11:44 - cmdstanpy - INFO - Chain [1] start processing\n",
      "15:11:44 - cmdstanpy - INFO - Chain [1] done processing\n",
      "15:11:44 - cmdstanpy - INFO - Chain [1] start processing\n",
      "15:11:44 - cmdstanpy - INFO - Chain [1] done processing\n",
      "15:11:44 - cmdstanpy - INFO - Chain [1] start processing\n",
      "15:11:44 - cmdstanpy - INFO - Chain [1] done processing\n",
      "15:11:45 - cmdstanpy - INFO - Chain [1] start processing\n",
      "15:11:45 - cmdstanpy - INFO - Chain [1] done processing\n",
      "15:11:45 - cmdstanpy - INFO - Chain [1] start processing\n",
      "15:11:45 - cmdstanpy - INFO - Chain [1] done processing\n",
      "15:11:45 - cmdstanpy - INFO - Chain [1] start processing\n",
      "15:11:45 - cmdstanpy - INFO - Chain [1] done processing\n",
      "15:11:46 - cmdstanpy - INFO - Chain [1] start processing\n",
      "15:11:46 - cmdstanpy - INFO - Chain [1] done processing\n",
      "15:11:46 - cmdstanpy - INFO - Chain [1] start processing\n",
      "15:11:46 - cmdstanpy - INFO - Chain [1] done processing\n",
      "15:11:46 - cmdstanpy - INFO - Chain [1] start processing\n",
      "15:11:47 - cmdstanpy - INFO - Chain [1] done processing\n",
      "15:11:47 - cmdstanpy - INFO - Chain [1] start processing\n",
      "15:11:47 - cmdstanpy - INFO - Chain [1] done processing\n",
      "15:11:47 - cmdstanpy - INFO - Chain [1] start processing\n",
      "15:11:47 - cmdstanpy - INFO - Chain [1] done processing\n",
      "15:11:48 - cmdstanpy - INFO - Chain [1] start processing\n",
      "15:11:48 - cmdstanpy - INFO - Chain [1] done processing\n",
      "15:11:48 - cmdstanpy - INFO - Chain [1] start processing\n",
      "15:11:48 - cmdstanpy - INFO - Chain [1] done processing\n",
      "15:11:48 - cmdstanpy - INFO - Chain [1] start processing\n",
      "15:11:48 - cmdstanpy - INFO - Chain [1] done processing\n",
      "15:11:49 - cmdstanpy - INFO - Chain [1] start processing\n",
      "15:11:49 - cmdstanpy - INFO - Chain [1] done processing\n",
      " 12%|█████▎                                      | 9/75 [01:04<07:38,  6.94s/it]"
     ]
    },
    {
     "data": {
      "application/vnd.jupyter.widget-view+json": {
       "model_id": "9cbe248ea98242ee9ac71681e205cb9c",
       "version_major": 2,
       "version_minor": 0
      },
      "text/plain": [
       "  0%|          | 0/16 [00:00<?, ?it/s]"
      ]
     },
     "metadata": {},
     "output_type": "display_data"
    },
    {
     "name": "stderr",
     "output_type": "stream",
     "text": [
      "15:11:50 - cmdstanpy - INFO - Chain [1] start processing\n",
      "15:11:50 - cmdstanpy - INFO - Chain [1] done processing\n",
      "15:11:50 - cmdstanpy - INFO - Chain [1] start processing\n",
      "15:11:50 - cmdstanpy - INFO - Chain [1] done processing\n",
      "15:11:51 - cmdstanpy - INFO - Chain [1] start processing\n",
      "15:11:51 - cmdstanpy - INFO - Chain [1] done processing\n",
      "15:11:51 - cmdstanpy - INFO - Chain [1] start processing\n",
      "15:11:51 - cmdstanpy - INFO - Chain [1] done processing\n",
      "15:11:51 - cmdstanpy - INFO - Chain [1] start processing\n",
      "15:11:51 - cmdstanpy - INFO - Chain [1] done processing\n",
      "15:11:52 - cmdstanpy - INFO - Chain [1] start processing\n",
      "15:11:52 - cmdstanpy - INFO - Chain [1] done processing\n",
      "15:11:52 - cmdstanpy - INFO - Chain [1] start processing\n",
      "15:11:52 - cmdstanpy - INFO - Chain [1] done processing\n",
      "15:11:52 - cmdstanpy - INFO - Chain [1] start processing\n",
      "15:11:52 - cmdstanpy - INFO - Chain [1] done processing\n",
      "15:11:53 - cmdstanpy - INFO - Chain [1] start processing\n",
      "15:11:53 - cmdstanpy - INFO - Chain [1] done processing\n",
      "15:11:53 - cmdstanpy - INFO - Chain [1] start processing\n",
      "15:11:53 - cmdstanpy - INFO - Chain [1] done processing\n",
      "15:11:53 - cmdstanpy - INFO - Chain [1] start processing\n",
      "15:11:54 - cmdstanpy - INFO - Chain [1] done processing\n",
      "15:11:54 - cmdstanpy - INFO - Chain [1] start processing\n",
      "15:11:54 - cmdstanpy - INFO - Chain [1] done processing\n",
      "15:11:54 - cmdstanpy - INFO - Chain [1] start processing\n",
      "15:11:54 - cmdstanpy - INFO - Chain [1] done processing\n",
      "15:11:55 - cmdstanpy - INFO - Chain [1] start processing\n",
      "15:11:55 - cmdstanpy - INFO - Chain [1] done processing\n",
      "15:11:55 - cmdstanpy - INFO - Chain [1] start processing\n",
      "15:11:55 - cmdstanpy - INFO - Chain [1] done processing\n",
      "15:11:55 - cmdstanpy - INFO - Chain [1] start processing\n",
      "15:11:56 - cmdstanpy - INFO - Chain [1] done processing\n",
      " 13%|█████▋                                     | 10/75 [01:11<07:27,  6.88s/it]"
     ]
    },
    {
     "data": {
      "application/vnd.jupyter.widget-view+json": {
       "model_id": "43a10b8e819e43218babc712b1ebcfc5",
       "version_major": 2,
       "version_minor": 0
      },
      "text/plain": [
       "  0%|          | 0/16 [00:00<?, ?it/s]"
      ]
     },
     "metadata": {},
     "output_type": "display_data"
    },
    {
     "name": "stderr",
     "output_type": "stream",
     "text": [
      "15:11:57 - cmdstanpy - INFO - Chain [1] start processing\n",
      "15:11:57 - cmdstanpy - INFO - Chain [1] done processing\n",
      "15:11:57 - cmdstanpy - INFO - Chain [1] start processing\n",
      "15:11:57 - cmdstanpy - INFO - Chain [1] done processing\n",
      "15:11:58 - cmdstanpy - INFO - Chain [1] start processing\n",
      "15:11:58 - cmdstanpy - INFO - Chain [1] done processing\n",
      "15:11:58 - cmdstanpy - INFO - Chain [1] start processing\n",
      "15:11:58 - cmdstanpy - INFO - Chain [1] done processing\n",
      "15:11:58 - cmdstanpy - INFO - Chain [1] start processing\n",
      "15:11:58 - cmdstanpy - INFO - Chain [1] done processing\n",
      "15:11:59 - cmdstanpy - INFO - Chain [1] start processing\n",
      "15:11:59 - cmdstanpy - INFO - Chain [1] done processing\n",
      "15:11:59 - cmdstanpy - INFO - Chain [1] start processing\n",
      "15:11:59 - cmdstanpy - INFO - Chain [1] done processing\n",
      "15:11:59 - cmdstanpy - INFO - Chain [1] start processing\n",
      "15:11:59 - cmdstanpy - INFO - Chain [1] done processing\n",
      "15:12:00 - cmdstanpy - INFO - Chain [1] start processing\n",
      "15:12:00 - cmdstanpy - INFO - Chain [1] done processing\n",
      "15:12:00 - cmdstanpy - INFO - Chain [1] start processing\n",
      "15:12:00 - cmdstanpy - INFO - Chain [1] done processing\n",
      "15:12:01 - cmdstanpy - INFO - Chain [1] start processing\n",
      "15:12:01 - cmdstanpy - INFO - Chain [1] done processing\n",
      "15:12:01 - cmdstanpy - INFO - Chain [1] start processing\n",
      "15:12:01 - cmdstanpy - INFO - Chain [1] done processing\n",
      "15:12:01 - cmdstanpy - INFO - Chain [1] start processing\n",
      "15:12:01 - cmdstanpy - INFO - Chain [1] done processing\n",
      "15:12:02 - cmdstanpy - INFO - Chain [1] start processing\n",
      "15:12:02 - cmdstanpy - INFO - Chain [1] done processing\n",
      "15:12:02 - cmdstanpy - INFO - Chain [1] start processing\n",
      "15:12:02 - cmdstanpy - INFO - Chain [1] done processing\n",
      "15:12:03 - cmdstanpy - INFO - Chain [1] start processing\n",
      "15:12:03 - cmdstanpy - INFO - Chain [1] done processing\n",
      " 15%|██████▎                                    | 11/75 [01:18<07:24,  6.95s/it]"
     ]
    },
    {
     "data": {
      "application/vnd.jupyter.widget-view+json": {
       "model_id": "a53418060e8243b6a23761df031a948f",
       "version_major": 2,
       "version_minor": 0
      },
      "text/plain": [
       "  0%|          | 0/16 [00:00<?, ?it/s]"
      ]
     },
     "metadata": {},
     "output_type": "display_data"
    },
    {
     "name": "stderr",
     "output_type": "stream",
     "text": [
      "15:12:04 - cmdstanpy - INFO - Chain [1] start processing\n",
      "15:12:04 - cmdstanpy - INFO - Chain [1] done processing\n",
      "15:12:04 - cmdstanpy - INFO - Chain [1] start processing\n",
      "15:12:04 - cmdstanpy - INFO - Chain [1] done processing\n",
      "15:12:04 - cmdstanpy - INFO - Chain [1] start processing\n",
      "15:12:05 - cmdstanpy - INFO - Chain [1] done processing\n",
      "15:12:05 - cmdstanpy - INFO - Chain [1] start processing\n",
      "15:12:05 - cmdstanpy - INFO - Chain [1] done processing\n",
      "15:12:05 - cmdstanpy - INFO - Chain [1] start processing\n",
      "15:12:05 - cmdstanpy - INFO - Chain [1] done processing\n",
      "15:12:06 - cmdstanpy - INFO - Chain [1] start processing\n",
      "15:12:06 - cmdstanpy - INFO - Chain [1] done processing\n",
      "15:12:06 - cmdstanpy - INFO - Chain [1] start processing\n",
      "15:12:06 - cmdstanpy - INFO - Chain [1] done processing\n",
      "15:12:07 - cmdstanpy - INFO - Chain [1] start processing\n",
      "15:12:07 - cmdstanpy - INFO - Chain [1] done processing\n",
      "15:12:07 - cmdstanpy - INFO - Chain [1] start processing\n",
      "15:12:07 - cmdstanpy - INFO - Chain [1] done processing\n",
      "15:12:07 - cmdstanpy - INFO - Chain [1] start processing\n",
      "15:12:08 - cmdstanpy - INFO - Chain [1] done processing\n",
      "15:12:08 - cmdstanpy - INFO - Chain [1] start processing\n",
      "15:12:08 - cmdstanpy - INFO - Chain [1] done processing\n",
      "15:12:08 - cmdstanpy - INFO - Chain [1] start processing\n",
      "15:12:08 - cmdstanpy - INFO - Chain [1] done processing\n",
      "15:12:09 - cmdstanpy - INFO - Chain [1] start processing\n",
      "15:12:09 - cmdstanpy - INFO - Chain [1] done processing\n",
      "15:12:09 - cmdstanpy - INFO - Chain [1] start processing\n",
      "15:12:09 - cmdstanpy - INFO - Chain [1] done processing\n",
      "15:12:10 - cmdstanpy - INFO - Chain [1] start processing\n",
      "15:12:10 - cmdstanpy - INFO - Chain [1] done processing\n",
      "15:12:10 - cmdstanpy - INFO - Chain [1] start processing\n",
      "15:12:10 - cmdstanpy - INFO - Chain [1] done processing\n",
      " 16%|██████▉                                    | 12/75 [01:25<07:29,  7.13s/it]"
     ]
    },
    {
     "data": {
      "application/vnd.jupyter.widget-view+json": {
       "model_id": "ea7551096e4744aea295f76c3c4d773e",
       "version_major": 2,
       "version_minor": 0
      },
      "text/plain": [
       "  0%|          | 0/16 [00:00<?, ?it/s]"
      ]
     },
     "metadata": {},
     "output_type": "display_data"
    },
    {
     "name": "stderr",
     "output_type": "stream",
     "text": [
      "15:12:11 - cmdstanpy - INFO - Chain [1] start processing\n",
      "15:12:11 - cmdstanpy - INFO - Chain [1] done processing\n",
      "15:12:12 - cmdstanpy - INFO - Chain [1] start processing\n",
      "15:12:12 - cmdstanpy - INFO - Chain [1] done processing\n",
      "15:12:12 - cmdstanpy - INFO - Chain [1] start processing\n",
      "15:12:12 - cmdstanpy - INFO - Chain [1] done processing\n",
      "15:12:12 - cmdstanpy - INFO - Chain [1] start processing\n",
      "15:12:13 - cmdstanpy - INFO - Chain [1] done processing\n",
      "15:12:13 - cmdstanpy - INFO - Chain [1] start processing\n",
      "15:12:13 - cmdstanpy - INFO - Chain [1] done processing\n",
      "15:12:13 - cmdstanpy - INFO - Chain [1] start processing\n",
      "15:12:13 - cmdstanpy - INFO - Chain [1] done processing\n",
      "15:12:14 - cmdstanpy - INFO - Chain [1] start processing\n",
      "15:12:14 - cmdstanpy - INFO - Chain [1] done processing\n",
      "15:12:14 - cmdstanpy - INFO - Chain [1] start processing\n",
      "15:12:14 - cmdstanpy - INFO - Chain [1] done processing\n",
      "15:12:14 - cmdstanpy - INFO - Chain [1] start processing\n",
      "15:12:14 - cmdstanpy - INFO - Chain [1] done processing\n",
      "15:12:15 - cmdstanpy - INFO - Chain [1] start processing\n",
      "15:12:15 - cmdstanpy - INFO - Chain [1] done processing\n",
      "15:12:15 - cmdstanpy - INFO - Chain [1] start processing\n",
      "15:12:15 - cmdstanpy - INFO - Chain [1] done processing\n",
      "15:12:15 - cmdstanpy - INFO - Chain [1] start processing\n",
      "15:12:16 - cmdstanpy - INFO - Chain [1] done processing\n",
      "15:12:16 - cmdstanpy - INFO - Chain [1] start processing\n",
      "15:12:16 - cmdstanpy - INFO - Chain [1] done processing\n",
      "15:12:16 - cmdstanpy - INFO - Chain [1] start processing\n",
      "15:12:16 - cmdstanpy - INFO - Chain [1] done processing\n",
      "15:12:17 - cmdstanpy - INFO - Chain [1] start processing\n",
      "15:12:17 - cmdstanpy - INFO - Chain [1] done processing\n",
      "15:12:17 - cmdstanpy - INFO - Chain [1] start processing\n",
      "15:12:17 - cmdstanpy - INFO - Chain [1] done processing\n",
      " 17%|███████▍                                   | 13/75 [01:32<07:17,  7.06s/it]"
     ]
    },
    {
     "data": {
      "application/vnd.jupyter.widget-view+json": {
       "model_id": "c0548d9caf1d4b2e9454c0dd3fcc98ba",
       "version_major": 2,
       "version_minor": 0
      },
      "text/plain": [
       "  0%|          | 0/16 [00:00<?, ?it/s]"
      ]
     },
     "metadata": {},
     "output_type": "display_data"
    },
    {
     "name": "stderr",
     "output_type": "stream",
     "text": [
      "15:12:18 - cmdstanpy - INFO - Chain [1] start processing\n",
      "15:12:18 - cmdstanpy - INFO - Chain [1] done processing\n",
      "15:12:19 - cmdstanpy - INFO - Chain [1] start processing\n",
      "15:12:19 - cmdstanpy - INFO - Chain [1] done processing\n",
      "15:12:19 - cmdstanpy - INFO - Chain [1] start processing\n",
      "15:12:19 - cmdstanpy - INFO - Chain [1] done processing\n",
      "15:12:19 - cmdstanpy - INFO - Chain [1] start processing\n",
      "15:12:19 - cmdstanpy - INFO - Chain [1] done processing\n",
      "15:12:20 - cmdstanpy - INFO - Chain [1] start processing\n",
      "15:12:20 - cmdstanpy - INFO - Chain [1] done processing\n",
      "15:12:20 - cmdstanpy - INFO - Chain [1] start processing\n",
      "15:12:20 - cmdstanpy - INFO - Chain [1] done processing\n",
      "15:12:20 - cmdstanpy - INFO - Chain [1] start processing\n",
      "15:12:20 - cmdstanpy - INFO - Chain [1] done processing\n",
      "15:12:21 - cmdstanpy - INFO - Chain [1] start processing\n",
      "15:12:21 - cmdstanpy - INFO - Chain [1] done processing\n",
      "15:12:21 - cmdstanpy - INFO - Chain [1] start processing\n",
      "15:12:21 - cmdstanpy - INFO - Chain [1] done processing\n",
      "15:12:21 - cmdstanpy - INFO - Chain [1] start processing\n",
      "15:12:22 - cmdstanpy - INFO - Chain [1] done processing\n",
      "15:12:22 - cmdstanpy - INFO - Chain [1] start processing\n",
      "15:12:22 - cmdstanpy - INFO - Chain [1] done processing\n",
      "15:12:22 - cmdstanpy - INFO - Chain [1] start processing\n",
      "15:12:22 - cmdstanpy - INFO - Chain [1] done processing\n",
      "15:12:23 - cmdstanpy - INFO - Chain [1] start processing\n",
      "15:12:23 - cmdstanpy - INFO - Chain [1] done processing\n",
      "15:12:23 - cmdstanpy - INFO - Chain [1] start processing\n",
      "15:12:23 - cmdstanpy - INFO - Chain [1] done processing\n",
      "15:12:23 - cmdstanpy - INFO - Chain [1] start processing\n",
      "15:12:24 - cmdstanpy - INFO - Chain [1] done processing\n",
      "15:12:24 - cmdstanpy - INFO - Chain [1] start processing\n",
      "15:12:24 - cmdstanpy - INFO - Chain [1] done processing\n",
      " 19%|████████                                   | 14/75 [01:39<07:06,  7.00s/it]"
     ]
    },
    {
     "data": {
      "application/vnd.jupyter.widget-view+json": {
       "model_id": "2a0fb55aac98432393f8dd19f887a0db",
       "version_major": 2,
       "version_minor": 0
      },
      "text/plain": [
       "  0%|          | 0/16 [00:00<?, ?it/s]"
      ]
     },
     "metadata": {},
     "output_type": "display_data"
    },
    {
     "name": "stderr",
     "output_type": "stream",
     "text": [
      "15:12:25 - cmdstanpy - INFO - Chain [1] start processing\n",
      "15:12:25 - cmdstanpy - INFO - Chain [1] done processing\n",
      "15:12:25 - cmdstanpy - INFO - Chain [1] start processing\n",
      "15:12:25 - cmdstanpy - INFO - Chain [1] done processing\n",
      "15:12:26 - cmdstanpy - INFO - Chain [1] start processing\n",
      "15:12:26 - cmdstanpy - INFO - Chain [1] done processing\n",
      "15:12:26 - cmdstanpy - INFO - Chain [1] start processing\n",
      "15:12:26 - cmdstanpy - INFO - Chain [1] done processing\n",
      "15:12:26 - cmdstanpy - INFO - Chain [1] start processing\n",
      "15:12:26 - cmdstanpy - INFO - Chain [1] done processing\n",
      "15:12:27 - cmdstanpy - INFO - Chain [1] start processing\n",
      "15:12:27 - cmdstanpy - INFO - Chain [1] done processing\n",
      "15:12:27 - cmdstanpy - INFO - Chain [1] start processing\n",
      "15:12:27 - cmdstanpy - INFO - Chain [1] done processing\n",
      "15:12:27 - cmdstanpy - INFO - Chain [1] start processing\n",
      "15:12:27 - cmdstanpy - INFO - Chain [1] done processing\n",
      "15:12:28 - cmdstanpy - INFO - Chain [1] start processing\n",
      "15:12:28 - cmdstanpy - INFO - Chain [1] done processing\n",
      "15:12:28 - cmdstanpy - INFO - Chain [1] start processing\n",
      "15:12:28 - cmdstanpy - INFO - Chain [1] done processing\n",
      "15:12:28 - cmdstanpy - INFO - Chain [1] start processing\n",
      "15:12:29 - cmdstanpy - INFO - Chain [1] done processing\n",
      "15:12:29 - cmdstanpy - INFO - Chain [1] start processing\n",
      "15:12:29 - cmdstanpy - INFO - Chain [1] done processing\n",
      "15:12:29 - cmdstanpy - INFO - Chain [1] start processing\n",
      "15:12:29 - cmdstanpy - INFO - Chain [1] done processing\n",
      "15:12:30 - cmdstanpy - INFO - Chain [1] start processing\n",
      "15:12:30 - cmdstanpy - INFO - Chain [1] done processing\n",
      "15:12:30 - cmdstanpy - INFO - Chain [1] start processing\n",
      "15:12:30 - cmdstanpy - INFO - Chain [1] done processing\n",
      "15:12:30 - cmdstanpy - INFO - Chain [1] start processing\n",
      "15:12:31 - cmdstanpy - INFO - Chain [1] done processing\n",
      " 20%|████████▌                                  | 15/75 [01:46<06:54,  6.91s/it]"
     ]
    },
    {
     "data": {
      "application/vnd.jupyter.widget-view+json": {
       "model_id": "d40198abfbdd463087e65ccccf4266c6",
       "version_major": 2,
       "version_minor": 0
      },
      "text/plain": [
       "  0%|          | 0/16 [00:00<?, ?it/s]"
      ]
     },
     "metadata": {},
     "output_type": "display_data"
    },
    {
     "name": "stderr",
     "output_type": "stream",
     "text": [
      "15:12:32 - cmdstanpy - INFO - Chain [1] start processing\n",
      "15:12:32 - cmdstanpy - INFO - Chain [1] done processing\n",
      "15:12:32 - cmdstanpy - INFO - Chain [1] start processing\n",
      "15:12:32 - cmdstanpy - INFO - Chain [1] done processing\n",
      "15:12:32 - cmdstanpy - INFO - Chain [1] start processing\n",
      "15:12:33 - cmdstanpy - INFO - Chain [1] done processing\n",
      "15:12:33 - cmdstanpy - INFO - Chain [1] start processing\n",
      "15:12:33 - cmdstanpy - INFO - Chain [1] done processing\n",
      "15:12:33 - cmdstanpy - INFO - Chain [1] start processing\n",
      "15:12:33 - cmdstanpy - INFO - Chain [1] done processing\n",
      "15:12:34 - cmdstanpy - INFO - Chain [1] start processing\n",
      "15:12:34 - cmdstanpy - INFO - Chain [1] done processing\n",
      "15:12:34 - cmdstanpy - INFO - Chain [1] start processing\n",
      "15:12:34 - cmdstanpy - INFO - Chain [1] done processing\n",
      "15:12:34 - cmdstanpy - INFO - Chain [1] start processing\n",
      "15:12:35 - cmdstanpy - INFO - Chain [1] done processing\n",
      "15:12:35 - cmdstanpy - INFO - Chain [1] start processing\n",
      "15:12:35 - cmdstanpy - INFO - Chain [1] done processing\n",
      "15:12:35 - cmdstanpy - INFO - Chain [1] start processing\n",
      "15:12:36 - cmdstanpy - INFO - Chain [1] done processing\n",
      "15:12:36 - cmdstanpy - INFO - Chain [1] start processing\n",
      "15:12:36 - cmdstanpy - INFO - Chain [1] done processing\n",
      "15:12:36 - cmdstanpy - INFO - Chain [1] start processing\n",
      "15:12:36 - cmdstanpy - INFO - Chain [1] done processing\n",
      "15:12:37 - cmdstanpy - INFO - Chain [1] start processing\n",
      "15:12:37 - cmdstanpy - INFO - Chain [1] done processing\n",
      "15:12:37 - cmdstanpy - INFO - Chain [1] start processing\n",
      "15:12:37 - cmdstanpy - INFO - Chain [1] done processing\n",
      "15:12:37 - cmdstanpy - INFO - Chain [1] start processing\n",
      "15:12:38 - cmdstanpy - INFO - Chain [1] done processing\n",
      "15:12:38 - cmdstanpy - INFO - Chain [1] start processing\n",
      "15:12:38 - cmdstanpy - INFO - Chain [1] done processing\n",
      " 21%|█████████▏                                 | 16/75 [01:53<06:55,  7.04s/it]"
     ]
    },
    {
     "data": {
      "application/vnd.jupyter.widget-view+json": {
       "model_id": "f5789e8202c44bbe8cf1f58ac531a340",
       "version_major": 2,
       "version_minor": 0
      },
      "text/plain": [
       "  0%|          | 0/16 [00:00<?, ?it/s]"
      ]
     },
     "metadata": {},
     "output_type": "display_data"
    },
    {
     "name": "stderr",
     "output_type": "stream",
     "text": [
      "15:12:39 - cmdstanpy - INFO - Chain [1] start processing\n",
      "15:12:39 - cmdstanpy - INFO - Chain [1] done processing\n",
      "15:12:40 - cmdstanpy - INFO - Chain [1] start processing\n",
      "15:12:40 - cmdstanpy - INFO - Chain [1] done processing\n",
      "15:12:40 - cmdstanpy - INFO - Chain [1] start processing\n",
      "15:12:40 - cmdstanpy - INFO - Chain [1] done processing\n",
      "15:12:40 - cmdstanpy - INFO - Chain [1] start processing\n",
      "15:12:40 - cmdstanpy - INFO - Chain [1] done processing\n",
      "15:12:41 - cmdstanpy - INFO - Chain [1] start processing\n",
      "15:12:41 - cmdstanpy - INFO - Chain [1] done processing\n",
      "15:12:41 - cmdstanpy - INFO - Chain [1] start processing\n",
      "15:12:41 - cmdstanpy - INFO - Chain [1] done processing\n",
      "15:12:41 - cmdstanpy - INFO - Chain [1] start processing\n",
      "15:12:42 - cmdstanpy - INFO - Chain [1] done processing\n",
      "15:12:42 - cmdstanpy - INFO - Chain [1] start processing\n",
      "15:12:42 - cmdstanpy - INFO - Chain [1] done processing\n",
      "15:12:42 - cmdstanpy - INFO - Chain [1] start processing\n",
      "15:12:42 - cmdstanpy - INFO - Chain [1] done processing\n",
      "15:12:43 - cmdstanpy - INFO - Chain [1] start processing\n",
      "15:12:43 - cmdstanpy - INFO - Chain [1] done processing\n",
      "15:12:43 - cmdstanpy - INFO - Chain [1] start processing\n",
      "15:12:43 - cmdstanpy - INFO - Chain [1] done processing\n",
      "15:12:44 - cmdstanpy - INFO - Chain [1] start processing\n",
      "15:12:44 - cmdstanpy - INFO - Chain [1] done processing\n",
      "15:12:44 - cmdstanpy - INFO - Chain [1] start processing\n",
      "15:12:44 - cmdstanpy - INFO - Chain [1] done processing\n",
      "15:12:45 - cmdstanpy - INFO - Chain [1] start processing\n",
      "15:12:45 - cmdstanpy - INFO - Chain [1] done processing\n",
      "15:12:45 - cmdstanpy - INFO - Chain [1] start processing\n",
      "15:12:45 - cmdstanpy - INFO - Chain [1] done processing\n",
      "15:12:45 - cmdstanpy - INFO - Chain [1] start processing\n",
      "15:12:46 - cmdstanpy - INFO - Chain [1] done processing\n",
      " 23%|█████████▋                                 | 17/75 [02:01<06:59,  7.24s/it]"
     ]
    },
    {
     "data": {
      "application/vnd.jupyter.widget-view+json": {
       "model_id": "f3dc9693e6d64e389405558963a4dec7",
       "version_major": 2,
       "version_minor": 0
      },
      "text/plain": [
       "  0%|          | 0/16 [00:00<?, ?it/s]"
      ]
     },
     "metadata": {},
     "output_type": "display_data"
    },
    {
     "name": "stderr",
     "output_type": "stream",
     "text": [
      "15:12:47 - cmdstanpy - INFO - Chain [1] start processing\n",
      "15:12:47 - cmdstanpy - INFO - Chain [1] done processing\n",
      "15:12:47 - cmdstanpy - INFO - Chain [1] start processing\n",
      "15:12:47 - cmdstanpy - INFO - Chain [1] done processing\n",
      "15:12:48 - cmdstanpy - INFO - Chain [1] start processing\n",
      "15:12:48 - cmdstanpy - INFO - Chain [1] done processing\n",
      "15:12:48 - cmdstanpy - INFO - Chain [1] start processing\n",
      "15:12:48 - cmdstanpy - INFO - Chain [1] done processing\n",
      "15:12:48 - cmdstanpy - INFO - Chain [1] start processing\n",
      "15:12:48 - cmdstanpy - INFO - Chain [1] done processing\n",
      "15:12:49 - cmdstanpy - INFO - Chain [1] start processing\n",
      "15:12:49 - cmdstanpy - INFO - Chain [1] done processing\n",
      "15:12:49 - cmdstanpy - INFO - Chain [1] start processing\n",
      "15:12:49 - cmdstanpy - INFO - Chain [1] done processing\n",
      "15:12:50 - cmdstanpy - INFO - Chain [1] start processing\n",
      "15:12:50 - cmdstanpy - INFO - Chain [1] done processing\n",
      "15:12:50 - cmdstanpy - INFO - Chain [1] start processing\n",
      "15:12:50 - cmdstanpy - INFO - Chain [1] done processing\n",
      "15:12:50 - cmdstanpy - INFO - Chain [1] start processing\n",
      "15:12:51 - cmdstanpy - INFO - Chain [1] done processing\n",
      "15:12:51 - cmdstanpy - INFO - Chain [1] start processing\n",
      "15:12:51 - cmdstanpy - INFO - Chain [1] done processing\n",
      "15:12:51 - cmdstanpy - INFO - Chain [1] start processing\n",
      "15:12:51 - cmdstanpy - INFO - Chain [1] done processing\n",
      "15:12:52 - cmdstanpy - INFO - Chain [1] start processing\n",
      "15:12:52 - cmdstanpy - INFO - Chain [1] done processing\n",
      "15:12:52 - cmdstanpy - INFO - Chain [1] start processing\n",
      "15:12:52 - cmdstanpy - INFO - Chain [1] done processing\n",
      "15:12:52 - cmdstanpy - INFO - Chain [1] start processing\n",
      "15:12:53 - cmdstanpy - INFO - Chain [1] done processing\n",
      "15:12:53 - cmdstanpy - INFO - Chain [1] start processing\n",
      "15:12:53 - cmdstanpy - INFO - Chain [1] done processing\n",
      " 24%|██████████▎                                | 18/75 [02:08<06:57,  7.33s/it]"
     ]
    },
    {
     "data": {
      "application/vnd.jupyter.widget-view+json": {
       "model_id": "d00835967c4c43e6a8f25bff7ed3877d",
       "version_major": 2,
       "version_minor": 0
      },
      "text/plain": [
       "  0%|          | 0/16 [00:00<?, ?it/s]"
      ]
     },
     "metadata": {},
     "output_type": "display_data"
    },
    {
     "name": "stderr",
     "output_type": "stream",
     "text": [
      "15:12:54 - cmdstanpy - INFO - Chain [1] start processing\n",
      "15:12:54 - cmdstanpy - INFO - Chain [1] done processing\n",
      "15:12:55 - cmdstanpy - INFO - Chain [1] start processing\n",
      "15:12:55 - cmdstanpy - INFO - Chain [1] done processing\n",
      "15:12:55 - cmdstanpy - INFO - Chain [1] start processing\n",
      "15:12:55 - cmdstanpy - INFO - Chain [1] done processing\n",
      "15:12:55 - cmdstanpy - INFO - Chain [1] start processing\n",
      "15:12:56 - cmdstanpy - INFO - Chain [1] done processing\n",
      "15:12:56 - cmdstanpy - INFO - Chain [1] start processing\n",
      "15:12:56 - cmdstanpy - INFO - Chain [1] done processing\n",
      "15:12:56 - cmdstanpy - INFO - Chain [1] start processing\n",
      "15:12:57 - cmdstanpy - INFO - Chain [1] done processing\n",
      "15:12:57 - cmdstanpy - INFO - Chain [1] start processing\n",
      "15:12:57 - cmdstanpy - INFO - Chain [1] done processing\n",
      "15:12:57 - cmdstanpy - INFO - Chain [1] start processing\n",
      "15:12:57 - cmdstanpy - INFO - Chain [1] done processing\n",
      "15:12:58 - cmdstanpy - INFO - Chain [1] start processing\n",
      "15:12:58 - cmdstanpy - INFO - Chain [1] done processing\n",
      "15:12:58 - cmdstanpy - INFO - Chain [1] start processing\n",
      "15:12:58 - cmdstanpy - INFO - Chain [1] done processing\n",
      "15:12:58 - cmdstanpy - INFO - Chain [1] start processing\n",
      "15:12:59 - cmdstanpy - INFO - Chain [1] done processing\n",
      "15:12:59 - cmdstanpy - INFO - Chain [1] start processing\n",
      "15:12:59 - cmdstanpy - INFO - Chain [1] done processing\n",
      "15:12:59 - cmdstanpy - INFO - Chain [1] start processing\n",
      "15:12:59 - cmdstanpy - INFO - Chain [1] done processing\n",
      "15:13:00 - cmdstanpy - INFO - Chain [1] start processing\n",
      "15:13:00 - cmdstanpy - INFO - Chain [1] done processing\n",
      "15:13:00 - cmdstanpy - INFO - Chain [1] start processing\n",
      "15:13:00 - cmdstanpy - INFO - Chain [1] done processing\n",
      "15:13:01 - cmdstanpy - INFO - Chain [1] start processing\n",
      "15:13:01 - cmdstanpy - INFO - Chain [1] done processing\n",
      " 25%|██████████▉                                | 19/75 [02:16<06:53,  7.39s/it]"
     ]
    },
    {
     "data": {
      "application/vnd.jupyter.widget-view+json": {
       "model_id": "2d686eb720404bf298c29e39e7fee7ab",
       "version_major": 2,
       "version_minor": 0
      },
      "text/plain": [
       "  0%|          | 0/16 [00:00<?, ?it/s]"
      ]
     },
     "metadata": {},
     "output_type": "display_data"
    },
    {
     "name": "stderr",
     "output_type": "stream",
     "text": [
      "15:13:02 - cmdstanpy - INFO - Chain [1] start processing\n",
      "15:13:02 - cmdstanpy - INFO - Chain [1] done processing\n",
      "15:13:02 - cmdstanpy - INFO - Chain [1] start processing\n",
      "15:13:02 - cmdstanpy - INFO - Chain [1] done processing\n",
      "15:13:03 - cmdstanpy - INFO - Chain [1] start processing\n",
      "15:13:03 - cmdstanpy - INFO - Chain [1] done processing\n",
      "15:13:03 - cmdstanpy - INFO - Chain [1] start processing\n",
      "15:13:03 - cmdstanpy - INFO - Chain [1] done processing\n",
      "15:13:03 - cmdstanpy - INFO - Chain [1] start processing\n",
      "15:13:03 - cmdstanpy - INFO - Chain [1] done processing\n",
      "15:13:04 - cmdstanpy - INFO - Chain [1] start processing\n",
      "15:13:04 - cmdstanpy - INFO - Chain [1] done processing\n",
      "15:13:04 - cmdstanpy - INFO - Chain [1] start processing\n",
      "15:13:04 - cmdstanpy - INFO - Chain [1] done processing\n",
      "15:13:04 - cmdstanpy - INFO - Chain [1] start processing\n",
      "15:13:05 - cmdstanpy - INFO - Chain [1] done processing\n",
      "15:13:05 - cmdstanpy - INFO - Chain [1] start processing\n",
      "15:13:05 - cmdstanpy - INFO - Chain [1] done processing\n",
      "15:13:05 - cmdstanpy - INFO - Chain [1] start processing\n",
      "15:13:06 - cmdstanpy - INFO - Chain [1] done processing\n",
      "15:13:06 - cmdstanpy - INFO - Chain [1] start processing\n",
      "15:13:06 - cmdstanpy - INFO - Chain [1] done processing\n",
      "15:13:06 - cmdstanpy - INFO - Chain [1] start processing\n",
      "15:13:06 - cmdstanpy - INFO - Chain [1] done processing\n",
      "15:13:07 - cmdstanpy - INFO - Chain [1] start processing\n",
      "15:13:07 - cmdstanpy - INFO - Chain [1] done processing\n",
      "15:13:07 - cmdstanpy - INFO - Chain [1] start processing\n",
      "15:13:07 - cmdstanpy - INFO - Chain [1] done processing\n",
      "15:13:07 - cmdstanpy - INFO - Chain [1] start processing\n",
      "15:13:08 - cmdstanpy - INFO - Chain [1] done processing\n",
      "15:13:08 - cmdstanpy - INFO - Chain [1] start processing\n",
      "15:13:08 - cmdstanpy - INFO - Chain [1] done processing\n",
      " 27%|███████████▍                               | 20/75 [02:23<06:47,  7.40s/it]"
     ]
    },
    {
     "data": {
      "application/vnd.jupyter.widget-view+json": {
       "model_id": "b7d6c2e08c784f668d4500ac73f25824",
       "version_major": 2,
       "version_minor": 0
      },
      "text/plain": [
       "  0%|          | 0/16 [00:00<?, ?it/s]"
      ]
     },
     "metadata": {},
     "output_type": "display_data"
    },
    {
     "name": "stderr",
     "output_type": "stream",
     "text": [
      "15:13:10 - cmdstanpy - INFO - Chain [1] start processing\n",
      "15:13:10 - cmdstanpy - INFO - Chain [1] done processing\n",
      "15:13:10 - cmdstanpy - INFO - Chain [1] start processing\n",
      "15:13:10 - cmdstanpy - INFO - Chain [1] done processing\n",
      "15:13:10 - cmdstanpy - INFO - Chain [1] start processing\n",
      "15:13:10 - cmdstanpy - INFO - Chain [1] done processing\n",
      "15:13:11 - cmdstanpy - INFO - Chain [1] start processing\n",
      "15:13:11 - cmdstanpy - INFO - Chain [1] done processing\n",
      "15:13:11 - cmdstanpy - INFO - Chain [1] start processing\n",
      "15:13:11 - cmdstanpy - INFO - Chain [1] done processing\n",
      "15:13:11 - cmdstanpy - INFO - Chain [1] start processing\n",
      "15:13:11 - cmdstanpy - INFO - Chain [1] done processing\n",
      "15:13:12 - cmdstanpy - INFO - Chain [1] start processing\n",
      "15:13:12 - cmdstanpy - INFO - Chain [1] done processing\n",
      "15:13:12 - cmdstanpy - INFO - Chain [1] start processing\n",
      "15:13:12 - cmdstanpy - INFO - Chain [1] done processing\n",
      "15:13:12 - cmdstanpy - INFO - Chain [1] start processing\n",
      "15:13:13 - cmdstanpy - INFO - Chain [1] done processing\n",
      "15:13:13 - cmdstanpy - INFO - Chain [1] start processing\n",
      "15:13:13 - cmdstanpy - INFO - Chain [1] done processing\n",
      "15:13:13 - cmdstanpy - INFO - Chain [1] start processing\n",
      "15:13:13 - cmdstanpy - INFO - Chain [1] done processing\n",
      "15:13:14 - cmdstanpy - INFO - Chain [1] start processing\n",
      "15:13:14 - cmdstanpy - INFO - Chain [1] done processing\n",
      "15:13:14 - cmdstanpy - INFO - Chain [1] start processing\n",
      "15:13:14 - cmdstanpy - INFO - Chain [1] done processing\n",
      "15:13:15 - cmdstanpy - INFO - Chain [1] start processing\n",
      "15:13:15 - cmdstanpy - INFO - Chain [1] done processing\n",
      "15:13:15 - cmdstanpy - INFO - Chain [1] start processing\n",
      "15:13:15 - cmdstanpy - INFO - Chain [1] done processing\n",
      "15:13:15 - cmdstanpy - INFO - Chain [1] start processing\n",
      "15:13:16 - cmdstanpy - INFO - Chain [1] done processing\n",
      " 28%|████████████                               | 21/75 [02:31<06:38,  7.38s/it]"
     ]
    },
    {
     "data": {
      "application/vnd.jupyter.widget-view+json": {
       "model_id": "9ba024ffb62049ae9e9e2cc3e220c585",
       "version_major": 2,
       "version_minor": 0
      },
      "text/plain": [
       "  0%|          | 0/16 [00:00<?, ?it/s]"
      ]
     },
     "metadata": {},
     "output_type": "display_data"
    },
    {
     "name": "stderr",
     "output_type": "stream",
     "text": [
      "15:13:17 - cmdstanpy - INFO - Chain [1] start processing\n",
      "15:13:17 - cmdstanpy - INFO - Chain [1] done processing\n",
      "15:13:17 - cmdstanpy - INFO - Chain [1] start processing\n",
      "15:13:17 - cmdstanpy - INFO - Chain [1] done processing\n",
      "15:13:17 - cmdstanpy - INFO - Chain [1] start processing\n",
      "15:13:18 - cmdstanpy - INFO - Chain [1] done processing\n",
      "15:13:18 - cmdstanpy - INFO - Chain [1] start processing\n",
      "15:13:18 - cmdstanpy - INFO - Chain [1] done processing\n",
      "15:13:18 - cmdstanpy - INFO - Chain [1] start processing\n",
      "15:13:18 - cmdstanpy - INFO - Chain [1] done processing\n",
      "15:13:19 - cmdstanpy - INFO - Chain [1] start processing\n",
      "15:13:19 - cmdstanpy - INFO - Chain [1] done processing\n",
      "15:13:19 - cmdstanpy - INFO - Chain [1] start processing\n",
      "15:13:19 - cmdstanpy - INFO - Chain [1] done processing\n",
      "15:13:19 - cmdstanpy - INFO - Chain [1] start processing\n",
      "15:13:20 - cmdstanpy - INFO - Chain [1] done processing\n",
      "15:13:20 - cmdstanpy - INFO - Chain [1] start processing\n",
      "15:13:20 - cmdstanpy - INFO - Chain [1] done processing\n",
      "15:13:20 - cmdstanpy - INFO - Chain [1] start processing\n",
      "15:13:20 - cmdstanpy - INFO - Chain [1] done processing\n",
      "15:13:21 - cmdstanpy - INFO - Chain [1] start processing\n",
      "15:13:21 - cmdstanpy - INFO - Chain [1] done processing\n",
      "15:13:21 - cmdstanpy - INFO - Chain [1] start processing\n",
      "15:13:21 - cmdstanpy - INFO - Chain [1] done processing\n",
      "15:13:21 - cmdstanpy - INFO - Chain [1] start processing\n",
      "15:13:22 - cmdstanpy - INFO - Chain [1] done processing\n",
      "15:13:22 - cmdstanpy - INFO - Chain [1] start processing\n",
      "15:13:22 - cmdstanpy - INFO - Chain [1] done processing\n",
      "15:13:22 - cmdstanpy - INFO - Chain [1] start processing\n",
      "15:13:23 - cmdstanpy - INFO - Chain [1] done processing\n",
      "15:13:23 - cmdstanpy - INFO - Chain [1] start processing\n",
      "15:13:23 - cmdstanpy - INFO - Chain [1] done processing\n",
      " 29%|████████████▌                              | 22/75 [02:38<06:32,  7.41s/it]"
     ]
    },
    {
     "data": {
      "application/vnd.jupyter.widget-view+json": {
       "model_id": "de082131eac044b2870916e5bb687194",
       "version_major": 2,
       "version_minor": 0
      },
      "text/plain": [
       "  0%|          | 0/16 [00:00<?, ?it/s]"
      ]
     },
     "metadata": {},
     "output_type": "display_data"
    },
    {
     "name": "stderr",
     "output_type": "stream",
     "text": [
      "15:13:24 - cmdstanpy - INFO - Chain [1] start processing\n",
      "15:13:24 - cmdstanpy - INFO - Chain [1] done processing\n",
      "15:13:24 - cmdstanpy - INFO - Chain [1] start processing\n",
      "15:13:25 - cmdstanpy - INFO - Chain [1] done processing\n",
      "15:13:25 - cmdstanpy - INFO - Chain [1] start processing\n",
      "15:13:25 - cmdstanpy - INFO - Chain [1] done processing\n",
      "15:13:25 - cmdstanpy - INFO - Chain [1] start processing\n",
      "15:13:25 - cmdstanpy - INFO - Chain [1] done processing\n",
      "15:13:26 - cmdstanpy - INFO - Chain [1] start processing\n",
      "15:13:26 - cmdstanpy - INFO - Chain [1] done processing\n",
      "15:13:26 - cmdstanpy - INFO - Chain [1] start processing\n",
      "15:13:26 - cmdstanpy - INFO - Chain [1] done processing\n",
      "15:13:26 - cmdstanpy - INFO - Chain [1] start processing\n",
      "15:13:26 - cmdstanpy - INFO - Chain [1] done processing\n",
      "15:13:27 - cmdstanpy - INFO - Chain [1] start processing\n",
      "15:13:27 - cmdstanpy - INFO - Chain [1] done processing\n",
      "15:13:27 - cmdstanpy - INFO - Chain [1] start processing\n",
      "15:13:27 - cmdstanpy - INFO - Chain [1] done processing\n",
      "15:13:27 - cmdstanpy - INFO - Chain [1] start processing\n",
      "15:13:28 - cmdstanpy - INFO - Chain [1] done processing\n",
      "15:13:28 - cmdstanpy - INFO - Chain [1] start processing\n",
      "15:13:28 - cmdstanpy - INFO - Chain [1] done processing\n",
      "15:13:28 - cmdstanpy - INFO - Chain [1] start processing\n",
      "15:13:28 - cmdstanpy - INFO - Chain [1] done processing\n",
      "15:13:29 - cmdstanpy - INFO - Chain [1] start processing\n",
      "15:13:29 - cmdstanpy - INFO - Chain [1] done processing\n",
      "15:13:29 - cmdstanpy - INFO - Chain [1] start processing\n",
      "15:13:29 - cmdstanpy - INFO - Chain [1] done processing\n",
      "15:13:30 - cmdstanpy - INFO - Chain [1] start processing\n",
      "15:13:30 - cmdstanpy - INFO - Chain [1] done processing\n",
      "15:13:30 - cmdstanpy - INFO - Chain [1] start processing\n",
      "15:13:30 - cmdstanpy - INFO - Chain [1] done processing\n",
      " 31%|█████████████▏                             | 23/75 [02:45<06:22,  7.35s/it]"
     ]
    },
    {
     "data": {
      "application/vnd.jupyter.widget-view+json": {
       "model_id": "83c66780fbbf44769673bcc787fe736d",
       "version_major": 2,
       "version_minor": 0
      },
      "text/plain": [
       "  0%|          | 0/16 [00:00<?, ?it/s]"
      ]
     },
     "metadata": {},
     "output_type": "display_data"
    },
    {
     "name": "stderr",
     "output_type": "stream",
     "text": [
      "15:13:31 - cmdstanpy - INFO - Chain [1] start processing\n",
      "15:13:31 - cmdstanpy - INFO - Chain [1] done processing\n",
      "15:13:32 - cmdstanpy - INFO - Chain [1] start processing\n",
      "15:13:32 - cmdstanpy - INFO - Chain [1] done processing\n",
      "15:13:32 - cmdstanpy - INFO - Chain [1] start processing\n",
      "15:13:32 - cmdstanpy - INFO - Chain [1] done processing\n",
      "15:13:32 - cmdstanpy - INFO - Chain [1] start processing\n",
      "15:13:33 - cmdstanpy - INFO - Chain [1] done processing\n",
      "15:13:33 - cmdstanpy - INFO - Chain [1] start processing\n",
      "15:13:33 - cmdstanpy - INFO - Chain [1] done processing\n",
      "15:13:33 - cmdstanpy - INFO - Chain [1] start processing\n",
      "15:13:33 - cmdstanpy - INFO - Chain [1] done processing\n",
      "15:13:34 - cmdstanpy - INFO - Chain [1] start processing\n",
      "15:13:34 - cmdstanpy - INFO - Chain [1] done processing\n",
      "15:13:34 - cmdstanpy - INFO - Chain [1] start processing\n",
      "15:13:34 - cmdstanpy - INFO - Chain [1] done processing\n",
      "15:13:34 - cmdstanpy - INFO - Chain [1] start processing\n",
      "15:13:35 - cmdstanpy - INFO - Chain [1] done processing\n",
      "15:13:35 - cmdstanpy - INFO - Chain [1] start processing\n",
      "15:13:35 - cmdstanpy - INFO - Chain [1] done processing\n",
      "15:13:35 - cmdstanpy - INFO - Chain [1] start processing\n",
      "15:13:35 - cmdstanpy - INFO - Chain [1] done processing\n",
      "15:13:36 - cmdstanpy - INFO - Chain [1] start processing\n",
      "15:13:36 - cmdstanpy - INFO - Chain [1] done processing\n",
      "15:13:36 - cmdstanpy - INFO - Chain [1] start processing\n",
      "15:13:36 - cmdstanpy - INFO - Chain [1] done processing\n",
      "15:13:36 - cmdstanpy - INFO - Chain [1] start processing\n",
      "15:13:37 - cmdstanpy - INFO - Chain [1] done processing\n",
      "15:13:37 - cmdstanpy - INFO - Chain [1] start processing\n",
      "15:13:37 - cmdstanpy - INFO - Chain [1] done processing\n",
      "15:13:37 - cmdstanpy - INFO - Chain [1] start processing\n",
      "15:13:38 - cmdstanpy - INFO - Chain [1] done processing\n",
      " 32%|█████████████▊                             | 24/75 [02:53<06:14,  7.34s/it]"
     ]
    },
    {
     "data": {
      "application/vnd.jupyter.widget-view+json": {
       "model_id": "46c0f83ab09f4da992481ea29d579ac5",
       "version_major": 2,
       "version_minor": 0
      },
      "text/plain": [
       "  0%|          | 0/16 [00:00<?, ?it/s]"
      ]
     },
     "metadata": {},
     "output_type": "display_data"
    },
    {
     "name": "stderr",
     "output_type": "stream",
     "text": [
      "15:13:39 - cmdstanpy - INFO - Chain [1] start processing\n",
      "15:13:39 - cmdstanpy - INFO - Chain [1] done processing\n",
      "15:13:39 - cmdstanpy - INFO - Chain [1] start processing\n",
      "15:13:39 - cmdstanpy - INFO - Chain [1] done processing\n",
      "15:13:39 - cmdstanpy - INFO - Chain [1] start processing\n",
      "15:13:39 - cmdstanpy - INFO - Chain [1] done processing\n",
      "15:13:40 - cmdstanpy - INFO - Chain [1] start processing\n",
      "15:13:40 - cmdstanpy - INFO - Chain [1] done processing\n",
      "15:13:40 - cmdstanpy - INFO - Chain [1] start processing\n",
      "15:13:40 - cmdstanpy - INFO - Chain [1] done processing\n",
      "15:13:40 - cmdstanpy - INFO - Chain [1] start processing\n",
      "15:13:41 - cmdstanpy - INFO - Chain [1] done processing\n",
      "15:13:41 - cmdstanpy - INFO - Chain [1] start processing\n",
      "15:13:41 - cmdstanpy - INFO - Chain [1] done processing\n",
      "15:13:41 - cmdstanpy - INFO - Chain [1] start processing\n",
      "15:13:41 - cmdstanpy - INFO - Chain [1] done processing\n",
      "15:13:42 - cmdstanpy - INFO - Chain [1] start processing\n",
      "15:13:42 - cmdstanpy - INFO - Chain [1] done processing\n",
      "15:13:42 - cmdstanpy - INFO - Chain [1] start processing\n",
      "15:13:42 - cmdstanpy - INFO - Chain [1] done processing\n",
      "15:13:43 - cmdstanpy - INFO - Chain [1] start processing\n",
      "15:13:43 - cmdstanpy - INFO - Chain [1] done processing\n",
      "15:13:43 - cmdstanpy - INFO - Chain [1] start processing\n",
      "15:13:43 - cmdstanpy - INFO - Chain [1] done processing\n",
      "15:13:43 - cmdstanpy - INFO - Chain [1] start processing\n",
      "15:13:44 - cmdstanpy - INFO - Chain [1] done processing\n",
      "15:13:44 - cmdstanpy - INFO - Chain [1] start processing\n",
      "15:13:44 - cmdstanpy - INFO - Chain [1] done processing\n",
      "15:13:44 - cmdstanpy - INFO - Chain [1] start processing\n",
      "15:13:44 - cmdstanpy - INFO - Chain [1] done processing\n",
      "15:13:45 - cmdstanpy - INFO - Chain [1] start processing\n",
      "15:13:45 - cmdstanpy - INFO - Chain [1] done processing\n",
      " 33%|██████████████▎                            | 25/75 [03:00<06:09,  7.38s/it]"
     ]
    },
    {
     "data": {
      "application/vnd.jupyter.widget-view+json": {
       "model_id": "e3791cd9e8e34b9a9045246896c950d0",
       "version_major": 2,
       "version_minor": 0
      },
      "text/plain": [
       "  0%|          | 0/16 [00:00<?, ?it/s]"
      ]
     },
     "metadata": {},
     "output_type": "display_data"
    },
    {
     "name": "stderr",
     "output_type": "stream",
     "text": [
      "15:13:46 - cmdstanpy - INFO - Chain [1] start processing\n",
      "15:13:46 - cmdstanpy - INFO - Chain [1] done processing\n",
      "15:13:46 - cmdstanpy - INFO - Chain [1] start processing\n",
      "15:13:47 - cmdstanpy - INFO - Chain [1] done processing\n",
      "15:13:47 - cmdstanpy - INFO - Chain [1] start processing\n",
      "15:13:47 - cmdstanpy - INFO - Chain [1] done processing\n",
      "15:13:47 - cmdstanpy - INFO - Chain [1] start processing\n",
      "15:13:47 - cmdstanpy - INFO - Chain [1] done processing\n",
      "15:13:48 - cmdstanpy - INFO - Chain [1] start processing\n",
      "15:13:48 - cmdstanpy - INFO - Chain [1] done processing\n",
      "15:13:48 - cmdstanpy - INFO - Chain [1] start processing\n",
      "15:13:48 - cmdstanpy - INFO - Chain [1] done processing\n",
      "15:13:48 - cmdstanpy - INFO - Chain [1] start processing\n",
      "15:13:48 - cmdstanpy - INFO - Chain [1] done processing\n",
      "15:13:49 - cmdstanpy - INFO - Chain [1] start processing\n",
      "15:13:49 - cmdstanpy - INFO - Chain [1] done processing\n",
      "15:13:49 - cmdstanpy - INFO - Chain [1] start processing\n",
      "15:13:49 - cmdstanpy - INFO - Chain [1] done processing\n",
      "15:13:50 - cmdstanpy - INFO - Chain [1] start processing\n",
      "15:13:50 - cmdstanpy - INFO - Chain [1] done processing\n",
      "15:13:50 - cmdstanpy - INFO - Chain [1] start processing\n",
      "15:13:50 - cmdstanpy - INFO - Chain [1] done processing\n",
      "15:13:50 - cmdstanpy - INFO - Chain [1] start processing\n",
      "15:13:51 - cmdstanpy - INFO - Chain [1] done processing\n",
      "15:13:51 - cmdstanpy - INFO - Chain [1] start processing\n",
      "15:13:51 - cmdstanpy - INFO - Chain [1] done processing\n",
      "15:13:51 - cmdstanpy - INFO - Chain [1] start processing\n",
      "15:13:51 - cmdstanpy - INFO - Chain [1] done processing\n",
      "15:13:52 - cmdstanpy - INFO - Chain [1] start processing\n",
      "15:13:52 - cmdstanpy - INFO - Chain [1] done processing\n",
      "15:13:52 - cmdstanpy - INFO - Chain [1] start processing\n",
      "15:13:52 - cmdstanpy - INFO - Chain [1] done processing\n",
      " 35%|██████████████▉                            | 26/75 [03:07<05:58,  7.32s/it]"
     ]
    },
    {
     "data": {
      "application/vnd.jupyter.widget-view+json": {
       "model_id": "41091b2b21f6419dac8968266adf322f",
       "version_major": 2,
       "version_minor": 0
      },
      "text/plain": [
       "  0%|          | 0/16 [00:00<?, ?it/s]"
      ]
     },
     "metadata": {},
     "output_type": "display_data"
    },
    {
     "name": "stderr",
     "output_type": "stream",
     "text": [
      "15:13:53 - cmdstanpy - INFO - Chain [1] start processing\n",
      "15:13:53 - cmdstanpy - INFO - Chain [1] done processing\n",
      "15:13:54 - cmdstanpy - INFO - Chain [1] start processing\n",
      "15:13:54 - cmdstanpy - INFO - Chain [1] done processing\n",
      "15:13:54 - cmdstanpy - INFO - Chain [1] start processing\n",
      "15:13:54 - cmdstanpy - INFO - Chain [1] done processing\n",
      "15:13:54 - cmdstanpy - INFO - Chain [1] start processing\n",
      "15:13:54 - cmdstanpy - INFO - Chain [1] done processing\n",
      "15:13:55 - cmdstanpy - INFO - Chain [1] start processing\n",
      "15:13:55 - cmdstanpy - INFO - Chain [1] done processing\n",
      "15:13:55 - cmdstanpy - INFO - Chain [1] start processing\n",
      "15:13:55 - cmdstanpy - INFO - Chain [1] done processing\n",
      "15:13:55 - cmdstanpy - INFO - Chain [1] start processing\n",
      "15:13:56 - cmdstanpy - INFO - Chain [1] done processing\n",
      "15:13:56 - cmdstanpy - INFO - Chain [1] start processing\n",
      "15:13:56 - cmdstanpy - INFO - Chain [1] done processing\n",
      "15:13:56 - cmdstanpy - INFO - Chain [1] start processing\n",
      "15:13:56 - cmdstanpy - INFO - Chain [1] done processing\n",
      "15:13:57 - cmdstanpy - INFO - Chain [1] start processing\n",
      "15:13:57 - cmdstanpy - INFO - Chain [1] done processing\n",
      "15:13:57 - cmdstanpy - INFO - Chain [1] start processing\n",
      "15:13:57 - cmdstanpy - INFO - Chain [1] done processing\n",
      "15:13:57 - cmdstanpy - INFO - Chain [1] start processing\n",
      "15:13:58 - cmdstanpy - INFO - Chain [1] done processing\n",
      "15:13:58 - cmdstanpy - INFO - Chain [1] start processing\n",
      "15:13:58 - cmdstanpy - INFO - Chain [1] done processing\n",
      "15:13:58 - cmdstanpy - INFO - Chain [1] start processing\n",
      "15:13:58 - cmdstanpy - INFO - Chain [1] done processing\n",
      "15:13:59 - cmdstanpy - INFO - Chain [1] start processing\n",
      "15:13:59 - cmdstanpy - INFO - Chain [1] done processing\n",
      "15:13:59 - cmdstanpy - INFO - Chain [1] start processing\n",
      "15:13:59 - cmdstanpy - INFO - Chain [1] done processing\n",
      " 36%|███████████████▍                           | 27/75 [03:14<05:48,  7.26s/it]"
     ]
    },
    {
     "data": {
      "application/vnd.jupyter.widget-view+json": {
       "model_id": "1ac0b23d17d64de7b8af80dd6adacd70",
       "version_major": 2,
       "version_minor": 0
      },
      "text/plain": [
       "  0%|          | 0/16 [00:00<?, ?it/s]"
      ]
     },
     "metadata": {},
     "output_type": "display_data"
    },
    {
     "name": "stderr",
     "output_type": "stream",
     "text": [
      "15:14:00 - cmdstanpy - INFO - Chain [1] start processing\n",
      "15:14:01 - cmdstanpy - INFO - Chain [1] done processing\n",
      "15:14:01 - cmdstanpy - INFO - Chain [1] start processing\n",
      "15:14:01 - cmdstanpy - INFO - Chain [1] done processing\n",
      "15:14:01 - cmdstanpy - INFO - Chain [1] start processing\n",
      "15:14:01 - cmdstanpy - INFO - Chain [1] done processing\n",
      "15:14:02 - cmdstanpy - INFO - Chain [1] start processing\n",
      "15:14:02 - cmdstanpy - INFO - Chain [1] done processing\n",
      "15:14:02 - cmdstanpy - INFO - Chain [1] start processing\n",
      "15:14:02 - cmdstanpy - INFO - Chain [1] done processing\n",
      "15:14:02 - cmdstanpy - INFO - Chain [1] start processing\n",
      "15:14:02 - cmdstanpy - INFO - Chain [1] done processing\n",
      "15:14:03 - cmdstanpy - INFO - Chain [1] start processing\n",
      "15:14:03 - cmdstanpy - INFO - Chain [1] done processing\n",
      "15:14:03 - cmdstanpy - INFO - Chain [1] start processing\n",
      "15:14:03 - cmdstanpy - INFO - Chain [1] done processing\n",
      "15:14:03 - cmdstanpy - INFO - Chain [1] start processing\n",
      "15:14:04 - cmdstanpy - INFO - Chain [1] done processing\n",
      "15:14:04 - cmdstanpy - INFO - Chain [1] start processing\n",
      "15:14:04 - cmdstanpy - INFO - Chain [1] done processing\n",
      "15:14:04 - cmdstanpy - INFO - Chain [1] start processing\n",
      "15:14:04 - cmdstanpy - INFO - Chain [1] done processing\n",
      "15:14:05 - cmdstanpy - INFO - Chain [1] start processing\n",
      "15:14:05 - cmdstanpy - INFO - Chain [1] done processing\n",
      "15:14:05 - cmdstanpy - INFO - Chain [1] start processing\n",
      "15:14:05 - cmdstanpy - INFO - Chain [1] done processing\n",
      "15:14:05 - cmdstanpy - INFO - Chain [1] start processing\n",
      "15:14:06 - cmdstanpy - INFO - Chain [1] done processing\n",
      "15:14:06 - cmdstanpy - INFO - Chain [1] start processing\n",
      "15:14:06 - cmdstanpy - INFO - Chain [1] done processing\n",
      "15:14:06 - cmdstanpy - INFO - Chain [1] start processing\n",
      "15:14:07 - cmdstanpy - INFO - Chain [1] done processing\n",
      " 37%|████████████████                           | 28/75 [03:22<05:40,  7.25s/it]"
     ]
    },
    {
     "data": {
      "application/vnd.jupyter.widget-view+json": {
       "model_id": "e85ee3e551af46ccbe010b2fe7600425",
       "version_major": 2,
       "version_minor": 0
      },
      "text/plain": [
       "  0%|          | 0/16 [00:00<?, ?it/s]"
      ]
     },
     "metadata": {},
     "output_type": "display_data"
    },
    {
     "name": "stderr",
     "output_type": "stream",
     "text": [
      "15:14:08 - cmdstanpy - INFO - Chain [1] start processing\n",
      "15:14:08 - cmdstanpy - INFO - Chain [1] done processing\n",
      "15:14:08 - cmdstanpy - INFO - Chain [1] start processing\n",
      "15:14:08 - cmdstanpy - INFO - Chain [1] done processing\n",
      "15:14:08 - cmdstanpy - INFO - Chain [1] start processing\n",
      "15:14:09 - cmdstanpy - INFO - Chain [1] done processing\n",
      "15:14:09 - cmdstanpy - INFO - Chain [1] start processing\n",
      "15:14:09 - cmdstanpy - INFO - Chain [1] done processing\n",
      "15:14:09 - cmdstanpy - INFO - Chain [1] start processing\n",
      "15:14:09 - cmdstanpy - INFO - Chain [1] done processing\n",
      "15:14:10 - cmdstanpy - INFO - Chain [1] start processing\n",
      "15:14:10 - cmdstanpy - INFO - Chain [1] done processing\n",
      "15:14:10 - cmdstanpy - INFO - Chain [1] start processing\n",
      "15:14:10 - cmdstanpy - INFO - Chain [1] done processing\n",
      "15:14:10 - cmdstanpy - INFO - Chain [1] start processing\n",
      "15:14:11 - cmdstanpy - INFO - Chain [1] done processing\n",
      "15:14:11 - cmdstanpy - INFO - Chain [1] start processing\n",
      "15:14:11 - cmdstanpy - INFO - Chain [1] done processing\n",
      "15:14:11 - cmdstanpy - INFO - Chain [1] start processing\n",
      "15:14:11 - cmdstanpy - INFO - Chain [1] done processing\n",
      "15:14:12 - cmdstanpy - INFO - Chain [1] start processing\n",
      "15:14:12 - cmdstanpy - INFO - Chain [1] done processing\n",
      "15:14:12 - cmdstanpy - INFO - Chain [1] start processing\n",
      "15:14:12 - cmdstanpy - INFO - Chain [1] done processing\n",
      "15:14:12 - cmdstanpy - INFO - Chain [1] start processing\n",
      "15:14:13 - cmdstanpy - INFO - Chain [1] done processing\n",
      "15:14:13 - cmdstanpy - INFO - Chain [1] start processing\n",
      "15:14:13 - cmdstanpy - INFO - Chain [1] done processing\n",
      "15:14:13 - cmdstanpy - INFO - Chain [1] start processing\n",
      "15:14:13 - cmdstanpy - INFO - Chain [1] done processing\n",
      "15:14:14 - cmdstanpy - INFO - Chain [1] start processing\n",
      "15:14:14 - cmdstanpy - INFO - Chain [1] done processing\n",
      " 39%|████████████████▋                          | 29/75 [03:29<05:35,  7.29s/it]"
     ]
    },
    {
     "data": {
      "application/vnd.jupyter.widget-view+json": {
       "model_id": "58c5542cc5bb4cadbd166fa773e6e7de",
       "version_major": 2,
       "version_minor": 0
      },
      "text/plain": [
       "  0%|          | 0/16 [00:00<?, ?it/s]"
      ]
     },
     "metadata": {},
     "output_type": "display_data"
    },
    {
     "name": "stderr",
     "output_type": "stream",
     "text": [
      "15:14:15 - cmdstanpy - INFO - Chain [1] start processing\n",
      "15:14:15 - cmdstanpy - INFO - Chain [1] done processing\n",
      "15:14:15 - cmdstanpy - INFO - Chain [1] start processing\n",
      "15:14:15 - cmdstanpy - INFO - Chain [1] done processing\n",
      "15:14:16 - cmdstanpy - INFO - Chain [1] start processing\n",
      "15:14:16 - cmdstanpy - INFO - Chain [1] done processing\n",
      "15:14:16 - cmdstanpy - INFO - Chain [1] start processing\n",
      "15:14:16 - cmdstanpy - INFO - Chain [1] done processing\n",
      "15:14:16 - cmdstanpy - INFO - Chain [1] start processing\n",
      "15:14:17 - cmdstanpy - INFO - Chain [1] done processing\n",
      "15:14:17 - cmdstanpy - INFO - Chain [1] start processing\n",
      "15:14:17 - cmdstanpy - INFO - Chain [1] done processing\n",
      "15:14:17 - cmdstanpy - INFO - Chain [1] start processing\n",
      "15:14:17 - cmdstanpy - INFO - Chain [1] done processing\n",
      "15:14:18 - cmdstanpy - INFO - Chain [1] start processing\n",
      "15:14:18 - cmdstanpy - INFO - Chain [1] done processing\n",
      "15:14:18 - cmdstanpy - INFO - Chain [1] start processing\n",
      "15:14:18 - cmdstanpy - INFO - Chain [1] done processing\n",
      "15:14:18 - cmdstanpy - INFO - Chain [1] start processing\n",
      "15:14:19 - cmdstanpy - INFO - Chain [1] done processing\n",
      "15:14:19 - cmdstanpy - INFO - Chain [1] start processing\n",
      "15:14:19 - cmdstanpy - INFO - Chain [1] done processing\n",
      "15:14:19 - cmdstanpy - INFO - Chain [1] start processing\n",
      "15:14:19 - cmdstanpy - INFO - Chain [1] done processing\n",
      "15:14:20 - cmdstanpy - INFO - Chain [1] start processing\n",
      "15:14:20 - cmdstanpy - INFO - Chain [1] done processing\n",
      "15:14:20 - cmdstanpy - INFO - Chain [1] start processing\n",
      "15:14:20 - cmdstanpy - INFO - Chain [1] done processing\n",
      "15:14:21 - cmdstanpy - INFO - Chain [1] start processing\n",
      "15:14:21 - cmdstanpy - INFO - Chain [1] done processing\n",
      "15:14:21 - cmdstanpy - INFO - Chain [1] start processing\n",
      "15:14:21 - cmdstanpy - INFO - Chain [1] done processing\n",
      " 40%|█████████████████▏                         | 30/75 [03:36<05:28,  7.30s/it]"
     ]
    },
    {
     "data": {
      "application/vnd.jupyter.widget-view+json": {
       "model_id": "66b3a83f28cb4447904a147f2cdf1e9d",
       "version_major": 2,
       "version_minor": 0
      },
      "text/plain": [
       "  0%|          | 0/16 [00:00<?, ?it/s]"
      ]
     },
     "metadata": {},
     "output_type": "display_data"
    },
    {
     "name": "stderr",
     "output_type": "stream",
     "text": [
      "15:14:22 - cmdstanpy - INFO - Chain [1] start processing\n",
      "15:14:22 - cmdstanpy - INFO - Chain [1] done processing\n",
      "15:14:23 - cmdstanpy - INFO - Chain [1] start processing\n",
      "15:14:23 - cmdstanpy - INFO - Chain [1] done processing\n",
      "15:14:23 - cmdstanpy - INFO - Chain [1] start processing\n",
      "15:14:23 - cmdstanpy - INFO - Chain [1] done processing\n",
      "15:14:23 - cmdstanpy - INFO - Chain [1] start processing\n",
      "15:14:23 - cmdstanpy - INFO - Chain [1] done processing\n",
      "15:14:24 - cmdstanpy - INFO - Chain [1] start processing\n",
      "15:14:24 - cmdstanpy - INFO - Chain [1] done processing\n",
      "15:14:24 - cmdstanpy - INFO - Chain [1] start processing\n",
      "15:14:24 - cmdstanpy - INFO - Chain [1] done processing\n",
      "15:14:24 - cmdstanpy - INFO - Chain [1] start processing\n",
      "15:14:24 - cmdstanpy - INFO - Chain [1] done processing\n",
      "15:14:25 - cmdstanpy - INFO - Chain [1] start processing\n",
      "15:14:25 - cmdstanpy - INFO - Chain [1] done processing\n",
      "15:14:25 - cmdstanpy - INFO - Chain [1] start processing\n",
      "15:14:25 - cmdstanpy - INFO - Chain [1] done processing\n",
      "15:14:26 - cmdstanpy - INFO - Chain [1] start processing\n",
      "15:14:26 - cmdstanpy - INFO - Chain [1] done processing\n",
      "15:14:26 - cmdstanpy - INFO - Chain [1] start processing\n",
      "15:14:26 - cmdstanpy - INFO - Chain [1] done processing\n",
      "15:14:26 - cmdstanpy - INFO - Chain [1] start processing\n",
      "15:14:27 - cmdstanpy - INFO - Chain [1] done processing\n",
      "15:14:27 - cmdstanpy - INFO - Chain [1] start processing\n",
      "15:14:27 - cmdstanpy - INFO - Chain [1] done processing\n",
      "15:14:27 - cmdstanpy - INFO - Chain [1] start processing\n",
      "15:14:27 - cmdstanpy - INFO - Chain [1] done processing\n",
      "15:14:28 - cmdstanpy - INFO - Chain [1] start processing\n",
      "15:14:28 - cmdstanpy - INFO - Chain [1] done processing\n",
      "15:14:28 - cmdstanpy - INFO - Chain [1] start processing\n",
      "15:14:28 - cmdstanpy - INFO - Chain [1] done processing\n",
      " 41%|█████████████████▊                         | 31/75 [03:43<05:17,  7.23s/it]"
     ]
    },
    {
     "data": {
      "application/vnd.jupyter.widget-view+json": {
       "model_id": "4aba479d1f86476da24a40d42eb90596",
       "version_major": 2,
       "version_minor": 0
      },
      "text/plain": [
       "  0%|          | 0/16 [00:00<?, ?it/s]"
      ]
     },
     "metadata": {},
     "output_type": "display_data"
    },
    {
     "name": "stderr",
     "output_type": "stream",
     "text": [
      "15:14:29 - cmdstanpy - INFO - Chain [1] start processing\n",
      "15:14:30 - cmdstanpy - INFO - Chain [1] done processing\n",
      "15:14:30 - cmdstanpy - INFO - Chain [1] start processing\n",
      "15:14:30 - cmdstanpy - INFO - Chain [1] done processing\n",
      "15:14:30 - cmdstanpy - INFO - Chain [1] start processing\n",
      "15:14:30 - cmdstanpy - INFO - Chain [1] done processing\n",
      "15:14:30 - cmdstanpy - INFO - Chain [1] start processing\n",
      "15:14:31 - cmdstanpy - INFO - Chain [1] done processing\n",
      "15:14:31 - cmdstanpy - INFO - Chain [1] start processing\n",
      "15:14:31 - cmdstanpy - INFO - Chain [1] done processing\n",
      "15:14:31 - cmdstanpy - INFO - Chain [1] start processing\n",
      "15:14:31 - cmdstanpy - INFO - Chain [1] done processing\n",
      "15:14:32 - cmdstanpy - INFO - Chain [1] start processing\n",
      "15:14:32 - cmdstanpy - INFO - Chain [1] done processing\n",
      "15:14:32 - cmdstanpy - INFO - Chain [1] start processing\n",
      "15:14:32 - cmdstanpy - INFO - Chain [1] done processing\n",
      "15:14:32 - cmdstanpy - INFO - Chain [1] start processing\n",
      "15:14:32 - cmdstanpy - INFO - Chain [1] done processing\n",
      "15:14:33 - cmdstanpy - INFO - Chain [1] start processing\n",
      "15:14:33 - cmdstanpy - INFO - Chain [1] done processing\n",
      "15:14:33 - cmdstanpy - INFO - Chain [1] start processing\n",
      "15:14:33 - cmdstanpy - INFO - Chain [1] done processing\n",
      "15:14:34 - cmdstanpy - INFO - Chain [1] start processing\n",
      "15:14:34 - cmdstanpy - INFO - Chain [1] done processing\n",
      "15:14:34 - cmdstanpy - INFO - Chain [1] start processing\n",
      "15:14:34 - cmdstanpy - INFO - Chain [1] done processing\n",
      "15:14:35 - cmdstanpy - INFO - Chain [1] start processing\n",
      "15:14:35 - cmdstanpy - INFO - Chain [1] done processing\n",
      "15:14:35 - cmdstanpy - INFO - Chain [1] start processing\n",
      "15:14:35 - cmdstanpy - INFO - Chain [1] done processing\n",
      "15:14:36 - cmdstanpy - INFO - Chain [1] start processing\n",
      "15:14:36 - cmdstanpy - INFO - Chain [1] done processing\n",
      " 43%|██████████████████▎                        | 32/75 [03:51<05:12,  7.28s/it]"
     ]
    },
    {
     "data": {
      "application/vnd.jupyter.widget-view+json": {
       "model_id": "d35a4497c09549b2aec9a9d69092ecb0",
       "version_major": 2,
       "version_minor": 0
      },
      "text/plain": [
       "  0%|          | 0/16 [00:00<?, ?it/s]"
      ]
     },
     "metadata": {},
     "output_type": "display_data"
    },
    {
     "name": "stderr",
     "output_type": "stream",
     "text": [
      "15:14:37 - cmdstanpy - INFO - Chain [1] start processing\n",
      "15:14:37 - cmdstanpy - INFO - Chain [1] done processing\n",
      "15:14:37 - cmdstanpy - INFO - Chain [1] start processing\n",
      "15:14:37 - cmdstanpy - INFO - Chain [1] done processing\n",
      "15:14:38 - cmdstanpy - INFO - Chain [1] start processing\n",
      "15:14:38 - cmdstanpy - INFO - Chain [1] done processing\n",
      "15:14:38 - cmdstanpy - INFO - Chain [1] start processing\n",
      "15:14:38 - cmdstanpy - INFO - Chain [1] done processing\n",
      "15:14:38 - cmdstanpy - INFO - Chain [1] start processing\n",
      "15:14:38 - cmdstanpy - INFO - Chain [1] done processing\n",
      "15:14:39 - cmdstanpy - INFO - Chain [1] start processing\n",
      "15:14:39 - cmdstanpy - INFO - Chain [1] done processing\n",
      "15:14:39 - cmdstanpy - INFO - Chain [1] start processing\n",
      "15:14:39 - cmdstanpy - INFO - Chain [1] done processing\n",
      "15:14:39 - cmdstanpy - INFO - Chain [1] start processing\n",
      "15:14:39 - cmdstanpy - INFO - Chain [1] done processing\n",
      "15:14:40 - cmdstanpy - INFO - Chain [1] start processing\n",
      "15:14:40 - cmdstanpy - INFO - Chain [1] done processing\n",
      "15:14:40 - cmdstanpy - INFO - Chain [1] start processing\n",
      "15:14:40 - cmdstanpy - INFO - Chain [1] done processing\n",
      "15:14:40 - cmdstanpy - INFO - Chain [1] start processing\n",
      "15:14:41 - cmdstanpy - INFO - Chain [1] done processing\n",
      "15:14:41 - cmdstanpy - INFO - Chain [1] start processing\n",
      "15:14:41 - cmdstanpy - INFO - Chain [1] done processing\n",
      "15:14:41 - cmdstanpy - INFO - Chain [1] start processing\n",
      "15:14:41 - cmdstanpy - INFO - Chain [1] done processing\n",
      "15:14:42 - cmdstanpy - INFO - Chain [1] start processing\n",
      "15:14:42 - cmdstanpy - INFO - Chain [1] done processing\n",
      "15:14:42 - cmdstanpy - INFO - Chain [1] start processing\n",
      "15:14:42 - cmdstanpy - INFO - Chain [1] done processing\n",
      "15:14:42 - cmdstanpy - INFO - Chain [1] start processing\n",
      "15:14:43 - cmdstanpy - INFO - Chain [1] done processing\n",
      " 44%|██████████████████▉                        | 33/75 [03:58<05:01,  7.19s/it]"
     ]
    },
    {
     "data": {
      "application/vnd.jupyter.widget-view+json": {
       "model_id": "ce19b5bd38ec4c28b4589537aba709e6",
       "version_major": 2,
       "version_minor": 0
      },
      "text/plain": [
       "  0%|          | 0/16 [00:00<?, ?it/s]"
      ]
     },
     "metadata": {},
     "output_type": "display_data"
    },
    {
     "name": "stderr",
     "output_type": "stream",
     "text": [
      "15:14:44 - cmdstanpy - INFO - Chain [1] start processing\n",
      "15:14:44 - cmdstanpy - INFO - Chain [1] done processing\n",
      "15:14:44 - cmdstanpy - INFO - Chain [1] start processing\n",
      "15:14:44 - cmdstanpy - INFO - Chain [1] done processing\n",
      "15:14:44 - cmdstanpy - INFO - Chain [1] start processing\n",
      "15:14:45 - cmdstanpy - INFO - Chain [1] done processing\n",
      "15:14:45 - cmdstanpy - INFO - Chain [1] start processing\n",
      "15:14:45 - cmdstanpy - INFO - Chain [1] done processing\n",
      "15:14:45 - cmdstanpy - INFO - Chain [1] start processing\n",
      "15:14:45 - cmdstanpy - INFO - Chain [1] done processing\n",
      "15:14:46 - cmdstanpy - INFO - Chain [1] start processing\n",
      "15:14:46 - cmdstanpy - INFO - Chain [1] done processing\n",
      "15:14:46 - cmdstanpy - INFO - Chain [1] start processing\n",
      "15:14:46 - cmdstanpy - INFO - Chain [1] done processing\n",
      "15:14:46 - cmdstanpy - INFO - Chain [1] start processing\n",
      "15:14:46 - cmdstanpy - INFO - Chain [1] done processing\n",
      "15:14:47 - cmdstanpy - INFO - Chain [1] start processing\n",
      "15:14:47 - cmdstanpy - INFO - Chain [1] done processing\n",
      "15:14:47 - cmdstanpy - INFO - Chain [1] start processing\n",
      "15:14:47 - cmdstanpy - INFO - Chain [1] done processing\n",
      "15:14:47 - cmdstanpy - INFO - Chain [1] start processing\n",
      "15:14:48 - cmdstanpy - INFO - Chain [1] done processing\n",
      "15:14:48 - cmdstanpy - INFO - Chain [1] start processing\n",
      "15:14:48 - cmdstanpy - INFO - Chain [1] done processing\n",
      "15:14:48 - cmdstanpy - INFO - Chain [1] start processing\n",
      "15:14:48 - cmdstanpy - INFO - Chain [1] done processing\n",
      "15:14:49 - cmdstanpy - INFO - Chain [1] start processing\n",
      "15:14:49 - cmdstanpy - INFO - Chain [1] done processing\n",
      "15:14:49 - cmdstanpy - INFO - Chain [1] start processing\n",
      "15:14:49 - cmdstanpy - INFO - Chain [1] done processing\n",
      "15:14:50 - cmdstanpy - INFO - Chain [1] start processing\n",
      "15:14:50 - cmdstanpy - INFO - Chain [1] done processing\n",
      " 45%|███████████████████▍                       | 34/75 [04:05<04:52,  7.14s/it]"
     ]
    },
    {
     "data": {
      "application/vnd.jupyter.widget-view+json": {
       "model_id": "31406058253e42e890146403dbab58bd",
       "version_major": 2,
       "version_minor": 0
      },
      "text/plain": [
       "  0%|          | 0/16 [00:00<?, ?it/s]"
      ]
     },
     "metadata": {},
     "output_type": "display_data"
    },
    {
     "name": "stderr",
     "output_type": "stream",
     "text": [
      "15:14:51 - cmdstanpy - INFO - Chain [1] start processing\n",
      "15:14:51 - cmdstanpy - INFO - Chain [1] done processing\n",
      "15:14:51 - cmdstanpy - INFO - Chain [1] start processing\n",
      "15:14:51 - cmdstanpy - INFO - Chain [1] done processing\n",
      "15:14:51 - cmdstanpy - INFO - Chain [1] start processing\n",
      "15:14:52 - cmdstanpy - INFO - Chain [1] done processing\n",
      "15:14:52 - cmdstanpy - INFO - Chain [1] start processing\n",
      "15:14:52 - cmdstanpy - INFO - Chain [1] done processing\n",
      "15:14:52 - cmdstanpy - INFO - Chain [1] start processing\n",
      "15:14:52 - cmdstanpy - INFO - Chain [1] done processing\n",
      "15:14:53 - cmdstanpy - INFO - Chain [1] start processing\n",
      "15:14:53 - cmdstanpy - INFO - Chain [1] done processing\n",
      "15:14:53 - cmdstanpy - INFO - Chain [1] start processing\n",
      "15:14:53 - cmdstanpy - INFO - Chain [1] done processing\n",
      "15:14:53 - cmdstanpy - INFO - Chain [1] start processing\n",
      "15:14:54 - cmdstanpy - INFO - Chain [1] done processing\n",
      "15:14:54 - cmdstanpy - INFO - Chain [1] start processing\n",
      "15:14:54 - cmdstanpy - INFO - Chain [1] done processing\n",
      "15:14:54 - cmdstanpy - INFO - Chain [1] start processing\n",
      "15:14:54 - cmdstanpy - INFO - Chain [1] done processing\n",
      "15:14:55 - cmdstanpy - INFO - Chain [1] start processing\n",
      "15:14:55 - cmdstanpy - INFO - Chain [1] done processing\n",
      "15:14:55 - cmdstanpy - INFO - Chain [1] start processing\n",
      "15:14:55 - cmdstanpy - INFO - Chain [1] done processing\n",
      "15:14:55 - cmdstanpy - INFO - Chain [1] start processing\n",
      "15:14:56 - cmdstanpy - INFO - Chain [1] done processing\n",
      "15:14:56 - cmdstanpy - INFO - Chain [1] start processing\n",
      "15:14:56 - cmdstanpy - INFO - Chain [1] done processing\n",
      "15:14:56 - cmdstanpy - INFO - Chain [1] start processing\n",
      "15:14:56 - cmdstanpy - INFO - Chain [1] done processing\n",
      "15:14:57 - cmdstanpy - INFO - Chain [1] start processing\n",
      "15:14:57 - cmdstanpy - INFO - Chain [1] done processing\n",
      " 47%|████████████████████                       | 35/75 [04:12<04:46,  7.17s/it]"
     ]
    },
    {
     "data": {
      "application/vnd.jupyter.widget-view+json": {
       "model_id": "2d17671ffd16472aa386a96a323f8fd8",
       "version_major": 2,
       "version_minor": 0
      },
      "text/plain": [
       "  0%|          | 0/16 [00:00<?, ?it/s]"
      ]
     },
     "metadata": {},
     "output_type": "display_data"
    },
    {
     "name": "stderr",
     "output_type": "stream",
     "text": [
      "15:14:58 - cmdstanpy - INFO - Chain [1] start processing\n",
      "15:14:58 - cmdstanpy - INFO - Chain [1] done processing\n",
      "15:14:58 - cmdstanpy - INFO - Chain [1] start processing\n",
      "15:14:58 - cmdstanpy - INFO - Chain [1] done processing\n",
      "15:14:59 - cmdstanpy - INFO - Chain [1] start processing\n",
      "15:14:59 - cmdstanpy - INFO - Chain [1] done processing\n",
      "15:14:59 - cmdstanpy - INFO - Chain [1] start processing\n",
      "15:14:59 - cmdstanpy - INFO - Chain [1] done processing\n",
      "15:14:59 - cmdstanpy - INFO - Chain [1] start processing\n",
      "15:14:59 - cmdstanpy - INFO - Chain [1] done processing\n",
      "15:15:00 - cmdstanpy - INFO - Chain [1] start processing\n",
      "15:15:00 - cmdstanpy - INFO - Chain [1] done processing\n",
      "15:15:00 - cmdstanpy - INFO - Chain [1] start processing\n",
      "15:15:00 - cmdstanpy - INFO - Chain [1] done processing\n",
      "15:15:00 - cmdstanpy - INFO - Chain [1] start processing\n",
      "15:15:01 - cmdstanpy - INFO - Chain [1] done processing\n",
      "15:15:01 - cmdstanpy - INFO - Chain [1] start processing\n",
      "15:15:01 - cmdstanpy - INFO - Chain [1] done processing\n",
      "15:15:01 - cmdstanpy - INFO - Chain [1] start processing\n",
      "15:15:01 - cmdstanpy - INFO - Chain [1] done processing\n",
      "15:15:02 - cmdstanpy - INFO - Chain [1] start processing\n",
      "15:15:02 - cmdstanpy - INFO - Chain [1] done processing\n",
      "15:15:02 - cmdstanpy - INFO - Chain [1] start processing\n",
      "15:15:02 - cmdstanpy - INFO - Chain [1] done processing\n",
      "15:15:02 - cmdstanpy - INFO - Chain [1] start processing\n",
      "15:15:03 - cmdstanpy - INFO - Chain [1] done processing\n",
      "15:15:03 - cmdstanpy - INFO - Chain [1] start processing\n",
      "15:15:03 - cmdstanpy - INFO - Chain [1] done processing\n",
      "15:15:03 - cmdstanpy - INFO - Chain [1] start processing\n",
      "15:15:04 - cmdstanpy - INFO - Chain [1] done processing\n",
      "15:15:04 - cmdstanpy - INFO - Chain [1] start processing\n",
      "15:15:04 - cmdstanpy - INFO - Chain [1] done processing\n",
      " 48%|████████████████████▋                      | 36/75 [04:19<04:39,  7.16s/it]"
     ]
    },
    {
     "data": {
      "application/vnd.jupyter.widget-view+json": {
       "model_id": "703387a01a5c415e88b9b8e7896e1ef6",
       "version_major": 2,
       "version_minor": 0
      },
      "text/plain": [
       "  0%|          | 0/16 [00:00<?, ?it/s]"
      ]
     },
     "metadata": {},
     "output_type": "display_data"
    },
    {
     "name": "stderr",
     "output_type": "stream",
     "text": [
      "15:15:05 - cmdstanpy - INFO - Chain [1] start processing\n",
      "15:15:05 - cmdstanpy - INFO - Chain [1] done processing\n",
      "15:15:05 - cmdstanpy - INFO - Chain [1] start processing\n",
      "15:15:06 - cmdstanpy - INFO - Chain [1] done processing\n",
      "15:15:06 - cmdstanpy - INFO - Chain [1] start processing\n",
      "15:15:06 - cmdstanpy - INFO - Chain [1] done processing\n",
      "15:15:06 - cmdstanpy - INFO - Chain [1] start processing\n",
      "15:15:06 - cmdstanpy - INFO - Chain [1] done processing\n",
      "15:15:07 - cmdstanpy - INFO - Chain [1] start processing\n",
      "15:15:07 - cmdstanpy - INFO - Chain [1] done processing\n",
      "15:15:07 - cmdstanpy - INFO - Chain [1] start processing\n",
      "15:15:07 - cmdstanpy - INFO - Chain [1] done processing\n",
      "15:15:07 - cmdstanpy - INFO - Chain [1] start processing\n",
      "15:15:08 - cmdstanpy - INFO - Chain [1] done processing\n",
      "15:15:08 - cmdstanpy - INFO - Chain [1] start processing\n",
      "15:15:08 - cmdstanpy - INFO - Chain [1] done processing\n",
      "15:15:08 - cmdstanpy - INFO - Chain [1] start processing\n",
      "15:15:08 - cmdstanpy - INFO - Chain [1] done processing\n",
      "15:15:09 - cmdstanpy - INFO - Chain [1] start processing\n",
      "15:15:09 - cmdstanpy - INFO - Chain [1] done processing\n",
      "15:15:09 - cmdstanpy - INFO - Chain [1] start processing\n",
      "15:15:09 - cmdstanpy - INFO - Chain [1] done processing\n",
      "15:15:09 - cmdstanpy - INFO - Chain [1] start processing\n",
      "15:15:10 - cmdstanpy - INFO - Chain [1] done processing\n",
      "15:15:10 - cmdstanpy - INFO - Chain [1] start processing\n",
      "15:15:10 - cmdstanpy - INFO - Chain [1] done processing\n",
      "15:15:10 - cmdstanpy - INFO - Chain [1] start processing\n",
      "15:15:11 - cmdstanpy - INFO - Chain [1] done processing\n",
      "15:15:11 - cmdstanpy - INFO - Chain [1] start processing\n",
      "15:15:11 - cmdstanpy - INFO - Chain [1] done processing\n",
      "15:15:11 - cmdstanpy - INFO - Chain [1] start processing\n",
      "15:15:11 - cmdstanpy - INFO - Chain [1] done processing\n",
      " 49%|█████████████████████▏                     | 37/75 [04:26<04:34,  7.22s/it]"
     ]
    },
    {
     "data": {
      "application/vnd.jupyter.widget-view+json": {
       "model_id": "5f6e5aa940e74f38a7d741c7e12ed4d3",
       "version_major": 2,
       "version_minor": 0
      },
      "text/plain": [
       "  0%|          | 0/16 [00:00<?, ?it/s]"
      ]
     },
     "metadata": {},
     "output_type": "display_data"
    },
    {
     "name": "stderr",
     "output_type": "stream",
     "text": [
      "15:15:12 - cmdstanpy - INFO - Chain [1] start processing\n",
      "15:15:13 - cmdstanpy - INFO - Chain [1] done processing\n",
      "15:15:13 - cmdstanpy - INFO - Chain [1] start processing\n",
      "15:15:13 - cmdstanpy - INFO - Chain [1] done processing\n",
      "15:15:13 - cmdstanpy - INFO - Chain [1] start processing\n",
      "15:15:13 - cmdstanpy - INFO - Chain [1] done processing\n",
      "15:15:14 - cmdstanpy - INFO - Chain [1] start processing\n",
      "15:15:14 - cmdstanpy - INFO - Chain [1] done processing\n",
      "15:15:14 - cmdstanpy - INFO - Chain [1] start processing\n",
      "15:15:14 - cmdstanpy - INFO - Chain [1] done processing\n",
      "15:15:14 - cmdstanpy - INFO - Chain [1] start processing\n",
      "15:15:14 - cmdstanpy - INFO - Chain [1] done processing\n",
      "15:15:15 - cmdstanpy - INFO - Chain [1] start processing\n",
      "15:15:15 - cmdstanpy - INFO - Chain [1] done processing\n",
      "15:15:15 - cmdstanpy - INFO - Chain [1] start processing\n",
      "15:15:15 - cmdstanpy - INFO - Chain [1] done processing\n",
      "15:15:15 - cmdstanpy - INFO - Chain [1] start processing\n",
      "15:15:16 - cmdstanpy - INFO - Chain [1] done processing\n",
      "15:15:16 - cmdstanpy - INFO - Chain [1] start processing\n",
      "15:15:16 - cmdstanpy - INFO - Chain [1] done processing\n",
      "15:15:16 - cmdstanpy - INFO - Chain [1] start processing\n",
      "15:15:16 - cmdstanpy - INFO - Chain [1] done processing\n",
      "15:15:17 - cmdstanpy - INFO - Chain [1] start processing\n",
      "15:15:17 - cmdstanpy - INFO - Chain [1] done processing\n",
      "15:15:17 - cmdstanpy - INFO - Chain [1] start processing\n",
      "15:15:17 - cmdstanpy - INFO - Chain [1] done processing\n",
      "15:15:17 - cmdstanpy - INFO - Chain [1] start processing\n",
      "15:15:18 - cmdstanpy - INFO - Chain [1] done processing\n",
      "15:15:18 - cmdstanpy - INFO - Chain [1] start processing\n",
      "15:15:18 - cmdstanpy - INFO - Chain [1] done processing\n",
      "15:15:18 - cmdstanpy - INFO - Chain [1] start processing\n",
      "15:15:18 - cmdstanpy - INFO - Chain [1] done processing\n",
      " 51%|█████████████████████▊                     | 38/75 [04:33<04:24,  7.15s/it]"
     ]
    },
    {
     "data": {
      "application/vnd.jupyter.widget-view+json": {
       "model_id": "8ed5ac2a68724eb08e8edb0249cc5ab1",
       "version_major": 2,
       "version_minor": 0
      },
      "text/plain": [
       "  0%|          | 0/16 [00:00<?, ?it/s]"
      ]
     },
     "metadata": {},
     "output_type": "display_data"
    },
    {
     "name": "stderr",
     "output_type": "stream",
     "text": [
      "15:15:19 - cmdstanpy - INFO - Chain [1] start processing\n",
      "15:15:20 - cmdstanpy - INFO - Chain [1] done processing\n",
      "15:15:20 - cmdstanpy - INFO - Chain [1] start processing\n",
      "15:15:20 - cmdstanpy - INFO - Chain [1] done processing\n",
      "15:15:20 - cmdstanpy - INFO - Chain [1] start processing\n",
      "15:15:20 - cmdstanpy - INFO - Chain [1] done processing\n",
      "15:15:21 - cmdstanpy - INFO - Chain [1] start processing\n",
      "15:15:21 - cmdstanpy - INFO - Chain [1] done processing\n",
      "15:15:21 - cmdstanpy - INFO - Chain [1] start processing\n",
      "15:15:21 - cmdstanpy - INFO - Chain [1] done processing\n",
      "15:15:21 - cmdstanpy - INFO - Chain [1] start processing\n",
      "15:15:21 - cmdstanpy - INFO - Chain [1] done processing\n",
      "15:15:22 - cmdstanpy - INFO - Chain [1] start processing\n",
      "15:15:22 - cmdstanpy - INFO - Chain [1] done processing\n",
      "15:15:22 - cmdstanpy - INFO - Chain [1] start processing\n",
      "15:15:22 - cmdstanpy - INFO - Chain [1] done processing\n",
      "15:15:22 - cmdstanpy - INFO - Chain [1] start processing\n",
      "15:15:23 - cmdstanpy - INFO - Chain [1] done processing\n",
      "15:15:23 - cmdstanpy - INFO - Chain [1] start processing\n",
      "15:15:23 - cmdstanpy - INFO - Chain [1] done processing\n",
      "15:15:23 - cmdstanpy - INFO - Chain [1] start processing\n",
      "15:15:23 - cmdstanpy - INFO - Chain [1] done processing\n",
      "15:15:24 - cmdstanpy - INFO - Chain [1] start processing\n",
      "15:15:24 - cmdstanpy - INFO - Chain [1] done processing\n",
      "15:15:24 - cmdstanpy - INFO - Chain [1] start processing\n",
      "15:15:24 - cmdstanpy - INFO - Chain [1] done processing\n",
      "15:15:24 - cmdstanpy - INFO - Chain [1] start processing\n",
      "15:15:24 - cmdstanpy - INFO - Chain [1] done processing\n",
      "15:15:25 - cmdstanpy - INFO - Chain [1] start processing\n",
      "15:15:25 - cmdstanpy - INFO - Chain [1] done processing\n",
      "15:15:25 - cmdstanpy - INFO - Chain [1] start processing\n",
      "15:15:25 - cmdstanpy - INFO - Chain [1] done processing\n",
      " 52%|██████████████████████▎                    | 39/75 [04:40<04:14,  7.08s/it]"
     ]
    },
    {
     "data": {
      "application/vnd.jupyter.widget-view+json": {
       "model_id": "139fb2f0c4e640f89deae3eebade4c52",
       "version_major": 2,
       "version_minor": 0
      },
      "text/plain": [
       "  0%|          | 0/16 [00:00<?, ?it/s]"
      ]
     },
     "metadata": {},
     "output_type": "display_data"
    },
    {
     "name": "stderr",
     "output_type": "stream",
     "text": [
      "15:15:26 - cmdstanpy - INFO - Chain [1] start processing\n",
      "15:15:27 - cmdstanpy - INFO - Chain [1] done processing\n",
      "15:15:27 - cmdstanpy - INFO - Chain [1] start processing\n",
      "15:15:27 - cmdstanpy - INFO - Chain [1] done processing\n",
      "15:15:27 - cmdstanpy - INFO - Chain [1] start processing\n",
      "15:15:27 - cmdstanpy - INFO - Chain [1] done processing\n",
      "15:15:28 - cmdstanpy - INFO - Chain [1] start processing\n",
      "15:15:28 - cmdstanpy - INFO - Chain [1] done processing\n",
      "15:15:28 - cmdstanpy - INFO - Chain [1] start processing\n",
      "15:15:28 - cmdstanpy - INFO - Chain [1] done processing\n",
      "15:15:28 - cmdstanpy - INFO - Chain [1] start processing\n",
      "15:15:28 - cmdstanpy - INFO - Chain [1] done processing\n",
      "15:15:29 - cmdstanpy - INFO - Chain [1] start processing\n",
      "15:15:29 - cmdstanpy - INFO - Chain [1] done processing\n",
      "15:15:29 - cmdstanpy - INFO - Chain [1] start processing\n",
      "15:15:29 - cmdstanpy - INFO - Chain [1] done processing\n",
      "15:15:29 - cmdstanpy - INFO - Chain [1] start processing\n",
      "15:15:30 - cmdstanpy - INFO - Chain [1] done processing\n",
      "15:15:30 - cmdstanpy - INFO - Chain [1] start processing\n",
      "15:15:30 - cmdstanpy - INFO - Chain [1] done processing\n",
      "15:15:30 - cmdstanpy - INFO - Chain [1] start processing\n",
      "15:15:30 - cmdstanpy - INFO - Chain [1] done processing\n",
      "15:15:31 - cmdstanpy - INFO - Chain [1] start processing\n",
      "15:15:31 - cmdstanpy - INFO - Chain [1] done processing\n",
      "15:15:31 - cmdstanpy - INFO - Chain [1] start processing\n",
      "15:15:31 - cmdstanpy - INFO - Chain [1] done processing\n",
      "15:15:31 - cmdstanpy - INFO - Chain [1] start processing\n",
      "15:15:32 - cmdstanpy - INFO - Chain [1] done processing\n",
      "15:15:32 - cmdstanpy - INFO - Chain [1] start processing\n",
      "15:15:32 - cmdstanpy - INFO - Chain [1] done processing\n",
      "15:15:32 - cmdstanpy - INFO - Chain [1] start processing\n",
      "15:15:33 - cmdstanpy - INFO - Chain [1] done processing\n",
      " 53%|██████████████████████▉                    | 40/75 [04:48<04:09,  7.12s/it]"
     ]
    },
    {
     "data": {
      "application/vnd.jupyter.widget-view+json": {
       "model_id": "96b9ae630fe2475aaa95d35cc41c3c33",
       "version_major": 2,
       "version_minor": 0
      },
      "text/plain": [
       "  0%|          | 0/16 [00:00<?, ?it/s]"
      ]
     },
     "metadata": {},
     "output_type": "display_data"
    },
    {
     "name": "stderr",
     "output_type": "stream",
     "text": [
      "15:15:34 - cmdstanpy - INFO - Chain [1] start processing\n",
      "15:15:34 - cmdstanpy - INFO - Chain [1] done processing\n",
      "15:15:34 - cmdstanpy - INFO - Chain [1] start processing\n",
      "15:15:34 - cmdstanpy - INFO - Chain [1] done processing\n",
      "15:15:34 - cmdstanpy - INFO - Chain [1] start processing\n",
      "15:15:34 - cmdstanpy - INFO - Chain [1] done processing\n",
      "15:15:35 - cmdstanpy - INFO - Chain [1] start processing\n",
      "15:15:35 - cmdstanpy - INFO - Chain [1] done processing\n",
      "15:15:35 - cmdstanpy - INFO - Chain [1] start processing\n",
      "15:15:35 - cmdstanpy - INFO - Chain [1] done processing\n",
      "15:15:35 - cmdstanpy - INFO - Chain [1] start processing\n",
      "15:15:35 - cmdstanpy - INFO - Chain [1] done processing\n",
      "15:15:36 - cmdstanpy - INFO - Chain [1] start processing\n",
      "15:15:36 - cmdstanpy - INFO - Chain [1] done processing\n",
      "15:15:36 - cmdstanpy - INFO - Chain [1] start processing\n",
      "15:15:36 - cmdstanpy - INFO - Chain [1] done processing\n",
      "15:15:36 - cmdstanpy - INFO - Chain [1] start processing\n",
      "15:15:37 - cmdstanpy - INFO - Chain [1] done processing\n",
      "15:15:37 - cmdstanpy - INFO - Chain [1] start processing\n",
      "15:15:37 - cmdstanpy - INFO - Chain [1] done processing\n",
      "15:15:37 - cmdstanpy - INFO - Chain [1] start processing\n",
      "15:15:37 - cmdstanpy - INFO - Chain [1] done processing\n",
      "15:15:38 - cmdstanpy - INFO - Chain [1] start processing\n",
      "15:15:38 - cmdstanpy - INFO - Chain [1] done processing\n",
      "15:15:38 - cmdstanpy - INFO - Chain [1] start processing\n",
      "15:15:38 - cmdstanpy - INFO - Chain [1] done processing\n",
      "15:15:38 - cmdstanpy - INFO - Chain [1] start processing\n",
      "15:15:39 - cmdstanpy - INFO - Chain [1] done processing\n",
      "15:15:39 - cmdstanpy - INFO - Chain [1] start processing\n",
      "15:15:39 - cmdstanpy - INFO - Chain [1] done processing\n",
      "15:15:39 - cmdstanpy - INFO - Chain [1] start processing\n",
      "15:15:39 - cmdstanpy - INFO - Chain [1] done processing\n",
      " 55%|███████████████████████▌                   | 41/75 [04:55<03:59,  7.06s/it]"
     ]
    },
    {
     "data": {
      "application/vnd.jupyter.widget-view+json": {
       "model_id": "88bd314373a54e2b8bc822e156a4700b",
       "version_major": 2,
       "version_minor": 0
      },
      "text/plain": [
       "  0%|          | 0/16 [00:00<?, ?it/s]"
      ]
     },
     "metadata": {},
     "output_type": "display_data"
    },
    {
     "name": "stderr",
     "output_type": "stream",
     "text": [
      "15:15:41 - cmdstanpy - INFO - Chain [1] start processing\n",
      "15:15:41 - cmdstanpy - INFO - Chain [1] done processing\n",
      "15:15:41 - cmdstanpy - INFO - Chain [1] start processing\n",
      "15:15:41 - cmdstanpy - INFO - Chain [1] done processing\n",
      "15:15:41 - cmdstanpy - INFO - Chain [1] start processing\n",
      "15:15:41 - cmdstanpy - INFO - Chain [1] done processing\n",
      "15:15:42 - cmdstanpy - INFO - Chain [1] start processing\n",
      "15:15:42 - cmdstanpy - INFO - Chain [1] done processing\n",
      "15:15:42 - cmdstanpy - INFO - Chain [1] start processing\n",
      "15:15:42 - cmdstanpy - INFO - Chain [1] done processing\n",
      "15:15:42 - cmdstanpy - INFO - Chain [1] start processing\n",
      "15:15:43 - cmdstanpy - INFO - Chain [1] done processing\n",
      "15:15:43 - cmdstanpy - INFO - Chain [1] start processing\n",
      "15:15:43 - cmdstanpy - INFO - Chain [1] done processing\n",
      "15:15:43 - cmdstanpy - INFO - Chain [1] start processing\n",
      "15:15:44 - cmdstanpy - INFO - Chain [1] done processing\n",
      "15:15:44 - cmdstanpy - INFO - Chain [1] start processing\n",
      "15:15:44 - cmdstanpy - INFO - Chain [1] done processing\n",
      "15:15:44 - cmdstanpy - INFO - Chain [1] start processing\n",
      "15:15:44 - cmdstanpy - INFO - Chain [1] done processing\n",
      "15:15:45 - cmdstanpy - INFO - Chain [1] start processing\n",
      "15:15:45 - cmdstanpy - INFO - Chain [1] done processing\n",
      "15:15:45 - cmdstanpy - INFO - Chain [1] start processing\n",
      "15:15:45 - cmdstanpy - INFO - Chain [1] done processing\n",
      "15:15:46 - cmdstanpy - INFO - Chain [1] start processing\n",
      "15:15:46 - cmdstanpy - INFO - Chain [1] done processing\n",
      "15:15:46 - cmdstanpy - INFO - Chain [1] start processing\n",
      "15:15:46 - cmdstanpy - INFO - Chain [1] done processing\n",
      "15:15:47 - cmdstanpy - INFO - Chain [1] start processing\n",
      "15:15:47 - cmdstanpy - INFO - Chain [1] done processing\n",
      "15:15:47 - cmdstanpy - INFO - Chain [1] start processing\n",
      "15:15:47 - cmdstanpy - INFO - Chain [1] done processing\n",
      " 56%|████████████████████████                   | 42/75 [05:02<03:58,  7.23s/it]"
     ]
    },
    {
     "data": {
      "application/vnd.jupyter.widget-view+json": {
       "model_id": "d2c7cef406a54751988a6e83bc3a0998",
       "version_major": 2,
       "version_minor": 0
      },
      "text/plain": [
       "  0%|          | 0/16 [00:00<?, ?it/s]"
      ]
     },
     "metadata": {},
     "output_type": "display_data"
    },
    {
     "name": "stderr",
     "output_type": "stream",
     "text": [
      "15:15:48 - cmdstanpy - INFO - Chain [1] start processing\n",
      "15:15:48 - cmdstanpy - INFO - Chain [1] done processing\n",
      "15:15:48 - cmdstanpy - INFO - Chain [1] start processing\n",
      "15:15:49 - cmdstanpy - INFO - Chain [1] done processing\n",
      "15:15:49 - cmdstanpy - INFO - Chain [1] start processing\n",
      "15:15:49 - cmdstanpy - INFO - Chain [1] done processing\n",
      "15:15:49 - cmdstanpy - INFO - Chain [1] start processing\n",
      "15:15:49 - cmdstanpy - INFO - Chain [1] done processing\n",
      "15:15:49 - cmdstanpy - INFO - Chain [1] start processing\n",
      "15:15:50 - cmdstanpy - INFO - Chain [1] done processing\n",
      "15:15:50 - cmdstanpy - INFO - Chain [1] start processing\n",
      "15:15:50 - cmdstanpy - INFO - Chain [1] done processing\n",
      "15:15:50 - cmdstanpy - INFO - Chain [1] start processing\n",
      "15:15:50 - cmdstanpy - INFO - Chain [1] done processing\n",
      "15:15:51 - cmdstanpy - INFO - Chain [1] start processing\n",
      "15:15:51 - cmdstanpy - INFO - Chain [1] done processing\n",
      "15:15:51 - cmdstanpy - INFO - Chain [1] start processing\n",
      "15:15:51 - cmdstanpy - INFO - Chain [1] done processing\n",
      "15:15:51 - cmdstanpy - INFO - Chain [1] start processing\n",
      "15:15:52 - cmdstanpy - INFO - Chain [1] done processing\n",
      "15:15:52 - cmdstanpy - INFO - Chain [1] start processing\n",
      "15:15:52 - cmdstanpy - INFO - Chain [1] done processing\n",
      "15:15:52 - cmdstanpy - INFO - Chain [1] start processing\n",
      "15:15:52 - cmdstanpy - INFO - Chain [1] done processing\n",
      "15:15:53 - cmdstanpy - INFO - Chain [1] start processing\n",
      "15:15:53 - cmdstanpy - INFO - Chain [1] done processing\n",
      "15:15:53 - cmdstanpy - INFO - Chain [1] start processing\n",
      "15:15:53 - cmdstanpy - INFO - Chain [1] done processing\n",
      "15:15:53 - cmdstanpy - INFO - Chain [1] start processing\n",
      "15:15:54 - cmdstanpy - INFO - Chain [1] done processing\n",
      "15:15:54 - cmdstanpy - INFO - Chain [1] start processing\n",
      "15:15:54 - cmdstanpy - INFO - Chain [1] done processing\n",
      " 57%|████████████████████████▋                  | 43/75 [05:09<03:49,  7.17s/it]"
     ]
    },
    {
     "data": {
      "application/vnd.jupyter.widget-view+json": {
       "model_id": "1e2c25d661dc4b23998b7de5f39492c9",
       "version_major": 2,
       "version_minor": 0
      },
      "text/plain": [
       "  0%|          | 0/16 [00:00<?, ?it/s]"
      ]
     },
     "metadata": {},
     "output_type": "display_data"
    },
    {
     "name": "stderr",
     "output_type": "stream",
     "text": [
      "15:15:55 - cmdstanpy - INFO - Chain [1] start processing\n",
      "15:15:55 - cmdstanpy - INFO - Chain [1] done processing\n",
      "15:15:56 - cmdstanpy - INFO - Chain [1] start processing\n",
      "15:15:56 - cmdstanpy - INFO - Chain [1] done processing\n",
      "15:15:56 - cmdstanpy - INFO - Chain [1] start processing\n",
      "15:15:56 - cmdstanpy - INFO - Chain [1] done processing\n",
      "15:15:56 - cmdstanpy - INFO - Chain [1] start processing\n",
      "15:15:56 - cmdstanpy - INFO - Chain [1] done processing\n",
      "15:15:57 - cmdstanpy - INFO - Chain [1] start processing\n",
      "15:15:57 - cmdstanpy - INFO - Chain [1] done processing\n",
      "15:15:57 - cmdstanpy - INFO - Chain [1] start processing\n",
      "15:15:57 - cmdstanpy - INFO - Chain [1] done processing\n",
      "15:15:57 - cmdstanpy - INFO - Chain [1] start processing\n",
      "15:15:57 - cmdstanpy - INFO - Chain [1] done processing\n",
      "15:15:58 - cmdstanpy - INFO - Chain [1] start processing\n",
      "15:15:58 - cmdstanpy - INFO - Chain [1] done processing\n",
      "15:15:58 - cmdstanpy - INFO - Chain [1] start processing\n",
      "15:15:58 - cmdstanpy - INFO - Chain [1] done processing\n",
      "15:15:58 - cmdstanpy - INFO - Chain [1] start processing\n",
      "15:15:59 - cmdstanpy - INFO - Chain [1] done processing\n",
      "15:15:59 - cmdstanpy - INFO - Chain [1] start processing\n",
      "15:15:59 - cmdstanpy - INFO - Chain [1] done processing\n",
      "15:15:59 - cmdstanpy - INFO - Chain [1] start processing\n",
      "15:15:59 - cmdstanpy - INFO - Chain [1] done processing\n",
      "15:16:00 - cmdstanpy - INFO - Chain [1] start processing\n",
      "15:16:00 - cmdstanpy - INFO - Chain [1] done processing\n",
      "15:16:00 - cmdstanpy - INFO - Chain [1] start processing\n",
      "15:16:00 - cmdstanpy - INFO - Chain [1] done processing\n",
      "15:16:00 - cmdstanpy - INFO - Chain [1] start processing\n",
      "15:16:01 - cmdstanpy - INFO - Chain [1] done processing\n",
      "15:16:01 - cmdstanpy - INFO - Chain [1] start processing\n",
      "15:16:01 - cmdstanpy - INFO - Chain [1] done processing\n",
      " 59%|█████████████████████████▏                 | 44/75 [05:16<03:39,  7.09s/it]"
     ]
    },
    {
     "data": {
      "application/vnd.jupyter.widget-view+json": {
       "model_id": "c2056c7ba2004a9db338e9a3a28473d0",
       "version_major": 2,
       "version_minor": 0
      },
      "text/plain": [
       "  0%|          | 0/16 [00:00<?, ?it/s]"
      ]
     },
     "metadata": {},
     "output_type": "display_data"
    },
    {
     "name": "stderr",
     "output_type": "stream",
     "text": [
      "15:16:02 - cmdstanpy - INFO - Chain [1] start processing\n",
      "15:16:02 - cmdstanpy - INFO - Chain [1] done processing\n",
      "15:16:02 - cmdstanpy - INFO - Chain [1] start processing\n",
      "15:16:03 - cmdstanpy - INFO - Chain [1] done processing\n",
      "15:16:03 - cmdstanpy - INFO - Chain [1] start processing\n",
      "15:16:03 - cmdstanpy - INFO - Chain [1] done processing\n",
      "15:16:03 - cmdstanpy - INFO - Chain [1] start processing\n",
      "15:16:03 - cmdstanpy - INFO - Chain [1] done processing\n",
      "15:16:04 - cmdstanpy - INFO - Chain [1] start processing\n",
      "15:16:04 - cmdstanpy - INFO - Chain [1] done processing\n",
      "15:16:04 - cmdstanpy - INFO - Chain [1] start processing\n",
      "15:16:04 - cmdstanpy - INFO - Chain [1] done processing\n",
      "15:16:04 - cmdstanpy - INFO - Chain [1] start processing\n",
      "15:16:04 - cmdstanpy - INFO - Chain [1] done processing\n",
      "15:16:05 - cmdstanpy - INFO - Chain [1] start processing\n",
      "15:16:05 - cmdstanpy - INFO - Chain [1] done processing\n",
      "15:16:05 - cmdstanpy - INFO - Chain [1] start processing\n",
      "15:16:05 - cmdstanpy - INFO - Chain [1] done processing\n",
      "15:16:06 - cmdstanpy - INFO - Chain [1] start processing\n",
      "15:16:06 - cmdstanpy - INFO - Chain [1] done processing\n",
      "15:16:06 - cmdstanpy - INFO - Chain [1] start processing\n",
      "15:16:06 - cmdstanpy - INFO - Chain [1] done processing\n",
      "15:16:06 - cmdstanpy - INFO - Chain [1] start processing\n",
      "15:16:07 - cmdstanpy - INFO - Chain [1] done processing\n",
      "15:16:07 - cmdstanpy - INFO - Chain [1] start processing\n",
      "15:16:07 - cmdstanpy - INFO - Chain [1] done processing\n",
      "15:16:07 - cmdstanpy - INFO - Chain [1] start processing\n",
      "15:16:07 - cmdstanpy - INFO - Chain [1] done processing\n",
      "15:16:08 - cmdstanpy - INFO - Chain [1] start processing\n",
      "15:16:08 - cmdstanpy - INFO - Chain [1] done processing\n",
      "15:16:08 - cmdstanpy - INFO - Chain [1] start processing\n",
      "15:16:08 - cmdstanpy - INFO - Chain [1] done processing\n",
      " 60%|█████████████████████████▊                 | 45/75 [05:23<03:32,  7.10s/it]"
     ]
    },
    {
     "data": {
      "application/vnd.jupyter.widget-view+json": {
       "model_id": "0d219554b65d41c5967b6ea823334293",
       "version_major": 2,
       "version_minor": 0
      },
      "text/plain": [
       "  0%|          | 0/16 [00:00<?, ?it/s]"
      ]
     },
     "metadata": {},
     "output_type": "display_data"
    },
    {
     "name": "stderr",
     "output_type": "stream",
     "text": [
      "15:16:09 - cmdstanpy - INFO - Chain [1] start processing\n",
      "15:16:09 - cmdstanpy - INFO - Chain [1] done processing\n",
      "15:16:10 - cmdstanpy - INFO - Chain [1] start processing\n",
      "15:16:10 - cmdstanpy - INFO - Chain [1] done processing\n",
      "15:16:10 - cmdstanpy - INFO - Chain [1] start processing\n",
      "15:16:10 - cmdstanpy - INFO - Chain [1] done processing\n",
      "15:16:10 - cmdstanpy - INFO - Chain [1] start processing\n",
      "15:16:10 - cmdstanpy - INFO - Chain [1] done processing\n",
      "15:16:11 - cmdstanpy - INFO - Chain [1] start processing\n",
      "15:16:11 - cmdstanpy - INFO - Chain [1] done processing\n",
      "15:16:11 - cmdstanpy - INFO - Chain [1] start processing\n",
      "15:16:11 - cmdstanpy - INFO - Chain [1] done processing\n",
      "15:16:11 - cmdstanpy - INFO - Chain [1] start processing\n",
      "15:16:12 - cmdstanpy - INFO - Chain [1] done processing\n",
      "15:16:12 - cmdstanpy - INFO - Chain [1] start processing\n",
      "15:16:12 - cmdstanpy - INFO - Chain [1] done processing\n",
      "15:16:12 - cmdstanpy - INFO - Chain [1] start processing\n",
      "15:16:12 - cmdstanpy - INFO - Chain [1] done processing\n",
      "15:16:13 - cmdstanpy - INFO - Chain [1] start processing\n",
      "15:16:13 - cmdstanpy - INFO - Chain [1] done processing\n",
      "15:16:13 - cmdstanpy - INFO - Chain [1] start processing\n",
      "15:16:13 - cmdstanpy - INFO - Chain [1] done processing\n",
      "15:16:14 - cmdstanpy - INFO - Chain [1] start processing\n",
      "15:16:14 - cmdstanpy - INFO - Chain [1] done processing\n",
      "15:16:14 - cmdstanpy - INFO - Chain [1] start processing\n",
      "15:16:14 - cmdstanpy - INFO - Chain [1] done processing\n",
      "15:16:14 - cmdstanpy - INFO - Chain [1] start processing\n",
      "15:16:15 - cmdstanpy - INFO - Chain [1] done processing\n",
      "15:16:15 - cmdstanpy - INFO - Chain [1] start processing\n",
      "15:16:15 - cmdstanpy - INFO - Chain [1] done processing\n",
      "15:16:15 - cmdstanpy - INFO - Chain [1] start processing\n",
      "15:16:16 - cmdstanpy - INFO - Chain [1] done processing\n",
      " 61%|██████████████████████████▎                | 46/75 [05:31<03:30,  7.25s/it]"
     ]
    },
    {
     "data": {
      "application/vnd.jupyter.widget-view+json": {
       "model_id": "0e4b1e55d8f34a78b3c6dfa5768f3816",
       "version_major": 2,
       "version_minor": 0
      },
      "text/plain": [
       "  0%|          | 0/16 [00:00<?, ?it/s]"
      ]
     },
     "metadata": {},
     "output_type": "display_data"
    },
    {
     "name": "stderr",
     "output_type": "stream",
     "text": [
      "15:16:17 - cmdstanpy - INFO - Chain [1] start processing\n",
      "15:16:17 - cmdstanpy - INFO - Chain [1] done processing\n",
      "15:16:17 - cmdstanpy - INFO - Chain [1] start processing\n",
      "15:16:17 - cmdstanpy - INFO - Chain [1] done processing\n",
      "15:16:18 - cmdstanpy - INFO - Chain [1] start processing\n",
      "15:16:18 - cmdstanpy - INFO - Chain [1] done processing\n",
      "15:16:18 - cmdstanpy - INFO - Chain [1] start processing\n",
      "15:16:18 - cmdstanpy - INFO - Chain [1] done processing\n",
      "15:16:18 - cmdstanpy - INFO - Chain [1] start processing\n",
      "15:16:18 - cmdstanpy - INFO - Chain [1] done processing\n",
      "15:16:19 - cmdstanpy - INFO - Chain [1] start processing\n",
      "15:16:19 - cmdstanpy - INFO - Chain [1] done processing\n",
      "15:16:19 - cmdstanpy - INFO - Chain [1] start processing\n",
      "15:16:19 - cmdstanpy - INFO - Chain [1] done processing\n",
      "15:16:20 - cmdstanpy - INFO - Chain [1] start processing\n",
      "15:16:20 - cmdstanpy - INFO - Chain [1] done processing\n",
      "15:16:20 - cmdstanpy - INFO - Chain [1] start processing\n",
      "15:16:20 - cmdstanpy - INFO - Chain [1] done processing\n",
      "15:16:20 - cmdstanpy - INFO - Chain [1] start processing\n",
      "15:16:21 - cmdstanpy - INFO - Chain [1] done processing\n",
      "15:16:21 - cmdstanpy - INFO - Chain [1] start processing\n",
      "15:16:21 - cmdstanpy - INFO - Chain [1] done processing\n",
      "15:16:21 - cmdstanpy - INFO - Chain [1] start processing\n",
      "15:16:21 - cmdstanpy - INFO - Chain [1] done processing\n",
      "15:16:22 - cmdstanpy - INFO - Chain [1] start processing\n",
      "15:16:22 - cmdstanpy - INFO - Chain [1] done processing\n",
      "15:16:22 - cmdstanpy - INFO - Chain [1] start processing\n",
      "15:16:22 - cmdstanpy - INFO - Chain [1] done processing\n",
      "15:16:23 - cmdstanpy - INFO - Chain [1] start processing\n",
      "15:16:23 - cmdstanpy - INFO - Chain [1] done processing\n",
      "15:16:23 - cmdstanpy - INFO - Chain [1] start processing\n",
      "15:16:23 - cmdstanpy - INFO - Chain [1] done processing\n",
      " 63%|██████████████████████████▉                | 47/75 [05:39<03:27,  7.40s/it]"
     ]
    },
    {
     "data": {
      "application/vnd.jupyter.widget-view+json": {
       "model_id": "a42fce0168684a8887277bae3e08f9d7",
       "version_major": 2,
       "version_minor": 0
      },
      "text/plain": [
       "  0%|          | 0/16 [00:00<?, ?it/s]"
      ]
     },
     "metadata": {},
     "output_type": "display_data"
    },
    {
     "name": "stderr",
     "output_type": "stream",
     "text": [
      "15:16:25 - cmdstanpy - INFO - Chain [1] start processing\n",
      "15:16:25 - cmdstanpy - INFO - Chain [1] done processing\n",
      "15:16:25 - cmdstanpy - INFO - Chain [1] start processing\n",
      "15:16:25 - cmdstanpy - INFO - Chain [1] done processing\n",
      "15:16:25 - cmdstanpy - INFO - Chain [1] start processing\n",
      "15:16:25 - cmdstanpy - INFO - Chain [1] done processing\n",
      "15:16:26 - cmdstanpy - INFO - Chain [1] start processing\n",
      "15:16:26 - cmdstanpy - INFO - Chain [1] done processing\n",
      "15:16:26 - cmdstanpy - INFO - Chain [1] start processing\n",
      "15:16:26 - cmdstanpy - INFO - Chain [1] done processing\n",
      "15:16:27 - cmdstanpy - INFO - Chain [1] start processing\n",
      "15:16:27 - cmdstanpy - INFO - Chain [1] done processing\n",
      "15:16:27 - cmdstanpy - INFO - Chain [1] start processing\n",
      "15:16:27 - cmdstanpy - INFO - Chain [1] done processing\n",
      "15:16:27 - cmdstanpy - INFO - Chain [1] start processing\n",
      "15:16:28 - cmdstanpy - INFO - Chain [1] done processing\n",
      "15:16:28 - cmdstanpy - INFO - Chain [1] start processing\n",
      "15:16:28 - cmdstanpy - INFO - Chain [1] done processing\n",
      "15:16:28 - cmdstanpy - INFO - Chain [1] start processing\n",
      "15:16:28 - cmdstanpy - INFO - Chain [1] done processing\n",
      "15:16:29 - cmdstanpy - INFO - Chain [1] start processing\n",
      "15:16:29 - cmdstanpy - INFO - Chain [1] done processing\n",
      "15:16:29 - cmdstanpy - INFO - Chain [1] start processing\n",
      "15:16:29 - cmdstanpy - INFO - Chain [1] done processing\n",
      "15:16:29 - cmdstanpy - INFO - Chain [1] start processing\n",
      "15:16:30 - cmdstanpy - INFO - Chain [1] done processing\n",
      "15:16:30 - cmdstanpy - INFO - Chain [1] start processing\n",
      "15:16:30 - cmdstanpy - INFO - Chain [1] done processing\n",
      "15:16:30 - cmdstanpy - INFO - Chain [1] start processing\n",
      "15:16:30 - cmdstanpy - INFO - Chain [1] done processing\n",
      "15:16:31 - cmdstanpy - INFO - Chain [1] start processing\n",
      "15:16:31 - cmdstanpy - INFO - Chain [1] done processing\n",
      " 64%|███████████████████████████▌               | 48/75 [05:46<03:19,  7.38s/it]"
     ]
    },
    {
     "data": {
      "application/vnd.jupyter.widget-view+json": {
       "model_id": "878c307ece1d4225bb991e575b5210ed",
       "version_major": 2,
       "version_minor": 0
      },
      "text/plain": [
       "  0%|          | 0/16 [00:00<?, ?it/s]"
      ]
     },
     "metadata": {},
     "output_type": "display_data"
    },
    {
     "name": "stderr",
     "output_type": "stream",
     "text": [
      "15:16:32 - cmdstanpy - INFO - Chain [1] start processing\n",
      "15:16:32 - cmdstanpy - INFO - Chain [1] done processing\n",
      "15:16:32 - cmdstanpy - INFO - Chain [1] start processing\n",
      "15:16:32 - cmdstanpy - INFO - Chain [1] done processing\n",
      "15:16:33 - cmdstanpy - INFO - Chain [1] start processing\n",
      "15:16:33 - cmdstanpy - INFO - Chain [1] done processing\n",
      "15:16:33 - cmdstanpy - INFO - Chain [1] start processing\n",
      "15:16:33 - cmdstanpy - INFO - Chain [1] done processing\n",
      "15:16:33 - cmdstanpy - INFO - Chain [1] start processing\n",
      "15:16:33 - cmdstanpy - INFO - Chain [1] done processing\n",
      "15:16:34 - cmdstanpy - INFO - Chain [1] start processing\n",
      "15:16:34 - cmdstanpy - INFO - Chain [1] done processing\n",
      "15:16:34 - cmdstanpy - INFO - Chain [1] start processing\n",
      "15:16:34 - cmdstanpy - INFO - Chain [1] done processing\n",
      "15:16:34 - cmdstanpy - INFO - Chain [1] start processing\n",
      "15:16:35 - cmdstanpy - INFO - Chain [1] done processing\n",
      "15:16:35 - cmdstanpy - INFO - Chain [1] start processing\n",
      "15:16:35 - cmdstanpy - INFO - Chain [1] done processing\n",
      "15:16:35 - cmdstanpy - INFO - Chain [1] start processing\n",
      "15:16:36 - cmdstanpy - INFO - Chain [1] done processing\n",
      "15:16:36 - cmdstanpy - INFO - Chain [1] start processing\n",
      "15:16:36 - cmdstanpy - INFO - Chain [1] done processing\n",
      "15:16:36 - cmdstanpy - INFO - Chain [1] start processing\n",
      "15:16:36 - cmdstanpy - INFO - Chain [1] done processing\n",
      "15:16:37 - cmdstanpy - INFO - Chain [1] start processing\n",
      "15:16:37 - cmdstanpy - INFO - Chain [1] done processing\n",
      "15:16:37 - cmdstanpy - INFO - Chain [1] start processing\n",
      "15:16:37 - cmdstanpy - INFO - Chain [1] done processing\n",
      "15:16:38 - cmdstanpy - INFO - Chain [1] start processing\n",
      "15:16:38 - cmdstanpy - INFO - Chain [1] done processing\n",
      "15:16:38 - cmdstanpy - INFO - Chain [1] start processing\n",
      "15:16:38 - cmdstanpy - INFO - Chain [1] done processing\n",
      " 65%|████████████████████████████               | 49/75 [05:53<03:12,  7.39s/it]"
     ]
    },
    {
     "data": {
      "application/vnd.jupyter.widget-view+json": {
       "model_id": "78acd45d0224457aa3088f985e3ed8e1",
       "version_major": 2,
       "version_minor": 0
      },
      "text/plain": [
       "  0%|          | 0/16 [00:00<?, ?it/s]"
      ]
     },
     "metadata": {},
     "output_type": "display_data"
    },
    {
     "name": "stderr",
     "output_type": "stream",
     "text": [
      "15:16:39 - cmdstanpy - INFO - Chain [1] start processing\n",
      "15:16:39 - cmdstanpy - INFO - Chain [1] done processing\n",
      "15:16:40 - cmdstanpy - INFO - Chain [1] start processing\n",
      "15:16:40 - cmdstanpy - INFO - Chain [1] done processing\n",
      "15:16:40 - cmdstanpy - INFO - Chain [1] start processing\n",
      "15:16:40 - cmdstanpy - INFO - Chain [1] done processing\n",
      "15:16:40 - cmdstanpy - INFO - Chain [1] start processing\n",
      "15:16:41 - cmdstanpy - INFO - Chain [1] done processing\n",
      "15:16:41 - cmdstanpy - INFO - Chain [1] start processing\n",
      "15:16:41 - cmdstanpy - INFO - Chain [1] done processing\n",
      "15:16:41 - cmdstanpy - INFO - Chain [1] start processing\n",
      "15:16:41 - cmdstanpy - INFO - Chain [1] done processing\n",
      "15:16:42 - cmdstanpy - INFO - Chain [1] start processing\n",
      "15:16:42 - cmdstanpy - INFO - Chain [1] done processing\n",
      "15:16:42 - cmdstanpy - INFO - Chain [1] start processing\n",
      "15:16:42 - cmdstanpy - INFO - Chain [1] done processing\n",
      "15:16:42 - cmdstanpy - INFO - Chain [1] start processing\n",
      "15:16:43 - cmdstanpy - INFO - Chain [1] done processing\n",
      "15:16:43 - cmdstanpy - INFO - Chain [1] start processing\n",
      "15:16:43 - cmdstanpy - INFO - Chain [1] done processing\n",
      "15:16:43 - cmdstanpy - INFO - Chain [1] start processing\n",
      "15:16:43 - cmdstanpy - INFO - Chain [1] done processing\n",
      "15:16:44 - cmdstanpy - INFO - Chain [1] start processing\n",
      "15:16:44 - cmdstanpy - INFO - Chain [1] done processing\n",
      "15:16:44 - cmdstanpy - INFO - Chain [1] start processing\n",
      "15:16:44 - cmdstanpy - INFO - Chain [1] done processing\n",
      "15:16:44 - cmdstanpy - INFO - Chain [1] start processing\n",
      "15:16:45 - cmdstanpy - INFO - Chain [1] done processing\n",
      "15:16:45 - cmdstanpy - INFO - Chain [1] start processing\n",
      "15:16:45 - cmdstanpy - INFO - Chain [1] done processing\n",
      "15:16:45 - cmdstanpy - INFO - Chain [1] start processing\n",
      "15:16:45 - cmdstanpy - INFO - Chain [1] done processing\n",
      " 67%|████████████████████████████▋              | 50/75 [06:01<03:03,  7.34s/it]"
     ]
    },
    {
     "data": {
      "application/vnd.jupyter.widget-view+json": {
       "model_id": "a94f81e4c2a145d6a4c26e4f2c9fbfac",
       "version_major": 2,
       "version_minor": 0
      },
      "text/plain": [
       "  0%|          | 0/16 [00:00<?, ?it/s]"
      ]
     },
     "metadata": {},
     "output_type": "display_data"
    },
    {
     "name": "stderr",
     "output_type": "stream",
     "text": [
      "15:16:47 - cmdstanpy - INFO - Chain [1] start processing\n",
      "15:16:47 - cmdstanpy - INFO - Chain [1] done processing\n",
      "15:16:47 - cmdstanpy - INFO - Chain [1] start processing\n",
      "15:16:47 - cmdstanpy - INFO - Chain [1] done processing\n",
      "15:16:47 - cmdstanpy - INFO - Chain [1] start processing\n",
      "15:16:47 - cmdstanpy - INFO - Chain [1] done processing\n",
      "15:16:48 - cmdstanpy - INFO - Chain [1] start processing\n",
      "15:16:48 - cmdstanpy - INFO - Chain [1] done processing\n",
      "15:16:48 - cmdstanpy - INFO - Chain [1] start processing\n",
      "15:16:48 - cmdstanpy - INFO - Chain [1] done processing\n",
      "15:16:48 - cmdstanpy - INFO - Chain [1] start processing\n",
      "15:16:48 - cmdstanpy - INFO - Chain [1] done processing\n",
      "15:16:49 - cmdstanpy - INFO - Chain [1] start processing\n",
      "15:16:49 - cmdstanpy - INFO - Chain [1] done processing\n",
      "15:16:49 - cmdstanpy - INFO - Chain [1] start processing\n",
      "15:16:49 - cmdstanpy - INFO - Chain [1] done processing\n",
      "15:16:49 - cmdstanpy - INFO - Chain [1] start processing\n",
      "15:16:50 - cmdstanpy - INFO - Chain [1] done processing\n",
      "15:16:50 - cmdstanpy - INFO - Chain [1] start processing\n",
      "15:16:50 - cmdstanpy - INFO - Chain [1] done processing\n",
      "15:16:50 - cmdstanpy - INFO - Chain [1] start processing\n",
      "15:16:50 - cmdstanpy - INFO - Chain [1] done processing\n",
      "15:16:51 - cmdstanpy - INFO - Chain [1] start processing\n",
      "15:16:51 - cmdstanpy - INFO - Chain [1] done processing\n",
      "15:16:51 - cmdstanpy - INFO - Chain [1] start processing\n",
      "15:16:51 - cmdstanpy - INFO - Chain [1] done processing\n",
      "15:16:52 - cmdstanpy - INFO - Chain [1] start processing\n",
      "15:16:52 - cmdstanpy - INFO - Chain [1] done processing\n",
      "15:16:52 - cmdstanpy - INFO - Chain [1] start processing\n",
      "15:16:52 - cmdstanpy - INFO - Chain [1] done processing\n",
      "15:16:52 - cmdstanpy - INFO - Chain [1] start processing\n",
      "15:16:53 - cmdstanpy - INFO - Chain [1] done processing\n",
      " 68%|█████████████████████████████▏             | 51/75 [06:08<02:55,  7.30s/it]"
     ]
    },
    {
     "data": {
      "application/vnd.jupyter.widget-view+json": {
       "model_id": "4e8c08d3517b40feacc4c810ee84979b",
       "version_major": 2,
       "version_minor": 0
      },
      "text/plain": [
       "  0%|          | 0/16 [00:00<?, ?it/s]"
      ]
     },
     "metadata": {},
     "output_type": "display_data"
    },
    {
     "name": "stderr",
     "output_type": "stream",
     "text": [
      "15:16:54 - cmdstanpy - INFO - Chain [1] start processing\n",
      "15:16:54 - cmdstanpy - INFO - Chain [1] done processing\n",
      "15:16:54 - cmdstanpy - INFO - Chain [1] start processing\n",
      "15:16:54 - cmdstanpy - INFO - Chain [1] done processing\n",
      "15:16:55 - cmdstanpy - INFO - Chain [1] start processing\n",
      "15:16:55 - cmdstanpy - INFO - Chain [1] done processing\n",
      "15:16:55 - cmdstanpy - INFO - Chain [1] start processing\n",
      "15:16:55 - cmdstanpy - INFO - Chain [1] done processing\n",
      "15:16:55 - cmdstanpy - INFO - Chain [1] start processing\n",
      "15:16:56 - cmdstanpy - INFO - Chain [1] done processing\n",
      "15:16:56 - cmdstanpy - INFO - Chain [1] start processing\n",
      "15:16:56 - cmdstanpy - INFO - Chain [1] done processing\n",
      "15:16:56 - cmdstanpy - INFO - Chain [1] start processing\n",
      "15:16:56 - cmdstanpy - INFO - Chain [1] done processing\n",
      "15:16:57 - cmdstanpy - INFO - Chain [1] start processing\n",
      "15:16:57 - cmdstanpy - INFO - Chain [1] done processing\n",
      "15:16:57 - cmdstanpy - INFO - Chain [1] start processing\n",
      "15:16:57 - cmdstanpy - INFO - Chain [1] done processing\n",
      "15:16:57 - cmdstanpy - INFO - Chain [1] start processing\n",
      "15:16:58 - cmdstanpy - INFO - Chain [1] done processing\n",
      "15:16:58 - cmdstanpy - INFO - Chain [1] start processing\n",
      "15:16:58 - cmdstanpy - INFO - Chain [1] done processing\n",
      "15:16:58 - cmdstanpy - INFO - Chain [1] start processing\n",
      "15:16:58 - cmdstanpy - INFO - Chain [1] done processing\n",
      "15:16:59 - cmdstanpy - INFO - Chain [1] start processing\n",
      "15:16:59 - cmdstanpy - INFO - Chain [1] done processing\n",
      "15:16:59 - cmdstanpy - INFO - Chain [1] start processing\n",
      "15:16:59 - cmdstanpy - INFO - Chain [1] done processing\n",
      "15:17:00 - cmdstanpy - INFO - Chain [1] start processing\n",
      "15:17:00 - cmdstanpy - INFO - Chain [1] done processing\n",
      "15:17:00 - cmdstanpy - INFO - Chain [1] start processing\n",
      "15:17:00 - cmdstanpy - INFO - Chain [1] done processing\n",
      " 69%|█████████████████████████████▊             | 52/75 [06:15<02:49,  7.37s/it]"
     ]
    },
    {
     "data": {
      "application/vnd.jupyter.widget-view+json": {
       "model_id": "760089fa1b264542b26c1aa3dedcdfa0",
       "version_major": 2,
       "version_minor": 0
      },
      "text/plain": [
       "  0%|          | 0/16 [00:00<?, ?it/s]"
      ]
     },
     "metadata": {},
     "output_type": "display_data"
    },
    {
     "name": "stderr",
     "output_type": "stream",
     "text": [
      "15:17:02 - cmdstanpy - INFO - Chain [1] start processing\n",
      "15:17:02 - cmdstanpy - INFO - Chain [1] done processing\n",
      "15:17:02 - cmdstanpy - INFO - Chain [1] start processing\n",
      "15:17:02 - cmdstanpy - INFO - Chain [1] done processing\n",
      "15:17:02 - cmdstanpy - INFO - Chain [1] start processing\n",
      "15:17:02 - cmdstanpy - INFO - Chain [1] done processing\n",
      "15:17:03 - cmdstanpy - INFO - Chain [1] start processing\n",
      "15:17:03 - cmdstanpy - INFO - Chain [1] done processing\n",
      "15:17:03 - cmdstanpy - INFO - Chain [1] start processing\n",
      "15:17:03 - cmdstanpy - INFO - Chain [1] done processing\n",
      "15:17:03 - cmdstanpy - INFO - Chain [1] start processing\n",
      "15:17:04 - cmdstanpy - INFO - Chain [1] done processing\n",
      "15:17:04 - cmdstanpy - INFO - Chain [1] start processing\n",
      "15:17:04 - cmdstanpy - INFO - Chain [1] done processing\n",
      "15:17:04 - cmdstanpy - INFO - Chain [1] start processing\n",
      "15:17:04 - cmdstanpy - INFO - Chain [1] done processing\n",
      "15:17:05 - cmdstanpy - INFO - Chain [1] start processing\n",
      "15:17:05 - cmdstanpy - INFO - Chain [1] done processing\n",
      "15:17:05 - cmdstanpy - INFO - Chain [1] start processing\n",
      "15:17:05 - cmdstanpy - INFO - Chain [1] done processing\n",
      "15:17:05 - cmdstanpy - INFO - Chain [1] start processing\n",
      "15:17:06 - cmdstanpy - INFO - Chain [1] done processing\n",
      "15:17:06 - cmdstanpy - INFO - Chain [1] start processing\n",
      "15:17:06 - cmdstanpy - INFO - Chain [1] done processing\n",
      "15:17:06 - cmdstanpy - INFO - Chain [1] start processing\n",
      "15:17:06 - cmdstanpy - INFO - Chain [1] done processing\n",
      "15:17:07 - cmdstanpy - INFO - Chain [1] start processing\n",
      "15:17:07 - cmdstanpy - INFO - Chain [1] done processing\n",
      "15:17:07 - cmdstanpy - INFO - Chain [1] start processing\n",
      "15:17:07 - cmdstanpy - INFO - Chain [1] done processing\n",
      "15:17:07 - cmdstanpy - INFO - Chain [1] start processing\n",
      "15:17:08 - cmdstanpy - INFO - Chain [1] done processing\n",
      " 71%|██████████████████████████████▍            | 53/75 [06:23<02:41,  7.36s/it]"
     ]
    },
    {
     "data": {
      "application/vnd.jupyter.widget-view+json": {
       "model_id": "b9522b8af0af4cf9b3da8f013d9ca4f3",
       "version_major": 2,
       "version_minor": 0
      },
      "text/plain": [
       "  0%|          | 0/16 [00:00<?, ?it/s]"
      ]
     },
     "metadata": {},
     "output_type": "display_data"
    },
    {
     "name": "stderr",
     "output_type": "stream",
     "text": [
      "15:17:09 - cmdstanpy - INFO - Chain [1] start processing\n",
      "15:17:09 - cmdstanpy - INFO - Chain [1] done processing\n",
      "15:17:09 - cmdstanpy - INFO - Chain [1] start processing\n",
      "15:17:09 - cmdstanpy - INFO - Chain [1] done processing\n",
      "15:17:09 - cmdstanpy - INFO - Chain [1] start processing\n",
      "15:17:09 - cmdstanpy - INFO - Chain [1] done processing\n",
      "15:17:10 - cmdstanpy - INFO - Chain [1] start processing\n",
      "15:17:10 - cmdstanpy - INFO - Chain [1] done processing\n",
      "15:17:10 - cmdstanpy - INFO - Chain [1] start processing\n",
      "15:17:10 - cmdstanpy - INFO - Chain [1] done processing\n",
      "15:17:10 - cmdstanpy - INFO - Chain [1] start processing\n",
      "15:17:11 - cmdstanpy - INFO - Chain [1] done processing\n",
      "15:17:11 - cmdstanpy - INFO - Chain [1] start processing\n",
      "15:17:11 - cmdstanpy - INFO - Chain [1] done processing\n",
      "15:17:11 - cmdstanpy - INFO - Chain [1] start processing\n",
      "15:17:11 - cmdstanpy - INFO - Chain [1] done processing\n",
      "15:17:12 - cmdstanpy - INFO - Chain [1] start processing\n",
      "15:17:12 - cmdstanpy - INFO - Chain [1] done processing\n",
      "15:17:12 - cmdstanpy - INFO - Chain [1] start processing\n",
      "15:17:12 - cmdstanpy - INFO - Chain [1] done processing\n",
      "15:17:13 - cmdstanpy - INFO - Chain [1] start processing\n",
      "15:17:13 - cmdstanpy - INFO - Chain [1] done processing\n",
      "15:17:13 - cmdstanpy - INFO - Chain [1] start processing\n",
      "15:17:13 - cmdstanpy - INFO - Chain [1] done processing\n",
      "15:17:13 - cmdstanpy - INFO - Chain [1] start processing\n",
      "15:17:14 - cmdstanpy - INFO - Chain [1] done processing\n",
      "15:17:14 - cmdstanpy - INFO - Chain [1] start processing\n",
      "15:17:14 - cmdstanpy - INFO - Chain [1] done processing\n",
      "15:17:14 - cmdstanpy - INFO - Chain [1] start processing\n",
      "15:17:14 - cmdstanpy - INFO - Chain [1] done processing\n",
      "15:17:15 - cmdstanpy - INFO - Chain [1] start processing\n",
      "15:17:15 - cmdstanpy - INFO - Chain [1] done processing\n",
      " 72%|██████████████████████████████▉            | 54/75 [06:30<02:34,  7.37s/it]"
     ]
    },
    {
     "data": {
      "application/vnd.jupyter.widget-view+json": {
       "model_id": "a5fa418bda8a4a5ba7b63aca0c732000",
       "version_major": 2,
       "version_minor": 0
      },
      "text/plain": [
       "  0%|          | 0/16 [00:00<?, ?it/s]"
      ]
     },
     "metadata": {},
     "output_type": "display_data"
    },
    {
     "name": "stderr",
     "output_type": "stream",
     "text": [
      "15:17:16 - cmdstanpy - INFO - Chain [1] start processing\n",
      "15:17:16 - cmdstanpy - INFO - Chain [1] done processing\n",
      "15:17:16 - cmdstanpy - INFO - Chain [1] start processing\n",
      "15:17:17 - cmdstanpy - INFO - Chain [1] done processing\n",
      "15:17:17 - cmdstanpy - INFO - Chain [1] start processing\n",
      "15:17:17 - cmdstanpy - INFO - Chain [1] done processing\n",
      "15:17:17 - cmdstanpy - INFO - Chain [1] start processing\n",
      "15:17:17 - cmdstanpy - INFO - Chain [1] done processing\n",
      "15:17:18 - cmdstanpy - INFO - Chain [1] start processing\n",
      "15:17:18 - cmdstanpy - INFO - Chain [1] done processing\n",
      "15:17:18 - cmdstanpy - INFO - Chain [1] start processing\n",
      "15:17:18 - cmdstanpy - INFO - Chain [1] done processing\n",
      "15:17:18 - cmdstanpy - INFO - Chain [1] start processing\n",
      "15:17:18 - cmdstanpy - INFO - Chain [1] done processing\n",
      "15:17:19 - cmdstanpy - INFO - Chain [1] start processing\n",
      "15:17:19 - cmdstanpy - INFO - Chain [1] done processing\n",
      "15:17:19 - cmdstanpy - INFO - Chain [1] start processing\n",
      "15:17:19 - cmdstanpy - INFO - Chain [1] done processing\n",
      "15:17:20 - cmdstanpy - INFO - Chain [1] start processing\n",
      "15:17:20 - cmdstanpy - INFO - Chain [1] done processing\n",
      "15:17:20 - cmdstanpy - INFO - Chain [1] start processing\n",
      "15:17:20 - cmdstanpy - INFO - Chain [1] done processing\n",
      "15:17:20 - cmdstanpy - INFO - Chain [1] start processing\n",
      "15:17:21 - cmdstanpy - INFO - Chain [1] done processing\n",
      "15:17:21 - cmdstanpy - INFO - Chain [1] start processing\n",
      "15:17:21 - cmdstanpy - INFO - Chain [1] done processing\n",
      "15:17:21 - cmdstanpy - INFO - Chain [1] start processing\n",
      "15:17:21 - cmdstanpy - INFO - Chain [1] done processing\n",
      "15:17:22 - cmdstanpy - INFO - Chain [1] start processing\n",
      "15:17:22 - cmdstanpy - INFO - Chain [1] done processing\n",
      "15:17:22 - cmdstanpy - INFO - Chain [1] start processing\n",
      "15:17:23 - cmdstanpy - INFO - Chain [1] done processing\n",
      " 73%|███████████████████████████████▌           | 55/75 [06:38<02:29,  7.47s/it]"
     ]
    },
    {
     "data": {
      "application/vnd.jupyter.widget-view+json": {
       "model_id": "84edfa06b5ad430da56151038561796a",
       "version_major": 2,
       "version_minor": 0
      },
      "text/plain": [
       "  0%|          | 0/16 [00:00<?, ?it/s]"
      ]
     },
     "metadata": {},
     "output_type": "display_data"
    },
    {
     "name": "stderr",
     "output_type": "stream",
     "text": [
      "15:17:24 - cmdstanpy - INFO - Chain [1] start processing\n",
      "15:17:24 - cmdstanpy - INFO - Chain [1] done processing\n",
      "15:17:24 - cmdstanpy - INFO - Chain [1] start processing\n",
      "15:17:24 - cmdstanpy - INFO - Chain [1] done processing\n",
      "15:17:24 - cmdstanpy - INFO - Chain [1] start processing\n",
      "15:17:24 - cmdstanpy - INFO - Chain [1] done processing\n",
      "15:17:25 - cmdstanpy - INFO - Chain [1] start processing\n",
      "15:17:25 - cmdstanpy - INFO - Chain [1] done processing\n",
      "15:17:25 - cmdstanpy - INFO - Chain [1] start processing\n",
      "15:17:25 - cmdstanpy - INFO - Chain [1] done processing\n",
      "15:17:26 - cmdstanpy - INFO - Chain [1] start processing\n",
      "15:17:26 - cmdstanpy - INFO - Chain [1] done processing\n",
      "15:17:26 - cmdstanpy - INFO - Chain [1] start processing\n",
      "15:17:26 - cmdstanpy - INFO - Chain [1] done processing\n",
      "15:17:26 - cmdstanpy - INFO - Chain [1] start processing\n",
      "15:17:27 - cmdstanpy - INFO - Chain [1] done processing\n",
      "15:17:27 - cmdstanpy - INFO - Chain [1] start processing\n",
      "15:17:27 - cmdstanpy - INFO - Chain [1] done processing\n",
      "15:17:27 - cmdstanpy - INFO - Chain [1] start processing\n",
      "15:17:27 - cmdstanpy - INFO - Chain [1] done processing\n",
      "15:17:28 - cmdstanpy - INFO - Chain [1] start processing\n",
      "15:17:28 - cmdstanpy - INFO - Chain [1] done processing\n",
      "15:17:28 - cmdstanpy - INFO - Chain [1] start processing\n",
      "15:17:28 - cmdstanpy - INFO - Chain [1] done processing\n",
      "15:17:28 - cmdstanpy - INFO - Chain [1] start processing\n",
      "15:17:29 - cmdstanpy - INFO - Chain [1] done processing\n",
      "15:17:29 - cmdstanpy - INFO - Chain [1] start processing\n",
      "15:17:29 - cmdstanpy - INFO - Chain [1] done processing\n",
      "15:17:29 - cmdstanpy - INFO - Chain [1] start processing\n",
      "15:17:30 - cmdstanpy - INFO - Chain [1] done processing\n",
      "15:17:30 - cmdstanpy - INFO - Chain [1] start processing\n",
      "15:17:30 - cmdstanpy - INFO - Chain [1] done processing\n",
      " 75%|████████████████████████████████           | 56/75 [06:45<02:21,  7.45s/it]"
     ]
    },
    {
     "data": {
      "application/vnd.jupyter.widget-view+json": {
       "model_id": "bbc4364e57934409bae7fe897f362dd1",
       "version_major": 2,
       "version_minor": 0
      },
      "text/plain": [
       "  0%|          | 0/16 [00:00<?, ?it/s]"
      ]
     },
     "metadata": {},
     "output_type": "display_data"
    },
    {
     "name": "stderr",
     "output_type": "stream",
     "text": [
      "15:17:31 - cmdstanpy - INFO - Chain [1] start processing\n",
      "15:17:31 - cmdstanpy - INFO - Chain [1] done processing\n",
      "15:17:32 - cmdstanpy - INFO - Chain [1] start processing\n",
      "15:17:32 - cmdstanpy - INFO - Chain [1] done processing\n",
      "15:17:32 - cmdstanpy - INFO - Chain [1] start processing\n",
      "15:17:32 - cmdstanpy - INFO - Chain [1] done processing\n",
      "15:17:32 - cmdstanpy - INFO - Chain [1] start processing\n",
      "15:17:32 - cmdstanpy - INFO - Chain [1] done processing\n",
      "15:17:33 - cmdstanpy - INFO - Chain [1] start processing\n",
      "15:17:33 - cmdstanpy - INFO - Chain [1] done processing\n",
      "15:17:33 - cmdstanpy - INFO - Chain [1] start processing\n",
      "15:17:33 - cmdstanpy - INFO - Chain [1] done processing\n",
      "15:17:33 - cmdstanpy - INFO - Chain [1] start processing\n",
      "15:17:34 - cmdstanpy - INFO - Chain [1] done processing\n",
      "15:17:34 - cmdstanpy - INFO - Chain [1] start processing\n",
      "15:17:34 - cmdstanpy - INFO - Chain [1] done processing\n",
      "15:17:34 - cmdstanpy - INFO - Chain [1] start processing\n",
      "15:17:34 - cmdstanpy - INFO - Chain [1] done processing\n",
      "15:17:35 - cmdstanpy - INFO - Chain [1] start processing\n",
      "15:17:35 - cmdstanpy - INFO - Chain [1] done processing\n",
      "15:17:35 - cmdstanpy - INFO - Chain [1] start processing\n",
      "15:17:35 - cmdstanpy - INFO - Chain [1] done processing\n",
      "15:17:35 - cmdstanpy - INFO - Chain [1] start processing\n",
      "15:17:35 - cmdstanpy - INFO - Chain [1] done processing\n",
      "15:17:36 - cmdstanpy - INFO - Chain [1] start processing\n",
      "15:17:36 - cmdstanpy - INFO - Chain [1] done processing\n",
      "15:17:36 - cmdstanpy - INFO - Chain [1] start processing\n",
      "15:17:36 - cmdstanpy - INFO - Chain [1] done processing\n",
      "15:17:37 - cmdstanpy - INFO - Chain [1] start processing\n",
      "15:17:37 - cmdstanpy - INFO - Chain [1] done processing\n",
      "15:17:37 - cmdstanpy - INFO - Chain [1] start processing\n",
      "15:17:37 - cmdstanpy - INFO - Chain [1] done processing\n",
      " 76%|████████████████████████████████▋          | 57/75 [06:52<02:12,  7.35s/it]"
     ]
    },
    {
     "data": {
      "application/vnd.jupyter.widget-view+json": {
       "model_id": "301f2fcb79f64d439a5f230ac7108415",
       "version_major": 2,
       "version_minor": 0
      },
      "text/plain": [
       "  0%|          | 0/16 [00:00<?, ?it/s]"
      ]
     },
     "metadata": {},
     "output_type": "display_data"
    },
    {
     "name": "stderr",
     "output_type": "stream",
     "text": [
      "15:17:38 - cmdstanpy - INFO - Chain [1] start processing\n",
      "15:17:38 - cmdstanpy - INFO - Chain [1] done processing\n",
      "15:17:39 - cmdstanpy - INFO - Chain [1] start processing\n",
      "15:17:39 - cmdstanpy - INFO - Chain [1] done processing\n",
      "15:17:39 - cmdstanpy - INFO - Chain [1] start processing\n",
      "15:17:39 - cmdstanpy - INFO - Chain [1] done processing\n",
      "15:17:39 - cmdstanpy - INFO - Chain [1] start processing\n",
      "15:17:40 - cmdstanpy - INFO - Chain [1] done processing\n",
      "15:17:40 - cmdstanpy - INFO - Chain [1] start processing\n",
      "15:17:40 - cmdstanpy - INFO - Chain [1] done processing\n",
      "15:17:40 - cmdstanpy - INFO - Chain [1] start processing\n",
      "15:17:40 - cmdstanpy - INFO - Chain [1] done processing\n",
      "15:17:41 - cmdstanpy - INFO - Chain [1] start processing\n",
      "15:17:41 - cmdstanpy - INFO - Chain [1] done processing\n",
      "15:17:41 - cmdstanpy - INFO - Chain [1] start processing\n",
      "15:17:41 - cmdstanpy - INFO - Chain [1] done processing\n",
      "15:17:41 - cmdstanpy - INFO - Chain [1] start processing\n",
      "15:17:41 - cmdstanpy - INFO - Chain [1] done processing\n",
      "15:17:42 - cmdstanpy - INFO - Chain [1] start processing\n",
      "15:17:42 - cmdstanpy - INFO - Chain [1] done processing\n",
      "15:17:42 - cmdstanpy - INFO - Chain [1] start processing\n",
      "15:17:42 - cmdstanpy - INFO - Chain [1] done processing\n",
      "15:17:42 - cmdstanpy - INFO - Chain [1] start processing\n",
      "15:17:43 - cmdstanpy - INFO - Chain [1] done processing\n",
      "15:17:43 - cmdstanpy - INFO - Chain [1] start processing\n",
      "15:17:43 - cmdstanpy - INFO - Chain [1] done processing\n",
      "15:17:43 - cmdstanpy - INFO - Chain [1] start processing\n",
      "15:17:44 - cmdstanpy - INFO - Chain [1] done processing\n",
      "15:17:44 - cmdstanpy - INFO - Chain [1] start processing\n",
      "15:17:44 - cmdstanpy - INFO - Chain [1] done processing\n",
      "15:17:44 - cmdstanpy - INFO - Chain [1] start processing\n",
      "15:17:44 - cmdstanpy - INFO - Chain [1] done processing\n",
      " 77%|█████████████████████████████████▎         | 58/75 [07:00<02:04,  7.33s/it]"
     ]
    },
    {
     "data": {
      "application/vnd.jupyter.widget-view+json": {
       "model_id": "91717c2fdcca4397a026fadbb2298ce1",
       "version_major": 2,
       "version_minor": 0
      },
      "text/plain": [
       "  0%|          | 0/16 [00:00<?, ?it/s]"
      ]
     },
     "metadata": {},
     "output_type": "display_data"
    },
    {
     "name": "stderr",
     "output_type": "stream",
     "text": [
      "15:17:46 - cmdstanpy - INFO - Chain [1] start processing\n",
      "15:17:46 - cmdstanpy - INFO - Chain [1] done processing\n",
      "15:17:46 - cmdstanpy - INFO - Chain [1] start processing\n",
      "15:17:46 - cmdstanpy - INFO - Chain [1] done processing\n",
      "15:17:46 - cmdstanpy - INFO - Chain [1] start processing\n",
      "15:17:46 - cmdstanpy - INFO - Chain [1] done processing\n",
      "15:17:47 - cmdstanpy - INFO - Chain [1] start processing\n",
      "15:17:47 - cmdstanpy - INFO - Chain [1] done processing\n",
      "15:17:47 - cmdstanpy - INFO - Chain [1] start processing\n",
      "15:17:47 - cmdstanpy - INFO - Chain [1] done processing\n",
      "15:17:48 - cmdstanpy - INFO - Chain [1] start processing\n",
      "15:17:48 - cmdstanpy - INFO - Chain [1] done processing\n",
      "15:17:48 - cmdstanpy - INFO - Chain [1] start processing\n",
      "15:17:48 - cmdstanpy - INFO - Chain [1] done processing\n",
      "15:17:48 - cmdstanpy - INFO - Chain [1] start processing\n",
      "15:17:49 - cmdstanpy - INFO - Chain [1] done processing\n",
      "15:17:49 - cmdstanpy - INFO - Chain [1] start processing\n",
      "15:17:49 - cmdstanpy - INFO - Chain [1] done processing\n",
      "15:17:49 - cmdstanpy - INFO - Chain [1] start processing\n",
      "15:17:50 - cmdstanpy - INFO - Chain [1] done processing\n",
      "15:17:50 - cmdstanpy - INFO - Chain [1] start processing\n",
      "15:17:50 - cmdstanpy - INFO - Chain [1] done processing\n",
      "15:17:50 - cmdstanpy - INFO - Chain [1] start processing\n",
      "15:17:51 - cmdstanpy - INFO - Chain [1] done processing\n",
      "15:17:51 - cmdstanpy - INFO - Chain [1] start processing\n",
      "15:17:51 - cmdstanpy - INFO - Chain [1] done processing\n",
      "15:17:51 - cmdstanpy - INFO - Chain [1] start processing\n",
      "15:17:52 - cmdstanpy - INFO - Chain [1] done processing\n",
      "15:17:52 - cmdstanpy - INFO - Chain [1] start processing\n",
      "15:17:52 - cmdstanpy - INFO - Chain [1] done processing\n",
      "15:17:52 - cmdstanpy - INFO - Chain [1] start processing\n",
      "15:17:53 - cmdstanpy - INFO - Chain [1] done processing\n",
      " 79%|█████████████████████████████████▊         | 59/75 [07:08<02:02,  7.65s/it]"
     ]
    },
    {
     "data": {
      "application/vnd.jupyter.widget-view+json": {
       "model_id": "d1088a5968eb46a3b38ab30bb61d4eee",
       "version_major": 2,
       "version_minor": 0
      },
      "text/plain": [
       "  0%|          | 0/16 [00:00<?, ?it/s]"
      ]
     },
     "metadata": {},
     "output_type": "display_data"
    },
    {
     "name": "stderr",
     "output_type": "stream",
     "text": [
      "15:17:54 - cmdstanpy - INFO - Chain [1] start processing\n",
      "15:17:54 - cmdstanpy - INFO - Chain [1] done processing\n",
      "15:17:54 - cmdstanpy - INFO - Chain [1] start processing\n",
      "15:17:55 - cmdstanpy - INFO - Chain [1] done processing\n",
      "15:17:55 - cmdstanpy - INFO - Chain [1] start processing\n",
      "15:17:55 - cmdstanpy - INFO - Chain [1] done processing\n",
      "15:17:55 - cmdstanpy - INFO - Chain [1] start processing\n",
      "15:17:55 - cmdstanpy - INFO - Chain [1] done processing\n",
      "15:17:56 - cmdstanpy - INFO - Chain [1] start processing\n",
      "15:17:56 - cmdstanpy - INFO - Chain [1] done processing\n",
      "15:17:56 - cmdstanpy - INFO - Chain [1] start processing\n",
      "15:17:56 - cmdstanpy - INFO - Chain [1] done processing\n",
      "15:17:56 - cmdstanpy - INFO - Chain [1] start processing\n",
      "15:17:57 - cmdstanpy - INFO - Chain [1] done processing\n",
      "15:17:57 - cmdstanpy - INFO - Chain [1] start processing\n",
      "15:17:57 - cmdstanpy - INFO - Chain [1] done processing\n",
      "15:17:57 - cmdstanpy - INFO - Chain [1] start processing\n",
      "15:17:58 - cmdstanpy - INFO - Chain [1] done processing\n",
      "15:17:58 - cmdstanpy - INFO - Chain [1] start processing\n",
      "15:17:58 - cmdstanpy - INFO - Chain [1] done processing\n",
      "15:17:58 - cmdstanpy - INFO - Chain [1] start processing\n",
      "15:17:58 - cmdstanpy - INFO - Chain [1] done processing\n",
      "15:17:59 - cmdstanpy - INFO - Chain [1] start processing\n",
      "15:17:59 - cmdstanpy - INFO - Chain [1] done processing\n",
      "15:17:59 - cmdstanpy - INFO - Chain [1] start processing\n",
      "15:17:59 - cmdstanpy - INFO - Chain [1] done processing\n",
      "15:18:00 - cmdstanpy - INFO - Chain [1] start processing\n",
      "15:18:00 - cmdstanpy - INFO - Chain [1] done processing\n",
      "15:18:00 - cmdstanpy - INFO - Chain [1] start processing\n",
      "15:18:00 - cmdstanpy - INFO - Chain [1] done processing\n",
      "15:18:01 - cmdstanpy - INFO - Chain [1] start processing\n",
      "15:18:01 - cmdstanpy - INFO - Chain [1] done processing\n",
      " 80%|██████████████████████████████████▍        | 60/75 [07:16<01:56,  7.76s/it]"
     ]
    },
    {
     "data": {
      "application/vnd.jupyter.widget-view+json": {
       "model_id": "c87f3dccefa94570885b5c4a95ab550b",
       "version_major": 2,
       "version_minor": 0
      },
      "text/plain": [
       "  0%|          | 0/16 [00:00<?, ?it/s]"
      ]
     },
     "metadata": {},
     "output_type": "display_data"
    },
    {
     "name": "stderr",
     "output_type": "stream",
     "text": [
      "15:18:02 - cmdstanpy - INFO - Chain [1] start processing\n",
      "15:18:02 - cmdstanpy - INFO - Chain [1] done processing\n",
      "15:18:02 - cmdstanpy - INFO - Chain [1] start processing\n",
      "15:18:02 - cmdstanpy - INFO - Chain [1] done processing\n",
      "15:18:03 - cmdstanpy - INFO - Chain [1] start processing\n",
      "15:18:03 - cmdstanpy - INFO - Chain [1] done processing\n",
      "15:18:03 - cmdstanpy - INFO - Chain [1] start processing\n",
      "15:18:03 - cmdstanpy - INFO - Chain [1] done processing\n",
      "15:18:03 - cmdstanpy - INFO - Chain [1] start processing\n",
      "15:18:03 - cmdstanpy - INFO - Chain [1] done processing\n",
      "15:18:04 - cmdstanpy - INFO - Chain [1] start processing\n",
      "15:18:04 - cmdstanpy - INFO - Chain [1] done processing\n",
      "15:18:04 - cmdstanpy - INFO - Chain [1] start processing\n",
      "15:18:04 - cmdstanpy - INFO - Chain [1] done processing\n",
      "15:18:04 - cmdstanpy - INFO - Chain [1] start processing\n",
      "15:18:05 - cmdstanpy - INFO - Chain [1] done processing\n",
      "15:18:05 - cmdstanpy - INFO - Chain [1] start processing\n",
      "15:18:05 - cmdstanpy - INFO - Chain [1] done processing\n",
      "15:18:05 - cmdstanpy - INFO - Chain [1] start processing\n",
      "15:18:05 - cmdstanpy - INFO - Chain [1] done processing\n",
      "15:18:06 - cmdstanpy - INFO - Chain [1] start processing\n",
      "15:18:06 - cmdstanpy - INFO - Chain [1] done processing\n",
      "15:18:06 - cmdstanpy - INFO - Chain [1] start processing\n",
      "15:18:06 - cmdstanpy - INFO - Chain [1] done processing\n",
      "15:18:06 - cmdstanpy - INFO - Chain [1] start processing\n",
      "15:18:07 - cmdstanpy - INFO - Chain [1] done processing\n",
      "15:18:07 - cmdstanpy - INFO - Chain [1] start processing\n",
      "15:18:07 - cmdstanpy - INFO - Chain [1] done processing\n",
      "15:18:07 - cmdstanpy - INFO - Chain [1] start processing\n",
      "15:18:08 - cmdstanpy - INFO - Chain [1] done processing\n",
      "15:18:08 - cmdstanpy - INFO - Chain [1] start processing\n",
      "15:18:08 - cmdstanpy - INFO - Chain [1] done processing\n",
      " 81%|██████████████████████████████████▉        | 61/75 [07:23<01:46,  7.58s/it]"
     ]
    },
    {
     "data": {
      "application/vnd.jupyter.widget-view+json": {
       "model_id": "5be340f0603745deb29b74c87fa72fe4",
       "version_major": 2,
       "version_minor": 0
      },
      "text/plain": [
       "  0%|          | 0/16 [00:00<?, ?it/s]"
      ]
     },
     "metadata": {},
     "output_type": "display_data"
    },
    {
     "name": "stderr",
     "output_type": "stream",
     "text": [
      "15:18:09 - cmdstanpy - INFO - Chain [1] start processing\n",
      "15:18:09 - cmdstanpy - INFO - Chain [1] done processing\n",
      "15:18:09 - cmdstanpy - INFO - Chain [1] start processing\n",
      "15:18:10 - cmdstanpy - INFO - Chain [1] done processing\n",
      "15:18:10 - cmdstanpy - INFO - Chain [1] start processing\n",
      "15:18:10 - cmdstanpy - INFO - Chain [1] done processing\n",
      "15:18:10 - cmdstanpy - INFO - Chain [1] start processing\n",
      "15:18:10 - cmdstanpy - INFO - Chain [1] done processing\n",
      "15:18:11 - cmdstanpy - INFO - Chain [1] start processing\n",
      "15:18:11 - cmdstanpy - INFO - Chain [1] done processing\n",
      "15:18:11 - cmdstanpy - INFO - Chain [1] start processing\n",
      "15:18:11 - cmdstanpy - INFO - Chain [1] done processing\n",
      "15:18:11 - cmdstanpy - INFO - Chain [1] start processing\n",
      "15:18:12 - cmdstanpy - INFO - Chain [1] done processing\n",
      "15:18:12 - cmdstanpy - INFO - Chain [1] start processing\n",
      "15:18:12 - cmdstanpy - INFO - Chain [1] done processing\n",
      "15:18:12 - cmdstanpy - INFO - Chain [1] start processing\n",
      "15:18:12 - cmdstanpy - INFO - Chain [1] done processing\n",
      "15:18:13 - cmdstanpy - INFO - Chain [1] start processing\n",
      "15:18:13 - cmdstanpy - INFO - Chain [1] done processing\n",
      "15:18:13 - cmdstanpy - INFO - Chain [1] start processing\n",
      "15:18:13 - cmdstanpy - INFO - Chain [1] done processing\n",
      "15:18:13 - cmdstanpy - INFO - Chain [1] start processing\n",
      "15:18:14 - cmdstanpy - INFO - Chain [1] done processing\n",
      "15:18:14 - cmdstanpy - INFO - Chain [1] start processing\n",
      "15:18:14 - cmdstanpy - INFO - Chain [1] done processing\n",
      "15:18:14 - cmdstanpy - INFO - Chain [1] start processing\n",
      "15:18:15 - cmdstanpy - INFO - Chain [1] done processing\n",
      "15:18:15 - cmdstanpy - INFO - Chain [1] start processing\n",
      "15:18:15 - cmdstanpy - INFO - Chain [1] done processing\n",
      "15:18:15 - cmdstanpy - INFO - Chain [1] start processing\n",
      "15:18:16 - cmdstanpy - INFO - Chain [1] done processing\n",
      " 83%|███████████████████████████████████▌       | 62/75 [07:31<01:38,  7.58s/it]"
     ]
    },
    {
     "data": {
      "application/vnd.jupyter.widget-view+json": {
       "model_id": "ce25718984fd42658b280aee21843342",
       "version_major": 2,
       "version_minor": 0
      },
      "text/plain": [
       "  0%|          | 0/16 [00:00<?, ?it/s]"
      ]
     },
     "metadata": {},
     "output_type": "display_data"
    },
    {
     "name": "stderr",
     "output_type": "stream",
     "text": [
      "15:18:17 - cmdstanpy - INFO - Chain [1] start processing\n",
      "15:18:17 - cmdstanpy - INFO - Chain [1] done processing\n",
      "15:18:17 - cmdstanpy - INFO - Chain [1] start processing\n",
      "15:18:17 - cmdstanpy - INFO - Chain [1] done processing\n",
      "15:18:17 - cmdstanpy - INFO - Chain [1] start processing\n",
      "15:18:17 - cmdstanpy - INFO - Chain [1] done processing\n",
      "15:18:18 - cmdstanpy - INFO - Chain [1] start processing\n",
      "15:18:18 - cmdstanpy - INFO - Chain [1] done processing\n",
      "15:18:18 - cmdstanpy - INFO - Chain [1] start processing\n",
      "15:18:18 - cmdstanpy - INFO - Chain [1] done processing\n",
      "15:18:18 - cmdstanpy - INFO - Chain [1] start processing\n",
      "15:18:19 - cmdstanpy - INFO - Chain [1] done processing\n",
      "15:18:19 - cmdstanpy - INFO - Chain [1] start processing\n",
      "15:18:19 - cmdstanpy - INFO - Chain [1] done processing\n",
      "15:18:19 - cmdstanpy - INFO - Chain [1] start processing\n",
      "15:18:20 - cmdstanpy - INFO - Chain [1] done processing\n",
      "15:18:20 - cmdstanpy - INFO - Chain [1] start processing\n",
      "15:18:20 - cmdstanpy - INFO - Chain [1] done processing\n",
      "15:18:20 - cmdstanpy - INFO - Chain [1] start processing\n",
      "15:18:20 - cmdstanpy - INFO - Chain [1] done processing\n",
      "15:18:21 - cmdstanpy - INFO - Chain [1] start processing\n",
      "15:18:21 - cmdstanpy - INFO - Chain [1] done processing\n",
      "15:18:21 - cmdstanpy - INFO - Chain [1] start processing\n",
      "15:18:21 - cmdstanpy - INFO - Chain [1] done processing\n",
      "15:18:21 - cmdstanpy - INFO - Chain [1] start processing\n",
      "15:18:22 - cmdstanpy - INFO - Chain [1] done processing\n",
      "15:18:22 - cmdstanpy - INFO - Chain [1] start processing\n",
      "15:18:22 - cmdstanpy - INFO - Chain [1] done processing\n",
      "15:18:22 - cmdstanpy - INFO - Chain [1] start processing\n",
      "15:18:22 - cmdstanpy - INFO - Chain [1] done processing\n",
      "15:18:23 - cmdstanpy - INFO - Chain [1] start processing\n",
      "15:18:23 - cmdstanpy - INFO - Chain [1] done processing\n",
      " 84%|████████████████████████████████████       | 63/75 [07:38<01:29,  7.49s/it]"
     ]
    },
    {
     "data": {
      "application/vnd.jupyter.widget-view+json": {
       "model_id": "85c292eb12984e1f8e5d2c81f98537a2",
       "version_major": 2,
       "version_minor": 0
      },
      "text/plain": [
       "  0%|          | 0/16 [00:00<?, ?it/s]"
      ]
     },
     "metadata": {},
     "output_type": "display_data"
    },
    {
     "name": "stderr",
     "output_type": "stream",
     "text": [
      "15:18:24 - cmdstanpy - INFO - Chain [1] start processing\n",
      "15:18:24 - cmdstanpy - INFO - Chain [1] done processing\n",
      "15:18:24 - cmdstanpy - INFO - Chain [1] start processing\n",
      "15:18:24 - cmdstanpy - INFO - Chain [1] done processing\n",
      "15:18:25 - cmdstanpy - INFO - Chain [1] start processing\n",
      "15:18:25 - cmdstanpy - INFO - Chain [1] done processing\n",
      "15:18:25 - cmdstanpy - INFO - Chain [1] start processing\n",
      "15:18:25 - cmdstanpy - INFO - Chain [1] done processing\n",
      "15:18:25 - cmdstanpy - INFO - Chain [1] start processing\n",
      "15:18:26 - cmdstanpy - INFO - Chain [1] done processing\n",
      "15:18:26 - cmdstanpy - INFO - Chain [1] start processing\n",
      "15:18:26 - cmdstanpy - INFO - Chain [1] done processing\n",
      "15:18:26 - cmdstanpy - INFO - Chain [1] start processing\n",
      "15:18:26 - cmdstanpy - INFO - Chain [1] done processing\n",
      "15:18:27 - cmdstanpy - INFO - Chain [1] start processing\n",
      "15:18:27 - cmdstanpy - INFO - Chain [1] done processing\n",
      "15:18:27 - cmdstanpy - INFO - Chain [1] start processing\n",
      "15:18:27 - cmdstanpy - INFO - Chain [1] done processing\n",
      "15:18:27 - cmdstanpy - INFO - Chain [1] start processing\n",
      "15:18:27 - cmdstanpy - INFO - Chain [1] done processing\n",
      "15:18:28 - cmdstanpy - INFO - Chain [1] start processing\n",
      "15:18:28 - cmdstanpy - INFO - Chain [1] done processing\n",
      "15:18:28 - cmdstanpy - INFO - Chain [1] start processing\n",
      "15:18:28 - cmdstanpy - INFO - Chain [1] done processing\n",
      "15:18:29 - cmdstanpy - INFO - Chain [1] start processing\n",
      "15:18:29 - cmdstanpy - INFO - Chain [1] done processing\n",
      "15:18:29 - cmdstanpy - INFO - Chain [1] start processing\n",
      "15:18:29 - cmdstanpy - INFO - Chain [1] done processing\n",
      "15:18:29 - cmdstanpy - INFO - Chain [1] start processing\n",
      "15:18:30 - cmdstanpy - INFO - Chain [1] done processing\n",
      "15:18:30 - cmdstanpy - INFO - Chain [1] start processing\n",
      "15:18:30 - cmdstanpy - INFO - Chain [1] done processing\n",
      " 85%|████████████████████████████████████▋      | 64/75 [07:45<01:21,  7.45s/it]"
     ]
    },
    {
     "data": {
      "application/vnd.jupyter.widget-view+json": {
       "model_id": "f57e11358fea429cbe23a244e999faf5",
       "version_major": 2,
       "version_minor": 0
      },
      "text/plain": [
       "  0%|          | 0/16 [00:00<?, ?it/s]"
      ]
     },
     "metadata": {},
     "output_type": "display_data"
    },
    {
     "name": "stderr",
     "output_type": "stream",
     "text": [
      "15:18:31 - cmdstanpy - INFO - Chain [1] start processing\n",
      "15:18:31 - cmdstanpy - INFO - Chain [1] done processing\n",
      "15:18:32 - cmdstanpy - INFO - Chain [1] start processing\n",
      "15:18:32 - cmdstanpy - INFO - Chain [1] done processing\n",
      "15:18:32 - cmdstanpy - INFO - Chain [1] start processing\n",
      "15:18:32 - cmdstanpy - INFO - Chain [1] done processing\n",
      "15:18:32 - cmdstanpy - INFO - Chain [1] start processing\n",
      "15:18:33 - cmdstanpy - INFO - Chain [1] done processing\n",
      "15:18:33 - cmdstanpy - INFO - Chain [1] start processing\n",
      "15:18:33 - cmdstanpy - INFO - Chain [1] done processing\n",
      "15:18:33 - cmdstanpy - INFO - Chain [1] start processing\n",
      "15:18:33 - cmdstanpy - INFO - Chain [1] done processing\n",
      "15:18:33 - cmdstanpy - INFO - Chain [1] start processing\n",
      "15:18:34 - cmdstanpy - INFO - Chain [1] done processing\n",
      "15:18:34 - cmdstanpy - INFO - Chain [1] start processing\n",
      "15:18:34 - cmdstanpy - INFO - Chain [1] done processing\n",
      "15:18:34 - cmdstanpy - INFO - Chain [1] start processing\n",
      "15:18:35 - cmdstanpy - INFO - Chain [1] done processing\n",
      "15:18:35 - cmdstanpy - INFO - Chain [1] start processing\n",
      "15:18:35 - cmdstanpy - INFO - Chain [1] done processing\n",
      "15:18:35 - cmdstanpy - INFO - Chain [1] start processing\n",
      "15:18:35 - cmdstanpy - INFO - Chain [1] done processing\n",
      "15:18:36 - cmdstanpy - INFO - Chain [1] start processing\n",
      "15:18:36 - cmdstanpy - INFO - Chain [1] done processing\n",
      "15:18:36 - cmdstanpy - INFO - Chain [1] start processing\n",
      "15:18:36 - cmdstanpy - INFO - Chain [1] done processing\n",
      "15:18:37 - cmdstanpy - INFO - Chain [1] start processing\n",
      "15:18:37 - cmdstanpy - INFO - Chain [1] done processing\n",
      "15:18:37 - cmdstanpy - INFO - Chain [1] start processing\n",
      "15:18:37 - cmdstanpy - INFO - Chain [1] done processing\n",
      "15:18:38 - cmdstanpy - INFO - Chain [1] start processing\n",
      "15:18:38 - cmdstanpy - INFO - Chain [1] done processing\n",
      " 87%|█████████████████████████████████████▎     | 65/75 [07:53<01:15,  7.55s/it]"
     ]
    },
    {
     "data": {
      "application/vnd.jupyter.widget-view+json": {
       "model_id": "6c12e5f603834881a53815d71ff31ddc",
       "version_major": 2,
       "version_minor": 0
      },
      "text/plain": [
       "  0%|          | 0/16 [00:00<?, ?it/s]"
      ]
     },
     "metadata": {},
     "output_type": "display_data"
    },
    {
     "name": "stderr",
     "output_type": "stream",
     "text": [
      "15:18:39 - cmdstanpy - INFO - Chain [1] start processing\n",
      "15:18:39 - cmdstanpy - INFO - Chain [1] done processing\n",
      "15:18:39 - cmdstanpy - INFO - Chain [1] start processing\n",
      "15:18:40 - cmdstanpy - INFO - Chain [1] done processing\n",
      "15:18:40 - cmdstanpy - INFO - Chain [1] start processing\n",
      "15:18:40 - cmdstanpy - INFO - Chain [1] done processing\n",
      "15:18:40 - cmdstanpy - INFO - Chain [1] start processing\n",
      "15:18:40 - cmdstanpy - INFO - Chain [1] done processing\n",
      "15:18:40 - cmdstanpy - INFO - Chain [1] start processing\n",
      "15:18:41 - cmdstanpy - INFO - Chain [1] done processing\n",
      "15:18:41 - cmdstanpy - INFO - Chain [1] start processing\n",
      "15:18:41 - cmdstanpy - INFO - Chain [1] done processing\n",
      "15:18:41 - cmdstanpy - INFO - Chain [1] start processing\n",
      "15:18:41 - cmdstanpy - INFO - Chain [1] done processing\n",
      "15:18:42 - cmdstanpy - INFO - Chain [1] start processing\n",
      "15:18:42 - cmdstanpy - INFO - Chain [1] done processing\n",
      "15:18:42 - cmdstanpy - INFO - Chain [1] start processing\n",
      "15:18:42 - cmdstanpy - INFO - Chain [1] done processing\n",
      "15:18:42 - cmdstanpy - INFO - Chain [1] start processing\n",
      "15:18:43 - cmdstanpy - INFO - Chain [1] done processing\n",
      "15:18:43 - cmdstanpy - INFO - Chain [1] start processing\n",
      "15:18:43 - cmdstanpy - INFO - Chain [1] done processing\n",
      "15:18:43 - cmdstanpy - INFO - Chain [1] start processing\n",
      "15:18:43 - cmdstanpy - INFO - Chain [1] done processing\n",
      "15:18:44 - cmdstanpy - INFO - Chain [1] start processing\n",
      "15:18:44 - cmdstanpy - INFO - Chain [1] done processing\n",
      "15:18:44 - cmdstanpy - INFO - Chain [1] start processing\n",
      "15:18:44 - cmdstanpy - INFO - Chain [1] done processing\n",
      "15:18:45 - cmdstanpy - INFO - Chain [1] start processing\n",
      "15:18:45 - cmdstanpy - INFO - Chain [1] done processing\n",
      "15:18:45 - cmdstanpy - INFO - Chain [1] start processing\n",
      "15:18:45 - cmdstanpy - INFO - Chain [1] done processing\n",
      " 88%|█████████████████████████████████████▊     | 66/75 [08:00<01:07,  7.45s/it]"
     ]
    },
    {
     "data": {
      "application/vnd.jupyter.widget-view+json": {
       "model_id": "6bb675cc4600430291fbaaece46eff65",
       "version_major": 2,
       "version_minor": 0
      },
      "text/plain": [
       "  0%|          | 0/16 [00:00<?, ?it/s]"
      ]
     },
     "metadata": {},
     "output_type": "display_data"
    },
    {
     "name": "stderr",
     "output_type": "stream",
     "text": [
      "15:18:46 - cmdstanpy - INFO - Chain [1] start processing\n",
      "15:18:46 - cmdstanpy - INFO - Chain [1] done processing\n",
      "15:18:47 - cmdstanpy - INFO - Chain [1] start processing\n",
      "15:18:47 - cmdstanpy - INFO - Chain [1] done processing\n",
      "15:18:47 - cmdstanpy - INFO - Chain [1] start processing\n",
      "15:18:47 - cmdstanpy - INFO - Chain [1] done processing\n",
      "15:18:47 - cmdstanpy - INFO - Chain [1] start processing\n",
      "15:18:48 - cmdstanpy - INFO - Chain [1] done processing\n",
      "15:18:48 - cmdstanpy - INFO - Chain [1] start processing\n",
      "15:18:48 - cmdstanpy - INFO - Chain [1] done processing\n",
      "15:18:48 - cmdstanpy - INFO - Chain [1] start processing\n",
      "15:18:48 - cmdstanpy - INFO - Chain [1] done processing\n",
      "15:18:49 - cmdstanpy - INFO - Chain [1] start processing\n",
      "15:18:49 - cmdstanpy - INFO - Chain [1] done processing\n",
      "15:18:49 - cmdstanpy - INFO - Chain [1] start processing\n",
      "15:18:49 - cmdstanpy - INFO - Chain [1] done processing\n",
      "15:18:49 - cmdstanpy - INFO - Chain [1] start processing\n",
      "15:18:50 - cmdstanpy - INFO - Chain [1] done processing\n",
      "15:18:50 - cmdstanpy - INFO - Chain [1] start processing\n",
      "15:18:50 - cmdstanpy - INFO - Chain [1] done processing\n",
      "15:18:50 - cmdstanpy - INFO - Chain [1] start processing\n",
      "15:18:50 - cmdstanpy - INFO - Chain [1] done processing\n",
      "15:18:51 - cmdstanpy - INFO - Chain [1] start processing\n",
      "15:18:51 - cmdstanpy - INFO - Chain [1] done processing\n",
      "15:18:51 - cmdstanpy - INFO - Chain [1] start processing\n",
      "15:18:51 - cmdstanpy - INFO - Chain [1] done processing\n",
      "15:18:52 - cmdstanpy - INFO - Chain [1] start processing\n",
      "15:18:52 - cmdstanpy - INFO - Chain [1] done processing\n",
      "15:18:52 - cmdstanpy - INFO - Chain [1] start processing\n",
      "15:18:52 - cmdstanpy - INFO - Chain [1] done processing\n",
      "15:18:53 - cmdstanpy - INFO - Chain [1] start processing\n",
      "15:18:53 - cmdstanpy - INFO - Chain [1] done processing\n",
      " 89%|██████████████████████████████████████▍    | 67/75 [08:08<00:59,  7.49s/it]"
     ]
    },
    {
     "data": {
      "application/vnd.jupyter.widget-view+json": {
       "model_id": "6fcfe27082f748ccb48c3547283a8e99",
       "version_major": 2,
       "version_minor": 0
      },
      "text/plain": [
       "  0%|          | 0/16 [00:00<?, ?it/s]"
      ]
     },
     "metadata": {},
     "output_type": "display_data"
    },
    {
     "name": "stderr",
     "output_type": "stream",
     "text": [
      "15:18:54 - cmdstanpy - INFO - Chain [1] start processing\n",
      "15:18:54 - cmdstanpy - INFO - Chain [1] done processing\n",
      "15:18:54 - cmdstanpy - INFO - Chain [1] start processing\n",
      "15:18:54 - cmdstanpy - INFO - Chain [1] done processing\n",
      "15:18:55 - cmdstanpy - INFO - Chain [1] start processing\n",
      "15:18:55 - cmdstanpy - INFO - Chain [1] done processing\n",
      "15:18:55 - cmdstanpy - INFO - Chain [1] start processing\n",
      "15:18:55 - cmdstanpy - INFO - Chain [1] done processing\n",
      "15:18:55 - cmdstanpy - INFO - Chain [1] start processing\n",
      "15:18:56 - cmdstanpy - INFO - Chain [1] done processing\n",
      "15:18:56 - cmdstanpy - INFO - Chain [1] start processing\n",
      "15:18:56 - cmdstanpy - INFO - Chain [1] done processing\n",
      "15:18:56 - cmdstanpy - INFO - Chain [1] start processing\n",
      "15:18:56 - cmdstanpy - INFO - Chain [1] done processing\n",
      "15:18:57 - cmdstanpy - INFO - Chain [1] start processing\n",
      "15:18:57 - cmdstanpy - INFO - Chain [1] done processing\n",
      "15:18:57 - cmdstanpy - INFO - Chain [1] start processing\n",
      "15:18:57 - cmdstanpy - INFO - Chain [1] done processing\n",
      "15:18:57 - cmdstanpy - INFO - Chain [1] start processing\n",
      "15:18:58 - cmdstanpy - INFO - Chain [1] done processing\n",
      "15:18:58 - cmdstanpy - INFO - Chain [1] start processing\n",
      "15:18:58 - cmdstanpy - INFO - Chain [1] done processing\n",
      "15:18:58 - cmdstanpy - INFO - Chain [1] start processing\n",
      "15:18:58 - cmdstanpy - INFO - Chain [1] done processing\n",
      "15:18:59 - cmdstanpy - INFO - Chain [1] start processing\n",
      "15:18:59 - cmdstanpy - INFO - Chain [1] done processing\n",
      "15:18:59 - cmdstanpy - INFO - Chain [1] start processing\n",
      "15:18:59 - cmdstanpy - INFO - Chain [1] done processing\n",
      "15:18:59 - cmdstanpy - INFO - Chain [1] start processing\n",
      "15:19:00 - cmdstanpy - INFO - Chain [1] done processing\n",
      "15:19:00 - cmdstanpy - INFO - Chain [1] start processing\n",
      "15:19:00 - cmdstanpy - INFO - Chain [1] done processing\n",
      " 91%|██████████████████████████████████████▉    | 68/75 [08:15<00:52,  7.44s/it]"
     ]
    },
    {
     "data": {
      "application/vnd.jupyter.widget-view+json": {
       "model_id": "07e6db71f1c34b18810434c0f310a0a8",
       "version_major": 2,
       "version_minor": 0
      },
      "text/plain": [
       "  0%|          | 0/16 [00:00<?, ?it/s]"
      ]
     },
     "metadata": {},
     "output_type": "display_data"
    },
    {
     "name": "stderr",
     "output_type": "stream",
     "text": [
      "15:19:01 - cmdstanpy - INFO - Chain [1] start processing\n",
      "15:19:01 - cmdstanpy - INFO - Chain [1] done processing\n",
      "15:19:02 - cmdstanpy - INFO - Chain [1] start processing\n",
      "15:19:02 - cmdstanpy - INFO - Chain [1] done processing\n",
      "15:19:02 - cmdstanpy - INFO - Chain [1] start processing\n",
      "15:19:02 - cmdstanpy - INFO - Chain [1] done processing\n",
      "15:19:02 - cmdstanpy - INFO - Chain [1] start processing\n",
      "15:19:02 - cmdstanpy - INFO - Chain [1] done processing\n",
      "15:19:03 - cmdstanpy - INFO - Chain [1] start processing\n",
      "15:19:03 - cmdstanpy - INFO - Chain [1] done processing\n",
      "15:19:03 - cmdstanpy - INFO - Chain [1] start processing\n",
      "15:19:03 - cmdstanpy - INFO - Chain [1] done processing\n",
      "15:19:03 - cmdstanpy - INFO - Chain [1] start processing\n",
      "15:19:04 - cmdstanpy - INFO - Chain [1] done processing\n",
      "15:19:04 - cmdstanpy - INFO - Chain [1] start processing\n",
      "15:19:04 - cmdstanpy - INFO - Chain [1] done processing\n",
      "15:19:04 - cmdstanpy - INFO - Chain [1] start processing\n",
      "15:19:04 - cmdstanpy - INFO - Chain [1] done processing\n",
      "15:19:05 - cmdstanpy - INFO - Chain [1] start processing\n",
      "15:19:05 - cmdstanpy - INFO - Chain [1] done processing\n",
      "15:19:05 - cmdstanpy - INFO - Chain [1] start processing\n",
      "15:19:05 - cmdstanpy - INFO - Chain [1] done processing\n",
      "15:19:05 - cmdstanpy - INFO - Chain [1] start processing\n",
      "15:19:06 - cmdstanpy - INFO - Chain [1] done processing\n",
      "15:19:06 - cmdstanpy - INFO - Chain [1] start processing\n",
      "15:19:06 - cmdstanpy - INFO - Chain [1] done processing\n",
      "15:19:06 - cmdstanpy - INFO - Chain [1] start processing\n",
      "15:19:07 - cmdstanpy - INFO - Chain [1] done processing\n",
      "15:19:07 - cmdstanpy - INFO - Chain [1] start processing\n",
      "15:19:07 - cmdstanpy - INFO - Chain [1] done processing\n",
      "15:19:07 - cmdstanpy - INFO - Chain [1] start processing\n",
      "15:19:08 - cmdstanpy - INFO - Chain [1] done processing\n",
      " 92%|███████████████████████████████████████▌   | 69/75 [08:23<00:44,  7.45s/it]"
     ]
    },
    {
     "data": {
      "application/vnd.jupyter.widget-view+json": {
       "model_id": "88f4406c26dc48998346c71d2aeb5af4",
       "version_major": 2,
       "version_minor": 0
      },
      "text/plain": [
       "  0%|          | 0/16 [00:00<?, ?it/s]"
      ]
     },
     "metadata": {},
     "output_type": "display_data"
    },
    {
     "name": "stderr",
     "output_type": "stream",
     "text": [
      "15:19:09 - cmdstanpy - INFO - Chain [1] start processing\n",
      "15:19:09 - cmdstanpy - INFO - Chain [1] done processing\n",
      "15:19:09 - cmdstanpy - INFO - Chain [1] start processing\n",
      "15:19:09 - cmdstanpy - INFO - Chain [1] done processing\n",
      "15:19:10 - cmdstanpy - INFO - Chain [1] start processing\n",
      "15:19:10 - cmdstanpy - INFO - Chain [1] done processing\n",
      "15:19:10 - cmdstanpy - INFO - Chain [1] start processing\n",
      "15:19:10 - cmdstanpy - INFO - Chain [1] done processing\n",
      "15:19:10 - cmdstanpy - INFO - Chain [1] start processing\n",
      "15:19:10 - cmdstanpy - INFO - Chain [1] done processing\n",
      "15:19:11 - cmdstanpy - INFO - Chain [1] start processing\n",
      "15:19:11 - cmdstanpy - INFO - Chain [1] done processing\n",
      "15:19:11 - cmdstanpy - INFO - Chain [1] start processing\n",
      "15:19:11 - cmdstanpy - INFO - Chain [1] done processing\n",
      "15:19:11 - cmdstanpy - INFO - Chain [1] start processing\n",
      "15:19:12 - cmdstanpy - INFO - Chain [1] done processing\n",
      "15:19:12 - cmdstanpy - INFO - Chain [1] start processing\n",
      "15:19:12 - cmdstanpy - INFO - Chain [1] done processing\n",
      "15:19:12 - cmdstanpy - INFO - Chain [1] start processing\n",
      "15:19:13 - cmdstanpy - INFO - Chain [1] done processing\n",
      "15:19:13 - cmdstanpy - INFO - Chain [1] start processing\n",
      "15:19:13 - cmdstanpy - INFO - Chain [1] done processing\n",
      "15:19:13 - cmdstanpy - INFO - Chain [1] start processing\n",
      "15:19:13 - cmdstanpy - INFO - Chain [1] done processing\n",
      "15:19:14 - cmdstanpy - INFO - Chain [1] start processing\n",
      "15:19:14 - cmdstanpy - INFO - Chain [1] done processing\n",
      "15:19:14 - cmdstanpy - INFO - Chain [1] start processing\n",
      "15:19:14 - cmdstanpy - INFO - Chain [1] done processing\n",
      "15:19:15 - cmdstanpy - INFO - Chain [1] start processing\n",
      "15:19:15 - cmdstanpy - INFO - Chain [1] done processing\n",
      "15:19:15 - cmdstanpy - INFO - Chain [1] start processing\n",
      "15:19:15 - cmdstanpy - INFO - Chain [1] done processing\n",
      " 93%|████████████████████████████████████████▏  | 70/75 [08:30<00:37,  7.52s/it]"
     ]
    },
    {
     "data": {
      "application/vnd.jupyter.widget-view+json": {
       "model_id": "c0d32816540d4830bad04670ab4483f0",
       "version_major": 2,
       "version_minor": 0
      },
      "text/plain": [
       "  0%|          | 0/16 [00:00<?, ?it/s]"
      ]
     },
     "metadata": {},
     "output_type": "display_data"
    },
    {
     "name": "stderr",
     "output_type": "stream",
     "text": [
      "15:19:16 - cmdstanpy - INFO - Chain [1] start processing\n",
      "15:19:16 - cmdstanpy - INFO - Chain [1] done processing\n",
      "15:19:17 - cmdstanpy - INFO - Chain [1] start processing\n",
      "15:19:17 - cmdstanpy - INFO - Chain [1] done processing\n",
      "15:19:17 - cmdstanpy - INFO - Chain [1] start processing\n",
      "15:19:17 - cmdstanpy - INFO - Chain [1] done processing\n",
      "15:19:17 - cmdstanpy - INFO - Chain [1] start processing\n",
      "15:19:18 - cmdstanpy - INFO - Chain [1] done processing\n",
      "15:19:18 - cmdstanpy - INFO - Chain [1] start processing\n",
      "15:19:18 - cmdstanpy - INFO - Chain [1] done processing\n",
      "15:19:18 - cmdstanpy - INFO - Chain [1] start processing\n",
      "15:19:18 - cmdstanpy - INFO - Chain [1] done processing\n",
      "15:19:19 - cmdstanpy - INFO - Chain [1] start processing\n",
      "15:19:19 - cmdstanpy - INFO - Chain [1] done processing\n",
      "15:19:19 - cmdstanpy - INFO - Chain [1] start processing\n",
      "15:19:19 - cmdstanpy - INFO - Chain [1] done processing\n",
      "15:19:19 - cmdstanpy - INFO - Chain [1] start processing\n",
      "15:19:20 - cmdstanpy - INFO - Chain [1] done processing\n",
      "15:19:20 - cmdstanpy - INFO - Chain [1] start processing\n",
      "15:19:20 - cmdstanpy - INFO - Chain [1] done processing\n",
      "15:19:20 - cmdstanpy - INFO - Chain [1] start processing\n",
      "15:19:20 - cmdstanpy - INFO - Chain [1] done processing\n",
      "15:19:21 - cmdstanpy - INFO - Chain [1] start processing\n",
      "15:19:21 - cmdstanpy - INFO - Chain [1] done processing\n",
      "15:19:21 - cmdstanpy - INFO - Chain [1] start processing\n",
      "15:19:21 - cmdstanpy - INFO - Chain [1] done processing\n",
      "15:19:21 - cmdstanpy - INFO - Chain [1] start processing\n",
      "15:19:21 - cmdstanpy - INFO - Chain [1] done processing\n",
      "15:19:22 - cmdstanpy - INFO - Chain [1] start processing\n",
      "15:19:22 - cmdstanpy - INFO - Chain [1] done processing\n",
      "15:19:22 - cmdstanpy - INFO - Chain [1] start processing\n",
      "15:19:22 - cmdstanpy - INFO - Chain [1] done processing\n",
      " 95%|████████████████████████████████████████▋  | 71/75 [08:38<00:29,  7.42s/it]"
     ]
    },
    {
     "data": {
      "application/vnd.jupyter.widget-view+json": {
       "model_id": "51d600152d4645a7b0fe3099a19f403f",
       "version_major": 2,
       "version_minor": 0
      },
      "text/plain": [
       "  0%|          | 0/16 [00:00<?, ?it/s]"
      ]
     },
     "metadata": {},
     "output_type": "display_data"
    },
    {
     "name": "stderr",
     "output_type": "stream",
     "text": [
      "15:19:24 - cmdstanpy - INFO - Chain [1] start processing\n",
      "15:19:24 - cmdstanpy - INFO - Chain [1] done processing\n",
      "15:19:24 - cmdstanpy - INFO - Chain [1] start processing\n",
      "15:19:24 - cmdstanpy - INFO - Chain [1] done processing\n",
      "15:19:24 - cmdstanpy - INFO - Chain [1] start processing\n",
      "15:19:24 - cmdstanpy - INFO - Chain [1] done processing\n",
      "15:19:25 - cmdstanpy - INFO - Chain [1] start processing\n",
      "15:19:25 - cmdstanpy - INFO - Chain [1] done processing\n",
      "15:19:25 - cmdstanpy - INFO - Chain [1] start processing\n",
      "15:19:25 - cmdstanpy - INFO - Chain [1] done processing\n",
      "15:19:25 - cmdstanpy - INFO - Chain [1] start processing\n",
      "15:19:25 - cmdstanpy - INFO - Chain [1] done processing\n",
      "15:19:26 - cmdstanpy - INFO - Chain [1] start processing\n",
      "15:19:26 - cmdstanpy - INFO - Chain [1] done processing\n",
      "15:19:26 - cmdstanpy - INFO - Chain [1] start processing\n",
      "15:19:26 - cmdstanpy - INFO - Chain [1] done processing\n",
      "15:19:27 - cmdstanpy - INFO - Chain [1] start processing\n",
      "15:19:27 - cmdstanpy - INFO - Chain [1] done processing\n",
      "15:19:27 - cmdstanpy - INFO - Chain [1] start processing\n",
      "15:19:27 - cmdstanpy - INFO - Chain [1] done processing\n",
      "15:19:27 - cmdstanpy - INFO - Chain [1] start processing\n",
      "15:19:28 - cmdstanpy - INFO - Chain [1] done processing\n",
      "15:19:28 - cmdstanpy - INFO - Chain [1] start processing\n",
      "15:19:28 - cmdstanpy - INFO - Chain [1] done processing\n",
      "15:19:28 - cmdstanpy - INFO - Chain [1] start processing\n",
      "15:19:29 - cmdstanpy - INFO - Chain [1] done processing\n",
      "15:19:29 - cmdstanpy - INFO - Chain [1] start processing\n",
      "15:19:29 - cmdstanpy - INFO - Chain [1] done processing\n",
      "15:19:29 - cmdstanpy - INFO - Chain [1] start processing\n",
      "15:19:29 - cmdstanpy - INFO - Chain [1] done processing\n",
      "15:19:30 - cmdstanpy - INFO - Chain [1] start processing\n",
      "15:19:30 - cmdstanpy - INFO - Chain [1] done processing\n",
      " 96%|█████████████████████████████████████████▎ | 72/75 [08:45<00:22,  7.47s/it]"
     ]
    },
    {
     "data": {
      "application/vnd.jupyter.widget-view+json": {
       "model_id": "3aea5537fa4044d6bd3d5c7c4e70456a",
       "version_major": 2,
       "version_minor": 0
      },
      "text/plain": [
       "  0%|          | 0/16 [00:00<?, ?it/s]"
      ]
     },
     "metadata": {},
     "output_type": "display_data"
    },
    {
     "name": "stderr",
     "output_type": "stream",
     "text": [
      "15:19:31 - cmdstanpy - INFO - Chain [1] start processing\n",
      "15:19:31 - cmdstanpy - INFO - Chain [1] done processing\n",
      "15:19:32 - cmdstanpy - INFO - Chain [1] start processing\n",
      "15:19:32 - cmdstanpy - INFO - Chain [1] done processing\n",
      "15:19:32 - cmdstanpy - INFO - Chain [1] start processing\n",
      "15:19:32 - cmdstanpy - INFO - Chain [1] done processing\n",
      "15:19:32 - cmdstanpy - INFO - Chain [1] start processing\n",
      "15:19:32 - cmdstanpy - INFO - Chain [1] done processing\n",
      "15:19:33 - cmdstanpy - INFO - Chain [1] start processing\n",
      "15:19:33 - cmdstanpy - INFO - Chain [1] done processing\n",
      "15:19:33 - cmdstanpy - INFO - Chain [1] start processing\n",
      "15:19:33 - cmdstanpy - INFO - Chain [1] done processing\n",
      "15:19:33 - cmdstanpy - INFO - Chain [1] start processing\n",
      "15:19:34 - cmdstanpy - INFO - Chain [1] done processing\n",
      "15:19:34 - cmdstanpy - INFO - Chain [1] start processing\n",
      "15:19:34 - cmdstanpy - INFO - Chain [1] done processing\n",
      "15:19:34 - cmdstanpy - INFO - Chain [1] start processing\n",
      "15:19:35 - cmdstanpy - INFO - Chain [1] done processing\n",
      "15:19:35 - cmdstanpy - INFO - Chain [1] start processing\n",
      "15:19:35 - cmdstanpy - INFO - Chain [1] done processing\n",
      "15:19:35 - cmdstanpy - INFO - Chain [1] start processing\n",
      "15:19:35 - cmdstanpy - INFO - Chain [1] done processing\n",
      "15:19:36 - cmdstanpy - INFO - Chain [1] start processing\n",
      "15:19:36 - cmdstanpy - INFO - Chain [1] done processing\n",
      "15:19:36 - cmdstanpy - INFO - Chain [1] start processing\n",
      "15:19:36 - cmdstanpy - INFO - Chain [1] done processing\n",
      "15:19:37 - cmdstanpy - INFO - Chain [1] start processing\n",
      "15:19:37 - cmdstanpy - INFO - Chain [1] done processing\n",
      "15:19:37 - cmdstanpy - INFO - Chain [1] start processing\n",
      "15:19:37 - cmdstanpy - INFO - Chain [1] done processing\n",
      "15:19:38 - cmdstanpy - INFO - Chain [1] start processing\n",
      "15:19:38 - cmdstanpy - INFO - Chain [1] done processing\n",
      " 97%|█████████████████████████████████████████▊ | 73/75 [08:53<00:15,  7.60s/it]"
     ]
    },
    {
     "data": {
      "application/vnd.jupyter.widget-view+json": {
       "model_id": "729d7e7cbd3e432e947cb12e7e3045c9",
       "version_major": 2,
       "version_minor": 0
      },
      "text/plain": [
       "  0%|          | 0/16 [00:00<?, ?it/s]"
      ]
     },
     "metadata": {},
     "output_type": "display_data"
    },
    {
     "name": "stderr",
     "output_type": "stream",
     "text": [
      "15:19:39 - cmdstanpy - INFO - Chain [1] start processing\n",
      "15:19:39 - cmdstanpy - INFO - Chain [1] done processing\n",
      "15:19:39 - cmdstanpy - INFO - Chain [1] start processing\n",
      "15:19:40 - cmdstanpy - INFO - Chain [1] done processing\n",
      "15:19:40 - cmdstanpy - INFO - Chain [1] start processing\n",
      "15:19:40 - cmdstanpy - INFO - Chain [1] done processing\n",
      "15:19:40 - cmdstanpy - INFO - Chain [1] start processing\n",
      "15:19:40 - cmdstanpy - INFO - Chain [1] done processing\n",
      "15:19:41 - cmdstanpy - INFO - Chain [1] start processing\n",
      "15:19:41 - cmdstanpy - INFO - Chain [1] done processing\n",
      "15:19:41 - cmdstanpy - INFO - Chain [1] start processing\n",
      "15:19:41 - cmdstanpy - INFO - Chain [1] done processing\n",
      "15:19:41 - cmdstanpy - INFO - Chain [1] start processing\n",
      "15:19:41 - cmdstanpy - INFO - Chain [1] done processing\n",
      "15:19:42 - cmdstanpy - INFO - Chain [1] start processing\n",
      "15:19:42 - cmdstanpy - INFO - Chain [1] done processing\n",
      "15:19:42 - cmdstanpy - INFO - Chain [1] start processing\n",
      "15:19:42 - cmdstanpy - INFO - Chain [1] done processing\n",
      "15:19:43 - cmdstanpy - INFO - Chain [1] start processing\n",
      "15:19:43 - cmdstanpy - INFO - Chain [1] done processing\n",
      "15:19:43 - cmdstanpy - INFO - Chain [1] start processing\n",
      "15:19:43 - cmdstanpy - INFO - Chain [1] done processing\n",
      "15:19:43 - cmdstanpy - INFO - Chain [1] start processing\n",
      "15:19:44 - cmdstanpy - INFO - Chain [1] done processing\n",
      "15:19:44 - cmdstanpy - INFO - Chain [1] start processing\n",
      "15:19:44 - cmdstanpy - INFO - Chain [1] done processing\n",
      "15:19:44 - cmdstanpy - INFO - Chain [1] start processing\n",
      "15:19:44 - cmdstanpy - INFO - Chain [1] done processing\n",
      "15:19:45 - cmdstanpy - INFO - Chain [1] start processing\n",
      "15:19:45 - cmdstanpy - INFO - Chain [1] done processing\n",
      "15:19:45 - cmdstanpy - INFO - Chain [1] start processing\n",
      "15:19:45 - cmdstanpy - INFO - Chain [1] done processing\n",
      " 99%|██████████████████████████████████████████▍| 74/75 [09:00<00:07,  7.54s/it]"
     ]
    },
    {
     "data": {
      "application/vnd.jupyter.widget-view+json": {
       "model_id": "abf92c54831e45d5ac3587427864a866",
       "version_major": 2,
       "version_minor": 0
      },
      "text/plain": [
       "  0%|          | 0/16 [00:00<?, ?it/s]"
      ]
     },
     "metadata": {},
     "output_type": "display_data"
    },
    {
     "name": "stderr",
     "output_type": "stream",
     "text": [
      "15:19:46 - cmdstanpy - INFO - Chain [1] start processing\n",
      "15:19:47 - cmdstanpy - INFO - Chain [1] done processing\n",
      "15:19:47 - cmdstanpy - INFO - Chain [1] start processing\n",
      "15:19:47 - cmdstanpy - INFO - Chain [1] done processing\n",
      "15:19:47 - cmdstanpy - INFO - Chain [1] start processing\n",
      "15:19:47 - cmdstanpy - INFO - Chain [1] done processing\n",
      "15:19:48 - cmdstanpy - INFO - Chain [1] start processing\n",
      "15:19:48 - cmdstanpy - INFO - Chain [1] done processing\n",
      "15:19:48 - cmdstanpy - INFO - Chain [1] start processing\n",
      "15:19:48 - cmdstanpy - INFO - Chain [1] done processing\n",
      "15:19:48 - cmdstanpy - INFO - Chain [1] start processing\n",
      "15:19:48 - cmdstanpy - INFO - Chain [1] done processing\n",
      "15:19:49 - cmdstanpy - INFO - Chain [1] start processing\n",
      "15:19:49 - cmdstanpy - INFO - Chain [1] done processing\n",
      "15:19:49 - cmdstanpy - INFO - Chain [1] start processing\n",
      "15:19:49 - cmdstanpy - INFO - Chain [1] done processing\n",
      "15:19:50 - cmdstanpy - INFO - Chain [1] start processing\n",
      "15:19:50 - cmdstanpy - INFO - Chain [1] done processing\n",
      "15:19:50 - cmdstanpy - INFO - Chain [1] start processing\n",
      "15:19:50 - cmdstanpy - INFO - Chain [1] done processing\n",
      "15:19:50 - cmdstanpy - INFO - Chain [1] start processing\n",
      "15:19:51 - cmdstanpy - INFO - Chain [1] done processing\n",
      "15:19:51 - cmdstanpy - INFO - Chain [1] start processing\n",
      "15:19:51 - cmdstanpy - INFO - Chain [1] done processing\n",
      "15:19:51 - cmdstanpy - INFO - Chain [1] start processing\n",
      "15:19:51 - cmdstanpy - INFO - Chain [1] done processing\n",
      "15:19:52 - cmdstanpy - INFO - Chain [1] start processing\n",
      "15:19:52 - cmdstanpy - INFO - Chain [1] done processing\n",
      "15:19:52 - cmdstanpy - INFO - Chain [1] start processing\n",
      "15:19:52 - cmdstanpy - INFO - Chain [1] done processing\n",
      "15:19:53 - cmdstanpy - INFO - Chain [1] start processing\n",
      "15:19:53 - cmdstanpy - INFO - Chain [1] done processing\n",
      "100%|███████████████████████████████████████████| 75/75 [09:08<00:00,  7.31s/it]\n"
     ]
    }
   ],
   "source": [
    "smapes = [get_smape(m) for m in tqdm(models)]"
   ]
  },
  {
   "cell_type": "code",
   "execution_count": 58,
   "id": "b9047994",
   "metadata": {
    "ExecuteTime": {
     "end_time": "2023-07-24T14:25:49.231606Z",
     "start_time": "2023-07-24T14:25:49.226402Z"
    }
   },
   "outputs": [
    {
     "data": {
      "text/plain": [
       "'Average SMAPE: 32.48123'"
      ]
     },
     "execution_count": 58,
     "metadata": {},
     "output_type": "execute_result"
    }
   ],
   "source": [
    "f'Average SMAPE: {np.mean(smapes) * 100:.5f}'"
   ]
  },
  {
   "cell_type": "markdown",
   "id": "954fa750",
   "metadata": {},
   "source": [
    "## Submission"
   ]
  },
  {
   "cell_type": "code",
   "execution_count": 57,
   "id": "f9583c9a",
   "metadata": {
    "ExecuteTime": {
     "end_time": "2023-07-24T13:35:35.211593Z",
     "start_time": "2023-07-24T13:35:35.073655Z"
    }
   },
   "outputs": [
    {
     "data": {
      "text/html": [
       "<div>\n",
       "<style scoped>\n",
       "    .dataframe tbody tr th:only-of-type {\n",
       "        vertical-align: middle;\n",
       "    }\n",
       "\n",
       "    .dataframe tbody tr th {\n",
       "        vertical-align: top;\n",
       "    }\n",
       "\n",
       "    .dataframe thead th {\n",
       "        text-align: right;\n",
       "    }\n",
       "</style>\n",
       "<table border=\"1\" class=\"dataframe\">\n",
       "  <thead>\n",
       "    <tr style=\"text-align: right;\">\n",
       "      <th></th>\n",
       "      <th>date</th>\n",
       "      <th>comb</th>\n",
       "      <th>num_sold</th>\n",
       "      <th>yhat_upper</th>\n",
       "      <th>yhat_lower</th>\n",
       "    </tr>\n",
       "  </thead>\n",
       "  <tbody>\n",
       "    <tr>\n",
       "      <th>1826</th>\n",
       "      <td>2022-01-01</td>\n",
       "      <td>Argentina|Kaggle Learn|Using LLMs to Improve Y...</td>\n",
       "      <td>36.88718</td>\n",
       "      <td>40.415925</td>\n",
       "      <td>33.188277</td>\n",
       "    </tr>\n",
       "  </tbody>\n",
       "</table>\n",
       "</div>"
      ],
      "text/plain": [
       "            date                                               comb  num_sold  \\\n",
       "1826  2022-01-01  Argentina|Kaggle Learn|Using LLMs to Improve Y...  36.88718   \n",
       "\n",
       "      yhat_upper  yhat_lower  \n",
       "1826   40.415925   33.188277  "
      ]
     },
     "execution_count": 57,
     "metadata": {},
     "output_type": "execute_result"
    }
   ],
   "source": [
    "subs = preds[preds.ds > train_df.ds.max()]\n",
    "subs = subs.rename(columns={'ds': 'date',\n",
    "                            'yhat': 'num_sold'})\n",
    "subs['date'] = subs['date'].apply(str).apply(lambda x: x.split(' ')[0])\n",
    "subs.head(1)"
   ]
  },
  {
   "cell_type": "code",
   "execution_count": 63,
   "id": "b904e9bd",
   "metadata": {
    "ExecuteTime": {
     "end_time": "2023-07-24T13:36:17.895204Z",
     "start_time": "2023-07-24T13:36:17.684220Z"
    }
   },
   "outputs": [
    {
     "data": {
      "text/html": [
       "<div>\n",
       "<style scoped>\n",
       "    .dataframe tbody tr th:only-of-type {\n",
       "        vertical-align: middle;\n",
       "    }\n",
       "\n",
       "    .dataframe tbody tr th {\n",
       "        vertical-align: top;\n",
       "    }\n",
       "\n",
       "    .dataframe thead th {\n",
       "        text-align: right;\n",
       "    }\n",
       "</style>\n",
       "<table border=\"1\" class=\"dataframe\">\n",
       "  <thead>\n",
       "    <tr style=\"text-align: right;\">\n",
       "      <th></th>\n",
       "      <th>id</th>\n",
       "      <th>date</th>\n",
       "      <th>country</th>\n",
       "      <th>store</th>\n",
       "      <th>product</th>\n",
       "      <th>comb</th>\n",
       "    </tr>\n",
       "  </thead>\n",
       "  <tbody>\n",
       "    <tr>\n",
       "      <th>0</th>\n",
       "      <td>136950</td>\n",
       "      <td>2022-01-01</td>\n",
       "      <td>Argentina</td>\n",
       "      <td>Kaggle Learn</td>\n",
       "      <td>Using LLMs to Improve Your Coding</td>\n",
       "      <td>Argentina|Kaggle Learn|Using LLMs to Improve Y...</td>\n",
       "    </tr>\n",
       "  </tbody>\n",
       "</table>\n",
       "</div>"
      ],
      "text/plain": [
       "       id        date    country         store  \\\n",
       "0  136950  2022-01-01  Argentina  Kaggle Learn   \n",
       "\n",
       "                             product  \\\n",
       "0  Using LLMs to Improve Your Coding   \n",
       "\n",
       "                                                comb  \n",
       "0  Argentina|Kaggle Learn|Using LLMs to Improve Y...  "
      ]
     },
     "execution_count": 63,
     "metadata": {},
     "output_type": "execute_result"
    }
   ],
   "source": [
    "test_df['comb'] = test_df[cats].apply(lambda x: '|'.join(list(x)), \n",
    "                                      axis=1)\n",
    "test_df.head(1)"
   ]
  },
  {
   "cell_type": "code",
   "execution_count": 64,
   "id": "aeb780ee",
   "metadata": {
    "ExecuteTime": {
     "end_time": "2023-07-24T13:36:20.475545Z",
     "start_time": "2023-07-24T13:36:20.432235Z"
    }
   },
   "outputs": [
    {
     "data": {
      "text/html": [
       "<div>\n",
       "<style scoped>\n",
       "    .dataframe tbody tr th:only-of-type {\n",
       "        vertical-align: middle;\n",
       "    }\n",
       "\n",
       "    .dataframe tbody tr th {\n",
       "        vertical-align: top;\n",
       "    }\n",
       "\n",
       "    .dataframe thead th {\n",
       "        text-align: right;\n",
       "    }\n",
       "</style>\n",
       "<table border=\"1\" class=\"dataframe\">\n",
       "  <thead>\n",
       "    <tr style=\"text-align: right;\">\n",
       "      <th></th>\n",
       "      <th>id</th>\n",
       "      <th>date</th>\n",
       "      <th>country</th>\n",
       "      <th>store</th>\n",
       "      <th>product</th>\n",
       "      <th>comb</th>\n",
       "      <th>num_sold</th>\n",
       "      <th>yhat_upper</th>\n",
       "      <th>yhat_lower</th>\n",
       "    </tr>\n",
       "  </thead>\n",
       "  <tbody>\n",
       "    <tr>\n",
       "      <th>0</th>\n",
       "      <td>136950</td>\n",
       "      <td>2022-01-01</td>\n",
       "      <td>Argentina</td>\n",
       "      <td>Kaggle Learn</td>\n",
       "      <td>Using LLMs to Improve Your Coding</td>\n",
       "      <td>Argentina|Kaggle Learn|Using LLMs to Improve Y...</td>\n",
       "      <td>36.88718</td>\n",
       "      <td>40.415925</td>\n",
       "      <td>33.188277</td>\n",
       "    </tr>\n",
       "  </tbody>\n",
       "</table>\n",
       "</div>"
      ],
      "text/plain": [
       "       id        date    country         store  \\\n",
       "0  136950  2022-01-01  Argentina  Kaggle Learn   \n",
       "\n",
       "                             product  \\\n",
       "0  Using LLMs to Improve Your Coding   \n",
       "\n",
       "                                                comb  num_sold  yhat_upper  \\\n",
       "0  Argentina|Kaggle Learn|Using LLMs to Improve Y...  36.88718   40.415925   \n",
       "\n",
       "   yhat_lower  \n",
       "0   33.188277  "
      ]
     },
     "execution_count": 64,
     "metadata": {},
     "output_type": "execute_result"
    }
   ],
   "source": [
    "test_df = test_df.merge(subs, how='left', on=['date', 'comb'])\n",
    "test_df.head(1)"
   ]
  },
  {
   "cell_type": "code",
   "execution_count": 67,
   "id": "90541aaa",
   "metadata": {
    "ExecuteTime": {
     "end_time": "2023-07-24T13:41:34.627747Z",
     "start_time": "2023-07-24T13:41:34.522921Z"
    }
   },
   "outputs": [],
   "source": [
    "test_df[['id', 'num_sold']].to_csv('subs/sub_1.csv', index=False)"
   ]
  },
  {
   "cell_type": "code",
   "execution_count": null,
   "id": "dbd09b0d",
   "metadata": {},
   "outputs": [],
   "source": []
  }
 ],
 "metadata": {
  "kernelspec": {
   "display_name": "Python 3 (ipykernel)",
   "language": "python",
   "name": "python3"
  },
  "language_info": {
   "codemirror_mode": {
    "name": "ipython",
    "version": 3
   },
   "file_extension": ".py",
   "mimetype": "text/x-python",
   "name": "python",
   "nbconvert_exporter": "python",
   "pygments_lexer": "ipython3",
   "version": "3.8.17"
  }
 },
 "nbformat": 4,
 "nbformat_minor": 5
}
