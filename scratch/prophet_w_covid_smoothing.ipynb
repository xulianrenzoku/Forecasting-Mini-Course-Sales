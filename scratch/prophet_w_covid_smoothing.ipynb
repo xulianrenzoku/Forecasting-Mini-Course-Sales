{
 "cells": [
  {
   "cell_type": "code",
   "execution_count": 51,
   "id": "e98fb2db",
   "metadata": {
    "ExecuteTime": {
     "end_time": "2023-07-25T13:56:49.727115Z",
     "start_time": "2023-07-25T13:56:49.720925Z"
    }
   },
   "outputs": [],
   "source": [
    "import os\n",
    "import numpy as np\n",
    "import pandas as pd\n",
    "import matplotlib.pyplot as plt\n",
    "import matplotlib.dates as mdates\n",
    "import seaborn as sns\n",
    "from IPython.core.pylabtools import figsize\n",
    "from tqdm import tqdm"
   ]
  },
  {
   "cell_type": "code",
   "execution_count": 52,
   "id": "5b77763e",
   "metadata": {
    "ExecuteTime": {
     "end_time": "2023-07-25T13:56:49.982919Z",
     "start_time": "2023-07-25T13:56:49.978607Z"
    }
   },
   "outputs": [],
   "source": [
    "import holidays\n",
    "from prophet import Prophet\n",
    "from prophet.diagnostics import cross_validation\n",
    "from prophet.diagnostics import performance_metrics"
   ]
  },
  {
   "cell_type": "code",
   "execution_count": 53,
   "id": "e0cdc14e",
   "metadata": {
    "ExecuteTime": {
     "end_time": "2023-07-25T13:56:50.242684Z",
     "start_time": "2023-07-25T13:56:50.238611Z"
    }
   },
   "outputs": [],
   "source": [
    "import warnings\n",
    "warnings.filterwarnings('ignore')"
   ]
  },
  {
   "cell_type": "code",
   "execution_count": 54,
   "id": "5569f62d",
   "metadata": {
    "ExecuteTime": {
     "end_time": "2023-07-25T13:56:50.508619Z",
     "start_time": "2023-07-25T13:56:50.501525Z"
    }
   },
   "outputs": [],
   "source": [
    "# sns.set()"
   ]
  },
  {
   "cell_type": "markdown",
   "id": "19d5f201",
   "metadata": {},
   "source": [
    "## Read Data"
   ]
  },
  {
   "cell_type": "code",
   "execution_count": 55,
   "id": "ab94bdc6",
   "metadata": {
    "ExecuteTime": {
     "end_time": "2023-07-25T13:56:51.009303Z",
     "start_time": "2023-07-25T13:56:51.003663Z"
    }
   },
   "outputs": [
    {
     "data": {
      "text/plain": [
       "['test.csv', 'train_smoothed.csv', 'train.csv', 'sample_submission.csv']"
      ]
     },
     "execution_count": 55,
     "metadata": {},
     "output_type": "execute_result"
    }
   ],
   "source": [
    "os.listdir('input')"
   ]
  },
  {
   "cell_type": "code",
   "execution_count": 56,
   "id": "45c9e915",
   "metadata": {
    "ExecuteTime": {
     "end_time": "2023-07-25T13:56:51.560524Z",
     "start_time": "2023-07-25T13:56:51.406069Z"
    }
   },
   "outputs": [
    {
     "name": "stdout",
     "output_type": "stream",
     "text": [
      "(136950, 6)\n"
     ]
    },
    {
     "data": {
      "text/html": [
       "<div>\n",
       "<style scoped>\n",
       "    .dataframe tbody tr th:only-of-type {\n",
       "        vertical-align: middle;\n",
       "    }\n",
       "\n",
       "    .dataframe tbody tr th {\n",
       "        vertical-align: top;\n",
       "    }\n",
       "\n",
       "    .dataframe thead th {\n",
       "        text-align: right;\n",
       "    }\n",
       "</style>\n",
       "<table border=\"1\" class=\"dataframe\">\n",
       "  <thead>\n",
       "    <tr style=\"text-align: right;\">\n",
       "      <th></th>\n",
       "      <th>id</th>\n",
       "      <th>date</th>\n",
       "      <th>country</th>\n",
       "      <th>store</th>\n",
       "      <th>product</th>\n",
       "      <th>num_sold</th>\n",
       "    </tr>\n",
       "  </thead>\n",
       "  <tbody>\n",
       "    <tr>\n",
       "      <th>0</th>\n",
       "      <td>0</td>\n",
       "      <td>2017-01-01</td>\n",
       "      <td>Argentina</td>\n",
       "      <td>Kaggle Learn</td>\n",
       "      <td>Using LLMs to Improve Your Coding</td>\n",
       "      <td>63</td>\n",
       "    </tr>\n",
       "  </tbody>\n",
       "</table>\n",
       "</div>"
      ],
      "text/plain": [
       "   id        date    country         store                            product  \\\n",
       "0   0  2017-01-01  Argentina  Kaggle Learn  Using LLMs to Improve Your Coding   \n",
       "\n",
       "   num_sold  \n",
       "0        63  "
      ]
     },
     "execution_count": 56,
     "metadata": {},
     "output_type": "execute_result"
    }
   ],
   "source": [
    "train_df = pd.read_csv('input/train.csv')\n",
    "print(train_df.shape)\n",
    "train_df.head(1)"
   ]
  },
  {
   "cell_type": "code",
   "execution_count": 57,
   "id": "63695519",
   "metadata": {
    "ExecuteTime": {
     "end_time": "2023-07-25T13:56:51.947527Z",
     "start_time": "2023-07-25T13:56:51.906539Z"
    }
   },
   "outputs": [
    {
     "data": {
      "text/plain": [
       "(27375, 5)"
      ]
     },
     "execution_count": 57,
     "metadata": {},
     "output_type": "execute_result"
    }
   ],
   "source": [
    "test_df = pd.read_csv('input/test.csv')\n",
    "test_df.shape"
   ]
  },
  {
   "cell_type": "code",
   "execution_count": 58,
   "id": "eb6b79b5",
   "metadata": {
    "ExecuteTime": {
     "end_time": "2023-07-25T13:56:52.009899Z",
     "start_time": "2023-07-25T13:56:51.989642Z"
    }
   },
   "outputs": [
    {
     "name": "stdout",
     "output_type": "stream",
     "text": [
      "(27375, 2)\n"
     ]
    },
    {
     "data": {
      "text/html": [
       "<div>\n",
       "<style scoped>\n",
       "    .dataframe tbody tr th:only-of-type {\n",
       "        vertical-align: middle;\n",
       "    }\n",
       "\n",
       "    .dataframe tbody tr th {\n",
       "        vertical-align: top;\n",
       "    }\n",
       "\n",
       "    .dataframe thead th {\n",
       "        text-align: right;\n",
       "    }\n",
       "</style>\n",
       "<table border=\"1\" class=\"dataframe\">\n",
       "  <thead>\n",
       "    <tr style=\"text-align: right;\">\n",
       "      <th></th>\n",
       "      <th>id</th>\n",
       "      <th>num_sold</th>\n",
       "    </tr>\n",
       "  </thead>\n",
       "  <tbody>\n",
       "    <tr>\n",
       "      <th>0</th>\n",
       "      <td>136950</td>\n",
       "      <td>100</td>\n",
       "    </tr>\n",
       "  </tbody>\n",
       "</table>\n",
       "</div>"
      ],
      "text/plain": [
       "       id  num_sold\n",
       "0  136950       100"
      ]
     },
     "execution_count": 58,
     "metadata": {},
     "output_type": "execute_result"
    }
   ],
   "source": [
    "sample_sub = pd.read_csv('input/sample_submission.csv')\n",
    "print(sample_sub.shape)\n",
    "sample_sub.head(1)"
   ]
  },
  {
   "cell_type": "markdown",
   "id": "6b2a74d4",
   "metadata": {},
   "source": [
    "## Get Holidays"
   ]
  },
  {
   "cell_type": "code",
   "execution_count": 59,
   "id": "bf6cf1a1",
   "metadata": {
    "ExecuteTime": {
     "end_time": "2023-07-25T13:56:52.171484Z",
     "start_time": "2023-07-25T13:56:52.156291Z"
    }
   },
   "outputs": [
    {
     "data": {
      "text/plain": [
       "array(['Argentina', 'Canada', 'Estonia', 'Japan', 'Spain'], dtype=object)"
      ]
     },
     "execution_count": 59,
     "metadata": {},
     "output_type": "execute_result"
    }
   ],
   "source": [
    "train_df.country.unique()"
   ]
  },
  {
   "cell_type": "code",
   "execution_count": 60,
   "id": "021f9fa8",
   "metadata": {
    "ExecuteTime": {
     "end_time": "2023-07-25T13:56:52.264559Z",
     "start_time": "2023-07-25T13:56:52.241993Z"
    }
   },
   "outputs": [
    {
     "data": {
      "text/plain": [
       "('2017-01-01', '2022-12-31')"
      ]
     },
     "execution_count": 60,
     "metadata": {},
     "output_type": "execute_result"
    }
   ],
   "source": [
    "start_date = train_df.date.min()\n",
    "end_date = test_df.date.max()\n",
    "start_date, end_date"
   ]
  },
  {
   "cell_type": "code",
   "execution_count": 61,
   "id": "c8736670",
   "metadata": {
    "ExecuteTime": {
     "end_time": "2023-07-25T13:56:52.332145Z",
     "start_time": "2023-07-25T13:56:52.326732Z"
    }
   },
   "outputs": [],
   "source": [
    "def get_national_holidays(country,\n",
    "                          start_date=start_date,\n",
    "                          end_date=end_date):\n",
    "    holidays_days = holidays.CountryHoliday(country)\n",
    "    date_range = pd.date_range(start_date, end_date)\n",
    "    return [date for date in date_range\n",
    "            if date in holidays_days]"
   ]
  },
  {
   "cell_type": "code",
   "execution_count": 62,
   "id": "4ce739fe",
   "metadata": {
    "ExecuteTime": {
     "end_time": "2023-07-25T13:56:52.418608Z",
     "start_time": "2023-07-25T13:56:52.407970Z"
    }
   },
   "outputs": [],
   "source": [
    "common_holidays = pd.DataFrame({\n",
    "    'ds': pd.to_datetime(['2017-04-16','2017-12-24', '2017-12-25', '2017-12-26', '2017-12-27', '2017-12-28', '2017-12-29', '2017-12-30', '2017-12-31',\n",
    "                          '2018-04-01','2018-12-24', '2018-12-25', '2018-12-26', '2018-12-27', '2018-12-28', '2018-12-29', '2018-12-30', '2018-12-31',\n",
    "                          '2019-04-21','2019-12-24', '2019-12-25', '2019-12-26', '2019-12-27', '2019-12-28', '2019-12-29', '2019-12-30', '2019-12-31',\n",
    "                          '2020-04-12','2020-12-24', '2020-12-25', '2020-12-26', '2020-12-27', '2020-12-28', '2020-12-29', '2020-12-30', '2020-12-31',\n",
    "                          '2021-04-04','2021-12-24', '2021-12-25', '2021-12-26', '2021-12-27', '2021-12-28', '2021-12-29', '2021-12-30', '2021-12-31',\n",
    "                          '2022-04-17','2022-12-24', '2022-12-25', '2022-12-26', '2022-12-27', '2022-12-28', '2022-12-29', '2022-12-30', '2022-12-31']),\n",
    "    'holiday': 'Holiday Season'\n",
    "    })"
   ]
  },
  {
   "cell_type": "code",
   "execution_count": 63,
   "id": "eac489f6",
   "metadata": {
    "ExecuteTime": {
     "end_time": "2023-07-25T13:56:52.634567Z",
     "start_time": "2023-07-25T13:56:52.492416Z"
    }
   },
   "outputs": [
    {
     "data": {
      "text/html": [
       "<div>\n",
       "<style scoped>\n",
       "    .dataframe tbody tr th:only-of-type {\n",
       "        vertical-align: middle;\n",
       "    }\n",
       "\n",
       "    .dataframe tbody tr th {\n",
       "        vertical-align: top;\n",
       "    }\n",
       "\n",
       "    .dataframe thead th {\n",
       "        text-align: right;\n",
       "    }\n",
       "</style>\n",
       "<table border=\"1\" class=\"dataframe\">\n",
       "  <thead>\n",
       "    <tr style=\"text-align: right;\">\n",
       "      <th></th>\n",
       "      <th>holiday</th>\n",
       "      <th>ds</th>\n",
       "    </tr>\n",
       "  </thead>\n",
       "  <tbody>\n",
       "    <tr>\n",
       "      <th>0</th>\n",
       "      <td>Japan</td>\n",
       "      <td>2017-01-01</td>\n",
       "    </tr>\n",
       "    <tr>\n",
       "      <th>1</th>\n",
       "      <td>Japan</td>\n",
       "      <td>2017-01-02</td>\n",
       "    </tr>\n",
       "    <tr>\n",
       "      <th>2</th>\n",
       "      <td>Japan</td>\n",
       "      <td>2017-01-09</td>\n",
       "    </tr>\n",
       "    <tr>\n",
       "      <th>3</th>\n",
       "      <td>Japan</td>\n",
       "      <td>2017-02-11</td>\n",
       "    </tr>\n",
       "    <tr>\n",
       "      <th>4</th>\n",
       "      <td>Japan</td>\n",
       "      <td>2017-03-20</td>\n",
       "    </tr>\n",
       "    <tr>\n",
       "      <th>...</th>\n",
       "      <td>...</td>\n",
       "      <td>...</td>\n",
       "    </tr>\n",
       "    <tr>\n",
       "      <th>105</th>\n",
       "      <td>Japan</td>\n",
       "      <td>2022-09-19</td>\n",
       "    </tr>\n",
       "    <tr>\n",
       "      <th>106</th>\n",
       "      <td>Japan</td>\n",
       "      <td>2022-09-23</td>\n",
       "    </tr>\n",
       "    <tr>\n",
       "      <th>107</th>\n",
       "      <td>Japan</td>\n",
       "      <td>2022-10-10</td>\n",
       "    </tr>\n",
       "    <tr>\n",
       "      <th>108</th>\n",
       "      <td>Japan</td>\n",
       "      <td>2022-11-03</td>\n",
       "    </tr>\n",
       "    <tr>\n",
       "      <th>109</th>\n",
       "      <td>Japan</td>\n",
       "      <td>2022-11-23</td>\n",
       "    </tr>\n",
       "  </tbody>\n",
       "</table>\n",
       "<p>110 rows × 2 columns</p>\n",
       "</div>"
      ],
      "text/plain": [
       "    holiday         ds\n",
       "0     Japan 2017-01-01\n",
       "1     Japan 2017-01-02\n",
       "2     Japan 2017-01-09\n",
       "3     Japan 2017-02-11\n",
       "4     Japan 2017-03-20\n",
       "..      ...        ...\n",
       "105   Japan 2022-09-19\n",
       "106   Japan 2022-09-23\n",
       "107   Japan 2022-10-10\n",
       "108   Japan 2022-11-03\n",
       "109   Japan 2022-11-23\n",
       "\n",
       "[110 rows x 2 columns]"
      ]
     },
     "execution_count": 63,
     "metadata": {},
     "output_type": "execute_result"
    }
   ],
   "source": [
    "country_holiday_dict = {country: pd.DataFrame({\n",
    "    'holiday': country,\n",
    "    'ds': pd.to_datetime(get_national_holidays(country))})\n",
    "                        for country in train_df.country.unique()}\n",
    "\n",
    "country_holiday_dict['Japan']"
   ]
  },
  {
   "cell_type": "code",
   "execution_count": 64,
   "id": "15c16426",
   "metadata": {
    "ExecuteTime": {
     "end_time": "2023-07-25T13:56:52.665813Z",
     "start_time": "2023-07-25T13:56:52.637667Z"
    }
   },
   "outputs": [
    {
     "data": {
      "text/html": [
       "<div>\n",
       "<style scoped>\n",
       "    .dataframe tbody tr th:only-of-type {\n",
       "        vertical-align: middle;\n",
       "    }\n",
       "\n",
       "    .dataframe tbody tr th {\n",
       "        vertical-align: top;\n",
       "    }\n",
       "\n",
       "    .dataframe thead th {\n",
       "        text-align: right;\n",
       "    }\n",
       "</style>\n",
       "<table border=\"1\" class=\"dataframe\">\n",
       "  <thead>\n",
       "    <tr style=\"text-align: right;\">\n",
       "      <th></th>\n",
       "      <th>holiday</th>\n",
       "      <th>ds</th>\n",
       "    </tr>\n",
       "  </thead>\n",
       "  <tbody>\n",
       "    <tr>\n",
       "      <th>0</th>\n",
       "      <td>Japan</td>\n",
       "      <td>2017-01-01</td>\n",
       "    </tr>\n",
       "    <tr>\n",
       "      <th>1</th>\n",
       "      <td>Japan</td>\n",
       "      <td>2017-01-02</td>\n",
       "    </tr>\n",
       "    <tr>\n",
       "      <th>2</th>\n",
       "      <td>Japan</td>\n",
       "      <td>2017-01-09</td>\n",
       "    </tr>\n",
       "    <tr>\n",
       "      <th>3</th>\n",
       "      <td>Japan</td>\n",
       "      <td>2017-02-11</td>\n",
       "    </tr>\n",
       "    <tr>\n",
       "      <th>4</th>\n",
       "      <td>Japan</td>\n",
       "      <td>2017-03-20</td>\n",
       "    </tr>\n",
       "    <tr>\n",
       "      <th>...</th>\n",
       "      <td>...</td>\n",
       "      <td>...</td>\n",
       "    </tr>\n",
       "    <tr>\n",
       "      <th>49</th>\n",
       "      <td>Holiday Season</td>\n",
       "      <td>2022-12-27</td>\n",
       "    </tr>\n",
       "    <tr>\n",
       "      <th>50</th>\n",
       "      <td>Holiday Season</td>\n",
       "      <td>2022-12-28</td>\n",
       "    </tr>\n",
       "    <tr>\n",
       "      <th>51</th>\n",
       "      <td>Holiday Season</td>\n",
       "      <td>2022-12-29</td>\n",
       "    </tr>\n",
       "    <tr>\n",
       "      <th>52</th>\n",
       "      <td>Holiday Season</td>\n",
       "      <td>2022-12-30</td>\n",
       "    </tr>\n",
       "    <tr>\n",
       "      <th>53</th>\n",
       "      <td>Holiday Season</td>\n",
       "      <td>2022-12-31</td>\n",
       "    </tr>\n",
       "  </tbody>\n",
       "</table>\n",
       "<p>164 rows × 2 columns</p>\n",
       "</div>"
      ],
      "text/plain": [
       "           holiday         ds\n",
       "0            Japan 2017-01-01\n",
       "1            Japan 2017-01-02\n",
       "2            Japan 2017-01-09\n",
       "3            Japan 2017-02-11\n",
       "4            Japan 2017-03-20\n",
       "..             ...        ...\n",
       "49  Holiday Season 2022-12-27\n",
       "50  Holiday Season 2022-12-28\n",
       "51  Holiday Season 2022-12-29\n",
       "52  Holiday Season 2022-12-30\n",
       "53  Holiday Season 2022-12-31\n",
       "\n",
       "[164 rows x 2 columns]"
      ]
     },
     "execution_count": 64,
     "metadata": {},
     "output_type": "execute_result"
    }
   ],
   "source": [
    "for country in country_holiday_dict.keys():\n",
    "    temp = country_holiday_dict[country].copy()\n",
    "    temp = pd.concat([temp, common_holidays])\n",
    "    country_holiday_dict[country] = temp\n",
    "    \n",
    "country_holiday_dict['Japan']"
   ]
  },
  {
   "cell_type": "markdown",
   "id": "6e103bec",
   "metadata": {},
   "source": [
    "## Data Examination"
   ]
  },
  {
   "cell_type": "markdown",
   "id": "cfc4b463",
   "metadata": {},
   "source": [
    "### Column Check"
   ]
  },
  {
   "cell_type": "markdown",
   "id": "7557f827",
   "metadata": {},
   "source": [
    "#### No duplicate `id`"
   ]
  },
  {
   "cell_type": "code",
   "execution_count": 65,
   "id": "2a0985df",
   "metadata": {
    "ExecuteTime": {
     "end_time": "2023-07-25T13:56:55.168357Z",
     "start_time": "2023-07-25T13:56:55.152846Z"
    }
   },
   "outputs": [
    {
     "data": {
      "text/plain": [
       "((136950,), (27375,))"
      ]
     },
     "execution_count": 65,
     "metadata": {},
     "output_type": "execute_result"
    }
   ],
   "source": [
    "train_df.id.unique().shape, test_df.id.unique().shape"
   ]
  },
  {
   "cell_type": "markdown",
   "id": "a0000f87",
   "metadata": {},
   "source": [
    "#### No new `country` shows up in the test set"
   ]
  },
  {
   "cell_type": "code",
   "execution_count": 66,
   "id": "ba719fe3",
   "metadata": {
    "ExecuteTime": {
     "end_time": "2023-07-25T13:56:55.620439Z",
     "start_time": "2023-07-25T13:56:55.605998Z"
    }
   },
   "outputs": [
    {
     "data": {
      "text/plain": [
       "(array(['Argentina', 'Canada', 'Estonia', 'Japan', 'Spain'], dtype=object),\n",
       " array(['Argentina', 'Canada', 'Estonia', 'Japan', 'Spain'], dtype=object))"
      ]
     },
     "execution_count": 66,
     "metadata": {},
     "output_type": "execute_result"
    }
   ],
   "source": [
    "train_df.country.unique(), test_df.country.unique()"
   ]
  },
  {
   "cell_type": "markdown",
   "id": "4487ae60",
   "metadata": {},
   "source": [
    "#### No new `store` shows up in the test set"
   ]
  },
  {
   "cell_type": "code",
   "execution_count": 67,
   "id": "23150bca",
   "metadata": {
    "ExecuteTime": {
     "end_time": "2023-07-25T13:56:56.058407Z",
     "start_time": "2023-07-25T13:56:56.042425Z"
    }
   },
   "outputs": [
    {
     "data": {
      "text/plain": [
       "(array(['Kaggle Learn', 'Kaggle Store', 'Kagglazon'], dtype=object),\n",
       " array(['Kaggle Learn', 'Kaggle Store', 'Kagglazon'], dtype=object))"
      ]
     },
     "execution_count": 67,
     "metadata": {},
     "output_type": "execute_result"
    }
   ],
   "source": [
    "train_df.store.unique(), test_df.store.unique()"
   ]
  },
  {
   "cell_type": "markdown",
   "id": "a6060720",
   "metadata": {},
   "source": [
    "#### No new `product` shows up in the test set"
   ]
  },
  {
   "cell_type": "code",
   "execution_count": 68,
   "id": "f724da8b",
   "metadata": {
    "ExecuteTime": {
     "end_time": "2023-07-25T13:56:56.485696Z",
     "start_time": "2023-07-25T13:56:56.465680Z"
    }
   },
   "outputs": [
    {
     "data": {
      "text/plain": [
       "(array(['Using LLMs to Improve Your Coding',\n",
       "        'Using LLMs to Train More LLMs',\n",
       "        'Using LLMs to Win Friends and Influence People',\n",
       "        'Using LLMs to Win More Kaggle Competitions',\n",
       "        'Using LLMs to Write Better'], dtype=object),\n",
       " array(['Using LLMs to Improve Your Coding',\n",
       "        'Using LLMs to Train More LLMs',\n",
       "        'Using LLMs to Win Friends and Influence People',\n",
       "        'Using LLMs to Win More Kaggle Competitions',\n",
       "        'Using LLMs to Write Better'], dtype=object))"
      ]
     },
     "execution_count": 68,
     "metadata": {},
     "output_type": "execute_result"
    }
   ],
   "source": [
    "train_df['product'].unique(), test_df['product'].unique()"
   ]
  },
  {
   "cell_type": "markdown",
   "id": "8f52a91a",
   "metadata": {},
   "source": [
    "## EDA"
   ]
  },
  {
   "cell_type": "code",
   "execution_count": 69,
   "id": "f1286662",
   "metadata": {
    "ExecuteTime": {
     "end_time": "2023-07-25T13:56:58.085161Z",
     "start_time": "2023-07-25T13:56:58.082126Z"
    }
   },
   "outputs": [],
   "source": [
    "cats = ['country', 'store', 'product']\n",
    "# temp = train_df.copy()\n",
    "# temp['comb'] = temp[cats].apply(lambda x: '|'.join(list(x)), \n",
    "#                                 axis=1)\n",
    "# temp = temp.pivot(index='date', \n",
    "#                   columns='comb',\n",
    "#                   values='num_sold')\n",
    "# temp.head()"
   ]
  },
  {
   "cell_type": "code",
   "execution_count": 70,
   "id": "c1d5d78f",
   "metadata": {
    "ExecuteTime": {
     "end_time": "2023-07-25T13:56:58.298024Z",
     "start_time": "2023-07-25T13:56:58.294682Z"
    }
   },
   "outputs": [],
   "source": [
    "# figsize(12, 8)\n",
    "\n",
    "# fig, ax = plt.subplots(1, 1)\n",
    "\n",
    "# for col in temp.columns:\n",
    "#     if col.startswith('Canada|Kagglazon'):\n",
    "#         sns.lineplot(temp.index,\n",
    "#                      temp[col],\n",
    "#                      label=col)\n",
    "# plt.legend()\n",
    "\n",
    "# xticklabels = [x.get_text() for x in ax.get_xticklabels()]\n",
    "# xticks = []\n",
    "# xlabels = []\n",
    "# for i, label in enumerate(xticklabels, 0):\n",
    "#     if label.endswith('-01'):\n",
    "#         xlabels.append(label)\n",
    "#         xticks.append(i)\n",
    "        \n",
    "# _ = ax.set_xticks(xticks, xlabels, rotation=90)"
   ]
  },
  {
   "cell_type": "code",
   "execution_count": 71,
   "id": "a258d184",
   "metadata": {
    "ExecuteTime": {
     "end_time": "2023-07-25T13:56:58.598757Z",
     "start_time": "2023-07-25T13:56:58.515183Z"
    }
   },
   "outputs": [
    {
     "data": {
      "text/html": [
       "<div>\n",
       "<style scoped>\n",
       "    .dataframe tbody tr th:only-of-type {\n",
       "        vertical-align: middle;\n",
       "    }\n",
       "\n",
       "    .dataframe tbody tr th {\n",
       "        vertical-align: top;\n",
       "    }\n",
       "\n",
       "    .dataframe thead th {\n",
       "        text-align: right;\n",
       "    }\n",
       "</style>\n",
       "<table border=\"1\" class=\"dataframe\">\n",
       "  <thead>\n",
       "    <tr style=\"text-align: right;\">\n",
       "      <th>country</th>\n",
       "      <th>Argentina</th>\n",
       "      <th>Canada</th>\n",
       "      <th>Estonia</th>\n",
       "      <th>Japan</th>\n",
       "      <th>Spain</th>\n",
       "    </tr>\n",
       "    <tr>\n",
       "      <th>date</th>\n",
       "      <th></th>\n",
       "      <th></th>\n",
       "      <th></th>\n",
       "      <th></th>\n",
       "      <th></th>\n",
       "    </tr>\n",
       "  </thead>\n",
       "  <tbody>\n",
       "    <tr>\n",
       "      <th>2017-01-01</th>\n",
       "      <td>2011</td>\n",
       "      <td>6134</td>\n",
       "      <td>2772</td>\n",
       "      <td>5274</td>\n",
       "      <td>3895</td>\n",
       "    </tr>\n",
       "    <tr>\n",
       "      <th>2017-01-02</th>\n",
       "      <td>1487</td>\n",
       "      <td>5081</td>\n",
       "      <td>2062</td>\n",
       "      <td>3983</td>\n",
       "      <td>2950</td>\n",
       "    </tr>\n",
       "    <tr>\n",
       "      <th>2017-01-03</th>\n",
       "      <td>1448</td>\n",
       "      <td>5049</td>\n",
       "      <td>1984</td>\n",
       "      <td>3742</td>\n",
       "      <td>2816</td>\n",
       "    </tr>\n",
       "    <tr>\n",
       "      <th>2017-01-04</th>\n",
       "      <td>1357</td>\n",
       "      <td>4710</td>\n",
       "      <td>1985</td>\n",
       "      <td>3784</td>\n",
       "      <td>2680</td>\n",
       "    </tr>\n",
       "    <tr>\n",
       "      <th>2017-01-05</th>\n",
       "      <td>1316</td>\n",
       "      <td>4629</td>\n",
       "      <td>1920</td>\n",
       "      <td>3609</td>\n",
       "      <td>2609</td>\n",
       "    </tr>\n",
       "  </tbody>\n",
       "</table>\n",
       "</div>"
      ],
      "text/plain": [
       "country     Argentina  Canada  Estonia  Japan  Spain\n",
       "date                                                \n",
       "2017-01-01       2011    6134     2772   5274   3895\n",
       "2017-01-02       1487    5081     2062   3983   2950\n",
       "2017-01-03       1448    5049     1984   3742   2816\n",
       "2017-01-04       1357    4710     1985   3784   2680\n",
       "2017-01-05       1316    4629     1920   3609   2609"
      ]
     },
     "execution_count": 71,
     "metadata": {},
     "output_type": "execute_result"
    }
   ],
   "source": [
    "temp = train_df.copy()\n",
    "temp_gb = temp.groupby(['date', 'country'])[['num_sold']].sum().reset_index()\n",
    "temp_gb = temp_gb.pivot(index='date', columns='country', values='num_sold')\n",
    "temp_gb.head()"
   ]
  },
  {
   "cell_type": "code",
   "execution_count": 72,
   "id": "97ab22de",
   "metadata": {
    "ExecuteTime": {
     "end_time": "2023-07-25T13:57:04.472998Z",
     "start_time": "2023-07-25T13:57:00.067831Z"
    }
   },
   "outputs": [
    {
     "data": {
      "image/png": "[encoded data removed]",
      "text/plain": [
       "<Figure size 1200x800 with 1 Axes>"
      ]
     },
     "metadata": {},
     "output_type": "display_data"
    }
   ],
   "source": [
    "figsize(12, 8)\n",
    "\n",
    "fig, ax = plt.subplots(1, 1)\n",
    "\n",
    "for country in temp_gb.columns:\n",
    "    sns.lineplot(temp_gb.index, temp_gb[country], label=country)\n",
    "plt.legend()\n",
    "\n",
    "xticklabels = [x.get_text() for x in ax.get_xticklabels()]\n",
    "xticks = []\n",
    "xlabels = []\n",
    "for i, label in enumerate(xticklabels, 0):\n",
    "    if label.endswith('-01'):\n",
    "        xlabels.append(label)\n",
    "        xticks.append(i)\n",
    "        \n",
    "_ = ax.set_xticks(xticks, xlabels, rotation=90)"
   ]
  },
  {
   "cell_type": "markdown",
   "id": "fa899ecf",
   "metadata": {},
   "source": [
    "## Modeling (Covid Smoothing)"
   ]
  },
  {
   "cell_type": "markdown",
   "id": "5b3f01ea",
   "metadata": {},
   "source": [
    "### Pre-process"
   ]
  },
  {
   "cell_type": "code",
   "execution_count": 73,
   "id": "af36d37f",
   "metadata": {
    "ExecuteTime": {
     "end_time": "2023-07-25T13:57:08.846803Z",
     "start_time": "2023-07-25T13:57:08.843051Z"
    }
   },
   "outputs": [],
   "source": [
    "# pre_train_df = train_df.copy()\n",
    "# pre_train_df = pre_train_df[pre_train_df.date < '2020-01-01']\n",
    "# print(train_df.date.max(), pre_train_df.date.max())"
   ]
  },
  {
   "cell_type": "code",
   "execution_count": 74,
   "id": "e94bf2d7",
   "metadata": {
    "ExecuteTime": {
     "end_time": "2023-07-25T13:57:09.336306Z",
     "start_time": "2023-07-25T13:57:09.331221Z"
    }
   },
   "outputs": [],
   "source": [
    "def pre_process(df, cats=cats):\n",
    "    df['comb'] = df[cats].apply(lambda x: '|'.join(list(x)), axis=1)\n",
    "    df['y'] = df['num_sold']\n",
    "    df['ds'] = df['date']\n",
    "    groups_by_comb = df.groupby('comb')\n",
    "    print(len(groups_by_comb.groups.keys()))\n",
    "    \n",
    "    return df, groups_by_comb"
   ]
  },
  {
   "cell_type": "code",
   "execution_count": 75,
   "id": "84c0c8e3",
   "metadata": {
    "ExecuteTime": {
     "end_time": "2023-07-25T13:57:11.240227Z",
     "start_time": "2023-07-25T13:57:11.237344Z"
    }
   },
   "outputs": [],
   "source": [
    "# pre_train_df, pre_groups_by_comb = pre_process(pre_train_df)"
   ]
  },
  {
   "cell_type": "markdown",
   "id": "34acbc39",
   "metadata": {},
   "source": [
    "### Define Function"
   ]
  },
  {
   "cell_type": "code",
   "execution_count": 76,
   "id": "61c45555",
   "metadata": {
    "ExecuteTime": {
     "end_time": "2023-07-25T13:57:12.042156Z",
     "start_time": "2023-07-25T13:57:12.036537Z"
    }
   },
   "outputs": [],
   "source": [
    "def train_and_forecast(group, country, \n",
    "                       country_holiday_dict=country_holiday_dict):\n",
    "    # Train\n",
    "    m = Prophet(yearly_seasonality=True,\n",
    "                weekly_seasonality=True,\n",
    "                holidays=country_holiday_dict[country])\n",
    "    m.fit(group)\n",
    "    \n",
    "    # Predict\n",
    "    future = m.make_future_dataframe(periods=365)\n",
    "    forecast = m.predict(future)\n",
    "    forecast['comb'] = group['comb'].iloc[0]\n",
    "    \n",
    "    # Return \n",
    "    return m, forecast"
   ]
  },
  {
   "cell_type": "code",
   "execution_count": 77,
   "id": "164c0068",
   "metadata": {
    "ExecuteTime": {
     "end_time": "2023-07-25T13:57:14.243235Z",
     "start_time": "2023-07-25T13:57:14.239736Z"
    }
   },
   "outputs": [],
   "source": [
    "# pre_preds = pd.DataFrame()\n",
    "\n",
    "# for comb in pre_train_df.comb.unique():\n",
    "#     country = comb.split('|')[0]\n",
    "#     group = pre_groups_by_comb.get_group(comb)\n",
    "#     m, forecast = train_and_forecast(group, country)\n",
    "#     pre_preds = pd.concat((pre_preds, forecast[['ds', 'comb', 'yhat']]))\n",
    "    \n",
    "# pre_preds.head()"
   ]
  },
  {
   "cell_type": "code",
   "execution_count": 78,
   "id": "eb79f18d",
   "metadata": {
    "ExecuteTime": {
     "end_time": "2023-07-25T13:57:16.199245Z",
     "start_time": "2023-07-25T13:57:16.196141Z"
    }
   },
   "outputs": [],
   "source": [
    "# covid_preds = pre_preds[pre_preds.ds > '2019-12-31']\n",
    "# covid_preds.shape[0] / 75"
   ]
  },
  {
   "cell_type": "markdown",
   "id": "0b6fd3c6",
   "metadata": {},
   "source": [
    "### Merge"
   ]
  },
  {
   "cell_type": "code",
   "execution_count": 79,
   "id": "98259a6d",
   "metadata": {
    "ExecuteTime": {
     "end_time": "2023-07-25T13:57:18.111603Z",
     "start_time": "2023-07-25T13:57:18.108765Z"
    }
   },
   "outputs": [],
   "source": [
    "# covid_preds['country'] = covid_preds['comb'].apply(lambda x: x.split('|')[0])\n",
    "# covid_preds['store'] = covid_preds['comb'].apply(lambda x: x.split('|')[1])\n",
    "# covid_preds['product'] = covid_preds['comb'].apply(lambda x: x.split('|')[2])\n",
    "# covid_preds = covid_preds.drop('comb', axis=1)\\\n",
    "#                          .rename(columns={'ds': 'date',\n",
    "#                                           'yhat': 'num_sold'})\n",
    "# covid_preds['date'] = covid_preds['date'].apply(str).apply(lambda x: x.split(' ')[0])\n",
    "# covid_preds.dtypes"
   ]
  },
  {
   "cell_type": "code",
   "execution_count": 81,
   "id": "08f42af5",
   "metadata": {
    "ExecuteTime": {
     "end_time": "2023-07-25T13:57:59.016528Z",
     "start_time": "2023-07-25T13:57:58.938296Z"
    }
   },
   "outputs": [
    {
     "data": {
      "text/html": [
       "<div>\n",
       "<style scoped>\n",
       "    .dataframe tbody tr th:only-of-type {\n",
       "        vertical-align: middle;\n",
       "    }\n",
       "\n",
       "    .dataframe tbody tr th {\n",
       "        vertical-align: top;\n",
       "    }\n",
       "\n",
       "    .dataframe thead th {\n",
       "        text-align: right;\n",
       "    }\n",
       "</style>\n",
       "<table border=\"1\" class=\"dataframe\">\n",
       "  <thead>\n",
       "    <tr style=\"text-align: right;\">\n",
       "      <th></th>\n",
       "      <th>id</th>\n",
       "      <th>date</th>\n",
       "      <th>country</th>\n",
       "      <th>store</th>\n",
       "      <th>product</th>\n",
       "      <th>num_sold</th>\n",
       "    </tr>\n",
       "  </thead>\n",
       "  <tbody>\n",
       "    <tr>\n",
       "      <th>0</th>\n",
       "      <td>82125</td>\n",
       "      <td>2020-01-01</td>\n",
       "      <td>Argentina</td>\n",
       "      <td>Kaggle Learn</td>\n",
       "      <td>Using LLMs to Improve Your Coding</td>\n",
       "      <td>27.892596</td>\n",
       "    </tr>\n",
       "    <tr>\n",
       "      <th>1</th>\n",
       "      <td>82126</td>\n",
       "      <td>2020-01-01</td>\n",
       "      <td>Argentina</td>\n",
       "      <td>Kaggle Learn</td>\n",
       "      <td>Using LLMs to Train More LLMs</td>\n",
       "      <td>28.609150</td>\n",
       "    </tr>\n",
       "    <tr>\n",
       "      <th>2</th>\n",
       "      <td>82127</td>\n",
       "      <td>2020-01-01</td>\n",
       "      <td>Argentina</td>\n",
       "      <td>Kaggle Learn</td>\n",
       "      <td>Using LLMs to Win Friends and Influence People</td>\n",
       "      <td>3.792322</td>\n",
       "    </tr>\n",
       "    <tr>\n",
       "      <th>3</th>\n",
       "      <td>82128</td>\n",
       "      <td>2020-01-01</td>\n",
       "      <td>Argentina</td>\n",
       "      <td>Kaggle Learn</td>\n",
       "      <td>Using LLMs to Win More Kaggle Competitions</td>\n",
       "      <td>27.413845</td>\n",
       "    </tr>\n",
       "    <tr>\n",
       "      <th>4</th>\n",
       "      <td>82129</td>\n",
       "      <td>2020-01-01</td>\n",
       "      <td>Argentina</td>\n",
       "      <td>Kaggle Learn</td>\n",
       "      <td>Using LLMs to Write Better</td>\n",
       "      <td>21.181514</td>\n",
       "    </tr>\n",
       "    <tr>\n",
       "      <th>...</th>\n",
       "      <td>...</td>\n",
       "      <td>...</td>\n",
       "      <td>...</td>\n",
       "      <td>...</td>\n",
       "      <td>...</td>\n",
       "      <td>...</td>\n",
       "    </tr>\n",
       "    <tr>\n",
       "      <th>27445</th>\n",
       "      <td>109570</td>\n",
       "      <td>2020-12-31</td>\n",
       "      <td>Spain</td>\n",
       "      <td>Kagglazon</td>\n",
       "      <td>Using LLMs to Improve Your Coding</td>\n",
       "      <td>628.047991</td>\n",
       "    </tr>\n",
       "    <tr>\n",
       "      <th>27446</th>\n",
       "      <td>109571</td>\n",
       "      <td>2020-12-31</td>\n",
       "      <td>Spain</td>\n",
       "      <td>Kagglazon</td>\n",
       "      <td>Using LLMs to Train More LLMs</td>\n",
       "      <td>555.908386</td>\n",
       "    </tr>\n",
       "    <tr>\n",
       "      <th>27447</th>\n",
       "      <td>109572</td>\n",
       "      <td>2020-12-31</td>\n",
       "      <td>Spain</td>\n",
       "      <td>Kagglazon</td>\n",
       "      <td>Using LLMs to Win Friends and Influence People</td>\n",
       "      <td>89.051948</td>\n",
       "    </tr>\n",
       "    <tr>\n",
       "      <th>27448</th>\n",
       "      <td>109573</td>\n",
       "      <td>2020-12-31</td>\n",
       "      <td>Spain</td>\n",
       "      <td>Kagglazon</td>\n",
       "      <td>Using LLMs to Win More Kaggle Competitions</td>\n",
       "      <td>558.111414</td>\n",
       "    </tr>\n",
       "    <tr>\n",
       "      <th>27449</th>\n",
       "      <td>109574</td>\n",
       "      <td>2020-12-31</td>\n",
       "      <td>Spain</td>\n",
       "      <td>Kagglazon</td>\n",
       "      <td>Using LLMs to Write Better</td>\n",
       "      <td>478.980423</td>\n",
       "    </tr>\n",
       "  </tbody>\n",
       "</table>\n",
       "<p>27450 rows × 6 columns</p>\n",
       "</div>"
      ],
      "text/plain": [
       "           id        date    country         store  \\\n",
       "0       82125  2020-01-01  Argentina  Kaggle Learn   \n",
       "1       82126  2020-01-01  Argentina  Kaggle Learn   \n",
       "2       82127  2020-01-01  Argentina  Kaggle Learn   \n",
       "3       82128  2020-01-01  Argentina  Kaggle Learn   \n",
       "4       82129  2020-01-01  Argentina  Kaggle Learn   \n",
       "...       ...         ...        ...           ...   \n",
       "27445  109570  2020-12-31      Spain     Kagglazon   \n",
       "27446  109571  2020-12-31      Spain     Kagglazon   \n",
       "27447  109572  2020-12-31      Spain     Kagglazon   \n",
       "27448  109573  2020-12-31      Spain     Kagglazon   \n",
       "27449  109574  2020-12-31      Spain     Kagglazon   \n",
       "\n",
       "                                              product    num_sold  \n",
       "0                   Using LLMs to Improve Your Coding   27.892596  \n",
       "1                       Using LLMs to Train More LLMs   28.609150  \n",
       "2      Using LLMs to Win Friends and Influence People    3.792322  \n",
       "3          Using LLMs to Win More Kaggle Competitions   27.413845  \n",
       "4                          Using LLMs to Write Better   21.181514  \n",
       "...                                               ...         ...  \n",
       "27445               Using LLMs to Improve Your Coding  628.047991  \n",
       "27446                   Using LLMs to Train More LLMs  555.908386  \n",
       "27447  Using LLMs to Win Friends and Influence People   89.051948  \n",
       "27448      Using LLMs to Win More Kaggle Competitions  558.111414  \n",
       "27449                      Using LLMs to Write Better  478.980423  \n",
       "\n",
       "[27450 rows x 6 columns]"
      ]
     },
     "execution_count": 81,
     "metadata": {},
     "output_type": "execute_result"
    }
   ],
   "source": [
    "covid_preds = pd.read_csv('input/train_smoothed.csv').drop('Unnamed: 0', axis=1)\n",
    "covid_preds"
   ]
  },
  {
   "cell_type": "code",
   "execution_count": 82,
   "id": "61c74b33",
   "metadata": {
    "ExecuteTime": {
     "end_time": "2023-07-25T13:58:07.283873Z",
     "start_time": "2023-07-25T13:58:07.222984Z"
    }
   },
   "outputs": [
    {
     "data": {
      "text/plain": [
       "(136950, 109500)"
      ]
     },
     "execution_count": 82,
     "metadata": {},
     "output_type": "execute_result"
    }
   ],
   "source": [
    "adj_train_df = train_df.copy()\n",
    "adj_train_df = adj_train_df[(adj_train_df['date'] < '2020-01-01') | \n",
    "                            (adj_train_df['date'] > '2020-12-31')]\n",
    "train_df.shape[0], adj_train_df.shape[0]"
   ]
  },
  {
   "cell_type": "code",
   "execution_count": 84,
   "id": "3b327cee",
   "metadata": {
    "ExecuteTime": {
     "end_time": "2023-07-25T13:58:23.796213Z",
     "start_time": "2023-07-25T13:58:23.782276Z"
    }
   },
   "outputs": [
    {
     "data": {
      "text/plain": [
       "((136950, 6), (136950, 6))"
      ]
     },
     "execution_count": 84,
     "metadata": {},
     "output_type": "execute_result"
    }
   ],
   "source": [
    "covid_preds = covid_preds[adj_train_df.columns]\n",
    "adj_train_df = pd.concat([adj_train_df, covid_preds])\n",
    "train_df.shape, adj_train_df.shape"
   ]
  },
  {
   "cell_type": "code",
   "execution_count": 86,
   "id": "d5c6110b",
   "metadata": {
    "ExecuteTime": {
     "end_time": "2023-07-25T13:58:48.071903Z",
     "start_time": "2023-07-25T13:58:48.053181Z"
    }
   },
   "outputs": [
    {
     "data": {
      "text/html": [
       "<div>\n",
       "<style scoped>\n",
       "    .dataframe tbody tr th:only-of-type {\n",
       "        vertical-align: middle;\n",
       "    }\n",
       "\n",
       "    .dataframe tbody tr th {\n",
       "        vertical-align: top;\n",
       "    }\n",
       "\n",
       "    .dataframe thead th {\n",
       "        text-align: right;\n",
       "    }\n",
       "</style>\n",
       "<table border=\"1\" class=\"dataframe\">\n",
       "  <thead>\n",
       "    <tr style=\"text-align: right;\">\n",
       "      <th></th>\n",
       "      <th>id</th>\n",
       "      <th>date</th>\n",
       "      <th>country</th>\n",
       "      <th>store</th>\n",
       "      <th>product</th>\n",
       "      <th>num_sold</th>\n",
       "    </tr>\n",
       "  </thead>\n",
       "  <tbody>\n",
       "    <tr>\n",
       "      <th>0</th>\n",
       "      <td>0</td>\n",
       "      <td>2017-01-01</td>\n",
       "      <td>Argentina</td>\n",
       "      <td>Kaggle Learn</td>\n",
       "      <td>Using LLMs to Improve Your Coding</td>\n",
       "      <td>63.0</td>\n",
       "    </tr>\n",
       "    <tr>\n",
       "      <th>1</th>\n",
       "      <td>1</td>\n",
       "      <td>2017-01-01</td>\n",
       "      <td>Argentina</td>\n",
       "      <td>Kaggle Learn</td>\n",
       "      <td>Using LLMs to Train More LLMs</td>\n",
       "      <td>66.0</td>\n",
       "    </tr>\n",
       "    <tr>\n",
       "      <th>2</th>\n",
       "      <td>2</td>\n",
       "      <td>2017-01-01</td>\n",
       "      <td>Argentina</td>\n",
       "      <td>Kaggle Learn</td>\n",
       "      <td>Using LLMs to Win Friends and Influence People</td>\n",
       "      <td>9.0</td>\n",
       "    </tr>\n",
       "    <tr>\n",
       "      <th>3</th>\n",
       "      <td>3</td>\n",
       "      <td>2017-01-01</td>\n",
       "      <td>Argentina</td>\n",
       "      <td>Kaggle Learn</td>\n",
       "      <td>Using LLMs to Win More Kaggle Competitions</td>\n",
       "      <td>59.0</td>\n",
       "    </tr>\n",
       "    <tr>\n",
       "      <th>4</th>\n",
       "      <td>4</td>\n",
       "      <td>2017-01-01</td>\n",
       "      <td>Argentina</td>\n",
       "      <td>Kaggle Learn</td>\n",
       "      <td>Using LLMs to Write Better</td>\n",
       "      <td>49.0</td>\n",
       "    </tr>\n",
       "  </tbody>\n",
       "</table>\n",
       "</div>"
      ],
      "text/plain": [
       "   id        date    country         store  \\\n",
       "0   0  2017-01-01  Argentina  Kaggle Learn   \n",
       "1   1  2017-01-01  Argentina  Kaggle Learn   \n",
       "2   2  2017-01-01  Argentina  Kaggle Learn   \n",
       "3   3  2017-01-01  Argentina  Kaggle Learn   \n",
       "4   4  2017-01-01  Argentina  Kaggle Learn   \n",
       "\n",
       "                                          product  num_sold  \n",
       "0               Using LLMs to Improve Your Coding      63.0  \n",
       "1                   Using LLMs to Train More LLMs      66.0  \n",
       "2  Using LLMs to Win Friends and Influence People       9.0  \n",
       "3      Using LLMs to Win More Kaggle Competitions      59.0  \n",
       "4                      Using LLMs to Write Better      49.0  "
      ]
     },
     "execution_count": 86,
     "metadata": {},
     "output_type": "execute_result"
    }
   ],
   "source": [
    "train_df = adj_train_df.copy()\n",
    "train_df.head()"
   ]
  },
  {
   "cell_type": "code",
   "execution_count": 87,
   "id": "e4608904",
   "metadata": {
    "ExecuteTime": {
     "end_time": "2023-07-25T13:58:49.363365Z",
     "start_time": "2023-07-25T13:58:49.303463Z"
    }
   },
   "outputs": [
    {
     "data": {
      "text/html": [
       "<div>\n",
       "<style scoped>\n",
       "    .dataframe tbody tr th:only-of-type {\n",
       "        vertical-align: middle;\n",
       "    }\n",
       "\n",
       "    .dataframe tbody tr th {\n",
       "        vertical-align: top;\n",
       "    }\n",
       "\n",
       "    .dataframe thead th {\n",
       "        text-align: right;\n",
       "    }\n",
       "</style>\n",
       "<table border=\"1\" class=\"dataframe\">\n",
       "  <thead>\n",
       "    <tr style=\"text-align: right;\">\n",
       "      <th>country</th>\n",
       "      <th>Argentina</th>\n",
       "      <th>Canada</th>\n",
       "      <th>Estonia</th>\n",
       "      <th>Japan</th>\n",
       "      <th>Spain</th>\n",
       "    </tr>\n",
       "    <tr>\n",
       "      <th>date</th>\n",
       "      <th></th>\n",
       "      <th></th>\n",
       "      <th></th>\n",
       "      <th></th>\n",
       "      <th></th>\n",
       "    </tr>\n",
       "  </thead>\n",
       "  <tbody>\n",
       "    <tr>\n",
       "      <th>2017-01-01</th>\n",
       "      <td>2011.0</td>\n",
       "      <td>6134.0</td>\n",
       "      <td>2772.0</td>\n",
       "      <td>5274.0</td>\n",
       "      <td>3895.0</td>\n",
       "    </tr>\n",
       "    <tr>\n",
       "      <th>2017-01-02</th>\n",
       "      <td>1487.0</td>\n",
       "      <td>5081.0</td>\n",
       "      <td>2062.0</td>\n",
       "      <td>3983.0</td>\n",
       "      <td>2950.0</td>\n",
       "    </tr>\n",
       "    <tr>\n",
       "      <th>2017-01-03</th>\n",
       "      <td>1448.0</td>\n",
       "      <td>5049.0</td>\n",
       "      <td>1984.0</td>\n",
       "      <td>3742.0</td>\n",
       "      <td>2816.0</td>\n",
       "    </tr>\n",
       "    <tr>\n",
       "      <th>2017-01-04</th>\n",
       "      <td>1357.0</td>\n",
       "      <td>4710.0</td>\n",
       "      <td>1985.0</td>\n",
       "      <td>3784.0</td>\n",
       "      <td>2680.0</td>\n",
       "    </tr>\n",
       "    <tr>\n",
       "      <th>2017-01-05</th>\n",
       "      <td>1316.0</td>\n",
       "      <td>4629.0</td>\n",
       "      <td>1920.0</td>\n",
       "      <td>3609.0</td>\n",
       "      <td>2609.0</td>\n",
       "    </tr>\n",
       "  </tbody>\n",
       "</table>\n",
       "</div>"
      ],
      "text/plain": [
       "country     Argentina  Canada  Estonia   Japan   Spain\n",
       "date                                                  \n",
       "2017-01-01     2011.0  6134.0   2772.0  5274.0  3895.0\n",
       "2017-01-02     1487.0  5081.0   2062.0  3983.0  2950.0\n",
       "2017-01-03     1448.0  5049.0   1984.0  3742.0  2816.0\n",
       "2017-01-04     1357.0  4710.0   1985.0  3784.0  2680.0\n",
       "2017-01-05     1316.0  4629.0   1920.0  3609.0  2609.0"
      ]
     },
     "execution_count": 87,
     "metadata": {},
     "output_type": "execute_result"
    }
   ],
   "source": [
    "temp = train_df.copy()\n",
    "temp_gb = temp.groupby(['date', 'country'])[['num_sold']].sum().reset_index()\n",
    "temp_gb = temp_gb.pivot(index='date', columns='country', values='num_sold')\n",
    "temp_gb.head()"
   ]
  },
  {
   "cell_type": "code",
   "execution_count": 88,
   "id": "867fd554",
   "metadata": {
    "ExecuteTime": {
     "end_time": "2023-07-25T13:58:53.598225Z",
     "start_time": "2023-07-25T13:58:49.514135Z"
    }
   },
   "outputs": [
    {
     "data": {
      "image/png": "[encoded data removed]",
      "text/plain": [
       "<Figure size 1200x800 with 1 Axes>"
      ]
     },
     "metadata": {},
     "output_type": "display_data"
    }
   ],
   "source": [
    "figsize(12, 8)\n",
    "\n",
    "fig, ax = plt.subplots(1, 1)\n",
    "\n",
    "for country in temp_gb.columns:\n",
    "    sns.lineplot(temp_gb.index, temp_gb[country], label=country)\n",
    "plt.legend()\n",
    "\n",
    "xticklabels = [x.get_text() for x in ax.get_xticklabels()]\n",
    "xticks = []\n",
    "xlabels = []\n",
    "for i, label in enumerate(xticklabels, 0):\n",
    "    if label.endswith('-01'):\n",
    "        xlabels.append(label)\n",
    "        xticks.append(i)\n",
    "        \n",
    "_ = ax.set_xticks(xticks, xlabels, rotation=90)"
   ]
  },
  {
   "cell_type": "markdown",
   "id": "c2acf44b",
   "metadata": {},
   "source": [
    "## Model"
   ]
  },
  {
   "cell_type": "code",
   "execution_count": 89,
   "id": "5ba251c0",
   "metadata": {
    "ExecuteTime": {
     "end_time": "2023-07-25T13:59:02.059469Z",
     "start_time": "2023-07-25T13:59:00.948862Z"
    }
   },
   "outputs": [
    {
     "name": "stdout",
     "output_type": "stream",
     "text": [
      "75\n"
     ]
    }
   ],
   "source": [
    "train_df, groups_by_comb = pre_process(train_df)"
   ]
  },
  {
   "cell_type": "code",
   "execution_count": 90,
   "id": "e7091750",
   "metadata": {
    "ExecuteTime": {
     "end_time": "2023-07-25T14:00:29.078139Z",
     "start_time": "2023-07-25T13:59:02.860671Z"
    }
   },
   "outputs": [
    {
     "name": "stderr",
     "output_type": "stream",
     "text": [
      "14:59:03 - cmdstanpy - INFO - Chain [1] start processing\n",
      "14:59:03 - cmdstanpy - INFO - Chain [1] done processing\n",
      "14:59:04 - cmdstanpy - INFO - Chain [1] start processing\n",
      "14:59:04 - cmdstanpy - INFO - Chain [1] done processing\n",
      "14:59:05 - cmdstanpy - INFO - Chain [1] start processing\n",
      "14:59:05 - cmdstanpy - INFO - Chain [1] done processing\n",
      "14:59:06 - cmdstanpy - INFO - Chain [1] start processing\n",
      "14:59:06 - cmdstanpy - INFO - Chain [1] done processing\n",
      "14:59:07 - cmdstanpy - INFO - Chain [1] start processing\n",
      "14:59:07 - cmdstanpy - INFO - Chain [1] done processing\n",
      "14:59:08 - cmdstanpy - INFO - Chain [1] start processing\n",
      "14:59:08 - cmdstanpy - INFO - Chain [1] done processing\n",
      "14:59:09 - cmdstanpy - INFO - Chain [1] start processing\n",
      "14:59:09 - cmdstanpy - INFO - Chain [1] done processing\n",
      "14:59:10 - cmdstanpy - INFO - Chain [1] start processing\n",
      "14:59:10 - cmdstanpy - INFO - Chain [1] done processing\n",
      "14:59:11 - cmdstanpy - INFO - Chain [1] start processing\n",
      "14:59:11 - cmdstanpy - INFO - Chain [1] done processing\n",
      "14:59:12 - cmdstanpy - INFO - Chain [1] start processing\n",
      "14:59:13 - cmdstanpy - INFO - Chain [1] done processing\n",
      "14:59:13 - cmdstanpy - INFO - Chain [1] start processing\n",
      "14:59:14 - cmdstanpy - INFO - Chain [1] done processing\n",
      "14:59:15 - cmdstanpy - INFO - Chain [1] start processing\n",
      "14:59:15 - cmdstanpy - INFO - Chain [1] done processing\n",
      "14:59:16 - cmdstanpy - INFO - Chain [1] start processing\n",
      "14:59:16 - cmdstanpy - INFO - Chain [1] done processing\n",
      "14:59:17 - cmdstanpy - INFO - Chain [1] start processing\n",
      "14:59:17 - cmdstanpy - INFO - Chain [1] done processing\n",
      "14:59:18 - cmdstanpy - INFO - Chain [1] start processing\n",
      "14:59:18 - cmdstanpy - INFO - Chain [1] done processing\n",
      "14:59:19 - cmdstanpy - INFO - Chain [1] start processing\n",
      "14:59:19 - cmdstanpy - INFO - Chain [1] done processing\n",
      "14:59:20 - cmdstanpy - INFO - Chain [1] start processing\n",
      "14:59:21 - cmdstanpy - INFO - Chain [1] done processing\n",
      "14:59:21 - cmdstanpy - INFO - Chain [1] start processing\n",
      "14:59:22 - cmdstanpy - INFO - Chain [1] done processing\n",
      "14:59:22 - cmdstanpy - INFO - Chain [1] start processing\n",
      "14:59:23 - cmdstanpy - INFO - Chain [1] done processing\n",
      "14:59:23 - cmdstanpy - INFO - Chain [1] start processing\n",
      "14:59:23 - cmdstanpy - INFO - Chain [1] done processing\n",
      "14:59:24 - cmdstanpy - INFO - Chain [1] start processing\n",
      "14:59:25 - cmdstanpy - INFO - Chain [1] done processing\n",
      "14:59:25 - cmdstanpy - INFO - Chain [1] start processing\n",
      "14:59:26 - cmdstanpy - INFO - Chain [1] done processing\n",
      "14:59:27 - cmdstanpy - INFO - Chain [1] start processing\n",
      "14:59:28 - cmdstanpy - INFO - Chain [1] done processing\n",
      "14:59:29 - cmdstanpy - INFO - Chain [1] start processing\n",
      "14:59:29 - cmdstanpy - INFO - Chain [1] done processing\n",
      "14:59:30 - cmdstanpy - INFO - Chain [1] start processing\n",
      "14:59:30 - cmdstanpy - INFO - Chain [1] done processing\n",
      "14:59:31 - cmdstanpy - INFO - Chain [1] start processing\n",
      "14:59:31 - cmdstanpy - INFO - Chain [1] done processing\n",
      "14:59:32 - cmdstanpy - INFO - Chain [1] start processing\n",
      "14:59:33 - cmdstanpy - INFO - Chain [1] done processing\n",
      "14:59:34 - cmdstanpy - INFO - Chain [1] start processing\n",
      "14:59:34 - cmdstanpy - INFO - Chain [1] done processing\n",
      "14:59:35 - cmdstanpy - INFO - Chain [1] start processing\n",
      "14:59:35 - cmdstanpy - INFO - Chain [1] done processing\n",
      "14:59:36 - cmdstanpy - INFO - Chain [1] start processing\n",
      "14:59:37 - cmdstanpy - INFO - Chain [1] done processing\n",
      "14:59:38 - cmdstanpy - INFO - Chain [1] start processing\n",
      "14:59:38 - cmdstanpy - INFO - Chain [1] done processing\n",
      "14:59:39 - cmdstanpy - INFO - Chain [1] start processing\n",
      "14:59:40 - cmdstanpy - INFO - Chain [1] done processing\n",
      "14:59:40 - cmdstanpy - INFO - Chain [1] start processing\n",
      "14:59:41 - cmdstanpy - INFO - Chain [1] done processing\n",
      "14:59:41 - cmdstanpy - INFO - Chain [1] start processing\n",
      "14:59:42 - cmdstanpy - INFO - Chain [1] done processing\n",
      "14:59:43 - cmdstanpy - INFO - Chain [1] start processing\n",
      "14:59:43 - cmdstanpy - INFO - Chain [1] done processing\n",
      "14:59:44 - cmdstanpy - INFO - Chain [1] start processing\n",
      "14:59:44 - cmdstanpy - INFO - Chain [1] done processing\n",
      "14:59:45 - cmdstanpy - INFO - Chain [1] start processing\n",
      "14:59:45 - cmdstanpy - INFO - Chain [1] done processing\n",
      "14:59:46 - cmdstanpy - INFO - Chain [1] start processing\n",
      "14:59:46 - cmdstanpy - INFO - Chain [1] done processing\n",
      "14:59:47 - cmdstanpy - INFO - Chain [1] start processing\n",
      "14:59:48 - cmdstanpy - INFO - Chain [1] done processing\n",
      "14:59:49 - cmdstanpy - INFO - Chain [1] start processing\n",
      "14:59:49 - cmdstanpy - INFO - Chain [1] done processing\n",
      "14:59:50 - cmdstanpy - INFO - Chain [1] start processing\n",
      "14:59:50 - cmdstanpy - INFO - Chain [1] done processing\n",
      "14:59:51 - cmdstanpy - INFO - Chain [1] start processing\n",
      "14:59:52 - cmdstanpy - INFO - Chain [1] done processing\n",
      "14:59:53 - cmdstanpy - INFO - Chain [1] start processing\n",
      "14:59:53 - cmdstanpy - INFO - Chain [1] done processing\n",
      "14:59:54 - cmdstanpy - INFO - Chain [1] start processing\n",
      "14:59:55 - cmdstanpy - INFO - Chain [1] done processing\n",
      "14:59:55 - cmdstanpy - INFO - Chain [1] start processing\n",
      "14:59:56 - cmdstanpy - INFO - Chain [1] done processing\n",
      "14:59:57 - cmdstanpy - INFO - Chain [1] start processing\n",
      "14:59:57 - cmdstanpy - INFO - Chain [1] done processing\n",
      "14:59:58 - cmdstanpy - INFO - Chain [1] start processing\n",
      "14:59:58 - cmdstanpy - INFO - Chain [1] done processing\n",
      "14:59:59 - cmdstanpy - INFO - Chain [1] start processing\n",
      "14:59:59 - cmdstanpy - INFO - Chain [1] done processing\n",
      "15:00:00 - cmdstanpy - INFO - Chain [1] start processing\n",
      "15:00:00 - cmdstanpy - INFO - Chain [1] done processing\n",
      "15:00:01 - cmdstanpy - INFO - Chain [1] start processing\n",
      "15:00:01 - cmdstanpy - INFO - Chain [1] done processing\n",
      "15:00:02 - cmdstanpy - INFO - Chain [1] start processing\n",
      "15:00:03 - cmdstanpy - INFO - Chain [1] done processing\n",
      "15:00:03 - cmdstanpy - INFO - Chain [1] start processing\n",
      "15:00:04 - cmdstanpy - INFO - Chain [1] done processing\n",
      "15:00:04 - cmdstanpy - INFO - Chain [1] start processing\n",
      "15:00:05 - cmdstanpy - INFO - Chain [1] done processing\n",
      "15:00:06 - cmdstanpy - INFO - Chain [1] start processing\n",
      "15:00:06 - cmdstanpy - INFO - Chain [1] done processing\n",
      "15:00:06 - cmdstanpy - INFO - Chain [1] start processing\n",
      "15:00:07 - cmdstanpy - INFO - Chain [1] done processing\n",
      "15:00:08 - cmdstanpy - INFO - Chain [1] start processing\n",
      "15:00:08 - cmdstanpy - INFO - Chain [1] done processing\n",
      "15:00:09 - cmdstanpy - INFO - Chain [1] start processing\n",
      "15:00:09 - cmdstanpy - INFO - Chain [1] done processing\n",
      "15:00:10 - cmdstanpy - INFO - Chain [1] start processing\n",
      "15:00:10 - cmdstanpy - INFO - Chain [1] done processing\n",
      "15:00:11 - cmdstanpy - INFO - Chain [1] start processing\n",
      "15:00:11 - cmdstanpy - INFO - Chain [1] done processing\n",
      "15:00:12 - cmdstanpy - INFO - Chain [1] start processing\n",
      "15:00:12 - cmdstanpy - INFO - Chain [1] done processing\n",
      "15:00:13 - cmdstanpy - INFO - Chain [1] start processing\n",
      "15:00:13 - cmdstanpy - INFO - Chain [1] done processing\n",
      "15:00:14 - cmdstanpy - INFO - Chain [1] start processing\n",
      "15:00:14 - cmdstanpy - INFO - Chain [1] done processing\n",
      "15:00:15 - cmdstanpy - INFO - Chain [1] start processing\n",
      "15:00:15 - cmdstanpy - INFO - Chain [1] done processing\n",
      "15:00:16 - cmdstanpy - INFO - Chain [1] start processing\n",
      "15:00:16 - cmdstanpy - INFO - Chain [1] done processing\n",
      "15:00:17 - cmdstanpy - INFO - Chain [1] start processing\n",
      "15:00:17 - cmdstanpy - INFO - Chain [1] done processing\n",
      "15:00:18 - cmdstanpy - INFO - Chain [1] start processing\n",
      "15:00:18 - cmdstanpy - INFO - Chain [1] done processing\n",
      "15:00:19 - cmdstanpy - INFO - Chain [1] start processing\n",
      "15:00:20 - cmdstanpy - INFO - Chain [1] done processing\n",
      "15:00:20 - cmdstanpy - INFO - Chain [1] start processing\n",
      "15:00:21 - cmdstanpy - INFO - Chain [1] done processing\n",
      "15:00:21 - cmdstanpy - INFO - Chain [1] start processing\n",
      "15:00:22 - cmdstanpy - INFO - Chain [1] done processing\n",
      "15:00:22 - cmdstanpy - INFO - Chain [1] start processing\n",
      "15:00:23 - cmdstanpy - INFO - Chain [1] done processing\n",
      "15:00:23 - cmdstanpy - INFO - Chain [1] start processing\n",
      "15:00:24 - cmdstanpy - INFO - Chain [1] done processing\n",
      "15:00:25 - cmdstanpy - INFO - Chain [1] start processing\n",
      "15:00:25 - cmdstanpy - INFO - Chain [1] done processing\n",
      "15:00:26 - cmdstanpy - INFO - Chain [1] start processing\n"
     ]
    },
    {
     "name": "stderr",
     "output_type": "stream",
     "text": [
      "15:00:26 - cmdstanpy - INFO - Chain [1] done processing\n",
      "15:00:27 - cmdstanpy - INFO - Chain [1] start processing\n",
      "15:00:27 - cmdstanpy - INFO - Chain [1] done processing\n",
      "15:00:28 - cmdstanpy - INFO - Chain [1] start processing\n",
      "15:00:28 - cmdstanpy - INFO - Chain [1] done processing\n"
     ]
    },
    {
     "data": {
      "text/html": [
       "<div>\n",
       "<style scoped>\n",
       "    .dataframe tbody tr th:only-of-type {\n",
       "        vertical-align: middle;\n",
       "    }\n",
       "\n",
       "    .dataframe tbody tr th {\n",
       "        vertical-align: top;\n",
       "    }\n",
       "\n",
       "    .dataframe thead th {\n",
       "        text-align: right;\n",
       "    }\n",
       "</style>\n",
       "<table border=\"1\" class=\"dataframe\">\n",
       "  <thead>\n",
       "    <tr style=\"text-align: right;\">\n",
       "      <th></th>\n",
       "      <th>ds</th>\n",
       "      <th>comb</th>\n",
       "      <th>yhat</th>\n",
       "      <th>yhat_upper</th>\n",
       "      <th>yhat_lower</th>\n",
       "    </tr>\n",
       "  </thead>\n",
       "  <tbody>\n",
       "    <tr>\n",
       "      <th>0</th>\n",
       "      <td>2017-01-01</td>\n",
       "      <td>Argentina|Kaggle Learn|Using LLMs to Improve Y...</td>\n",
       "      <td>44.218398</td>\n",
       "      <td>47.198466</td>\n",
       "      <td>40.876361</td>\n",
       "    </tr>\n",
       "    <tr>\n",
       "      <th>1</th>\n",
       "      <td>2017-01-02</td>\n",
       "      <td>Argentina|Kaggle Learn|Using LLMs to Improve Y...</td>\n",
       "      <td>39.131755</td>\n",
       "      <td>42.335913</td>\n",
       "      <td>36.127133</td>\n",
       "    </tr>\n",
       "    <tr>\n",
       "      <th>2</th>\n",
       "      <td>2017-01-03</td>\n",
       "      <td>Argentina|Kaggle Learn|Using LLMs to Improve Y...</td>\n",
       "      <td>38.675513</td>\n",
       "      <td>41.658094</td>\n",
       "      <td>35.639122</td>\n",
       "    </tr>\n",
       "    <tr>\n",
       "      <th>3</th>\n",
       "      <td>2017-01-04</td>\n",
       "      <td>Argentina|Kaggle Learn|Using LLMs to Improve Y...</td>\n",
       "      <td>38.747891</td>\n",
       "      <td>41.932561</td>\n",
       "      <td>35.626140</td>\n",
       "    </tr>\n",
       "    <tr>\n",
       "      <th>4</th>\n",
       "      <td>2017-01-05</td>\n",
       "      <td>Argentina|Kaggle Learn|Using LLMs to Improve Y...</td>\n",
       "      <td>38.478561</td>\n",
       "      <td>41.389318</td>\n",
       "      <td>35.505146</td>\n",
       "    </tr>\n",
       "  </tbody>\n",
       "</table>\n",
       "</div>"
      ],
      "text/plain": [
       "          ds                                               comb       yhat  \\\n",
       "0 2017-01-01  Argentina|Kaggle Learn|Using LLMs to Improve Y...  44.218398   \n",
       "1 2017-01-02  Argentina|Kaggle Learn|Using LLMs to Improve Y...  39.131755   \n",
       "2 2017-01-03  Argentina|Kaggle Learn|Using LLMs to Improve Y...  38.675513   \n",
       "3 2017-01-04  Argentina|Kaggle Learn|Using LLMs to Improve Y...  38.747891   \n",
       "4 2017-01-05  Argentina|Kaggle Learn|Using LLMs to Improve Y...  38.478561   \n",
       "\n",
       "   yhat_upper  yhat_lower  \n",
       "0   47.198466   40.876361  \n",
       "1   42.335913   36.127133  \n",
       "2   41.658094   35.639122  \n",
       "3   41.932561   35.626140  \n",
       "4   41.389318   35.505146  "
      ]
     },
     "execution_count": 90,
     "metadata": {},
     "output_type": "execute_result"
    }
   ],
   "source": [
    "preds = pd.DataFrame()\n",
    "forecasts = []\n",
    "models = []\n",
    "\n",
    "for comb in train_df.comb.unique():\n",
    "    country = comb.split('|')[0]\n",
    "    group = groups_by_comb.get_group(comb)\n",
    "    m, forecast = train_and_forecast(group, country)\n",
    "    preds = pd.concat((preds, forecast[['ds', 'comb', 'yhat', 'yhat_upper', 'yhat_lower']]))\n",
    "    models.append(m)\n",
    "    forecasts.append(forecast)\n",
    "    \n",
    "preds.head()"
   ]
  },
  {
   "cell_type": "markdown",
   "id": "a6ca064f",
   "metadata": {},
   "source": [
    "## Evaluation"
   ]
  },
  {
   "cell_type": "code",
   "execution_count": 93,
   "id": "5e13921f",
   "metadata": {
    "ExecuteTime": {
     "end_time": "2023-07-25T14:01:30.129183Z",
     "start_time": "2023-07-25T14:01:30.124168Z"
    }
   },
   "outputs": [],
   "source": [
    "def get_metrics(m):\n",
    "    m_cv = cross_validation(model=m, \n",
    "                            initial='1460 days',\n",
    "                            period='30 days',\n",
    "                            horizon='365 days')\n",
    "    pm = performance_metrics(m_cv)\n",
    "    return pm[pm['horizon'] == '365 days'][['rmse', 'smape']].values[0]"
   ]
  },
  {
   "cell_type": "code",
   "execution_count": 94,
   "id": "44d05775",
   "metadata": {
    "ExecuteTime": {
     "end_time": "2023-07-25T14:03:19.728809Z",
     "start_time": "2023-07-25T14:01:30.418540Z"
    }
   },
   "outputs": [
    {
     "name": "stderr",
     "output_type": "stream",
     "text": [
      "\n",
      "\n",
      "  0%|                                                    | 0/75 [00:00<?, ?it/s]\u001b[A\u001b[A"
     ]
    },
    {
     "data": {
      "application/vnd.jupyter.widget-view+json": {
       "model_id": "6389a0fdc404464584fdafa6640f2a25",
       "version_major": 2,
       "version_minor": 0
      },
      "text/plain": [
       "  0%|          | 0/1 [00:00<?, ?it/s]"
      ]
     },
     "metadata": {},
     "output_type": "display_data"
    },
    {
     "name": "stderr",
     "output_type": "stream",
     "text": [
      "15:01:30 - cmdstanpy - INFO - Chain [1] start processing\n",
      "15:01:30 - cmdstanpy - INFO - Chain [1] done processing\n",
      "\n",
      "\n",
      "  1%|▌                                           | 1/75 [00:01<01:49,  1.48s/it]\u001b[A\u001b[A"
     ]
    },
    {
     "data": {
      "application/vnd.jupyter.widget-view+json": {
       "model_id": "47849aa7ac15493b96c7ebf14cdf09c3",
       "version_major": 2,
       "version_minor": 0
      },
      "text/plain": [
       "  0%|          | 0/1 [00:00<?, ?it/s]"
      ]
     },
     "metadata": {},
     "output_type": "display_data"
    },
    {
     "name": "stderr",
     "output_type": "stream",
     "text": [
      "15:01:32 - cmdstanpy - INFO - Chain [1] start processing\n",
      "15:01:32 - cmdstanpy - INFO - Chain [1] done processing\n",
      "\n",
      "\n",
      "  3%|█▏                                          | 2/75 [00:03<02:00,  1.65s/it]\u001b[A\u001b[A"
     ]
    },
    {
     "data": {
      "application/vnd.jupyter.widget-view+json": {
       "model_id": "57cbf32588844b3c8b29c62b64badc84",
       "version_major": 2,
       "version_minor": 0
      },
      "text/plain": [
       "  0%|          | 0/1 [00:00<?, ?it/s]"
      ]
     },
     "metadata": {},
     "output_type": "display_data"
    },
    {
     "name": "stderr",
     "output_type": "stream",
     "text": [
      "15:01:33 - cmdstanpy - INFO - Chain [1] start processing\n",
      "15:01:34 - cmdstanpy - INFO - Chain [1] done processing\n",
      "\n",
      "\n",
      "  4%|█▊                                          | 3/75 [00:04<01:50,  1.54s/it]\u001b[A\u001b[A"
     ]
    },
    {
     "data": {
      "application/vnd.jupyter.widget-view+json": {
       "model_id": "6794b3c81495432bb96b623573f78479",
       "version_major": 2,
       "version_minor": 0
      },
      "text/plain": [
       "  0%|          | 0/1 [00:00<?, ?it/s]"
      ]
     },
     "metadata": {},
     "output_type": "display_data"
    },
    {
     "name": "stderr",
     "output_type": "stream",
     "text": [
      "15:01:35 - cmdstanpy - INFO - Chain [1] start processing\n",
      "15:01:35 - cmdstanpy - INFO - Chain [1] done processing\n",
      "\n",
      "\n",
      "  5%|██▎                                         | 4/75 [00:06<01:54,  1.62s/it]\u001b[A\u001b[A"
     ]
    },
    {
     "data": {
      "application/vnd.jupyter.widget-view+json": {
       "model_id": "b5661ce0a898498ebe9da93c8f9d62af",
       "version_major": 2,
       "version_minor": 0
      },
      "text/plain": [
       "  0%|          | 0/1 [00:00<?, ?it/s]"
      ]
     },
     "metadata": {},
     "output_type": "display_data"
    },
    {
     "name": "stderr",
     "output_type": "stream",
     "text": [
      "15:01:37 - cmdstanpy - INFO - Chain [1] start processing\n",
      "15:01:37 - cmdstanpy - INFO - Chain [1] done processing\n",
      "\n",
      "\n",
      "  7%|██▉                                         | 5/75 [00:07<01:46,  1.52s/it]\u001b[A\u001b[A"
     ]
    },
    {
     "data": {
      "application/vnd.jupyter.widget-view+json": {
       "model_id": "2e9385afc77f4884a3798aca2f3c6f8b",
       "version_major": 2,
       "version_minor": 0
      },
      "text/plain": [
       "  0%|          | 0/1 [00:00<?, ?it/s]"
      ]
     },
     "metadata": {},
     "output_type": "display_data"
    },
    {
     "name": "stderr",
     "output_type": "stream",
     "text": [
      "15:01:38 - cmdstanpy - INFO - Chain [1] start processing\n",
      "15:01:38 - cmdstanpy - INFO - Chain [1] done processing\n",
      "\n",
      "\n",
      "  8%|███▌                                        | 6/75 [00:09<01:41,  1.47s/it]\u001b[A\u001b[A"
     ]
    },
    {
     "data": {
      "application/vnd.jupyter.widget-view+json": {
       "model_id": "476bde177fe2462ab9f4cb04f5c8ed12",
       "version_major": 2,
       "version_minor": 0
      },
      "text/plain": [
       "  0%|          | 0/1 [00:00<?, ?it/s]"
      ]
     },
     "metadata": {},
     "output_type": "display_data"
    },
    {
     "name": "stderr",
     "output_type": "stream",
     "text": [
      "15:01:39 - cmdstanpy - INFO - Chain [1] start processing\n",
      "15:01:39 - cmdstanpy - INFO - Chain [1] done processing\n",
      "\n",
      "\n",
      "  9%|████                                        | 7/75 [00:10<01:48,  1.60s/it]\u001b[A\u001b[A"
     ]
    },
    {
     "data": {
      "application/vnd.jupyter.widget-view+json": {
       "model_id": "8d2c04d596eb4e6b80a167ed2ff6bc5c",
       "version_major": 2,
       "version_minor": 0
      },
      "text/plain": [
       "  0%|          | 0/1 [00:00<?, ?it/s]"
      ]
     },
     "metadata": {},
     "output_type": "display_data"
    },
    {
     "name": "stderr",
     "output_type": "stream",
     "text": [
      "15:01:41 - cmdstanpy - INFO - Chain [1] start processing\n",
      "15:01:41 - cmdstanpy - INFO - Chain [1] done processing\n",
      "\n",
      "\n",
      " 11%|████▋                                       | 8/75 [00:12<01:42,  1.54s/it]\u001b[A\u001b[A"
     ]
    },
    {
     "data": {
      "application/vnd.jupyter.widget-view+json": {
       "model_id": "58c14843edc2487982b047a2bc42afd3",
       "version_major": 2,
       "version_minor": 0
      },
      "text/plain": [
       "  0%|          | 0/1 [00:00<?, ?it/s]"
      ]
     },
     "metadata": {},
     "output_type": "display_data"
    },
    {
     "name": "stderr",
     "output_type": "stream",
     "text": [
      "15:01:42 - cmdstanpy - INFO - Chain [1] start processing\n",
      "15:01:43 - cmdstanpy - INFO - Chain [1] done processing\n",
      "\n",
      "\n",
      " 12%|█████▎                                      | 9/75 [00:13<01:41,  1.55s/it]\u001b[A\u001b[A"
     ]
    },
    {
     "data": {
      "application/vnd.jupyter.widget-view+json": {
       "model_id": "b2abed9bfa754f3d941b7652c80f1e9f",
       "version_major": 2,
       "version_minor": 0
      },
      "text/plain": [
       "  0%|          | 0/1 [00:00<?, ?it/s]"
      ]
     },
     "metadata": {},
     "output_type": "display_data"
    },
    {
     "name": "stderr",
     "output_type": "stream",
     "text": [
      "15:01:44 - cmdstanpy - INFO - Chain [1] start processing\n",
      "15:01:44 - cmdstanpy - INFO - Chain [1] done processing\n",
      "\n",
      "\n",
      " 13%|█████▋                                     | 10/75 [00:15<01:37,  1.50s/it]\u001b[A\u001b[A"
     ]
    },
    {
     "data": {
      "application/vnd.jupyter.widget-view+json": {
       "model_id": "9380dfa5f8dc48a2a06829ad802a1e66",
       "version_major": 2,
       "version_minor": 0
      },
      "text/plain": [
       "  0%|          | 0/1 [00:00<?, ?it/s]"
      ]
     },
     "metadata": {},
     "output_type": "display_data"
    },
    {
     "name": "stderr",
     "output_type": "stream",
     "text": [
      "15:01:45 - cmdstanpy - INFO - Chain [1] start processing\n",
      "15:01:46 - cmdstanpy - INFO - Chain [1] done processing\n",
      "\n",
      "\n",
      " 15%|██████▎                                    | 11/75 [00:16<01:37,  1.53s/it]\u001b[A\u001b[A"
     ]
    },
    {
     "data": {
      "application/vnd.jupyter.widget-view+json": {
       "model_id": "62c88f13ae644935a378b8620769a417",
       "version_major": 2,
       "version_minor": 0
      },
      "text/plain": [
       "  0%|          | 0/1 [00:00<?, ?it/s]"
      ]
     },
     "metadata": {},
     "output_type": "display_data"
    },
    {
     "name": "stderr",
     "output_type": "stream",
     "text": [
      "15:01:47 - cmdstanpy - INFO - Chain [1] start processing\n",
      "15:01:47 - cmdstanpy - INFO - Chain [1] done processing\n",
      "\n",
      "\n",
      " 16%|██████▉                                    | 12/75 [00:18<01:36,  1.53s/it]\u001b[A\u001b[A"
     ]
    },
    {
     "data": {
      "application/vnd.jupyter.widget-view+json": {
       "model_id": "20f5e8da607044e2a37fc6cc236f9523",
       "version_major": 2,
       "version_minor": 0
      },
      "text/plain": [
       "  0%|          | 0/1 [00:00<?, ?it/s]"
      ]
     },
     "metadata": {},
     "output_type": "display_data"
    },
    {
     "name": "stderr",
     "output_type": "stream",
     "text": [
      "15:01:49 - cmdstanpy - INFO - Chain [1] start processing\n",
      "15:01:49 - cmdstanpy - INFO - Chain [1] done processing\n",
      "\n",
      "\n",
      " 17%|███████▍                                   | 13/75 [00:19<01:34,  1.53s/it]\u001b[A\u001b[A"
     ]
    },
    {
     "data": {
      "application/vnd.jupyter.widget-view+json": {
       "model_id": "2c44bd4fda634585b528c170dbf4ccef",
       "version_major": 2,
       "version_minor": 0
      },
      "text/plain": [
       "  0%|          | 0/1 [00:00<?, ?it/s]"
      ]
     },
     "metadata": {},
     "output_type": "display_data"
    },
    {
     "name": "stderr",
     "output_type": "stream",
     "text": [
      "15:01:50 - cmdstanpy - INFO - Chain [1] start processing\n",
      "15:01:50 - cmdstanpy - INFO - Chain [1] done processing\n",
      "\n",
      "\n",
      " 19%|████████                                   | 14/75 [00:21<01:32,  1.51s/it]\u001b[A\u001b[A"
     ]
    },
    {
     "data": {
      "application/vnd.jupyter.widget-view+json": {
       "model_id": "d96a0e1ea40846f8a0aeffd5b77b50c4",
       "version_major": 2,
       "version_minor": 0
      },
      "text/plain": [
       "  0%|          | 0/1 [00:00<?, ?it/s]"
      ]
     },
     "metadata": {},
     "output_type": "display_data"
    },
    {
     "name": "stderr",
     "output_type": "stream",
     "text": [
      "15:01:52 - cmdstanpy - INFO - Chain [1] start processing\n",
      "15:01:52 - cmdstanpy - INFO - Chain [1] done processing\n",
      "\n",
      "\n",
      " 20%|████████▌                                  | 15/75 [00:22<01:29,  1.49s/it]\u001b[A\u001b[A"
     ]
    },
    {
     "data": {
      "application/vnd.jupyter.widget-view+json": {
       "model_id": "89c9433caafa4f969053c99f11908f95",
       "version_major": 2,
       "version_minor": 0
      },
      "text/plain": [
       "  0%|          | 0/1 [00:00<?, ?it/s]"
      ]
     },
     "metadata": {},
     "output_type": "display_data"
    },
    {
     "name": "stderr",
     "output_type": "stream",
     "text": [
      "15:01:53 - cmdstanpy - INFO - Chain [1] start processing\n",
      "15:01:53 - cmdstanpy - INFO - Chain [1] done processing\n",
      "\n",
      "\n",
      " 21%|█████████▏                                 | 16/75 [00:24<01:26,  1.47s/it]\u001b[A\u001b[A"
     ]
    },
    {
     "data": {
      "application/vnd.jupyter.widget-view+json": {
       "model_id": "ea86de024fbf4d2d95391361bdad360c",
       "version_major": 2,
       "version_minor": 0
      },
      "text/plain": [
       "  0%|          | 0/1 [00:00<?, ?it/s]"
      ]
     },
     "metadata": {},
     "output_type": "display_data"
    },
    {
     "name": "stderr",
     "output_type": "stream",
     "text": [
      "15:01:54 - cmdstanpy - INFO - Chain [1] start processing\n",
      "15:01:55 - cmdstanpy - INFO - Chain [1] done processing\n",
      "\n",
      "\n",
      " 23%|█████████▋                                 | 17/75 [00:25<01:26,  1.49s/it]\u001b[A\u001b[A"
     ]
    },
    {
     "data": {
      "application/vnd.jupyter.widget-view+json": {
       "model_id": "1109dfe984a04250ab6bafc7a4300ad0",
       "version_major": 2,
       "version_minor": 0
      },
      "text/plain": [
       "  0%|          | 0/1 [00:00<?, ?it/s]"
      ]
     },
     "metadata": {},
     "output_type": "display_data"
    },
    {
     "name": "stderr",
     "output_type": "stream",
     "text": [
      "15:01:56 - cmdstanpy - INFO - Chain [1] start processing\n",
      "15:01:56 - cmdstanpy - INFO - Chain [1] done processing\n",
      "\n",
      "\n",
      " 24%|██████████▎                                | 18/75 [00:27<01:25,  1.50s/it]\u001b[A\u001b[A"
     ]
    },
    {
     "data": {
      "application/vnd.jupyter.widget-view+json": {
       "model_id": "e2be94c315364e27a5f20deef5a4838d",
       "version_major": 2,
       "version_minor": 0
      },
      "text/plain": [
       "  0%|          | 0/1 [00:00<?, ?it/s]"
      ]
     },
     "metadata": {},
     "output_type": "display_data"
    },
    {
     "name": "stderr",
     "output_type": "stream",
     "text": [
      "15:01:58 - cmdstanpy - INFO - Chain [1] start processing\n",
      "15:01:58 - cmdstanpy - INFO - Chain [1] done processing\n",
      "\n",
      "\n",
      " 25%|██████████▉                                | 19/75 [00:29<01:30,  1.61s/it]\u001b[A\u001b[A"
     ]
    },
    {
     "data": {
      "application/vnd.jupyter.widget-view+json": {
       "model_id": "9cbc041f1a7a4786ae03089695e8c82a",
       "version_major": 2,
       "version_minor": 0
      },
      "text/plain": [
       "  0%|          | 0/1 [00:00<?, ?it/s]"
      ]
     },
     "metadata": {},
     "output_type": "display_data"
    },
    {
     "name": "stderr",
     "output_type": "stream",
     "text": [
      "15:01:59 - cmdstanpy - INFO - Chain [1] start processing\n",
      "15:01:59 - cmdstanpy - INFO - Chain [1] done processing\n",
      "\n",
      "\n",
      " 27%|███████████▍                               | 20/75 [00:30<01:22,  1.50s/it]\u001b[A\u001b[A"
     ]
    },
    {
     "data": {
      "application/vnd.jupyter.widget-view+json": {
       "model_id": "760f70a8c01840c0bc1bbdf16b8ca947",
       "version_major": 2,
       "version_minor": 0
      },
      "text/plain": [
       "  0%|          | 0/1 [00:00<?, ?it/s]"
      ]
     },
     "metadata": {},
     "output_type": "display_data"
    },
    {
     "name": "stderr",
     "output_type": "stream",
     "text": [
      "15:02:01 - cmdstanpy - INFO - Chain [1] start processing\n",
      "15:02:01 - cmdstanpy - INFO - Chain [1] done processing\n",
      "\n",
      "\n",
      " 28%|████████████                               | 21/75 [00:31<01:17,  1.44s/it]\u001b[A\u001b[A"
     ]
    },
    {
     "data": {
      "application/vnd.jupyter.widget-view+json": {
       "model_id": "393cd85d158a4b26bfea071fdfb99fd7",
       "version_major": 2,
       "version_minor": 0
      },
      "text/plain": [
       "  0%|          | 0/1 [00:00<?, ?it/s]"
      ]
     },
     "metadata": {},
     "output_type": "display_data"
    },
    {
     "name": "stderr",
     "output_type": "stream",
     "text": [
      "15:02:02 - cmdstanpy - INFO - Chain [1] start processing\n",
      "15:02:02 - cmdstanpy - INFO - Chain [1] done processing\n",
      "\n",
      "\n",
      " 29%|████████████▌                              | 22/75 [00:33<01:16,  1.44s/it]\u001b[A\u001b[A"
     ]
    },
    {
     "data": {
      "application/vnd.jupyter.widget-view+json": {
       "model_id": "32f6f619ce3242c8bdc923e06916dd51",
       "version_major": 2,
       "version_minor": 0
      },
      "text/plain": [
       "  0%|          | 0/1 [00:00<?, ?it/s]"
      ]
     },
     "metadata": {},
     "output_type": "display_data"
    },
    {
     "name": "stderr",
     "output_type": "stream",
     "text": [
      "15:02:03 - cmdstanpy - INFO - Chain [1] start processing\n",
      "15:02:04 - cmdstanpy - INFO - Chain [1] done processing\n",
      "\n",
      "\n",
      " 31%|█████████████▏                             | 23/75 [00:34<01:16,  1.47s/it]\u001b[A\u001b[A"
     ]
    },
    {
     "data": {
      "application/vnd.jupyter.widget-view+json": {
       "model_id": "454c7f299f644731aa17b228c4988282",
       "version_major": 2,
       "version_minor": 0
      },
      "text/plain": [
       "  0%|          | 0/1 [00:00<?, ?it/s]"
      ]
     },
     "metadata": {},
     "output_type": "display_data"
    },
    {
     "name": "stderr",
     "output_type": "stream",
     "text": [
      "15:02:05 - cmdstanpy - INFO - Chain [1] start processing\n",
      "15:02:05 - cmdstanpy - INFO - Chain [1] done processing\n",
      "\n",
      "\n",
      " 32%|█████████████▊                             | 24/75 [00:36<01:15,  1.49s/it]\u001b[A\u001b[A"
     ]
    },
    {
     "data": {
      "application/vnd.jupyter.widget-view+json": {
       "model_id": "e27a3ab3874f4b3face54cbda3b67f88",
       "version_major": 2,
       "version_minor": 0
      },
      "text/plain": [
       "  0%|          | 0/1 [00:00<?, ?it/s]"
      ]
     },
     "metadata": {},
     "output_type": "display_data"
    },
    {
     "name": "stderr",
     "output_type": "stream",
     "text": [
      "15:02:06 - cmdstanpy - INFO - Chain [1] start processing\n",
      "15:02:07 - cmdstanpy - INFO - Chain [1] done processing\n",
      "\n",
      "\n",
      " 33%|██████████████▎                            | 25/75 [00:37<01:13,  1.47s/it]\u001b[A\u001b[A"
     ]
    },
    {
     "data": {
      "application/vnd.jupyter.widget-view+json": {
       "model_id": "fde983bcbc214f80aa45ad7a5e886e0f",
       "version_major": 2,
       "version_minor": 0
      },
      "text/plain": [
       "  0%|          | 0/1 [00:00<?, ?it/s]"
      ]
     },
     "metadata": {},
     "output_type": "display_data"
    },
    {
     "name": "stderr",
     "output_type": "stream",
     "text": [
      "15:02:08 - cmdstanpy - INFO - Chain [1] start processing\n",
      "15:02:08 - cmdstanpy - INFO - Chain [1] done processing\n",
      "\n",
      "\n",
      " 35%|██████████████▉                            | 26/75 [00:39<01:12,  1.49s/it]\u001b[A\u001b[A"
     ]
    },
    {
     "data": {
      "application/vnd.jupyter.widget-view+json": {
       "model_id": "23fab1a9be9848c8b89da904979d763f",
       "version_major": 2,
       "version_minor": 0
      },
      "text/plain": [
       "  0%|          | 0/1 [00:00<?, ?it/s]"
      ]
     },
     "metadata": {},
     "output_type": "display_data"
    },
    {
     "name": "stderr",
     "output_type": "stream",
     "text": [
      "15:02:09 - cmdstanpy - INFO - Chain [1] start processing\n",
      "15:02:10 - cmdstanpy - INFO - Chain [1] done processing\n",
      "\n",
      "\n",
      " 36%|███████████████▍                           | 27/75 [00:40<01:12,  1.51s/it]\u001b[A\u001b[A"
     ]
    },
    {
     "data": {
      "application/vnd.jupyter.widget-view+json": {
       "model_id": "0ba3dc7f65f24aa3878840762c202b28",
       "version_major": 2,
       "version_minor": 0
      },
      "text/plain": [
       "  0%|          | 0/1 [00:00<?, ?it/s]"
      ]
     },
     "metadata": {},
     "output_type": "display_data"
    },
    {
     "name": "stderr",
     "output_type": "stream",
     "text": [
      "15:02:11 - cmdstanpy - INFO - Chain [1] start processing\n",
      "15:02:11 - cmdstanpy - INFO - Chain [1] done processing\n",
      "\n",
      "\n",
      " 37%|████████████████                           | 28/75 [00:42<01:10,  1.51s/it]\u001b[A\u001b[A"
     ]
    },
    {
     "data": {
      "application/vnd.jupyter.widget-view+json": {
       "model_id": "25eab692ecb6488a8c9803b4eb4a23cd",
       "version_major": 2,
       "version_minor": 0
      },
      "text/plain": [
       "  0%|          | 0/1 [00:00<?, ?it/s]"
      ]
     },
     "metadata": {},
     "output_type": "display_data"
    },
    {
     "name": "stderr",
     "output_type": "stream",
     "text": [
      "15:02:12 - cmdstanpy - INFO - Chain [1] start processing\n",
      "15:02:13 - cmdstanpy - INFO - Chain [1] done processing\n",
      "\n",
      "\n",
      " 39%|████████████████▋                          | 29/75 [00:43<01:09,  1.52s/it]\u001b[A\u001b[A"
     ]
    },
    {
     "data": {
      "application/vnd.jupyter.widget-view+json": {
       "model_id": "f9c9de13442a4bec8ca5dc7dfb92f8fd",
       "version_major": 2,
       "version_minor": 0
      },
      "text/plain": [
       "  0%|          | 0/1 [00:00<?, ?it/s]"
      ]
     },
     "metadata": {},
     "output_type": "display_data"
    },
    {
     "name": "stderr",
     "output_type": "stream",
     "text": [
      "15:02:14 - cmdstanpy - INFO - Chain [1] start processing\n",
      "15:02:14 - cmdstanpy - INFO - Chain [1] done processing\n",
      "\n",
      "\n",
      " 40%|█████████████████▏                         | 30/75 [00:45<01:14,  1.65s/it]\u001b[A\u001b[A"
     ]
    },
    {
     "data": {
      "application/vnd.jupyter.widget-view+json": {
       "model_id": "fa400815e5554f4ebeb684b1acc764e6",
       "version_major": 2,
       "version_minor": 0
      },
      "text/plain": [
       "  0%|          | 0/1 [00:00<?, ?it/s]"
      ]
     },
     "metadata": {},
     "output_type": "display_data"
    },
    {
     "name": "stderr",
     "output_type": "stream",
     "text": [
      "15:02:16 - cmdstanpy - INFO - Chain [1] start processing\n",
      "15:02:16 - cmdstanpy - INFO - Chain [1] done processing\n",
      "\n",
      "\n",
      " 41%|█████████████████▊                         | 31/75 [00:47<01:13,  1.66s/it]\u001b[A\u001b[A"
     ]
    },
    {
     "data": {
      "application/vnd.jupyter.widget-view+json": {
       "model_id": "69cfc4b02bc34014bb4c1aa4cd2ff97a",
       "version_major": 2,
       "version_minor": 0
      },
      "text/plain": [
       "  0%|          | 0/1 [00:00<?, ?it/s]"
      ]
     },
     "metadata": {},
     "output_type": "display_data"
    },
    {
     "name": "stderr",
     "output_type": "stream",
     "text": [
      "15:02:18 - cmdstanpy - INFO - Chain [1] start processing\n",
      "15:02:18 - cmdstanpy - INFO - Chain [1] done processing\n",
      "\n",
      "\n",
      " 43%|██████████████████▎                        | 32/75 [00:49<01:17,  1.80s/it]\u001b[A\u001b[A"
     ]
    },
    {
     "data": {
      "application/vnd.jupyter.widget-view+json": {
       "model_id": "6006080df54a4eaca1079b71f26b1b69",
       "version_major": 2,
       "version_minor": 0
      },
      "text/plain": [
       "  0%|          | 0/1 [00:00<?, ?it/s]"
      ]
     },
     "metadata": {},
     "output_type": "display_data"
    },
    {
     "name": "stderr",
     "output_type": "stream",
     "text": [
      "15:02:20 - cmdstanpy - INFO - Chain [1] start processing\n",
      "15:02:20 - cmdstanpy - INFO - Chain [1] done processing\n",
      "\n",
      "\n",
      " 44%|██████████████████▉                        | 33/75 [00:51<01:14,  1.76s/it]\u001b[A\u001b[A"
     ]
    },
    {
     "data": {
      "application/vnd.jupyter.widget-view+json": {
       "model_id": "2ac74a3785be4f8aa4364f5b6948fef2",
       "version_major": 2,
       "version_minor": 0
      },
      "text/plain": [
       "  0%|          | 0/1 [00:00<?, ?it/s]"
      ]
     },
     "metadata": {},
     "output_type": "display_data"
    },
    {
     "name": "stderr",
     "output_type": "stream",
     "text": [
      "15:02:21 - cmdstanpy - INFO - Chain [1] start processing\n",
      "15:02:22 - cmdstanpy - INFO - Chain [1] done processing\n",
      "\n",
      "\n",
      " 45%|███████████████████▍                       | 34/75 [00:52<01:10,  1.72s/it]\u001b[A\u001b[A"
     ]
    },
    {
     "data": {
      "application/vnd.jupyter.widget-view+json": {
       "model_id": "6240adb803a044228f440e9b873f6c0d",
       "version_major": 2,
       "version_minor": 0
      },
      "text/plain": [
       "  0%|          | 0/1 [00:00<?, ?it/s]"
      ]
     },
     "metadata": {},
     "output_type": "display_data"
    },
    {
     "name": "stderr",
     "output_type": "stream",
     "text": [
      "15:02:23 - cmdstanpy - INFO - Chain [1] start processing\n",
      "15:02:23 - cmdstanpy - INFO - Chain [1] done processing\n",
      "\n",
      "\n",
      " 47%|████████████████████                       | 35/75 [00:54<01:06,  1.67s/it]\u001b[A\u001b[A"
     ]
    },
    {
     "data": {
      "application/vnd.jupyter.widget-view+json": {
       "model_id": "8e70f4444235430a97bf369c63c40468",
       "version_major": 2,
       "version_minor": 0
      },
      "text/plain": [
       "  0%|          | 0/1 [00:00<?, ?it/s]"
      ]
     },
     "metadata": {},
     "output_type": "display_data"
    },
    {
     "name": "stderr",
     "output_type": "stream",
     "text": [
      "15:02:25 - cmdstanpy - INFO - Chain [1] start processing\n",
      "15:02:25 - cmdstanpy - INFO - Chain [1] done processing\n",
      "\n",
      "\n",
      " 48%|████████████████████▋                      | 36/75 [00:56<01:06,  1.70s/it]\u001b[A\u001b[A"
     ]
    },
    {
     "data": {
      "application/vnd.jupyter.widget-view+json": {
       "model_id": "b7eb2fe3478b446cad3188e8c8f74e33",
       "version_major": 2,
       "version_minor": 0
      },
      "text/plain": [
       "  0%|          | 0/1 [00:00<?, ?it/s]"
      ]
     },
     "metadata": {},
     "output_type": "display_data"
    },
    {
     "name": "stderr",
     "output_type": "stream",
     "text": [
      "15:02:26 - cmdstanpy - INFO - Chain [1] start processing\n",
      "15:02:27 - cmdstanpy - INFO - Chain [1] done processing\n",
      "\n",
      "\n",
      " 49%|█████████████████████▏                     | 37/75 [00:57<01:02,  1.65s/it]\u001b[A\u001b[A"
     ]
    },
    {
     "data": {
      "application/vnd.jupyter.widget-view+json": {
       "model_id": "2f8ee9b43c664c72b0c9cff678a12779",
       "version_major": 2,
       "version_minor": 0
      },
      "text/plain": [
       "  0%|          | 0/1 [00:00<?, ?it/s]"
      ]
     },
     "metadata": {},
     "output_type": "display_data"
    },
    {
     "name": "stderr",
     "output_type": "stream",
     "text": [
      "15:02:28 - cmdstanpy - INFO - Chain [1] start processing\n",
      "15:02:28 - cmdstanpy - INFO - Chain [1] done processing\n",
      "\n",
      "\n",
      " 51%|█████████████████████▊                     | 38/75 [00:59<00:59,  1.61s/it]\u001b[A\u001b[A"
     ]
    },
    {
     "data": {
      "application/vnd.jupyter.widget-view+json": {
       "model_id": "3af42b214878494a8486c3a198d0557e",
       "version_major": 2,
       "version_minor": 0
      },
      "text/plain": [
       "  0%|          | 0/1 [00:00<?, ?it/s]"
      ]
     },
     "metadata": {},
     "output_type": "display_data"
    },
    {
     "name": "stderr",
     "output_type": "stream",
     "text": [
      "15:02:29 - cmdstanpy - INFO - Chain [1] start processing\n",
      "15:02:30 - cmdstanpy - INFO - Chain [1] done processing\n",
      "\n",
      "\n",
      " 52%|██████████████████████▎                    | 39/75 [01:00<00:58,  1.62s/it]\u001b[A\u001b[A"
     ]
    },
    {
     "data": {
      "application/vnd.jupyter.widget-view+json": {
       "model_id": "1e4d3283ca094cf7af6bc7e3fbfac981",
       "version_major": 2,
       "version_minor": 0
      },
      "text/plain": [
       "  0%|          | 0/1 [00:00<?, ?it/s]"
      ]
     },
     "metadata": {},
     "output_type": "display_data"
    },
    {
     "name": "stderr",
     "output_type": "stream",
     "text": [
      "15:02:31 - cmdstanpy - INFO - Chain [1] start processing\n",
      "15:02:31 - cmdstanpy - INFO - Chain [1] done processing\n",
      "\n",
      "\n",
      " 53%|██████████████████████▉                    | 40/75 [01:02<00:53,  1.54s/it]\u001b[A\u001b[A"
     ]
    },
    {
     "data": {
      "application/vnd.jupyter.widget-view+json": {
       "model_id": "979492d0f7e540ffa647549b704bc292",
       "version_major": 2,
       "version_minor": 0
      },
      "text/plain": [
       "  0%|          | 0/1 [00:00<?, ?it/s]"
      ]
     },
     "metadata": {},
     "output_type": "display_data"
    },
    {
     "name": "stderr",
     "output_type": "stream",
     "text": [
      "15:02:32 - cmdstanpy - INFO - Chain [1] start processing\n",
      "15:02:33 - cmdstanpy - INFO - Chain [1] done processing\n",
      "\n",
      "\n",
      " 55%|███████████████████████▌                   | 41/75 [01:03<00:49,  1.46s/it]\u001b[A\u001b[A"
     ]
    },
    {
     "data": {
      "application/vnd.jupyter.widget-view+json": {
       "model_id": "8bf29f261a224c849238bea2a345ec01",
       "version_major": 2,
       "version_minor": 0
      },
      "text/plain": [
       "  0%|          | 0/1 [00:00<?, ?it/s]"
      ]
     },
     "metadata": {},
     "output_type": "display_data"
    },
    {
     "name": "stderr",
     "output_type": "stream",
     "text": [
      "15:02:34 - cmdstanpy - INFO - Chain [1] start processing\n",
      "15:02:34 - cmdstanpy - INFO - Chain [1] done processing\n",
      "\n",
      "\n",
      " 56%|████████████████████████                   | 42/75 [01:04<00:46,  1.42s/it]\u001b[A\u001b[A"
     ]
    },
    {
     "data": {
      "application/vnd.jupyter.widget-view+json": {
       "model_id": "c919ee1e45094c8ca3520352c39f0aa3",
       "version_major": 2,
       "version_minor": 0
      },
      "text/plain": [
       "  0%|          | 0/1 [00:00<?, ?it/s]"
      ]
     },
     "metadata": {},
     "output_type": "display_data"
    },
    {
     "name": "stderr",
     "output_type": "stream",
     "text": [
      "15:02:35 - cmdstanpy - INFO - Chain [1] start processing\n",
      "15:02:35 - cmdstanpy - INFO - Chain [1] done processing\n",
      "\n",
      "\n",
      " 57%|████████████████████████▋                  | 43/75 [01:06<00:46,  1.44s/it]\u001b[A\u001b[A"
     ]
    },
    {
     "data": {
      "application/vnd.jupyter.widget-view+json": {
       "model_id": "86cbe78c3e2b4e2ab856c446da693781",
       "version_major": 2,
       "version_minor": 0
      },
      "text/plain": [
       "  0%|          | 0/1 [00:00<?, ?it/s]"
      ]
     },
     "metadata": {},
     "output_type": "display_data"
    },
    {
     "name": "stderr",
     "output_type": "stream",
     "text": [
      "15:02:37 - cmdstanpy - INFO - Chain [1] start processing\n",
      "15:02:37 - cmdstanpy - INFO - Chain [1] done processing\n",
      "\n",
      "\n",
      " 59%|█████████████████████████▏                 | 44/75 [01:07<00:43,  1.39s/it]\u001b[A\u001b[A"
     ]
    },
    {
     "data": {
      "application/vnd.jupyter.widget-view+json": {
       "model_id": "877f1ced071a4378950b45f732cc198b",
       "version_major": 2,
       "version_minor": 0
      },
      "text/plain": [
       "  0%|          | 0/1 [00:00<?, ?it/s]"
      ]
     },
     "metadata": {},
     "output_type": "display_data"
    },
    {
     "name": "stderr",
     "output_type": "stream",
     "text": [
      "15:02:38 - cmdstanpy - INFO - Chain [1] start processing\n",
      "15:02:38 - cmdstanpy - INFO - Chain [1] done processing\n",
      "\n",
      "\n",
      " 60%|█████████████████████████▊                 | 45/75 [01:08<00:40,  1.36s/it]\u001b[A\u001b[A"
     ]
    },
    {
     "data": {
      "application/vnd.jupyter.widget-view+json": {
       "model_id": "1f76fd585080491aba3d13d747e3e03e",
       "version_major": 2,
       "version_minor": 0
      },
      "text/plain": [
       "  0%|          | 0/1 [00:00<?, ?it/s]"
      ]
     },
     "metadata": {},
     "output_type": "display_data"
    },
    {
     "name": "stderr",
     "output_type": "stream",
     "text": [
      "15:02:39 - cmdstanpy - INFO - Chain [1] start processing\n",
      "15:02:39 - cmdstanpy - INFO - Chain [1] done processing\n",
      "\n",
      "\n",
      " 61%|██████████████████████████▎                | 46/75 [01:10<00:40,  1.40s/it]\u001b[A\u001b[A"
     ]
    },
    {
     "data": {
      "application/vnd.jupyter.widget-view+json": {
       "model_id": "57ecbc865fb049bab8640aa77d1732e4",
       "version_major": 2,
       "version_minor": 0
      },
      "text/plain": [
       "  0%|          | 0/1 [00:00<?, ?it/s]"
      ]
     },
     "metadata": {},
     "output_type": "display_data"
    },
    {
     "name": "stderr",
     "output_type": "stream",
     "text": [
      "15:02:41 - cmdstanpy - INFO - Chain [1] start processing\n",
      "15:02:41 - cmdstanpy - INFO - Chain [1] done processing\n",
      "\n",
      "\n",
      " 63%|██████████████████████████▉                | 47/75 [01:12<00:40,  1.45s/it]\u001b[A\u001b[A"
     ]
    },
    {
     "data": {
      "application/vnd.jupyter.widget-view+json": {
       "model_id": "436e93eb7891437bbb217ee3d09703e1",
       "version_major": 2,
       "version_minor": 0
      },
      "text/plain": [
       "  0%|          | 0/1 [00:00<?, ?it/s]"
      ]
     },
     "metadata": {},
     "output_type": "display_data"
    },
    {
     "name": "stderr",
     "output_type": "stream",
     "text": [
      "15:02:42 - cmdstanpy - INFO - Chain [1] start processing\n",
      "15:02:42 - cmdstanpy - INFO - Chain [1] done processing\n",
      "\n",
      "\n",
      " 64%|███████████████████████████▌               | 48/75 [01:13<00:38,  1.44s/it]\u001b[A\u001b[A"
     ]
    },
    {
     "data": {
      "application/vnd.jupyter.widget-view+json": {
       "model_id": "4c2a64ac748040db936d0982fce120f7",
       "version_major": 2,
       "version_minor": 0
      },
      "text/plain": [
       "  0%|          | 0/1 [00:00<?, ?it/s]"
      ]
     },
     "metadata": {},
     "output_type": "display_data"
    },
    {
     "name": "stderr",
     "output_type": "stream",
     "text": [
      "15:02:44 - cmdstanpy - INFO - Chain [1] start processing\n",
      "15:02:44 - cmdstanpy - INFO - Chain [1] done processing\n",
      "\n",
      "\n",
      " 65%|████████████████████████████               | 49/75 [01:14<00:36,  1.40s/it]\u001b[A\u001b[A"
     ]
    },
    {
     "data": {
      "application/vnd.jupyter.widget-view+json": {
       "model_id": "fd256fc555cc45a4a32fde7329ac7a80",
       "version_major": 2,
       "version_minor": 0
      },
      "text/plain": [
       "  0%|          | 0/1 [00:00<?, ?it/s]"
      ]
     },
     "metadata": {},
     "output_type": "display_data"
    },
    {
     "name": "stderr",
     "output_type": "stream",
     "text": [
      "15:02:45 - cmdstanpy - INFO - Chain [1] start processing\n",
      "15:02:45 - cmdstanpy - INFO - Chain [1] done processing\n",
      "\n",
      "\n",
      " 67%|████████████████████████████▋              | 50/75 [01:16<00:34,  1.40s/it]\u001b[A\u001b[A"
     ]
    },
    {
     "data": {
      "application/vnd.jupyter.widget-view+json": {
       "model_id": "aa69986a4cae424eae8201ee33236d1d",
       "version_major": 2,
       "version_minor": 0
      },
      "text/plain": [
       "  0%|          | 0/1 [00:00<?, ?it/s]"
      ]
     },
     "metadata": {},
     "output_type": "display_data"
    },
    {
     "name": "stderr",
     "output_type": "stream",
     "text": [
      "15:02:46 - cmdstanpy - INFO - Chain [1] start processing\n",
      "15:02:46 - cmdstanpy - INFO - Chain [1] done processing\n",
      "\n",
      "\n",
      " 68%|█████████████████████████████▏             | 51/75 [01:17<00:32,  1.37s/it]\u001b[A\u001b[A"
     ]
    },
    {
     "data": {
      "application/vnd.jupyter.widget-view+json": {
       "model_id": "e94fda7f06fb486bb8e019e427e93b1e",
       "version_major": 2,
       "version_minor": 0
      },
      "text/plain": [
       "  0%|          | 0/1 [00:00<?, ?it/s]"
      ]
     },
     "metadata": {},
     "output_type": "display_data"
    },
    {
     "name": "stderr",
     "output_type": "stream",
     "text": [
      "15:02:48 - cmdstanpy - INFO - Chain [1] start processing\n",
      "15:02:48 - cmdstanpy - INFO - Chain [1] done processing\n",
      "\n",
      "\n",
      " 69%|█████████████████████████████▊             | 52/75 [01:18<00:31,  1.39s/it]\u001b[A\u001b[A"
     ]
    },
    {
     "data": {
      "application/vnd.jupyter.widget-view+json": {
       "model_id": "4a1a84de2bf34ec8aacd81b89feb5007",
       "version_major": 2,
       "version_minor": 0
      },
      "text/plain": [
       "  0%|          | 0/1 [00:00<?, ?it/s]"
      ]
     },
     "metadata": {},
     "output_type": "display_data"
    },
    {
     "name": "stderr",
     "output_type": "stream",
     "text": [
      "15:02:49 - cmdstanpy - INFO - Chain [1] start processing\n",
      "15:02:49 - cmdstanpy - INFO - Chain [1] done processing\n",
      "\n",
      "\n",
      " 71%|██████████████████████████████▍            | 53/75 [01:20<00:29,  1.36s/it]\u001b[A\u001b[A"
     ]
    },
    {
     "data": {
      "application/vnd.jupyter.widget-view+json": {
       "model_id": "a0e8387262f4410e8a352447f533e1f3",
       "version_major": 2,
       "version_minor": 0
      },
      "text/plain": [
       "  0%|          | 0/1 [00:00<?, ?it/s]"
      ]
     },
     "metadata": {},
     "output_type": "display_data"
    },
    {
     "name": "stderr",
     "output_type": "stream",
     "text": [
      "15:02:50 - cmdstanpy - INFO - Chain [1] start processing\n",
      "15:02:50 - cmdstanpy - INFO - Chain [1] done processing\n",
      "\n",
      "\n",
      " 72%|██████████████████████████████▉            | 54/75 [01:21<00:28,  1.33s/it]\u001b[A\u001b[A"
     ]
    },
    {
     "data": {
      "application/vnd.jupyter.widget-view+json": {
       "model_id": "c8c9e42aa5b1463bbeb92214c0793fd9",
       "version_major": 2,
       "version_minor": 0
      },
      "text/plain": [
       "  0%|          | 0/1 [00:00<?, ?it/s]"
      ]
     },
     "metadata": {},
     "output_type": "display_data"
    },
    {
     "name": "stderr",
     "output_type": "stream",
     "text": [
      "15:02:52 - cmdstanpy - INFO - Chain [1] start processing\n",
      "15:02:52 - cmdstanpy - INFO - Chain [1] done processing\n",
      "\n",
      "\n",
      " 73%|███████████████████████████████▌           | 55/75 [01:22<00:26,  1.33s/it]\u001b[A\u001b[A"
     ]
    },
    {
     "data": {
      "application/vnd.jupyter.widget-view+json": {
       "model_id": "a1ad13f8543340a3a5b238c8c87e101f",
       "version_major": 2,
       "version_minor": 0
      },
      "text/plain": [
       "  0%|          | 0/1 [00:00<?, ?it/s]"
      ]
     },
     "metadata": {},
     "output_type": "display_data"
    },
    {
     "name": "stderr",
     "output_type": "stream",
     "text": [
      "15:02:53 - cmdstanpy - INFO - Chain [1] start processing\n",
      "15:02:53 - cmdstanpy - INFO - Chain [1] done processing\n",
      "\n",
      "\n",
      " 75%|████████████████████████████████           | 56/75 [01:24<00:25,  1.33s/it]\u001b[A\u001b[A"
     ]
    },
    {
     "data": {
      "application/vnd.jupyter.widget-view+json": {
       "model_id": "ea17134d127341199f285136823971ac",
       "version_major": 2,
       "version_minor": 0
      },
      "text/plain": [
       "  0%|          | 0/1 [00:00<?, ?it/s]"
      ]
     },
     "metadata": {},
     "output_type": "display_data"
    },
    {
     "name": "stderr",
     "output_type": "stream",
     "text": [
      "15:02:54 - cmdstanpy - INFO - Chain [1] start processing\n",
      "15:02:54 - cmdstanpy - INFO - Chain [1] done processing\n",
      "\n",
      "\n",
      " 76%|████████████████████████████████▋          | 57/75 [01:25<00:23,  1.33s/it]\u001b[A\u001b[A"
     ]
    },
    {
     "data": {
      "application/vnd.jupyter.widget-view+json": {
       "model_id": "8eae19c0ed97460ba75819fc15075217",
       "version_major": 2,
       "version_minor": 0
      },
      "text/plain": [
       "  0%|          | 0/1 [00:00<?, ?it/s]"
      ]
     },
     "metadata": {},
     "output_type": "display_data"
    },
    {
     "name": "stderr",
     "output_type": "stream",
     "text": [
      "15:02:56 - cmdstanpy - INFO - Chain [1] start processing\n",
      "15:02:56 - cmdstanpy - INFO - Chain [1] done processing\n",
      "\n",
      "\n",
      " 77%|█████████████████████████████████▎         | 58/75 [01:26<00:22,  1.33s/it]\u001b[A\u001b[A"
     ]
    },
    {
     "data": {
      "application/vnd.jupyter.widget-view+json": {
       "model_id": "d0c64c78c31f48759664baf269bda5dd",
       "version_major": 2,
       "version_minor": 0
      },
      "text/plain": [
       "  0%|          | 0/1 [00:00<?, ?it/s]"
      ]
     },
     "metadata": {},
     "output_type": "display_data"
    },
    {
     "name": "stderr",
     "output_type": "stream",
     "text": [
      "15:02:57 - cmdstanpy - INFO - Chain [1] start processing\n",
      "15:02:57 - cmdstanpy - INFO - Chain [1] done processing\n",
      "\n",
      "\n",
      " 79%|█████████████████████████████████▊         | 59/75 [01:28<00:22,  1.39s/it]\u001b[A\u001b[A"
     ]
    },
    {
     "data": {
      "application/vnd.jupyter.widget-view+json": {
       "model_id": "aeed6b1670694bb69497049a1e85adc4",
       "version_major": 2,
       "version_minor": 0
      },
      "text/plain": [
       "  0%|          | 0/1 [00:00<?, ?it/s]"
      ]
     },
     "metadata": {},
     "output_type": "display_data"
    },
    {
     "name": "stderr",
     "output_type": "stream",
     "text": [
      "15:02:58 - cmdstanpy - INFO - Chain [1] start processing\n",
      "15:02:59 - cmdstanpy - INFO - Chain [1] done processing\n",
      "\n",
      "\n",
      " 80%|██████████████████████████████████▍        | 60/75 [01:29<00:20,  1.37s/it]\u001b[A\u001b[A"
     ]
    },
    {
     "data": {
      "application/vnd.jupyter.widget-view+json": {
       "model_id": "140348ce69a643a0991157a59dae6590",
       "version_major": 2,
       "version_minor": 0
      },
      "text/plain": [
       "  0%|          | 0/1 [00:00<?, ?it/s]"
      ]
     },
     "metadata": {},
     "output_type": "display_data"
    },
    {
     "name": "stderr",
     "output_type": "stream",
     "text": [
      "15:03:00 - cmdstanpy - INFO - Chain [1] start processing\n",
      "15:03:00 - cmdstanpy - INFO - Chain [1] done processing\n",
      "\n",
      "\n",
      " 81%|██████████████████████████████████▉        | 61/75 [01:30<00:19,  1.36s/it]\u001b[A\u001b[A"
     ]
    },
    {
     "data": {
      "application/vnd.jupyter.widget-view+json": {
       "model_id": "8f3b496b7fba4dfa917c6d15f61d06b5",
       "version_major": 2,
       "version_minor": 0
      },
      "text/plain": [
       "  0%|          | 0/1 [00:00<?, ?it/s]"
      ]
     },
     "metadata": {},
     "output_type": "display_data"
    },
    {
     "name": "stderr",
     "output_type": "stream",
     "text": [
      "15:03:01 - cmdstanpy - INFO - Chain [1] start processing\n",
      "15:03:01 - cmdstanpy - INFO - Chain [1] done processing\n",
      "\n",
      "\n",
      " 83%|███████████████████████████████████▌       | 62/75 [01:32<00:17,  1.33s/it]\u001b[A\u001b[A"
     ]
    },
    {
     "data": {
      "application/vnd.jupyter.widget-view+json": {
       "model_id": "9ad6465f7fa74c518a28f650af9ccfdb",
       "version_major": 2,
       "version_minor": 0
      },
      "text/plain": [
       "  0%|          | 0/1 [00:00<?, ?it/s]"
      ]
     },
     "metadata": {},
     "output_type": "display_data"
    },
    {
     "name": "stderr",
     "output_type": "stream",
     "text": [
      "15:03:02 - cmdstanpy - INFO - Chain [1] start processing\n",
      "15:03:03 - cmdstanpy - INFO - Chain [1] done processing\n",
      "\n",
      "\n",
      " 84%|████████████████████████████████████       | 63/75 [01:33<00:15,  1.33s/it]\u001b[A\u001b[A"
     ]
    },
    {
     "data": {
      "application/vnd.jupyter.widget-view+json": {
       "model_id": "0d52a07de88e4ccf8cc44a629cd09831",
       "version_major": 2,
       "version_minor": 0
      },
      "text/plain": [
       "  0%|          | 0/1 [00:00<?, ?it/s]"
      ]
     },
     "metadata": {},
     "output_type": "display_data"
    },
    {
     "name": "stderr",
     "output_type": "stream",
     "text": [
      "15:03:04 - cmdstanpy - INFO - Chain [1] start processing\n",
      "15:03:04 - cmdstanpy - INFO - Chain [1] done processing\n",
      "\n",
      "\n",
      " 85%|████████████████████████████████████▋      | 64/75 [01:34<00:14,  1.32s/it]\u001b[A\u001b[A"
     ]
    },
    {
     "data": {
      "application/vnd.jupyter.widget-view+json": {
       "model_id": "ba6c9c3efc344cbb9dbd9bc6bd6be2c3",
       "version_major": 2,
       "version_minor": 0
      },
      "text/plain": [
       "  0%|          | 0/1 [00:00<?, ?it/s]"
      ]
     },
     "metadata": {},
     "output_type": "display_data"
    },
    {
     "name": "stderr",
     "output_type": "stream",
     "text": [
      "15:03:05 - cmdstanpy - INFO - Chain [1] start processing\n",
      "15:03:05 - cmdstanpy - INFO - Chain [1] done processing\n",
      "\n",
      "\n",
      " 87%|█████████████████████████████████████▎     | 65/75 [01:36<00:13,  1.31s/it]\u001b[A\u001b[A"
     ]
    },
    {
     "data": {
      "application/vnd.jupyter.widget-view+json": {
       "model_id": "20211e8132c5493fa702cf0fd4366636",
       "version_major": 2,
       "version_minor": 0
      },
      "text/plain": [
       "  0%|          | 0/1 [00:00<?, ?it/s]"
      ]
     },
     "metadata": {},
     "output_type": "display_data"
    },
    {
     "name": "stderr",
     "output_type": "stream",
     "text": [
      "15:03:06 - cmdstanpy - INFO - Chain [1] start processing\n",
      "15:03:06 - cmdstanpy - INFO - Chain [1] done processing\n",
      "\n",
      "\n",
      " 88%|█████████████████████████████████████▊     | 66/75 [01:37<00:11,  1.31s/it]\u001b[A\u001b[A"
     ]
    },
    {
     "data": {
      "application/vnd.jupyter.widget-view+json": {
       "model_id": "1144bab1456a4a5090216ac0d5346c2f",
       "version_major": 2,
       "version_minor": 0
      },
      "text/plain": [
       "  0%|          | 0/1 [00:00<?, ?it/s]"
      ]
     },
     "metadata": {},
     "output_type": "display_data"
    },
    {
     "name": "stderr",
     "output_type": "stream",
     "text": [
      "15:03:08 - cmdstanpy - INFO - Chain [1] start processing\n",
      "15:03:08 - cmdstanpy - INFO - Chain [1] done processing\n",
      "\n",
      "\n",
      " 89%|██████████████████████████████████████▍    | 67/75 [01:38<00:10,  1.32s/it]\u001b[A\u001b[A"
     ]
    },
    {
     "data": {
      "application/vnd.jupyter.widget-view+json": {
       "model_id": "a33df23509da4ce087af62060fa4265d",
       "version_major": 2,
       "version_minor": 0
      },
      "text/plain": [
       "  0%|          | 0/1 [00:00<?, ?it/s]"
      ]
     },
     "metadata": {},
     "output_type": "display_data"
    },
    {
     "name": "stderr",
     "output_type": "stream",
     "text": [
      "15:03:09 - cmdstanpy - INFO - Chain [1] start processing\n",
      "15:03:09 - cmdstanpy - INFO - Chain [1] done processing\n",
      "\n",
      "\n",
      " 91%|██████████████████████████████████████▉    | 68/75 [01:40<00:09,  1.32s/it]\u001b[A\u001b[A"
     ]
    },
    {
     "data": {
      "application/vnd.jupyter.widget-view+json": {
       "model_id": "6050c743b28e489ba03be5e420592e5d",
       "version_major": 2,
       "version_minor": 0
      },
      "text/plain": [
       "  0%|          | 0/1 [00:00<?, ?it/s]"
      ]
     },
     "metadata": {},
     "output_type": "display_data"
    },
    {
     "name": "stderr",
     "output_type": "stream",
     "text": [
      "15:03:10 - cmdstanpy - INFO - Chain [1] start processing\n",
      "15:03:10 - cmdstanpy - INFO - Chain [1] done processing\n",
      "\n",
      "\n",
      " 92%|███████████████████████████████████████▌   | 69/75 [01:41<00:07,  1.31s/it]\u001b[A\u001b[A"
     ]
    },
    {
     "data": {
      "application/vnd.jupyter.widget-view+json": {
       "model_id": "2556824ea1e848859f6d74458f8a448d",
       "version_major": 2,
       "version_minor": 0
      },
      "text/plain": [
       "  0%|          | 0/1 [00:00<?, ?it/s]"
      ]
     },
     "metadata": {},
     "output_type": "display_data"
    },
    {
     "name": "stderr",
     "output_type": "stream",
     "text": [
      "15:03:12 - cmdstanpy - INFO - Chain [1] start processing\n",
      "15:03:12 - cmdstanpy - INFO - Chain [1] done processing\n",
      "\n",
      "\n",
      " 93%|████████████████████████████████████████▏  | 70/75 [01:42<00:06,  1.31s/it]\u001b[A\u001b[A"
     ]
    },
    {
     "data": {
      "application/vnd.jupyter.widget-view+json": {
       "model_id": "b02f5a8d146548018eef2a5b5079670e",
       "version_major": 2,
       "version_minor": 0
      },
      "text/plain": [
       "  0%|          | 0/1 [00:00<?, ?it/s]"
      ]
     },
     "metadata": {},
     "output_type": "display_data"
    },
    {
     "name": "stderr",
     "output_type": "stream",
     "text": [
      "15:03:13 - cmdstanpy - INFO - Chain [1] start processing\n",
      "15:03:13 - cmdstanpy - INFO - Chain [1] done processing\n",
      "\n",
      "\n",
      " 95%|████████████████████████████████████████▋  | 71/75 [01:43<00:05,  1.30s/it]\u001b[A\u001b[A"
     ]
    },
    {
     "data": {
      "application/vnd.jupyter.widget-view+json": {
       "model_id": "df8523e6637a40d1b57ade94177c0575",
       "version_major": 2,
       "version_minor": 0
      },
      "text/plain": [
       "  0%|          | 0/1 [00:00<?, ?it/s]"
      ]
     },
     "metadata": {},
     "output_type": "display_data"
    },
    {
     "name": "stderr",
     "output_type": "stream",
     "text": [
      "15:03:14 - cmdstanpy - INFO - Chain [1] start processing\n",
      "15:03:14 - cmdstanpy - INFO - Chain [1] done processing\n",
      "\n",
      "\n",
      " 96%|█████████████████████████████████████████▎ | 72/75 [01:45<00:03,  1.30s/it]\u001b[A\u001b[A"
     ]
    },
    {
     "data": {
      "application/vnd.jupyter.widget-view+json": {
       "model_id": "dbb77ea79d6b4d1987b144ee9631622b",
       "version_major": 2,
       "version_minor": 0
      },
      "text/plain": [
       "  0%|          | 0/1 [00:00<?, ?it/s]"
      ]
     },
     "metadata": {},
     "output_type": "display_data"
    },
    {
     "name": "stderr",
     "output_type": "stream",
     "text": [
      "15:03:15 - cmdstanpy - INFO - Chain [1] start processing\n",
      "15:03:16 - cmdstanpy - INFO - Chain [1] done processing\n",
      "\n",
      "\n",
      " 97%|█████████████████████████████████████████▊ | 73/75 [01:46<00:02,  1.31s/it]\u001b[A\u001b[A"
     ]
    },
    {
     "data": {
      "application/vnd.jupyter.widget-view+json": {
       "model_id": "ecd4414aede54e88906fdc3440bea28e",
       "version_major": 2,
       "version_minor": 0
      },
      "text/plain": [
       "  0%|          | 0/1 [00:00<?, ?it/s]"
      ]
     },
     "metadata": {},
     "output_type": "display_data"
    },
    {
     "name": "stderr",
     "output_type": "stream",
     "text": [
      "15:03:17 - cmdstanpy - INFO - Chain [1] start processing\n",
      "15:03:17 - cmdstanpy - INFO - Chain [1] done processing\n",
      "\n",
      "\n",
      " 99%|██████████████████████████████████████████▍| 74/75 [01:47<00:01,  1.32s/it]\u001b[A\u001b[A"
     ]
    },
    {
     "data": {
      "application/vnd.jupyter.widget-view+json": {
       "model_id": "cc45608b7615471599333507a2065499",
       "version_major": 2,
       "version_minor": 0
      },
      "text/plain": [
       "  0%|          | 0/1 [00:00<?, ?it/s]"
      ]
     },
     "metadata": {},
     "output_type": "display_data"
    },
    {
     "name": "stderr",
     "output_type": "stream",
     "text": [
      "15:03:18 - cmdstanpy - INFO - Chain [1] start processing\n",
      "15:03:18 - cmdstanpy - INFO - Chain [1] done processing\n",
      "\n",
      "\n",
      "100%|███████████████████████████████████████████| 75/75 [01:49<00:00,  1.46s/it]\u001b[A\u001b[A\n"
     ]
    }
   ],
   "source": [
    "metrics = [get_metrics(m) for m in tqdm(models)]"
   ]
  },
  {
   "cell_type": "code",
   "execution_count": 95,
   "id": "6ec4406d",
   "metadata": {
    "ExecuteTime": {
     "end_time": "2023-07-25T14:03:19.762074Z",
     "start_time": "2023-07-25T14:03:19.733870Z"
    }
   },
   "outputs": [
    {
     "name": "stdout",
     "output_type": "stream",
     "text": [
      "Argentina|Kaggle Learn|Using LLMs to Improve Your Coding 9.62 | 4.33\n",
      "Argentina|Kaggle Learn|Using LLMs to Train More LLMs 11.96 | 4.94\n",
      "Argentina|Kaggle Learn|Using LLMs to Win Friends and Influence People 12.69 | 0.79\n",
      "Argentina|Kaggle Learn|Using LLMs to Win More Kaggle Competitions 10.47 | 4.38\n",
      "Argentina|Kaggle Learn|Using LLMs to Write Better 20.49 | 5.56\n",
      "Argentina|Kaggle Store|Using LLMs to Improve Your Coding 12.80 | 7.76\n",
      "Argentina|Kaggle Store|Using LLMs to Train More LLMs 15.71 | 8.76\n",
      "Argentina|Kaggle Store|Using LLMs to Win Friends and Influence People 12.59 | 1.24\n",
      "Argentina|Kaggle Store|Using LLMs to Win More Kaggle Competitions 8.62 | 5.43\n",
      "Argentina|Kaggle Store|Using LLMs to Write Better 18.84 | 7.96\n",
      "Argentina|Kagglazon|Using LLMs to Improve Your Coding 11.42 | 26.29\n",
      "Argentina|Kagglazon|Using LLMs to Train More LLMs 21.82 | 41.81\n",
      "Argentina|Kagglazon|Using LLMs to Win Friends and Influence People 10.05 | 4.19\n",
      "Argentina|Kagglazon|Using LLMs to Win More Kaggle Competitions 8.05 | 19.25\n",
      "Argentina|Kagglazon|Using LLMs to Write Better 15.81 | 25.36\n",
      "Canada|Kaggle Learn|Using LLMs to Improve Your Coding 16.26 | 28.27\n",
      "Canada|Kaggle Learn|Using LLMs to Train More LLMs 20.10 | 35.83\n",
      "Canada|Kaggle Learn|Using LLMs to Win Friends and Influence People 20.40 | 5.53\n",
      "Canada|Kaggle Learn|Using LLMs to Win More Kaggle Competitions 17.76 | 32.23\n",
      "Canada|Kaggle Learn|Using LLMs to Write Better 14.46 | 19.85\n",
      "Canada|Kaggle Store|Using LLMs to Improve Your Coding 17.37 | 51.27\n",
      "Canada|Kaggle Store|Using LLMs to Train More LLMs 16.91 | 47.05\n",
      "Canada|Kaggle Store|Using LLMs to Win Friends and Influence People 19.75 | 8.93\n",
      "Canada|Kaggle Store|Using LLMs to Win More Kaggle Competitions 15.72 | 41.17\n",
      "Canada|Kaggle Store|Using LLMs to Write Better 15.19 | 31.18\n",
      "Canada|Kagglazon|Using LLMs to Improve Your Coding 17.24 | 179.11\n",
      "Canada|Kagglazon|Using LLMs to Train More LLMs 19.55 | 196.11\n",
      "Canada|Kagglazon|Using LLMs to Win Friends and Influence People 17.15 | 27.99\n",
      "Canada|Kagglazon|Using LLMs to Win More Kaggle Competitions 16.78 | 159.22\n",
      "Canada|Kagglazon|Using LLMs to Write Better 15.81 | 118.06\n",
      "Estonia|Kaggle Learn|Using LLMs to Improve Your Coding 22.02 | 20.30\n",
      "Estonia|Kaggle Learn|Using LLMs to Train More LLMs 24.83 | 21.49\n",
      "Estonia|Kaggle Learn|Using LLMs to Win Friends and Influence People 26.06 | 3.67\n",
      "Estonia|Kaggle Learn|Using LLMs to Win More Kaggle Competitions 23.12 | 19.13\n",
      "Estonia|Kaggle Learn|Using LLMs to Write Better 24.08 | 14.76\n",
      "Estonia|Kaggle Store|Using LLMs to Improve Your Coding 23.44 | 33.38\n",
      "Estonia|Kaggle Store|Using LLMs to Train More LLMs 23.23 | 32.71\n",
      "Estonia|Kaggle Store|Using LLMs to Win Friends and Influence People 25.88 | 5.46\n",
      "Estonia|Kaggle Store|Using LLMs to Win More Kaggle Competitions 21.91 | 28.34\n",
      "Estonia|Kaggle Store|Using LLMs to Write Better 20.13 | 18.76\n",
      "Estonia|Kagglazon|Using LLMs to Improve Your Coding 22.10 | 117.85\n",
      "Estonia|Kagglazon|Using LLMs to Train More LLMs 23.48 | 116.32\n",
      "Estonia|Kagglazon|Using LLMs to Win Friends and Influence People 23.64 | 18.72\n",
      "Estonia|Kagglazon|Using LLMs to Win More Kaggle Competitions 21.90 | 108.61\n",
      "Estonia|Kagglazon|Using LLMs to Write Better 20.07 | 73.57\n",
      "Japan|Kaggle Learn|Using LLMs to Improve Your Coding 8.59 | 11.19\n",
      "Japan|Kaggle Learn|Using LLMs to Train More LLMs 6.08 | 8.64\n",
      "Japan|Kaggle Learn|Using LLMs to Win Friends and Influence People 5.13 | 1.06\n",
      "Japan|Kaggle Learn|Using LLMs to Win More Kaggle Competitions 5.52 | 7.36\n",
      "Japan|Kaggle Learn|Using LLMs to Write Better 4.78 | 4.28\n",
      "Japan|Kaggle Store|Using LLMs to Improve Your Coding 6.15 | 13.13\n",
      "Japan|Kaggle Store|Using LLMs to Train More LLMs 5.69 | 11.93\n",
      "Japan|Kaggle Store|Using LLMs to Win Friends and Influence People 6.40 | 2.21\n",
      "Japan|Kaggle Store|Using LLMs to Win More Kaggle Competitions 6.41 | 11.65\n",
      "Japan|Kaggle Store|Using LLMs to Write Better 3.97 | 5.94\n",
      "Japan|Kagglazon|Using LLMs to Improve Your Coding 5.41 | 43.78\n",
      "Japan|Kagglazon|Using LLMs to Train More LLMs 6.01 | 47.69\n",
      "Japan|Kagglazon|Using LLMs to Win Friends and Influence People 6.70 | 8.46\n",
      "Japan|Kagglazon|Using LLMs to Win More Kaggle Competitions 5.74 | 45.46\n",
      "Japan|Kagglazon|Using LLMs to Write Better 4.28 | 24.48\n",
      "Spain|Kaggle Learn|Using LLMs to Improve Your Coding 8.62 | 11.22\n",
      "Spain|Kaggle Learn|Using LLMs to Train More LLMs 11.63 | 14.89\n",
      "Spain|Kaggle Learn|Using LLMs to Win Friends and Influence People 12.08 | 2.33\n",
      "Spain|Kaggle Learn|Using LLMs to Win More Kaggle Competitions 8.00 | 10.33\n",
      "Spain|Kaggle Learn|Using LLMs to Write Better 8.59 | 7.98\n",
      "Spain|Kaggle Store|Using LLMs to Improve Your Coding 8.35 | 16.72\n",
      "Spain|Kaggle Store|Using LLMs to Train More LLMs 10.19 | 19.62\n",
      "Spain|Kaggle Store|Using LLMs to Win Friends and Influence People 9.44 | 3.04\n",
      "Spain|Kaggle Store|Using LLMs to Win More Kaggle Competitions 7.75 | 13.33\n",
      "Spain|Kaggle Store|Using LLMs to Write Better 8.20 | 11.13\n",
      "Spain|Kagglazon|Using LLMs to Improve Your Coding 8.18 | 67.06\n",
      "Spain|Kagglazon|Using LLMs to Train More LLMs 10.41 | 71.94\n",
      "Spain|Kagglazon|Using LLMs to Win Friends and Influence People 10.16 | 11.41\n",
      "Spain|Kagglazon|Using LLMs to Win More Kaggle Competitions 7.83 | 51.78\n",
      "Spain|Kagglazon|Using LLMs to Write Better 7.81 | 41.94\n"
     ]
    }
   ],
   "source": [
    "for i, comb in enumerate(train_df.comb.unique(), 0):\n",
    "    print(comb, f'{metrics[i][1] * 100:.2f}', '|', f'{metrics[i][0]:.2f}')"
   ]
  },
  {
   "cell_type": "code",
   "execution_count": 96,
   "id": "5db3f7a9",
   "metadata": {
    "ExecuteTime": {
     "end_time": "2023-07-25T14:03:19.770155Z",
     "start_time": "2023-07-25T14:03:19.765181Z"
    }
   },
   "outputs": [
    {
     "name": "stdout",
     "output_type": "stream",
     "text": [
      "Average SMAPE: 13.75178\n",
      "Average RMSE: 31.80\n"
     ]
    }
   ],
   "source": [
    "print(f'Average SMAPE: {np.mean([m[1] for m in metrics]) * 100:.5f}')\n",
    "print(f'Average RMSE: {np.mean([m[0] for m in metrics]):.2f}')"
   ]
  },
  {
   "cell_type": "markdown",
   "id": "954fa750",
   "metadata": {},
   "source": [
    "## Submission"
   ]
  },
  {
   "cell_type": "code",
   "execution_count": 97,
   "id": "f9583c9a",
   "metadata": {
    "ExecuteTime": {
     "end_time": "2023-07-25T14:06:41.223419Z",
     "start_time": "2023-07-25T14:06:41.099503Z"
    }
   },
   "outputs": [
    {
     "data": {
      "text/html": [
       "<div>\n",
       "<style scoped>\n",
       "    .dataframe tbody tr th:only-of-type {\n",
       "        vertical-align: middle;\n",
       "    }\n",
       "\n",
       "    .dataframe tbody tr th {\n",
       "        vertical-align: top;\n",
       "    }\n",
       "\n",
       "    .dataframe thead th {\n",
       "        text-align: right;\n",
       "    }\n",
       "</style>\n",
       "<table border=\"1\" class=\"dataframe\">\n",
       "  <thead>\n",
       "    <tr style=\"text-align: right;\">\n",
       "      <th></th>\n",
       "      <th>date</th>\n",
       "      <th>comb</th>\n",
       "      <th>num_sold</th>\n",
       "      <th>yhat_upper</th>\n",
       "      <th>yhat_lower</th>\n",
       "    </tr>\n",
       "  </thead>\n",
       "  <tbody>\n",
       "    <tr>\n",
       "      <th>1826</th>\n",
       "      <td>2022-01-01</td>\n",
       "      <td>Argentina|Kaggle Learn|Using LLMs to Improve Y...</td>\n",
       "      <td>31.265978</td>\n",
       "      <td>34.35245</td>\n",
       "      <td>27.963169</td>\n",
       "    </tr>\n",
       "  </tbody>\n",
       "</table>\n",
       "</div>"
      ],
      "text/plain": [
       "            date                                               comb  \\\n",
       "1826  2022-01-01  Argentina|Kaggle Learn|Using LLMs to Improve Y...   \n",
       "\n",
       "       num_sold  yhat_upper  yhat_lower  \n",
       "1826  31.265978    34.35245   27.963169  "
      ]
     },
     "execution_count": 97,
     "metadata": {},
     "output_type": "execute_result"
    }
   ],
   "source": [
    "subs = preds[preds.ds > train_df.ds.max()]\n",
    "subs = subs.rename(columns={'ds': 'date',\n",
    "                            'yhat': 'num_sold'})\n",
    "subs['date'] = subs['date'].apply(str).apply(lambda x: x.split(' ')[0])\n",
    "subs.head(1)"
   ]
  },
  {
   "cell_type": "code",
   "execution_count": 98,
   "id": "b904e9bd",
   "metadata": {
    "ExecuteTime": {
     "end_time": "2023-07-25T14:06:41.647274Z",
     "start_time": "2023-07-25T14:06:41.359301Z"
    }
   },
   "outputs": [
    {
     "data": {
      "text/html": [
       "<div>\n",
       "<style scoped>\n",
       "    .dataframe tbody tr th:only-of-type {\n",
       "        vertical-align: middle;\n",
       "    }\n",
       "\n",
       "    .dataframe tbody tr th {\n",
       "        vertical-align: top;\n",
       "    }\n",
       "\n",
       "    .dataframe thead th {\n",
       "        text-align: right;\n",
       "    }\n",
       "</style>\n",
       "<table border=\"1\" class=\"dataframe\">\n",
       "  <thead>\n",
       "    <tr style=\"text-align: right;\">\n",
       "      <th></th>\n",
       "      <th>id</th>\n",
       "      <th>date</th>\n",
       "      <th>country</th>\n",
       "      <th>store</th>\n",
       "      <th>product</th>\n",
       "      <th>comb</th>\n",
       "    </tr>\n",
       "  </thead>\n",
       "  <tbody>\n",
       "    <tr>\n",
       "      <th>0</th>\n",
       "      <td>136950</td>\n",
       "      <td>2022-01-01</td>\n",
       "      <td>Argentina</td>\n",
       "      <td>Kaggle Learn</td>\n",
       "      <td>Using LLMs to Improve Your Coding</td>\n",
       "      <td>Argentina|Kaggle Learn|Using LLMs to Improve Y...</td>\n",
       "    </tr>\n",
       "  </tbody>\n",
       "</table>\n",
       "</div>"
      ],
      "text/plain": [
       "       id        date    country         store  \\\n",
       "0  136950  2022-01-01  Argentina  Kaggle Learn   \n",
       "\n",
       "                             product  \\\n",
       "0  Using LLMs to Improve Your Coding   \n",
       "\n",
       "                                                comb  \n",
       "0  Argentina|Kaggle Learn|Using LLMs to Improve Y...  "
      ]
     },
     "execution_count": 98,
     "metadata": {},
     "output_type": "execute_result"
    }
   ],
   "source": [
    "test_df['comb'] = test_df[cats].apply(lambda x: '|'.join(list(x)), \n",
    "                                      axis=1)\n",
    "test_df.head(1)"
   ]
  },
  {
   "cell_type": "code",
   "execution_count": 99,
   "id": "aeb780ee",
   "metadata": {
    "ExecuteTime": {
     "end_time": "2023-07-25T14:06:42.438305Z",
     "start_time": "2023-07-25T14:06:42.393427Z"
    }
   },
   "outputs": [
    {
     "data": {
      "text/html": [
       "<div>\n",
       "<style scoped>\n",
       "    .dataframe tbody tr th:only-of-type {\n",
       "        vertical-align: middle;\n",
       "    }\n",
       "\n",
       "    .dataframe tbody tr th {\n",
       "        vertical-align: top;\n",
       "    }\n",
       "\n",
       "    .dataframe thead th {\n",
       "        text-align: right;\n",
       "    }\n",
       "</style>\n",
       "<table border=\"1\" class=\"dataframe\">\n",
       "  <thead>\n",
       "    <tr style=\"text-align: right;\">\n",
       "      <th></th>\n",
       "      <th>id</th>\n",
       "      <th>date</th>\n",
       "      <th>country</th>\n",
       "      <th>store</th>\n",
       "      <th>product</th>\n",
       "      <th>comb</th>\n",
       "      <th>num_sold</th>\n",
       "      <th>yhat_upper</th>\n",
       "      <th>yhat_lower</th>\n",
       "    </tr>\n",
       "  </thead>\n",
       "  <tbody>\n",
       "    <tr>\n",
       "      <th>0</th>\n",
       "      <td>136950</td>\n",
       "      <td>2022-01-01</td>\n",
       "      <td>Argentina</td>\n",
       "      <td>Kaggle Learn</td>\n",
       "      <td>Using LLMs to Improve Your Coding</td>\n",
       "      <td>Argentina|Kaggle Learn|Using LLMs to Improve Y...</td>\n",
       "      <td>31.265978</td>\n",
       "      <td>34.35245</td>\n",
       "      <td>27.963169</td>\n",
       "    </tr>\n",
       "  </tbody>\n",
       "</table>\n",
       "</div>"
      ],
      "text/plain": [
       "       id        date    country         store  \\\n",
       "0  136950  2022-01-01  Argentina  Kaggle Learn   \n",
       "\n",
       "                             product  \\\n",
       "0  Using LLMs to Improve Your Coding   \n",
       "\n",
       "                                                comb   num_sold  yhat_upper  \\\n",
       "0  Argentina|Kaggle Learn|Using LLMs to Improve Y...  31.265978    34.35245   \n",
       "\n",
       "   yhat_lower  \n",
       "0   27.963169  "
      ]
     },
     "execution_count": 99,
     "metadata": {},
     "output_type": "execute_result"
    }
   ],
   "source": [
    "test_df = test_df.merge(subs, how='left', on=['date', 'comb'])\n",
    "test_df.head(1)"
   ]
  },
  {
   "cell_type": "code",
   "execution_count": 100,
   "id": "90541aaa",
   "metadata": {
    "ExecuteTime": {
     "end_time": "2023-07-25T14:06:44.895951Z",
     "start_time": "2023-07-25T14:06:44.892808Z"
    }
   },
   "outputs": [],
   "source": [
    "# test_df[['id', 'num_sold']].to_csv('subs/sub_5_sm.csv', index=False)"
   ]
  },
  {
   "cell_type": "code",
   "execution_count": null,
   "id": "dbd09b0d",
   "metadata": {},
   "outputs": [],
   "source": []
  }
 ],
 "metadata": {
  "kernelspec": {
   "display_name": "Python 3 (ipykernel)",
   "language": "python",
   "name": "python3"
  },
  "language_info": {
   "codemirror_mode": {
    "name": "ipython",
    "version": 3
   },
   "file_extension": ".py",
   "mimetype": "text/x-python",
   "name": "python",
   "nbconvert_exporter": "python",
   "pygments_lexer": "ipython3",
   "version": "3.8.17"
  }
 },
 "nbformat": 4,
 "nbformat_minor": 5
}
