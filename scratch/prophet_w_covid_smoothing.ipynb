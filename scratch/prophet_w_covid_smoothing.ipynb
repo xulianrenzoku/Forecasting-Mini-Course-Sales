{
 "cells": [
  {
   "cell_type": "code",
   "execution_count": 1,
   "id": "e98fb2db",
   "metadata": {
    "ExecuteTime": {
     "end_time": "2023-07-25T12:35:56.473588Z",
     "start_time": "2023-07-25T12:35:54.431638Z"
    }
   },
   "outputs": [],
   "source": [
    "import os\n",
    "import numpy as np\n",
    "import pandas as pd\n",
    "import matplotlib.pyplot as plt\n",
    "import matplotlib.dates as mdates\n",
    "import seaborn as sns\n",
    "from IPython.core.pylabtools import figsize\n",
    "from tqdm import tqdm"
   ]
  },
  {
   "cell_type": "code",
   "execution_count": 2,
   "id": "5b77763e",
   "metadata": {
    "ExecuteTime": {
     "end_time": "2023-07-25T12:35:56.743507Z",
     "start_time": "2023-07-25T12:35:56.475758Z"
    }
   },
   "outputs": [],
   "source": [
    "import holidays\n",
    "from prophet import Prophet\n",
    "from prophet.diagnostics import cross_validation\n",
    "from prophet.diagnostics import performance_metrics"
   ]
  },
  {
   "cell_type": "code",
   "execution_count": 3,
   "id": "e0cdc14e",
   "metadata": {
    "ExecuteTime": {
     "end_time": "2023-07-25T12:35:56.751859Z",
     "start_time": "2023-07-25T12:35:56.747591Z"
    }
   },
   "outputs": [],
   "source": [
    "import warnings\n",
    "warnings.filterwarnings('ignore')"
   ]
  },
  {
   "cell_type": "code",
   "execution_count": 4,
   "id": "5569f62d",
   "metadata": {
    "ExecuteTime": {
     "end_time": "2023-07-25T12:35:56.757563Z",
     "start_time": "2023-07-25T12:35:56.754223Z"
    }
   },
   "outputs": [],
   "source": [
    "# sns.set()"
   ]
  },
  {
   "cell_type": "markdown",
   "id": "19d5f201",
   "metadata": {},
   "source": [
    "## Read Data"
   ]
  },
  {
   "cell_type": "code",
   "execution_count": 5,
   "id": "ab94bdc6",
   "metadata": {
    "ExecuteTime": {
     "end_time": "2023-07-25T12:35:56.788342Z",
     "start_time": "2023-07-25T12:35:56.778380Z"
    }
   },
   "outputs": [
    {
     "data": {
      "text/plain": [
       "['test.csv', 'train.csv', 'sample_submission.csv']"
      ]
     },
     "execution_count": 5,
     "metadata": {},
     "output_type": "execute_result"
    }
   ],
   "source": [
    "os.listdir('input')"
   ]
  },
  {
   "cell_type": "code",
   "execution_count": 6,
   "id": "45c9e915",
   "metadata": {
    "ExecuteTime": {
     "end_time": "2023-07-25T12:35:56.969402Z",
     "start_time": "2023-07-25T12:35:56.791532Z"
    }
   },
   "outputs": [
    {
     "name": "stdout",
     "output_type": "stream",
     "text": [
      "(136950, 6)\n"
     ]
    },
    {
     "data": {
      "text/html": [
       "<div>\n",
       "<style scoped>\n",
       "    .dataframe tbody tr th:only-of-type {\n",
       "        vertical-align: middle;\n",
       "    }\n",
       "\n",
       "    .dataframe tbody tr th {\n",
       "        vertical-align: top;\n",
       "    }\n",
       "\n",
       "    .dataframe thead th {\n",
       "        text-align: right;\n",
       "    }\n",
       "</style>\n",
       "<table border=\"1\" class=\"dataframe\">\n",
       "  <thead>\n",
       "    <tr style=\"text-align: right;\">\n",
       "      <th></th>\n",
       "      <th>id</th>\n",
       "      <th>date</th>\n",
       "      <th>country</th>\n",
       "      <th>store</th>\n",
       "      <th>product</th>\n",
       "      <th>num_sold</th>\n",
       "    </tr>\n",
       "  </thead>\n",
       "  <tbody>\n",
       "    <tr>\n",
       "      <th>0</th>\n",
       "      <td>0</td>\n",
       "      <td>2017-01-01</td>\n",
       "      <td>Argentina</td>\n",
       "      <td>Kaggle Learn</td>\n",
       "      <td>Using LLMs to Improve Your Coding</td>\n",
       "      <td>63</td>\n",
       "    </tr>\n",
       "  </tbody>\n",
       "</table>\n",
       "</div>"
      ],
      "text/plain": [
       "   id        date    country         store                            product  \\\n",
       "0   0  2017-01-01  Argentina  Kaggle Learn  Using LLMs to Improve Your Coding   \n",
       "\n",
       "   num_sold  \n",
       "0        63  "
      ]
     },
     "execution_count": 6,
     "metadata": {},
     "output_type": "execute_result"
    }
   ],
   "source": [
    "train_df = pd.read_csv('input/train.csv')\n",
    "print(train_df.shape)\n",
    "train_df.head(1)"
   ]
  },
  {
   "cell_type": "code",
   "execution_count": 7,
   "id": "63695519",
   "metadata": {
    "ExecuteTime": {
     "end_time": "2023-07-25T12:35:57.030602Z",
     "start_time": "2023-07-25T12:35:56.972438Z"
    }
   },
   "outputs": [
    {
     "data": {
      "text/plain": [
       "(27375, 5)"
      ]
     },
     "execution_count": 7,
     "metadata": {},
     "output_type": "execute_result"
    }
   ],
   "source": [
    "test_df = pd.read_csv('input/test.csv')\n",
    "test_df.shape"
   ]
  },
  {
   "cell_type": "code",
   "execution_count": 8,
   "id": "eb6b79b5",
   "metadata": {
    "ExecuteTime": {
     "end_time": "2023-07-25T12:35:57.063857Z",
     "start_time": "2023-07-25T12:35:57.037723Z"
    }
   },
   "outputs": [
    {
     "name": "stdout",
     "output_type": "stream",
     "text": [
      "(27375, 2)\n"
     ]
    },
    {
     "data": {
      "text/html": [
       "<div>\n",
       "<style scoped>\n",
       "    .dataframe tbody tr th:only-of-type {\n",
       "        vertical-align: middle;\n",
       "    }\n",
       "\n",
       "    .dataframe tbody tr th {\n",
       "        vertical-align: top;\n",
       "    }\n",
       "\n",
       "    .dataframe thead th {\n",
       "        text-align: right;\n",
       "    }\n",
       "</style>\n",
       "<table border=\"1\" class=\"dataframe\">\n",
       "  <thead>\n",
       "    <tr style=\"text-align: right;\">\n",
       "      <th></th>\n",
       "      <th>id</th>\n",
       "      <th>num_sold</th>\n",
       "    </tr>\n",
       "  </thead>\n",
       "  <tbody>\n",
       "    <tr>\n",
       "      <th>0</th>\n",
       "      <td>136950</td>\n",
       "      <td>100</td>\n",
       "    </tr>\n",
       "  </tbody>\n",
       "</table>\n",
       "</div>"
      ],
      "text/plain": [
       "       id  num_sold\n",
       "0  136950       100"
      ]
     },
     "execution_count": 8,
     "metadata": {},
     "output_type": "execute_result"
    }
   ],
   "source": [
    "sample_sub = pd.read_csv('input/sample_submission.csv')\n",
    "print(sample_sub.shape)\n",
    "sample_sub.head(1)"
   ]
  },
  {
   "cell_type": "markdown",
   "id": "6b2a74d4",
   "metadata": {},
   "source": [
    "## Get Holidays"
   ]
  },
  {
   "cell_type": "code",
   "execution_count": 9,
   "id": "bf6cf1a1",
   "metadata": {
    "ExecuteTime": {
     "end_time": "2023-07-25T12:35:57.084052Z",
     "start_time": "2023-07-25T12:35:57.068968Z"
    }
   },
   "outputs": [
    {
     "data": {
      "text/plain": [
       "array(['Argentina', 'Canada', 'Estonia', 'Japan', 'Spain'], dtype=object)"
      ]
     },
     "execution_count": 9,
     "metadata": {},
     "output_type": "execute_result"
    }
   ],
   "source": [
    "train_df.country.unique()"
   ]
  },
  {
   "cell_type": "code",
   "execution_count": 10,
   "id": "021f9fa8",
   "metadata": {
    "ExecuteTime": {
     "end_time": "2023-07-25T12:35:57.110830Z",
     "start_time": "2023-07-25T12:35:57.087408Z"
    }
   },
   "outputs": [
    {
     "data": {
      "text/plain": [
       "('2017-01-01', '2022-12-31')"
      ]
     },
     "execution_count": 10,
     "metadata": {},
     "output_type": "execute_result"
    }
   ],
   "source": [
    "start_date = train_df.date.min()\n",
    "end_date = test_df.date.max()\n",
    "start_date, end_date"
   ]
  },
  {
   "cell_type": "code",
   "execution_count": 11,
   "id": "c8736670",
   "metadata": {
    "ExecuteTime": {
     "end_time": "2023-07-25T12:35:57.129447Z",
     "start_time": "2023-07-25T12:35:57.124071Z"
    }
   },
   "outputs": [],
   "source": [
    "def get_national_holidays(country,\n",
    "                          start_date=start_date,\n",
    "                          end_date=end_date):\n",
    "    holidays_days = holidays.CountryHoliday(country)\n",
    "    date_range = pd.date_range(start_date, end_date)\n",
    "    return [date for date in date_range\n",
    "            if date in holidays_days]"
   ]
  },
  {
   "cell_type": "code",
   "execution_count": 12,
   "id": "4ce739fe",
   "metadata": {
    "ExecuteTime": {
     "end_time": "2023-07-25T12:35:57.142408Z",
     "start_time": "2023-07-25T12:35:57.133890Z"
    }
   },
   "outputs": [],
   "source": [
    "common_holidays = pd.DataFrame({\n",
    "    'ds': pd.to_datetime(['2017-04-16','2017-12-24', '2017-12-25', '2017-12-26', '2017-12-27', '2017-12-28', '2017-12-29', '2017-12-30', '2017-12-31',\n",
    "                          '2018-04-01','2018-12-24', '2018-12-25', '2018-12-26', '2018-12-27', '2018-12-28', '2018-12-29', '2018-12-30', '2018-12-31',\n",
    "                          '2019-04-21','2019-12-24', '2019-12-25', '2019-12-26', '2019-12-27', '2019-12-28', '2019-12-29', '2019-12-30', '2019-12-31',\n",
    "                          '2020-04-12','2020-12-24', '2020-12-25', '2020-12-26', '2020-12-27', '2020-12-28', '2020-12-29', '2020-12-30', '2020-12-31',\n",
    "                          '2021-04-04','2021-12-24', '2021-12-25', '2021-12-26', '2021-12-27', '2021-12-28', '2021-12-29', '2021-12-30', '2021-12-31',\n",
    "                          '2022-04-17','2022-12-24', '2022-12-25', '2022-12-26', '2022-12-27', '2022-12-28', '2022-12-29', '2022-12-30', '2022-12-31']),\n",
    "    'holiday': 'Holiday Season'\n",
    "    })"
   ]
  },
  {
   "cell_type": "code",
   "execution_count": 13,
   "id": "eac489f6",
   "metadata": {
    "ExecuteTime": {
     "end_time": "2023-07-25T12:35:57.280780Z",
     "start_time": "2023-07-25T12:35:57.145089Z"
    }
   },
   "outputs": [
    {
     "data": {
      "text/html": [
       "<div>\n",
       "<style scoped>\n",
       "    .dataframe tbody tr th:only-of-type {\n",
       "        vertical-align: middle;\n",
       "    }\n",
       "\n",
       "    .dataframe tbody tr th {\n",
       "        vertical-align: top;\n",
       "    }\n",
       "\n",
       "    .dataframe thead th {\n",
       "        text-align: right;\n",
       "    }\n",
       "</style>\n",
       "<table border=\"1\" class=\"dataframe\">\n",
       "  <thead>\n",
       "    <tr style=\"text-align: right;\">\n",
       "      <th></th>\n",
       "      <th>holiday</th>\n",
       "      <th>ds</th>\n",
       "    </tr>\n",
       "  </thead>\n",
       "  <tbody>\n",
       "    <tr>\n",
       "      <th>0</th>\n",
       "      <td>Japan</td>\n",
       "      <td>2017-01-01</td>\n",
       "    </tr>\n",
       "    <tr>\n",
       "      <th>1</th>\n",
       "      <td>Japan</td>\n",
       "      <td>2017-01-02</td>\n",
       "    </tr>\n",
       "    <tr>\n",
       "      <th>2</th>\n",
       "      <td>Japan</td>\n",
       "      <td>2017-01-09</td>\n",
       "    </tr>\n",
       "    <tr>\n",
       "      <th>3</th>\n",
       "      <td>Japan</td>\n",
       "      <td>2017-02-11</td>\n",
       "    </tr>\n",
       "    <tr>\n",
       "      <th>4</th>\n",
       "      <td>Japan</td>\n",
       "      <td>2017-03-20</td>\n",
       "    </tr>\n",
       "    <tr>\n",
       "      <th>...</th>\n",
       "      <td>...</td>\n",
       "      <td>...</td>\n",
       "    </tr>\n",
       "    <tr>\n",
       "      <th>105</th>\n",
       "      <td>Japan</td>\n",
       "      <td>2022-09-19</td>\n",
       "    </tr>\n",
       "    <tr>\n",
       "      <th>106</th>\n",
       "      <td>Japan</td>\n",
       "      <td>2022-09-23</td>\n",
       "    </tr>\n",
       "    <tr>\n",
       "      <th>107</th>\n",
       "      <td>Japan</td>\n",
       "      <td>2022-10-10</td>\n",
       "    </tr>\n",
       "    <tr>\n",
       "      <th>108</th>\n",
       "      <td>Japan</td>\n",
       "      <td>2022-11-03</td>\n",
       "    </tr>\n",
       "    <tr>\n",
       "      <th>109</th>\n",
       "      <td>Japan</td>\n",
       "      <td>2022-11-23</td>\n",
       "    </tr>\n",
       "  </tbody>\n",
       "</table>\n",
       "<p>110 rows × 2 columns</p>\n",
       "</div>"
      ],
      "text/plain": [
       "    holiday         ds\n",
       "0     Japan 2017-01-01\n",
       "1     Japan 2017-01-02\n",
       "2     Japan 2017-01-09\n",
       "3     Japan 2017-02-11\n",
       "4     Japan 2017-03-20\n",
       "..      ...        ...\n",
       "105   Japan 2022-09-19\n",
       "106   Japan 2022-09-23\n",
       "107   Japan 2022-10-10\n",
       "108   Japan 2022-11-03\n",
       "109   Japan 2022-11-23\n",
       "\n",
       "[110 rows x 2 columns]"
      ]
     },
     "execution_count": 13,
     "metadata": {},
     "output_type": "execute_result"
    }
   ],
   "source": [
    "country_holiday_dict = {country: pd.DataFrame({\n",
    "    'holiday': country,\n",
    "    'ds': pd.to_datetime(get_national_holidays(country))})\n",
    "                        for country in train_df.country.unique()}\n",
    "\n",
    "country_holiday_dict['Japan']"
   ]
  },
  {
   "cell_type": "code",
   "execution_count": 14,
   "id": "15c16426",
   "metadata": {
    "ExecuteTime": {
     "end_time": "2023-07-25T12:35:57.300254Z",
     "start_time": "2023-07-25T12:35:57.283728Z"
    }
   },
   "outputs": [
    {
     "data": {
      "text/html": [
       "<div>\n",
       "<style scoped>\n",
       "    .dataframe tbody tr th:only-of-type {\n",
       "        vertical-align: middle;\n",
       "    }\n",
       "\n",
       "    .dataframe tbody tr th {\n",
       "        vertical-align: top;\n",
       "    }\n",
       "\n",
       "    .dataframe thead th {\n",
       "        text-align: right;\n",
       "    }\n",
       "</style>\n",
       "<table border=\"1\" class=\"dataframe\">\n",
       "  <thead>\n",
       "    <tr style=\"text-align: right;\">\n",
       "      <th></th>\n",
       "      <th>holiday</th>\n",
       "      <th>ds</th>\n",
       "    </tr>\n",
       "  </thead>\n",
       "  <tbody>\n",
       "    <tr>\n",
       "      <th>0</th>\n",
       "      <td>Japan</td>\n",
       "      <td>2017-01-01</td>\n",
       "    </tr>\n",
       "    <tr>\n",
       "      <th>1</th>\n",
       "      <td>Japan</td>\n",
       "      <td>2017-01-02</td>\n",
       "    </tr>\n",
       "    <tr>\n",
       "      <th>2</th>\n",
       "      <td>Japan</td>\n",
       "      <td>2017-01-09</td>\n",
       "    </tr>\n",
       "    <tr>\n",
       "      <th>3</th>\n",
       "      <td>Japan</td>\n",
       "      <td>2017-02-11</td>\n",
       "    </tr>\n",
       "    <tr>\n",
       "      <th>4</th>\n",
       "      <td>Japan</td>\n",
       "      <td>2017-03-20</td>\n",
       "    </tr>\n",
       "    <tr>\n",
       "      <th>...</th>\n",
       "      <td>...</td>\n",
       "      <td>...</td>\n",
       "    </tr>\n",
       "    <tr>\n",
       "      <th>49</th>\n",
       "      <td>Holiday Season</td>\n",
       "      <td>2022-12-27</td>\n",
       "    </tr>\n",
       "    <tr>\n",
       "      <th>50</th>\n",
       "      <td>Holiday Season</td>\n",
       "      <td>2022-12-28</td>\n",
       "    </tr>\n",
       "    <tr>\n",
       "      <th>51</th>\n",
       "      <td>Holiday Season</td>\n",
       "      <td>2022-12-29</td>\n",
       "    </tr>\n",
       "    <tr>\n",
       "      <th>52</th>\n",
       "      <td>Holiday Season</td>\n",
       "      <td>2022-12-30</td>\n",
       "    </tr>\n",
       "    <tr>\n",
       "      <th>53</th>\n",
       "      <td>Holiday Season</td>\n",
       "      <td>2022-12-31</td>\n",
       "    </tr>\n",
       "  </tbody>\n",
       "</table>\n",
       "<p>164 rows × 2 columns</p>\n",
       "</div>"
      ],
      "text/plain": [
       "           holiday         ds\n",
       "0            Japan 2017-01-01\n",
       "1            Japan 2017-01-02\n",
       "2            Japan 2017-01-09\n",
       "3            Japan 2017-02-11\n",
       "4            Japan 2017-03-20\n",
       "..             ...        ...\n",
       "49  Holiday Season 2022-12-27\n",
       "50  Holiday Season 2022-12-28\n",
       "51  Holiday Season 2022-12-29\n",
       "52  Holiday Season 2022-12-30\n",
       "53  Holiday Season 2022-12-31\n",
       "\n",
       "[164 rows x 2 columns]"
      ]
     },
     "execution_count": 14,
     "metadata": {},
     "output_type": "execute_result"
    }
   ],
   "source": [
    "for country in country_holiday_dict.keys():\n",
    "    temp = country_holiday_dict[country].copy()\n",
    "    temp = pd.concat([temp, common_holidays])\n",
    "    country_holiday_dict[country] = temp\n",
    "    \n",
    "country_holiday_dict['Japan']"
   ]
  },
  {
   "cell_type": "markdown",
   "id": "6e103bec",
   "metadata": {},
   "source": [
    "## Data Examination"
   ]
  },
  {
   "cell_type": "markdown",
   "id": "cfc4b463",
   "metadata": {},
   "source": [
    "### Column Check"
   ]
  },
  {
   "cell_type": "markdown",
   "id": "7557f827",
   "metadata": {},
   "source": [
    "#### No duplicate `id`"
   ]
  },
  {
   "cell_type": "code",
   "execution_count": 15,
   "id": "2a0985df",
   "metadata": {
    "ExecuteTime": {
     "end_time": "2023-07-25T12:35:57.325308Z",
     "start_time": "2023-07-25T12:35:57.308642Z"
    }
   },
   "outputs": [
    {
     "data": {
      "text/plain": [
       "((136950,), (27375,))"
      ]
     },
     "execution_count": 15,
     "metadata": {},
     "output_type": "execute_result"
    }
   ],
   "source": [
    "train_df.id.unique().shape, test_df.id.unique().shape"
   ]
  },
  {
   "cell_type": "markdown",
   "id": "a0000f87",
   "metadata": {},
   "source": [
    "#### No new `country` shows up in the test set"
   ]
  },
  {
   "cell_type": "code",
   "execution_count": 16,
   "id": "ba719fe3",
   "metadata": {
    "ExecuteTime": {
     "end_time": "2023-07-25T12:35:57.347831Z",
     "start_time": "2023-07-25T12:35:57.330911Z"
    }
   },
   "outputs": [
    {
     "data": {
      "text/plain": [
       "(array(['Argentina', 'Canada', 'Estonia', 'Japan', 'Spain'], dtype=object),\n",
       " array(['Argentina', 'Canada', 'Estonia', 'Japan', 'Spain'], dtype=object))"
      ]
     },
     "execution_count": 16,
     "metadata": {},
     "output_type": "execute_result"
    }
   ],
   "source": [
    "train_df.country.unique(), test_df.country.unique()"
   ]
  },
  {
   "cell_type": "markdown",
   "id": "4487ae60",
   "metadata": {},
   "source": [
    "#### No new `store` shows up in the test set"
   ]
  },
  {
   "cell_type": "code",
   "execution_count": 17,
   "id": "23150bca",
   "metadata": {
    "ExecuteTime": {
     "end_time": "2023-07-25T12:35:57.373682Z",
     "start_time": "2023-07-25T12:35:57.351720Z"
    }
   },
   "outputs": [
    {
     "data": {
      "text/plain": [
       "(array(['Kaggle Learn', 'Kaggle Store', 'Kagglazon'], dtype=object),\n",
       " array(['Kaggle Learn', 'Kaggle Store', 'Kagglazon'], dtype=object))"
      ]
     },
     "execution_count": 17,
     "metadata": {},
     "output_type": "execute_result"
    }
   ],
   "source": [
    "train_df.store.unique(), test_df.store.unique()"
   ]
  },
  {
   "cell_type": "markdown",
   "id": "a6060720",
   "metadata": {},
   "source": [
    "#### No new `product` shows up in the test set"
   ]
  },
  {
   "cell_type": "code",
   "execution_count": 18,
   "id": "f724da8b",
   "metadata": {
    "ExecuteTime": {
     "end_time": "2023-07-25T12:35:57.404744Z",
     "start_time": "2023-07-25T12:35:57.377509Z"
    }
   },
   "outputs": [
    {
     "data": {
      "text/plain": [
       "(array(['Using LLMs to Improve Your Coding',\n",
       "        'Using LLMs to Train More LLMs',\n",
       "        'Using LLMs to Win Friends and Influence People',\n",
       "        'Using LLMs to Win More Kaggle Competitions',\n",
       "        'Using LLMs to Write Better'], dtype=object),\n",
       " array(['Using LLMs to Improve Your Coding',\n",
       "        'Using LLMs to Train More LLMs',\n",
       "        'Using LLMs to Win Friends and Influence People',\n",
       "        'Using LLMs to Win More Kaggle Competitions',\n",
       "        'Using LLMs to Write Better'], dtype=object))"
      ]
     },
     "execution_count": 18,
     "metadata": {},
     "output_type": "execute_result"
    }
   ],
   "source": [
    "train_df['product'].unique(), test_df['product'].unique()"
   ]
  },
  {
   "cell_type": "markdown",
   "id": "8f52a91a",
   "metadata": {},
   "source": [
    "## EDA"
   ]
  },
  {
   "cell_type": "code",
   "execution_count": 19,
   "id": "f1286662",
   "metadata": {
    "ExecuteTime": {
     "end_time": "2023-07-25T12:35:57.412809Z",
     "start_time": "2023-07-25T12:35:57.407500Z"
    }
   },
   "outputs": [],
   "source": [
    "cats = ['country', 'store', 'product']\n",
    "# temp = train_df.copy()\n",
    "# temp['comb'] = temp[cats].apply(lambda x: '|'.join(list(x)), \n",
    "#                                 axis=1)\n",
    "# temp = temp.pivot(index='date', \n",
    "#                   columns='comb',\n",
    "#                   values='num_sold')\n",
    "# temp.head()"
   ]
  },
  {
   "cell_type": "code",
   "execution_count": 20,
   "id": "c1d5d78f",
   "metadata": {
    "ExecuteTime": {
     "end_time": "2023-07-25T12:35:57.427465Z",
     "start_time": "2023-07-25T12:35:57.423794Z"
    }
   },
   "outputs": [],
   "source": [
    "# figsize(12, 8)\n",
    "\n",
    "# fig, ax = plt.subplots(1, 1)\n",
    "\n",
    "# for col in temp.columns:\n",
    "#     if col.startswith('Canada|Kagglazon'):\n",
    "#         sns.lineplot(temp.index,\n",
    "#                      temp[col],\n",
    "#                      label=col)\n",
    "# plt.legend()\n",
    "\n",
    "# xticklabels = [x.get_text() for x in ax.get_xticklabels()]\n",
    "# xticks = []\n",
    "# xlabels = []\n",
    "# for i, label in enumerate(xticklabels, 0):\n",
    "#     if label.endswith('-01'):\n",
    "#         xlabels.append(label)\n",
    "#         xticks.append(i)\n",
    "        \n",
    "# _ = ax.set_xticks(xticks, xlabels, rotation=90)"
   ]
  },
  {
   "cell_type": "code",
   "execution_count": 21,
   "id": "a258d184",
   "metadata": {
    "ExecuteTime": {
     "end_time": "2023-07-25T12:35:57.500373Z",
     "start_time": "2023-07-25T12:35:57.432399Z"
    }
   },
   "outputs": [
    {
     "data": {
      "text/html": [
       "<div>\n",
       "<style scoped>\n",
       "    .dataframe tbody tr th:only-of-type {\n",
       "        vertical-align: middle;\n",
       "    }\n",
       "\n",
       "    .dataframe tbody tr th {\n",
       "        vertical-align: top;\n",
       "    }\n",
       "\n",
       "    .dataframe thead th {\n",
       "        text-align: right;\n",
       "    }\n",
       "</style>\n",
       "<table border=\"1\" class=\"dataframe\">\n",
       "  <thead>\n",
       "    <tr style=\"text-align: right;\">\n",
       "      <th>country</th>\n",
       "      <th>Argentina</th>\n",
       "      <th>Canada</th>\n",
       "      <th>Estonia</th>\n",
       "      <th>Japan</th>\n",
       "      <th>Spain</th>\n",
       "    </tr>\n",
       "    <tr>\n",
       "      <th>date</th>\n",
       "      <th></th>\n",
       "      <th></th>\n",
       "      <th></th>\n",
       "      <th></th>\n",
       "      <th></th>\n",
       "    </tr>\n",
       "  </thead>\n",
       "  <tbody>\n",
       "    <tr>\n",
       "      <th>2017-01-01</th>\n",
       "      <td>2011</td>\n",
       "      <td>6134</td>\n",
       "      <td>2772</td>\n",
       "      <td>5274</td>\n",
       "      <td>3895</td>\n",
       "    </tr>\n",
       "    <tr>\n",
       "      <th>2017-01-02</th>\n",
       "      <td>1487</td>\n",
       "      <td>5081</td>\n",
       "      <td>2062</td>\n",
       "      <td>3983</td>\n",
       "      <td>2950</td>\n",
       "    </tr>\n",
       "    <tr>\n",
       "      <th>2017-01-03</th>\n",
       "      <td>1448</td>\n",
       "      <td>5049</td>\n",
       "      <td>1984</td>\n",
       "      <td>3742</td>\n",
       "      <td>2816</td>\n",
       "    </tr>\n",
       "    <tr>\n",
       "      <th>2017-01-04</th>\n",
       "      <td>1357</td>\n",
       "      <td>4710</td>\n",
       "      <td>1985</td>\n",
       "      <td>3784</td>\n",
       "      <td>2680</td>\n",
       "    </tr>\n",
       "    <tr>\n",
       "      <th>2017-01-05</th>\n",
       "      <td>1316</td>\n",
       "      <td>4629</td>\n",
       "      <td>1920</td>\n",
       "      <td>3609</td>\n",
       "      <td>2609</td>\n",
       "    </tr>\n",
       "  </tbody>\n",
       "</table>\n",
       "</div>"
      ],
      "text/plain": [
       "country     Argentina  Canada  Estonia  Japan  Spain\n",
       "date                                                \n",
       "2017-01-01       2011    6134     2772   5274   3895\n",
       "2017-01-02       1487    5081     2062   3983   2950\n",
       "2017-01-03       1448    5049     1984   3742   2816\n",
       "2017-01-04       1357    4710     1985   3784   2680\n",
       "2017-01-05       1316    4629     1920   3609   2609"
      ]
     },
     "execution_count": 21,
     "metadata": {},
     "output_type": "execute_result"
    }
   ],
   "source": [
    "temp = train_df.copy()\n",
    "temp_gb = temp.groupby(['date', 'country'])[['num_sold']].sum().reset_index()\n",
    "temp_gb = temp_gb.pivot(index='date', columns='country', values='num_sold')\n",
    "temp_gb.head()"
   ]
  },
  {
   "cell_type": "code",
   "execution_count": 22,
   "id": "97ab22de",
   "metadata": {
    "ExecuteTime": {
     "end_time": "2023-07-25T12:36:01.531039Z",
     "start_time": "2023-07-25T12:35:57.502888Z"
    }
   },
   "outputs": [
    {
     "data": {
      "image/png": "[encoded data removed]",
      "text/plain": [
       "<Figure size 1200x800 with 1 Axes>"
      ]
     },
     "metadata": {},
     "output_type": "display_data"
    }
   ],
   "source": [
    "figsize(12, 8)\n",
    "\n",
    "fig, ax = plt.subplots(1, 1)\n",
    "\n",
    "for country in temp_gb.columns:\n",
    "    sns.lineplot(temp_gb.index, temp_gb[country], label=country)\n",
    "plt.legend()\n",
    "\n",
    "xticklabels = [x.get_text() for x in ax.get_xticklabels()]\n",
    "xticks = []\n",
    "xlabels = []\n",
    "for i, label in enumerate(xticklabels, 0):\n",
    "    if label.endswith('-01'):\n",
    "        xlabels.append(label)\n",
    "        xticks.append(i)\n",
    "        \n",
    "_ = ax.set_xticks(xticks, xlabels, rotation=90)"
   ]
  },
  {
   "cell_type": "markdown",
   "id": "fa899ecf",
   "metadata": {},
   "source": [
    "## Modeling (Covid Smoothing)"
   ]
  },
  {
   "cell_type": "markdown",
   "id": "5b3f01ea",
   "metadata": {},
   "source": [
    "### Pre-process"
   ]
  },
  {
   "cell_type": "code",
   "execution_count": 23,
   "id": "af36d37f",
   "metadata": {
    "ExecuteTime": {
     "end_time": "2023-07-25T12:36:01.581547Z",
     "start_time": "2023-07-25T12:36:01.534750Z"
    }
   },
   "outputs": [
    {
     "name": "stdout",
     "output_type": "stream",
     "text": [
      "2021-12-31 2019-12-31\n"
     ]
    }
   ],
   "source": [
    "pre_train_df = train_df.copy()\n",
    "pre_train_df = pre_train_df[pre_train_df.date < '2020-01-01']\n",
    "print(train_df.date.max(), pre_train_df.date.max())"
   ]
  },
  {
   "cell_type": "code",
   "execution_count": 24,
   "id": "e94bf2d7",
   "metadata": {
    "ExecuteTime": {
     "end_time": "2023-07-25T12:36:01.589526Z",
     "start_time": "2023-07-25T12:36:01.584742Z"
    }
   },
   "outputs": [],
   "source": [
    "def pre_process(df, cats=cats):\n",
    "    df['comb'] = df[cats].apply(lambda x: '|'.join(list(x)), axis=1)\n",
    "    df['y'] = df['num_sold']\n",
    "    df['ds'] = df['date']\n",
    "    groups_by_comb = df.groupby('comb')\n",
    "    print(len(groups_by_comb.groups.keys()))\n",
    "    \n",
    "    return df, groups_by_comb"
   ]
  },
  {
   "cell_type": "code",
   "execution_count": 25,
   "id": "84c0c8e3",
   "metadata": {
    "ExecuteTime": {
     "end_time": "2023-07-25T12:36:02.263522Z",
     "start_time": "2023-07-25T12:36:01.592291Z"
    }
   },
   "outputs": [
    {
     "name": "stdout",
     "output_type": "stream",
     "text": [
      "75\n"
     ]
    }
   ],
   "source": [
    "pre_train_df, pre_groups_by_comb = pre_process(pre_train_df)"
   ]
  },
  {
   "cell_type": "markdown",
   "id": "34acbc39",
   "metadata": {},
   "source": [
    "### Define Function"
   ]
  },
  {
   "cell_type": "code",
   "execution_count": 26,
   "id": "61c45555",
   "metadata": {
    "ExecuteTime": {
     "end_time": "2023-07-25T12:36:02.270530Z",
     "start_time": "2023-07-25T12:36:02.266129Z"
    }
   },
   "outputs": [],
   "source": [
    "def train_and_forecast(group, country, \n",
    "                       country_holiday_dict=country_holiday_dict):\n",
    "    # Train\n",
    "    m = Prophet(yearly_seasonality=True,\n",
    "                weekly_seasonality=True,\n",
    "                holidays=country_holiday_dict[country])\n",
    "    m.fit(group)\n",
    "    \n",
    "    # Predict\n",
    "    future = m.make_future_dataframe(periods=365)\n",
    "    forecast = m.predict(future)\n",
    "    forecast['comb'] = group['comb'].iloc[0]\n",
    "    \n",
    "    # Return \n",
    "    return m, forecast"
   ]
  },
  {
   "cell_type": "code",
   "execution_count": 27,
   "id": "164c0068",
   "metadata": {
    "ExecuteTime": {
     "end_time": "2023-07-25T12:36:55.899933Z",
     "start_time": "2023-07-25T12:36:02.272840Z"
    }
   },
   "outputs": [
    {
     "name": "stderr",
     "output_type": "stream",
     "text": [
      "13:36:02 - cmdstanpy - INFO - Chain [1] start processing\n",
      "13:36:02 - cmdstanpy - INFO - Chain [1] done processing\n",
      "13:36:03 - cmdstanpy - INFO - Chain [1] start processing\n",
      "13:36:03 - cmdstanpy - INFO - Chain [1] done processing\n",
      "13:36:03 - cmdstanpy - INFO - Chain [1] start processing\n",
      "13:36:03 - cmdstanpy - INFO - Chain [1] done processing\n",
      "13:36:04 - cmdstanpy - INFO - Chain [1] start processing\n",
      "13:36:04 - cmdstanpy - INFO - Chain [1] done processing\n",
      "13:36:05 - cmdstanpy - INFO - Chain [1] start processing\n",
      "13:36:05 - cmdstanpy - INFO - Chain [1] done processing\n",
      "13:36:05 - cmdstanpy - INFO - Chain [1] start processing\n",
      "13:36:06 - cmdstanpy - INFO - Chain [1] done processing\n",
      "13:36:06 - cmdstanpy - INFO - Chain [1] start processing\n",
      "13:36:06 - cmdstanpy - INFO - Chain [1] done processing\n",
      "13:36:07 - cmdstanpy - INFO - Chain [1] start processing\n",
      "13:36:07 - cmdstanpy - INFO - Chain [1] done processing\n",
      "13:36:08 - cmdstanpy - INFO - Chain [1] start processing\n",
      "13:36:08 - cmdstanpy - INFO - Chain [1] done processing\n",
      "13:36:08 - cmdstanpy - INFO - Chain [1] start processing\n",
      "13:36:08 - cmdstanpy - INFO - Chain [1] done processing\n",
      "13:36:09 - cmdstanpy - INFO - Chain [1] start processing\n",
      "13:36:09 - cmdstanpy - INFO - Chain [1] done processing\n",
      "13:36:10 - cmdstanpy - INFO - Chain [1] start processing\n",
      "13:36:10 - cmdstanpy - INFO - Chain [1] done processing\n",
      "13:36:10 - cmdstanpy - INFO - Chain [1] start processing\n",
      "13:36:11 - cmdstanpy - INFO - Chain [1] done processing\n",
      "13:36:11 - cmdstanpy - INFO - Chain [1] start processing\n",
      "13:36:11 - cmdstanpy - INFO - Chain [1] done processing\n",
      "13:36:12 - cmdstanpy - INFO - Chain [1] start processing\n",
      "13:36:12 - cmdstanpy - INFO - Chain [1] done processing\n",
      "13:36:13 - cmdstanpy - INFO - Chain [1] start processing\n",
      "13:36:13 - cmdstanpy - INFO - Chain [1] done processing\n",
      "13:36:13 - cmdstanpy - INFO - Chain [1] start processing\n",
      "13:36:14 - cmdstanpy - INFO - Chain [1] done processing\n",
      "13:36:14 - cmdstanpy - INFO - Chain [1] start processing\n",
      "13:36:14 - cmdstanpy - INFO - Chain [1] done processing\n",
      "13:36:15 - cmdstanpy - INFO - Chain [1] start processing\n",
      "13:36:15 - cmdstanpy - INFO - Chain [1] done processing\n",
      "13:36:16 - cmdstanpy - INFO - Chain [1] start processing\n",
      "13:36:16 - cmdstanpy - INFO - Chain [1] done processing\n",
      "13:36:16 - cmdstanpy - INFO - Chain [1] start processing\n",
      "13:36:16 - cmdstanpy - INFO - Chain [1] done processing\n",
      "13:36:17 - cmdstanpy - INFO - Chain [1] start processing\n",
      "13:36:17 - cmdstanpy - INFO - Chain [1] done processing\n",
      "13:36:18 - cmdstanpy - INFO - Chain [1] start processing\n",
      "13:36:18 - cmdstanpy - INFO - Chain [1] done processing\n",
      "13:36:18 - cmdstanpy - INFO - Chain [1] start processing\n",
      "13:36:18 - cmdstanpy - INFO - Chain [1] done processing\n",
      "13:36:19 - cmdstanpy - INFO - Chain [1] start processing\n",
      "13:36:19 - cmdstanpy - INFO - Chain [1] done processing\n",
      "13:36:20 - cmdstanpy - INFO - Chain [1] start processing\n",
      "13:36:20 - cmdstanpy - INFO - Chain [1] done processing\n",
      "13:36:20 - cmdstanpy - INFO - Chain [1] start processing\n",
      "13:36:20 - cmdstanpy - INFO - Chain [1] done processing\n",
      "13:36:21 - cmdstanpy - INFO - Chain [1] start processing\n",
      "13:36:21 - cmdstanpy - INFO - Chain [1] done processing\n",
      "13:36:22 - cmdstanpy - INFO - Chain [1] start processing\n",
      "13:36:22 - cmdstanpy - INFO - Chain [1] done processing\n",
      "13:36:22 - cmdstanpy - INFO - Chain [1] start processing\n",
      "13:36:23 - cmdstanpy - INFO - Chain [1] done processing\n",
      "13:36:23 - cmdstanpy - INFO - Chain [1] start processing\n",
      "13:36:23 - cmdstanpy - INFO - Chain [1] done processing\n",
      "13:36:24 - cmdstanpy - INFO - Chain [1] start processing\n",
      "13:36:24 - cmdstanpy - INFO - Chain [1] done processing\n",
      "13:36:24 - cmdstanpy - INFO - Chain [1] start processing\n",
      "13:36:25 - cmdstanpy - INFO - Chain [1] done processing\n",
      "13:36:25 - cmdstanpy - INFO - Chain [1] start processing\n",
      "13:36:25 - cmdstanpy - INFO - Chain [1] done processing\n",
      "13:36:26 - cmdstanpy - INFO - Chain [1] start processing\n",
      "13:36:26 - cmdstanpy - INFO - Chain [1] done processing\n",
      "13:36:27 - cmdstanpy - INFO - Chain [1] start processing\n",
      "13:36:27 - cmdstanpy - INFO - Chain [1] done processing\n",
      "13:36:27 - cmdstanpy - INFO - Chain [1] start processing\n",
      "13:36:27 - cmdstanpy - INFO - Chain [1] done processing\n",
      "13:36:28 - cmdstanpy - INFO - Chain [1] start processing\n",
      "13:36:28 - cmdstanpy - INFO - Chain [1] done processing\n",
      "13:36:29 - cmdstanpy - INFO - Chain [1] start processing\n",
      "13:36:29 - cmdstanpy - INFO - Chain [1] done processing\n",
      "13:36:29 - cmdstanpy - INFO - Chain [1] start processing\n",
      "13:36:29 - cmdstanpy - INFO - Chain [1] done processing\n",
      "13:36:30 - cmdstanpy - INFO - Chain [1] start processing\n",
      "13:36:30 - cmdstanpy - INFO - Chain [1] done processing\n",
      "13:36:31 - cmdstanpy - INFO - Chain [1] start processing\n",
      "13:36:31 - cmdstanpy - INFO - Chain [1] done processing\n",
      "13:36:32 - cmdstanpy - INFO - Chain [1] start processing\n",
      "13:36:32 - cmdstanpy - INFO - Chain [1] done processing\n",
      "13:36:32 - cmdstanpy - INFO - Chain [1] start processing\n",
      "13:36:32 - cmdstanpy - INFO - Chain [1] done processing\n",
      "13:36:33 - cmdstanpy - INFO - Chain [1] start processing\n",
      "13:36:33 - cmdstanpy - INFO - Chain [1] done processing\n",
      "13:36:34 - cmdstanpy - INFO - Chain [1] start processing\n",
      "13:36:34 - cmdstanpy - INFO - Chain [1] done processing\n",
      "13:36:34 - cmdstanpy - INFO - Chain [1] start processing\n",
      "13:36:35 - cmdstanpy - INFO - Chain [1] done processing\n",
      "13:36:35 - cmdstanpy - INFO - Chain [1] start processing\n",
      "13:36:35 - cmdstanpy - INFO - Chain [1] done processing\n",
      "13:36:36 - cmdstanpy - INFO - Chain [1] start processing\n",
      "13:36:36 - cmdstanpy - INFO - Chain [1] done processing\n",
      "13:36:37 - cmdstanpy - INFO - Chain [1] start processing\n",
      "13:36:37 - cmdstanpy - INFO - Chain [1] done processing\n",
      "13:36:37 - cmdstanpy - INFO - Chain [1] start processing\n",
      "13:36:38 - cmdstanpy - INFO - Chain [1] done processing\n",
      "13:36:38 - cmdstanpy - INFO - Chain [1] start processing\n",
      "13:36:38 - cmdstanpy - INFO - Chain [1] done processing\n",
      "13:36:39 - cmdstanpy - INFO - Chain [1] start processing\n",
      "13:36:39 - cmdstanpy - INFO - Chain [1] done processing\n",
      "13:36:40 - cmdstanpy - INFO - Chain [1] start processing\n",
      "13:36:40 - cmdstanpy - INFO - Chain [1] done processing\n",
      "13:36:40 - cmdstanpy - INFO - Chain [1] start processing\n",
      "13:36:40 - cmdstanpy - INFO - Chain [1] done processing\n",
      "13:36:41 - cmdstanpy - INFO - Chain [1] start processing\n",
      "13:36:41 - cmdstanpy - INFO - Chain [1] done processing\n",
      "13:36:42 - cmdstanpy - INFO - Chain [1] start processing\n",
      "13:36:42 - cmdstanpy - INFO - Chain [1] done processing\n",
      "13:36:43 - cmdstanpy - INFO - Chain [1] start processing\n",
      "13:36:43 - cmdstanpy - INFO - Chain [1] done processing\n",
      "13:36:43 - cmdstanpy - INFO - Chain [1] start processing\n",
      "13:36:44 - cmdstanpy - INFO - Chain [1] done processing\n",
      "13:36:44 - cmdstanpy - INFO - Chain [1] start processing\n",
      "13:36:44 - cmdstanpy - INFO - Chain [1] done processing\n",
      "13:36:45 - cmdstanpy - INFO - Chain [1] start processing\n",
      "13:36:45 - cmdstanpy - INFO - Chain [1] done processing\n",
      "13:36:46 - cmdstanpy - INFO - Chain [1] start processing\n",
      "13:36:46 - cmdstanpy - INFO - Chain [1] done processing\n",
      "13:36:46 - cmdstanpy - INFO - Chain [1] start processing\n",
      "13:36:46 - cmdstanpy - INFO - Chain [1] done processing\n",
      "13:36:47 - cmdstanpy - INFO - Chain [1] start processing\n",
      "13:36:47 - cmdstanpy - INFO - Chain [1] done processing\n",
      "13:36:48 - cmdstanpy - INFO - Chain [1] start processing\n",
      "13:36:48 - cmdstanpy - INFO - Chain [1] done processing\n",
      "13:36:48 - cmdstanpy - INFO - Chain [1] start processing\n",
      "13:36:48 - cmdstanpy - INFO - Chain [1] done processing\n",
      "13:36:49 - cmdstanpy - INFO - Chain [1] start processing\n",
      "13:36:49 - cmdstanpy - INFO - Chain [1] done processing\n",
      "13:36:50 - cmdstanpy - INFO - Chain [1] start processing\n",
      "13:36:50 - cmdstanpy - INFO - Chain [1] done processing\n",
      "13:36:51 - cmdstanpy - INFO - Chain [1] start processing\n",
      "13:36:51 - cmdstanpy - INFO - Chain [1] done processing\n",
      "13:36:51 - cmdstanpy - INFO - Chain [1] start processing\n",
      "13:36:51 - cmdstanpy - INFO - Chain [1] done processing\n",
      "13:36:52 - cmdstanpy - INFO - Chain [1] start processing\n",
      "13:36:52 - cmdstanpy - INFO - Chain [1] done processing\n",
      "13:36:53 - cmdstanpy - INFO - Chain [1] start processing\n",
      "13:36:53 - cmdstanpy - INFO - Chain [1] done processing\n",
      "13:36:53 - cmdstanpy - INFO - Chain [1] start processing\n"
     ]
    },
    {
     "name": "stderr",
     "output_type": "stream",
     "text": [
      "13:36:54 - cmdstanpy - INFO - Chain [1] done processing\n",
      "13:36:54 - cmdstanpy - INFO - Chain [1] start processing\n",
      "13:36:54 - cmdstanpy - INFO - Chain [1] done processing\n",
      "13:36:55 - cmdstanpy - INFO - Chain [1] start processing\n",
      "13:36:55 - cmdstanpy - INFO - Chain [1] done processing\n"
     ]
    },
    {
     "data": {
      "text/html": [
       "<div>\n",
       "<style scoped>\n",
       "    .dataframe tbody tr th:only-of-type {\n",
       "        vertical-align: middle;\n",
       "    }\n",
       "\n",
       "    .dataframe tbody tr th {\n",
       "        vertical-align: top;\n",
       "    }\n",
       "\n",
       "    .dataframe thead th {\n",
       "        text-align: right;\n",
       "    }\n",
       "</style>\n",
       "<table border=\"1\" class=\"dataframe\">\n",
       "  <thead>\n",
       "    <tr style=\"text-align: right;\">\n",
       "      <th></th>\n",
       "      <th>ds</th>\n",
       "      <th>comb</th>\n",
       "      <th>yhat</th>\n",
       "    </tr>\n",
       "  </thead>\n",
       "  <tbody>\n",
       "    <tr>\n",
       "      <th>0</th>\n",
       "      <td>2017-01-01</td>\n",
       "      <td>Argentina|Kaggle Learn|Using LLMs to Improve Y...</td>\n",
       "      <td>46.577120</td>\n",
       "    </tr>\n",
       "    <tr>\n",
       "      <th>1</th>\n",
       "      <td>2017-01-02</td>\n",
       "      <td>Argentina|Kaggle Learn|Using LLMs to Improve Y...</td>\n",
       "      <td>40.984699</td>\n",
       "    </tr>\n",
       "    <tr>\n",
       "      <th>2</th>\n",
       "      <td>2017-01-03</td>\n",
       "      <td>Argentina|Kaggle Learn|Using LLMs to Improve Y...</td>\n",
       "      <td>40.431208</td>\n",
       "    </tr>\n",
       "    <tr>\n",
       "      <th>3</th>\n",
       "      <td>2017-01-04</td>\n",
       "      <td>Argentina|Kaggle Learn|Using LLMs to Improve Y...</td>\n",
       "      <td>40.187625</td>\n",
       "    </tr>\n",
       "    <tr>\n",
       "      <th>4</th>\n",
       "      <td>2017-01-05</td>\n",
       "      <td>Argentina|Kaggle Learn|Using LLMs to Improve Y...</td>\n",
       "      <td>39.834705</td>\n",
       "    </tr>\n",
       "  </tbody>\n",
       "</table>\n",
       "</div>"
      ],
      "text/plain": [
       "          ds                                               comb       yhat\n",
       "0 2017-01-01  Argentina|Kaggle Learn|Using LLMs to Improve Y...  46.577120\n",
       "1 2017-01-02  Argentina|Kaggle Learn|Using LLMs to Improve Y...  40.984699\n",
       "2 2017-01-03  Argentina|Kaggle Learn|Using LLMs to Improve Y...  40.431208\n",
       "3 2017-01-04  Argentina|Kaggle Learn|Using LLMs to Improve Y...  40.187625\n",
       "4 2017-01-05  Argentina|Kaggle Learn|Using LLMs to Improve Y...  39.834705"
      ]
     },
     "execution_count": 27,
     "metadata": {},
     "output_type": "execute_result"
    }
   ],
   "source": [
    "pre_preds = pd.DataFrame()\n",
    "\n",
    "for comb in pre_train_df.comb.unique():\n",
    "    country = comb.split('|')[0]\n",
    "    group = pre_groups_by_comb.get_group(comb)\n",
    "    m, forecast = train_and_forecast(group, country)\n",
    "    pre_preds = pd.concat((pre_preds, forecast[['ds', 'comb', 'yhat']]))\n",
    "    \n",
    "pre_preds.head()"
   ]
  },
  {
   "cell_type": "code",
   "execution_count": 28,
   "id": "eb79f18d",
   "metadata": {
    "ExecuteTime": {
     "end_time": "2023-07-25T12:36:55.915228Z",
     "start_time": "2023-07-25T12:36:55.902828Z"
    }
   },
   "outputs": [
    {
     "data": {
      "text/plain": [
       "365.0"
      ]
     },
     "execution_count": 28,
     "metadata": {},
     "output_type": "execute_result"
    }
   ],
   "source": [
    "covid_preds = pre_preds[pre_preds.ds > '2019-12-31']\n",
    "covid_preds.shape[0] / 75"
   ]
  },
  {
   "cell_type": "markdown",
   "id": "0b6fd3c6",
   "metadata": {},
   "source": [
    "### Merge"
   ]
  },
  {
   "cell_type": "code",
   "execution_count": 29,
   "id": "98259a6d",
   "metadata": {
    "ExecuteTime": {
     "end_time": "2023-07-25T12:36:56.558733Z",
     "start_time": "2023-07-25T12:36:55.920913Z"
    }
   },
   "outputs": [
    {
     "data": {
      "text/plain": [
       "date         object\n",
       "num_sold    float64\n",
       "country      object\n",
       "store        object\n",
       "product      object\n",
       "dtype: object"
      ]
     },
     "execution_count": 29,
     "metadata": {},
     "output_type": "execute_result"
    }
   ],
   "source": [
    "covid_preds['country'] = covid_preds['comb'].apply(lambda x: x.split('|')[0])\n",
    "covid_preds['store'] = covid_preds['comb'].apply(lambda x: x.split('|')[1])\n",
    "covid_preds['product'] = covid_preds['comb'].apply(lambda x: x.split('|')[2])\n",
    "covid_preds = covid_preds.drop('comb', axis=1)\\\n",
    "                         .rename(columns={'ds': 'date',\n",
    "                                          'yhat': 'num_sold'})\n",
    "covid_preds['date'] = covid_preds['date'].apply(str).apply(lambda x: x.split(' ')[0])\n",
    "covid_preds.dtypes"
   ]
  },
  {
   "cell_type": "code",
   "execution_count": 30,
   "id": "61c74b33",
   "metadata": {
    "ExecuteTime": {
     "end_time": "2023-07-25T12:36:56.603929Z",
     "start_time": "2023-07-25T12:36:56.565156Z"
    }
   },
   "outputs": [
    {
     "data": {
      "text/plain": [
       "(136950, 109500)"
      ]
     },
     "execution_count": 30,
     "metadata": {},
     "output_type": "execute_result"
    }
   ],
   "source": [
    "adj_train_df = train_df.copy().drop('id', axis=1)\n",
    "adj_train_df = adj_train_df[(adj_train_df['date'] < '2020-01-01') | \n",
    "                            (adj_train_df['date'] > '2020-12-31')]\n",
    "train_df.shape[0], adj_train_df.shape[0]"
   ]
  },
  {
   "cell_type": "code",
   "execution_count": 31,
   "id": "3eccd600",
   "metadata": {
    "ExecuteTime": {
     "end_time": "2023-07-25T12:36:56.614093Z",
     "start_time": "2023-07-25T12:36:56.606327Z"
    }
   },
   "outputs": [
    {
     "data": {
      "text/plain": [
       "date         object\n",
       "num_sold    float64\n",
       "country      object\n",
       "store        object\n",
       "product      object\n",
       "dtype: object"
      ]
     },
     "execution_count": 31,
     "metadata": {},
     "output_type": "execute_result"
    }
   ],
   "source": [
    "covid_preds.dtypes"
   ]
  },
  {
   "cell_type": "code",
   "execution_count": 32,
   "id": "3b327cee",
   "metadata": {
    "ExecuteTime": {
     "end_time": "2023-07-25T12:36:56.637353Z",
     "start_time": "2023-07-25T12:36:56.618582Z"
    }
   },
   "outputs": [
    {
     "data": {
      "text/plain": [
       "((136950, 6), (136875, 5))"
      ]
     },
     "execution_count": 32,
     "metadata": {},
     "output_type": "execute_result"
    }
   ],
   "source": [
    "covid_preds = covid_preds[adj_train_df.columns]\n",
    "adj_train_df = pd.concat([adj_train_df, covid_preds])\n",
    "train_df.shape, adj_train_df.shape"
   ]
  },
  {
   "cell_type": "code",
   "execution_count": 33,
   "id": "d5c6110b",
   "metadata": {
    "ExecuteTime": {
     "end_time": "2023-07-25T12:36:56.791486Z",
     "start_time": "2023-07-25T12:36:56.641808Z"
    }
   },
   "outputs": [
    {
     "data": {
      "text/html": [
       "<div>\n",
       "<style scoped>\n",
       "    .dataframe tbody tr th:only-of-type {\n",
       "        vertical-align: middle;\n",
       "    }\n",
       "\n",
       "    .dataframe tbody tr th {\n",
       "        vertical-align: top;\n",
       "    }\n",
       "\n",
       "    .dataframe thead th {\n",
       "        text-align: right;\n",
       "    }\n",
       "</style>\n",
       "<table border=\"1\" class=\"dataframe\">\n",
       "  <thead>\n",
       "    <tr style=\"text-align: right;\">\n",
       "      <th></th>\n",
       "      <th>id</th>\n",
       "      <th>date</th>\n",
       "      <th>country</th>\n",
       "      <th>store</th>\n",
       "      <th>product</th>\n",
       "      <th>num_sold</th>\n",
       "    </tr>\n",
       "  </thead>\n",
       "  <tbody>\n",
       "    <tr>\n",
       "      <th>0</th>\n",
       "      <td>0</td>\n",
       "      <td>2017-01-01</td>\n",
       "      <td>Argentina</td>\n",
       "      <td>Kaggle Learn</td>\n",
       "      <td>Using LLMs to Improve Your Coding</td>\n",
       "      <td>63.0</td>\n",
       "    </tr>\n",
       "    <tr>\n",
       "      <th>1</th>\n",
       "      <td>1</td>\n",
       "      <td>2017-01-01</td>\n",
       "      <td>Argentina</td>\n",
       "      <td>Kaggle Learn</td>\n",
       "      <td>Using LLMs to Train More LLMs</td>\n",
       "      <td>66.0</td>\n",
       "    </tr>\n",
       "    <tr>\n",
       "      <th>2</th>\n",
       "      <td>2</td>\n",
       "      <td>2017-01-01</td>\n",
       "      <td>Argentina</td>\n",
       "      <td>Kaggle Learn</td>\n",
       "      <td>Using LLMs to Win Friends and Influence People</td>\n",
       "      <td>9.0</td>\n",
       "    </tr>\n",
       "    <tr>\n",
       "      <th>3</th>\n",
       "      <td>3</td>\n",
       "      <td>2017-01-01</td>\n",
       "      <td>Argentina</td>\n",
       "      <td>Kaggle Learn</td>\n",
       "      <td>Using LLMs to Win More Kaggle Competitions</td>\n",
       "      <td>59.0</td>\n",
       "    </tr>\n",
       "    <tr>\n",
       "      <th>4</th>\n",
       "      <td>4</td>\n",
       "      <td>2017-01-01</td>\n",
       "      <td>Argentina</td>\n",
       "      <td>Kaggle Learn</td>\n",
       "      <td>Using LLMs to Write Better</td>\n",
       "      <td>49.0</td>\n",
       "    </tr>\n",
       "  </tbody>\n",
       "</table>\n",
       "</div>"
      ],
      "text/plain": [
       "   id        date    country         store  \\\n",
       "0   0  2017-01-01  Argentina  Kaggle Learn   \n",
       "1   1  2017-01-01  Argentina  Kaggle Learn   \n",
       "2   2  2017-01-01  Argentina  Kaggle Learn   \n",
       "3   3  2017-01-01  Argentina  Kaggle Learn   \n",
       "4   4  2017-01-01  Argentina  Kaggle Learn   \n",
       "\n",
       "                                          product  num_sold  \n",
       "0               Using LLMs to Improve Your Coding      63.0  \n",
       "1                   Using LLMs to Train More LLMs      66.0  \n",
       "2  Using LLMs to Win Friends and Influence People       9.0  \n",
       "3      Using LLMs to Win More Kaggle Competitions      59.0  \n",
       "4                      Using LLMs to Write Better      49.0  "
      ]
     },
     "execution_count": 33,
     "metadata": {},
     "output_type": "execute_result"
    }
   ],
   "source": [
    "train_df = train_df.drop('num_sold', axis=1)\\\n",
    "                   .merge(adj_train_df, how='left',\n",
    "                          on = cats + ['date'])\n",
    "train_df.head()"
   ]
  },
  {
   "cell_type": "code",
   "execution_count": 34,
   "id": "e4608904",
   "metadata": {
    "ExecuteTime": {
     "end_time": "2023-07-25T12:36:56.847163Z",
     "start_time": "2023-07-25T12:36:56.794164Z"
    }
   },
   "outputs": [
    {
     "data": {
      "text/html": [
       "<div>\n",
       "<style scoped>\n",
       "    .dataframe tbody tr th:only-of-type {\n",
       "        vertical-align: middle;\n",
       "    }\n",
       "\n",
       "    .dataframe tbody tr th {\n",
       "        vertical-align: top;\n",
       "    }\n",
       "\n",
       "    .dataframe thead th {\n",
       "        text-align: right;\n",
       "    }\n",
       "</style>\n",
       "<table border=\"1\" class=\"dataframe\">\n",
       "  <thead>\n",
       "    <tr style=\"text-align: right;\">\n",
       "      <th>country</th>\n",
       "      <th>Argentina</th>\n",
       "      <th>Canada</th>\n",
       "      <th>Estonia</th>\n",
       "      <th>Japan</th>\n",
       "      <th>Spain</th>\n",
       "    </tr>\n",
       "    <tr>\n",
       "      <th>date</th>\n",
       "      <th></th>\n",
       "      <th></th>\n",
       "      <th></th>\n",
       "      <th></th>\n",
       "      <th></th>\n",
       "    </tr>\n",
       "  </thead>\n",
       "  <tbody>\n",
       "    <tr>\n",
       "      <th>2017-01-01</th>\n",
       "      <td>2011.0</td>\n",
       "      <td>6134.0</td>\n",
       "      <td>2772.0</td>\n",
       "      <td>5274.0</td>\n",
       "      <td>3895.0</td>\n",
       "    </tr>\n",
       "    <tr>\n",
       "      <th>2017-01-02</th>\n",
       "      <td>1487.0</td>\n",
       "      <td>5081.0</td>\n",
       "      <td>2062.0</td>\n",
       "      <td>3983.0</td>\n",
       "      <td>2950.0</td>\n",
       "    </tr>\n",
       "    <tr>\n",
       "      <th>2017-01-03</th>\n",
       "      <td>1448.0</td>\n",
       "      <td>5049.0</td>\n",
       "      <td>1984.0</td>\n",
       "      <td>3742.0</td>\n",
       "      <td>2816.0</td>\n",
       "    </tr>\n",
       "    <tr>\n",
       "      <th>2017-01-04</th>\n",
       "      <td>1357.0</td>\n",
       "      <td>4710.0</td>\n",
       "      <td>1985.0</td>\n",
       "      <td>3784.0</td>\n",
       "      <td>2680.0</td>\n",
       "    </tr>\n",
       "    <tr>\n",
       "      <th>2017-01-05</th>\n",
       "      <td>1316.0</td>\n",
       "      <td>4629.0</td>\n",
       "      <td>1920.0</td>\n",
       "      <td>3609.0</td>\n",
       "      <td>2609.0</td>\n",
       "    </tr>\n",
       "  </tbody>\n",
       "</table>\n",
       "</div>"
      ],
      "text/plain": [
       "country     Argentina  Canada  Estonia   Japan   Spain\n",
       "date                                                  \n",
       "2017-01-01     2011.0  6134.0   2772.0  5274.0  3895.0\n",
       "2017-01-02     1487.0  5081.0   2062.0  3983.0  2950.0\n",
       "2017-01-03     1448.0  5049.0   1984.0  3742.0  2816.0\n",
       "2017-01-04     1357.0  4710.0   1985.0  3784.0  2680.0\n",
       "2017-01-05     1316.0  4629.0   1920.0  3609.0  2609.0"
      ]
     },
     "execution_count": 34,
     "metadata": {},
     "output_type": "execute_result"
    }
   ],
   "source": [
    "temp = train_df.copy()\n",
    "temp_gb = temp.groupby(['date', 'country'])[['num_sold']].sum().reset_index()\n",
    "temp_gb = temp_gb.pivot(index='date', columns='country', values='num_sold')\n",
    "temp_gb.head()"
   ]
  },
  {
   "cell_type": "code",
   "execution_count": 35,
   "id": "867fd554",
   "metadata": {
    "ExecuteTime": {
     "end_time": "2023-07-25T12:37:00.662341Z",
     "start_time": "2023-07-25T12:36:56.852016Z"
    }
   },
   "outputs": [
    {
     "data": {
      "image/png": "[encoded data removed]",
      "text/plain": [
       "<Figure size 1200x800 with 1 Axes>"
      ]
     },
     "metadata": {},
     "output_type": "display_data"
    }
   ],
   "source": [
    "figsize(12, 8)\n",
    "\n",
    "fig, ax = plt.subplots(1, 1)\n",
    "\n",
    "for country in temp_gb.columns:\n",
    "    sns.lineplot(temp_gb.index, temp_gb[country], label=country)\n",
    "plt.legend()\n",
    "\n",
    "xticklabels = [x.get_text() for x in ax.get_xticklabels()]\n",
    "xticks = []\n",
    "xlabels = []\n",
    "for i, label in enumerate(xticklabels, 0):\n",
    "    if label.endswith('-01'):\n",
    "        xlabels.append(label)\n",
    "        xticks.append(i)\n",
    "        \n",
    "_ = ax.set_xticks(xticks, xlabels, rotation=90)"
   ]
  },
  {
   "cell_type": "markdown",
   "id": "c2acf44b",
   "metadata": {},
   "source": [
    "## Model"
   ]
  },
  {
   "cell_type": "code",
   "execution_count": 36,
   "id": "5ba251c0",
   "metadata": {
    "ExecuteTime": {
     "end_time": "2023-07-25T12:37:01.741328Z",
     "start_time": "2023-07-25T12:37:00.664780Z"
    }
   },
   "outputs": [
    {
     "name": "stdout",
     "output_type": "stream",
     "text": [
      "75\n"
     ]
    }
   ],
   "source": [
    "train_df, groups_by_comb = pre_process(train_df)"
   ]
  },
  {
   "cell_type": "code",
   "execution_count": 41,
   "id": "e7091750",
   "metadata": {
    "ExecuteTime": {
     "end_time": "2023-07-25T12:40:55.118248Z",
     "start_time": "2023-07-25T12:39:36.228841Z"
    }
   },
   "outputs": [
    {
     "name": "stderr",
     "output_type": "stream",
     "text": [
      "13:39:36 - cmdstanpy - INFO - Chain [1] start processing\n",
      "13:39:36 - cmdstanpy - INFO - Chain [1] done processing\n",
      "13:39:37 - cmdstanpy - INFO - Chain [1] start processing\n",
      "13:39:38 - cmdstanpy - INFO - Chain [1] done processing\n",
      "13:39:38 - cmdstanpy - INFO - Chain [1] start processing\n",
      "13:39:39 - cmdstanpy - INFO - Chain [1] done processing\n",
      "13:39:39 - cmdstanpy - INFO - Chain [1] start processing\n",
      "13:39:40 - cmdstanpy - INFO - Chain [1] done processing\n",
      "13:39:41 - cmdstanpy - INFO - Chain [1] start processing\n",
      "13:39:41 - cmdstanpy - INFO - Chain [1] done processing\n",
      "13:39:42 - cmdstanpy - INFO - Chain [1] start processing\n",
      "13:39:43 - cmdstanpy - INFO - Chain [1] done processing\n",
      "13:39:43 - cmdstanpy - INFO - Chain [1] start processing\n",
      "13:39:44 - cmdstanpy - INFO - Chain [1] done processing\n",
      "13:39:45 - cmdstanpy - INFO - Chain [1] start processing\n",
      "13:39:45 - cmdstanpy - INFO - Chain [1] done processing\n",
      "13:39:46 - cmdstanpy - INFO - Chain [1] start processing\n",
      "13:39:46 - cmdstanpy - INFO - Chain [1] done processing\n",
      "13:39:47 - cmdstanpy - INFO - Chain [1] start processing\n",
      "13:39:47 - cmdstanpy - INFO - Chain [1] done processing\n",
      "13:39:48 - cmdstanpy - INFO - Chain [1] start processing\n",
      "13:39:48 - cmdstanpy - INFO - Chain [1] done processing\n",
      "13:39:49 - cmdstanpy - INFO - Chain [1] start processing\n",
      "13:39:50 - cmdstanpy - INFO - Chain [1] done processing\n",
      "13:39:51 - cmdstanpy - INFO - Chain [1] start processing\n",
      "13:39:51 - cmdstanpy - INFO - Chain [1] done processing\n",
      "13:39:52 - cmdstanpy - INFO - Chain [1] start processing\n",
      "13:39:52 - cmdstanpy - INFO - Chain [1] done processing\n",
      "13:39:53 - cmdstanpy - INFO - Chain [1] start processing\n",
      "13:39:53 - cmdstanpy - INFO - Chain [1] done processing\n",
      "13:39:54 - cmdstanpy - INFO - Chain [1] start processing\n",
      "13:39:54 - cmdstanpy - INFO - Chain [1] done processing\n",
      "13:39:55 - cmdstanpy - INFO - Chain [1] start processing\n",
      "13:39:55 - cmdstanpy - INFO - Chain [1] done processing\n",
      "13:39:56 - cmdstanpy - INFO - Chain [1] start processing\n",
      "13:39:56 - cmdstanpy - INFO - Chain [1] done processing\n",
      "13:39:57 - cmdstanpy - INFO - Chain [1] start processing\n",
      "13:39:57 - cmdstanpy - INFO - Chain [1] done processing\n",
      "13:39:58 - cmdstanpy - INFO - Chain [1] start processing\n",
      "13:39:58 - cmdstanpy - INFO - Chain [1] done processing\n",
      "13:39:59 - cmdstanpy - INFO - Chain [1] start processing\n",
      "13:39:59 - cmdstanpy - INFO - Chain [1] done processing\n",
      "13:40:00 - cmdstanpy - INFO - Chain [1] start processing\n",
      "13:40:00 - cmdstanpy - INFO - Chain [1] done processing\n",
      "13:40:01 - cmdstanpy - INFO - Chain [1] start processing\n",
      "13:40:01 - cmdstanpy - INFO - Chain [1] done processing\n",
      "13:40:02 - cmdstanpy - INFO - Chain [1] start processing\n",
      "13:40:02 - cmdstanpy - INFO - Chain [1] done processing\n",
      "13:40:03 - cmdstanpy - INFO - Chain [1] start processing\n",
      "13:40:03 - cmdstanpy - INFO - Chain [1] done processing\n",
      "13:40:04 - cmdstanpy - INFO - Chain [1] start processing\n",
      "13:40:04 - cmdstanpy - INFO - Chain [1] done processing\n",
      "13:40:05 - cmdstanpy - INFO - Chain [1] start processing\n",
      "13:40:05 - cmdstanpy - INFO - Chain [1] done processing\n",
      "13:40:06 - cmdstanpy - INFO - Chain [1] start processing\n",
      "13:40:06 - cmdstanpy - INFO - Chain [1] done processing\n",
      "13:40:07 - cmdstanpy - INFO - Chain [1] start processing\n",
      "13:40:07 - cmdstanpy - INFO - Chain [1] done processing\n",
      "13:40:08 - cmdstanpy - INFO - Chain [1] start processing\n",
      "13:40:08 - cmdstanpy - INFO - Chain [1] done processing\n",
      "13:40:09 - cmdstanpy - INFO - Chain [1] start processing\n",
      "13:40:09 - cmdstanpy - INFO - Chain [1] done processing\n",
      "13:40:10 - cmdstanpy - INFO - Chain [1] start processing\n",
      "13:40:11 - cmdstanpy - INFO - Chain [1] done processing\n",
      "13:40:11 - cmdstanpy - INFO - Chain [1] start processing\n",
      "13:40:12 - cmdstanpy - INFO - Chain [1] done processing\n",
      "13:40:12 - cmdstanpy - INFO - Chain [1] start processing\n",
      "13:40:13 - cmdstanpy - INFO - Chain [1] done processing\n",
      "13:40:13 - cmdstanpy - INFO - Chain [1] start processing\n",
      "13:40:14 - cmdstanpy - INFO - Chain [1] done processing\n",
      "13:40:14 - cmdstanpy - INFO - Chain [1] start processing\n",
      "13:40:14 - cmdstanpy - INFO - Chain [1] done processing\n",
      "13:40:15 - cmdstanpy - INFO - Chain [1] start processing\n",
      "13:40:15 - cmdstanpy - INFO - Chain [1] done processing\n",
      "13:40:16 - cmdstanpy - INFO - Chain [1] start processing\n",
      "13:40:16 - cmdstanpy - INFO - Chain [1] done processing\n",
      "13:40:17 - cmdstanpy - INFO - Chain [1] start processing\n",
      "13:40:17 - cmdstanpy - INFO - Chain [1] done processing\n",
      "13:40:18 - cmdstanpy - INFO - Chain [1] start processing\n",
      "13:40:18 - cmdstanpy - INFO - Chain [1] done processing\n",
      "13:40:19 - cmdstanpy - INFO - Chain [1] start processing\n",
      "13:40:19 - cmdstanpy - INFO - Chain [1] done processing\n",
      "13:40:20 - cmdstanpy - INFO - Chain [1] start processing\n",
      "13:40:21 - cmdstanpy - INFO - Chain [1] done processing\n",
      "13:40:21 - cmdstanpy - INFO - Chain [1] start processing\n",
      "13:40:22 - cmdstanpy - INFO - Chain [1] done processing\n",
      "13:40:22 - cmdstanpy - INFO - Chain [1] start processing\n",
      "13:40:22 - cmdstanpy - INFO - Chain [1] done processing\n",
      "13:40:23 - cmdstanpy - INFO - Chain [1] start processing\n",
      "13:40:23 - cmdstanpy - INFO - Chain [1] done processing\n",
      "13:40:24 - cmdstanpy - INFO - Chain [1] start processing\n",
      "13:40:24 - cmdstanpy - INFO - Chain [1] done processing\n",
      "13:40:25 - cmdstanpy - INFO - Chain [1] start processing\n",
      "13:40:26 - cmdstanpy - INFO - Chain [1] done processing\n",
      "13:40:26 - cmdstanpy - INFO - Chain [1] start processing\n",
      "13:40:27 - cmdstanpy - INFO - Chain [1] done processing\n",
      "13:40:27 - cmdstanpy - INFO - Chain [1] start processing\n",
      "13:40:28 - cmdstanpy - INFO - Chain [1] done processing\n",
      "13:40:28 - cmdstanpy - INFO - Chain [1] start processing\n",
      "13:40:29 - cmdstanpy - INFO - Chain [1] done processing\n",
      "13:40:30 - cmdstanpy - INFO - Chain [1] start processing\n",
      "13:40:30 - cmdstanpy - INFO - Chain [1] done processing\n",
      "13:40:31 - cmdstanpy - INFO - Chain [1] start processing\n",
      "13:40:31 - cmdstanpy - INFO - Chain [1] done processing\n",
      "13:40:32 - cmdstanpy - INFO - Chain [1] start processing\n",
      "13:40:32 - cmdstanpy - INFO - Chain [1] done processing\n",
      "13:40:33 - cmdstanpy - INFO - Chain [1] start processing\n",
      "13:40:33 - cmdstanpy - INFO - Chain [1] done processing\n",
      "13:40:34 - cmdstanpy - INFO - Chain [1] start processing\n",
      "13:40:34 - cmdstanpy - INFO - Chain [1] done processing\n",
      "13:40:35 - cmdstanpy - INFO - Chain [1] start processing\n",
      "13:40:35 - cmdstanpy - INFO - Chain [1] done processing\n",
      "13:40:36 - cmdstanpy - INFO - Chain [1] start processing\n",
      "13:40:36 - cmdstanpy - INFO - Chain [1] done processing\n",
      "13:40:37 - cmdstanpy - INFO - Chain [1] start processing\n",
      "13:40:37 - cmdstanpy - INFO - Chain [1] done processing\n",
      "13:40:38 - cmdstanpy - INFO - Chain [1] start processing\n",
      "13:40:38 - cmdstanpy - INFO - Chain [1] done processing\n",
      "13:40:39 - cmdstanpy - INFO - Chain [1] start processing\n",
      "13:40:39 - cmdstanpy - INFO - Chain [1] done processing\n",
      "13:40:40 - cmdstanpy - INFO - Chain [1] start processing\n",
      "13:40:40 - cmdstanpy - INFO - Chain [1] done processing\n",
      "13:40:41 - cmdstanpy - INFO - Chain [1] start processing\n",
      "13:40:41 - cmdstanpy - INFO - Chain [1] done processing\n",
      "13:40:42 - cmdstanpy - INFO - Chain [1] start processing\n",
      "13:40:42 - cmdstanpy - INFO - Chain [1] done processing\n",
      "13:40:43 - cmdstanpy - INFO - Chain [1] start processing\n",
      "13:40:43 - cmdstanpy - INFO - Chain [1] done processing\n",
      "13:40:44 - cmdstanpy - INFO - Chain [1] start processing\n",
      "13:40:44 - cmdstanpy - INFO - Chain [1] done processing\n",
      "13:40:45 - cmdstanpy - INFO - Chain [1] start processing\n",
      "13:40:45 - cmdstanpy - INFO - Chain [1] done processing\n",
      "13:40:46 - cmdstanpy - INFO - Chain [1] start processing\n",
      "13:40:46 - cmdstanpy - INFO - Chain [1] done processing\n",
      "13:40:47 - cmdstanpy - INFO - Chain [1] start processing\n",
      "13:40:47 - cmdstanpy - INFO - Chain [1] done processing\n",
      "13:40:48 - cmdstanpy - INFO - Chain [1] start processing\n",
      "13:40:48 - cmdstanpy - INFO - Chain [1] done processing\n",
      "13:40:49 - cmdstanpy - INFO - Chain [1] start processing\n",
      "13:40:49 - cmdstanpy - INFO - Chain [1] done processing\n",
      "13:40:50 - cmdstanpy - INFO - Chain [1] start processing\n",
      "13:40:50 - cmdstanpy - INFO - Chain [1] done processing\n",
      "13:40:51 - cmdstanpy - INFO - Chain [1] start processing\n",
      "13:40:51 - cmdstanpy - INFO - Chain [1] done processing\n",
      "13:40:52 - cmdstanpy - INFO - Chain [1] start processing\n"
     ]
    },
    {
     "name": "stderr",
     "output_type": "stream",
     "text": [
      "13:40:52 - cmdstanpy - INFO - Chain [1] done processing\n",
      "13:40:53 - cmdstanpy - INFO - Chain [1] start processing\n",
      "13:40:53 - cmdstanpy - INFO - Chain [1] done processing\n",
      "13:40:54 - cmdstanpy - INFO - Chain [1] start processing\n",
      "13:40:54 - cmdstanpy - INFO - Chain [1] done processing\n"
     ]
    },
    {
     "data": {
      "text/html": [
       "<div>\n",
       "<style scoped>\n",
       "    .dataframe tbody tr th:only-of-type {\n",
       "        vertical-align: middle;\n",
       "    }\n",
       "\n",
       "    .dataframe tbody tr th {\n",
       "        vertical-align: top;\n",
       "    }\n",
       "\n",
       "    .dataframe thead th {\n",
       "        text-align: right;\n",
       "    }\n",
       "</style>\n",
       "<table border=\"1\" class=\"dataframe\">\n",
       "  <thead>\n",
       "    <tr style=\"text-align: right;\">\n",
       "      <th></th>\n",
       "      <th>ds</th>\n",
       "      <th>comb</th>\n",
       "      <th>yhat</th>\n",
       "      <th>yhat_upper</th>\n",
       "      <th>yhat_lower</th>\n",
       "    </tr>\n",
       "  </thead>\n",
       "  <tbody>\n",
       "    <tr>\n",
       "      <th>0</th>\n",
       "      <td>2017-01-01</td>\n",
       "      <td>Argentina|Kaggle Learn|Using LLMs to Improve Y...</td>\n",
       "      <td>43.720642</td>\n",
       "      <td>47.245448</td>\n",
       "      <td>39.838606</td>\n",
       "    </tr>\n",
       "    <tr>\n",
       "      <th>1</th>\n",
       "      <td>2017-01-02</td>\n",
       "      <td>Argentina|Kaggle Learn|Using LLMs to Improve Y...</td>\n",
       "      <td>38.473448</td>\n",
       "      <td>42.427572</td>\n",
       "      <td>34.804113</td>\n",
       "    </tr>\n",
       "    <tr>\n",
       "      <th>2</th>\n",
       "      <td>2017-01-03</td>\n",
       "      <td>Argentina|Kaggle Learn|Using LLMs to Improve Y...</td>\n",
       "      <td>38.117894</td>\n",
       "      <td>41.821099</td>\n",
       "      <td>34.449220</td>\n",
       "    </tr>\n",
       "    <tr>\n",
       "      <th>3</th>\n",
       "      <td>2017-01-04</td>\n",
       "      <td>Argentina|Kaggle Learn|Using LLMs to Improve Y...</td>\n",
       "      <td>38.278624</td>\n",
       "      <td>42.200522</td>\n",
       "      <td>34.500121</td>\n",
       "    </tr>\n",
       "    <tr>\n",
       "      <th>4</th>\n",
       "      <td>2017-01-05</td>\n",
       "      <td>Argentina|Kaggle Learn|Using LLMs to Improve Y...</td>\n",
       "      <td>38.210293</td>\n",
       "      <td>42.191761</td>\n",
       "      <td>34.436492</td>\n",
       "    </tr>\n",
       "  </tbody>\n",
       "</table>\n",
       "</div>"
      ],
      "text/plain": [
       "          ds                                               comb       yhat  \\\n",
       "0 2017-01-01  Argentina|Kaggle Learn|Using LLMs to Improve Y...  43.720642   \n",
       "1 2017-01-02  Argentina|Kaggle Learn|Using LLMs to Improve Y...  38.473448   \n",
       "2 2017-01-03  Argentina|Kaggle Learn|Using LLMs to Improve Y...  38.117894   \n",
       "3 2017-01-04  Argentina|Kaggle Learn|Using LLMs to Improve Y...  38.278624   \n",
       "4 2017-01-05  Argentina|Kaggle Learn|Using LLMs to Improve Y...  38.210293   \n",
       "\n",
       "   yhat_upper  yhat_lower  \n",
       "0   47.245448   39.838606  \n",
       "1   42.427572   34.804113  \n",
       "2   41.821099   34.449220  \n",
       "3   42.200522   34.500121  \n",
       "4   42.191761   34.436492  "
      ]
     },
     "execution_count": 41,
     "metadata": {},
     "output_type": "execute_result"
    }
   ],
   "source": [
    "preds = pd.DataFrame()\n",
    "forecasts = []\n",
    "models = []\n",
    "\n",
    "for comb in train_df.comb.unique():\n",
    "    country = comb.split('|')[0]\n",
    "    group = groups_by_comb.get_group(comb)\n",
    "    m, forecast = train_and_forecast(group, country)\n",
    "    preds = pd.concat((preds, forecast[['ds', 'comb', 'yhat', 'yhat_upper', 'yhat_lower']]))\n",
    "    models.append(m)\n",
    "    forecasts.append(forecast)\n",
    "    \n",
    "preds.head()"
   ]
  },
  {
   "cell_type": "markdown",
   "id": "a6ca064f",
   "metadata": {},
   "source": [
    "## Evaluation"
   ]
  },
  {
   "cell_type": "code",
   "execution_count": 42,
   "id": "5e13921f",
   "metadata": {
    "ExecuteTime": {
     "end_time": "2023-07-25T12:40:55.126605Z",
     "start_time": "2023-07-25T12:40:55.121974Z"
    }
   },
   "outputs": [],
   "source": [
    "def get_smape(m):\n",
    "    m_cv = cross_validation(model=m, \n",
    "                            initial='1460 days',\n",
    "                            horizon='365 days')\n",
    "    pm = performance_metrics(m_cv)\n",
    "    return pm[pm['horizon'] == '365 days']['smape'].values[0]"
   ]
  },
  {
   "cell_type": "code",
   "execution_count": 43,
   "id": "44d05775",
   "metadata": {
    "ExecuteTime": {
     "end_time": "2023-07-25T12:42:35.385653Z",
     "start_time": "2023-07-25T12:40:55.133747Z"
    }
   },
   "outputs": [
    {
     "name": "stderr",
     "output_type": "stream",
     "text": [
      "\r",
      "  0%|                                                    | 0/75 [00:00<?, ?it/s]"
     ]
    },
    {
     "data": {
      "application/vnd.jupyter.widget-view+json": {
       "model_id": "5da6a908b32847ebb1d8a07756009065",
       "version_major": 2,
       "version_minor": 0
      },
      "text/plain": [
       "  0%|          | 0/1 [00:00<?, ?it/s]"
      ]
     },
     "metadata": {},
     "output_type": "display_data"
    },
    {
     "name": "stderr",
     "output_type": "stream",
     "text": [
      "13:40:55 - cmdstanpy - INFO - Chain [1] start processing\n",
      "13:40:55 - cmdstanpy - INFO - Chain [1] done processing\n",
      "  1%|▌                                           | 1/75 [00:01<01:54,  1.55s/it]"
     ]
    },
    {
     "data": {
      "application/vnd.jupyter.widget-view+json": {
       "model_id": "9da1bc1f15c04f9face01aaf1338a114",
       "version_major": 2,
       "version_minor": 0
      },
      "text/plain": [
       "  0%|          | 0/1 [00:00<?, ?it/s]"
      ]
     },
     "metadata": {},
     "output_type": "display_data"
    },
    {
     "name": "stderr",
     "output_type": "stream",
     "text": [
      "13:40:56 - cmdstanpy - INFO - Chain [1] start processing\n",
      "13:40:57 - cmdstanpy - INFO - Chain [1] done processing\n",
      "  3%|█▏                                          | 2/75 [00:02<01:43,  1.41s/it]"
     ]
    },
    {
     "data": {
      "application/vnd.jupyter.widget-view+json": {
       "model_id": "551d62e6cb074f3b9d5e877aa77b8d7b",
       "version_major": 2,
       "version_minor": 0
      },
      "text/plain": [
       "  0%|          | 0/1 [00:00<?, ?it/s]"
      ]
     },
     "metadata": {},
     "output_type": "display_data"
    },
    {
     "name": "stderr",
     "output_type": "stream",
     "text": [
      "13:40:58 - cmdstanpy - INFO - Chain [1] start processing\n",
      "13:40:58 - cmdstanpy - INFO - Chain [1] done processing\n",
      "  4%|█▊                                          | 3/75 [00:04<01:37,  1.36s/it]"
     ]
    },
    {
     "data": {
      "application/vnd.jupyter.widget-view+json": {
       "model_id": "6a0adf54cba04fb892b0c9116f0220a4",
       "version_major": 2,
       "version_minor": 0
      },
      "text/plain": [
       "  0%|          | 0/1 [00:00<?, ?it/s]"
      ]
     },
     "metadata": {},
     "output_type": "display_data"
    },
    {
     "name": "stderr",
     "output_type": "stream",
     "text": [
      "13:40:59 - cmdstanpy - INFO - Chain [1] start processing\n",
      "13:40:59 - cmdstanpy - INFO - Chain [1] done processing\n",
      "  5%|██▎                                         | 4/75 [00:05<01:37,  1.38s/it]"
     ]
    },
    {
     "data": {
      "application/vnd.jupyter.widget-view+json": {
       "model_id": "e505b4fa8f1747efac1dbb0d6e84964a",
       "version_major": 2,
       "version_minor": 0
      },
      "text/plain": [
       "  0%|          | 0/1 [00:00<?, ?it/s]"
      ]
     },
     "metadata": {},
     "output_type": "display_data"
    },
    {
     "name": "stderr",
     "output_type": "stream",
     "text": [
      "13:41:00 - cmdstanpy - INFO - Chain [1] start processing\n",
      "13:41:01 - cmdstanpy - INFO - Chain [1] done processing\n",
      "  7%|██▉                                         | 5/75 [00:06<01:33,  1.33s/it]"
     ]
    },
    {
     "data": {
      "application/vnd.jupyter.widget-view+json": {
       "model_id": "98edd7dfbfc94ee5a3132733c5e58bc8",
       "version_major": 2,
       "version_minor": 0
      },
      "text/plain": [
       "  0%|          | 0/1 [00:00<?, ?it/s]"
      ]
     },
     "metadata": {},
     "output_type": "display_data"
    },
    {
     "name": "stderr",
     "output_type": "stream",
     "text": [
      "13:41:02 - cmdstanpy - INFO - Chain [1] start processing\n",
      "13:41:02 - cmdstanpy - INFO - Chain [1] done processing\n",
      "  8%|███▌                                        | 6/75 [00:08<01:31,  1.32s/it]"
     ]
    },
    {
     "data": {
      "application/vnd.jupyter.widget-view+json": {
       "model_id": "7fa616bf58e443789375d549fdfcc710",
       "version_major": 2,
       "version_minor": 0
      },
      "text/plain": [
       "  0%|          | 0/1 [00:00<?, ?it/s]"
      ]
     },
     "metadata": {},
     "output_type": "display_data"
    },
    {
     "name": "stderr",
     "output_type": "stream",
     "text": [
      "13:41:03 - cmdstanpy - INFO - Chain [1] start processing\n",
      "13:41:03 - cmdstanpy - INFO - Chain [1] done processing\n",
      "  9%|████                                        | 7/75 [00:09<01:31,  1.35s/it]"
     ]
    },
    {
     "data": {
      "application/vnd.jupyter.widget-view+json": {
       "model_id": "077b657d88db417cb8d05ce4318bea82",
       "version_major": 2,
       "version_minor": 0
      },
      "text/plain": [
       "  0%|          | 0/1 [00:00<?, ?it/s]"
      ]
     },
     "metadata": {},
     "output_type": "display_data"
    },
    {
     "name": "stderr",
     "output_type": "stream",
     "text": [
      "13:41:04 - cmdstanpy - INFO - Chain [1] start processing\n",
      "13:41:05 - cmdstanpy - INFO - Chain [1] done processing\n",
      " 11%|████▋                                       | 8/75 [00:10<01:30,  1.36s/it]"
     ]
    },
    {
     "data": {
      "application/vnd.jupyter.widget-view+json": {
       "model_id": "89cbb687b7534eefb89832c8b50be584",
       "version_major": 2,
       "version_minor": 0
      },
      "text/plain": [
       "  0%|          | 0/1 [00:00<?, ?it/s]"
      ]
     },
     "metadata": {},
     "output_type": "display_data"
    },
    {
     "name": "stderr",
     "output_type": "stream",
     "text": [
      "13:41:06 - cmdstanpy - INFO - Chain [1] start processing\n",
      "13:41:06 - cmdstanpy - INFO - Chain [1] done processing\n",
      " 12%|█████▎                                      | 9/75 [00:12<01:28,  1.34s/it]"
     ]
    },
    {
     "data": {
      "application/vnd.jupyter.widget-view+json": {
       "model_id": "7951d561905240a9a3ae098bebd7159c",
       "version_major": 2,
       "version_minor": 0
      },
      "text/plain": [
       "  0%|          | 0/1 [00:00<?, ?it/s]"
      ]
     },
     "metadata": {},
     "output_type": "display_data"
    },
    {
     "name": "stderr",
     "output_type": "stream",
     "text": [
      "13:41:07 - cmdstanpy - INFO - Chain [1] start processing\n",
      "13:41:07 - cmdstanpy - INFO - Chain [1] done processing\n",
      " 13%|█████▋                                     | 10/75 [00:13<01:25,  1.31s/it]"
     ]
    },
    {
     "data": {
      "application/vnd.jupyter.widget-view+json": {
       "model_id": "a5c33293b0a348e198a65fdc832109e8",
       "version_major": 2,
       "version_minor": 0
      },
      "text/plain": [
       "  0%|          | 0/1 [00:00<?, ?it/s]"
      ]
     },
     "metadata": {},
     "output_type": "display_data"
    },
    {
     "name": "stderr",
     "output_type": "stream",
     "text": [
      "13:41:08 - cmdstanpy - INFO - Chain [1] start processing\n",
      "13:41:08 - cmdstanpy - INFO - Chain [1] done processing\n",
      " 15%|██████▎                                    | 11/75 [00:14<01:23,  1.31s/it]"
     ]
    },
    {
     "data": {
      "application/vnd.jupyter.widget-view+json": {
       "model_id": "135349b1c76542419a4949d6067b689c",
       "version_major": 2,
       "version_minor": 0
      },
      "text/plain": [
       "  0%|          | 0/1 [00:00<?, ?it/s]"
      ]
     },
     "metadata": {},
     "output_type": "display_data"
    },
    {
     "name": "stderr",
     "output_type": "stream",
     "text": [
      "13:41:10 - cmdstanpy - INFO - Chain [1] start processing\n",
      "13:41:10 - cmdstanpy - INFO - Chain [1] done processing\n",
      " 16%|██████▉                                    | 12/75 [00:16<01:22,  1.31s/it]"
     ]
    },
    {
     "data": {
      "application/vnd.jupyter.widget-view+json": {
       "model_id": "6a88cdac7a0c4a609bcd8b9755fad2a1",
       "version_major": 2,
       "version_minor": 0
      },
      "text/plain": [
       "  0%|          | 0/1 [00:00<?, ?it/s]"
      ]
     },
     "metadata": {},
     "output_type": "display_data"
    },
    {
     "name": "stderr",
     "output_type": "stream",
     "text": [
      "13:41:11 - cmdstanpy - INFO - Chain [1] start processing\n",
      "13:41:11 - cmdstanpy - INFO - Chain [1] done processing\n",
      " 17%|███████▍                                   | 13/75 [00:17<01:20,  1.30s/it]"
     ]
    },
    {
     "data": {
      "application/vnd.jupyter.widget-view+json": {
       "model_id": "53c1e725ab724855bec760f3129fcb6a",
       "version_major": 2,
       "version_minor": 0
      },
      "text/plain": [
       "  0%|          | 0/1 [00:00<?, ?it/s]"
      ]
     },
     "metadata": {},
     "output_type": "display_data"
    },
    {
     "name": "stderr",
     "output_type": "stream",
     "text": [
      "13:41:12 - cmdstanpy - INFO - Chain [1] start processing\n",
      "13:41:12 - cmdstanpy - INFO - Chain [1] done processing\n",
      " 19%|████████                                   | 14/75 [00:18<01:20,  1.31s/it]"
     ]
    },
    {
     "data": {
      "application/vnd.jupyter.widget-view+json": {
       "model_id": "ac53d69c6dda45c5b49865895f7e4183",
       "version_major": 2,
       "version_minor": 0
      },
      "text/plain": [
       "  0%|          | 0/1 [00:00<?, ?it/s]"
      ]
     },
     "metadata": {},
     "output_type": "display_data"
    },
    {
     "name": "stderr",
     "output_type": "stream",
     "text": [
      "13:41:13 - cmdstanpy - INFO - Chain [1] start processing\n",
      "13:41:14 - cmdstanpy - INFO - Chain [1] done processing\n",
      " 20%|████████▌                                  | 15/75 [00:19<01:17,  1.29s/it]"
     ]
    },
    {
     "data": {
      "application/vnd.jupyter.widget-view+json": {
       "model_id": "d992f36a96ee43a5ba160d0779c4222b",
       "version_major": 2,
       "version_minor": 0
      },
      "text/plain": [
       "  0%|          | 0/1 [00:00<?, ?it/s]"
      ]
     },
     "metadata": {},
     "output_type": "display_data"
    },
    {
     "name": "stderr",
     "output_type": "stream",
     "text": [
      "13:41:15 - cmdstanpy - INFO - Chain [1] start processing\n",
      "13:41:15 - cmdstanpy - INFO - Chain [1] done processing\n",
      " 21%|█████████▏                                 | 16/75 [00:21<01:16,  1.29s/it]"
     ]
    },
    {
     "data": {
      "application/vnd.jupyter.widget-view+json": {
       "model_id": "fc4234fe48d64fc1912eccbae02184db",
       "version_major": 2,
       "version_minor": 0
      },
      "text/plain": [
       "  0%|          | 0/1 [00:00<?, ?it/s]"
      ]
     },
     "metadata": {},
     "output_type": "display_data"
    },
    {
     "name": "stderr",
     "output_type": "stream",
     "text": [
      "13:41:16 - cmdstanpy - INFO - Chain [1] start processing\n",
      "13:41:16 - cmdstanpy - INFO - Chain [1] done processing\n",
      " 23%|█████████▋                                 | 17/75 [00:22<01:15,  1.30s/it]"
     ]
    },
    {
     "data": {
      "application/vnd.jupyter.widget-view+json": {
       "model_id": "f460869f6be64cdb9c6b8a5790c3bdf1",
       "version_major": 2,
       "version_minor": 0
      },
      "text/plain": [
       "  0%|          | 0/1 [00:00<?, ?it/s]"
      ]
     },
     "metadata": {},
     "output_type": "display_data"
    },
    {
     "name": "stderr",
     "output_type": "stream",
     "text": [
      "13:41:17 - cmdstanpy - INFO - Chain [1] start processing\n",
      "13:41:18 - cmdstanpy - INFO - Chain [1] done processing\n",
      " 24%|██████████▎                                | 18/75 [00:23<01:15,  1.33s/it]"
     ]
    },
    {
     "data": {
      "application/vnd.jupyter.widget-view+json": {
       "model_id": "ff52b2b46ef94308904465decd098340",
       "version_major": 2,
       "version_minor": 0
      },
      "text/plain": [
       "  0%|          | 0/1 [00:00<?, ?it/s]"
      ]
     },
     "metadata": {},
     "output_type": "display_data"
    },
    {
     "name": "stderr",
     "output_type": "stream",
     "text": [
      "13:41:19 - cmdstanpy - INFO - Chain [1] start processing\n",
      "13:41:19 - cmdstanpy - INFO - Chain [1] done processing\n",
      " 25%|██████████▉                                | 19/75 [00:25<01:13,  1.31s/it]"
     ]
    },
    {
     "data": {
      "application/vnd.jupyter.widget-view+json": {
       "model_id": "02c6c0be449d408abae2ceacdfe27f17",
       "version_major": 2,
       "version_minor": 0
      },
      "text/plain": [
       "  0%|          | 0/1 [00:00<?, ?it/s]"
      ]
     },
     "metadata": {},
     "output_type": "display_data"
    },
    {
     "name": "stderr",
     "output_type": "stream",
     "text": [
      "13:41:20 - cmdstanpy - INFO - Chain [1] start processing\n",
      "13:41:20 - cmdstanpy - INFO - Chain [1] done processing\n",
      " 27%|███████████▍                               | 20/75 [00:26<01:14,  1.35s/it]"
     ]
    },
    {
     "data": {
      "application/vnd.jupyter.widget-view+json": {
       "model_id": "7568301efe754d99950a0fad6ce649fb",
       "version_major": 2,
       "version_minor": 0
      },
      "text/plain": [
       "  0%|          | 0/1 [00:00<?, ?it/s]"
      ]
     },
     "metadata": {},
     "output_type": "display_data"
    },
    {
     "name": "stderr",
     "output_type": "stream",
     "text": [
      "13:41:21 - cmdstanpy - INFO - Chain [1] start processing\n",
      "13:41:22 - cmdstanpy - INFO - Chain [1] done processing\n",
      " 28%|████████████                               | 21/75 [00:27<01:10,  1.31s/it]"
     ]
    },
    {
     "data": {
      "application/vnd.jupyter.widget-view+json": {
       "model_id": "0f72af2c92be4c45818c92ff831c3c67",
       "version_major": 2,
       "version_minor": 0
      },
      "text/plain": [
       "  0%|          | 0/1 [00:00<?, ?it/s]"
      ]
     },
     "metadata": {},
     "output_type": "display_data"
    },
    {
     "name": "stderr",
     "output_type": "stream",
     "text": [
      "13:41:23 - cmdstanpy - INFO - Chain [1] start processing\n",
      "13:41:23 - cmdstanpy - INFO - Chain [1] done processing\n",
      " 29%|████████████▌                              | 22/75 [00:29<01:14,  1.41s/it]"
     ]
    },
    {
     "data": {
      "application/vnd.jupyter.widget-view+json": {
       "model_id": "e3e5a2c2c5af48f49326847eb72a0052",
       "version_major": 2,
       "version_minor": 0
      },
      "text/plain": [
       "  0%|          | 0/1 [00:00<?, ?it/s]"
      ]
     },
     "metadata": {},
     "output_type": "display_data"
    },
    {
     "name": "stderr",
     "output_type": "stream",
     "text": [
      "13:41:24 - cmdstanpy - INFO - Chain [1] start processing\n",
      "13:41:25 - cmdstanpy - INFO - Chain [1] done processing\n",
      " 31%|█████████████▏                             | 23/75 [00:31<01:17,  1.48s/it]"
     ]
    },
    {
     "data": {
      "application/vnd.jupyter.widget-view+json": {
       "model_id": "e53dbf9bf0b145f79e70e20616a3e9fc",
       "version_major": 2,
       "version_minor": 0
      },
      "text/plain": [
       "  0%|          | 0/1 [00:00<?, ?it/s]"
      ]
     },
     "metadata": {},
     "output_type": "display_data"
    },
    {
     "name": "stderr",
     "output_type": "stream",
     "text": [
      "13:41:26 - cmdstanpy - INFO - Chain [1] start processing\n",
      "13:41:26 - cmdstanpy - INFO - Chain [1] done processing\n",
      " 32%|█████████████▊                             | 24/75 [00:32<01:14,  1.46s/it]"
     ]
    },
    {
     "data": {
      "application/vnd.jupyter.widget-view+json": {
       "model_id": "1421733b5d85461393d851567e350e49",
       "version_major": 2,
       "version_minor": 0
      },
      "text/plain": [
       "  0%|          | 0/1 [00:00<?, ?it/s]"
      ]
     },
     "metadata": {},
     "output_type": "display_data"
    },
    {
     "name": "stderr",
     "output_type": "stream",
     "text": [
      "13:41:28 - cmdstanpy - INFO - Chain [1] start processing\n",
      "13:41:28 - cmdstanpy - INFO - Chain [1] done processing\n",
      " 33%|██████████████▎                            | 25/75 [00:33<01:12,  1.44s/it]"
     ]
    },
    {
     "data": {
      "application/vnd.jupyter.widget-view+json": {
       "model_id": "f7c6eac6a72348f58615c292aed3aae4",
       "version_major": 2,
       "version_minor": 0
      },
      "text/plain": [
       "  0%|          | 0/1 [00:00<?, ?it/s]"
      ]
     },
     "metadata": {},
     "output_type": "display_data"
    },
    {
     "name": "stderr",
     "output_type": "stream",
     "text": [
      "13:41:29 - cmdstanpy - INFO - Chain [1] start processing\n",
      "13:41:29 - cmdstanpy - INFO - Chain [1] done processing\n",
      " 35%|██████████████▉                            | 26/75 [00:35<01:11,  1.47s/it]"
     ]
    },
    {
     "data": {
      "application/vnd.jupyter.widget-view+json": {
       "model_id": "f8f73af118be4840ad45a6520485c095",
       "version_major": 2,
       "version_minor": 0
      },
      "text/plain": [
       "  0%|          | 0/1 [00:00<?, ?it/s]"
      ]
     },
     "metadata": {},
     "output_type": "display_data"
    },
    {
     "name": "stderr",
     "output_type": "stream",
     "text": [
      "13:41:30 - cmdstanpy - INFO - Chain [1] start processing\n",
      "13:41:31 - cmdstanpy - INFO - Chain [1] done processing\n",
      " 36%|███████████████▍                           | 27/75 [00:36<01:09,  1.45s/it]"
     ]
    },
    {
     "data": {
      "application/vnd.jupyter.widget-view+json": {
       "model_id": "f22f404dc82843529a879b156b6c25a8",
       "version_major": 2,
       "version_minor": 0
      },
      "text/plain": [
       "  0%|          | 0/1 [00:00<?, ?it/s]"
      ]
     },
     "metadata": {},
     "output_type": "display_data"
    },
    {
     "name": "stderr",
     "output_type": "stream",
     "text": [
      "13:41:32 - cmdstanpy - INFO - Chain [1] start processing\n",
      "13:41:32 - cmdstanpy - INFO - Chain [1] done processing\n",
      " 37%|████████████████                           | 28/75 [00:38<01:05,  1.39s/it]"
     ]
    },
    {
     "data": {
      "application/vnd.jupyter.widget-view+json": {
       "model_id": "af7e0be58c624bce8563581ed50cc23c",
       "version_major": 2,
       "version_minor": 0
      },
      "text/plain": [
       "  0%|          | 0/1 [00:00<?, ?it/s]"
      ]
     },
     "metadata": {},
     "output_type": "display_data"
    },
    {
     "name": "stderr",
     "output_type": "stream",
     "text": [
      "13:41:33 - cmdstanpy - INFO - Chain [1] start processing\n",
      "13:41:33 - cmdstanpy - INFO - Chain [1] done processing\n",
      " 39%|████████████████▋                          | 29/75 [00:39<01:04,  1.40s/it]"
     ]
    },
    {
     "data": {
      "application/vnd.jupyter.widget-view+json": {
       "model_id": "6c622c30b230429ca5393b8092e6fa2a",
       "version_major": 2,
       "version_minor": 0
      },
      "text/plain": [
       "  0%|          | 0/1 [00:00<?, ?it/s]"
      ]
     },
     "metadata": {},
     "output_type": "display_data"
    },
    {
     "name": "stderr",
     "output_type": "stream",
     "text": [
      "13:41:34 - cmdstanpy - INFO - Chain [1] start processing\n",
      "13:41:35 - cmdstanpy - INFO - Chain [1] done processing\n",
      " 40%|█████████████████▏                         | 30/75 [00:40<01:01,  1.37s/it]"
     ]
    },
    {
     "data": {
      "application/vnd.jupyter.widget-view+json": {
       "model_id": "2b965800c0a84605aa7925b124dd34de",
       "version_major": 2,
       "version_minor": 0
      },
      "text/plain": [
       "  0%|          | 0/1 [00:00<?, ?it/s]"
      ]
     },
     "metadata": {},
     "output_type": "display_data"
    },
    {
     "name": "stderr",
     "output_type": "stream",
     "text": [
      "13:41:36 - cmdstanpy - INFO - Chain [1] start processing\n",
      "13:41:36 - cmdstanpy - INFO - Chain [1] done processing\n",
      " 41%|█████████████████▊                         | 31/75 [00:42<00:59,  1.34s/it]"
     ]
    },
    {
     "data": {
      "application/vnd.jupyter.widget-view+json": {
       "model_id": "82976587e244429fa5fb34b94989b397",
       "version_major": 2,
       "version_minor": 0
      },
      "text/plain": [
       "  0%|          | 0/1 [00:00<?, ?it/s]"
      ]
     },
     "metadata": {},
     "output_type": "display_data"
    },
    {
     "name": "stderr",
     "output_type": "stream",
     "text": [
      "13:41:37 - cmdstanpy - INFO - Chain [1] start processing\n",
      "13:41:37 - cmdstanpy - INFO - Chain [1] done processing\n",
      " 43%|██████████████████▎                        | 32/75 [00:43<00:58,  1.36s/it]"
     ]
    },
    {
     "data": {
      "application/vnd.jupyter.widget-view+json": {
       "model_id": "86a2b7c4dc86492ab00990fdaeaf4672",
       "version_major": 2,
       "version_minor": 0
      },
      "text/plain": [
       "  0%|          | 0/1 [00:00<?, ?it/s]"
      ]
     },
     "metadata": {},
     "output_type": "display_data"
    },
    {
     "name": "stderr",
     "output_type": "stream",
     "text": [
      "13:41:38 - cmdstanpy - INFO - Chain [1] start processing\n",
      "13:41:39 - cmdstanpy - INFO - Chain [1] done processing\n",
      " 44%|██████████████████▉                        | 33/75 [00:44<00:55,  1.33s/it]"
     ]
    },
    {
     "data": {
      "application/vnd.jupyter.widget-view+json": {
       "model_id": "913ea49663ab48849dc01a5f40e2c2a3",
       "version_major": 2,
       "version_minor": 0
      },
      "text/plain": [
       "  0%|          | 0/1 [00:00<?, ?it/s]"
      ]
     },
     "metadata": {},
     "output_type": "display_data"
    },
    {
     "name": "stderr",
     "output_type": "stream",
     "text": [
      "13:41:40 - cmdstanpy - INFO - Chain [1] start processing\n",
      "13:41:40 - cmdstanpy - INFO - Chain [1] done processing\n",
      " 45%|███████████████████▍                       | 34/75 [00:46<00:54,  1.34s/it]"
     ]
    },
    {
     "data": {
      "application/vnd.jupyter.widget-view+json": {
       "model_id": "e6f98e3b82034920b7ee300252e0e124",
       "version_major": 2,
       "version_minor": 0
      },
      "text/plain": [
       "  0%|          | 0/1 [00:00<?, ?it/s]"
      ]
     },
     "metadata": {},
     "output_type": "display_data"
    },
    {
     "name": "stderr",
     "output_type": "stream",
     "text": [
      "13:41:41 - cmdstanpy - INFO - Chain [1] start processing\n",
      "13:41:41 - cmdstanpy - INFO - Chain [1] done processing\n",
      " 47%|████████████████████                       | 35/75 [00:47<00:53,  1.34s/it]"
     ]
    },
    {
     "data": {
      "application/vnd.jupyter.widget-view+json": {
       "model_id": "cc319341d0e141e986230834c6d125ce",
       "version_major": 2,
       "version_minor": 0
      },
      "text/plain": [
       "  0%|          | 0/1 [00:00<?, ?it/s]"
      ]
     },
     "metadata": {},
     "output_type": "display_data"
    },
    {
     "name": "stderr",
     "output_type": "stream",
     "text": [
      "13:41:42 - cmdstanpy - INFO - Chain [1] start processing\n",
      "13:41:42 - cmdstanpy - INFO - Chain [1] done processing\n",
      " 48%|████████████████████▋                      | 36/75 [00:48<00:51,  1.32s/it]"
     ]
    },
    {
     "data": {
      "application/vnd.jupyter.widget-view+json": {
       "model_id": "f1ac7d8a147546afa3306491992027c3",
       "version_major": 2,
       "version_minor": 0
      },
      "text/plain": [
       "  0%|          | 0/1 [00:00<?, ?it/s]"
      ]
     },
     "metadata": {},
     "output_type": "display_data"
    },
    {
     "name": "stderr",
     "output_type": "stream",
     "text": [
      "13:41:44 - cmdstanpy - INFO - Chain [1] start processing\n",
      "13:41:44 - cmdstanpy - INFO - Chain [1] done processing\n",
      " 49%|█████████████████████▏                     | 37/75 [00:50<00:49,  1.31s/it]"
     ]
    },
    {
     "data": {
      "application/vnd.jupyter.widget-view+json": {
       "model_id": "1b41516a37344beb831d0782895861e2",
       "version_major": 2,
       "version_minor": 0
      },
      "text/plain": [
       "  0%|          | 0/1 [00:00<?, ?it/s]"
      ]
     },
     "metadata": {},
     "output_type": "display_data"
    },
    {
     "name": "stderr",
     "output_type": "stream",
     "text": [
      "13:41:45 - cmdstanpy - INFO - Chain [1] start processing\n",
      "13:41:45 - cmdstanpy - INFO - Chain [1] done processing\n",
      " 51%|█████████████████████▊                     | 38/75 [00:51<00:48,  1.30s/it]"
     ]
    },
    {
     "data": {
      "application/vnd.jupyter.widget-view+json": {
       "model_id": "cfac1f8a2dc04a4fb09512b9db93d85d",
       "version_major": 2,
       "version_minor": 0
      },
      "text/plain": [
       "  0%|          | 0/1 [00:00<?, ?it/s]"
      ]
     },
     "metadata": {},
     "output_type": "display_data"
    },
    {
     "name": "stderr",
     "output_type": "stream",
     "text": [
      "13:41:46 - cmdstanpy - INFO - Chain [1] start processing\n",
      "13:41:46 - cmdstanpy - INFO - Chain [1] done processing\n",
      " 52%|██████████████████████▎                    | 39/75 [00:52<00:46,  1.29s/it]"
     ]
    },
    {
     "data": {
      "application/vnd.jupyter.widget-view+json": {
       "model_id": "d13f8ef231544611976dd638193445b3",
       "version_major": 2,
       "version_minor": 0
      },
      "text/plain": [
       "  0%|          | 0/1 [00:00<?, ?it/s]"
      ]
     },
     "metadata": {},
     "output_type": "display_data"
    },
    {
     "name": "stderr",
     "output_type": "stream",
     "text": [
      "13:41:47 - cmdstanpy - INFO - Chain [1] start processing\n",
      "13:41:48 - cmdstanpy - INFO - Chain [1] done processing\n",
      " 53%|██████████████████████▉                    | 40/75 [00:53<00:45,  1.29s/it]"
     ]
    },
    {
     "data": {
      "application/vnd.jupyter.widget-view+json": {
       "model_id": "78d658f81e5341acb44dda07c5e9e6c8",
       "version_major": 2,
       "version_minor": 0
      },
      "text/plain": [
       "  0%|          | 0/1 [00:00<?, ?it/s]"
      ]
     },
     "metadata": {},
     "output_type": "display_data"
    },
    {
     "name": "stderr",
     "output_type": "stream",
     "text": [
      "13:41:49 - cmdstanpy - INFO - Chain [1] start processing\n",
      "13:41:49 - cmdstanpy - INFO - Chain [1] done processing\n",
      " 55%|███████████████████████▌                   | 41/75 [00:55<00:44,  1.32s/it]"
     ]
    },
    {
     "data": {
      "application/vnd.jupyter.widget-view+json": {
       "model_id": "e557c2cbee364426aa216dbe9773dda4",
       "version_major": 2,
       "version_minor": 0
      },
      "text/plain": [
       "  0%|          | 0/1 [00:00<?, ?it/s]"
      ]
     },
     "metadata": {},
     "output_type": "display_data"
    },
    {
     "name": "stderr",
     "output_type": "stream",
     "text": [
      "13:41:50 - cmdstanpy - INFO - Chain [1] start processing\n",
      "13:41:51 - cmdstanpy - INFO - Chain [1] done processing\n",
      " 56%|████████████████████████                   | 42/75 [00:56<00:45,  1.38s/it]"
     ]
    },
    {
     "data": {
      "application/vnd.jupyter.widget-view+json": {
       "model_id": "727bfbf84296494ab9ec7b280753b145",
       "version_major": 2,
       "version_minor": 0
      },
      "text/plain": [
       "  0%|          | 0/1 [00:00<?, ?it/s]"
      ]
     },
     "metadata": {},
     "output_type": "display_data"
    },
    {
     "name": "stderr",
     "output_type": "stream",
     "text": [
      "13:41:52 - cmdstanpy - INFO - Chain [1] start processing\n",
      "13:41:52 - cmdstanpy - INFO - Chain [1] done processing\n",
      " 57%|████████████████████████▋                  | 43/75 [00:58<00:43,  1.36s/it]"
     ]
    },
    {
     "data": {
      "application/vnd.jupyter.widget-view+json": {
       "model_id": "a16318400f84409cb9a00fc373ee337a",
       "version_major": 2,
       "version_minor": 0
      },
      "text/plain": [
       "  0%|          | 0/1 [00:00<?, ?it/s]"
      ]
     },
     "metadata": {},
     "output_type": "display_data"
    },
    {
     "name": "stderr",
     "output_type": "stream",
     "text": [
      "13:41:53 - cmdstanpy - INFO - Chain [1] start processing\n",
      "13:41:53 - cmdstanpy - INFO - Chain [1] done processing\n",
      " 59%|█████████████████████████▏                 | 44/75 [00:59<00:41,  1.34s/it]"
     ]
    },
    {
     "data": {
      "application/vnd.jupyter.widget-view+json": {
       "model_id": "badc7ab4bc054befbaf544bf5c288a69",
       "version_major": 2,
       "version_minor": 0
      },
      "text/plain": [
       "  0%|          | 0/1 [00:00<?, ?it/s]"
      ]
     },
     "metadata": {},
     "output_type": "display_data"
    },
    {
     "name": "stderr",
     "output_type": "stream",
     "text": [
      "13:41:54 - cmdstanpy - INFO - Chain [1] start processing\n",
      "13:41:54 - cmdstanpy - INFO - Chain [1] done processing\n",
      " 60%|█████████████████████████▊                 | 45/75 [01:00<00:40,  1.34s/it]"
     ]
    },
    {
     "data": {
      "application/vnd.jupyter.widget-view+json": {
       "model_id": "884f89dce6c84832a4b7e8c0d245e4ea",
       "version_major": 2,
       "version_minor": 0
      },
      "text/plain": [
       "  0%|          | 0/1 [00:00<?, ?it/s]"
      ]
     },
     "metadata": {},
     "output_type": "display_data"
    },
    {
     "name": "stderr",
     "output_type": "stream",
     "text": [
      "13:41:56 - cmdstanpy - INFO - Chain [1] start processing\n",
      "13:41:56 - cmdstanpy - INFO - Chain [1] done processing\n",
      " 61%|██████████████████████████▎                | 46/75 [01:02<00:38,  1.31s/it]"
     ]
    },
    {
     "data": {
      "application/vnd.jupyter.widget-view+json": {
       "model_id": "615ef220b60e4bc6989b2d6eac0afaf1",
       "version_major": 2,
       "version_minor": 0
      },
      "text/plain": [
       "  0%|          | 0/1 [00:00<?, ?it/s]"
      ]
     },
     "metadata": {},
     "output_type": "display_data"
    },
    {
     "name": "stderr",
     "output_type": "stream",
     "text": [
      "13:41:57 - cmdstanpy - INFO - Chain [1] start processing\n",
      "13:41:57 - cmdstanpy - INFO - Chain [1] done processing\n",
      " 63%|██████████████████████████▉                | 47/75 [01:03<00:36,  1.32s/it]"
     ]
    },
    {
     "data": {
      "application/vnd.jupyter.widget-view+json": {
       "model_id": "9bebf712e64347a4b8960f3ef3ea5b5c",
       "version_major": 2,
       "version_minor": 0
      },
      "text/plain": [
       "  0%|          | 0/1 [00:00<?, ?it/s]"
      ]
     },
     "metadata": {},
     "output_type": "display_data"
    },
    {
     "name": "stderr",
     "output_type": "stream",
     "text": [
      "13:41:58 - cmdstanpy - INFO - Chain [1] start processing\n",
      "13:41:58 - cmdstanpy - INFO - Chain [1] done processing\n",
      " 64%|███████████████████████████▌               | 48/75 [01:04<00:35,  1.31s/it]"
     ]
    },
    {
     "data": {
      "application/vnd.jupyter.widget-view+json": {
       "model_id": "7d8985d0af6d4f13a6a4bf875d5420dd",
       "version_major": 2,
       "version_minor": 0
      },
      "text/plain": [
       "  0%|          | 0/1 [00:00<?, ?it/s]"
      ]
     },
     "metadata": {},
     "output_type": "display_data"
    },
    {
     "name": "stderr",
     "output_type": "stream",
     "text": [
      "13:41:59 - cmdstanpy - INFO - Chain [1] start processing\n",
      "13:42:00 - cmdstanpy - INFO - Chain [1] done processing\n",
      " 65%|████████████████████████████               | 49/75 [01:05<00:34,  1.31s/it]"
     ]
    },
    {
     "data": {
      "application/vnd.jupyter.widget-view+json": {
       "model_id": "36376f5b2a3c4b768ae2da0160758628",
       "version_major": 2,
       "version_minor": 0
      },
      "text/plain": [
       "  0%|          | 0/1 [00:00<?, ?it/s]"
      ]
     },
     "metadata": {},
     "output_type": "display_data"
    },
    {
     "name": "stderr",
     "output_type": "stream",
     "text": [
      "13:42:01 - cmdstanpy - INFO - Chain [1] start processing\n",
      "13:42:01 - cmdstanpy - INFO - Chain [1] done processing\n",
      " 67%|████████████████████████████▋              | 50/75 [01:07<00:32,  1.30s/it]"
     ]
    },
    {
     "data": {
      "application/vnd.jupyter.widget-view+json": {
       "model_id": "55598769027e460d97e92d4e10f91c2d",
       "version_major": 2,
       "version_minor": 0
      },
      "text/plain": [
       "  0%|          | 0/1 [00:00<?, ?it/s]"
      ]
     },
     "metadata": {},
     "output_type": "display_data"
    },
    {
     "name": "stderr",
     "output_type": "stream",
     "text": [
      "13:42:02 - cmdstanpy - INFO - Chain [1] start processing\n",
      "13:42:02 - cmdstanpy - INFO - Chain [1] done processing\n",
      " 68%|█████████████████████████████▏             | 51/75 [01:08<00:31,  1.32s/it]"
     ]
    },
    {
     "data": {
      "application/vnd.jupyter.widget-view+json": {
       "model_id": "b7270667be6c487d9102ef5c5f0f636d",
       "version_major": 2,
       "version_minor": 0
      },
      "text/plain": [
       "  0%|          | 0/1 [00:00<?, ?it/s]"
      ]
     },
     "metadata": {},
     "output_type": "display_data"
    },
    {
     "name": "stderr",
     "output_type": "stream",
     "text": [
      "13:42:03 - cmdstanpy - INFO - Chain [1] start processing\n",
      "13:42:04 - cmdstanpy - INFO - Chain [1] done processing\n",
      " 69%|█████████████████████████████▊             | 52/75 [01:09<00:30,  1.32s/it]"
     ]
    },
    {
     "data": {
      "application/vnd.jupyter.widget-view+json": {
       "model_id": "9adf2ab25ef84d3a921dced84bcf0e32",
       "version_major": 2,
       "version_minor": 0
      },
      "text/plain": [
       "  0%|          | 0/1 [00:00<?, ?it/s]"
      ]
     },
     "metadata": {},
     "output_type": "display_data"
    },
    {
     "name": "stderr",
     "output_type": "stream",
     "text": [
      "13:42:05 - cmdstanpy - INFO - Chain [1] start processing\n",
      "13:42:05 - cmdstanpy - INFO - Chain [1] done processing\n",
      " 71%|██████████████████████████████▍            | 53/75 [01:11<00:28,  1.32s/it]"
     ]
    },
    {
     "data": {
      "application/vnd.jupyter.widget-view+json": {
       "model_id": "db93f3eefdf94a70894943633395332e",
       "version_major": 2,
       "version_minor": 0
      },
      "text/plain": [
       "  0%|          | 0/1 [00:00<?, ?it/s]"
      ]
     },
     "metadata": {},
     "output_type": "display_data"
    },
    {
     "name": "stderr",
     "output_type": "stream",
     "text": [
      "13:42:06 - cmdstanpy - INFO - Chain [1] start processing\n",
      "13:42:06 - cmdstanpy - INFO - Chain [1] done processing\n",
      " 72%|██████████████████████████████▉            | 54/75 [01:12<00:27,  1.30s/it]"
     ]
    },
    {
     "data": {
      "application/vnd.jupyter.widget-view+json": {
       "model_id": "1ac5cc7a660e498fabfb3f5eb9f68743",
       "version_major": 2,
       "version_minor": 0
      },
      "text/plain": [
       "  0%|          | 0/1 [00:00<?, ?it/s]"
      ]
     },
     "metadata": {},
     "output_type": "display_data"
    },
    {
     "name": "stderr",
     "output_type": "stream",
     "text": [
      "13:42:07 - cmdstanpy - INFO - Chain [1] start processing\n",
      "13:42:08 - cmdstanpy - INFO - Chain [1] done processing\n",
      " 73%|███████████████████████████████▌           | 55/75 [01:13<00:26,  1.34s/it]"
     ]
    },
    {
     "data": {
      "application/vnd.jupyter.widget-view+json": {
       "model_id": "0d1366762b8743718d1ea0a2f0374876",
       "version_major": 2,
       "version_minor": 0
      },
      "text/plain": [
       "  0%|          | 0/1 [00:00<?, ?it/s]"
      ]
     },
     "metadata": {},
     "output_type": "display_data"
    },
    {
     "name": "stderr",
     "output_type": "stream",
     "text": [
      "13:42:09 - cmdstanpy - INFO - Chain [1] start processing\n",
      "13:42:09 - cmdstanpy - INFO - Chain [1] done processing\n",
      " 75%|████████████████████████████████           | 56/75 [01:15<00:25,  1.36s/it]"
     ]
    },
    {
     "data": {
      "application/vnd.jupyter.widget-view+json": {
       "model_id": "d178128c0c4d4df3b5f8fc7d44cffef9",
       "version_major": 2,
       "version_minor": 0
      },
      "text/plain": [
       "  0%|          | 0/1 [00:00<?, ?it/s]"
      ]
     },
     "metadata": {},
     "output_type": "display_data"
    },
    {
     "name": "stderr",
     "output_type": "stream",
     "text": [
      "13:42:10 - cmdstanpy - INFO - Chain [1] start processing\n",
      "13:42:10 - cmdstanpy - INFO - Chain [1] done processing\n",
      " 76%|████████████████████████████████▋          | 57/75 [01:16<00:23,  1.33s/it]"
     ]
    },
    {
     "data": {
      "application/vnd.jupyter.widget-view+json": {
       "model_id": "5c28e96b75384eaab178d86839a423c5",
       "version_major": 2,
       "version_minor": 0
      },
      "text/plain": [
       "  0%|          | 0/1 [00:00<?, ?it/s]"
      ]
     },
     "metadata": {},
     "output_type": "display_data"
    },
    {
     "name": "stderr",
     "output_type": "stream",
     "text": [
      "13:42:11 - cmdstanpy - INFO - Chain [1] start processing\n",
      "13:42:12 - cmdstanpy - INFO - Chain [1] done processing\n",
      " 77%|█████████████████████████████████▎         | 58/75 [01:17<00:22,  1.32s/it]"
     ]
    },
    {
     "data": {
      "application/vnd.jupyter.widget-view+json": {
       "model_id": "8adf16665a5f48ceb62e23354609776f",
       "version_major": 2,
       "version_minor": 0
      },
      "text/plain": [
       "  0%|          | 0/1 [00:00<?, ?it/s]"
      ]
     },
     "metadata": {},
     "output_type": "display_data"
    },
    {
     "name": "stderr",
     "output_type": "stream",
     "text": [
      "13:42:13 - cmdstanpy - INFO - Chain [1] start processing\n",
      "13:42:13 - cmdstanpy - INFO - Chain [1] done processing\n",
      " 79%|█████████████████████████████████▊         | 59/75 [01:19<00:20,  1.31s/it]"
     ]
    },
    {
     "data": {
      "application/vnd.jupyter.widget-view+json": {
       "model_id": "85659796cec2471ca05da2defc0ed2e8",
       "version_major": 2,
       "version_minor": 0
      },
      "text/plain": [
       "  0%|          | 0/1 [00:00<?, ?it/s]"
      ]
     },
     "metadata": {},
     "output_type": "display_data"
    },
    {
     "name": "stderr",
     "output_type": "stream",
     "text": [
      "13:42:14 - cmdstanpy - INFO - Chain [1] start processing\n",
      "13:42:14 - cmdstanpy - INFO - Chain [1] done processing\n",
      " 80%|██████████████████████████████████▍        | 60/75 [01:20<00:19,  1.31s/it]"
     ]
    },
    {
     "data": {
      "application/vnd.jupyter.widget-view+json": {
       "model_id": "a1b34e0b004f464b85978db3497be08c",
       "version_major": 2,
       "version_minor": 0
      },
      "text/plain": [
       "  0%|          | 0/1 [00:00<?, ?it/s]"
      ]
     },
     "metadata": {},
     "output_type": "display_data"
    },
    {
     "name": "stderr",
     "output_type": "stream",
     "text": [
      "13:42:15 - cmdstanpy - INFO - Chain [1] start processing\n",
      "13:42:15 - cmdstanpy - INFO - Chain [1] done processing\n",
      " 81%|██████████████████████████████████▉        | 61/75 [01:21<00:18,  1.30s/it]"
     ]
    },
    {
     "data": {
      "application/vnd.jupyter.widget-view+json": {
       "model_id": "116238c86aee42d7a275ea4cbde04959",
       "version_major": 2,
       "version_minor": 0
      },
      "text/plain": [
       "  0%|          | 0/1 [00:00<?, ?it/s]"
      ]
     },
     "metadata": {},
     "output_type": "display_data"
    },
    {
     "name": "stderr",
     "output_type": "stream",
     "text": [
      "13:42:17 - cmdstanpy - INFO - Chain [1] start processing\n",
      "13:42:17 - cmdstanpy - INFO - Chain [1] done processing\n",
      " 83%|███████████████████████████████████▌       | 62/75 [01:23<00:16,  1.30s/it]"
     ]
    },
    {
     "data": {
      "application/vnd.jupyter.widget-view+json": {
       "model_id": "458c63c677f84705a955ce97d57036d7",
       "version_major": 2,
       "version_minor": 0
      },
      "text/plain": [
       "  0%|          | 0/1 [00:00<?, ?it/s]"
      ]
     },
     "metadata": {},
     "output_type": "display_data"
    },
    {
     "name": "stderr",
     "output_type": "stream",
     "text": [
      "13:42:18 - cmdstanpy - INFO - Chain [1] start processing\n",
      "13:42:18 - cmdstanpy - INFO - Chain [1] done processing\n",
      " 84%|████████████████████████████████████       | 63/75 [01:24<00:15,  1.30s/it]"
     ]
    },
    {
     "data": {
      "application/vnd.jupyter.widget-view+json": {
       "model_id": "579fb1049a5d47f9aadfb03c7cc85dd1",
       "version_major": 2,
       "version_minor": 0
      },
      "text/plain": [
       "  0%|          | 0/1 [00:00<?, ?it/s]"
      ]
     },
     "metadata": {},
     "output_type": "display_data"
    },
    {
     "name": "stderr",
     "output_type": "stream",
     "text": [
      "13:42:19 - cmdstanpy - INFO - Chain [1] start processing\n",
      "13:42:19 - cmdstanpy - INFO - Chain [1] done processing\n",
      " 85%|████████████████████████████████████▋      | 64/75 [01:25<00:14,  1.35s/it]"
     ]
    },
    {
     "data": {
      "application/vnd.jupyter.widget-view+json": {
       "model_id": "23a4a1b4ba1d48df8596a8d245674f04",
       "version_major": 2,
       "version_minor": 0
      },
      "text/plain": [
       "  0%|          | 0/1 [00:00<?, ?it/s]"
      ]
     },
     "metadata": {},
     "output_type": "display_data"
    },
    {
     "name": "stderr",
     "output_type": "stream",
     "text": [
      "13:42:21 - cmdstanpy - INFO - Chain [1] start processing\n",
      "13:42:21 - cmdstanpy - INFO - Chain [1] done processing\n",
      " 87%|█████████████████████████████████████▎     | 65/75 [01:27<00:13,  1.34s/it]"
     ]
    },
    {
     "data": {
      "application/vnd.jupyter.widget-view+json": {
       "model_id": "1a30181d72c341e2af7d9db61b98f860",
       "version_major": 2,
       "version_minor": 0
      },
      "text/plain": [
       "  0%|          | 0/1 [00:00<?, ?it/s]"
      ]
     },
     "metadata": {},
     "output_type": "display_data"
    },
    {
     "name": "stderr",
     "output_type": "stream",
     "text": [
      "13:42:22 - cmdstanpy - INFO - Chain [1] start processing\n",
      "13:42:22 - cmdstanpy - INFO - Chain [1] done processing\n",
      " 88%|█████████████████████████████████████▊     | 66/75 [01:28<00:11,  1.33s/it]"
     ]
    },
    {
     "data": {
      "application/vnd.jupyter.widget-view+json": {
       "model_id": "4c090be0d31c48e09bb94fe85cfdb74b",
       "version_major": 2,
       "version_minor": 0
      },
      "text/plain": [
       "  0%|          | 0/1 [00:00<?, ?it/s]"
      ]
     },
     "metadata": {},
     "output_type": "display_data"
    },
    {
     "name": "stderr",
     "output_type": "stream",
     "text": [
      "13:42:23 - cmdstanpy - INFO - Chain [1] start processing\n",
      "13:42:23 - cmdstanpy - INFO - Chain [1] done processing\n",
      " 89%|██████████████████████████████████████▍    | 67/75 [01:29<00:10,  1.33s/it]"
     ]
    },
    {
     "data": {
      "application/vnd.jupyter.widget-view+json": {
       "model_id": "8342c204e12f4c3582932910da4c2a7b",
       "version_major": 2,
       "version_minor": 0
      },
      "text/plain": [
       "  0%|          | 0/1 [00:00<?, ?it/s]"
      ]
     },
     "metadata": {},
     "output_type": "display_data"
    },
    {
     "name": "stderr",
     "output_type": "stream",
     "text": [
      "13:42:25 - cmdstanpy - INFO - Chain [1] start processing\n",
      "13:42:25 - cmdstanpy - INFO - Chain [1] done processing\n",
      " 91%|██████████████████████████████████████▉    | 68/75 [01:31<00:09,  1.34s/it]"
     ]
    },
    {
     "data": {
      "application/vnd.jupyter.widget-view+json": {
       "model_id": "6285af1bab36497a99b14daf57d6e4dc",
       "version_major": 2,
       "version_minor": 0
      },
      "text/plain": [
       "  0%|          | 0/1 [00:00<?, ?it/s]"
      ]
     },
     "metadata": {},
     "output_type": "display_data"
    },
    {
     "name": "stderr",
     "output_type": "stream",
     "text": [
      "13:42:26 - cmdstanpy - INFO - Chain [1] start processing\n",
      "13:42:26 - cmdstanpy - INFO - Chain [1] done processing\n",
      " 92%|███████████████████████████████████████▌   | 69/75 [01:32<00:07,  1.32s/it]"
     ]
    },
    {
     "data": {
      "application/vnd.jupyter.widget-view+json": {
       "model_id": "e8840338b5c2437f96164937d99d1443",
       "version_major": 2,
       "version_minor": 0
      },
      "text/plain": [
       "  0%|          | 0/1 [00:00<?, ?it/s]"
      ]
     },
     "metadata": {},
     "output_type": "display_data"
    },
    {
     "name": "stderr",
     "output_type": "stream",
     "text": [
      "13:42:27 - cmdstanpy - INFO - Chain [1] start processing\n",
      "13:42:27 - cmdstanpy - INFO - Chain [1] done processing\n",
      " 93%|████████████████████████████████████████▏  | 70/75 [01:33<00:06,  1.29s/it]"
     ]
    },
    {
     "data": {
      "application/vnd.jupyter.widget-view+json": {
       "model_id": "c0b6edbf31394528a238d81127bf3f00",
       "version_major": 2,
       "version_minor": 0
      },
      "text/plain": [
       "  0%|          | 0/1 [00:00<?, ?it/s]"
      ]
     },
     "metadata": {},
     "output_type": "display_data"
    },
    {
     "name": "stderr",
     "output_type": "stream",
     "text": [
      "13:42:28 - cmdstanpy - INFO - Chain [1] start processing\n",
      "13:42:29 - cmdstanpy - INFO - Chain [1] done processing\n",
      " 95%|████████████████████████████████████████▋  | 71/75 [01:34<00:05,  1.30s/it]"
     ]
    },
    {
     "data": {
      "application/vnd.jupyter.widget-view+json": {
       "model_id": "3c8bff5ae6384a8da5bc998982989604",
       "version_major": 2,
       "version_minor": 0
      },
      "text/plain": [
       "  0%|          | 0/1 [00:00<?, ?it/s]"
      ]
     },
     "metadata": {},
     "output_type": "display_data"
    },
    {
     "name": "stderr",
     "output_type": "stream",
     "text": [
      "13:42:30 - cmdstanpy - INFO - Chain [1] start processing\n",
      "13:42:30 - cmdstanpy - INFO - Chain [1] done processing\n",
      " 96%|█████████████████████████████████████████▎ | 72/75 [01:36<00:03,  1.32s/it]"
     ]
    },
    {
     "data": {
      "application/vnd.jupyter.widget-view+json": {
       "model_id": "17b5847315734bf7ad6de2aa824882dd",
       "version_major": 2,
       "version_minor": 0
      },
      "text/plain": [
       "  0%|          | 0/1 [00:00<?, ?it/s]"
      ]
     },
     "metadata": {},
     "output_type": "display_data"
    },
    {
     "name": "stderr",
     "output_type": "stream",
     "text": [
      "13:42:31 - cmdstanpy - INFO - Chain [1] start processing\n",
      "13:42:31 - cmdstanpy - INFO - Chain [1] done processing\n",
      " 97%|█████████████████████████████████████████▊ | 73/75 [01:37<00:02,  1.31s/it]"
     ]
    },
    {
     "data": {
      "application/vnd.jupyter.widget-view+json": {
       "model_id": "905e348fdb754a99ac0b9d9270c82ffd",
       "version_major": 2,
       "version_minor": 0
      },
      "text/plain": [
       "  0%|          | 0/1 [00:00<?, ?it/s]"
      ]
     },
     "metadata": {},
     "output_type": "display_data"
    },
    {
     "name": "stderr",
     "output_type": "stream",
     "text": [
      "13:42:32 - cmdstanpy - INFO - Chain [1] start processing\n",
      "13:42:33 - cmdstanpy - INFO - Chain [1] done processing\n",
      " 99%|██████████████████████████████████████████▍| 74/75 [01:38<00:01,  1.31s/it]"
     ]
    },
    {
     "data": {
      "application/vnd.jupyter.widget-view+json": {
       "model_id": "2fe7f21438bb4d24aa2703a86f4f7bc8",
       "version_major": 2,
       "version_minor": 0
      },
      "text/plain": [
       "  0%|          | 0/1 [00:00<?, ?it/s]"
      ]
     },
     "metadata": {},
     "output_type": "display_data"
    },
    {
     "name": "stderr",
     "output_type": "stream",
     "text": [
      "13:42:34 - cmdstanpy - INFO - Chain [1] start processing\n",
      "13:42:34 - cmdstanpy - INFO - Chain [1] done processing\n",
      "100%|███████████████████████████████████████████| 75/75 [01:40<00:00,  1.34s/it]\n"
     ]
    }
   ],
   "source": [
    "smapes = [get_smape(m) for m in tqdm(models)]"
   ]
  },
  {
   "cell_type": "code",
   "execution_count": 44,
   "id": "6ec4406d",
   "metadata": {
    "ExecuteTime": {
     "end_time": "2023-07-25T12:42:35.424503Z",
     "start_time": "2023-07-25T12:42:35.391581Z"
    }
   },
   "outputs": [
    {
     "name": "stdout",
     "output_type": "stream",
     "text": [
      "Argentina|Kaggle Learn|Using LLMs to Improve Your Coding 130.60\n",
      "Argentina|Kaggle Learn|Using LLMs to Train More LLMs 78.60\n",
      "Argentina|Kaggle Learn|Using LLMs to Win Friends and Influence People 102.11\n",
      "Argentina|Kaggle Learn|Using LLMs to Win More Kaggle Competitions 144.53\n",
      "Argentina|Kaggle Learn|Using LLMs to Write Better 52.17\n",
      "Argentina|Kaggle Store|Using LLMs to Improve Your Coding 128.79\n",
      "Argentina|Kaggle Store|Using LLMs to Train More LLMs 83.34\n",
      "Argentina|Kaggle Store|Using LLMs to Win Friends and Influence People 92.70\n",
      "Argentina|Kaggle Store|Using LLMs to Win More Kaggle Competitions 100.67\n",
      "Argentina|Kaggle Store|Using LLMs to Write Better 53.69\n",
      "Argentina|Kagglazon|Using LLMs to Improve Your Coding 134.32\n",
      "Argentina|Kagglazon|Using LLMs to Train More LLMs 78.66\n",
      "Argentina|Kagglazon|Using LLMs to Win Friends and Influence People 76.14\n",
      "Argentina|Kagglazon|Using LLMs to Win More Kaggle Competitions 134.07\n",
      "Argentina|Kagglazon|Using LLMs to Write Better 46.48\n",
      "Canada|Kaggle Learn|Using LLMs to Improve Your Coding 21.69\n",
      "Canada|Kaggle Learn|Using LLMs to Train More LLMs 19.10\n",
      "Canada|Kaggle Learn|Using LLMs to Win Friends and Influence People 17.12\n",
      "Canada|Kaggle Learn|Using LLMs to Win More Kaggle Competitions 21.09\n",
      "Canada|Kaggle Learn|Using LLMs to Write Better 19.75\n",
      "Canada|Kaggle Store|Using LLMs to Improve Your Coding 21.49\n",
      "Canada|Kaggle Store|Using LLMs to Train More LLMs 14.78\n",
      "Canada|Kaggle Store|Using LLMs to Win Friends and Influence People 12.64\n",
      "Canada|Kaggle Store|Using LLMs to Win More Kaggle Competitions 18.65\n",
      "Canada|Kaggle Store|Using LLMs to Write Better 21.60\n",
      "Canada|Kagglazon|Using LLMs to Improve Your Coding 23.92\n",
      "Canada|Kagglazon|Using LLMs to Train More LLMs 13.21\n",
      "Canada|Kagglazon|Using LLMs to Win Friends and Influence People 9.98\n",
      "Canada|Kagglazon|Using LLMs to Win More Kaggle Competitions 24.58\n",
      "Canada|Kagglazon|Using LLMs to Write Better 23.37\n",
      "Estonia|Kaggle Learn|Using LLMs to Improve Your Coding 23.98\n",
      "Estonia|Kaggle Learn|Using LLMs to Train More LLMs 6.79\n",
      "Estonia|Kaggle Learn|Using LLMs to Win Friends and Influence People 12.25\n",
      "Estonia|Kaggle Learn|Using LLMs to Win More Kaggle Competitions 16.58\n",
      "Estonia|Kaggle Learn|Using LLMs to Write Better 23.06\n",
      "Estonia|Kaggle Store|Using LLMs to Improve Your Coding 17.78\n",
      "Estonia|Kaggle Store|Using LLMs to Train More LLMs 9.73\n",
      "Estonia|Kaggle Store|Using LLMs to Win Friends and Influence People 18.75\n",
      "Estonia|Kaggle Store|Using LLMs to Win More Kaggle Competitions 17.33\n",
      "Estonia|Kaggle Store|Using LLMs to Write Better 25.11\n",
      "Estonia|Kagglazon|Using LLMs to Improve Your Coding 17.07\n",
      "Estonia|Kagglazon|Using LLMs to Train More LLMs 9.14\n",
      "Estonia|Kagglazon|Using LLMs to Win Friends and Influence People 12.04\n",
      "Estonia|Kagglazon|Using LLMs to Win More Kaggle Competitions 18.83\n",
      "Estonia|Kagglazon|Using LLMs to Write Better 21.73\n",
      "Japan|Kaggle Learn|Using LLMs to Improve Your Coding 5.90\n",
      "Japan|Kaggle Learn|Using LLMs to Train More LLMs 5.08\n",
      "Japan|Kaggle Learn|Using LLMs to Win Friends and Influence People 6.14\n",
      "Japan|Kaggle Learn|Using LLMs to Win More Kaggle Competitions 7.70\n",
      "Japan|Kaggle Learn|Using LLMs to Write Better 17.77\n",
      "Japan|Kaggle Store|Using LLMs to Improve Your Coding 9.93\n",
      "Japan|Kaggle Store|Using LLMs to Train More LLMs 4.03\n",
      "Japan|Kaggle Store|Using LLMs to Win Friends and Influence People 7.07\n",
      "Japan|Kaggle Store|Using LLMs to Win More Kaggle Competitions 8.97\n",
      "Japan|Kaggle Store|Using LLMs to Write Better 17.05\n",
      "Japan|Kagglazon|Using LLMs to Improve Your Coding 4.49\n",
      "Japan|Kagglazon|Using LLMs to Train More LLMs 5.42\n",
      "Japan|Kagglazon|Using LLMs to Win Friends and Influence People 10.56\n",
      "Japan|Kagglazon|Using LLMs to Win More Kaggle Competitions 6.41\n",
      "Japan|Kagglazon|Using LLMs to Write Better 14.49\n",
      "Spain|Kaggle Learn|Using LLMs to Improve Your Coding 13.86\n",
      "Spain|Kaggle Learn|Using LLMs to Train More LLMs 9.37\n",
      "Spain|Kaggle Learn|Using LLMs to Win Friends and Influence People 9.89\n",
      "Spain|Kaggle Learn|Using LLMs to Win More Kaggle Competitions 13.65\n",
      "Spain|Kaggle Learn|Using LLMs to Write Better 13.89\n",
      "Spain|Kaggle Store|Using LLMs to Improve Your Coding 12.93\n",
      "Spain|Kaggle Store|Using LLMs to Train More LLMs 8.39\n",
      "Spain|Kaggle Store|Using LLMs to Win Friends and Influence People 8.52\n",
      "Spain|Kaggle Store|Using LLMs to Win More Kaggle Competitions 11.99\n",
      "Spain|Kaggle Store|Using LLMs to Write Better 16.78\n",
      "Spain|Kagglazon|Using LLMs to Improve Your Coding 10.59\n",
      "Spain|Kagglazon|Using LLMs to Train More LLMs 8.31\n",
      "Spain|Kagglazon|Using LLMs to Win Friends and Influence People 7.41\n",
      "Spain|Kagglazon|Using LLMs to Win More Kaggle Competitions 15.97\n",
      "Spain|Kagglazon|Using LLMs to Write Better 17.16\n"
     ]
    }
   ],
   "source": [
    "for i, comb in enumerate(train_df.comb.unique(), 0):\n",
    "    print(comb, f'{smapes[i] * 100:.2f}')"
   ]
  },
  {
   "cell_type": "code",
   "execution_count": 45,
   "id": "5db3f7a9",
   "metadata": {
    "ExecuteTime": {
     "end_time": "2023-07-25T12:42:35.434052Z",
     "start_time": "2023-07-25T12:42:35.427414Z"
    }
   },
   "outputs": [
    {
     "data": {
      "text/plain": [
       "'Average SMAPE: 30.39633'"
      ]
     },
     "execution_count": 45,
     "metadata": {},
     "output_type": "execute_result"
    }
   ],
   "source": [
    "f'Average SMAPE: {np.mean(smapes) * 100:.5f}'"
   ]
  },
  {
   "cell_type": "markdown",
   "id": "954fa750",
   "metadata": {},
   "source": [
    "## Submission"
   ]
  },
  {
   "cell_type": "code",
   "execution_count": 46,
   "id": "f9583c9a",
   "metadata": {
    "ExecuteTime": {
     "end_time": "2023-07-25T12:43:47.359608Z",
     "start_time": "2023-07-25T12:43:47.064446Z"
    }
   },
   "outputs": [
    {
     "data": {
      "text/html": [
       "<div>\n",
       "<style scoped>\n",
       "    .dataframe tbody tr th:only-of-type {\n",
       "        vertical-align: middle;\n",
       "    }\n",
       "\n",
       "    .dataframe tbody tr th {\n",
       "        vertical-align: top;\n",
       "    }\n",
       "\n",
       "    .dataframe thead th {\n",
       "        text-align: right;\n",
       "    }\n",
       "</style>\n",
       "<table border=\"1\" class=\"dataframe\">\n",
       "  <thead>\n",
       "    <tr style=\"text-align: right;\">\n",
       "      <th></th>\n",
       "      <th>date</th>\n",
       "      <th>comb</th>\n",
       "      <th>num_sold</th>\n",
       "      <th>yhat_upper</th>\n",
       "      <th>yhat_lower</th>\n",
       "    </tr>\n",
       "  </thead>\n",
       "  <tbody>\n",
       "    <tr>\n",
       "      <th>1826</th>\n",
       "      <td>2022-01-01</td>\n",
       "      <td>Argentina|Kaggle Learn|Using LLMs to Improve Y...</td>\n",
       "      <td>33.873619</td>\n",
       "      <td>37.580707</td>\n",
       "      <td>30.150213</td>\n",
       "    </tr>\n",
       "  </tbody>\n",
       "</table>\n",
       "</div>"
      ],
      "text/plain": [
       "            date                                               comb  \\\n",
       "1826  2022-01-01  Argentina|Kaggle Learn|Using LLMs to Improve Y...   \n",
       "\n",
       "       num_sold  yhat_upper  yhat_lower  \n",
       "1826  33.873619   37.580707   30.150213  "
      ]
     },
     "execution_count": 46,
     "metadata": {},
     "output_type": "execute_result"
    }
   ],
   "source": [
    "subs = preds[preds.ds > train_df.ds.max()]\n",
    "subs = subs.rename(columns={'ds': 'date',\n",
    "                            'yhat': 'num_sold'})\n",
    "subs['date'] = subs['date'].apply(str).apply(lambda x: x.split(' ')[0])\n",
    "subs.head(1)"
   ]
  },
  {
   "cell_type": "code",
   "execution_count": 47,
   "id": "b904e9bd",
   "metadata": {
    "ExecuteTime": {
     "end_time": "2023-07-25T12:43:48.404446Z",
     "start_time": "2023-07-25T12:43:48.182274Z"
    }
   },
   "outputs": [
    {
     "data": {
      "text/html": [
       "<div>\n",
       "<style scoped>\n",
       "    .dataframe tbody tr th:only-of-type {\n",
       "        vertical-align: middle;\n",
       "    }\n",
       "\n",
       "    .dataframe tbody tr th {\n",
       "        vertical-align: top;\n",
       "    }\n",
       "\n",
       "    .dataframe thead th {\n",
       "        text-align: right;\n",
       "    }\n",
       "</style>\n",
       "<table border=\"1\" class=\"dataframe\">\n",
       "  <thead>\n",
       "    <tr style=\"text-align: right;\">\n",
       "      <th></th>\n",
       "      <th>id</th>\n",
       "      <th>date</th>\n",
       "      <th>country</th>\n",
       "      <th>store</th>\n",
       "      <th>product</th>\n",
       "      <th>comb</th>\n",
       "    </tr>\n",
       "  </thead>\n",
       "  <tbody>\n",
       "    <tr>\n",
       "      <th>0</th>\n",
       "      <td>136950</td>\n",
       "      <td>2022-01-01</td>\n",
       "      <td>Argentina</td>\n",
       "      <td>Kaggle Learn</td>\n",
       "      <td>Using LLMs to Improve Your Coding</td>\n",
       "      <td>Argentina|Kaggle Learn|Using LLMs to Improve Y...</td>\n",
       "    </tr>\n",
       "  </tbody>\n",
       "</table>\n",
       "</div>"
      ],
      "text/plain": [
       "       id        date    country         store  \\\n",
       "0  136950  2022-01-01  Argentina  Kaggle Learn   \n",
       "\n",
       "                             product  \\\n",
       "0  Using LLMs to Improve Your Coding   \n",
       "\n",
       "                                                comb  \n",
       "0  Argentina|Kaggle Learn|Using LLMs to Improve Y...  "
      ]
     },
     "execution_count": 47,
     "metadata": {},
     "output_type": "execute_result"
    }
   ],
   "source": [
    "test_df['comb'] = test_df[cats].apply(lambda x: '|'.join(list(x)), \n",
    "                                      axis=1)\n",
    "test_df.head(1)"
   ]
  },
  {
   "cell_type": "code",
   "execution_count": 48,
   "id": "aeb780ee",
   "metadata": {
    "ExecuteTime": {
     "end_time": "2023-07-25T12:43:48.814107Z",
     "start_time": "2023-07-25T12:43:48.768781Z"
    }
   },
   "outputs": [
    {
     "data": {
      "text/html": [
       "<div>\n",
       "<style scoped>\n",
       "    .dataframe tbody tr th:only-of-type {\n",
       "        vertical-align: middle;\n",
       "    }\n",
       "\n",
       "    .dataframe tbody tr th {\n",
       "        vertical-align: top;\n",
       "    }\n",
       "\n",
       "    .dataframe thead th {\n",
       "        text-align: right;\n",
       "    }\n",
       "</style>\n",
       "<table border=\"1\" class=\"dataframe\">\n",
       "  <thead>\n",
       "    <tr style=\"text-align: right;\">\n",
       "      <th></th>\n",
       "      <th>id</th>\n",
       "      <th>date</th>\n",
       "      <th>country</th>\n",
       "      <th>store</th>\n",
       "      <th>product</th>\n",
       "      <th>comb</th>\n",
       "      <th>num_sold</th>\n",
       "      <th>yhat_upper</th>\n",
       "      <th>yhat_lower</th>\n",
       "    </tr>\n",
       "  </thead>\n",
       "  <tbody>\n",
       "    <tr>\n",
       "      <th>0</th>\n",
       "      <td>136950</td>\n",
       "      <td>2022-01-01</td>\n",
       "      <td>Argentina</td>\n",
       "      <td>Kaggle Learn</td>\n",
       "      <td>Using LLMs to Improve Your Coding</td>\n",
       "      <td>Argentina|Kaggle Learn|Using LLMs to Improve Y...</td>\n",
       "      <td>33.873619</td>\n",
       "      <td>37.580707</td>\n",
       "      <td>30.150213</td>\n",
       "    </tr>\n",
       "  </tbody>\n",
       "</table>\n",
       "</div>"
      ],
      "text/plain": [
       "       id        date    country         store  \\\n",
       "0  136950  2022-01-01  Argentina  Kaggle Learn   \n",
       "\n",
       "                             product  \\\n",
       "0  Using LLMs to Improve Your Coding   \n",
       "\n",
       "                                                comb   num_sold  yhat_upper  \\\n",
       "0  Argentina|Kaggle Learn|Using LLMs to Improve Y...  33.873619   37.580707   \n",
       "\n",
       "   yhat_lower  \n",
       "0   30.150213  "
      ]
     },
     "execution_count": 48,
     "metadata": {},
     "output_type": "execute_result"
    }
   ],
   "source": [
    "test_df = test_df.merge(subs, how='left', on=['date', 'comb'])\n",
    "test_df.head(1)"
   ]
  },
  {
   "cell_type": "code",
   "execution_count": 50,
   "id": "90541aaa",
   "metadata": {
    "ExecuteTime": {
     "end_time": "2023-07-25T12:44:04.613121Z",
     "start_time": "2023-07-25T12:44:04.511045Z"
    }
   },
   "outputs": [],
   "source": [
    "test_df[['id', 'num_sold']].to_csv('subs/sub_5_sm.csv', index=False)"
   ]
  },
  {
   "cell_type": "code",
   "execution_count": null,
   "id": "dbd09b0d",
   "metadata": {},
   "outputs": [],
   "source": []
  }
 ],
 "metadata": {
  "kernelspec": {
   "display_name": "Python 3 (ipykernel)",
   "language": "python",
   "name": "python3"
  },
  "language_info": {
   "codemirror_mode": {
    "name": "ipython",
    "version": 3
   },
   "file_extension": ".py",
   "mimetype": "text/x-python",
   "name": "python",
   "nbconvert_exporter": "python",
   "pygments_lexer": "ipython3",
   "version": "3.8.17"
  }
 },
 "nbformat": 4,
 "nbformat_minor": 5
}
