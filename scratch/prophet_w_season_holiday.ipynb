{
 "cells": [
  {
   "cell_type": "code",
   "execution_count": 1,
   "id": "e98fb2db",
   "metadata": {
    "ExecuteTime": {
     "end_time": "2023-07-25T15:21:40.875756Z",
     "start_time": "2023-07-25T15:21:39.515248Z"
    }
   },
   "outputs": [],
   "source": [
    "import os\n",
    "import numpy as np\n",
    "import pandas as pd\n",
    "import matplotlib.pyplot as plt\n",
    "import matplotlib.dates as mdates\n",
    "import seaborn as sns\n",
    "from IPython.core.pylabtools import figsize\n",
    "from tqdm import tqdm"
   ]
  },
  {
   "cell_type": "code",
   "execution_count": 2,
   "id": "5b77763e",
   "metadata": {
    "ExecuteTime": {
     "end_time": "2023-07-25T15:21:41.077135Z",
     "start_time": "2023-07-25T15:21:40.885674Z"
    }
   },
   "outputs": [],
   "source": [
    "import holidays\n",
    "from prophet import Prophet\n",
    "from prophet.diagnostics import cross_validation\n",
    "from prophet.diagnostics import performance_metrics"
   ]
  },
  {
   "cell_type": "code",
   "execution_count": 3,
   "id": "e0cdc14e",
   "metadata": {
    "ExecuteTime": {
     "end_time": "2023-07-25T15:21:41.083236Z",
     "start_time": "2023-07-25T15:21:41.079523Z"
    }
   },
   "outputs": [],
   "source": [
    "import warnings\n",
    "warnings.filterwarnings('ignore')"
   ]
  },
  {
   "cell_type": "code",
   "execution_count": 4,
   "id": "5569f62d",
   "metadata": {
    "ExecuteTime": {
     "end_time": "2023-07-25T15:21:41.094677Z",
     "start_time": "2023-07-25T15:21:41.092068Z"
    }
   },
   "outputs": [],
   "source": [
    "# sns.set()"
   ]
  },
  {
   "cell_type": "markdown",
   "id": "19d5f201",
   "metadata": {},
   "source": [
    "## Read Data"
   ]
  },
  {
   "cell_type": "code",
   "execution_count": 5,
   "id": "ab94bdc6",
   "metadata": {
    "ExecuteTime": {
     "end_time": "2023-07-25T15:21:41.106127Z",
     "start_time": "2023-07-25T15:21:41.096830Z"
    }
   },
   "outputs": [
    {
     "data": {
      "text/plain": [
       "['test.csv', 'train_smoothed.csv', 'train.csv', 'sample_submission.csv']"
      ]
     },
     "execution_count": 5,
     "metadata": {},
     "output_type": "execute_result"
    }
   ],
   "source": [
    "os.listdir('input')"
   ]
  },
  {
   "cell_type": "code",
   "execution_count": 6,
   "id": "45c9e915",
   "metadata": {
    "ExecuteTime": {
     "end_time": "2023-07-25T15:21:41.252331Z",
     "start_time": "2023-07-25T15:21:41.108516Z"
    }
   },
   "outputs": [
    {
     "name": "stdout",
     "output_type": "stream",
     "text": [
      "(136950, 6)\n"
     ]
    },
    {
     "data": {
      "text/html": [
       "<div>\n",
       "<style scoped>\n",
       "    .dataframe tbody tr th:only-of-type {\n",
       "        vertical-align: middle;\n",
       "    }\n",
       "\n",
       "    .dataframe tbody tr th {\n",
       "        vertical-align: top;\n",
       "    }\n",
       "\n",
       "    .dataframe thead th {\n",
       "        text-align: right;\n",
       "    }\n",
       "</style>\n",
       "<table border=\"1\" class=\"dataframe\">\n",
       "  <thead>\n",
       "    <tr style=\"text-align: right;\">\n",
       "      <th></th>\n",
       "      <th>id</th>\n",
       "      <th>date</th>\n",
       "      <th>country</th>\n",
       "      <th>store</th>\n",
       "      <th>product</th>\n",
       "      <th>num_sold</th>\n",
       "    </tr>\n",
       "  </thead>\n",
       "  <tbody>\n",
       "    <tr>\n",
       "      <th>0</th>\n",
       "      <td>0</td>\n",
       "      <td>2017-01-01</td>\n",
       "      <td>Argentina</td>\n",
       "      <td>Kaggle Learn</td>\n",
       "      <td>Using LLMs to Improve Your Coding</td>\n",
       "      <td>63</td>\n",
       "    </tr>\n",
       "  </tbody>\n",
       "</table>\n",
       "</div>"
      ],
      "text/plain": [
       "   id        date    country         store                            product  \\\n",
       "0   0  2017-01-01  Argentina  Kaggle Learn  Using LLMs to Improve Your Coding   \n",
       "\n",
       "   num_sold  \n",
       "0        63  "
      ]
     },
     "execution_count": 6,
     "metadata": {},
     "output_type": "execute_result"
    }
   ],
   "source": [
    "train_df = pd.read_csv('input/train.csv')\n",
    "print(train_df.shape)\n",
    "train_df.head(1)"
   ]
  },
  {
   "cell_type": "code",
   "execution_count": 7,
   "id": "63695519",
   "metadata": {
    "ExecuteTime": {
     "end_time": "2023-07-25T15:21:41.284299Z",
     "start_time": "2023-07-25T15:21:41.254743Z"
    }
   },
   "outputs": [
    {
     "data": {
      "text/plain": [
       "(27375, 5)"
      ]
     },
     "execution_count": 7,
     "metadata": {},
     "output_type": "execute_result"
    }
   ],
   "source": [
    "test_df = pd.read_csv('input/test.csv')\n",
    "test_df.shape"
   ]
  },
  {
   "cell_type": "code",
   "execution_count": 8,
   "id": "eb6b79b5",
   "metadata": {
    "ExecuteTime": {
     "end_time": "2023-07-25T15:21:42.465725Z",
     "start_time": "2023-07-25T15:21:42.442425Z"
    }
   },
   "outputs": [
    {
     "name": "stdout",
     "output_type": "stream",
     "text": [
      "(27375, 2)\n"
     ]
    },
    {
     "data": {
      "text/html": [
       "<div>\n",
       "<style scoped>\n",
       "    .dataframe tbody tr th:only-of-type {\n",
       "        vertical-align: middle;\n",
       "    }\n",
       "\n",
       "    .dataframe tbody tr th {\n",
       "        vertical-align: top;\n",
       "    }\n",
       "\n",
       "    .dataframe thead th {\n",
       "        text-align: right;\n",
       "    }\n",
       "</style>\n",
       "<table border=\"1\" class=\"dataframe\">\n",
       "  <thead>\n",
       "    <tr style=\"text-align: right;\">\n",
       "      <th></th>\n",
       "      <th>id</th>\n",
       "      <th>num_sold</th>\n",
       "    </tr>\n",
       "  </thead>\n",
       "  <tbody>\n",
       "    <tr>\n",
       "      <th>0</th>\n",
       "      <td>136950</td>\n",
       "      <td>100</td>\n",
       "    </tr>\n",
       "  </tbody>\n",
       "</table>\n",
       "</div>"
      ],
      "text/plain": [
       "       id  num_sold\n",
       "0  136950       100"
      ]
     },
     "execution_count": 8,
     "metadata": {},
     "output_type": "execute_result"
    }
   ],
   "source": [
    "sample_sub = pd.read_csv('input/sample_submission.csv')\n",
    "print(sample_sub.shape)\n",
    "sample_sub.head(1)"
   ]
  },
  {
   "cell_type": "markdown",
   "id": "6b2a74d4",
   "metadata": {},
   "source": [
    "## Get Holidays"
   ]
  },
  {
   "cell_type": "code",
   "execution_count": 9,
   "id": "bf6cf1a1",
   "metadata": {
    "ExecuteTime": {
     "end_time": "2023-07-25T15:21:44.423789Z",
     "start_time": "2023-07-25T15:21:44.411118Z"
    }
   },
   "outputs": [
    {
     "data": {
      "text/plain": [
       "array(['Argentina', 'Canada', 'Estonia', 'Japan', 'Spain'], dtype=object)"
      ]
     },
     "execution_count": 9,
     "metadata": {},
     "output_type": "execute_result"
    }
   ],
   "source": [
    "train_df.country.unique()"
   ]
  },
  {
   "cell_type": "code",
   "execution_count": 10,
   "id": "021f9fa8",
   "metadata": {
    "ExecuteTime": {
     "end_time": "2023-07-25T15:21:44.514879Z",
     "start_time": "2023-07-25T15:21:44.493989Z"
    }
   },
   "outputs": [
    {
     "data": {
      "text/plain": [
       "('2017-01-01', '2022-12-31')"
      ]
     },
     "execution_count": 10,
     "metadata": {},
     "output_type": "execute_result"
    }
   ],
   "source": [
    "start_date = train_df.date.min()\n",
    "end_date = test_df.date.max()\n",
    "start_date, end_date"
   ]
  },
  {
   "cell_type": "code",
   "execution_count": 11,
   "id": "c8736670",
   "metadata": {
    "ExecuteTime": {
     "end_time": "2023-07-25T15:21:44.582372Z",
     "start_time": "2023-07-25T15:21:44.577542Z"
    }
   },
   "outputs": [],
   "source": [
    "def get_national_holidays(country,\n",
    "                          start_date=start_date,\n",
    "                          end_date=end_date):\n",
    "    holidays_days = holidays.CountryHoliday(country)\n",
    "    date_range = pd.date_range(start_date, end_date)\n",
    "    return [date for date in date_range\n",
    "            if date in holidays_days]"
   ]
  },
  {
   "cell_type": "code",
   "execution_count": 12,
   "id": "7da2dc3f",
   "metadata": {
    "ExecuteTime": {
     "end_time": "2023-07-25T15:21:44.669745Z",
     "start_time": "2023-07-25T15:21:44.661918Z"
    }
   },
   "outputs": [],
   "source": [
    "common_holidays = pd.DataFrame({\n",
    "    'ds': pd.to_datetime(['2017-04-16','2017-12-24', '2017-12-25', '2017-12-26', '2017-12-27', '2017-12-28', '2017-12-29', '2017-12-30', '2017-12-31',\n",
    "                          '2018-04-01','2018-12-24', '2018-12-25', '2018-12-26', '2018-12-27', '2018-12-28', '2018-12-29', '2018-12-30', '2018-12-31',\n",
    "                          '2019-04-21','2019-12-24', '2019-12-25', '2019-12-26', '2019-12-27', '2019-12-28', '2019-12-29', '2019-12-30', '2019-12-31',\n",
    "                          '2020-04-12','2020-12-24', '2020-12-25', '2020-12-26', '2020-12-27', '2020-12-28', '2020-12-29', '2020-12-30', '2020-12-31',\n",
    "                          '2021-04-04','2021-12-24', '2021-12-25', '2021-12-26', '2021-12-27', '2021-12-28', '2021-12-29', '2021-12-30', '2021-12-31',\n",
    "                          '2022-04-17','2022-12-24', '2022-12-25', '2022-12-26', '2022-12-27', '2022-12-28', '2022-12-29', '2022-12-30', '2022-12-31']),\n",
    "    'holiday': 'Holiday Season'\n",
    "    })"
   ]
  },
  {
   "cell_type": "code",
   "execution_count": 13,
   "id": "eac489f6",
   "metadata": {
    "ExecuteTime": {
     "end_time": "2023-07-25T15:21:44.875218Z",
     "start_time": "2023-07-25T15:21:44.745896Z"
    }
   },
   "outputs": [
    {
     "data": {
      "text/html": [
       "<div>\n",
       "<style scoped>\n",
       "    .dataframe tbody tr th:only-of-type {\n",
       "        vertical-align: middle;\n",
       "    }\n",
       "\n",
       "    .dataframe tbody tr th {\n",
       "        vertical-align: top;\n",
       "    }\n",
       "\n",
       "    .dataframe thead th {\n",
       "        text-align: right;\n",
       "    }\n",
       "</style>\n",
       "<table border=\"1\" class=\"dataframe\">\n",
       "  <thead>\n",
       "    <tr style=\"text-align: right;\">\n",
       "      <th></th>\n",
       "      <th>holiday</th>\n",
       "      <th>ds</th>\n",
       "    </tr>\n",
       "  </thead>\n",
       "  <tbody>\n",
       "    <tr>\n",
       "      <th>0</th>\n",
       "      <td>Japan</td>\n",
       "      <td>2017-01-01</td>\n",
       "    </tr>\n",
       "    <tr>\n",
       "      <th>1</th>\n",
       "      <td>Japan</td>\n",
       "      <td>2017-01-02</td>\n",
       "    </tr>\n",
       "    <tr>\n",
       "      <th>2</th>\n",
       "      <td>Japan</td>\n",
       "      <td>2017-01-09</td>\n",
       "    </tr>\n",
       "    <tr>\n",
       "      <th>3</th>\n",
       "      <td>Japan</td>\n",
       "      <td>2017-02-11</td>\n",
       "    </tr>\n",
       "    <tr>\n",
       "      <th>4</th>\n",
       "      <td>Japan</td>\n",
       "      <td>2017-03-20</td>\n",
       "    </tr>\n",
       "    <tr>\n",
       "      <th>...</th>\n",
       "      <td>...</td>\n",
       "      <td>...</td>\n",
       "    </tr>\n",
       "    <tr>\n",
       "      <th>105</th>\n",
       "      <td>Japan</td>\n",
       "      <td>2022-09-19</td>\n",
       "    </tr>\n",
       "    <tr>\n",
       "      <th>106</th>\n",
       "      <td>Japan</td>\n",
       "      <td>2022-09-23</td>\n",
       "    </tr>\n",
       "    <tr>\n",
       "      <th>107</th>\n",
       "      <td>Japan</td>\n",
       "      <td>2022-10-10</td>\n",
       "    </tr>\n",
       "    <tr>\n",
       "      <th>108</th>\n",
       "      <td>Japan</td>\n",
       "      <td>2022-11-03</td>\n",
       "    </tr>\n",
       "    <tr>\n",
       "      <th>109</th>\n",
       "      <td>Japan</td>\n",
       "      <td>2022-11-23</td>\n",
       "    </tr>\n",
       "  </tbody>\n",
       "</table>\n",
       "<p>110 rows × 2 columns</p>\n",
       "</div>"
      ],
      "text/plain": [
       "    holiday         ds\n",
       "0     Japan 2017-01-01\n",
       "1     Japan 2017-01-02\n",
       "2     Japan 2017-01-09\n",
       "3     Japan 2017-02-11\n",
       "4     Japan 2017-03-20\n",
       "..      ...        ...\n",
       "105   Japan 2022-09-19\n",
       "106   Japan 2022-09-23\n",
       "107   Japan 2022-10-10\n",
       "108   Japan 2022-11-03\n",
       "109   Japan 2022-11-23\n",
       "\n",
       "[110 rows x 2 columns]"
      ]
     },
     "execution_count": 13,
     "metadata": {},
     "output_type": "execute_result"
    }
   ],
   "source": [
    "country_holiday_dict = {country: pd.DataFrame({\n",
    "    'holiday': country,\n",
    "    'ds': pd.to_datetime(get_national_holidays(country))})\n",
    "                        for country in train_df.country.unique()}\n",
    "\n",
    "country_holiday_dict['Japan']"
   ]
  },
  {
   "cell_type": "code",
   "execution_count": 14,
   "id": "3c8b43ed",
   "metadata": {
    "ExecuteTime": {
     "end_time": "2023-07-25T15:21:44.993915Z",
     "start_time": "2023-07-25T15:21:44.878395Z"
    }
   },
   "outputs": [
    {
     "data": {
      "text/html": [
       "<div>\n",
       "<style scoped>\n",
       "    .dataframe tbody tr th:only-of-type {\n",
       "        vertical-align: middle;\n",
       "    }\n",
       "\n",
       "    .dataframe tbody tr th {\n",
       "        vertical-align: top;\n",
       "    }\n",
       "\n",
       "    .dataframe thead th {\n",
       "        text-align: right;\n",
       "    }\n",
       "</style>\n",
       "<table border=\"1\" class=\"dataframe\">\n",
       "  <thead>\n",
       "    <tr style=\"text-align: right;\">\n",
       "      <th></th>\n",
       "      <th>holiday</th>\n",
       "      <th>ds</th>\n",
       "    </tr>\n",
       "  </thead>\n",
       "  <tbody>\n",
       "    <tr>\n",
       "      <th>0</th>\n",
       "      <td>Japan</td>\n",
       "      <td>2017-01-01</td>\n",
       "    </tr>\n",
       "    <tr>\n",
       "      <th>1</th>\n",
       "      <td>Japan</td>\n",
       "      <td>2017-01-02</td>\n",
       "    </tr>\n",
       "    <tr>\n",
       "      <th>2</th>\n",
       "      <td>Japan</td>\n",
       "      <td>2017-01-09</td>\n",
       "    </tr>\n",
       "    <tr>\n",
       "      <th>3</th>\n",
       "      <td>Japan</td>\n",
       "      <td>2017-02-11</td>\n",
       "    </tr>\n",
       "    <tr>\n",
       "      <th>4</th>\n",
       "      <td>Japan</td>\n",
       "      <td>2017-03-20</td>\n",
       "    </tr>\n",
       "    <tr>\n",
       "      <th>...</th>\n",
       "      <td>...</td>\n",
       "      <td>...</td>\n",
       "    </tr>\n",
       "    <tr>\n",
       "      <th>105</th>\n",
       "      <td>Japan</td>\n",
       "      <td>2022-09-19</td>\n",
       "    </tr>\n",
       "    <tr>\n",
       "      <th>106</th>\n",
       "      <td>Japan</td>\n",
       "      <td>2022-09-23</td>\n",
       "    </tr>\n",
       "    <tr>\n",
       "      <th>107</th>\n",
       "      <td>Japan</td>\n",
       "      <td>2022-10-10</td>\n",
       "    </tr>\n",
       "    <tr>\n",
       "      <th>108</th>\n",
       "      <td>Japan</td>\n",
       "      <td>2022-11-03</td>\n",
       "    </tr>\n",
       "    <tr>\n",
       "      <th>109</th>\n",
       "      <td>Japan</td>\n",
       "      <td>2022-11-23</td>\n",
       "    </tr>\n",
       "  </tbody>\n",
       "</table>\n",
       "<p>110 rows × 2 columns</p>\n",
       "</div>"
      ],
      "text/plain": [
       "    holiday         ds\n",
       "0     Japan 2017-01-01\n",
       "1     Japan 2017-01-02\n",
       "2     Japan 2017-01-09\n",
       "3     Japan 2017-02-11\n",
       "4     Japan 2017-03-20\n",
       "..      ...        ...\n",
       "105   Japan 2022-09-19\n",
       "106   Japan 2022-09-23\n",
       "107   Japan 2022-10-10\n",
       "108   Japan 2022-11-03\n",
       "109   Japan 2022-11-23\n",
       "\n",
       "[110 rows x 2 columns]"
      ]
     },
     "execution_count": 14,
     "metadata": {},
     "output_type": "execute_result"
    }
   ],
   "source": [
    "country_holiday_dict = {country: pd.DataFrame({\n",
    "    'holiday': country,\n",
    "    'ds': pd.to_datetime(get_national_holidays(country))})\n",
    "                        for country in train_df.country.unique()}\n",
    "\n",
    "country_holiday_dict['Japan']"
   ]
  },
  {
   "cell_type": "markdown",
   "id": "6e103bec",
   "metadata": {},
   "source": [
    "## Data Examination"
   ]
  },
  {
   "cell_type": "markdown",
   "id": "cfc4b463",
   "metadata": {},
   "source": [
    "### Column Check"
   ]
  },
  {
   "cell_type": "markdown",
   "id": "7557f827",
   "metadata": {},
   "source": [
    "#### No duplicate `id`"
   ]
  },
  {
   "cell_type": "code",
   "execution_count": 15,
   "id": "2a0985df",
   "metadata": {
    "ExecuteTime": {
     "end_time": "2023-07-25T15:21:45.173848Z",
     "start_time": "2023-07-25T15:21:45.161252Z"
    }
   },
   "outputs": [
    {
     "data": {
      "text/plain": [
       "((136950,), (27375,))"
      ]
     },
     "execution_count": 15,
     "metadata": {},
     "output_type": "execute_result"
    }
   ],
   "source": [
    "train_df.id.unique().shape, test_df.id.unique().shape"
   ]
  },
  {
   "cell_type": "markdown",
   "id": "a0000f87",
   "metadata": {},
   "source": [
    "#### No new `country` shows up in the test set"
   ]
  },
  {
   "cell_type": "code",
   "execution_count": 16,
   "id": "ba719fe3",
   "metadata": {
    "ExecuteTime": {
     "end_time": "2023-07-25T15:21:45.346139Z",
     "start_time": "2023-07-25T15:21:45.330098Z"
    }
   },
   "outputs": [
    {
     "data": {
      "text/plain": [
       "(array(['Argentina', 'Canada', 'Estonia', 'Japan', 'Spain'], dtype=object),\n",
       " array(['Argentina', 'Canada', 'Estonia', 'Japan', 'Spain'], dtype=object))"
      ]
     },
     "execution_count": 16,
     "metadata": {},
     "output_type": "execute_result"
    }
   ],
   "source": [
    "train_df.country.unique(), test_df.country.unique()"
   ]
  },
  {
   "cell_type": "markdown",
   "id": "4487ae60",
   "metadata": {},
   "source": [
    "#### No new `store` shows up in the test set"
   ]
  },
  {
   "cell_type": "code",
   "execution_count": 17,
   "id": "23150bca",
   "metadata": {
    "ExecuteTime": {
     "end_time": "2023-07-25T15:21:45.511091Z",
     "start_time": "2023-07-25T15:21:45.495631Z"
    }
   },
   "outputs": [
    {
     "data": {
      "text/plain": [
       "(array(['Kaggle Learn', 'Kaggle Store', 'Kagglazon'], dtype=object),\n",
       " array(['Kaggle Learn', 'Kaggle Store', 'Kagglazon'], dtype=object))"
      ]
     },
     "execution_count": 17,
     "metadata": {},
     "output_type": "execute_result"
    }
   ],
   "source": [
    "train_df.store.unique(), test_df.store.unique()"
   ]
  },
  {
   "cell_type": "markdown",
   "id": "a6060720",
   "metadata": {},
   "source": [
    "#### No new `product` shows up in the test set"
   ]
  },
  {
   "cell_type": "code",
   "execution_count": 18,
   "id": "f724da8b",
   "metadata": {
    "ExecuteTime": {
     "end_time": "2023-07-25T15:21:45.684713Z",
     "start_time": "2023-07-25T15:21:45.664128Z"
    }
   },
   "outputs": [
    {
     "data": {
      "text/plain": [
       "(array(['Using LLMs to Improve Your Coding',\n",
       "        'Using LLMs to Train More LLMs',\n",
       "        'Using LLMs to Win Friends and Influence People',\n",
       "        'Using LLMs to Win More Kaggle Competitions',\n",
       "        'Using LLMs to Write Better'], dtype=object),\n",
       " array(['Using LLMs to Improve Your Coding',\n",
       "        'Using LLMs to Train More LLMs',\n",
       "        'Using LLMs to Win Friends and Influence People',\n",
       "        'Using LLMs to Win More Kaggle Competitions',\n",
       "        'Using LLMs to Write Better'], dtype=object))"
      ]
     },
     "execution_count": 18,
     "metadata": {},
     "output_type": "execute_result"
    }
   ],
   "source": [
    "train_df['product'].unique(), test_df['product'].unique()"
   ]
  },
  {
   "cell_type": "markdown",
   "id": "8f52a91a",
   "metadata": {},
   "source": [
    "## EDA"
   ]
  },
  {
   "cell_type": "code",
   "execution_count": 19,
   "id": "f1286662",
   "metadata": {
    "ExecuteTime": {
     "end_time": "2023-07-25T15:21:45.835283Z",
     "start_time": "2023-07-25T15:21:45.830441Z"
    }
   },
   "outputs": [],
   "source": [
    "cats = ['country', 'store', 'product']\n",
    "# temp = train_df.copy()\n",
    "# temp['comb'] = temp[cats].apply(lambda x: '|'.join(list(x)), \n",
    "#                                 axis=1)\n",
    "# temp = temp.pivot(index='date', \n",
    "#                   columns='comb',\n",
    "#                   values='num_sold')\n",
    "# temp.head()"
   ]
  },
  {
   "cell_type": "code",
   "execution_count": 20,
   "id": "c1d5d78f",
   "metadata": {
    "ExecuteTime": {
     "end_time": "2023-07-25T15:21:45.920830Z",
     "start_time": "2023-07-25T15:21:45.916755Z"
    }
   },
   "outputs": [],
   "source": [
    "# figsize(12, 8)\n",
    "\n",
    "# fig, ax = plt.subplots(1, 1)\n",
    "\n",
    "# for col in temp.columns:\n",
    "#     if col.startswith('Argentina|Kagglazon'):\n",
    "#         sns.lineplot(temp.index,\n",
    "#                      temp[col],\n",
    "#                      label=col)\n",
    "# plt.legend()\n",
    "\n",
    "# xticklabels = [x.get_text() for x in ax.get_xticklabels()]\n",
    "# xticks = []\n",
    "# xlabels = []\n",
    "# for i, label in enumerate(xticklabels, 0):\n",
    "#     if label.endswith('-01'):\n",
    "#         xlabels.append(label)\n",
    "#         xticks.append(i)\n",
    "        \n",
    "# _ = ax.set_xticks(xticks, xlabels, rotation=90)"
   ]
  },
  {
   "cell_type": "code",
   "execution_count": 21,
   "id": "ac0e1b5a",
   "metadata": {
    "ExecuteTime": {
     "end_time": "2023-07-25T15:21:46.060188Z",
     "start_time": "2023-07-25T15:21:46.001911Z"
    }
   },
   "outputs": [
    {
     "data": {
      "text/html": [
       "<div>\n",
       "<style scoped>\n",
       "    .dataframe tbody tr th:only-of-type {\n",
       "        vertical-align: middle;\n",
       "    }\n",
       "\n",
       "    .dataframe tbody tr th {\n",
       "        vertical-align: top;\n",
       "    }\n",
       "\n",
       "    .dataframe thead th {\n",
       "        text-align: right;\n",
       "    }\n",
       "</style>\n",
       "<table border=\"1\" class=\"dataframe\">\n",
       "  <thead>\n",
       "    <tr style=\"text-align: right;\">\n",
       "      <th>country</th>\n",
       "      <th>Argentina</th>\n",
       "      <th>Canada</th>\n",
       "      <th>Estonia</th>\n",
       "      <th>Japan</th>\n",
       "      <th>Spain</th>\n",
       "    </tr>\n",
       "    <tr>\n",
       "      <th>date</th>\n",
       "      <th></th>\n",
       "      <th></th>\n",
       "      <th></th>\n",
       "      <th></th>\n",
       "      <th></th>\n",
       "    </tr>\n",
       "  </thead>\n",
       "  <tbody>\n",
       "    <tr>\n",
       "      <th>2017-01-01</th>\n",
       "      <td>2011</td>\n",
       "      <td>6134</td>\n",
       "      <td>2772</td>\n",
       "      <td>5274</td>\n",
       "      <td>3895</td>\n",
       "    </tr>\n",
       "    <tr>\n",
       "      <th>2017-01-02</th>\n",
       "      <td>1487</td>\n",
       "      <td>5081</td>\n",
       "      <td>2062</td>\n",
       "      <td>3983</td>\n",
       "      <td>2950</td>\n",
       "    </tr>\n",
       "    <tr>\n",
       "      <th>2017-01-03</th>\n",
       "      <td>1448</td>\n",
       "      <td>5049</td>\n",
       "      <td>1984</td>\n",
       "      <td>3742</td>\n",
       "      <td>2816</td>\n",
       "    </tr>\n",
       "    <tr>\n",
       "      <th>2017-01-04</th>\n",
       "      <td>1357</td>\n",
       "      <td>4710</td>\n",
       "      <td>1985</td>\n",
       "      <td>3784</td>\n",
       "      <td>2680</td>\n",
       "    </tr>\n",
       "    <tr>\n",
       "      <th>2017-01-05</th>\n",
       "      <td>1316</td>\n",
       "      <td>4629</td>\n",
       "      <td>1920</td>\n",
       "      <td>3609</td>\n",
       "      <td>2609</td>\n",
       "    </tr>\n",
       "  </tbody>\n",
       "</table>\n",
       "</div>"
      ],
      "text/plain": [
       "country     Argentina  Canada  Estonia  Japan  Spain\n",
       "date                                                \n",
       "2017-01-01       2011    6134     2772   5274   3895\n",
       "2017-01-02       1487    5081     2062   3983   2950\n",
       "2017-01-03       1448    5049     1984   3742   2816\n",
       "2017-01-04       1357    4710     1985   3784   2680\n",
       "2017-01-05       1316    4629     1920   3609   2609"
      ]
     },
     "execution_count": 21,
     "metadata": {},
     "output_type": "execute_result"
    }
   ],
   "source": [
    "temp = train_df.copy()\n",
    "temp_gb = temp.groupby(['date', 'country'])[['num_sold']].sum().reset_index()\n",
    "temp_gb = temp_gb.pivot(index='date', columns='country', values='num_sold')\n",
    "temp_gb.head()"
   ]
  },
  {
   "cell_type": "code",
   "execution_count": 22,
   "id": "2dec179e",
   "metadata": {
    "ExecuteTime": {
     "end_time": "2023-07-25T15:21:49.963221Z",
     "start_time": "2023-07-25T15:21:46.084816Z"
    }
   },
   "outputs": [
    {
     "data": {
      "image/png": "[encoded data removed]",
      "text/plain": [
       "<Figure size 1200x800 with 1 Axes>"
      ]
     },
     "metadata": {},
     "output_type": "display_data"
    }
   ],
   "source": [
    "figsize(12, 8)\n",
    "\n",
    "fig, ax = plt.subplots(1, 1)\n",
    "\n",
    "for country in temp_gb.columns:\n",
    "    sns.lineplot(temp_gb.index, temp_gb[country], label=country)\n",
    "plt.legend()\n",
    "\n",
    "xticklabels = [x.get_text() for x in ax.get_xticklabels()]\n",
    "xticks = []\n",
    "xlabels = []\n",
    "for i, label in enumerate(xticklabels, 0):\n",
    "    if label.endswith('-01'):\n",
    "        xlabels.append(label)\n",
    "        xticks.append(i)\n",
    "        \n",
    "_ = ax.set_xticks(xticks, xlabels, rotation=90)"
   ]
  },
  {
   "cell_type": "markdown",
   "id": "fa899ecf",
   "metadata": {},
   "source": [
    "## Modeling"
   ]
  },
  {
   "cell_type": "code",
   "execution_count": 23,
   "id": "8811ba46",
   "metadata": {
    "ExecuteTime": {
     "end_time": "2023-07-25T15:21:49.973692Z",
     "start_time": "2023-07-25T15:21:49.966499Z"
    }
   },
   "outputs": [],
   "source": [
    "def pre_process(df, cats=cats):\n",
    "    df['comb'] = df[cats].apply(lambda x: '|'.join(list(x)), axis=1)\n",
    "    df['y'] = df['num_sold']\n",
    "    df['ds'] = df['date']\n",
    "    groups_by_comb = df.groupby('comb')\n",
    "    print(len(groups_by_comb.groups.keys()))\n",
    "    \n",
    "    return df, groups_by_comb"
   ]
  },
  {
   "cell_type": "code",
   "execution_count": 24,
   "id": "84c0c8e3",
   "metadata": {
    "ExecuteTime": {
     "end_time": "2023-07-25T15:21:51.152891Z",
     "start_time": "2023-07-25T15:21:49.976241Z"
    }
   },
   "outputs": [
    {
     "name": "stdout",
     "output_type": "stream",
     "text": [
      "75\n"
     ]
    }
   ],
   "source": [
    "train_df, groups_by_comb = pre_process(train_df)"
   ]
  },
  {
   "cell_type": "markdown",
   "id": "34acbc39",
   "metadata": {},
   "source": [
    "### Define Function"
   ]
  },
  {
   "cell_type": "code",
   "execution_count": 25,
   "id": "61c45555",
   "metadata": {
    "ExecuteTime": {
     "end_time": "2023-07-25T15:21:51.166121Z",
     "start_time": "2023-07-25T15:21:51.159063Z"
    }
   },
   "outputs": [],
   "source": [
    "def train_and_forecast(group, country, \n",
    "                       country_holiday_dict=country_holiday_dict):\n",
    "    # Train\n",
    "    m = Prophet(yearly_seasonality=True,\n",
    "                weekly_seasonality=True,\n",
    "                holidays=country_holiday_dict[country])\n",
    "    m.fit(group)\n",
    "    \n",
    "    # Predict\n",
    "    future = m.make_future_dataframe(periods=365)\n",
    "    forecast = m.predict(future)\n",
    "    forecast['comb'] = group['comb'].iloc[0]\n",
    "    \n",
    "    # Return \n",
    "    return m, forecast"
   ]
  },
  {
   "cell_type": "code",
   "execution_count": 26,
   "id": "164c0068",
   "metadata": {
    "ExecuteTime": {
     "end_time": "2023-07-25T15:23:15.848251Z",
     "start_time": "2023-07-25T15:21:51.169271Z"
    }
   },
   "outputs": [
    {
     "name": "stderr",
     "output_type": "stream",
     "text": [
      "16:21:51 - cmdstanpy - INFO - Chain [1] start processing\n",
      "16:21:51 - cmdstanpy - INFO - Chain [1] done processing\n",
      "16:21:52 - cmdstanpy - INFO - Chain [1] start processing\n",
      "16:21:52 - cmdstanpy - INFO - Chain [1] done processing\n",
      "16:21:53 - cmdstanpy - INFO - Chain [1] start processing\n",
      "16:21:53 - cmdstanpy - INFO - Chain [1] done processing\n",
      "16:21:54 - cmdstanpy - INFO - Chain [1] start processing\n",
      "16:21:55 - cmdstanpy - INFO - Chain [1] done processing\n",
      "16:21:55 - cmdstanpy - INFO - Chain [1] start processing\n",
      "16:21:56 - cmdstanpy - INFO - Chain [1] done processing\n",
      "16:21:56 - cmdstanpy - INFO - Chain [1] start processing\n",
      "16:21:57 - cmdstanpy - INFO - Chain [1] done processing\n",
      "16:21:57 - cmdstanpy - INFO - Chain [1] start processing\n",
      "16:21:58 - cmdstanpy - INFO - Chain [1] done processing\n",
      "16:21:58 - cmdstanpy - INFO - Chain [1] start processing\n",
      "16:21:59 - cmdstanpy - INFO - Chain [1] done processing\n",
      "16:21:59 - cmdstanpy - INFO - Chain [1] start processing\n",
      "16:22:00 - cmdstanpy - INFO - Chain [1] done processing\n",
      "16:22:00 - cmdstanpy - INFO - Chain [1] start processing\n",
      "16:22:01 - cmdstanpy - INFO - Chain [1] done processing\n",
      "16:22:02 - cmdstanpy - INFO - Chain [1] start processing\n",
      "16:22:02 - cmdstanpy - INFO - Chain [1] done processing\n",
      "16:22:03 - cmdstanpy - INFO - Chain [1] start processing\n",
      "16:22:03 - cmdstanpy - INFO - Chain [1] done processing\n",
      "16:22:04 - cmdstanpy - INFO - Chain [1] start processing\n",
      "16:22:04 - cmdstanpy - INFO - Chain [1] done processing\n",
      "16:22:05 - cmdstanpy - INFO - Chain [1] start processing\n",
      "16:22:05 - cmdstanpy - INFO - Chain [1] done processing\n",
      "16:22:06 - cmdstanpy - INFO - Chain [1] start processing\n",
      "16:22:06 - cmdstanpy - INFO - Chain [1] done processing\n",
      "16:22:07 - cmdstanpy - INFO - Chain [1] start processing\n",
      "16:22:07 - cmdstanpy - INFO - Chain [1] done processing\n",
      "16:22:08 - cmdstanpy - INFO - Chain [1] start processing\n",
      "16:22:08 - cmdstanpy - INFO - Chain [1] done processing\n",
      "16:22:09 - cmdstanpy - INFO - Chain [1] start processing\n",
      "16:22:09 - cmdstanpy - INFO - Chain [1] done processing\n",
      "16:22:10 - cmdstanpy - INFO - Chain [1] start processing\n",
      "16:22:10 - cmdstanpy - INFO - Chain [1] done processing\n",
      "16:22:11 - cmdstanpy - INFO - Chain [1] start processing\n",
      "16:22:11 - cmdstanpy - INFO - Chain [1] done processing\n",
      "16:22:12 - cmdstanpy - INFO - Chain [1] start processing\n",
      "16:22:12 - cmdstanpy - INFO - Chain [1] done processing\n",
      "16:22:13 - cmdstanpy - INFO - Chain [1] start processing\n",
      "16:22:13 - cmdstanpy - INFO - Chain [1] done processing\n",
      "16:22:14 - cmdstanpy - INFO - Chain [1] start processing\n",
      "16:22:14 - cmdstanpy - INFO - Chain [1] done processing\n",
      "16:22:15 - cmdstanpy - INFO - Chain [1] start processing\n",
      "16:22:15 - cmdstanpy - INFO - Chain [1] done processing\n",
      "16:22:16 - cmdstanpy - INFO - Chain [1] start processing\n",
      "16:22:16 - cmdstanpy - INFO - Chain [1] done processing\n",
      "16:22:17 - cmdstanpy - INFO - Chain [1] start processing\n",
      "16:22:18 - cmdstanpy - INFO - Chain [1] done processing\n",
      "16:22:19 - cmdstanpy - INFO - Chain [1] start processing\n",
      "16:22:19 - cmdstanpy - INFO - Chain [1] done processing\n",
      "16:22:20 - cmdstanpy - INFO - Chain [1] start processing\n",
      "16:22:21 - cmdstanpy - INFO - Chain [1] done processing\n",
      "16:22:21 - cmdstanpy - INFO - Chain [1] start processing\n",
      "16:22:22 - cmdstanpy - INFO - Chain [1] done processing\n",
      "16:22:22 - cmdstanpy - INFO - Chain [1] start processing\n",
      "16:22:23 - cmdstanpy - INFO - Chain [1] done processing\n",
      "16:22:24 - cmdstanpy - INFO - Chain [1] start processing\n",
      "16:22:25 - cmdstanpy - INFO - Chain [1] done processing\n",
      "16:22:25 - cmdstanpy - INFO - Chain [1] start processing\n",
      "16:22:26 - cmdstanpy - INFO - Chain [1] done processing\n",
      "16:22:26 - cmdstanpy - INFO - Chain [1] start processing\n",
      "16:22:27 - cmdstanpy - INFO - Chain [1] done processing\n",
      "16:22:28 - cmdstanpy - INFO - Chain [1] start processing\n",
      "16:22:28 - cmdstanpy - INFO - Chain [1] done processing\n",
      "16:22:29 - cmdstanpy - INFO - Chain [1] start processing\n",
      "16:22:30 - cmdstanpy - INFO - Chain [1] done processing\n",
      "16:22:31 - cmdstanpy - INFO - Chain [1] start processing\n",
      "16:22:31 - cmdstanpy - INFO - Chain [1] done processing\n",
      "16:22:32 - cmdstanpy - INFO - Chain [1] start processing\n",
      "16:22:33 - cmdstanpy - INFO - Chain [1] done processing\n",
      "16:22:34 - cmdstanpy - INFO - Chain [1] start processing\n",
      "16:22:34 - cmdstanpy - INFO - Chain [1] done processing\n",
      "16:22:35 - cmdstanpy - INFO - Chain [1] start processing\n",
      "16:22:36 - cmdstanpy - INFO - Chain [1] done processing\n",
      "16:22:36 - cmdstanpy - INFO - Chain [1] start processing\n",
      "16:22:37 - cmdstanpy - INFO - Chain [1] done processing\n",
      "16:22:38 - cmdstanpy - INFO - Chain [1] start processing\n",
      "16:22:38 - cmdstanpy - INFO - Chain [1] done processing\n",
      "16:22:39 - cmdstanpy - INFO - Chain [1] start processing\n",
      "16:22:39 - cmdstanpy - INFO - Chain [1] done processing\n",
      "16:22:40 - cmdstanpy - INFO - Chain [1] start processing\n",
      "16:22:40 - cmdstanpy - INFO - Chain [1] done processing\n",
      "16:22:41 - cmdstanpy - INFO - Chain [1] start processing\n",
      "16:22:41 - cmdstanpy - INFO - Chain [1] done processing\n",
      "16:22:42 - cmdstanpy - INFO - Chain [1] start processing\n",
      "16:22:43 - cmdstanpy - INFO - Chain [1] done processing\n",
      "16:22:43 - cmdstanpy - INFO - Chain [1] start processing\n",
      "16:22:44 - cmdstanpy - INFO - Chain [1] done processing\n",
      "16:22:45 - cmdstanpy - INFO - Chain [1] start processing\n",
      "16:22:45 - cmdstanpy - INFO - Chain [1] done processing\n",
      "16:22:46 - cmdstanpy - INFO - Chain [1] start processing\n",
      "16:22:46 - cmdstanpy - INFO - Chain [1] done processing\n",
      "16:22:47 - cmdstanpy - INFO - Chain [1] start processing\n",
      "16:22:48 - cmdstanpy - INFO - Chain [1] done processing\n",
      "16:22:48 - cmdstanpy - INFO - Chain [1] start processing\n",
      "16:22:49 - cmdstanpy - INFO - Chain [1] done processing\n",
      "16:22:49 - cmdstanpy - INFO - Chain [1] start processing\n",
      "16:22:50 - cmdstanpy - INFO - Chain [1] done processing\n",
      "16:22:50 - cmdstanpy - INFO - Chain [1] start processing\n",
      "16:22:51 - cmdstanpy - INFO - Chain [1] done processing\n",
      "16:22:52 - cmdstanpy - INFO - Chain [1] start processing\n",
      "16:22:52 - cmdstanpy - INFO - Chain [1] done processing\n",
      "16:22:52 - cmdstanpy - INFO - Chain [1] start processing\n",
      "16:22:53 - cmdstanpy - INFO - Chain [1] done processing\n",
      "16:22:53 - cmdstanpy - INFO - Chain [1] start processing\n",
      "16:22:54 - cmdstanpy - INFO - Chain [1] done processing\n",
      "16:22:55 - cmdstanpy - INFO - Chain [1] start processing\n",
      "16:22:55 - cmdstanpy - INFO - Chain [1] done processing\n",
      "16:22:55 - cmdstanpy - INFO - Chain [1] start processing\n",
      "16:22:56 - cmdstanpy - INFO - Chain [1] done processing\n",
      "16:22:56 - cmdstanpy - INFO - Chain [1] start processing\n",
      "16:22:57 - cmdstanpy - INFO - Chain [1] done processing\n",
      "16:22:57 - cmdstanpy - INFO - Chain [1] start processing\n",
      "16:22:58 - cmdstanpy - INFO - Chain [1] done processing\n",
      "16:22:58 - cmdstanpy - INFO - Chain [1] start processing\n",
      "16:22:59 - cmdstanpy - INFO - Chain [1] done processing\n",
      "16:22:59 - cmdstanpy - INFO - Chain [1] start processing\n",
      "16:23:00 - cmdstanpy - INFO - Chain [1] done processing\n",
      "16:23:00 - cmdstanpy - INFO - Chain [1] start processing\n",
      "16:23:01 - cmdstanpy - INFO - Chain [1] done processing\n",
      "16:23:01 - cmdstanpy - INFO - Chain [1] start processing\n",
      "16:23:02 - cmdstanpy - INFO - Chain [1] done processing\n",
      "16:23:02 - cmdstanpy - INFO - Chain [1] start processing\n",
      "16:23:03 - cmdstanpy - INFO - Chain [1] done processing\n",
      "16:23:04 - cmdstanpy - INFO - Chain [1] start processing\n",
      "16:23:04 - cmdstanpy - INFO - Chain [1] done processing\n",
      "16:23:05 - cmdstanpy - INFO - Chain [1] start processing\n",
      "16:23:05 - cmdstanpy - INFO - Chain [1] done processing\n",
      "16:23:06 - cmdstanpy - INFO - Chain [1] start processing\n",
      "16:23:06 - cmdstanpy - INFO - Chain [1] done processing\n",
      "16:23:07 - cmdstanpy - INFO - Chain [1] start processing\n",
      "16:23:07 - cmdstanpy - INFO - Chain [1] done processing\n",
      "16:23:08 - cmdstanpy - INFO - Chain [1] start processing\n",
      "16:23:08 - cmdstanpy - INFO - Chain [1] done processing\n",
      "16:23:09 - cmdstanpy - INFO - Chain [1] start processing\n",
      "16:23:09 - cmdstanpy - INFO - Chain [1] done processing\n",
      "16:23:10 - cmdstanpy - INFO - Chain [1] start processing\n",
      "16:23:10 - cmdstanpy - INFO - Chain [1] done processing\n",
      "16:23:11 - cmdstanpy - INFO - Chain [1] start processing\n",
      "16:23:11 - cmdstanpy - INFO - Chain [1] done processing\n",
      "16:23:12 - cmdstanpy - INFO - Chain [1] start processing\n"
     ]
    },
    {
     "name": "stderr",
     "output_type": "stream",
     "text": [
      "16:23:13 - cmdstanpy - INFO - Chain [1] done processing\n",
      "16:23:13 - cmdstanpy - INFO - Chain [1] start processing\n",
      "16:23:14 - cmdstanpy - INFO - Chain [1] done processing\n",
      "16:23:14 - cmdstanpy - INFO - Chain [1] start processing\n",
      "16:23:15 - cmdstanpy - INFO - Chain [1] done processing\n"
     ]
    },
    {
     "data": {
      "text/html": [
       "<div>\n",
       "<style scoped>\n",
       "    .dataframe tbody tr th:only-of-type {\n",
       "        vertical-align: middle;\n",
       "    }\n",
       "\n",
       "    .dataframe tbody tr th {\n",
       "        vertical-align: top;\n",
       "    }\n",
       "\n",
       "    .dataframe thead th {\n",
       "        text-align: right;\n",
       "    }\n",
       "</style>\n",
       "<table border=\"1\" class=\"dataframe\">\n",
       "  <thead>\n",
       "    <tr style=\"text-align: right;\">\n",
       "      <th></th>\n",
       "      <th>ds</th>\n",
       "      <th>comb</th>\n",
       "      <th>yhat</th>\n",
       "      <th>yhat_upper</th>\n",
       "      <th>yhat_lower</th>\n",
       "    </tr>\n",
       "  </thead>\n",
       "  <tbody>\n",
       "    <tr>\n",
       "      <th>0</th>\n",
       "      <td>2017-01-01</td>\n",
       "      <td>Argentina|Kaggle Learn|Using LLMs to Improve Y...</td>\n",
       "      <td>46.864478</td>\n",
       "      <td>50.461205</td>\n",
       "      <td>43.130087</td>\n",
       "    </tr>\n",
       "    <tr>\n",
       "      <th>1</th>\n",
       "      <td>2017-01-02</td>\n",
       "      <td>Argentina|Kaggle Learn|Using LLMs to Improve Y...</td>\n",
       "      <td>41.322718</td>\n",
       "      <td>45.052473</td>\n",
       "      <td>37.881944</td>\n",
       "    </tr>\n",
       "    <tr>\n",
       "      <th>2</th>\n",
       "      <td>2017-01-03</td>\n",
       "      <td>Argentina|Kaggle Learn|Using LLMs to Improve Y...</td>\n",
       "      <td>40.795094</td>\n",
       "      <td>44.277285</td>\n",
       "      <td>37.262230</td>\n",
       "    </tr>\n",
       "    <tr>\n",
       "      <th>3</th>\n",
       "      <td>2017-01-04</td>\n",
       "      <td>Argentina|Kaggle Learn|Using LLMs to Improve Y...</td>\n",
       "      <td>40.548180</td>\n",
       "      <td>44.365933</td>\n",
       "      <td>36.962552</td>\n",
       "    </tr>\n",
       "    <tr>\n",
       "      <th>4</th>\n",
       "      <td>2017-01-05</td>\n",
       "      <td>Argentina|Kaggle Learn|Using LLMs to Improve Y...</td>\n",
       "      <td>40.289227</td>\n",
       "      <td>43.752726</td>\n",
       "      <td>36.640774</td>\n",
       "    </tr>\n",
       "  </tbody>\n",
       "</table>\n",
       "</div>"
      ],
      "text/plain": [
       "          ds                                               comb       yhat  \\\n",
       "0 2017-01-01  Argentina|Kaggle Learn|Using LLMs to Improve Y...  46.864478   \n",
       "1 2017-01-02  Argentina|Kaggle Learn|Using LLMs to Improve Y...  41.322718   \n",
       "2 2017-01-03  Argentina|Kaggle Learn|Using LLMs to Improve Y...  40.795094   \n",
       "3 2017-01-04  Argentina|Kaggle Learn|Using LLMs to Improve Y...  40.548180   \n",
       "4 2017-01-05  Argentina|Kaggle Learn|Using LLMs to Improve Y...  40.289227   \n",
       "\n",
       "   yhat_upper  yhat_lower  \n",
       "0   50.461205   43.130087  \n",
       "1   45.052473   37.881944  \n",
       "2   44.277285   37.262230  \n",
       "3   44.365933   36.962552  \n",
       "4   43.752726   36.640774  "
      ]
     },
     "execution_count": 26,
     "metadata": {},
     "output_type": "execute_result"
    }
   ],
   "source": [
    "preds = pd.DataFrame()\n",
    "models = []\n",
    "forecasts = []\n",
    "\n",
    "for comb in train_df.comb.unique():\n",
    "    country = comb.split('|')[0]\n",
    "    group = groups_by_comb.get_group(comb)\n",
    "    m, forecast = train_and_forecast(group, country)\n",
    "    preds = pd.concat((preds, forecast[['ds', 'comb', 'yhat', 'yhat_upper', 'yhat_lower']]))\n",
    "    models.append(m)\n",
    "    forecasts.append(forecast)\n",
    "    \n",
    "preds.head()"
   ]
  },
  {
   "cell_type": "markdown",
   "id": "a6ca064f",
   "metadata": {},
   "source": [
    "## Evaluation"
   ]
  },
  {
   "cell_type": "code",
   "execution_count": 27,
   "id": "5e13921f",
   "metadata": {
    "ExecuteTime": {
     "end_time": "2023-07-25T15:23:15.857793Z",
     "start_time": "2023-07-25T15:23:15.851458Z"
    }
   },
   "outputs": [],
   "source": [
    "def get_metrics(m):\n",
    "    m_cv = cross_validation(model=m, \n",
    "                            initial='1460 days',\n",
    "                            period='30 days',\n",
    "                            horizon='365 days')\n",
    "    pm = performance_metrics(m_cv)\n",
    "    return pm[pm['horizon'] == '365 days'][['rmse', 'smape']].values[0]"
   ]
  },
  {
   "cell_type": "code",
   "execution_count": 28,
   "id": "44d05775",
   "metadata": {
    "ExecuteTime": {
     "end_time": "2023-07-25T15:25:08.213539Z",
     "start_time": "2023-07-25T15:23:15.861610Z"
    }
   },
   "outputs": [
    {
     "name": "stderr",
     "output_type": "stream",
     "text": [
      "\r",
      "  0%|                                                    | 0/75 [00:00<?, ?it/s]"
     ]
    },
    {
     "data": {
      "application/vnd.jupyter.widget-view+json": {
       "model_id": "5e00985d888e488eb3deaf49d030c2d0",
       "version_major": 2,
       "version_minor": 0
      },
      "text/plain": [
       "  0%|          | 0/1 [00:00<?, ?it/s]"
      ]
     },
     "metadata": {},
     "output_type": "display_data"
    },
    {
     "name": "stderr",
     "output_type": "stream",
     "text": [
      "16:23:16 - cmdstanpy - INFO - Chain [1] start processing\n",
      "16:23:16 - cmdstanpy - INFO - Chain [1] done processing\n",
      "  1%|▌                                           | 1/75 [00:01<01:44,  1.41s/it]"
     ]
    },
    {
     "data": {
      "application/vnd.jupyter.widget-view+json": {
       "model_id": "1c2b918f143c4a0e9919870b3d54a25e",
       "version_major": 2,
       "version_minor": 0
      },
      "text/plain": [
       "  0%|          | 0/1 [00:00<?, ?it/s]"
      ]
     },
     "metadata": {},
     "output_type": "display_data"
    },
    {
     "name": "stderr",
     "output_type": "stream",
     "text": [
      "16:23:17 - cmdstanpy - INFO - Chain [1] start processing\n",
      "16:23:17 - cmdstanpy - INFO - Chain [1] done processing\n",
      "  3%|█▏                                          | 2/75 [00:02<01:41,  1.39s/it]"
     ]
    },
    {
     "data": {
      "application/vnd.jupyter.widget-view+json": {
       "model_id": "16149ef6633d4a33a3d6edbb562fcb6d",
       "version_major": 2,
       "version_minor": 0
      },
      "text/plain": [
       "  0%|          | 0/1 [00:00<?, ?it/s]"
      ]
     },
     "metadata": {},
     "output_type": "display_data"
    },
    {
     "name": "stderr",
     "output_type": "stream",
     "text": [
      "16:23:18 - cmdstanpy - INFO - Chain [1] start processing\n",
      "16:23:18 - cmdstanpy - INFO - Chain [1] done processing\n",
      "  4%|█▊                                          | 3/75 [00:04<01:50,  1.53s/it]"
     ]
    },
    {
     "data": {
      "application/vnd.jupyter.widget-view+json": {
       "model_id": "96ddea12c9a447589e42070ac2f55ec9",
       "version_major": 2,
       "version_minor": 0
      },
      "text/plain": [
       "  0%|          | 0/1 [00:00<?, ?it/s]"
      ]
     },
     "metadata": {},
     "output_type": "display_data"
    },
    {
     "name": "stderr",
     "output_type": "stream",
     "text": [
      "16:23:20 - cmdstanpy - INFO - Chain [1] start processing\n",
      "16:23:20 - cmdstanpy - INFO - Chain [1] done processing\n",
      "  5%|██▎                                         | 4/75 [00:05<01:46,  1.51s/it]"
     ]
    },
    {
     "data": {
      "application/vnd.jupyter.widget-view+json": {
       "model_id": "f48eb1c29e5d483eb8822b5ecb853c0a",
       "version_major": 2,
       "version_minor": 0
      },
      "text/plain": [
       "  0%|          | 0/1 [00:00<?, ?it/s]"
      ]
     },
     "metadata": {},
     "output_type": "display_data"
    },
    {
     "name": "stderr",
     "output_type": "stream",
     "text": [
      "16:23:21 - cmdstanpy - INFO - Chain [1] start processing\n",
      "16:23:22 - cmdstanpy - INFO - Chain [1] done processing\n",
      "  7%|██▉                                         | 5/75 [00:07<01:49,  1.56s/it]"
     ]
    },
    {
     "data": {
      "application/vnd.jupyter.widget-view+json": {
       "model_id": "c4b202f9a8054e9da3acb6d740d6ddc4",
       "version_major": 2,
       "version_minor": 0
      },
      "text/plain": [
       "  0%|          | 0/1 [00:00<?, ?it/s]"
      ]
     },
     "metadata": {},
     "output_type": "display_data"
    },
    {
     "name": "stderr",
     "output_type": "stream",
     "text": [
      "16:23:23 - cmdstanpy - INFO - Chain [1] start processing\n",
      "16:23:23 - cmdstanpy - INFO - Chain [1] done processing\n",
      "  8%|███▌                                        | 6/75 [00:08<01:43,  1.50s/it]"
     ]
    },
    {
     "data": {
      "application/vnd.jupyter.widget-view+json": {
       "model_id": "f4d49cbf8bee4a699426d6f8ed810756",
       "version_major": 2,
       "version_minor": 0
      },
      "text/plain": [
       "  0%|          | 0/1 [00:00<?, ?it/s]"
      ]
     },
     "metadata": {},
     "output_type": "display_data"
    },
    {
     "name": "stderr",
     "output_type": "stream",
     "text": [
      "16:23:25 - cmdstanpy - INFO - Chain [1] start processing\n",
      "16:23:25 - cmdstanpy - INFO - Chain [1] done processing\n",
      "  9%|████                                        | 7/75 [00:10<01:37,  1.43s/it]"
     ]
    },
    {
     "data": {
      "application/vnd.jupyter.widget-view+json": {
       "model_id": "5a10eeba326943bb9bccc68ad2da986c",
       "version_major": 2,
       "version_minor": 0
      },
      "text/plain": [
       "  0%|          | 0/1 [00:00<?, ?it/s]"
      ]
     },
     "metadata": {},
     "output_type": "display_data"
    },
    {
     "name": "stderr",
     "output_type": "stream",
     "text": [
      "16:23:26 - cmdstanpy - INFO - Chain [1] start processing\n",
      "16:23:26 - cmdstanpy - INFO - Chain [1] done processing\n",
      " 11%|████▋                                       | 8/75 [00:11<01:31,  1.37s/it]"
     ]
    },
    {
     "data": {
      "application/vnd.jupyter.widget-view+json": {
       "model_id": "3a2141aaf8a74706837bb9acd9c27710",
       "version_major": 2,
       "version_minor": 0
      },
      "text/plain": [
       "  0%|          | 0/1 [00:00<?, ?it/s]"
      ]
     },
     "metadata": {},
     "output_type": "display_data"
    },
    {
     "name": "stderr",
     "output_type": "stream",
     "text": [
      "16:23:27 - cmdstanpy - INFO - Chain [1] start processing\n",
      "16:23:27 - cmdstanpy - INFO - Chain [1] done processing\n",
      " 12%|█████▎                                      | 9/75 [00:12<01:27,  1.33s/it]"
     ]
    },
    {
     "data": {
      "application/vnd.jupyter.widget-view+json": {
       "model_id": "c1f19775b08245afb8df1f5983267f13",
       "version_major": 2,
       "version_minor": 0
      },
      "text/plain": [
       "  0%|          | 0/1 [00:00<?, ?it/s]"
      ]
     },
     "metadata": {},
     "output_type": "display_data"
    },
    {
     "name": "stderr",
     "output_type": "stream",
     "text": [
      "16:23:28 - cmdstanpy - INFO - Chain [1] start processing\n",
      "16:23:29 - cmdstanpy - INFO - Chain [1] done processing\n",
      " 13%|█████▋                                     | 10/75 [00:14<01:27,  1.35s/it]"
     ]
    },
    {
     "data": {
      "application/vnd.jupyter.widget-view+json": {
       "model_id": "d0326200f3454c158e555b4cd9ec4e6e",
       "version_major": 2,
       "version_minor": 0
      },
      "text/plain": [
       "  0%|          | 0/1 [00:00<?, ?it/s]"
      ]
     },
     "metadata": {},
     "output_type": "display_data"
    },
    {
     "name": "stderr",
     "output_type": "stream",
     "text": [
      "16:23:30 - cmdstanpy - INFO - Chain [1] start processing\n",
      "16:23:30 - cmdstanpy - INFO - Chain [1] done processing\n",
      " 15%|██████▎                                    | 11/75 [00:15<01:24,  1.31s/it]"
     ]
    },
    {
     "data": {
      "application/vnd.jupyter.widget-view+json": {
       "model_id": "104c7605b4e848f8ba7b26a1c20283bc",
       "version_major": 2,
       "version_minor": 0
      },
      "text/plain": [
       "  0%|          | 0/1 [00:00<?, ?it/s]"
      ]
     },
     "metadata": {},
     "output_type": "display_data"
    },
    {
     "name": "stderr",
     "output_type": "stream",
     "text": [
      "16:23:31 - cmdstanpy - INFO - Chain [1] start processing\n",
      "16:23:31 - cmdstanpy - INFO - Chain [1] done processing\n",
      " 16%|██████▉                                    | 12/75 [00:16<01:23,  1.33s/it]"
     ]
    },
    {
     "data": {
      "application/vnd.jupyter.widget-view+json": {
       "model_id": "e29ca36102c54fd587cc7c32cd6e256b",
       "version_major": 2,
       "version_minor": 0
      },
      "text/plain": [
       "  0%|          | 0/1 [00:00<?, ?it/s]"
      ]
     },
     "metadata": {},
     "output_type": "display_data"
    },
    {
     "name": "stderr",
     "output_type": "stream",
     "text": [
      "16:23:32 - cmdstanpy - INFO - Chain [1] start processing\n",
      "16:23:32 - cmdstanpy - INFO - Chain [1] done processing\n",
      " 17%|███████▍                                   | 13/75 [00:18<01:26,  1.39s/it]"
     ]
    },
    {
     "data": {
      "application/vnd.jupyter.widget-view+json": {
       "model_id": "7916bd8c420f4839982a9644cddee6c2",
       "version_major": 2,
       "version_minor": 0
      },
      "text/plain": [
       "  0%|          | 0/1 [00:00<?, ?it/s]"
      ]
     },
     "metadata": {},
     "output_type": "display_data"
    },
    {
     "name": "stderr",
     "output_type": "stream",
     "text": [
      "16:23:34 - cmdstanpy - INFO - Chain [1] start processing\n",
      "16:23:34 - cmdstanpy - INFO - Chain [1] done processing\n",
      " 19%|████████                                   | 14/75 [00:19<01:24,  1.38s/it]"
     ]
    },
    {
     "data": {
      "application/vnd.jupyter.widget-view+json": {
       "model_id": "c3d583a6b92b415b87ba27f9d0b32ab5",
       "version_major": 2,
       "version_minor": 0
      },
      "text/plain": [
       "  0%|          | 0/1 [00:00<?, ?it/s]"
      ]
     },
     "metadata": {},
     "output_type": "display_data"
    },
    {
     "name": "stderr",
     "output_type": "stream",
     "text": [
      "16:23:35 - cmdstanpy - INFO - Chain [1] start processing\n",
      "16:23:35 - cmdstanpy - INFO - Chain [1] done processing\n",
      " 20%|████████▌                                  | 15/75 [00:21<01:27,  1.46s/it]"
     ]
    },
    {
     "data": {
      "application/vnd.jupyter.widget-view+json": {
       "model_id": "774c58c1bf99486b8558377f5768e74b",
       "version_major": 2,
       "version_minor": 0
      },
      "text/plain": [
       "  0%|          | 0/1 [00:00<?, ?it/s]"
      ]
     },
     "metadata": {},
     "output_type": "display_data"
    },
    {
     "name": "stderr",
     "output_type": "stream",
     "text": [
      "16:23:37 - cmdstanpy - INFO - Chain [1] start processing\n",
      "16:23:37 - cmdstanpy - INFO - Chain [1] done processing\n",
      " 21%|█████████▏                                 | 16/75 [00:23<01:40,  1.70s/it]"
     ]
    },
    {
     "data": {
      "application/vnd.jupyter.widget-view+json": {
       "model_id": "db6f98b370384415826eabda67cd2d72",
       "version_major": 2,
       "version_minor": 0
      },
      "text/plain": [
       "  0%|          | 0/1 [00:00<?, ?it/s]"
      ]
     },
     "metadata": {},
     "output_type": "display_data"
    },
    {
     "name": "stderr",
     "output_type": "stream",
     "text": [
      "16:23:39 - cmdstanpy - INFO - Chain [1] start processing\n",
      "16:23:40 - cmdstanpy - INFO - Chain [1] done processing\n",
      " 23%|█████████▋                                 | 17/75 [00:25<01:37,  1.69s/it]"
     ]
    },
    {
     "data": {
      "application/vnd.jupyter.widget-view+json": {
       "model_id": "c494cfd1ff3341c6a0472e315f7ab0b4",
       "version_major": 2,
       "version_minor": 0
      },
      "text/plain": [
       "  0%|          | 0/1 [00:00<?, ?it/s]"
      ]
     },
     "metadata": {},
     "output_type": "display_data"
    },
    {
     "name": "stderr",
     "output_type": "stream",
     "text": [
      "16:23:41 - cmdstanpy - INFO - Chain [1] start processing\n",
      "16:23:41 - cmdstanpy - INFO - Chain [1] done processing\n",
      " 24%|██████████▎                                | 18/75 [00:26<01:33,  1.64s/it]"
     ]
    },
    {
     "data": {
      "application/vnd.jupyter.widget-view+json": {
       "model_id": "d9ec71cc2a054b2ca673f66253505726",
       "version_major": 2,
       "version_minor": 0
      },
      "text/plain": [
       "  0%|          | 0/1 [00:00<?, ?it/s]"
      ]
     },
     "metadata": {},
     "output_type": "display_data"
    },
    {
     "name": "stderr",
     "output_type": "stream",
     "text": [
      "16:23:42 - cmdstanpy - INFO - Chain [1] start processing\n",
      "16:23:43 - cmdstanpy - INFO - Chain [1] done processing\n",
      " 25%|██████████▉                                | 19/75 [00:28<01:29,  1.60s/it]"
     ]
    },
    {
     "data": {
      "application/vnd.jupyter.widget-view+json": {
       "model_id": "057265018dde462bab9be345359d9d4a",
       "version_major": 2,
       "version_minor": 0
      },
      "text/plain": [
       "  0%|          | 0/1 [00:00<?, ?it/s]"
      ]
     },
     "metadata": {},
     "output_type": "display_data"
    },
    {
     "name": "stderr",
     "output_type": "stream",
     "text": [
      "16:23:44 - cmdstanpy - INFO - Chain [1] start processing\n",
      "16:23:44 - cmdstanpy - INFO - Chain [1] done processing\n",
      " 27%|███████████▍                               | 20/75 [00:29<01:27,  1.59s/it]"
     ]
    },
    {
     "data": {
      "application/vnd.jupyter.widget-view+json": {
       "model_id": "db3bba7472c848a9b521ae2950a292f2",
       "version_major": 2,
       "version_minor": 0
      },
      "text/plain": [
       "  0%|          | 0/1 [00:00<?, ?it/s]"
      ]
     },
     "metadata": {},
     "output_type": "display_data"
    },
    {
     "name": "stderr",
     "output_type": "stream",
     "text": [
      "16:23:45 - cmdstanpy - INFO - Chain [1] start processing\n",
      "16:23:46 - cmdstanpy - INFO - Chain [1] done processing\n",
      " 28%|████████████                               | 21/75 [00:31<01:26,  1.60s/it]"
     ]
    },
    {
     "data": {
      "application/vnd.jupyter.widget-view+json": {
       "model_id": "a9474923ded442fd82a5f78c7ead2784",
       "version_major": 2,
       "version_minor": 0
      },
      "text/plain": [
       "  0%|          | 0/1 [00:00<?, ?it/s]"
      ]
     },
     "metadata": {},
     "output_type": "display_data"
    },
    {
     "name": "stderr",
     "output_type": "stream",
     "text": [
      "16:23:47 - cmdstanpy - INFO - Chain [1] start processing\n",
      "16:23:47 - cmdstanpy - INFO - Chain [1] done processing\n",
      " 29%|████████████▌                              | 22/75 [00:33<01:27,  1.65s/it]"
     ]
    },
    {
     "data": {
      "application/vnd.jupyter.widget-view+json": {
       "model_id": "e30f36b3dcc142f79b0c774f25e0ccf3",
       "version_major": 2,
       "version_minor": 0
      },
      "text/plain": [
       "  0%|          | 0/1 [00:00<?, ?it/s]"
      ]
     },
     "metadata": {},
     "output_type": "display_data"
    },
    {
     "name": "stderr",
     "output_type": "stream",
     "text": [
      "16:23:49 - cmdstanpy - INFO - Chain [1] start processing\n",
      "16:23:49 - cmdstanpy - INFO - Chain [1] done processing\n",
      " 31%|█████████████▏                             | 23/75 [00:34<01:22,  1.60s/it]"
     ]
    },
    {
     "data": {
      "application/vnd.jupyter.widget-view+json": {
       "model_id": "5a48a2bef1d846c483bb74cdfc89ff0c",
       "version_major": 2,
       "version_minor": 0
      },
      "text/plain": [
       "  0%|          | 0/1 [00:00<?, ?it/s]"
      ]
     },
     "metadata": {},
     "output_type": "display_data"
    },
    {
     "name": "stderr",
     "output_type": "stream",
     "text": [
      "16:23:50 - cmdstanpy - INFO - Chain [1] start processing\n",
      "16:23:50 - cmdstanpy - INFO - Chain [1] done processing\n",
      " 32%|█████████████▊                             | 24/75 [00:36<01:18,  1.53s/it]"
     ]
    },
    {
     "data": {
      "application/vnd.jupyter.widget-view+json": {
       "model_id": "3af8992b0d0e4331bb01c3312126d244",
       "version_major": 2,
       "version_minor": 0
      },
      "text/plain": [
       "  0%|          | 0/1 [00:00<?, ?it/s]"
      ]
     },
     "metadata": {},
     "output_type": "display_data"
    },
    {
     "name": "stderr",
     "output_type": "stream",
     "text": [
      "16:23:52 - cmdstanpy - INFO - Chain [1] start processing\n",
      "16:23:52 - cmdstanpy - INFO - Chain [1] done processing\n",
      " 33%|██████████████▎                            | 25/75 [00:37<01:14,  1.48s/it]"
     ]
    },
    {
     "data": {
      "application/vnd.jupyter.widget-view+json": {
       "model_id": "2063f8b3273141d69dbb89fe925f6b0f",
       "version_major": 2,
       "version_minor": 0
      },
      "text/plain": [
       "  0%|          | 0/1 [00:00<?, ?it/s]"
      ]
     },
     "metadata": {},
     "output_type": "display_data"
    },
    {
     "name": "stderr",
     "output_type": "stream",
     "text": [
      "16:23:53 - cmdstanpy - INFO - Chain [1] start processing\n",
      "16:23:53 - cmdstanpy - INFO - Chain [1] done processing\n",
      " 35%|██████████████▉                            | 26/75 [00:38<01:12,  1.49s/it]"
     ]
    },
    {
     "data": {
      "application/vnd.jupyter.widget-view+json": {
       "model_id": "9479aa4bb27d4df8a062d950a211dfee",
       "version_major": 2,
       "version_minor": 0
      },
      "text/plain": [
       "  0%|          | 0/1 [00:00<?, ?it/s]"
      ]
     },
     "metadata": {},
     "output_type": "display_data"
    },
    {
     "name": "stderr",
     "output_type": "stream",
     "text": [
      "16:23:54 - cmdstanpy - INFO - Chain [1] start processing\n",
      "16:23:55 - cmdstanpy - INFO - Chain [1] done processing\n",
      " 36%|███████████████▍                           | 27/75 [00:40<01:10,  1.46s/it]"
     ]
    },
    {
     "data": {
      "application/vnd.jupyter.widget-view+json": {
       "model_id": "e5f544363dd4418ab19250219253033e",
       "version_major": 2,
       "version_minor": 0
      },
      "text/plain": [
       "  0%|          | 0/1 [00:00<?, ?it/s]"
      ]
     },
     "metadata": {},
     "output_type": "display_data"
    },
    {
     "name": "stderr",
     "output_type": "stream",
     "text": [
      "16:23:56 - cmdstanpy - INFO - Chain [1] start processing\n",
      "16:23:56 - cmdstanpy - INFO - Chain [1] done processing\n",
      " 37%|████████████████                           | 28/75 [00:41<01:10,  1.51s/it]"
     ]
    },
    {
     "data": {
      "application/vnd.jupyter.widget-view+json": {
       "model_id": "f46a19ca5f05497dab8f7f5d2a518659",
       "version_major": 2,
       "version_minor": 0
      },
      "text/plain": [
       "  0%|          | 0/1 [00:00<?, ?it/s]"
      ]
     },
     "metadata": {},
     "output_type": "display_data"
    },
    {
     "name": "stderr",
     "output_type": "stream",
     "text": [
      "16:23:57 - cmdstanpy - INFO - Chain [1] start processing\n",
      "16:23:58 - cmdstanpy - INFO - Chain [1] done processing\n",
      " 39%|████████████████▋                          | 29/75 [00:43<01:09,  1.52s/it]"
     ]
    },
    {
     "data": {
      "application/vnd.jupyter.widget-view+json": {
       "model_id": "9b90fd1c66a1407c91de62ef0ef936a4",
       "version_major": 2,
       "version_minor": 0
      },
      "text/plain": [
       "  0%|          | 0/1 [00:00<?, ?it/s]"
      ]
     },
     "metadata": {},
     "output_type": "display_data"
    },
    {
     "name": "stderr",
     "output_type": "stream",
     "text": [
      "16:23:59 - cmdstanpy - INFO - Chain [1] start processing\n",
      "16:23:59 - cmdstanpy - INFO - Chain [1] done processing\n",
      " 40%|█████████████████▏                         | 30/75 [00:44<01:07,  1.50s/it]"
     ]
    },
    {
     "data": {
      "application/vnd.jupyter.widget-view+json": {
       "model_id": "d56f2b94eeb040dc87f86cfb93e9f345",
       "version_major": 2,
       "version_minor": 0
      },
      "text/plain": [
       "  0%|          | 0/1 [00:00<?, ?it/s]"
      ]
     },
     "metadata": {},
     "output_type": "display_data"
    },
    {
     "name": "stderr",
     "output_type": "stream",
     "text": [
      "16:24:00 - cmdstanpy - INFO - Chain [1] start processing\n",
      "16:24:01 - cmdstanpy - INFO - Chain [1] done processing\n",
      " 41%|█████████████████▊                         | 31/75 [00:46<01:05,  1.48s/it]"
     ]
    },
    {
     "data": {
      "application/vnd.jupyter.widget-view+json": {
       "model_id": "c3070c183d3f421c9f911638ad666099",
       "version_major": 2,
       "version_minor": 0
      },
      "text/plain": [
       "  0%|          | 0/1 [00:00<?, ?it/s]"
      ]
     },
     "metadata": {},
     "output_type": "display_data"
    },
    {
     "name": "stderr",
     "output_type": "stream",
     "text": [
      "16:24:02 - cmdstanpy - INFO - Chain [1] start processing\n",
      "16:24:02 - cmdstanpy - INFO - Chain [1] done processing\n",
      " 43%|██████████████████▎                        | 32/75 [00:47<01:01,  1.44s/it]"
     ]
    },
    {
     "data": {
      "application/vnd.jupyter.widget-view+json": {
       "model_id": "b4082c5046d448b796773432f863f36e",
       "version_major": 2,
       "version_minor": 0
      },
      "text/plain": [
       "  0%|          | 0/1 [00:00<?, ?it/s]"
      ]
     },
     "metadata": {},
     "output_type": "display_data"
    },
    {
     "name": "stderr",
     "output_type": "stream",
     "text": [
      "16:24:03 - cmdstanpy - INFO - Chain [1] start processing\n",
      "16:24:03 - cmdstanpy - INFO - Chain [1] done processing\n",
      " 44%|██████████████████▉                        | 33/75 [00:49<01:00,  1.44s/it]"
     ]
    },
    {
     "data": {
      "application/vnd.jupyter.widget-view+json": {
       "model_id": "77676b96c8814afdaaa1c69e258173ed",
       "version_major": 2,
       "version_minor": 0
      },
      "text/plain": [
       "  0%|          | 0/1 [00:00<?, ?it/s]"
      ]
     },
     "metadata": {},
     "output_type": "display_data"
    },
    {
     "name": "stderr",
     "output_type": "stream",
     "text": [
      "16:24:05 - cmdstanpy - INFO - Chain [1] start processing\n",
      "16:24:05 - cmdstanpy - INFO - Chain [1] done processing\n",
      " 45%|███████████████████▍                       | 34/75 [00:50<01:02,  1.52s/it]"
     ]
    },
    {
     "data": {
      "application/vnd.jupyter.widget-view+json": {
       "model_id": "e378c1e5fad5425b9a627f2bf3767108",
       "version_major": 2,
       "version_minor": 0
      },
      "text/plain": [
       "  0%|          | 0/1 [00:00<?, ?it/s]"
      ]
     },
     "metadata": {},
     "output_type": "display_data"
    },
    {
     "name": "stderr",
     "output_type": "stream",
     "text": [
      "16:24:06 - cmdstanpy - INFO - Chain [1] start processing\n",
      "16:24:07 - cmdstanpy - INFO - Chain [1] done processing\n",
      " 47%|████████████████████                       | 35/75 [00:52<01:02,  1.56s/it]"
     ]
    },
    {
     "data": {
      "application/vnd.jupyter.widget-view+json": {
       "model_id": "9b3bbb10064d4cceb19d3e13064a0bf8",
       "version_major": 2,
       "version_minor": 0
      },
      "text/plain": [
       "  0%|          | 0/1 [00:00<?, ?it/s]"
      ]
     },
     "metadata": {},
     "output_type": "display_data"
    },
    {
     "name": "stderr",
     "output_type": "stream",
     "text": [
      "16:24:08 - cmdstanpy - INFO - Chain [1] start processing\n",
      "16:24:08 - cmdstanpy - INFO - Chain [1] done processing\n",
      " 48%|████████████████████▋                      | 36/75 [00:53<00:59,  1.53s/it]"
     ]
    },
    {
     "data": {
      "application/vnd.jupyter.widget-view+json": {
       "model_id": "37464b68683d469fb205512aaa9333cc",
       "version_major": 2,
       "version_minor": 0
      },
      "text/plain": [
       "  0%|          | 0/1 [00:00<?, ?it/s]"
      ]
     },
     "metadata": {},
     "output_type": "display_data"
    },
    {
     "name": "stderr",
     "output_type": "stream",
     "text": [
      "16:24:09 - cmdstanpy - INFO - Chain [1] start processing\n",
      "16:24:10 - cmdstanpy - INFO - Chain [1] done processing\n",
      " 49%|█████████████████████▏                     | 37/75 [00:55<00:57,  1.52s/it]"
     ]
    },
    {
     "data": {
      "application/vnd.jupyter.widget-view+json": {
       "model_id": "03644aa566a4407e9770b1ecbd9619c3",
       "version_major": 2,
       "version_minor": 0
      },
      "text/plain": [
       "  0%|          | 0/1 [00:00<?, ?it/s]"
      ]
     },
     "metadata": {},
     "output_type": "display_data"
    },
    {
     "name": "stderr",
     "output_type": "stream",
     "text": [
      "16:24:11 - cmdstanpy - INFO - Chain [1] start processing\n",
      "16:24:11 - cmdstanpy - INFO - Chain [1] done processing\n",
      " 51%|█████████████████████▊                     | 38/75 [00:57<00:56,  1.52s/it]"
     ]
    },
    {
     "data": {
      "application/vnd.jupyter.widget-view+json": {
       "model_id": "f52e086cef224cc9ac2ee526e460566f",
       "version_major": 2,
       "version_minor": 0
      },
      "text/plain": [
       "  0%|          | 0/1 [00:00<?, ?it/s]"
      ]
     },
     "metadata": {},
     "output_type": "display_data"
    },
    {
     "name": "stderr",
     "output_type": "stream",
     "text": [
      "16:24:13 - cmdstanpy - INFO - Chain [1] start processing\n",
      "16:24:13 - cmdstanpy - INFO - Chain [1] done processing\n",
      " 52%|██████████████████████▎                    | 39/75 [00:58<00:54,  1.52s/it]"
     ]
    },
    {
     "data": {
      "application/vnd.jupyter.widget-view+json": {
       "model_id": "0cecb2446c4e402eb9698f4ec452c1d3",
       "version_major": 2,
       "version_minor": 0
      },
      "text/plain": [
       "  0%|          | 0/1 [00:00<?, ?it/s]"
      ]
     },
     "metadata": {},
     "output_type": "display_data"
    },
    {
     "name": "stderr",
     "output_type": "stream",
     "text": [
      "16:24:14 - cmdstanpy - INFO - Chain [1] start processing\n",
      "16:24:14 - cmdstanpy - INFO - Chain [1] done processing\n",
      " 53%|██████████████████████▉                    | 40/75 [01:00<00:53,  1.52s/it]"
     ]
    },
    {
     "data": {
      "application/vnd.jupyter.widget-view+json": {
       "model_id": "5ab3857efaea428784f6b0f606abcef8",
       "version_major": 2,
       "version_minor": 0
      },
      "text/plain": [
       "  0%|          | 0/1 [00:00<?, ?it/s]"
      ]
     },
     "metadata": {},
     "output_type": "display_data"
    },
    {
     "name": "stderr",
     "output_type": "stream",
     "text": [
      "16:24:16 - cmdstanpy - INFO - Chain [1] start processing\n",
      "16:24:16 - cmdstanpy - INFO - Chain [1] done processing\n",
      " 55%|███████████████████████▌                   | 41/75 [01:01<00:50,  1.50s/it]"
     ]
    },
    {
     "data": {
      "application/vnd.jupyter.widget-view+json": {
       "model_id": "e84e7714ddeb4974b60795ab66a50a89",
       "version_major": 2,
       "version_minor": 0
      },
      "text/plain": [
       "  0%|          | 0/1 [00:00<?, ?it/s]"
      ]
     },
     "metadata": {},
     "output_type": "display_data"
    },
    {
     "name": "stderr",
     "output_type": "stream",
     "text": [
      "16:24:17 - cmdstanpy - INFO - Chain [1] start processing\n",
      "16:24:17 - cmdstanpy - INFO - Chain [1] done processing\n",
      " 56%|████████████████████████                   | 42/75 [01:02<00:48,  1.48s/it]"
     ]
    },
    {
     "data": {
      "application/vnd.jupyter.widget-view+json": {
       "model_id": "8e67509dde6c44f887ffc7e93f5ea3a4",
       "version_major": 2,
       "version_minor": 0
      },
      "text/plain": [
       "  0%|          | 0/1 [00:00<?, ?it/s]"
      ]
     },
     "metadata": {},
     "output_type": "display_data"
    },
    {
     "name": "stderr",
     "output_type": "stream",
     "text": [
      "16:24:18 - cmdstanpy - INFO - Chain [1] start processing\n",
      "16:24:19 - cmdstanpy - INFO - Chain [1] done processing\n",
      " 57%|████████████████████████▋                  | 43/75 [01:04<00:48,  1.51s/it]"
     ]
    },
    {
     "data": {
      "application/vnd.jupyter.widget-view+json": {
       "model_id": "e4c96fee3826407c95d82f5de1f22ead",
       "version_major": 2,
       "version_minor": 0
      },
      "text/plain": [
       "  0%|          | 0/1 [00:00<?, ?it/s]"
      ]
     },
     "metadata": {},
     "output_type": "display_data"
    },
    {
     "name": "stderr",
     "output_type": "stream",
     "text": [
      "16:24:20 - cmdstanpy - INFO - Chain [1] start processing\n",
      "16:24:20 - cmdstanpy - INFO - Chain [1] done processing\n",
      " 59%|█████████████████████████▏                 | 44/75 [01:06<00:46,  1.51s/it]"
     ]
    },
    {
     "data": {
      "application/vnd.jupyter.widget-view+json": {
       "model_id": "d77998b516de451791bc9f93b40cb5ee",
       "version_major": 2,
       "version_minor": 0
      },
      "text/plain": [
       "  0%|          | 0/1 [00:00<?, ?it/s]"
      ]
     },
     "metadata": {},
     "output_type": "display_data"
    },
    {
     "name": "stderr",
     "output_type": "stream",
     "text": [
      "16:24:22 - cmdstanpy - INFO - Chain [1] start processing\n",
      "16:24:22 - cmdstanpy - INFO - Chain [1] done processing\n",
      " 60%|█████████████████████████▊                 | 45/75 [01:07<00:44,  1.50s/it]"
     ]
    },
    {
     "data": {
      "application/vnd.jupyter.widget-view+json": {
       "model_id": "097fe174fdee4aa59c1d6dd58264832a",
       "version_major": 2,
       "version_minor": 0
      },
      "text/plain": [
       "  0%|          | 0/1 [00:00<?, ?it/s]"
      ]
     },
     "metadata": {},
     "output_type": "display_data"
    },
    {
     "name": "stderr",
     "output_type": "stream",
     "text": [
      "16:24:23 - cmdstanpy - INFO - Chain [1] start processing\n",
      "16:24:23 - cmdstanpy - INFO - Chain [1] done processing\n",
      " 61%|██████████████████████████▎                | 46/75 [01:09<00:44,  1.52s/it]"
     ]
    },
    {
     "data": {
      "application/vnd.jupyter.widget-view+json": {
       "model_id": "3cb2f6659ea74024a648bd888cedc48a",
       "version_major": 2,
       "version_minor": 0
      },
      "text/plain": [
       "  0%|          | 0/1 [00:00<?, ?it/s]"
      ]
     },
     "metadata": {},
     "output_type": "display_data"
    },
    {
     "name": "stderr",
     "output_type": "stream",
     "text": [
      "16:24:25 - cmdstanpy - INFO - Chain [1] start processing\n",
      "16:24:25 - cmdstanpy - INFO - Chain [1] done processing\n",
      " 63%|██████████████████████████▉                | 47/75 [01:10<00:42,  1.50s/it]"
     ]
    },
    {
     "data": {
      "application/vnd.jupyter.widget-view+json": {
       "model_id": "fa1158ae6fb04db09626e8edd26e847e",
       "version_major": 2,
       "version_minor": 0
      },
      "text/plain": [
       "  0%|          | 0/1 [00:00<?, ?it/s]"
      ]
     },
     "metadata": {},
     "output_type": "display_data"
    },
    {
     "name": "stderr",
     "output_type": "stream",
     "text": [
      "16:24:26 - cmdstanpy - INFO - Chain [1] start processing\n",
      "16:24:26 - cmdstanpy - INFO - Chain [1] done processing\n",
      " 64%|███████████████████████████▌               | 48/75 [01:11<00:39,  1.46s/it]"
     ]
    },
    {
     "data": {
      "application/vnd.jupyter.widget-view+json": {
       "model_id": "4b2908faf4ac4a709dd13fbe180bd0d6",
       "version_major": 2,
       "version_minor": 0
      },
      "text/plain": [
       "  0%|          | 0/1 [00:00<?, ?it/s]"
      ]
     },
     "metadata": {},
     "output_type": "display_data"
    },
    {
     "name": "stderr",
     "output_type": "stream",
     "text": [
      "16:24:27 - cmdstanpy - INFO - Chain [1] start processing\n",
      "16:24:28 - cmdstanpy - INFO - Chain [1] done processing\n",
      " 65%|████████████████████████████               | 49/75 [01:13<00:38,  1.47s/it]"
     ]
    },
    {
     "data": {
      "application/vnd.jupyter.widget-view+json": {
       "model_id": "0212e1f5a1a74495b236f9d9e16320e8",
       "version_major": 2,
       "version_minor": 0
      },
      "text/plain": [
       "  0%|          | 0/1 [00:00<?, ?it/s]"
      ]
     },
     "metadata": {},
     "output_type": "display_data"
    },
    {
     "name": "stderr",
     "output_type": "stream",
     "text": [
      "16:24:29 - cmdstanpy - INFO - Chain [1] start processing\n",
      "16:24:29 - cmdstanpy - INFO - Chain [1] done processing\n",
      " 67%|████████████████████████████▋              | 50/75 [01:14<00:36,  1.48s/it]"
     ]
    },
    {
     "data": {
      "application/vnd.jupyter.widget-view+json": {
       "model_id": "1af4b3786e7e4d3ab36e803c529742ad",
       "version_major": 2,
       "version_minor": 0
      },
      "text/plain": [
       "  0%|          | 0/1 [00:00<?, ?it/s]"
      ]
     },
     "metadata": {},
     "output_type": "display_data"
    },
    {
     "name": "stderr",
     "output_type": "stream",
     "text": [
      "16:24:30 - cmdstanpy - INFO - Chain [1] start processing\n",
      "16:24:31 - cmdstanpy - INFO - Chain [1] done processing\n",
      " 68%|█████████████████████████████▏             | 51/75 [01:16<00:35,  1.47s/it]"
     ]
    },
    {
     "data": {
      "application/vnd.jupyter.widget-view+json": {
       "model_id": "b992333b66ec4d35b7a889b654bfaef7",
       "version_major": 2,
       "version_minor": 0
      },
      "text/plain": [
       "  0%|          | 0/1 [00:00<?, ?it/s]"
      ]
     },
     "metadata": {},
     "output_type": "display_data"
    },
    {
     "name": "stderr",
     "output_type": "stream",
     "text": [
      "16:24:32 - cmdstanpy - INFO - Chain [1] start processing\n",
      "16:24:32 - cmdstanpy - INFO - Chain [1] done processing\n",
      " 69%|█████████████████████████████▊             | 52/75 [01:17<00:33,  1.45s/it]"
     ]
    },
    {
     "data": {
      "application/vnd.jupyter.widget-view+json": {
       "model_id": "89ae1c53866b4a06b2a7467b810ecf01",
       "version_major": 2,
       "version_minor": 0
      },
      "text/plain": [
       "  0%|          | 0/1 [00:00<?, ?it/s]"
      ]
     },
     "metadata": {},
     "output_type": "display_data"
    },
    {
     "name": "stderr",
     "output_type": "stream",
     "text": [
      "16:24:33 - cmdstanpy - INFO - Chain [1] start processing\n",
      "16:24:33 - cmdstanpy - INFO - Chain [1] done processing\n",
      " 71%|██████████████████████████████▍            | 53/75 [01:19<00:31,  1.45s/it]"
     ]
    },
    {
     "data": {
      "application/vnd.jupyter.widget-view+json": {
       "model_id": "972945e72d8f498eb76d8bbe0eb60c22",
       "version_major": 2,
       "version_minor": 0
      },
      "text/plain": [
       "  0%|          | 0/1 [00:00<?, ?it/s]"
      ]
     },
     "metadata": {},
     "output_type": "display_data"
    },
    {
     "name": "stderr",
     "output_type": "stream",
     "text": [
      "16:24:35 - cmdstanpy - INFO - Chain [1] start processing\n",
      "16:24:35 - cmdstanpy - INFO - Chain [1] done processing\n",
      " 72%|██████████████████████████████▉            | 54/75 [01:20<00:31,  1.50s/it]"
     ]
    },
    {
     "data": {
      "application/vnd.jupyter.widget-view+json": {
       "model_id": "325bbb554cdd44588d1d5ecd7e63480c",
       "version_major": 2,
       "version_minor": 0
      },
      "text/plain": [
       "  0%|          | 0/1 [00:00<?, ?it/s]"
      ]
     },
     "metadata": {},
     "output_type": "display_data"
    },
    {
     "name": "stderr",
     "output_type": "stream",
     "text": [
      "16:24:36 - cmdstanpy - INFO - Chain [1] start processing\n",
      "16:24:37 - cmdstanpy - INFO - Chain [1] done processing\n",
      " 73%|███████████████████████████████▌           | 55/75 [01:22<00:30,  1.50s/it]"
     ]
    },
    {
     "data": {
      "application/vnd.jupyter.widget-view+json": {
       "model_id": "ce81bd5088ed478d98aad17c6f93e908",
       "version_major": 2,
       "version_minor": 0
      },
      "text/plain": [
       "  0%|          | 0/1 [00:00<?, ?it/s]"
      ]
     },
     "metadata": {},
     "output_type": "display_data"
    },
    {
     "name": "stderr",
     "output_type": "stream",
     "text": [
      "16:24:38 - cmdstanpy - INFO - Chain [1] start processing\n",
      "16:24:38 - cmdstanpy - INFO - Chain [1] done processing\n",
      " 75%|████████████████████████████████           | 56/75 [01:23<00:28,  1.52s/it]"
     ]
    },
    {
     "data": {
      "application/vnd.jupyter.widget-view+json": {
       "model_id": "8d8a80af0f624226a8bbfe8ec2d2875c",
       "version_major": 2,
       "version_minor": 0
      },
      "text/plain": [
       "  0%|          | 0/1 [00:00<?, ?it/s]"
      ]
     },
     "metadata": {},
     "output_type": "display_data"
    },
    {
     "name": "stderr",
     "output_type": "stream",
     "text": [
      "16:24:39 - cmdstanpy - INFO - Chain [1] start processing\n",
      "16:24:40 - cmdstanpy - INFO - Chain [1] done processing\n",
      " 76%|████████████████████████████████▋          | 57/75 [01:25<00:26,  1.50s/it]"
     ]
    },
    {
     "data": {
      "application/vnd.jupyter.widget-view+json": {
       "model_id": "d541e901a10f43f0b8bdf37311098e1d",
       "version_major": 2,
       "version_minor": 0
      },
      "text/plain": [
       "  0%|          | 0/1 [00:00<?, ?it/s]"
      ]
     },
     "metadata": {},
     "output_type": "display_data"
    },
    {
     "name": "stderr",
     "output_type": "stream",
     "text": [
      "16:24:41 - cmdstanpy - INFO - Chain [1] start processing\n",
      "16:24:41 - cmdstanpy - INFO - Chain [1] done processing\n",
      " 77%|█████████████████████████████████▎         | 58/75 [01:26<00:25,  1.48s/it]"
     ]
    },
    {
     "data": {
      "application/vnd.jupyter.widget-view+json": {
       "model_id": "e2e529a70bd342539dc39da40abd29f3",
       "version_major": 2,
       "version_minor": 0
      },
      "text/plain": [
       "  0%|          | 0/1 [00:00<?, ?it/s]"
      ]
     },
     "metadata": {},
     "output_type": "display_data"
    },
    {
     "name": "stderr",
     "output_type": "stream",
     "text": [
      "16:24:42 - cmdstanpy - INFO - Chain [1] start processing\n",
      "16:24:42 - cmdstanpy - INFO - Chain [1] done processing\n",
      " 79%|█████████████████████████████████▊         | 59/75 [01:28<00:23,  1.47s/it]"
     ]
    },
    {
     "data": {
      "application/vnd.jupyter.widget-view+json": {
       "model_id": "fd9340d086c4441e8a5ac4a9cccf301e",
       "version_major": 2,
       "version_minor": 0
      },
      "text/plain": [
       "  0%|          | 0/1 [00:00<?, ?it/s]"
      ]
     },
     "metadata": {},
     "output_type": "display_data"
    },
    {
     "name": "stderr",
     "output_type": "stream",
     "text": [
      "16:24:44 - cmdstanpy - INFO - Chain [1] start processing\n",
      "16:24:44 - cmdstanpy - INFO - Chain [1] done processing\n",
      " 80%|██████████████████████████████████▍        | 60/75 [01:29<00:22,  1.49s/it]"
     ]
    },
    {
     "data": {
      "application/vnd.jupyter.widget-view+json": {
       "model_id": "add9de1ee4bf4eb3b32fb26b5ff6a2e6",
       "version_major": 2,
       "version_minor": 0
      },
      "text/plain": [
       "  0%|          | 0/1 [00:00<?, ?it/s]"
      ]
     },
     "metadata": {},
     "output_type": "display_data"
    },
    {
     "name": "stderr",
     "output_type": "stream",
     "text": [
      "16:24:45 - cmdstanpy - INFO - Chain [1] start processing\n",
      "16:24:46 - cmdstanpy - INFO - Chain [1] done processing\n",
      " 81%|██████████████████████████████████▉        | 61/75 [01:31<00:21,  1.51s/it]"
     ]
    },
    {
     "data": {
      "application/vnd.jupyter.widget-view+json": {
       "model_id": "0f591101f155443d9f23ef28a15f0478",
       "version_major": 2,
       "version_minor": 0
      },
      "text/plain": [
       "  0%|          | 0/1 [00:00<?, ?it/s]"
      ]
     },
     "metadata": {},
     "output_type": "display_data"
    },
    {
     "name": "stderr",
     "output_type": "stream",
     "text": [
      "16:24:47 - cmdstanpy - INFO - Chain [1] start processing\n",
      "16:24:47 - cmdstanpy - INFO - Chain [1] done processing\n",
      " 83%|███████████████████████████████████▌       | 62/75 [01:32<00:19,  1.53s/it]"
     ]
    },
    {
     "data": {
      "application/vnd.jupyter.widget-view+json": {
       "model_id": "74e0153fca0440efb433060e3fe0c1a0",
       "version_major": 2,
       "version_minor": 0
      },
      "text/plain": [
       "  0%|          | 0/1 [00:00<?, ?it/s]"
      ]
     },
     "metadata": {},
     "output_type": "display_data"
    },
    {
     "name": "stderr",
     "output_type": "stream",
     "text": [
      "16:24:48 - cmdstanpy - INFO - Chain [1] start processing\n",
      "16:24:49 - cmdstanpy - INFO - Chain [1] done processing\n",
      " 84%|████████████████████████████████████       | 63/75 [01:34<00:18,  1.53s/it]"
     ]
    },
    {
     "data": {
      "application/vnd.jupyter.widget-view+json": {
       "model_id": "4b9656a749614f8d9c11aa8984d6452c",
       "version_major": 2,
       "version_minor": 0
      },
      "text/plain": [
       "  0%|          | 0/1 [00:00<?, ?it/s]"
      ]
     },
     "metadata": {},
     "output_type": "display_data"
    },
    {
     "name": "stderr",
     "output_type": "stream",
     "text": [
      "16:24:50 - cmdstanpy - INFO - Chain [1] start processing\n",
      "16:24:50 - cmdstanpy - INFO - Chain [1] done processing\n",
      " 85%|████████████████████████████████████▋      | 64/75 [01:35<00:17,  1.55s/it]"
     ]
    },
    {
     "data": {
      "application/vnd.jupyter.widget-view+json": {
       "model_id": "5cf3266d5d21453ea27b2feed40dc304",
       "version_major": 2,
       "version_minor": 0
      },
      "text/plain": [
       "  0%|          | 0/1 [00:00<?, ?it/s]"
      ]
     },
     "metadata": {},
     "output_type": "display_data"
    },
    {
     "name": "stderr",
     "output_type": "stream",
     "text": [
      "16:24:52 - cmdstanpy - INFO - Chain [1] start processing\n",
      "16:24:52 - cmdstanpy - INFO - Chain [1] done processing\n",
      " 87%|█████████████████████████████████████▎     | 65/75 [01:37<00:15,  1.54s/it]"
     ]
    },
    {
     "data": {
      "application/vnd.jupyter.widget-view+json": {
       "model_id": "b9b7250fbd15449b9450c36fcd9e5cb2",
       "version_major": 2,
       "version_minor": 0
      },
      "text/plain": [
       "  0%|          | 0/1 [00:00<?, ?it/s]"
      ]
     },
     "metadata": {},
     "output_type": "display_data"
    },
    {
     "name": "stderr",
     "output_type": "stream",
     "text": [
      "16:24:53 - cmdstanpy - INFO - Chain [1] start processing\n",
      "16:24:53 - cmdstanpy - INFO - Chain [1] done processing\n",
      " 88%|█████████████████████████████████████▊     | 66/75 [01:39<00:13,  1.53s/it]"
     ]
    },
    {
     "data": {
      "application/vnd.jupyter.widget-view+json": {
       "model_id": "b61613f5eb4941ccaaf7a2b51379a103",
       "version_major": 2,
       "version_minor": 0
      },
      "text/plain": [
       "  0%|          | 0/1 [00:00<?, ?it/s]"
      ]
     },
     "metadata": {},
     "output_type": "display_data"
    },
    {
     "name": "stderr",
     "output_type": "stream",
     "text": [
      "16:24:55 - cmdstanpy - INFO - Chain [1] start processing\n",
      "16:24:55 - cmdstanpy - INFO - Chain [1] done processing\n",
      " 89%|██████████████████████████████████████▍    | 67/75 [01:40<00:12,  1.50s/it]"
     ]
    },
    {
     "data": {
      "application/vnd.jupyter.widget-view+json": {
       "model_id": "35aea89b5c6042f4afbad04ecc677deb",
       "version_major": 2,
       "version_minor": 0
      },
      "text/plain": [
       "  0%|          | 0/1 [00:00<?, ?it/s]"
      ]
     },
     "metadata": {},
     "output_type": "display_data"
    },
    {
     "name": "stderr",
     "output_type": "stream",
     "text": [
      "16:24:56 - cmdstanpy - INFO - Chain [1] start processing\n",
      "16:24:56 - cmdstanpy - INFO - Chain [1] done processing\n",
      " 91%|██████████████████████████████████████▉    | 68/75 [01:41<00:10,  1.48s/it]"
     ]
    },
    {
     "data": {
      "application/vnd.jupyter.widget-view+json": {
       "model_id": "911e8e9f59f44d06b862707c410bb2fe",
       "version_major": 2,
       "version_minor": 0
      },
      "text/plain": [
       "  0%|          | 0/1 [00:00<?, ?it/s]"
      ]
     },
     "metadata": {},
     "output_type": "display_data"
    },
    {
     "name": "stderr",
     "output_type": "stream",
     "text": [
      "16:24:57 - cmdstanpy - INFO - Chain [1] start processing\n",
      "16:24:58 - cmdstanpy - INFO - Chain [1] done processing\n",
      " 92%|███████████████████████████████████████▌   | 69/75 [01:43<00:08,  1.47s/it]"
     ]
    },
    {
     "data": {
      "application/vnd.jupyter.widget-view+json": {
       "model_id": "a0276988f4b94b58bd8824be7d66069f",
       "version_major": 2,
       "version_minor": 0
      },
      "text/plain": [
       "  0%|          | 0/1 [00:00<?, ?it/s]"
      ]
     },
     "metadata": {},
     "output_type": "display_data"
    },
    {
     "name": "stderr",
     "output_type": "stream",
     "text": [
      "16:24:59 - cmdstanpy - INFO - Chain [1] start processing\n",
      "16:24:59 - cmdstanpy - INFO - Chain [1] done processing\n",
      " 93%|████████████████████████████████████████▏  | 70/75 [01:45<00:07,  1.53s/it]"
     ]
    },
    {
     "data": {
      "application/vnd.jupyter.widget-view+json": {
       "model_id": "aa8952a701694a239a32a0e4f651e016",
       "version_major": 2,
       "version_minor": 0
      },
      "text/plain": [
       "  0%|          | 0/1 [00:00<?, ?it/s]"
      ]
     },
     "metadata": {},
     "output_type": "display_data"
    },
    {
     "name": "stderr",
     "output_type": "stream",
     "text": [
      "16:25:01 - cmdstanpy - INFO - Chain [1] start processing\n",
      "16:25:01 - cmdstanpy - INFO - Chain [1] done processing\n",
      " 95%|████████████████████████████████████████▋  | 71/75 [01:46<00:06,  1.50s/it]"
     ]
    },
    {
     "data": {
      "application/vnd.jupyter.widget-view+json": {
       "model_id": "de33d12dd9a34b1d9380de5bd896b89a",
       "version_major": 2,
       "version_minor": 0
      },
      "text/plain": [
       "  0%|          | 0/1 [00:00<?, ?it/s]"
      ]
     },
     "metadata": {},
     "output_type": "display_data"
    },
    {
     "name": "stderr",
     "output_type": "stream",
     "text": [
      "16:25:02 - cmdstanpy - INFO - Chain [1] start processing\n",
      "16:25:02 - cmdstanpy - INFO - Chain [1] done processing\n",
      " 96%|█████████████████████████████████████████▎ | 72/75 [01:47<00:04,  1.49s/it]"
     ]
    },
    {
     "data": {
      "application/vnd.jupyter.widget-view+json": {
       "model_id": "3e1c91ef4dd54634a183f715acb0c872",
       "version_major": 2,
       "version_minor": 0
      },
      "text/plain": [
       "  0%|          | 0/1 [00:00<?, ?it/s]"
      ]
     },
     "metadata": {},
     "output_type": "display_data"
    },
    {
     "name": "stderr",
     "output_type": "stream",
     "text": [
      "16:25:03 - cmdstanpy - INFO - Chain [1] start processing\n",
      "16:25:04 - cmdstanpy - INFO - Chain [1] done processing\n",
      " 97%|█████████████████████████████████████████▊ | 73/75 [01:49<00:02,  1.48s/it]"
     ]
    },
    {
     "data": {
      "application/vnd.jupyter.widget-view+json": {
       "model_id": "f2f64b20a16c468c96bc58b1ca17d5e5",
       "version_major": 2,
       "version_minor": 0
      },
      "text/plain": [
       "  0%|          | 0/1 [00:00<?, ?it/s]"
      ]
     },
     "metadata": {},
     "output_type": "display_data"
    },
    {
     "name": "stderr",
     "output_type": "stream",
     "text": [
      "16:25:05 - cmdstanpy - INFO - Chain [1] start processing\n",
      "16:25:05 - cmdstanpy - INFO - Chain [1] done processing\n",
      " 99%|██████████████████████████████████████████▍| 74/75 [01:50<00:01,  1.47s/it]"
     ]
    },
    {
     "data": {
      "application/vnd.jupyter.widget-view+json": {
       "model_id": "e9bf5038758247aa999364c7298560db",
       "version_major": 2,
       "version_minor": 0
      },
      "text/plain": [
       "  0%|          | 0/1 [00:00<?, ?it/s]"
      ]
     },
     "metadata": {},
     "output_type": "display_data"
    },
    {
     "name": "stderr",
     "output_type": "stream",
     "text": [
      "16:25:06 - cmdstanpy - INFO - Chain [1] start processing\n",
      "16:25:07 - cmdstanpy - INFO - Chain [1] done processing\n",
      "100%|███████████████████████████████████████████| 75/75 [01:52<00:00,  1.50s/it]\n"
     ]
    }
   ],
   "source": [
    "metrics = [get_metrics(m) for m in tqdm(models)]"
   ]
  },
  {
   "cell_type": "code",
   "execution_count": 29,
   "id": "16547160",
   "metadata": {
    "ExecuteTime": {
     "end_time": "2023-07-25T15:49:40.696764Z",
     "start_time": "2023-07-25T15:49:40.690537Z"
    }
   },
   "outputs": [],
   "source": [
    "def build_res_df(metrics, train_df=train_df):\n",
    "    res_data = [[comb, metrics[i][1] * 100, metrics[i][0]]\n",
    "                for i, comb in enumerate(train_df.comb.unique(), 0)]\n",
    "    res_df = pd.DataFrame(res_data, columns=['comb', 'smape', 'rmse'])\n",
    "    res_df['country'] = res_df['comb'].apply(lambda x: x.split('|')[0])\n",
    "    res_df['store'] = res_df['comb'].apply(lambda x: x.split('|')[1])\n",
    "    res_df['product'] = res_df['comb'].apply(lambda x: x.split('|')[2])\n",
    "    return res_df.drop('comb', axis=1)"
   ]
  },
  {
   "cell_type": "code",
   "execution_count": 30,
   "id": "1b463197",
   "metadata": {
    "ExecuteTime": {
     "end_time": "2023-07-25T15:49:47.711108Z",
     "start_time": "2023-07-25T15:49:47.663664Z"
    }
   },
   "outputs": [
    {
     "data": {
      "text/html": [
       "<div>\n",
       "<style scoped>\n",
       "    .dataframe tbody tr th:only-of-type {\n",
       "        vertical-align: middle;\n",
       "    }\n",
       "\n",
       "    .dataframe tbody tr th {\n",
       "        vertical-align: top;\n",
       "    }\n",
       "\n",
       "    .dataframe thead th {\n",
       "        text-align: right;\n",
       "    }\n",
       "</style>\n",
       "<table border=\"1\" class=\"dataframe\">\n",
       "  <thead>\n",
       "    <tr style=\"text-align: right;\">\n",
       "      <th></th>\n",
       "      <th>smape</th>\n",
       "      <th>rmse</th>\n",
       "      <th>country</th>\n",
       "      <th>store</th>\n",
       "      <th>product</th>\n",
       "    </tr>\n",
       "  </thead>\n",
       "  <tbody>\n",
       "    <tr>\n",
       "      <th>0</th>\n",
       "      <td>52.387468</td>\n",
       "      <td>14.733597</td>\n",
       "      <td>Argentina</td>\n",
       "      <td>Kaggle Learn</td>\n",
       "      <td>Using LLMs to Improve Your Coding</td>\n",
       "    </tr>\n",
       "    <tr>\n",
       "      <th>1</th>\n",
       "      <td>39.813766</td>\n",
       "      <td>11.819976</td>\n",
       "      <td>Argentina</td>\n",
       "      <td>Kaggle Learn</td>\n",
       "      <td>Using LLMs to Train More LLMs</td>\n",
       "    </tr>\n",
       "    <tr>\n",
       "      <th>2</th>\n",
       "      <td>48.009363</td>\n",
       "      <td>1.979861</td>\n",
       "      <td>Argentina</td>\n",
       "      <td>Kaggle Learn</td>\n",
       "      <td>Using LLMs to Win Friends and Influence People</td>\n",
       "    </tr>\n",
       "    <tr>\n",
       "      <th>3</th>\n",
       "      <td>38.970883</td>\n",
       "      <td>10.859635</td>\n",
       "      <td>Argentina</td>\n",
       "      <td>Kaggle Learn</td>\n",
       "      <td>Using LLMs to Win More Kaggle Competitions</td>\n",
       "    </tr>\n",
       "    <tr>\n",
       "      <th>4</th>\n",
       "      <td>17.575866</td>\n",
       "      <td>5.174242</td>\n",
       "      <td>Argentina</td>\n",
       "      <td>Kaggle Learn</td>\n",
       "      <td>Using LLMs to Write Better</td>\n",
       "    </tr>\n",
       "    <tr>\n",
       "      <th>...</th>\n",
       "      <td>...</td>\n",
       "      <td>...</td>\n",
       "      <td>...</td>\n",
       "      <td>...</td>\n",
       "      <td>...</td>\n",
       "    </tr>\n",
       "    <tr>\n",
       "      <th>70</th>\n",
       "      <td>12.079059</td>\n",
       "      <td>91.457515</td>\n",
       "      <td>Spain</td>\n",
       "      <td>Kagglazon</td>\n",
       "      <td>Using LLMs to Improve Your Coding</td>\n",
       "    </tr>\n",
       "    <tr>\n",
       "      <th>71</th>\n",
       "      <td>13.456625</td>\n",
       "      <td>92.130464</td>\n",
       "      <td>Spain</td>\n",
       "      <td>Kagglazon</td>\n",
       "      <td>Using LLMs to Train More LLMs</td>\n",
       "    </tr>\n",
       "    <tr>\n",
       "      <th>72</th>\n",
       "      <td>13.720889</td>\n",
       "      <td>14.625256</td>\n",
       "      <td>Spain</td>\n",
       "      <td>Kagglazon</td>\n",
       "      <td>Using LLMs to Win Friends and Influence People</td>\n",
       "    </tr>\n",
       "    <tr>\n",
       "      <th>73</th>\n",
       "      <td>10.183455</td>\n",
       "      <td>62.244948</td>\n",
       "      <td>Spain</td>\n",
       "      <td>Kagglazon</td>\n",
       "      <td>Using LLMs to Win More Kaggle Competitions</td>\n",
       "    </tr>\n",
       "    <tr>\n",
       "      <th>74</th>\n",
       "      <td>10.899962</td>\n",
       "      <td>52.638936</td>\n",
       "      <td>Spain</td>\n",
       "      <td>Kagglazon</td>\n",
       "      <td>Using LLMs to Write Better</td>\n",
       "    </tr>\n",
       "  </tbody>\n",
       "</table>\n",
       "<p>75 rows × 5 columns</p>\n",
       "</div>"
      ],
      "text/plain": [
       "        smape       rmse    country         store  \\\n",
       "0   52.387468  14.733597  Argentina  Kaggle Learn   \n",
       "1   39.813766  11.819976  Argentina  Kaggle Learn   \n",
       "2   48.009363   1.979861  Argentina  Kaggle Learn   \n",
       "3   38.970883  10.859635  Argentina  Kaggle Learn   \n",
       "4   17.575866   5.174242  Argentina  Kaggle Learn   \n",
       "..        ...        ...        ...           ...   \n",
       "70  12.079059  91.457515      Spain     Kagglazon   \n",
       "71  13.456625  92.130464      Spain     Kagglazon   \n",
       "72  13.720889  14.625256      Spain     Kagglazon   \n",
       "73  10.183455  62.244948      Spain     Kagglazon   \n",
       "74  10.899962  52.638936      Spain     Kagglazon   \n",
       "\n",
       "                                           product  \n",
       "0                Using LLMs to Improve Your Coding  \n",
       "1                    Using LLMs to Train More LLMs  \n",
       "2   Using LLMs to Win Friends and Influence People  \n",
       "3       Using LLMs to Win More Kaggle Competitions  \n",
       "4                       Using LLMs to Write Better  \n",
       "..                                             ...  \n",
       "70               Using LLMs to Improve Your Coding  \n",
       "71                   Using LLMs to Train More LLMs  \n",
       "72  Using LLMs to Win Friends and Influence People  \n",
       "73      Using LLMs to Win More Kaggle Competitions  \n",
       "74                      Using LLMs to Write Better  \n",
       "\n",
       "[75 rows x 5 columns]"
      ]
     },
     "execution_count": 30,
     "metadata": {},
     "output_type": "execute_result"
    }
   ],
   "source": [
    "res_df = build_res_df(metrics)\n",
    "res_df"
   ]
  },
  {
   "cell_type": "code",
   "execution_count": 31,
   "id": "ee1ff93a",
   "metadata": {
    "ExecuteTime": {
     "end_time": "2023-07-25T15:49:57.025727Z",
     "start_time": "2023-07-25T15:49:57.018438Z"
    }
   },
   "outputs": [
    {
     "data": {
      "text/plain": [
       "country\n",
       "Argentina    39.003409\n",
       "Canada       17.227483\n",
       "Estonia      12.235743\n",
       "Japan         6.085267\n",
       "Spain        12.480795\n",
       "Name: smape, dtype: float64"
      ]
     },
     "execution_count": 31,
     "metadata": {},
     "output_type": "execute_result"
    }
   ],
   "source": [
    "res_df.groupby('country')['smape'].mean()"
   ]
  },
  {
   "cell_type": "code",
   "execution_count": 32,
   "id": "e91efc8c",
   "metadata": {
    "ExecuteTime": {
     "end_time": "2023-07-25T15:50:09.204326Z",
     "start_time": "2023-07-25T15:50:09.197357Z"
    }
   },
   "outputs": [
    {
     "data": {
      "text/plain": [
       "store\n",
       "Kagglazon       17.185978\n",
       "Kaggle Learn    17.762763\n",
       "Kaggle Store    17.270877\n",
       "Name: smape, dtype: float64"
      ]
     },
     "execution_count": 32,
     "metadata": {},
     "output_type": "execute_result"
    }
   ],
   "source": [
    "res_df.groupby('store')['smape'].mean()"
   ]
  },
  {
   "cell_type": "code",
   "execution_count": 33,
   "id": "121064bb",
   "metadata": {
    "ExecuteTime": {
     "end_time": "2023-07-25T15:50:16.007593Z",
     "start_time": "2023-07-25T15:50:16.000895Z"
    }
   },
   "outputs": [
    {
     "data": {
      "text/plain": [
       "product\n",
       "Using LLMs to Improve Your Coding                 20.960978\n",
       "Using LLMs to Train More LLMs                     18.727027\n",
       "Using LLMs to Win Friends and Influence People    19.620973\n",
       "Using LLMs to Win More Kaggle Competitions        16.416592\n",
       "Using LLMs to Write Better                        11.307125\n",
       "Name: smape, dtype: float64"
      ]
     },
     "execution_count": 33,
     "metadata": {},
     "output_type": "execute_result"
    }
   ],
   "source": [
    "res_df.groupby('product')['smape'].mean()"
   ]
  },
  {
   "cell_type": "code",
   "execution_count": 34,
   "id": "5db3f7a9",
   "metadata": {
    "ExecuteTime": {
     "end_time": "2023-07-25T15:57:40.118003Z",
     "start_time": "2023-07-25T15:57:40.112403Z"
    }
   },
   "outputs": [
    {
     "name": "stdout",
     "output_type": "stream",
     "text": [
      "Average SMAPE: 17.40654\n",
      "Average RMSE: 35.15\n"
     ]
    }
   ],
   "source": [
    "print(f'Average SMAPE: {np.mean([m[1] for m in metrics]) * 100:.5f}')\n",
    "print(f'Average RMSE: {np.mean([m[0] for m in metrics]):.2f}')"
   ]
  },
  {
   "cell_type": "markdown",
   "id": "954fa750",
   "metadata": {},
   "source": [
    "## Submission"
   ]
  },
  {
   "cell_type": "code",
   "execution_count": 35,
   "id": "f9583c9a",
   "metadata": {
    "ExecuteTime": {
     "end_time": "2023-07-25T15:59:09.697882Z",
     "start_time": "2023-07-25T15:59:09.416457Z"
    }
   },
   "outputs": [
    {
     "data": {
      "text/html": [
       "<div>\n",
       "<style scoped>\n",
       "    .dataframe tbody tr th:only-of-type {\n",
       "        vertical-align: middle;\n",
       "    }\n",
       "\n",
       "    .dataframe tbody tr th {\n",
       "        vertical-align: top;\n",
       "    }\n",
       "\n",
       "    .dataframe thead th {\n",
       "        text-align: right;\n",
       "    }\n",
       "</style>\n",
       "<table border=\"1\" class=\"dataframe\">\n",
       "  <thead>\n",
       "    <tr style=\"text-align: right;\">\n",
       "      <th></th>\n",
       "      <th>date</th>\n",
       "      <th>comb</th>\n",
       "      <th>num_sold</th>\n",
       "      <th>yhat_upper</th>\n",
       "      <th>yhat_lower</th>\n",
       "    </tr>\n",
       "  </thead>\n",
       "  <tbody>\n",
       "    <tr>\n",
       "      <th>1826</th>\n",
       "      <td>2022-01-01</td>\n",
       "      <td>Argentina|Kaggle Learn|Using LLMs to Improve Y...</td>\n",
       "      <td>36.449051</td>\n",
       "      <td>40.180478</td>\n",
       "      <td>33.10047</td>\n",
       "    </tr>\n",
       "  </tbody>\n",
       "</table>\n",
       "</div>"
      ],
      "text/plain": [
       "            date                                               comb  \\\n",
       "1826  2022-01-01  Argentina|Kaggle Learn|Using LLMs to Improve Y...   \n",
       "\n",
       "       num_sold  yhat_upper  yhat_lower  \n",
       "1826  36.449051   40.180478    33.10047  "
      ]
     },
     "execution_count": 35,
     "metadata": {},
     "output_type": "execute_result"
    }
   ],
   "source": [
    "subs = preds[preds.ds > train_df.ds.max()]\n",
    "subs = subs.rename(columns={'ds': 'date',\n",
    "                            'yhat': 'num_sold'})\n",
    "subs['date'] = subs['date'].apply(str).apply(lambda x: x.split(' ')[0])\n",
    "subs.head(1)"
   ]
  },
  {
   "cell_type": "code",
   "execution_count": 36,
   "id": "b904e9bd",
   "metadata": {
    "ExecuteTime": {
     "end_time": "2023-07-25T15:59:10.615721Z",
     "start_time": "2023-07-25T15:59:10.404731Z"
    }
   },
   "outputs": [
    {
     "data": {
      "text/html": [
       "<div>\n",
       "<style scoped>\n",
       "    .dataframe tbody tr th:only-of-type {\n",
       "        vertical-align: middle;\n",
       "    }\n",
       "\n",
       "    .dataframe tbody tr th {\n",
       "        vertical-align: top;\n",
       "    }\n",
       "\n",
       "    .dataframe thead th {\n",
       "        text-align: right;\n",
       "    }\n",
       "</style>\n",
       "<table border=\"1\" class=\"dataframe\">\n",
       "  <thead>\n",
       "    <tr style=\"text-align: right;\">\n",
       "      <th></th>\n",
       "      <th>id</th>\n",
       "      <th>date</th>\n",
       "      <th>country</th>\n",
       "      <th>store</th>\n",
       "      <th>product</th>\n",
       "      <th>comb</th>\n",
       "    </tr>\n",
       "  </thead>\n",
       "  <tbody>\n",
       "    <tr>\n",
       "      <th>0</th>\n",
       "      <td>136950</td>\n",
       "      <td>2022-01-01</td>\n",
       "      <td>Argentina</td>\n",
       "      <td>Kaggle Learn</td>\n",
       "      <td>Using LLMs to Improve Your Coding</td>\n",
       "      <td>Argentina|Kaggle Learn|Using LLMs to Improve Y...</td>\n",
       "    </tr>\n",
       "  </tbody>\n",
       "</table>\n",
       "</div>"
      ],
      "text/plain": [
       "       id        date    country         store  \\\n",
       "0  136950  2022-01-01  Argentina  Kaggle Learn   \n",
       "\n",
       "                             product  \\\n",
       "0  Using LLMs to Improve Your Coding   \n",
       "\n",
       "                                                comb  \n",
       "0  Argentina|Kaggle Learn|Using LLMs to Improve Y...  "
      ]
     },
     "execution_count": 36,
     "metadata": {},
     "output_type": "execute_result"
    }
   ],
   "source": [
    "test_df['comb'] = test_df[cats].apply(lambda x: '|'.join(list(x)), \n",
    "                                      axis=1)\n",
    "test_df.head(1)"
   ]
  },
  {
   "cell_type": "code",
   "execution_count": 37,
   "id": "aeb780ee",
   "metadata": {
    "ExecuteTime": {
     "end_time": "2023-07-25T15:59:11.693694Z",
     "start_time": "2023-07-25T15:59:11.648489Z"
    }
   },
   "outputs": [
    {
     "data": {
      "text/html": [
       "<div>\n",
       "<style scoped>\n",
       "    .dataframe tbody tr th:only-of-type {\n",
       "        vertical-align: middle;\n",
       "    }\n",
       "\n",
       "    .dataframe tbody tr th {\n",
       "        vertical-align: top;\n",
       "    }\n",
       "\n",
       "    .dataframe thead th {\n",
       "        text-align: right;\n",
       "    }\n",
       "</style>\n",
       "<table border=\"1\" class=\"dataframe\">\n",
       "  <thead>\n",
       "    <tr style=\"text-align: right;\">\n",
       "      <th></th>\n",
       "      <th>id</th>\n",
       "      <th>date</th>\n",
       "      <th>country</th>\n",
       "      <th>store</th>\n",
       "      <th>product</th>\n",
       "      <th>comb</th>\n",
       "      <th>num_sold</th>\n",
       "      <th>yhat_upper</th>\n",
       "      <th>yhat_lower</th>\n",
       "    </tr>\n",
       "  </thead>\n",
       "  <tbody>\n",
       "    <tr>\n",
       "      <th>0</th>\n",
       "      <td>136950</td>\n",
       "      <td>2022-01-01</td>\n",
       "      <td>Argentina</td>\n",
       "      <td>Kaggle Learn</td>\n",
       "      <td>Using LLMs to Improve Your Coding</td>\n",
       "      <td>Argentina|Kaggle Learn|Using LLMs to Improve Y...</td>\n",
       "      <td>36.449051</td>\n",
       "      <td>40.180478</td>\n",
       "      <td>33.10047</td>\n",
       "    </tr>\n",
       "  </tbody>\n",
       "</table>\n",
       "</div>"
      ],
      "text/plain": [
       "       id        date    country         store  \\\n",
       "0  136950  2022-01-01  Argentina  Kaggle Learn   \n",
       "\n",
       "                             product  \\\n",
       "0  Using LLMs to Improve Your Coding   \n",
       "\n",
       "                                                comb   num_sold  yhat_upper  \\\n",
       "0  Argentina|Kaggle Learn|Using LLMs to Improve Y...  36.449051   40.180478   \n",
       "\n",
       "   yhat_lower  \n",
       "0    33.10047  "
      ]
     },
     "execution_count": 37,
     "metadata": {},
     "output_type": "execute_result"
    }
   ],
   "source": [
    "test_df = test_df.merge(subs, how='left', on=['date', 'comb'])\n",
    "test_df.head(1)"
   ]
  },
  {
   "cell_type": "code",
   "execution_count": 38,
   "id": "6da9bd86",
   "metadata": {
    "ExecuteTime": {
     "end_time": "2023-07-25T13:03:01.711698Z",
     "start_time": "2023-07-25T13:03:01.707938Z"
    }
   },
   "outputs": [],
   "source": [
    "# multi_dict = {'Canada': .58 * 1.5,\n",
    "#               'Japan': .76 * 1.5,\n",
    "#               'Spain': 1 * 1.5,\n",
    "#               'Estonia': 1.08 * 1.5,\n",
    "#               'Argentina': 2.82 * 1.5}"
   ]
  },
  {
   "cell_type": "code",
   "execution_count": 39,
   "id": "94920852",
   "metadata": {
    "ExecuteTime": {
     "end_time": "2023-07-25T13:03:02.586166Z",
     "start_time": "2023-07-25T13:03:02.582245Z"
    }
   },
   "outputs": [],
   "source": [
    "# def multipliers(test_df, multi_dict=multi_dict):\n",
    "#     for country in test_df.country.unique():\n",
    "#         test_df['num_sold'][test_df.country == country] *= multi_dict[country]\n",
    "#     return test_df['num_sold']"
   ]
  },
  {
   "cell_type": "code",
   "execution_count": 40,
   "id": "9ea2be60",
   "metadata": {
    "ExecuteTime": {
     "end_time": "2023-07-25T13:03:08.062958Z",
     "start_time": "2023-07-25T13:03:06.944581Z"
    }
   },
   "outputs": [],
   "source": [
    "# test_df[\"num_sold\"] = np.round(multipliers(test_df))"
   ]
  },
  {
   "cell_type": "code",
   "execution_count": 39,
   "id": "90541aaa",
   "metadata": {
    "ExecuteTime": {
     "end_time": "2023-07-25T16:00:10.741609Z",
     "start_time": "2023-07-25T16:00:10.600138Z"
    }
   },
   "outputs": [],
   "source": [
    "test_df[['id', 'comb', 'num_sold']].to_csv('subs/season_holidays_subs/1_covid.csv', index=False)"
   ]
  },
  {
   "cell_type": "code",
   "execution_count": null,
   "id": "dbd09b0d",
   "metadata": {},
   "outputs": [],
   "source": []
  }
 ],
 "metadata": {
  "kernelspec": {
   "display_name": "Python 3 (ipykernel)",
   "language": "python",
   "name": "python3"
  },
  "language_info": {
   "codemirror_mode": {
    "name": "ipython",
    "version": 3
   },
   "file_extension": ".py",
   "mimetype": "text/x-python",
   "name": "python",
   "nbconvert_exporter": "python",
   "pygments_lexer": "ipython3",
   "version": "3.8.17"
  }
 },
 "nbformat": 4,
 "nbformat_minor": 5
}
