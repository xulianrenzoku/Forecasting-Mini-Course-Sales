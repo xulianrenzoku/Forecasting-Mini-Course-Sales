{
 "cells": [
  {
   "cell_type": "code",
   "execution_count": 1,
   "id": "e98fb2db",
   "metadata": {
    "ExecuteTime": {
     "end_time": "2023-07-25T09:24:38.295959Z",
     "start_time": "2023-07-25T09:24:35.226878Z"
    }
   },
   "outputs": [],
   "source": [
    "import os\n",
    "import requests\n",
    "import numpy as np\n",
    "import pandas as pd\n",
    "import matplotlib.pyplot as plt\n",
    "import matplotlib.dates as mdates\n",
    "import seaborn as sns\n",
    "from IPython.core.pylabtools import figsize\n",
    "from tqdm import tqdm"
   ]
  },
  {
   "cell_type": "code",
   "execution_count": 2,
   "id": "5b77763e",
   "metadata": {
    "ExecuteTime": {
     "end_time": "2023-07-25T09:24:38.643033Z",
     "start_time": "2023-07-25T09:24:38.366048Z"
    }
   },
   "outputs": [],
   "source": [
    "import holidays\n",
    "from prophet import Prophet\n",
    "from prophet.diagnostics import cross_validation\n",
    "from prophet.diagnostics import performance_metrics"
   ]
  },
  {
   "cell_type": "code",
   "execution_count": 3,
   "id": "e0cdc14e",
   "metadata": {
    "ExecuteTime": {
     "end_time": "2023-07-25T09:24:38.651563Z",
     "start_time": "2023-07-25T09:24:38.647896Z"
    }
   },
   "outputs": [],
   "source": [
    "import warnings\n",
    "warnings.filterwarnings('ignore')"
   ]
  },
  {
   "cell_type": "code",
   "execution_count": 4,
   "id": "5569f62d",
   "metadata": {
    "ExecuteTime": {
     "end_time": "2023-07-25T09:24:38.660541Z",
     "start_time": "2023-07-25T09:24:38.657643Z"
    }
   },
   "outputs": [],
   "source": [
    "# sns.set()"
   ]
  },
  {
   "cell_type": "markdown",
   "id": "19d5f201",
   "metadata": {},
   "source": [
    "## Read Data"
   ]
  },
  {
   "cell_type": "code",
   "execution_count": 5,
   "id": "ab94bdc6",
   "metadata": {
    "ExecuteTime": {
     "end_time": "2023-07-25T09:24:38.676101Z",
     "start_time": "2023-07-25T09:24:38.668234Z"
    }
   },
   "outputs": [
    {
     "data": {
      "text/plain": [
       "['test.csv', 'train.csv', 'sample_submission.csv']"
      ]
     },
     "execution_count": 5,
     "metadata": {},
     "output_type": "execute_result"
    }
   ],
   "source": [
    "os.listdir('input')"
   ]
  },
  {
   "cell_type": "code",
   "execution_count": 6,
   "id": "45c9e915",
   "metadata": {
    "ExecuteTime": {
     "end_time": "2023-07-25T09:24:38.844648Z",
     "start_time": "2023-07-25T09:24:38.678299Z"
    }
   },
   "outputs": [
    {
     "name": "stdout",
     "output_type": "stream",
     "text": [
      "(136950, 6)\n"
     ]
    },
    {
     "data": {
      "text/html": [
       "<div>\n",
       "<style scoped>\n",
       "    .dataframe tbody tr th:only-of-type {\n",
       "        vertical-align: middle;\n",
       "    }\n",
       "\n",
       "    .dataframe tbody tr th {\n",
       "        vertical-align: top;\n",
       "    }\n",
       "\n",
       "    .dataframe thead th {\n",
       "        text-align: right;\n",
       "    }\n",
       "</style>\n",
       "<table border=\"1\" class=\"dataframe\">\n",
       "  <thead>\n",
       "    <tr style=\"text-align: right;\">\n",
       "      <th></th>\n",
       "      <th>id</th>\n",
       "      <th>date</th>\n",
       "      <th>country</th>\n",
       "      <th>store</th>\n",
       "      <th>product</th>\n",
       "      <th>num_sold</th>\n",
       "    </tr>\n",
       "  </thead>\n",
       "  <tbody>\n",
       "    <tr>\n",
       "      <th>0</th>\n",
       "      <td>0</td>\n",
       "      <td>2017-01-01</td>\n",
       "      <td>Argentina</td>\n",
       "      <td>Kaggle Learn</td>\n",
       "      <td>Using LLMs to Improve Your Coding</td>\n",
       "      <td>63</td>\n",
       "    </tr>\n",
       "  </tbody>\n",
       "</table>\n",
       "</div>"
      ],
      "text/plain": [
       "   id        date    country         store                            product  \\\n",
       "0   0  2017-01-01  Argentina  Kaggle Learn  Using LLMs to Improve Your Coding   \n",
       "\n",
       "   num_sold  \n",
       "0        63  "
      ]
     },
     "execution_count": 6,
     "metadata": {},
     "output_type": "execute_result"
    }
   ],
   "source": [
    "train_df = pd.read_csv('input/train.csv')\n",
    "print(train_df.shape)\n",
    "train_df.head(1)"
   ]
  },
  {
   "cell_type": "code",
   "execution_count": 75,
   "id": "63695519",
   "metadata": {
    "ExecuteTime": {
     "end_time": "2023-07-25T09:59:11.453391Z",
     "start_time": "2023-07-25T09:59:11.353117Z"
    }
   },
   "outputs": [
    {
     "data": {
      "text/plain": [
       "(27375, 5)"
      ]
     },
     "execution_count": 75,
     "metadata": {},
     "output_type": "execute_result"
    }
   ],
   "source": [
    "test_df = pd.read_csv('input/test.csv')\n",
    "test_df.shape"
   ]
  },
  {
   "cell_type": "code",
   "execution_count": 8,
   "id": "eb6b79b5",
   "metadata": {
    "ExecuteTime": {
     "end_time": "2023-07-25T09:24:38.914745Z",
     "start_time": "2023-07-25T09:24:38.895111Z"
    }
   },
   "outputs": [
    {
     "name": "stdout",
     "output_type": "stream",
     "text": [
      "(27375, 2)\n"
     ]
    },
    {
     "data": {
      "text/html": [
       "<div>\n",
       "<style scoped>\n",
       "    .dataframe tbody tr th:only-of-type {\n",
       "        vertical-align: middle;\n",
       "    }\n",
       "\n",
       "    .dataframe tbody tr th {\n",
       "        vertical-align: top;\n",
       "    }\n",
       "\n",
       "    .dataframe thead th {\n",
       "        text-align: right;\n",
       "    }\n",
       "</style>\n",
       "<table border=\"1\" class=\"dataframe\">\n",
       "  <thead>\n",
       "    <tr style=\"text-align: right;\">\n",
       "      <th></th>\n",
       "      <th>id</th>\n",
       "      <th>num_sold</th>\n",
       "    </tr>\n",
       "  </thead>\n",
       "  <tbody>\n",
       "    <tr>\n",
       "      <th>0</th>\n",
       "      <td>136950</td>\n",
       "      <td>100</td>\n",
       "    </tr>\n",
       "  </tbody>\n",
       "</table>\n",
       "</div>"
      ],
      "text/plain": [
       "       id  num_sold\n",
       "0  136950       100"
      ]
     },
     "execution_count": 8,
     "metadata": {},
     "output_type": "execute_result"
    }
   ],
   "source": [
    "sample_sub = pd.read_csv('input/sample_submission.csv')\n",
    "print(sample_sub.shape)\n",
    "sample_sub.head(1)"
   ]
  },
  {
   "cell_type": "markdown",
   "id": "6b2a74d4",
   "metadata": {},
   "source": [
    "## Get Holidays"
   ]
  },
  {
   "cell_type": "code",
   "execution_count": 9,
   "id": "bf6cf1a1",
   "metadata": {
    "ExecuteTime": {
     "end_time": "2023-07-25T09:24:38.948439Z",
     "start_time": "2023-07-25T09:24:38.924755Z"
    }
   },
   "outputs": [
    {
     "data": {
      "text/plain": [
       "array(['Argentina', 'Canada', 'Estonia', 'Japan', 'Spain'], dtype=object)"
      ]
     },
     "execution_count": 9,
     "metadata": {},
     "output_type": "execute_result"
    }
   ],
   "source": [
    "train_df.country.unique()"
   ]
  },
  {
   "cell_type": "code",
   "execution_count": 10,
   "id": "021f9fa8",
   "metadata": {
    "ExecuteTime": {
     "end_time": "2023-07-25T09:24:38.988676Z",
     "start_time": "2023-07-25T09:24:38.954132Z"
    }
   },
   "outputs": [
    {
     "data": {
      "text/plain": [
       "('2017-01-01', '2022-12-31')"
      ]
     },
     "execution_count": 10,
     "metadata": {},
     "output_type": "execute_result"
    }
   ],
   "source": [
    "start_date = train_df.date.min()\n",
    "end_date = test_df.date.max()\n",
    "start_date, end_date"
   ]
  },
  {
   "cell_type": "code",
   "execution_count": 11,
   "id": "c8736670",
   "metadata": {
    "ExecuteTime": {
     "end_time": "2023-07-25T09:24:39.004987Z",
     "start_time": "2023-07-25T09:24:38.995930Z"
    }
   },
   "outputs": [],
   "source": [
    "def get_national_holidays(country,\n",
    "                          start_date=start_date,\n",
    "                          end_date=end_date):\n",
    "    holidays_days = holidays.CountryHoliday(country)\n",
    "    date_range = pd.date_range(start_date, end_date)\n",
    "    return [date for date in date_range\n",
    "            if date in holidays_days]"
   ]
  },
  {
   "cell_type": "code",
   "execution_count": 12,
   "id": "099f7b21",
   "metadata": {
    "ExecuteTime": {
     "end_time": "2023-07-25T09:24:39.021349Z",
     "start_time": "2023-07-25T09:24:39.009742Z"
    }
   },
   "outputs": [],
   "source": [
    "common_holidays = pd.DataFrame({\n",
    "    'ds': pd.to_datetime(['2017-04-16','2017-12-24', '2017-12-25', '2017-12-26', '2017-12-27', '2017-12-28', '2017-12-29', '2017-12-30', '2017-12-31',\n",
    "                          '2018-04-01','2018-12-24', '2018-12-25', '2018-12-26', '2018-12-27', '2018-12-28', '2018-12-29', '2018-12-30', '2018-12-31',\n",
    "                          '2019-04-21','2019-12-24', '2019-12-25', '2019-12-26', '2019-12-27', '2019-12-28', '2019-12-29', '2019-12-30', '2019-12-31',\n",
    "                          '2020-04-12','2020-12-24', '2020-12-25', '2020-12-26', '2020-12-27', '2020-12-28', '2020-12-29', '2020-12-30', '2020-12-31',\n",
    "                          '2021-04-04','2021-12-24', '2021-12-25', '2021-12-26', '2021-12-27', '2021-12-28', '2021-12-29', '2021-12-30', '2021-12-31',\n",
    "                          '2022-04-17','2022-12-24', '2022-12-25', '2022-12-26', '2022-12-27', '2022-12-28', '2022-12-29', '2022-12-30', '2022-12-31']),\n",
    "    'holiday': 'Holiday Season'\n",
    "    })\n"
   ]
  },
  {
   "cell_type": "code",
   "execution_count": 13,
   "id": "eac489f6",
   "metadata": {
    "ExecuteTime": {
     "end_time": "2023-07-25T09:24:39.142862Z",
     "start_time": "2023-07-25T09:24:39.027811Z"
    }
   },
   "outputs": [
    {
     "data": {
      "text/html": [
       "<div>\n",
       "<style scoped>\n",
       "    .dataframe tbody tr th:only-of-type {\n",
       "        vertical-align: middle;\n",
       "    }\n",
       "\n",
       "    .dataframe tbody tr th {\n",
       "        vertical-align: top;\n",
       "    }\n",
       "\n",
       "    .dataframe thead th {\n",
       "        text-align: right;\n",
       "    }\n",
       "</style>\n",
       "<table border=\"1\" class=\"dataframe\">\n",
       "  <thead>\n",
       "    <tr style=\"text-align: right;\">\n",
       "      <th></th>\n",
       "      <th>holiday</th>\n",
       "      <th>ds</th>\n",
       "    </tr>\n",
       "  </thead>\n",
       "  <tbody>\n",
       "    <tr>\n",
       "      <th>0</th>\n",
       "      <td>Japan</td>\n",
       "      <td>2017-01-01</td>\n",
       "    </tr>\n",
       "    <tr>\n",
       "      <th>1</th>\n",
       "      <td>Japan</td>\n",
       "      <td>2017-01-02</td>\n",
       "    </tr>\n",
       "    <tr>\n",
       "      <th>2</th>\n",
       "      <td>Japan</td>\n",
       "      <td>2017-01-09</td>\n",
       "    </tr>\n",
       "    <tr>\n",
       "      <th>3</th>\n",
       "      <td>Japan</td>\n",
       "      <td>2017-02-11</td>\n",
       "    </tr>\n",
       "    <tr>\n",
       "      <th>4</th>\n",
       "      <td>Japan</td>\n",
       "      <td>2017-03-20</td>\n",
       "    </tr>\n",
       "    <tr>\n",
       "      <th>...</th>\n",
       "      <td>...</td>\n",
       "      <td>...</td>\n",
       "    </tr>\n",
       "    <tr>\n",
       "      <th>105</th>\n",
       "      <td>Japan</td>\n",
       "      <td>2022-09-19</td>\n",
       "    </tr>\n",
       "    <tr>\n",
       "      <th>106</th>\n",
       "      <td>Japan</td>\n",
       "      <td>2022-09-23</td>\n",
       "    </tr>\n",
       "    <tr>\n",
       "      <th>107</th>\n",
       "      <td>Japan</td>\n",
       "      <td>2022-10-10</td>\n",
       "    </tr>\n",
       "    <tr>\n",
       "      <th>108</th>\n",
       "      <td>Japan</td>\n",
       "      <td>2022-11-03</td>\n",
       "    </tr>\n",
       "    <tr>\n",
       "      <th>109</th>\n",
       "      <td>Japan</td>\n",
       "      <td>2022-11-23</td>\n",
       "    </tr>\n",
       "  </tbody>\n",
       "</table>\n",
       "<p>110 rows × 2 columns</p>\n",
       "</div>"
      ],
      "text/plain": [
       "    holiday         ds\n",
       "0     Japan 2017-01-01\n",
       "1     Japan 2017-01-02\n",
       "2     Japan 2017-01-09\n",
       "3     Japan 2017-02-11\n",
       "4     Japan 2017-03-20\n",
       "..      ...        ...\n",
       "105   Japan 2022-09-19\n",
       "106   Japan 2022-09-23\n",
       "107   Japan 2022-10-10\n",
       "108   Japan 2022-11-03\n",
       "109   Japan 2022-11-23\n",
       "\n",
       "[110 rows x 2 columns]"
      ]
     },
     "execution_count": 13,
     "metadata": {},
     "output_type": "execute_result"
    }
   ],
   "source": [
    "country_holiday_dict = {country: pd.DataFrame({\n",
    "    'holiday': country,\n",
    "    'ds': pd.to_datetime(get_national_holidays(country))})\n",
    "                        for country in train_df.country.unique()}\n",
    "\n",
    "country_holiday_dict['Japan']"
   ]
  },
  {
   "cell_type": "code",
   "execution_count": 14,
   "id": "5fdd2a51",
   "metadata": {
    "ExecuteTime": {
     "end_time": "2023-07-25T09:24:39.167787Z",
     "start_time": "2023-07-25T09:24:39.145729Z"
    }
   },
   "outputs": [
    {
     "data": {
      "text/html": [
       "<div>\n",
       "<style scoped>\n",
       "    .dataframe tbody tr th:only-of-type {\n",
       "        vertical-align: middle;\n",
       "    }\n",
       "\n",
       "    .dataframe tbody tr th {\n",
       "        vertical-align: top;\n",
       "    }\n",
       "\n",
       "    .dataframe thead th {\n",
       "        text-align: right;\n",
       "    }\n",
       "</style>\n",
       "<table border=\"1\" class=\"dataframe\">\n",
       "  <thead>\n",
       "    <tr style=\"text-align: right;\">\n",
       "      <th></th>\n",
       "      <th>holiday</th>\n",
       "      <th>ds</th>\n",
       "    </tr>\n",
       "  </thead>\n",
       "  <tbody>\n",
       "    <tr>\n",
       "      <th>0</th>\n",
       "      <td>Japan</td>\n",
       "      <td>2017-01-01</td>\n",
       "    </tr>\n",
       "    <tr>\n",
       "      <th>1</th>\n",
       "      <td>Japan</td>\n",
       "      <td>2017-01-02</td>\n",
       "    </tr>\n",
       "    <tr>\n",
       "      <th>2</th>\n",
       "      <td>Japan</td>\n",
       "      <td>2017-01-09</td>\n",
       "    </tr>\n",
       "    <tr>\n",
       "      <th>3</th>\n",
       "      <td>Japan</td>\n",
       "      <td>2017-02-11</td>\n",
       "    </tr>\n",
       "    <tr>\n",
       "      <th>4</th>\n",
       "      <td>Japan</td>\n",
       "      <td>2017-03-20</td>\n",
       "    </tr>\n",
       "    <tr>\n",
       "      <th>...</th>\n",
       "      <td>...</td>\n",
       "      <td>...</td>\n",
       "    </tr>\n",
       "    <tr>\n",
       "      <th>49</th>\n",
       "      <td>Holiday Season</td>\n",
       "      <td>2022-12-27</td>\n",
       "    </tr>\n",
       "    <tr>\n",
       "      <th>50</th>\n",
       "      <td>Holiday Season</td>\n",
       "      <td>2022-12-28</td>\n",
       "    </tr>\n",
       "    <tr>\n",
       "      <th>51</th>\n",
       "      <td>Holiday Season</td>\n",
       "      <td>2022-12-29</td>\n",
       "    </tr>\n",
       "    <tr>\n",
       "      <th>52</th>\n",
       "      <td>Holiday Season</td>\n",
       "      <td>2022-12-30</td>\n",
       "    </tr>\n",
       "    <tr>\n",
       "      <th>53</th>\n",
       "      <td>Holiday Season</td>\n",
       "      <td>2022-12-31</td>\n",
       "    </tr>\n",
       "  </tbody>\n",
       "</table>\n",
       "<p>164 rows × 2 columns</p>\n",
       "</div>"
      ],
      "text/plain": [
       "           holiday         ds\n",
       "0            Japan 2017-01-01\n",
       "1            Japan 2017-01-02\n",
       "2            Japan 2017-01-09\n",
       "3            Japan 2017-02-11\n",
       "4            Japan 2017-03-20\n",
       "..             ...        ...\n",
       "49  Holiday Season 2022-12-27\n",
       "50  Holiday Season 2022-12-28\n",
       "51  Holiday Season 2022-12-29\n",
       "52  Holiday Season 2022-12-30\n",
       "53  Holiday Season 2022-12-31\n",
       "\n",
       "[164 rows x 2 columns]"
      ]
     },
     "execution_count": 14,
     "metadata": {},
     "output_type": "execute_result"
    }
   ],
   "source": [
    "for country in country_holiday_dict.keys():\n",
    "    temp = country_holiday_dict[country].copy()\n",
    "    temp = pd.concat([temp, common_holidays])\n",
    "    country_holiday_dict[country] = temp\n",
    "    \n",
    "country_holiday_dict['Japan']"
   ]
  },
  {
   "cell_type": "markdown",
   "id": "7239cf1f",
   "metadata": {},
   "source": [
    "## Get GDP Data"
   ]
  },
  {
   "cell_type": "code",
   "execution_count": 15,
   "id": "353eb290",
   "metadata": {
    "ExecuteTime": {
     "end_time": "2023-07-25T09:24:39.202816Z",
     "start_time": "2023-07-25T09:24:39.194305Z"
    }
   },
   "outputs": [],
   "source": [
    "def get_gdp_data(start_date=start_date, \n",
    "                 end_date=end_date):\n",
    "\n",
    "    # Define the API URL and parameters\n",
    "    url = \"https://api.worldbank.org/v2/country/{0}/indicator/NY.GDP.PCAP.CD?date={1}:{2}&format=json\"\n",
    "    country_codes = ['ARG', 'CAN', 'EST', 'JPN', 'ESP']  # Country codes\n",
    "    countries = ['Argentina', 'Canada', 'Estonia', 'Japan', 'Spain']  # Original country names\n",
    "    start_yr = start_date.split('-')[0]\n",
    "    end_yr = end_date.split('-')[0]\n",
    "\n",
    "    # Fetch GDP data for each country and year from the World Bank API\n",
    "    gdp_data = []\n",
    "    for code, country in zip(country_codes, countries):\n",
    "        api_url = url.format(code, start_yr, end_yr)\n",
    "        response = requests.get(api_url)\n",
    "        data = response.json()[1]\n",
    "        for item in data:\n",
    "            year = item['date']\n",
    "            gdp_per_capita = item['value']\n",
    "            gdp_data.append({\"year\": year, \n",
    "                             \"country\": country, \n",
    "                             \"gdp_per_capita\": gdp_per_capita})\n",
    "\n",
    "    # Create the new DataFrame\n",
    "    gdp_df = pd.DataFrame(gdp_data)\n",
    "\n",
    "    # Convert columns to appropriate data types\n",
    "    gdp_df['year']=gdp_df['year'].astype(int)\n",
    "    gdp_df['country'] = gdp_df['country'].astype(str)\n",
    "\n",
    "    return gdp_df"
   ]
  },
  {
   "cell_type": "code",
   "execution_count": 16,
   "id": "bc94f7a5",
   "metadata": {
    "ExecuteTime": {
     "end_time": "2023-07-25T09:24:41.444921Z",
     "start_time": "2023-07-25T09:24:39.595971Z"
    }
   },
   "outputs": [
    {
     "data": {
      "text/html": [
       "<div>\n",
       "<style scoped>\n",
       "    .dataframe tbody tr th:only-of-type {\n",
       "        vertical-align: middle;\n",
       "    }\n",
       "\n",
       "    .dataframe tbody tr th {\n",
       "        vertical-align: top;\n",
       "    }\n",
       "\n",
       "    .dataframe thead th {\n",
       "        text-align: right;\n",
       "    }\n",
       "</style>\n",
       "<table border=\"1\" class=\"dataframe\">\n",
       "  <thead>\n",
       "    <tr style=\"text-align: right;\">\n",
       "      <th></th>\n",
       "      <th>year</th>\n",
       "      <th>country</th>\n",
       "      <th>gdp_per_capita</th>\n",
       "    </tr>\n",
       "  </thead>\n",
       "  <tbody>\n",
       "    <tr>\n",
       "      <th>0</th>\n",
       "      <td>2022</td>\n",
       "      <td>Argentina</td>\n",
       "      <td>13686.008674</td>\n",
       "    </tr>\n",
       "    <tr>\n",
       "      <th>1</th>\n",
       "      <td>2021</td>\n",
       "      <td>Argentina</td>\n",
       "      <td>10636.115530</td>\n",
       "    </tr>\n",
       "    <tr>\n",
       "      <th>2</th>\n",
       "      <td>2020</td>\n",
       "      <td>Argentina</td>\n",
       "      <td>8496.428157</td>\n",
       "    </tr>\n",
       "    <tr>\n",
       "      <th>3</th>\n",
       "      <td>2019</td>\n",
       "      <td>Argentina</td>\n",
       "      <td>9963.674231</td>\n",
       "    </tr>\n",
       "    <tr>\n",
       "      <th>4</th>\n",
       "      <td>2018</td>\n",
       "      <td>Argentina</td>\n",
       "      <td>11795.162885</td>\n",
       "    </tr>\n",
       "  </tbody>\n",
       "</table>\n",
       "</div>"
      ],
      "text/plain": [
       "   year    country  gdp_per_capita\n",
       "0  2022  Argentina    13686.008674\n",
       "1  2021  Argentina    10636.115530\n",
       "2  2020  Argentina     8496.428157\n",
       "3  2019  Argentina     9963.674231\n",
       "4  2018  Argentina    11795.162885"
      ]
     },
     "execution_count": 16,
     "metadata": {},
     "output_type": "execute_result"
    }
   ],
   "source": [
    "gdp_df = get_gdp_data()\n",
    "gdp_df.head()"
   ]
  },
  {
   "cell_type": "code",
   "execution_count": 61,
   "id": "4b2ba33b",
   "metadata": {
    "ExecuteTime": {
     "end_time": "2023-07-25T09:52:00.273274Z",
     "start_time": "2023-07-25T09:52:00.257222Z"
    }
   },
   "outputs": [
    {
     "data": {
      "text/html": [
       "<div>\n",
       "<style scoped>\n",
       "    .dataframe tbody tr th:only-of-type {\n",
       "        vertical-align: middle;\n",
       "    }\n",
       "\n",
       "    .dataframe tbody tr th {\n",
       "        vertical-align: top;\n",
       "    }\n",
       "\n",
       "    .dataframe thead th {\n",
       "        text-align: right;\n",
       "    }\n",
       "</style>\n",
       "<table border=\"1\" class=\"dataframe\">\n",
       "  <thead>\n",
       "    <tr style=\"text-align: right;\">\n",
       "      <th></th>\n",
       "      <th>year</th>\n",
       "      <th>country</th>\n",
       "      <th>gdp_per_capita</th>\n",
       "    </tr>\n",
       "  </thead>\n",
       "  <tbody>\n",
       "    <tr>\n",
       "      <th>0</th>\n",
       "      <td>2022</td>\n",
       "      <td>Argentina</td>\n",
       "      <td>13686.008674</td>\n",
       "    </tr>\n",
       "    <tr>\n",
       "      <th>1</th>\n",
       "      <td>2021</td>\n",
       "      <td>Argentina</td>\n",
       "      <td>10636.115530</td>\n",
       "    </tr>\n",
       "    <tr>\n",
       "      <th>2</th>\n",
       "      <td>2020</td>\n",
       "      <td>Argentina</td>\n",
       "      <td>8496.428157</td>\n",
       "    </tr>\n",
       "    <tr>\n",
       "      <th>3</th>\n",
       "      <td>2019</td>\n",
       "      <td>Argentina</td>\n",
       "      <td>9963.674231</td>\n",
       "    </tr>\n",
       "    <tr>\n",
       "      <th>4</th>\n",
       "      <td>2018</td>\n",
       "      <td>Argentina</td>\n",
       "      <td>11795.162885</td>\n",
       "    </tr>\n",
       "    <tr>\n",
       "      <th>5</th>\n",
       "      <td>2017</td>\n",
       "      <td>Argentina</td>\n",
       "      <td>14613.035715</td>\n",
       "    </tr>\n",
       "    <tr>\n",
       "      <th>6</th>\n",
       "      <td>2022</td>\n",
       "      <td>Canada</td>\n",
       "      <td>54966.488836</td>\n",
       "    </tr>\n",
       "    <tr>\n",
       "      <th>7</th>\n",
       "      <td>2021</td>\n",
       "      <td>Canada</td>\n",
       "      <td>52358.621641</td>\n",
       "    </tr>\n",
       "    <tr>\n",
       "      <th>8</th>\n",
       "      <td>2020</td>\n",
       "      <td>Canada</td>\n",
       "      <td>43349.677856</td>\n",
       "    </tr>\n",
       "    <tr>\n",
       "      <th>9</th>\n",
       "      <td>2019</td>\n",
       "      <td>Canada</td>\n",
       "      <td>46374.152752</td>\n",
       "    </tr>\n",
       "    <tr>\n",
       "      <th>10</th>\n",
       "      <td>2018</td>\n",
       "      <td>Canada</td>\n",
       "      <td>46547.795182</td>\n",
       "    </tr>\n",
       "    <tr>\n",
       "      <th>11</th>\n",
       "      <td>2017</td>\n",
       "      <td>Canada</td>\n",
       "      <td>45129.429298</td>\n",
       "    </tr>\n",
       "    <tr>\n",
       "      <th>12</th>\n",
       "      <td>2022</td>\n",
       "      <td>Estonia</td>\n",
       "      <td>28332.629092</td>\n",
       "    </tr>\n",
       "    <tr>\n",
       "      <th>13</th>\n",
       "      <td>2021</td>\n",
       "      <td>Estonia</td>\n",
       "      <td>27943.701220</td>\n",
       "    </tr>\n",
       "    <tr>\n",
       "      <th>14</th>\n",
       "      <td>2020</td>\n",
       "      <td>Estonia</td>\n",
       "      <td>23595.243684</td>\n",
       "    </tr>\n",
       "    <tr>\n",
       "      <th>15</th>\n",
       "      <td>2019</td>\n",
       "      <td>Estonia</td>\n",
       "      <td>23424.484707</td>\n",
       "    </tr>\n",
       "    <tr>\n",
       "      <th>16</th>\n",
       "      <td>2018</td>\n",
       "      <td>Estonia</td>\n",
       "      <td>23165.849479</td>\n",
       "    </tr>\n",
       "    <tr>\n",
       "      <th>17</th>\n",
       "      <td>2017</td>\n",
       "      <td>Estonia</td>\n",
       "      <td>20437.765377</td>\n",
       "    </tr>\n",
       "    <tr>\n",
       "      <th>18</th>\n",
       "      <td>2022</td>\n",
       "      <td>Japan</td>\n",
       "      <td>33815.317273</td>\n",
       "    </tr>\n",
       "    <tr>\n",
       "      <th>19</th>\n",
       "      <td>2021</td>\n",
       "      <td>Japan</td>\n",
       "      <td>39827.126768</td>\n",
       "    </tr>\n",
       "    <tr>\n",
       "      <th>20</th>\n",
       "      <td>2020</td>\n",
       "      <td>Japan</td>\n",
       "      <td>39986.928629</td>\n",
       "    </tr>\n",
       "    <tr>\n",
       "      <th>21</th>\n",
       "      <td>2019</td>\n",
       "      <td>Japan</td>\n",
       "      <td>40415.956765</td>\n",
       "    </tr>\n",
       "    <tr>\n",
       "      <th>22</th>\n",
       "      <td>2018</td>\n",
       "      <td>Japan</td>\n",
       "      <td>39751.133098</td>\n",
       "    </tr>\n",
       "    <tr>\n",
       "      <th>23</th>\n",
       "      <td>2017</td>\n",
       "      <td>Japan</td>\n",
       "      <td>38834.052934</td>\n",
       "    </tr>\n",
       "    <tr>\n",
       "      <th>24</th>\n",
       "      <td>2022</td>\n",
       "      <td>Spain</td>\n",
       "      <td>29350.168521</td>\n",
       "    </tr>\n",
       "    <tr>\n",
       "      <th>25</th>\n",
       "      <td>2021</td>\n",
       "      <td>Spain</td>\n",
       "      <td>30103.513733</td>\n",
       "    </tr>\n",
       "    <tr>\n",
       "      <th>26</th>\n",
       "      <td>2020</td>\n",
       "      <td>Spain</td>\n",
       "      <td>26959.675437</td>\n",
       "    </tr>\n",
       "    <tr>\n",
       "      <th>27</th>\n",
       "      <td>2019</td>\n",
       "      <td>Spain</td>\n",
       "      <td>29581.518551</td>\n",
       "    </tr>\n",
       "    <tr>\n",
       "      <th>28</th>\n",
       "      <td>2018</td>\n",
       "      <td>Spain</td>\n",
       "      <td>30379.721113</td>\n",
       "    </tr>\n",
       "    <tr>\n",
       "      <th>29</th>\n",
       "      <td>2017</td>\n",
       "      <td>Spain</td>\n",
       "      <td>28185.321367</td>\n",
       "    </tr>\n",
       "  </tbody>\n",
       "</table>\n",
       "</div>"
      ],
      "text/plain": [
       "    year    country  gdp_per_capita\n",
       "0   2022  Argentina    13686.008674\n",
       "1   2021  Argentina    10636.115530\n",
       "2   2020  Argentina     8496.428157\n",
       "3   2019  Argentina     9963.674231\n",
       "4   2018  Argentina    11795.162885\n",
       "5   2017  Argentina    14613.035715\n",
       "6   2022     Canada    54966.488836\n",
       "7   2021     Canada    52358.621641\n",
       "8   2020     Canada    43349.677856\n",
       "9   2019     Canada    46374.152752\n",
       "10  2018     Canada    46547.795182\n",
       "11  2017     Canada    45129.429298\n",
       "12  2022    Estonia    28332.629092\n",
       "13  2021    Estonia    27943.701220\n",
       "14  2020    Estonia    23595.243684\n",
       "15  2019    Estonia    23424.484707\n",
       "16  2018    Estonia    23165.849479\n",
       "17  2017    Estonia    20437.765377\n",
       "18  2022      Japan    33815.317273\n",
       "19  2021      Japan    39827.126768\n",
       "20  2020      Japan    39986.928629\n",
       "21  2019      Japan    40415.956765\n",
       "22  2018      Japan    39751.133098\n",
       "23  2017      Japan    38834.052934\n",
       "24  2022      Spain    29350.168521\n",
       "25  2021      Spain    30103.513733\n",
       "26  2020      Spain    26959.675437\n",
       "27  2019      Spain    29581.518551\n",
       "28  2018      Spain    30379.721113\n",
       "29  2017      Spain    28185.321367"
      ]
     },
     "execution_count": 61,
     "metadata": {},
     "output_type": "execute_result"
    }
   ],
   "source": [
    "gdp_df"
   ]
  },
  {
   "cell_type": "code",
   "execution_count": 19,
   "id": "10bbdfc1",
   "metadata": {
    "ExecuteTime": {
     "end_time": "2023-07-25T09:27:00.749374Z",
     "start_time": "2023-07-25T09:27:00.572617Z"
    }
   },
   "outputs": [
    {
     "data": {
      "text/plain": [
       "(136950, 8)"
      ]
     },
     "execution_count": 19,
     "metadata": {},
     "output_type": "execute_result"
    }
   ],
   "source": [
    "train_df['year'] = train_df['date'].apply(lambda x: x.split('-')[0]).apply(int)\n",
    "train_df = train_df.merge(gdp_df, on=['country', 'year'], how='left')\n",
    "train_df.shape"
   ]
  },
  {
   "cell_type": "markdown",
   "id": "6e103bec",
   "metadata": {},
   "source": [
    "## Data Examination"
   ]
  },
  {
   "cell_type": "markdown",
   "id": "cfc4b463",
   "metadata": {},
   "source": [
    "### Column Check"
   ]
  },
  {
   "cell_type": "markdown",
   "id": "7557f827",
   "metadata": {},
   "source": [
    "#### No duplicate `id`"
   ]
  },
  {
   "cell_type": "code",
   "execution_count": 20,
   "id": "2a0985df",
   "metadata": {
    "ExecuteTime": {
     "end_time": "2023-07-25T09:27:03.870080Z",
     "start_time": "2023-07-25T09:27:03.854942Z"
    }
   },
   "outputs": [
    {
     "data": {
      "text/plain": [
       "((136950,), (27375,))"
      ]
     },
     "execution_count": 20,
     "metadata": {},
     "output_type": "execute_result"
    }
   ],
   "source": [
    "train_df.id.unique().shape, test_df.id.unique().shape"
   ]
  },
  {
   "cell_type": "markdown",
   "id": "a0000f87",
   "metadata": {},
   "source": [
    "#### No new `country` shows up in the test set"
   ]
  },
  {
   "cell_type": "code",
   "execution_count": 21,
   "id": "ba719fe3",
   "metadata": {
    "ExecuteTime": {
     "end_time": "2023-07-25T09:27:04.553918Z",
     "start_time": "2023-07-25T09:27:04.539372Z"
    }
   },
   "outputs": [
    {
     "data": {
      "text/plain": [
       "(array(['Argentina', 'Canada', 'Estonia', 'Japan', 'Spain'], dtype=object),\n",
       " array(['Argentina', 'Canada', 'Estonia', 'Japan', 'Spain'], dtype=object))"
      ]
     },
     "execution_count": 21,
     "metadata": {},
     "output_type": "execute_result"
    }
   ],
   "source": [
    "train_df.country.unique(), test_df.country.unique()"
   ]
  },
  {
   "cell_type": "markdown",
   "id": "4487ae60",
   "metadata": {},
   "source": [
    "#### No new `store` shows up in the test set"
   ]
  },
  {
   "cell_type": "code",
   "execution_count": 22,
   "id": "23150bca",
   "metadata": {
    "ExecuteTime": {
     "end_time": "2023-07-25T09:27:05.221375Z",
     "start_time": "2023-07-25T09:27:05.205710Z"
    }
   },
   "outputs": [
    {
     "data": {
      "text/plain": [
       "(array(['Kaggle Learn', 'Kaggle Store', 'Kagglazon'], dtype=object),\n",
       " array(['Kaggle Learn', 'Kaggle Store', 'Kagglazon'], dtype=object))"
      ]
     },
     "execution_count": 22,
     "metadata": {},
     "output_type": "execute_result"
    }
   ],
   "source": [
    "train_df.store.unique(), test_df.store.unique()"
   ]
  },
  {
   "cell_type": "markdown",
   "id": "a6060720",
   "metadata": {},
   "source": [
    "#### No new `product` shows up in the test set"
   ]
  },
  {
   "cell_type": "code",
   "execution_count": 23,
   "id": "f724da8b",
   "metadata": {
    "ExecuteTime": {
     "end_time": "2023-07-25T09:27:05.677924Z",
     "start_time": "2023-07-25T09:27:05.658439Z"
    }
   },
   "outputs": [
    {
     "data": {
      "text/plain": [
       "(array(['Using LLMs to Improve Your Coding',\n",
       "        'Using LLMs to Train More LLMs',\n",
       "        'Using LLMs to Win Friends and Influence People',\n",
       "        'Using LLMs to Win More Kaggle Competitions',\n",
       "        'Using LLMs to Write Better'], dtype=object),\n",
       " array(['Using LLMs to Improve Your Coding',\n",
       "        'Using LLMs to Train More LLMs',\n",
       "        'Using LLMs to Win Friends and Influence People',\n",
       "        'Using LLMs to Win More Kaggle Competitions',\n",
       "        'Using LLMs to Write Better'], dtype=object))"
      ]
     },
     "execution_count": 23,
     "metadata": {},
     "output_type": "execute_result"
    }
   ],
   "source": [
    "train_df['product'].unique(), test_df['product'].unique()"
   ]
  },
  {
   "cell_type": "markdown",
   "id": "8f52a91a",
   "metadata": {},
   "source": [
    "## EDA"
   ]
  },
  {
   "cell_type": "code",
   "execution_count": 24,
   "id": "f1286662",
   "metadata": {
    "ExecuteTime": {
     "end_time": "2023-07-25T09:27:07.276428Z",
     "start_time": "2023-07-25T09:27:06.143323Z"
    }
   },
   "outputs": [
    {
     "data": {
      "text/html": [
       "<div>\n",
       "<style scoped>\n",
       "    .dataframe tbody tr th:only-of-type {\n",
       "        vertical-align: middle;\n",
       "    }\n",
       "\n",
       "    .dataframe tbody tr th {\n",
       "        vertical-align: top;\n",
       "    }\n",
       "\n",
       "    .dataframe thead th {\n",
       "        text-align: right;\n",
       "    }\n",
       "</style>\n",
       "<table border=\"1\" class=\"dataframe\">\n",
       "  <thead>\n",
       "    <tr style=\"text-align: right;\">\n",
       "      <th>comb</th>\n",
       "      <th>Argentina|Kagglazon|Using LLMs to Improve Your Coding</th>\n",
       "      <th>Argentina|Kagglazon|Using LLMs to Train More LLMs</th>\n",
       "      <th>Argentina|Kagglazon|Using LLMs to Win Friends and Influence People</th>\n",
       "      <th>Argentina|Kagglazon|Using LLMs to Win More Kaggle Competitions</th>\n",
       "      <th>Argentina|Kagglazon|Using LLMs to Write Better</th>\n",
       "      <th>Argentina|Kaggle Learn|Using LLMs to Improve Your Coding</th>\n",
       "      <th>Argentina|Kaggle Learn|Using LLMs to Train More LLMs</th>\n",
       "      <th>Argentina|Kaggle Learn|Using LLMs to Win Friends and Influence People</th>\n",
       "      <th>Argentina|Kaggle Learn|Using LLMs to Win More Kaggle Competitions</th>\n",
       "      <th>Argentina|Kaggle Learn|Using LLMs to Write Better</th>\n",
       "      <th>...</th>\n",
       "      <th>Spain|Kaggle Learn|Using LLMs to Improve Your Coding</th>\n",
       "      <th>Spain|Kaggle Learn|Using LLMs to Train More LLMs</th>\n",
       "      <th>Spain|Kaggle Learn|Using LLMs to Win Friends and Influence People</th>\n",
       "      <th>Spain|Kaggle Learn|Using LLMs to Win More Kaggle Competitions</th>\n",
       "      <th>Spain|Kaggle Learn|Using LLMs to Write Better</th>\n",
       "      <th>Spain|Kaggle Store|Using LLMs to Improve Your Coding</th>\n",
       "      <th>Spain|Kaggle Store|Using LLMs to Train More LLMs</th>\n",
       "      <th>Spain|Kaggle Store|Using LLMs to Win Friends and Influence People</th>\n",
       "      <th>Spain|Kaggle Store|Using LLMs to Win More Kaggle Competitions</th>\n",
       "      <th>Spain|Kaggle Store|Using LLMs to Write Better</th>\n",
       "    </tr>\n",
       "    <tr>\n",
       "      <th>date</th>\n",
       "      <th></th>\n",
       "      <th></th>\n",
       "      <th></th>\n",
       "      <th></th>\n",
       "      <th></th>\n",
       "      <th></th>\n",
       "      <th></th>\n",
       "      <th></th>\n",
       "      <th></th>\n",
       "      <th></th>\n",
       "      <th></th>\n",
       "      <th></th>\n",
       "      <th></th>\n",
       "      <th></th>\n",
       "      <th></th>\n",
       "      <th></th>\n",
       "      <th></th>\n",
       "      <th></th>\n",
       "      <th></th>\n",
       "      <th></th>\n",
       "      <th></th>\n",
       "    </tr>\n",
       "  </thead>\n",
       "  <tbody>\n",
       "    <tr>\n",
       "      <th>2017-01-01</th>\n",
       "      <td>340</td>\n",
       "      <td>371</td>\n",
       "      <td>53</td>\n",
       "      <td>364</td>\n",
       "      <td>285</td>\n",
       "      <td>63</td>\n",
       "      <td>66</td>\n",
       "      <td>9</td>\n",
       "      <td>59</td>\n",
       "      <td>49</td>\n",
       "      <td>...</td>\n",
       "      <td>122</td>\n",
       "      <td>125</td>\n",
       "      <td>20</td>\n",
       "      <td>106</td>\n",
       "      <td>90</td>\n",
       "      <td>177</td>\n",
       "      <td>198</td>\n",
       "      <td>29</td>\n",
       "      <td>184</td>\n",
       "      <td>139</td>\n",
       "    </tr>\n",
       "    <tr>\n",
       "      <th>2017-01-02</th>\n",
       "      <td>250</td>\n",
       "      <td>273</td>\n",
       "      <td>52</td>\n",
       "      <td>236</td>\n",
       "      <td>206</td>\n",
       "      <td>51</td>\n",
       "      <td>47</td>\n",
       "      <td>7</td>\n",
       "      <td>43</td>\n",
       "      <td>35</td>\n",
       "      <td>...</td>\n",
       "      <td>106</td>\n",
       "      <td>100</td>\n",
       "      <td>13</td>\n",
       "      <td>94</td>\n",
       "      <td>68</td>\n",
       "      <td>145</td>\n",
       "      <td>140</td>\n",
       "      <td>22</td>\n",
       "      <td>125</td>\n",
       "      <td>110</td>\n",
       "    </tr>\n",
       "    <tr>\n",
       "      <th>2017-01-03</th>\n",
       "      <td>267</td>\n",
       "      <td>253</td>\n",
       "      <td>35</td>\n",
       "      <td>252</td>\n",
       "      <td>201</td>\n",
       "      <td>44</td>\n",
       "      <td>45</td>\n",
       "      <td>7</td>\n",
       "      <td>41</td>\n",
       "      <td>37</td>\n",
       "      <td>...</td>\n",
       "      <td>85</td>\n",
       "      <td>90</td>\n",
       "      <td>14</td>\n",
       "      <td>80</td>\n",
       "      <td>60</td>\n",
       "      <td>161</td>\n",
       "      <td>133</td>\n",
       "      <td>20</td>\n",
       "      <td>118</td>\n",
       "      <td>106</td>\n",
       "    </tr>\n",
       "    <tr>\n",
       "      <th>2017-01-04</th>\n",
       "      <td>236</td>\n",
       "      <td>243</td>\n",
       "      <td>34</td>\n",
       "      <td>224</td>\n",
       "      <td>194</td>\n",
       "      <td>44</td>\n",
       "      <td>42</td>\n",
       "      <td>7</td>\n",
       "      <td>40</td>\n",
       "      <td>32</td>\n",
       "      <td>...</td>\n",
       "      <td>79</td>\n",
       "      <td>76</td>\n",
       "      <td>13</td>\n",
       "      <td>69</td>\n",
       "      <td>69</td>\n",
       "      <td>128</td>\n",
       "      <td>121</td>\n",
       "      <td>19</td>\n",
       "      <td>126</td>\n",
       "      <td>99</td>\n",
       "    </tr>\n",
       "    <tr>\n",
       "      <th>2017-01-05</th>\n",
       "      <td>247</td>\n",
       "      <td>231</td>\n",
       "      <td>38</td>\n",
       "      <td>207</td>\n",
       "      <td>179</td>\n",
       "      <td>40</td>\n",
       "      <td>46</td>\n",
       "      <td>6</td>\n",
       "      <td>39</td>\n",
       "      <td>32</td>\n",
       "      <td>...</td>\n",
       "      <td>80</td>\n",
       "      <td>83</td>\n",
       "      <td>12</td>\n",
       "      <td>77</td>\n",
       "      <td>60</td>\n",
       "      <td>122</td>\n",
       "      <td>129</td>\n",
       "      <td>20</td>\n",
       "      <td>118</td>\n",
       "      <td>104</td>\n",
       "    </tr>\n",
       "  </tbody>\n",
       "</table>\n",
       "<p>5 rows × 75 columns</p>\n",
       "</div>"
      ],
      "text/plain": [
       "comb        Argentina|Kagglazon|Using LLMs to Improve Your Coding  \\\n",
       "date                                                                \n",
       "2017-01-01                                                340       \n",
       "2017-01-02                                                250       \n",
       "2017-01-03                                                267       \n",
       "2017-01-04                                                236       \n",
       "2017-01-05                                                247       \n",
       "\n",
       "comb        Argentina|Kagglazon|Using LLMs to Train More LLMs  \\\n",
       "date                                                            \n",
       "2017-01-01                                                371   \n",
       "2017-01-02                                                273   \n",
       "2017-01-03                                                253   \n",
       "2017-01-04                                                243   \n",
       "2017-01-05                                                231   \n",
       "\n",
       "comb        Argentina|Kagglazon|Using LLMs to Win Friends and Influence People  \\\n",
       "date                                                                             \n",
       "2017-01-01                                                 53                    \n",
       "2017-01-02                                                 52                    \n",
       "2017-01-03                                                 35                    \n",
       "2017-01-04                                                 34                    \n",
       "2017-01-05                                                 38                    \n",
       "\n",
       "comb        Argentina|Kagglazon|Using LLMs to Win More Kaggle Competitions  \\\n",
       "date                                                                         \n",
       "2017-01-01                                                364                \n",
       "2017-01-02                                                236                \n",
       "2017-01-03                                                252                \n",
       "2017-01-04                                                224                \n",
       "2017-01-05                                                207                \n",
       "\n",
       "comb        Argentina|Kagglazon|Using LLMs to Write Better  \\\n",
       "date                                                         \n",
       "2017-01-01                                             285   \n",
       "2017-01-02                                             206   \n",
       "2017-01-03                                             201   \n",
       "2017-01-04                                             194   \n",
       "2017-01-05                                             179   \n",
       "\n",
       "comb        Argentina|Kaggle Learn|Using LLMs to Improve Your Coding  \\\n",
       "date                                                                   \n",
       "2017-01-01                                                 63          \n",
       "2017-01-02                                                 51          \n",
       "2017-01-03                                                 44          \n",
       "2017-01-04                                                 44          \n",
       "2017-01-05                                                 40          \n",
       "\n",
       "comb        Argentina|Kaggle Learn|Using LLMs to Train More LLMs  \\\n",
       "date                                                               \n",
       "2017-01-01                                                 66      \n",
       "2017-01-02                                                 47      \n",
       "2017-01-03                                                 45      \n",
       "2017-01-04                                                 42      \n",
       "2017-01-05                                                 46      \n",
       "\n",
       "comb        Argentina|Kaggle Learn|Using LLMs to Win Friends and Influence People  \\\n",
       "date                                                                                \n",
       "2017-01-01                                                  9                       \n",
       "2017-01-02                                                  7                       \n",
       "2017-01-03                                                  7                       \n",
       "2017-01-04                                                  7                       \n",
       "2017-01-05                                                  6                       \n",
       "\n",
       "comb        Argentina|Kaggle Learn|Using LLMs to Win More Kaggle Competitions  \\\n",
       "date                                                                            \n",
       "2017-01-01                                                 59                   \n",
       "2017-01-02                                                 43                   \n",
       "2017-01-03                                                 41                   \n",
       "2017-01-04                                                 40                   \n",
       "2017-01-05                                                 39                   \n",
       "\n",
       "comb        Argentina|Kaggle Learn|Using LLMs to Write Better  ...  \\\n",
       "date                                                           ...   \n",
       "2017-01-01                                                 49  ...   \n",
       "2017-01-02                                                 35  ...   \n",
       "2017-01-03                                                 37  ...   \n",
       "2017-01-04                                                 32  ...   \n",
       "2017-01-05                                                 32  ...   \n",
       "\n",
       "comb        Spain|Kaggle Learn|Using LLMs to Improve Your Coding  \\\n",
       "date                                                               \n",
       "2017-01-01                                                122      \n",
       "2017-01-02                                                106      \n",
       "2017-01-03                                                 85      \n",
       "2017-01-04                                                 79      \n",
       "2017-01-05                                                 80      \n",
       "\n",
       "comb        Spain|Kaggle Learn|Using LLMs to Train More LLMs  \\\n",
       "date                                                           \n",
       "2017-01-01                                               125   \n",
       "2017-01-02                                               100   \n",
       "2017-01-03                                                90   \n",
       "2017-01-04                                                76   \n",
       "2017-01-05                                                83   \n",
       "\n",
       "comb        Spain|Kaggle Learn|Using LLMs to Win Friends and Influence People  \\\n",
       "date                                                                            \n",
       "2017-01-01                                                 20                   \n",
       "2017-01-02                                                 13                   \n",
       "2017-01-03                                                 14                   \n",
       "2017-01-04                                                 13                   \n",
       "2017-01-05                                                 12                   \n",
       "\n",
       "comb        Spain|Kaggle Learn|Using LLMs to Win More Kaggle Competitions  \\\n",
       "date                                                                        \n",
       "2017-01-01                                                106               \n",
       "2017-01-02                                                 94               \n",
       "2017-01-03                                                 80               \n",
       "2017-01-04                                                 69               \n",
       "2017-01-05                                                 77               \n",
       "\n",
       "comb        Spain|Kaggle Learn|Using LLMs to Write Better  \\\n",
       "date                                                        \n",
       "2017-01-01                                             90   \n",
       "2017-01-02                                             68   \n",
       "2017-01-03                                             60   \n",
       "2017-01-04                                             69   \n",
       "2017-01-05                                             60   \n",
       "\n",
       "comb        Spain|Kaggle Store|Using LLMs to Improve Your Coding  \\\n",
       "date                                                               \n",
       "2017-01-01                                                177      \n",
       "2017-01-02                                                145      \n",
       "2017-01-03                                                161      \n",
       "2017-01-04                                                128      \n",
       "2017-01-05                                                122      \n",
       "\n",
       "comb        Spain|Kaggle Store|Using LLMs to Train More LLMs  \\\n",
       "date                                                           \n",
       "2017-01-01                                               198   \n",
       "2017-01-02                                               140   \n",
       "2017-01-03                                               133   \n",
       "2017-01-04                                               121   \n",
       "2017-01-05                                               129   \n",
       "\n",
       "comb        Spain|Kaggle Store|Using LLMs to Win Friends and Influence People  \\\n",
       "date                                                                            \n",
       "2017-01-01                                                 29                   \n",
       "2017-01-02                                                 22                   \n",
       "2017-01-03                                                 20                   \n",
       "2017-01-04                                                 19                   \n",
       "2017-01-05                                                 20                   \n",
       "\n",
       "comb        Spain|Kaggle Store|Using LLMs to Win More Kaggle Competitions  \\\n",
       "date                                                                        \n",
       "2017-01-01                                                184               \n",
       "2017-01-02                                                125               \n",
       "2017-01-03                                                118               \n",
       "2017-01-04                                                126               \n",
       "2017-01-05                                                118               \n",
       "\n",
       "comb        Spain|Kaggle Store|Using LLMs to Write Better  \n",
       "date                                                       \n",
       "2017-01-01                                            139  \n",
       "2017-01-02                                            110  \n",
       "2017-01-03                                            106  \n",
       "2017-01-04                                             99  \n",
       "2017-01-05                                            104  \n",
       "\n",
       "[5 rows x 75 columns]"
      ]
     },
     "execution_count": 24,
     "metadata": {},
     "output_type": "execute_result"
    }
   ],
   "source": [
    "cats = ['country', 'store', 'product']\n",
    "temp = train_df.copy()\n",
    "temp['comb'] = temp[cats].apply(lambda x: '|'.join(list(x)), \n",
    "                                axis=1)\n",
    "temp = temp.pivot(index='date', \n",
    "                  columns='comb',\n",
    "                  values='num_sold')\n",
    "temp.head()"
   ]
  },
  {
   "cell_type": "code",
   "execution_count": 25,
   "id": "c1d5d78f",
   "metadata": {
    "ExecuteTime": {
     "end_time": "2023-07-25T09:27:11.226069Z",
     "start_time": "2023-07-25T09:27:07.282006Z"
    }
   },
   "outputs": [
    {
     "data": {
      "image/png": "[encoded data removed]",
      "text/plain": [
       "<Figure size 1200x800 with 1 Axes>"
      ]
     },
     "metadata": {},
     "output_type": "display_data"
    }
   ],
   "source": [
    "figsize(12, 8)\n",
    "\n",
    "fig, ax = plt.subplots(1, 1)\n",
    "\n",
    "for col in temp.columns:\n",
    "    if col.startswith('Argentina|Kagglazon'):\n",
    "        sns.lineplot(temp.index,\n",
    "                     temp[col],\n",
    "                     label=col)\n",
    "plt.legend()\n",
    "\n",
    "xticklabels = [x.get_text() for x in ax.get_xticklabels()]\n",
    "xticks = []\n",
    "xlabels = []\n",
    "for i, label in enumerate(xticklabels, 0):\n",
    "    if label.endswith('-01'):\n",
    "        xlabels.append(label)\n",
    "        xticks.append(i)\n",
    "        \n",
    "_ = ax.set_xticks(xticks, xlabels, rotation=90)"
   ]
  },
  {
   "cell_type": "code",
   "execution_count": 26,
   "id": "e3b09a01",
   "metadata": {
    "ExecuteTime": {
     "end_time": "2023-07-25T09:27:15.399300Z",
     "start_time": "2023-07-25T09:27:11.229285Z"
    }
   },
   "outputs": [
    {
     "data": {
      "image/png": "[encoded data removed]",
      "text/plain": [
       "<Figure size 1200x800 with 1 Axes>"
      ]
     },
     "metadata": {},
     "output_type": "display_data"
    }
   ],
   "source": [
    "figsize(12, 8)\n",
    "\n",
    "fig, ax = plt.subplots(1, 1)\n",
    "\n",
    "for col in temp.columns:\n",
    "    if col.startswith('Canada|Kagglazon'):\n",
    "        sns.lineplot(temp.index,\n",
    "                     temp[col],\n",
    "                     label=col)\n",
    "plt.legend()\n",
    "\n",
    "xticklabels = [x.get_text() for x in ax.get_xticklabels()]\n",
    "xticks = []\n",
    "xlabels = []\n",
    "for i, label in enumerate(xticklabels, 0):\n",
    "    if label.endswith('-01'):\n",
    "        xlabels.append(label)\n",
    "        xticks.append(i)\n",
    "        \n",
    "_ = ax.set_xticks(xticks, xlabels, rotation=90)"
   ]
  },
  {
   "cell_type": "markdown",
   "id": "fa899ecf",
   "metadata": {},
   "source": [
    "## Modeling"
   ]
  },
  {
   "cell_type": "code",
   "execution_count": 27,
   "id": "84c0c8e3",
   "metadata": {
    "ExecuteTime": {
     "end_time": "2023-07-25T09:27:16.481156Z",
     "start_time": "2023-07-25T09:27:15.402649Z"
    }
   },
   "outputs": [],
   "source": [
    "train_df['comb'] = train_df[cats].apply(lambda x: '|'.join(list(x)), \n",
    "                                        axis=1)"
   ]
  },
  {
   "cell_type": "code",
   "execution_count": 28,
   "id": "e2810ce4",
   "metadata": {
    "ExecuteTime": {
     "end_time": "2023-07-25T09:27:16.495193Z",
     "start_time": "2023-07-25T09:27:16.483515Z"
    }
   },
   "outputs": [],
   "source": [
    "train_df['y'] = train_df['num_sold']\n",
    "train_df['ds'] = train_df['date']"
   ]
  },
  {
   "cell_type": "code",
   "execution_count": 29,
   "id": "b49d7b72",
   "metadata": {
    "ExecuteTime": {
     "end_time": "2023-07-25T09:27:16.535151Z",
     "start_time": "2023-07-25T09:27:16.497934Z"
    }
   },
   "outputs": [
    {
     "data": {
      "text/plain": [
       "75"
      ]
     },
     "execution_count": 29,
     "metadata": {},
     "output_type": "execute_result"
    }
   ],
   "source": [
    "groups_by_comb = train_df.groupby('comb')\n",
    "len(groups_by_comb.groups.keys())"
   ]
  },
  {
   "cell_type": "markdown",
   "id": "34acbc39",
   "metadata": {},
   "source": [
    "### Define Function"
   ]
  },
  {
   "cell_type": "code",
   "execution_count": 47,
   "id": "61c45555",
   "metadata": {
    "ExecuteTime": {
     "end_time": "2023-07-25T09:33:04.768069Z",
     "start_time": "2023-07-25T09:33:04.762463Z"
    }
   },
   "outputs": [],
   "source": [
    "def train_and_forecast(group, country, \n",
    "                       country_holiday_dict=country_holiday_dict):\n",
    "    # Train\n",
    "    m = Prophet(yearly_seasonality=True,\n",
    "                weekly_seasonality=True,\n",
    "                holidays=country_holiday_dict[country])\n",
    "    m.add_regressor('gdp_per_capita', standardize=False)\n",
    "    m.fit(group)\n",
    "    \n",
    "    # Predict\n",
    "    future = m.make_future_dataframe(periods=365)\n",
    "    future = future.merge(group[['ds', 'gdp_per_capita']],\n",
    "                          on='ds',\n",
    "                          how='left')\n",
    "    future = future.fillna(method='ffill')\n",
    "    \n",
    "    forecast = m.predict(future)\n",
    "    forecast['comb'] = group['comb'].iloc[0]\n",
    "    \n",
    "    # Return \n",
    "    return m, forecast"
   ]
  },
  {
   "cell_type": "code",
   "execution_count": 56,
   "id": "164c0068",
   "metadata": {
    "ExecuteTime": {
     "end_time": "2023-07-25T09:44:02.146640Z",
     "start_time": "2023-07-25T09:35:27.779196Z"
    }
   },
   "outputs": [
    {
     "name": "stderr",
     "output_type": "stream",
     "text": [
      "10:35:27 - cmdstanpy - INFO - Chain [1] start processing\n",
      "10:35:28 - cmdstanpy - INFO - Chain [1] done processing\n",
      "10:35:28 - cmdstanpy - INFO - Chain [1] start processing\n",
      "10:35:29 - cmdstanpy - INFO - Chain [1] done processing\n",
      "10:35:29 - cmdstanpy - INFO - Chain [1] start processing\n",
      "10:35:29 - cmdstanpy - INFO - Chain [1] done processing\n",
      "10:35:30 - cmdstanpy - INFO - Chain [1] start processing\n",
      "10:35:30 - cmdstanpy - INFO - Chain [1] done processing\n",
      "10:35:31 - cmdstanpy - INFO - Chain [1] start processing\n",
      "10:35:31 - cmdstanpy - INFO - Chain [1] done processing\n",
      "10:35:32 - cmdstanpy - INFO - Chain [1] start processing\n",
      "10:35:32 - cmdstanpy - INFO - Chain [1] done processing\n",
      "10:35:33 - cmdstanpy - INFO - Chain [1] start processing\n",
      "10:35:33 - cmdstanpy - INFO - Chain [1] done processing\n",
      "10:35:34 - cmdstanpy - INFO - Chain [1] start processing\n",
      "10:35:34 - cmdstanpy - INFO - Chain [1] done processing\n",
      "10:35:35 - cmdstanpy - INFO - Chain [1] start processing\n",
      "10:35:35 - cmdstanpy - INFO - Chain [1] done processing\n",
      "10:35:36 - cmdstanpy - INFO - Chain [1] start processing\n",
      "10:35:36 - cmdstanpy - INFO - Chain [1] done processing\n",
      "10:35:36 - cmdstanpy - INFO - Chain [1] start processing\n",
      "10:35:37 - cmdstanpy - INFO - Chain [1] done processing\n",
      "10:35:37 - cmdstanpy - INFO - Chain [1] start processing\n",
      "10:35:37 - cmdstanpy - INFO - Chain [1] done processing\n",
      "10:35:38 - cmdstanpy - INFO - Chain [1] start processing\n",
      "10:35:38 - cmdstanpy - INFO - Chain [1] done processing\n",
      "10:35:39 - cmdstanpy - INFO - Chain [1] start processing\n",
      "10:35:39 - cmdstanpy - INFO - Chain [1] done processing\n",
      "10:35:40 - cmdstanpy - INFO - Chain [1] start processing\n",
      "10:35:40 - cmdstanpy - INFO - Chain [1] done processing\n",
      "10:35:41 - cmdstanpy - INFO - Chain [1] start processing\n",
      "10:35:41 - cmdstanpy - INFO - Chain [1] done processing\n",
      "10:35:41 - cmdstanpy - ERROR - Chain [1] error: error during processing Operation not permitted\n",
      "Optimization terminated abnormally. Falling back to Newton.\n",
      "10:35:41 - cmdstanpy - INFO - Chain [1] start processing\n",
      "10:35:54 - cmdstanpy - INFO - Chain [1] done processing\n",
      "10:35:55 - cmdstanpy - INFO - Chain [1] start processing\n",
      "10:35:55 - cmdstanpy - INFO - Chain [1] done processing\n",
      "10:35:55 - cmdstanpy - ERROR - Chain [1] error: error during processing Operation not permitted\n",
      "Optimization terminated abnormally. Falling back to Newton.\n",
      "10:35:55 - cmdstanpy - INFO - Chain [1] start processing\n",
      "10:36:10 - cmdstanpy - INFO - Chain [1] done processing\n",
      "10:36:11 - cmdstanpy - INFO - Chain [1] start processing\n",
      "10:36:11 - cmdstanpy - INFO - Chain [1] done processing\n",
      "10:36:11 - cmdstanpy - ERROR - Chain [1] error: error during processing Operation not permitted\n",
      "Optimization terminated abnormally. Falling back to Newton.\n",
      "10:36:11 - cmdstanpy - INFO - Chain [1] start processing\n",
      "10:36:28 - cmdstanpy - INFO - Chain [1] done processing\n",
      "10:36:29 - cmdstanpy - INFO - Chain [1] start processing\n",
      "10:36:29 - cmdstanpy - INFO - Chain [1] done processing\n",
      "10:36:29 - cmdstanpy - ERROR - Chain [1] error: error during processing Operation not permitted\n",
      "Optimization terminated abnormally. Falling back to Newton.\n",
      "10:36:29 - cmdstanpy - INFO - Chain [1] start processing\n",
      "10:36:47 - cmdstanpy - INFO - Chain [1] done processing\n",
      "10:36:48 - cmdstanpy - INFO - Chain [1] start processing\n",
      "10:36:48 - cmdstanpy - INFO - Chain [1] done processing\n",
      "10:36:48 - cmdstanpy - ERROR - Chain [1] error: error during processing Operation not permitted\n",
      "Optimization terminated abnormally. Falling back to Newton.\n",
      "10:36:48 - cmdstanpy - INFO - Chain [1] start processing\n",
      "10:37:01 - cmdstanpy - INFO - Chain [1] done processing\n",
      "10:37:02 - cmdstanpy - INFO - Chain [1] start processing\n",
      "10:37:02 - cmdstanpy - INFO - Chain [1] done processing\n",
      "10:37:02 - cmdstanpy - ERROR - Chain [1] error: error during processing Operation not permitted\n",
      "Optimization terminated abnormally. Falling back to Newton.\n",
      "10:37:02 - cmdstanpy - INFO - Chain [1] start processing\n",
      "10:37:16 - cmdstanpy - INFO - Chain [1] done processing\n",
      "10:37:16 - cmdstanpy - INFO - Chain [1] start processing\n",
      "10:37:17 - cmdstanpy - INFO - Chain [1] done processing\n",
      "10:37:17 - cmdstanpy - ERROR - Chain [1] error: error during processing Operation not permitted\n",
      "Optimization terminated abnormally. Falling back to Newton.\n",
      "10:37:17 - cmdstanpy - INFO - Chain [1] start processing\n",
      "10:37:27 - cmdstanpy - INFO - Chain [1] done processing\n",
      "10:37:28 - cmdstanpy - INFO - Chain [1] start processing\n",
      "10:37:28 - cmdstanpy - INFO - Chain [1] done processing\n",
      "10:37:28 - cmdstanpy - ERROR - Chain [1] error: error during processing Operation not permitted\n",
      "Optimization terminated abnormally. Falling back to Newton.\n",
      "10:37:28 - cmdstanpy - INFO - Chain [1] start processing\n",
      "10:37:51 - cmdstanpy - INFO - Chain [1] done processing\n",
      "10:37:52 - cmdstanpy - INFO - Chain [1] start processing\n",
      "10:37:52 - cmdstanpy - INFO - Chain [1] done processing\n",
      "10:37:52 - cmdstanpy - ERROR - Chain [1] error: error during processing Operation not permitted\n",
      "Optimization terminated abnormally. Falling back to Newton.\n",
      "10:37:52 - cmdstanpy - INFO - Chain [1] start processing\n",
      "10:38:10 - cmdstanpy - INFO - Chain [1] done processing\n",
      "10:38:11 - cmdstanpy - INFO - Chain [1] start processing\n",
      "10:38:11 - cmdstanpy - INFO - Chain [1] done processing\n",
      "10:38:11 - cmdstanpy - ERROR - Chain [1] error: error during processing Operation not permitted\n",
      "Optimization terminated abnormally. Falling back to Newton.\n",
      "10:38:11 - cmdstanpy - INFO - Chain [1] start processing\n",
      "10:38:22 - cmdstanpy - INFO - Chain [1] done processing\n",
      "10:38:23 - cmdstanpy - INFO - Chain [1] start processing\n",
      "10:38:23 - cmdstanpy - INFO - Chain [1] done processing\n",
      "10:38:23 - cmdstanpy - ERROR - Chain [1] error: error during processing Operation not permitted\n",
      "Optimization terminated abnormally. Falling back to Newton.\n",
      "10:38:23 - cmdstanpy - INFO - Chain [1] start processing\n",
      "10:38:42 - cmdstanpy - INFO - Chain [1] done processing\n",
      "10:38:43 - cmdstanpy - INFO - Chain [1] start processing\n",
      "10:38:43 - cmdstanpy - INFO - Chain [1] done processing\n",
      "10:38:43 - cmdstanpy - ERROR - Chain [1] error: error during processing Operation not permitted\n",
      "Optimization terminated abnormally. Falling back to Newton.\n",
      "10:38:43 - cmdstanpy - INFO - Chain [1] start processing\n",
      "10:39:00 - cmdstanpy - INFO - Chain [1] done processing\n",
      "10:39:00 - cmdstanpy - INFO - Chain [1] start processing\n",
      "10:39:00 - cmdstanpy - INFO - Chain [1] done processing\n",
      "10:39:00 - cmdstanpy - ERROR - Chain [1] error: error during processing Operation not permitted\n",
      "Optimization terminated abnormally. Falling back to Newton.\n",
      "10:39:01 - cmdstanpy - INFO - Chain [1] start processing\n",
      "10:39:12 - cmdstanpy - INFO - Chain [1] done processing\n",
      "10:39:13 - cmdstanpy - INFO - Chain [1] start processing\n",
      "10:39:13 - cmdstanpy - INFO - Chain [1] done processing\n",
      "10:39:13 - cmdstanpy - ERROR - Chain [1] error: error during processing Operation not permitted\n",
      "Optimization terminated abnormally. Falling back to Newton.\n",
      "10:39:13 - cmdstanpy - INFO - Chain [1] start processing\n",
      "10:39:25 - cmdstanpy - INFO - Chain [1] done processing\n",
      "10:39:26 - cmdstanpy - INFO - Chain [1] start processing\n",
      "10:39:26 - cmdstanpy - INFO - Chain [1] done processing\n",
      "10:39:26 - cmdstanpy - ERROR - Chain [1] error: error during processing Operation not permitted\n",
      "Optimization terminated abnormally. Falling back to Newton.\n",
      "10:39:26 - cmdstanpy - INFO - Chain [1] start processing\n",
      "10:39:41 - cmdstanpy - INFO - Chain [1] done processing\n",
      "10:39:42 - cmdstanpy - INFO - Chain [1] start processing\n",
      "10:39:42 - cmdstanpy - INFO - Chain [1] done processing\n",
      "10:39:42 - cmdstanpy - INFO - Chain [1] start processing\n",
      "10:39:42 - cmdstanpy - INFO - Chain [1] done processing\n",
      "10:39:43 - cmdstanpy - INFO - Chain [1] start processing\n",
      "10:39:43 - cmdstanpy - INFO - Chain [1] done processing\n",
      "10:39:44 - cmdstanpy - INFO - Chain [1] start processing\n",
      "10:39:44 - cmdstanpy - INFO - Chain [1] done processing\n",
      "10:39:45 - cmdstanpy - INFO - Chain [1] start processing\n",
      "10:39:45 - cmdstanpy - INFO - Chain [1] done processing\n",
      "10:39:46 - cmdstanpy - INFO - Chain [1] start processing\n",
      "10:39:46 - cmdstanpy - INFO - Chain [1] done processing\n",
      "10:39:47 - cmdstanpy - INFO - Chain [1] start processing\n",
      "10:39:47 - cmdstanpy - INFO - Chain [1] done processing\n"
     ]
    },
    {
     "name": "stderr",
     "output_type": "stream",
     "text": [
      "10:39:47 - cmdstanpy - INFO - Chain [1] start processing\n",
      "10:39:48 - cmdstanpy - INFO - Chain [1] done processing\n",
      "10:39:48 - cmdstanpy - INFO - Chain [1] start processing\n",
      "10:39:48 - cmdstanpy - INFO - Chain [1] done processing\n",
      "10:39:49 - cmdstanpy - INFO - Chain [1] start processing\n",
      "10:39:49 - cmdstanpy - INFO - Chain [1] done processing\n",
      "10:39:50 - cmdstanpy - INFO - Chain [1] start processing\n",
      "10:39:50 - cmdstanpy - INFO - Chain [1] done processing\n",
      "10:39:51 - cmdstanpy - INFO - Chain [1] start processing\n",
      "10:39:51 - cmdstanpy - INFO - Chain [1] done processing\n",
      "10:39:52 - cmdstanpy - INFO - Chain [1] start processing\n",
      "10:39:52 - cmdstanpy - INFO - Chain [1] done processing\n",
      "10:39:53 - cmdstanpy - INFO - Chain [1] start processing\n",
      "10:39:53 - cmdstanpy - INFO - Chain [1] done processing\n",
      "10:39:53 - cmdstanpy - INFO - Chain [1] start processing\n",
      "10:39:53 - cmdstanpy - INFO - Chain [1] done processing\n",
      "10:39:54 - cmdstanpy - INFO - Chain [1] start processing\n",
      "10:39:54 - cmdstanpy - INFO - Chain [1] done processing\n",
      "10:39:54 - cmdstanpy - ERROR - Chain [1] error: error during processing Operation not permitted\n",
      "Optimization terminated abnormally. Falling back to Newton.\n",
      "10:39:54 - cmdstanpy - INFO - Chain [1] start processing\n",
      "10:40:09 - cmdstanpy - INFO - Chain [1] done processing\n",
      "10:40:10 - cmdstanpy - INFO - Chain [1] start processing\n",
      "10:40:10 - cmdstanpy - INFO - Chain [1] done processing\n",
      "10:40:10 - cmdstanpy - ERROR - Chain [1] error: error during processing Operation not permitted\n",
      "Optimization terminated abnormally. Falling back to Newton.\n",
      "10:40:10 - cmdstanpy - INFO - Chain [1] start processing\n",
      "10:40:20 - cmdstanpy - INFO - Chain [1] done processing\n",
      "10:40:21 - cmdstanpy - INFO - Chain [1] start processing\n",
      "10:40:21 - cmdstanpy - INFO - Chain [1] done processing\n",
      "10:40:21 - cmdstanpy - ERROR - Chain [1] error: error during processing Operation not permitted\n",
      "Optimization terminated abnormally. Falling back to Newton.\n",
      "10:40:21 - cmdstanpy - INFO - Chain [1] start processing\n",
      "10:40:33 - cmdstanpy - INFO - Chain [1] done processing\n",
      "10:40:34 - cmdstanpy - INFO - Chain [1] start processing\n",
      "10:40:34 - cmdstanpy - INFO - Chain [1] done processing\n",
      "10:40:34 - cmdstanpy - ERROR - Chain [1] error: error during processing Operation not permitted\n",
      "Optimization terminated abnormally. Falling back to Newton.\n",
      "10:40:34 - cmdstanpy - INFO - Chain [1] start processing\n",
      "10:40:46 - cmdstanpy - INFO - Chain [1] done processing\n",
      "10:40:47 - cmdstanpy - INFO - Chain [1] start processing\n",
      "10:40:47 - cmdstanpy - INFO - Chain [1] done processing\n",
      "10:40:47 - cmdstanpy - ERROR - Chain [1] error: error during processing Operation not permitted\n",
      "Optimization terminated abnormally. Falling back to Newton.\n",
      "10:40:48 - cmdstanpy - INFO - Chain [1] start processing\n",
      "10:41:03 - cmdstanpy - INFO - Chain [1] done processing\n",
      "10:41:04 - cmdstanpy - INFO - Chain [1] start processing\n",
      "10:41:04 - cmdstanpy - INFO - Chain [1] done processing\n",
      "10:41:04 - cmdstanpy - ERROR - Chain [1] error: error during processing Operation not permitted\n",
      "Optimization terminated abnormally. Falling back to Newton.\n",
      "10:41:04 - cmdstanpy - INFO - Chain [1] start processing\n",
      "10:41:15 - cmdstanpy - INFO - Chain [1] done processing\n",
      "10:41:16 - cmdstanpy - INFO - Chain [1] start processing\n",
      "10:41:16 - cmdstanpy - INFO - Chain [1] done processing\n",
      "10:41:16 - cmdstanpy - ERROR - Chain [1] error: error during processing Operation not permitted\n",
      "Optimization terminated abnormally. Falling back to Newton.\n",
      "10:41:16 - cmdstanpy - INFO - Chain [1] start processing\n",
      "10:41:27 - cmdstanpy - INFO - Chain [1] done processing\n",
      "10:41:28 - cmdstanpy - INFO - Chain [1] start processing\n",
      "10:41:28 - cmdstanpy - INFO - Chain [1] done processing\n",
      "10:41:28 - cmdstanpy - ERROR - Chain [1] error: error during processing Operation not permitted\n",
      "Optimization terminated abnormally. Falling back to Newton.\n",
      "10:41:28 - cmdstanpy - INFO - Chain [1] start processing\n",
      "10:41:38 - cmdstanpy - INFO - Chain [1] done processing\n",
      "10:41:39 - cmdstanpy - INFO - Chain [1] start processing\n",
      "10:41:39 - cmdstanpy - INFO - Chain [1] done processing\n",
      "10:41:39 - cmdstanpy - ERROR - Chain [1] error: error during processing Operation not permitted\n",
      "Optimization terminated abnormally. Falling back to Newton.\n",
      "10:41:39 - cmdstanpy - INFO - Chain [1] start processing\n",
      "10:42:04 - cmdstanpy - INFO - Chain [1] done processing\n",
      "10:42:05 - cmdstanpy - INFO - Chain [1] start processing\n",
      "10:42:05 - cmdstanpy - INFO - Chain [1] done processing\n",
      "10:42:05 - cmdstanpy - ERROR - Chain [1] error: error during processing Operation not permitted\n",
      "Optimization terminated abnormally. Falling back to Newton.\n",
      "10:42:05 - cmdstanpy - INFO - Chain [1] start processing\n",
      "10:42:20 - cmdstanpy - INFO - Chain [1] done processing\n",
      "10:42:21 - cmdstanpy - INFO - Chain [1] start processing\n",
      "10:42:21 - cmdstanpy - INFO - Chain [1] done processing\n",
      "10:42:21 - cmdstanpy - ERROR - Chain [1] error: error during processing Operation not permitted\n",
      "Optimization terminated abnormally. Falling back to Newton.\n",
      "10:42:21 - cmdstanpy - INFO - Chain [1] start processing\n",
      "10:42:34 - cmdstanpy - INFO - Chain [1] done processing\n",
      "10:42:35 - cmdstanpy - INFO - Chain [1] start processing\n",
      "10:42:35 - cmdstanpy - INFO - Chain [1] done processing\n",
      "10:42:35 - cmdstanpy - ERROR - Chain [1] error: error during processing Operation not permitted\n",
      "Optimization terminated abnormally. Falling back to Newton.\n",
      "10:42:35 - cmdstanpy - INFO - Chain [1] start processing\n",
      "10:42:46 - cmdstanpy - INFO - Chain [1] done processing\n",
      "10:42:47 - cmdstanpy - INFO - Chain [1] start processing\n",
      "10:42:47 - cmdstanpy - INFO - Chain [1] done processing\n",
      "10:42:47 - cmdstanpy - ERROR - Chain [1] error: error during processing Operation not permitted\n",
      "Optimization terminated abnormally. Falling back to Newton.\n",
      "10:42:48 - cmdstanpy - INFO - Chain [1] start processing\n",
      "10:43:03 - cmdstanpy - INFO - Chain [1] done processing\n",
      "10:43:04 - cmdstanpy - INFO - Chain [1] start processing\n",
      "10:43:04 - cmdstanpy - INFO - Chain [1] done processing\n",
      "10:43:04 - cmdstanpy - ERROR - Chain [1] error: error during processing Operation not permitted\n",
      "Optimization terminated abnormally. Falling back to Newton.\n",
      "10:43:04 - cmdstanpy - INFO - Chain [1] start processing\n",
      "10:43:29 - cmdstanpy - INFO - Chain [1] done processing\n",
      "10:43:30 - cmdstanpy - INFO - Chain [1] start processing\n",
      "10:43:30 - cmdstanpy - INFO - Chain [1] done processing\n",
      "10:43:30 - cmdstanpy - ERROR - Chain [1] error: error during processing Operation not permitted\n",
      "Optimization terminated abnormally. Falling back to Newton.\n",
      "10:43:30 - cmdstanpy - INFO - Chain [1] start processing\n",
      "10:43:46 - cmdstanpy - INFO - Chain [1] done processing\n",
      "10:43:48 - cmdstanpy - INFO - Chain [1] start processing\n",
      "10:43:48 - cmdstanpy - INFO - Chain [1] done processing\n",
      "10:43:48 - cmdstanpy - INFO - Chain [1] start processing\n",
      "10:43:49 - cmdstanpy - INFO - Chain [1] done processing\n",
      "10:43:49 - cmdstanpy - INFO - Chain [1] start processing\n",
      "10:43:49 - cmdstanpy - INFO - Chain [1] done processing\n",
      "10:43:50 - cmdstanpy - INFO - Chain [1] start processing\n",
      "10:43:50 - cmdstanpy - INFO - Chain [1] done processing\n",
      "10:43:51 - cmdstanpy - INFO - Chain [1] start processing\n",
      "10:43:51 - cmdstanpy - INFO - Chain [1] done processing\n",
      "10:43:52 - cmdstanpy - INFO - Chain [1] start processing\n",
      "10:43:52 - cmdstanpy - INFO - Chain [1] done processing\n",
      "10:43:53 - cmdstanpy - INFO - Chain [1] start processing\n",
      "10:43:53 - cmdstanpy - INFO - Chain [1] done processing\n",
      "10:43:54 - cmdstanpy - INFO - Chain [1] start processing\n",
      "10:43:54 - cmdstanpy - INFO - Chain [1] done processing\n",
      "10:43:55 - cmdstanpy - INFO - Chain [1] start processing\n",
      "10:43:55 - cmdstanpy - INFO - Chain [1] done processing\n",
      "10:43:56 - cmdstanpy - INFO - Chain [1] start processing\n",
      "10:43:56 - cmdstanpy - INFO - Chain [1] done processing\n",
      "10:43:57 - cmdstanpy - INFO - Chain [1] start processing\n",
      "10:43:57 - cmdstanpy - INFO - Chain [1] done processing\n",
      "10:43:58 - cmdstanpy - INFO - Chain [1] start processing\n",
      "10:43:58 - cmdstanpy - INFO - Chain [1] done processing\n",
      "10:43:59 - cmdstanpy - INFO - Chain [1] start processing\n",
      "10:43:59 - cmdstanpy - INFO - Chain [1] done processing\n",
      "10:44:00 - cmdstanpy - INFO - Chain [1] start processing\n",
      "10:44:00 - cmdstanpy - INFO - Chain [1] done processing\n"
     ]
    },
    {
     "name": "stderr",
     "output_type": "stream",
     "text": [
      "10:44:01 - cmdstanpy - INFO - Chain [1] start processing\n",
      "10:44:01 - cmdstanpy - INFO - Chain [1] done processing\n"
     ]
    },
    {
     "data": {
      "text/html": [
       "<div>\n",
       "<style scoped>\n",
       "    .dataframe tbody tr th:only-of-type {\n",
       "        vertical-align: middle;\n",
       "    }\n",
       "\n",
       "    .dataframe tbody tr th {\n",
       "        vertical-align: top;\n",
       "    }\n",
       "\n",
       "    .dataframe thead th {\n",
       "        text-align: right;\n",
       "    }\n",
       "</style>\n",
       "<table border=\"1\" class=\"dataframe\">\n",
       "  <thead>\n",
       "    <tr style=\"text-align: right;\">\n",
       "      <th></th>\n",
       "      <th>ds</th>\n",
       "      <th>comb</th>\n",
       "      <th>yhat</th>\n",
       "      <th>yhat_upper</th>\n",
       "      <th>yhat_lower</th>\n",
       "    </tr>\n",
       "  </thead>\n",
       "  <tbody>\n",
       "    <tr>\n",
       "      <th>0</th>\n",
       "      <td>2017-01-01</td>\n",
       "      <td>Argentina|Kaggle Learn|Using LLMs to Improve Y...</td>\n",
       "      <td>50.531397</td>\n",
       "      <td>55.035177</td>\n",
       "      <td>46.061910</td>\n",
       "    </tr>\n",
       "    <tr>\n",
       "      <th>1</th>\n",
       "      <td>2017-01-02</td>\n",
       "      <td>Argentina|Kaggle Learn|Using LLMs to Improve Y...</td>\n",
       "      <td>45.511217</td>\n",
       "      <td>49.823391</td>\n",
       "      <td>40.894889</td>\n",
       "    </tr>\n",
       "    <tr>\n",
       "      <th>2</th>\n",
       "      <td>2017-01-03</td>\n",
       "      <td>Argentina|Kaggle Learn|Using LLMs to Improve Y...</td>\n",
       "      <td>45.050306</td>\n",
       "      <td>49.800722</td>\n",
       "      <td>40.554332</td>\n",
       "    </tr>\n",
       "    <tr>\n",
       "      <th>3</th>\n",
       "      <td>2017-01-04</td>\n",
       "      <td>Argentina|Kaggle Learn|Using LLMs to Improve Y...</td>\n",
       "      <td>44.882942</td>\n",
       "      <td>49.689578</td>\n",
       "      <td>40.298722</td>\n",
       "    </tr>\n",
       "    <tr>\n",
       "      <th>4</th>\n",
       "      <td>2017-01-05</td>\n",
       "      <td>Argentina|Kaggle Learn|Using LLMs to Improve Y...</td>\n",
       "      <td>44.701125</td>\n",
       "      <td>49.443226</td>\n",
       "      <td>40.328770</td>\n",
       "    </tr>\n",
       "  </tbody>\n",
       "</table>\n",
       "</div>"
      ],
      "text/plain": [
       "          ds                                               comb       yhat  \\\n",
       "0 2017-01-01  Argentina|Kaggle Learn|Using LLMs to Improve Y...  50.531397   \n",
       "1 2017-01-02  Argentina|Kaggle Learn|Using LLMs to Improve Y...  45.511217   \n",
       "2 2017-01-03  Argentina|Kaggle Learn|Using LLMs to Improve Y...  45.050306   \n",
       "3 2017-01-04  Argentina|Kaggle Learn|Using LLMs to Improve Y...  44.882942   \n",
       "4 2017-01-05  Argentina|Kaggle Learn|Using LLMs to Improve Y...  44.701125   \n",
       "\n",
       "   yhat_upper  yhat_lower  \n",
       "0   55.035177   46.061910  \n",
       "1   49.823391   40.894889  \n",
       "2   49.800722   40.554332  \n",
       "3   49.689578   40.298722  \n",
       "4   49.443226   40.328770  "
      ]
     },
     "execution_count": 56,
     "metadata": {},
     "output_type": "execute_result"
    }
   ],
   "source": [
    "preds = pd.DataFrame()\n",
    "forecasts = []\n",
    "models = []\n",
    "\n",
    "for comb in train_df.comb.unique():\n",
    "    country = comb.split('|')[0]\n",
    "    group = groups_by_comb.get_group(comb)\n",
    "    group['ds'] = pd.to_datetime(group['ds'])\n",
    "    m, forecast = train_and_forecast(group, country)\n",
    "    preds = pd.concat((preds, forecast[['ds', 'comb', 'yhat', 'yhat_upper', 'yhat_lower']]))\n",
    "    models.append(m)\n",
    "    forecasts.append(forecast)\n",
    "    \n",
    "preds.head()"
   ]
  },
  {
   "cell_type": "markdown",
   "id": "a6ca064f",
   "metadata": {},
   "source": [
    "## Evaluation"
   ]
  },
  {
   "cell_type": "code",
   "execution_count": 57,
   "id": "5e13921f",
   "metadata": {
    "ExecuteTime": {
     "end_time": "2023-07-25T09:44:02.162230Z",
     "start_time": "2023-07-25T09:44:02.154836Z"
    }
   },
   "outputs": [],
   "source": [
    "def get_smape(m):\n",
    "    m_cv = cross_validation(model=m, \n",
    "                            initial='1460 days',\n",
    "                            horizon='365 days')\n",
    "    pm = performance_metrics(m_cv)\n",
    "    return pm[pm['horizon'] == '365 days']['smape'].values[0]"
   ]
  },
  {
   "cell_type": "code",
   "execution_count": 58,
   "id": "44d05775",
   "metadata": {
    "ExecuteTime": {
     "end_time": "2023-07-25T09:52:00.210045Z",
     "start_time": "2023-07-25T09:44:09.482165Z"
    }
   },
   "outputs": [
    {
     "name": "stderr",
     "output_type": "stream",
     "text": [
      "\r",
      "  0%|                                                    | 0/75 [00:00<?, ?it/s]"
     ]
    },
    {
     "data": {
      "application/vnd.jupyter.widget-view+json": {
       "model_id": "c9e2f7de6b56403f84977b702965cbcc",
       "version_major": 2,
       "version_minor": 0
      },
      "text/plain": [
       "  0%|          | 0/1 [00:00<?, ?it/s]"
      ]
     },
     "metadata": {},
     "output_type": "display_data"
    },
    {
     "name": "stderr",
     "output_type": "stream",
     "text": [
      "10:44:09 - cmdstanpy - INFO - Chain [1] start processing\n",
      "10:44:09 - cmdstanpy - INFO - Chain [1] done processing\n",
      "  1%|▌                                           | 1/75 [00:01<01:49,  1.48s/it]"
     ]
    },
    {
     "data": {
      "application/vnd.jupyter.widget-view+json": {
       "model_id": "5e6d5c9afbd942539a31191a4c1406c8",
       "version_major": 2,
       "version_minor": 0
      },
      "text/plain": [
       "  0%|          | 0/1 [00:00<?, ?it/s]"
      ]
     },
     "metadata": {},
     "output_type": "display_data"
    },
    {
     "name": "stderr",
     "output_type": "stream",
     "text": [
      "10:44:11 - cmdstanpy - INFO - Chain [1] start processing\n",
      "10:44:11 - cmdstanpy - INFO - Chain [1] done processing\n",
      "  3%|█▏                                          | 2/75 [00:02<01:43,  1.42s/it]"
     ]
    },
    {
     "data": {
      "application/vnd.jupyter.widget-view+json": {
       "model_id": "571ea8a01fa3409f95c80c2a14c74959",
       "version_major": 2,
       "version_minor": 0
      },
      "text/plain": [
       "  0%|          | 0/1 [00:00<?, ?it/s]"
      ]
     },
     "metadata": {},
     "output_type": "display_data"
    },
    {
     "name": "stderr",
     "output_type": "stream",
     "text": [
      "10:44:12 - cmdstanpy - INFO - Chain [1] start processing\n",
      "10:44:12 - cmdstanpy - INFO - Chain [1] done processing\n",
      "  4%|█▊                                          | 3/75 [00:04<01:37,  1.36s/it]"
     ]
    },
    {
     "data": {
      "application/vnd.jupyter.widget-view+json": {
       "model_id": "e9e02840bb9b44029798c29981e01c08",
       "version_major": 2,
       "version_minor": 0
      },
      "text/plain": [
       "  0%|          | 0/1 [00:00<?, ?it/s]"
      ]
     },
     "metadata": {},
     "output_type": "display_data"
    },
    {
     "name": "stderr",
     "output_type": "stream",
     "text": [
      "10:44:13 - cmdstanpy - INFO - Chain [1] start processing\n",
      "10:44:13 - cmdstanpy - INFO - Chain [1] done processing\n",
      "  5%|██▎                                         | 4/75 [00:05<01:35,  1.35s/it]"
     ]
    },
    {
     "data": {
      "application/vnd.jupyter.widget-view+json": {
       "model_id": "4c72749971794031a346401c4fa7e6d0",
       "version_major": 2,
       "version_minor": 0
      },
      "text/plain": [
       "  0%|          | 0/1 [00:00<?, ?it/s]"
      ]
     },
     "metadata": {},
     "output_type": "display_data"
    },
    {
     "name": "stderr",
     "output_type": "stream",
     "text": [
      "10:44:15 - cmdstanpy - INFO - Chain [1] start processing\n",
      "10:44:15 - cmdstanpy - INFO - Chain [1] done processing\n",
      "  7%|██▉                                         | 5/75 [00:06<01:33,  1.33s/it]"
     ]
    },
    {
     "data": {
      "application/vnd.jupyter.widget-view+json": {
       "model_id": "7704debb1b1745a59f3fab6796d2831a",
       "version_major": 2,
       "version_minor": 0
      },
      "text/plain": [
       "  0%|          | 0/1 [00:00<?, ?it/s]"
      ]
     },
     "metadata": {},
     "output_type": "display_data"
    },
    {
     "name": "stderr",
     "output_type": "stream",
     "text": [
      "10:44:16 - cmdstanpy - INFO - Chain [1] start processing\n",
      "10:44:16 - cmdstanpy - INFO - Chain [1] done processing\n",
      "  8%|███▌                                        | 6/75 [00:08<01:34,  1.37s/it]"
     ]
    },
    {
     "data": {
      "application/vnd.jupyter.widget-view+json": {
       "model_id": "22a8546a55474e7ea371a27627d55c76",
       "version_major": 2,
       "version_minor": 0
      },
      "text/plain": [
       "  0%|          | 0/1 [00:00<?, ?it/s]"
      ]
     },
     "metadata": {},
     "output_type": "display_data"
    },
    {
     "name": "stderr",
     "output_type": "stream",
     "text": [
      "10:44:17 - cmdstanpy - INFO - Chain [1] start processing\n",
      "10:44:17 - cmdstanpy - INFO - Chain [1] done processing\n",
      "  9%|████                                        | 7/75 [00:09<01:32,  1.37s/it]"
     ]
    },
    {
     "data": {
      "application/vnd.jupyter.widget-view+json": {
       "model_id": "3cfd8f3772d342fb831395660af6c5f6",
       "version_major": 2,
       "version_minor": 0
      },
      "text/plain": [
       "  0%|          | 0/1 [00:00<?, ?it/s]"
      ]
     },
     "metadata": {},
     "output_type": "display_data"
    },
    {
     "name": "stderr",
     "output_type": "stream",
     "text": [
      "10:44:19 - cmdstanpy - INFO - Chain [1] start processing\n",
      "10:44:19 - cmdstanpy - INFO - Chain [1] done processing\n",
      " 11%|████▋                                       | 8/75 [00:10<01:31,  1.37s/it]"
     ]
    },
    {
     "data": {
      "application/vnd.jupyter.widget-view+json": {
       "model_id": "fbe6a9e9c017492dba972e95514c54aa",
       "version_major": 2,
       "version_minor": 0
      },
      "text/plain": [
       "  0%|          | 0/1 [00:00<?, ?it/s]"
      ]
     },
     "metadata": {},
     "output_type": "display_data"
    },
    {
     "name": "stderr",
     "output_type": "stream",
     "text": [
      "10:44:20 - cmdstanpy - INFO - Chain [1] start processing\n",
      "10:44:20 - cmdstanpy - INFO - Chain [1] done processing\n",
      " 12%|█████▎                                      | 9/75 [00:12<01:36,  1.47s/it]"
     ]
    },
    {
     "data": {
      "application/vnd.jupyter.widget-view+json": {
       "model_id": "6898de267be248e6b8dbc6b0b90688a0",
       "version_major": 2,
       "version_minor": 0
      },
      "text/plain": [
       "  0%|          | 0/1 [00:00<?, ?it/s]"
      ]
     },
     "metadata": {},
     "output_type": "display_data"
    },
    {
     "name": "stderr",
     "output_type": "stream",
     "text": [
      "10:44:22 - cmdstanpy - INFO - Chain [1] start processing\n",
      "10:44:22 - cmdstanpy - INFO - Chain [1] done processing\n",
      " 13%|█████▋                                     | 10/75 [00:14<01:35,  1.46s/it]"
     ]
    },
    {
     "data": {
      "application/vnd.jupyter.widget-view+json": {
       "model_id": "4e27f1c085af4246ae96af23701d0586",
       "version_major": 2,
       "version_minor": 0
      },
      "text/plain": [
       "  0%|          | 0/1 [00:00<?, ?it/s]"
      ]
     },
     "metadata": {},
     "output_type": "display_data"
    },
    {
     "name": "stderr",
     "output_type": "stream",
     "text": [
      "10:44:23 - cmdstanpy - INFO - Chain [1] start processing\n",
      "10:44:23 - cmdstanpy - INFO - Chain [1] done processing\n",
      " 15%|██████▎                                    | 11/75 [00:15<01:32,  1.44s/it]"
     ]
    },
    {
     "data": {
      "application/vnd.jupyter.widget-view+json": {
       "model_id": "cd55a254e3ed4f079af2ddd45cd41e3e",
       "version_major": 2,
       "version_minor": 0
      },
      "text/plain": [
       "  0%|          | 0/1 [00:00<?, ?it/s]"
      ]
     },
     "metadata": {},
     "output_type": "display_data"
    },
    {
     "name": "stderr",
     "output_type": "stream",
     "text": [
      "10:44:25 - cmdstanpy - INFO - Chain [1] start processing\n",
      "10:44:25 - cmdstanpy - INFO - Chain [1] done processing\n",
      " 16%|██████▉                                    | 12/75 [00:16<01:27,  1.39s/it]"
     ]
    },
    {
     "data": {
      "application/vnd.jupyter.widget-view+json": {
       "model_id": "6a55740f1f37494985a70cead5dc9a2a",
       "version_major": 2,
       "version_minor": 0
      },
      "text/plain": [
       "  0%|          | 0/1 [00:00<?, ?it/s]"
      ]
     },
     "metadata": {},
     "output_type": "display_data"
    },
    {
     "name": "stderr",
     "output_type": "stream",
     "text": [
      "10:44:26 - cmdstanpy - INFO - Chain [1] start processing\n",
      "10:44:26 - cmdstanpy - INFO - Chain [1] done processing\n",
      " 17%|███████▍                                   | 13/75 [00:18<01:27,  1.41s/it]"
     ]
    },
    {
     "data": {
      "application/vnd.jupyter.widget-view+json": {
       "model_id": "dd5725f1504243e79bb2f3682a0a3d31",
       "version_major": 2,
       "version_minor": 0
      },
      "text/plain": [
       "  0%|          | 0/1 [00:00<?, ?it/s]"
      ]
     },
     "metadata": {},
     "output_type": "display_data"
    },
    {
     "name": "stderr",
     "output_type": "stream",
     "text": [
      "10:44:27 - cmdstanpy - INFO - Chain [1] start processing\n",
      "10:44:28 - cmdstanpy - INFO - Chain [1] done processing\n",
      " 19%|████████                                   | 14/75 [00:20<01:34,  1.54s/it]"
     ]
    },
    {
     "data": {
      "application/vnd.jupyter.widget-view+json": {
       "model_id": "5b8c0b2852b0414fbaf471161c61cbb5",
       "version_major": 2,
       "version_minor": 0
      },
      "text/plain": [
       "  0%|          | 0/1 [00:00<?, ?it/s]"
      ]
     },
     "metadata": {},
     "output_type": "display_data"
    },
    {
     "name": "stderr",
     "output_type": "stream",
     "text": [
      "10:44:29 - cmdstanpy - INFO - Chain [1] start processing\n",
      "10:44:29 - cmdstanpy - INFO - Chain [1] done processing\n",
      " 20%|████████▌                                  | 15/75 [00:21<01:34,  1.57s/it]"
     ]
    },
    {
     "data": {
      "application/vnd.jupyter.widget-view+json": {
       "model_id": "6e9faa2b6a0847ba8fcb35843ec3eddf",
       "version_major": 2,
       "version_minor": 0
      },
      "text/plain": [
       "  0%|          | 0/1 [00:00<?, ?it/s]"
      ]
     },
     "metadata": {},
     "output_type": "display_data"
    },
    {
     "name": "stderr",
     "output_type": "stream",
     "text": [
      "10:44:31 - cmdstanpy - INFO - Chain [1] start processing\n",
      "10:44:31 - cmdstanpy - INFO - Chain [1] done processing\n",
      "10:44:31 - cmdstanpy - ERROR - Chain [1] error: error during processing Operation not permitted\n",
      "Optimization terminated abnormally. Falling back to Newton.\n",
      "10:44:31 - cmdstanpy - INFO - Chain [1] start processing\n",
      "10:44:45 - cmdstanpy - INFO - Chain [1] done processing\n",
      " 21%|█████████▏                                 | 16/75 [00:37<05:47,  5.89s/it]"
     ]
    },
    {
     "data": {
      "application/vnd.jupyter.widget-view+json": {
       "model_id": "f1275d0120634008987a709cb51e43c3",
       "version_major": 2,
       "version_minor": 0
      },
      "text/plain": [
       "  0%|          | 0/1 [00:00<?, ?it/s]"
      ]
     },
     "metadata": {},
     "output_type": "display_data"
    },
    {
     "name": "stderr",
     "output_type": "stream",
     "text": [
      "10:44:47 - cmdstanpy - INFO - Chain [1] start processing\n",
      "10:44:47 - cmdstanpy - INFO - Chain [1] done processing\n",
      "10:44:47 - cmdstanpy - ERROR - Chain [1] error: error during processing Operation not permitted\n",
      "Optimization terminated abnormally. Falling back to Newton.\n",
      "10:44:47 - cmdstanpy - INFO - Chain [1] start processing\n",
      "10:44:59 - cmdstanpy - INFO - Chain [1] done processing\n",
      " 23%|█████████▋                                 | 17/75 [00:50<07:47,  8.06s/it]"
     ]
    },
    {
     "data": {
      "application/vnd.jupyter.widget-view+json": {
       "model_id": "12669c28b9a945eabcc13ce336602fbf",
       "version_major": 2,
       "version_minor": 0
      },
      "text/plain": [
       "  0%|          | 0/1 [00:00<?, ?it/s]"
      ]
     },
     "metadata": {},
     "output_type": "display_data"
    },
    {
     "name": "stderr",
     "output_type": "stream",
     "text": [
      "10:45:00 - cmdstanpy - INFO - Chain [1] start processing\n",
      "10:45:00 - cmdstanpy - INFO - Chain [1] done processing\n",
      "10:45:00 - cmdstanpy - ERROR - Chain [1] error: error during processing Operation not permitted\n",
      "Optimization terminated abnormally. Falling back to Newton.\n",
      "10:45:00 - cmdstanpy - INFO - Chain [1] start processing\n",
      "10:45:11 - cmdstanpy - INFO - Chain [1] done processing\n",
      " 24%|██████████▎                                | 18/75 [01:03<08:58,  9.45s/it]"
     ]
    },
    {
     "data": {
      "application/vnd.jupyter.widget-view+json": {
       "model_id": "4e2d1fd9509c463684708ce341a30c49",
       "version_major": 2,
       "version_minor": 0
      },
      "text/plain": [
       "  0%|          | 0/1 [00:00<?, ?it/s]"
      ]
     },
     "metadata": {},
     "output_type": "display_data"
    },
    {
     "name": "stderr",
     "output_type": "stream",
     "text": [
      "10:45:13 - cmdstanpy - INFO - Chain [1] start processing\n",
      "10:45:13 - cmdstanpy - INFO - Chain [1] done processing\n",
      "10:45:13 - cmdstanpy - ERROR - Chain [1] error: error during processing Operation not permitted\n",
      "Optimization terminated abnormally. Falling back to Newton.\n",
      "10:45:13 - cmdstanpy - INFO - Chain [1] start processing\n",
      "10:45:24 - cmdstanpy - INFO - Chain [1] done processing\n",
      " 25%|██████████▉                                | 19/75 [01:15<09:38, 10.34s/it]"
     ]
    },
    {
     "data": {
      "application/vnd.jupyter.widget-view+json": {
       "model_id": "2a34e76c698c4294ab247fff04af9f25",
       "version_major": 2,
       "version_minor": 0
      },
      "text/plain": [
       "  0%|          | 0/1 [00:00<?, ?it/s]"
      ]
     },
     "metadata": {},
     "output_type": "display_data"
    },
    {
     "name": "stderr",
     "output_type": "stream",
     "text": [
      "10:45:25 - cmdstanpy - INFO - Chain [1] start processing\n",
      "10:45:25 - cmdstanpy - INFO - Chain [1] done processing\n",
      "10:45:25 - cmdstanpy - ERROR - Chain [1] error: error during processing Operation not permitted\n",
      "Optimization terminated abnormally. Falling back to Newton.\n",
      "10:45:25 - cmdstanpy - INFO - Chain [1] start processing\n",
      "10:45:39 - cmdstanpy - INFO - Chain [1] done processing\n",
      " 27%|███████████▍                               | 20/75 [01:31<10:51, 11.85s/it]"
     ]
    },
    {
     "data": {
      "application/vnd.jupyter.widget-view+json": {
       "model_id": "b2e83082fe9348ccaf4bbaf063c6b7c1",
       "version_major": 2,
       "version_minor": 0
      },
      "text/plain": [
       "  0%|          | 0/1 [00:00<?, ?it/s]"
      ]
     },
     "metadata": {},
     "output_type": "display_data"
    },
    {
     "name": "stderr",
     "output_type": "stream",
     "text": [
      "10:45:40 - cmdstanpy - INFO - Chain [1] start processing\n",
      "10:45:40 - cmdstanpy - INFO - Chain [1] done processing\n",
      "10:45:40 - cmdstanpy - ERROR - Chain [1] error: error during processing Operation not permitted\n",
      "Optimization terminated abnormally. Falling back to Newton.\n",
      "10:45:40 - cmdstanpy - INFO - Chain [1] start processing\n",
      "10:45:50 - cmdstanpy - INFO - Chain [1] done processing\n",
      " 28%|████████████                               | 21/75 [01:42<10:32, 11.71s/it]"
     ]
    },
    {
     "data": {
      "application/vnd.jupyter.widget-view+json": {
       "model_id": "1c65c89a14784067a21f2af023b2048a",
       "version_major": 2,
       "version_minor": 0
      },
      "text/plain": [
       "  0%|          | 0/1 [00:00<?, ?it/s]"
      ]
     },
     "metadata": {},
     "output_type": "display_data"
    },
    {
     "name": "stderr",
     "output_type": "stream",
     "text": [
      "10:45:52 - cmdstanpy - INFO - Chain [1] start processing\n",
      "10:45:52 - cmdstanpy - INFO - Chain [1] done processing\n",
      "10:45:52 - cmdstanpy - ERROR - Chain [1] error: error during processing Operation not permitted\n",
      "Optimization terminated abnormally. Falling back to Newton.\n",
      "10:45:52 - cmdstanpy - INFO - Chain [1] start processing\n",
      "10:46:05 - cmdstanpy - INFO - Chain [1] done processing\n",
      " 29%|████████████▌                              | 22/75 [01:57<11:11, 12.67s/it]"
     ]
    },
    {
     "data": {
      "application/vnd.jupyter.widget-view+json": {
       "model_id": "81acc644905c4ec8b7dc3e3411591b27",
       "version_major": 2,
       "version_minor": 0
      },
      "text/plain": [
       "  0%|          | 0/1 [00:00<?, ?it/s]"
      ]
     },
     "metadata": {},
     "output_type": "display_data"
    },
    {
     "name": "stderr",
     "output_type": "stream",
     "text": [
      "10:46:07 - cmdstanpy - INFO - Chain [1] start processing\n",
      "10:46:07 - cmdstanpy - INFO - Chain [1] done processing\n",
      "10:46:07 - cmdstanpy - ERROR - Chain [1] error: error during processing Operation not permitted\n",
      "Optimization terminated abnormally. Falling back to Newton.\n",
      "10:46:07 - cmdstanpy - INFO - Chain [1] start processing\n",
      "10:46:21 - cmdstanpy - INFO - Chain [1] done processing\n",
      " 31%|█████████████▏                             | 23/75 [02:12<11:35, 13.38s/it]"
     ]
    },
    {
     "data": {
      "application/vnd.jupyter.widget-view+json": {
       "model_id": "d837587267a2468486783416cb99fa17",
       "version_major": 2,
       "version_minor": 0
      },
      "text/plain": [
       "  0%|          | 0/1 [00:00<?, ?it/s]"
      ]
     },
     "metadata": {},
     "output_type": "display_data"
    },
    {
     "name": "stderr",
     "output_type": "stream",
     "text": [
      "10:46:22 - cmdstanpy - INFO - Chain [1] start processing\n",
      "10:46:22 - cmdstanpy - INFO - Chain [1] done processing\n",
      "10:46:22 - cmdstanpy - ERROR - Chain [1] error: error during processing Operation not permitted\n",
      "Optimization terminated abnormally. Falling back to Newton.\n",
      "10:46:22 - cmdstanpy - INFO - Chain [1] start processing\n",
      "10:46:33 - cmdstanpy - INFO - Chain [1] done processing\n",
      " 32%|█████████████▊                             | 24/75 [02:24<11:05, 13.05s/it]"
     ]
    },
    {
     "data": {
      "application/vnd.jupyter.widget-view+json": {
       "model_id": "64ec01b96dd3430981b2717f4511df93",
       "version_major": 2,
       "version_minor": 0
      },
      "text/plain": [
       "  0%|          | 0/1 [00:00<?, ?it/s]"
      ]
     },
     "metadata": {},
     "output_type": "display_data"
    },
    {
     "name": "stderr",
     "output_type": "stream",
     "text": [
      "10:46:34 - cmdstanpy - INFO - Chain [1] start processing\n",
      "10:46:34 - cmdstanpy - INFO - Chain [1] done processing\n",
      "10:46:34 - cmdstanpy - ERROR - Chain [1] error: error during processing Operation not permitted\n",
      "Optimization terminated abnormally. Falling back to Newton.\n",
      "10:46:34 - cmdstanpy - INFO - Chain [1] start processing\n",
      "10:46:42 - cmdstanpy - INFO - Chain [1] done processing\n",
      " 33%|██████████████▎                            | 25/75 [02:33<09:53, 11.87s/it]"
     ]
    },
    {
     "data": {
      "application/vnd.jupyter.widget-view+json": {
       "model_id": "f5f110eedc7c45abbb8e4a83f29beae0",
       "version_major": 2,
       "version_minor": 0
      },
      "text/plain": [
       "  0%|          | 0/1 [00:00<?, ?it/s]"
      ]
     },
     "metadata": {},
     "output_type": "display_data"
    },
    {
     "name": "stderr",
     "output_type": "stream",
     "text": [
      "10:46:43 - cmdstanpy - INFO - Chain [1] start processing\n",
      "10:46:43 - cmdstanpy - INFO - Chain [1] done processing\n",
      "10:46:43 - cmdstanpy - ERROR - Chain [1] error: error during processing Operation not permitted\n",
      "Optimization terminated abnormally. Falling back to Newton.\n",
      "10:46:43 - cmdstanpy - INFO - Chain [1] start processing\n",
      "10:46:52 - cmdstanpy - INFO - Chain [1] done processing\n",
      " 35%|██████████████▉                            | 26/75 [02:44<09:21, 11.45s/it]"
     ]
    },
    {
     "data": {
      "application/vnd.jupyter.widget-view+json": {
       "model_id": "01e67a49e1594791a0c8b4bcc0423078",
       "version_major": 2,
       "version_minor": 0
      },
      "text/plain": [
       "  0%|          | 0/1 [00:00<?, ?it/s]"
      ]
     },
     "metadata": {},
     "output_type": "display_data"
    },
    {
     "name": "stderr",
     "output_type": "stream",
     "text": [
      "10:46:54 - cmdstanpy - INFO - Chain [1] start processing\n",
      "10:46:54 - cmdstanpy - INFO - Chain [1] done processing\n",
      "10:46:54 - cmdstanpy - ERROR - Chain [1] error: error during processing Operation not permitted\n",
      "Optimization terminated abnormally. Falling back to Newton.\n",
      "10:46:54 - cmdstanpy - INFO - Chain [1] start processing\n",
      "10:47:08 - cmdstanpy - INFO - Chain [1] done processing\n",
      " 36%|███████████████▍                           | 27/75 [02:59<10:07, 12.65s/it]"
     ]
    },
    {
     "data": {
      "application/vnd.jupyter.widget-view+json": {
       "model_id": "d4c0610285be4744b6e7511f206e9ed5",
       "version_major": 2,
       "version_minor": 0
      },
      "text/plain": [
       "  0%|          | 0/1 [00:00<?, ?it/s]"
      ]
     },
     "metadata": {},
     "output_type": "display_data"
    },
    {
     "name": "stderr",
     "output_type": "stream",
     "text": [
      "10:47:09 - cmdstanpy - INFO - Chain [1] start processing\n",
      "10:47:09 - cmdstanpy - INFO - Chain [1] done processing\n",
      "10:47:09 - cmdstanpy - ERROR - Chain [1] error: error during processing Operation not permitted\n",
      "Optimization terminated abnormally. Falling back to Newton.\n",
      "10:47:09 - cmdstanpy - INFO - Chain [1] start processing\n",
      "10:47:21 - cmdstanpy - INFO - Chain [1] done processing\n",
      " 37%|████████████████                           | 28/75 [03:13<10:01, 12.80s/it]"
     ]
    },
    {
     "data": {
      "application/vnd.jupyter.widget-view+json": {
       "model_id": "0b3acc7f954c4bd3b35c2662714a5f1a",
       "version_major": 2,
       "version_minor": 0
      },
      "text/plain": [
       "  0%|          | 0/1 [00:00<?, ?it/s]"
      ]
     },
     "metadata": {},
     "output_type": "display_data"
    },
    {
     "name": "stderr",
     "output_type": "stream",
     "text": [
      "10:47:22 - cmdstanpy - INFO - Chain [1] start processing\n",
      "10:47:22 - cmdstanpy - INFO - Chain [1] done processing\n",
      "10:47:22 - cmdstanpy - ERROR - Chain [1] error: error during processing Operation not permitted\n",
      "Optimization terminated abnormally. Falling back to Newton.\n",
      "10:47:22 - cmdstanpy - INFO - Chain [1] start processing\n",
      "10:47:34 - cmdstanpy - INFO - Chain [1] done processing\n",
      " 39%|████████████████▋                          | 29/75 [03:26<09:57, 13.00s/it]"
     ]
    },
    {
     "data": {
      "application/vnd.jupyter.widget-view+json": {
       "model_id": "ef403c1b3b304a31bf6da0afc55a3fb5",
       "version_major": 2,
       "version_minor": 0
      },
      "text/plain": [
       "  0%|          | 0/1 [00:00<?, ?it/s]"
      ]
     },
     "metadata": {},
     "output_type": "display_data"
    },
    {
     "name": "stderr",
     "output_type": "stream",
     "text": [
      "10:47:36 - cmdstanpy - INFO - Chain [1] start processing\n",
      "10:47:36 - cmdstanpy - INFO - Chain [1] done processing\n",
      "10:47:36 - cmdstanpy - ERROR - Chain [1] error: error during processing Operation not permitted\n",
      "Optimization terminated abnormally. Falling back to Newton.\n",
      "10:47:36 - cmdstanpy - INFO - Chain [1] start processing\n",
      "10:47:45 - cmdstanpy - INFO - Chain [1] done processing\n",
      " 40%|█████████████████▏                         | 30/75 [03:37<09:19, 12.44s/it]"
     ]
    },
    {
     "data": {
      "application/vnd.jupyter.widget-view+json": {
       "model_id": "80afcd14a6284fa2af97a41e3bfa88c1",
       "version_major": 2,
       "version_minor": 0
      },
      "text/plain": [
       "  0%|          | 0/1 [00:00<?, ?it/s]"
      ]
     },
     "metadata": {},
     "output_type": "display_data"
    },
    {
     "name": "stderr",
     "output_type": "stream",
     "text": [
      "10:47:47 - cmdstanpy - INFO - Chain [1] start processing\n",
      "10:47:47 - cmdstanpy - INFO - Chain [1] done processing\n",
      " 41%|█████████████████▊                         | 31/75 [03:38<06:40,  9.09s/it]"
     ]
    },
    {
     "data": {
      "application/vnd.jupyter.widget-view+json": {
       "model_id": "2ae45d51e12049839b9ce3f892389a33",
       "version_major": 2,
       "version_minor": 0
      },
      "text/plain": [
       "  0%|          | 0/1 [00:00<?, ?it/s]"
      ]
     },
     "metadata": {},
     "output_type": "display_data"
    },
    {
     "name": "stderr",
     "output_type": "stream",
     "text": [
      "10:47:48 - cmdstanpy - INFO - Chain [1] start processing\n",
      "10:47:48 - cmdstanpy - INFO - Chain [1] done processing\n",
      " 43%|██████████████████▎                        | 32/75 [03:40<04:49,  6.74s/it]"
     ]
    },
    {
     "data": {
      "application/vnd.jupyter.widget-view+json": {
       "model_id": "fc713e60e59649338b4bc46ed9a9adc2",
       "version_major": 2,
       "version_minor": 0
      },
      "text/plain": [
       "  0%|          | 0/1 [00:00<?, ?it/s]"
      ]
     },
     "metadata": {},
     "output_type": "display_data"
    },
    {
     "name": "stderr",
     "output_type": "stream",
     "text": [
      "10:47:49 - cmdstanpy - INFO - Chain [1] start processing\n",
      "10:47:49 - cmdstanpy - INFO - Chain [1] done processing\n",
      " 44%|██████████████████▉                        | 33/75 [03:41<03:33,  5.08s/it]"
     ]
    },
    {
     "data": {
      "application/vnd.jupyter.widget-view+json": {
       "model_id": "51ec683ec25f45ea8b086c20060ebe90",
       "version_major": 2,
       "version_minor": 0
      },
      "text/plain": [
       "  0%|          | 0/1 [00:00<?, ?it/s]"
      ]
     },
     "metadata": {},
     "output_type": "display_data"
    },
    {
     "name": "stderr",
     "output_type": "stream",
     "text": [
      "10:47:50 - cmdstanpy - INFO - Chain [1] start processing\n",
      "10:47:51 - cmdstanpy - INFO - Chain [1] done processing\n",
      " 45%|███████████████████▍                       | 34/75 [03:42<02:40,  3.92s/it]"
     ]
    },
    {
     "data": {
      "application/vnd.jupyter.widget-view+json": {
       "model_id": "76896b595bbf4b479f5ebe13e7543edb",
       "version_major": 2,
       "version_minor": 0
      },
      "text/plain": [
       "  0%|          | 0/1 [00:00<?, ?it/s]"
      ]
     },
     "metadata": {},
     "output_type": "display_data"
    },
    {
     "name": "stderr",
     "output_type": "stream",
     "text": [
      "10:47:52 - cmdstanpy - INFO - Chain [1] start processing\n",
      "10:47:52 - cmdstanpy - INFO - Chain [1] done processing\n",
      " 47%|████████████████████                       | 35/75 [03:43<02:05,  3.14s/it]"
     ]
    },
    {
     "data": {
      "application/vnd.jupyter.widget-view+json": {
       "model_id": "3f4010aa9bbe4f11b19f01abdb26bf73",
       "version_major": 2,
       "version_minor": 0
      },
      "text/plain": [
       "  0%|          | 0/1 [00:00<?, ?it/s]"
      ]
     },
     "metadata": {},
     "output_type": "display_data"
    },
    {
     "name": "stderr",
     "output_type": "stream",
     "text": [
      "10:47:53 - cmdstanpy - INFO - Chain [1] start processing\n",
      "10:47:53 - cmdstanpy - INFO - Chain [1] done processing\n",
      " 48%|████████████████████▋                      | 36/75 [03:45<01:42,  2.63s/it]"
     ]
    },
    {
     "data": {
      "application/vnd.jupyter.widget-view+json": {
       "model_id": "3d8708179420415e93a96e8686ad0a10",
       "version_major": 2,
       "version_minor": 0
      },
      "text/plain": [
       "  0%|          | 0/1 [00:00<?, ?it/s]"
      ]
     },
     "metadata": {},
     "output_type": "display_data"
    },
    {
     "name": "stderr",
     "output_type": "stream",
     "text": [
      "10:47:54 - cmdstanpy - INFO - Chain [1] start processing\n",
      "10:47:55 - cmdstanpy - INFO - Chain [1] done processing\n",
      " 49%|█████████████████████▏                     | 37/75 [03:46<01:27,  2.30s/it]"
     ]
    },
    {
     "data": {
      "application/vnd.jupyter.widget-view+json": {
       "model_id": "7f98485660764032b4718023470133a3",
       "version_major": 2,
       "version_minor": 0
      },
      "text/plain": [
       "  0%|          | 0/1 [00:00<?, ?it/s]"
      ]
     },
     "metadata": {},
     "output_type": "display_data"
    },
    {
     "name": "stderr",
     "output_type": "stream",
     "text": [
      "10:47:56 - cmdstanpy - INFO - Chain [1] start processing\n",
      "10:47:56 - cmdstanpy - INFO - Chain [1] done processing\n",
      " 51%|█████████████████████▊                     | 38/75 [03:49<01:31,  2.48s/it]"
     ]
    },
    {
     "data": {
      "application/vnd.jupyter.widget-view+json": {
       "model_id": "9cd8a080ef294e249894f861018cc329",
       "version_major": 2,
       "version_minor": 0
      },
      "text/plain": [
       "  0%|          | 0/1 [00:00<?, ?it/s]"
      ]
     },
     "metadata": {},
     "output_type": "display_data"
    },
    {
     "name": "stderr",
     "output_type": "stream",
     "text": [
      "10:47:59 - cmdstanpy - INFO - Chain [1] start processing\n",
      "10:47:59 - cmdstanpy - INFO - Chain [1] done processing\n",
      " 52%|██████████████████████▎                    | 39/75 [03:51<01:16,  2.13s/it]"
     ]
    },
    {
     "data": {
      "application/vnd.jupyter.widget-view+json": {
       "model_id": "33c965e72b3e41d8a68eb9c7b2c84993",
       "version_major": 2,
       "version_minor": 0
      },
      "text/plain": [
       "  0%|          | 0/1 [00:00<?, ?it/s]"
      ]
     },
     "metadata": {},
     "output_type": "display_data"
    },
    {
     "name": "stderr",
     "output_type": "stream",
     "text": [
      "10:48:00 - cmdstanpy - INFO - Chain [1] start processing\n",
      "10:48:00 - cmdstanpy - INFO - Chain [1] done processing\n",
      " 53%|██████████████████████▉                    | 40/75 [03:52<01:05,  1.88s/it]"
     ]
    },
    {
     "data": {
      "application/vnd.jupyter.widget-view+json": {
       "model_id": "80e8045e110f4d9aa1198b3160186a44",
       "version_major": 2,
       "version_minor": 0
      },
      "text/plain": [
       "  0%|          | 0/1 [00:00<?, ?it/s]"
      ]
     },
     "metadata": {},
     "output_type": "display_data"
    },
    {
     "name": "stderr",
     "output_type": "stream",
     "text": [
      "10:48:02 - cmdstanpy - INFO - Chain [1] start processing\n",
      "10:48:02 - cmdstanpy - INFO - Chain [1] done processing\n",
      " 55%|███████████████████████▌                   | 41/75 [03:53<00:59,  1.76s/it]"
     ]
    },
    {
     "data": {
      "application/vnd.jupyter.widget-view+json": {
       "model_id": "b335eac975e7418d88c8c3d64bbe5b92",
       "version_major": 2,
       "version_minor": 0
      },
      "text/plain": [
       "  0%|          | 0/1 [00:00<?, ?it/s]"
      ]
     },
     "metadata": {},
     "output_type": "display_data"
    },
    {
     "name": "stderr",
     "output_type": "stream",
     "text": [
      "10:48:03 - cmdstanpy - INFO - Chain [1] start processing\n",
      "10:48:03 - cmdstanpy - INFO - Chain [1] done processing\n",
      " 56%|████████████████████████                   | 42/75 [03:56<01:03,  1.94s/it]"
     ]
    },
    {
     "data": {
      "application/vnd.jupyter.widget-view+json": {
       "model_id": "10bb88b3b8124913ba0eb3703334d1ea",
       "version_major": 2,
       "version_minor": 0
      },
      "text/plain": [
       "  0%|          | 0/1 [00:00<?, ?it/s]"
      ]
     },
     "metadata": {},
     "output_type": "display_data"
    },
    {
     "name": "stderr",
     "output_type": "stream",
     "text": [
      "10:48:05 - cmdstanpy - INFO - Chain [1] start processing\n",
      "10:48:06 - cmdstanpy - INFO - Chain [1] done processing\n",
      " 57%|████████████████████████▋                  | 43/75 [03:58<01:00,  1.90s/it]"
     ]
    },
    {
     "data": {
      "application/vnd.jupyter.widget-view+json": {
       "model_id": "7dd7a35531514f73bbd676607ba3cd4b",
       "version_major": 2,
       "version_minor": 0
      },
      "text/plain": [
       "  0%|          | 0/1 [00:00<?, ?it/s]"
      ]
     },
     "metadata": {},
     "output_type": "display_data"
    },
    {
     "name": "stderr",
     "output_type": "stream",
     "text": [
      "10:48:07 - cmdstanpy - INFO - Chain [1] start processing\n",
      "10:48:07 - cmdstanpy - INFO - Chain [1] done processing\n",
      " 59%|█████████████████████████▏                 | 44/75 [03:59<00:52,  1.70s/it]"
     ]
    },
    {
     "data": {
      "application/vnd.jupyter.widget-view+json": {
       "model_id": "9c68e44aa398440586432dc0016ec350",
       "version_major": 2,
       "version_minor": 0
      },
      "text/plain": [
       "  0%|          | 0/1 [00:00<?, ?it/s]"
      ]
     },
     "metadata": {},
     "output_type": "display_data"
    },
    {
     "name": "stderr",
     "output_type": "stream",
     "text": [
      "10:48:08 - cmdstanpy - INFO - Chain [1] start processing\n",
      "10:48:08 - cmdstanpy - INFO - Chain [1] done processing\n",
      " 60%|█████████████████████████▊                 | 45/75 [04:00<00:46,  1.54s/it]"
     ]
    },
    {
     "data": {
      "application/vnd.jupyter.widget-view+json": {
       "model_id": "0eebe5b4c0c34835b1bb3582400f43bd",
       "version_major": 2,
       "version_minor": 0
      },
      "text/plain": [
       "  0%|          | 0/1 [00:00<?, ?it/s]"
      ]
     },
     "metadata": {},
     "output_type": "display_data"
    },
    {
     "name": "stderr",
     "output_type": "stream",
     "text": [
      "10:48:10 - cmdstanpy - INFO - Chain [1] start processing\n",
      "10:48:10 - cmdstanpy - INFO - Chain [1] done processing\n",
      "10:48:10 - cmdstanpy - ERROR - Chain [1] error: error during processing Operation not permitted\n",
      "Optimization terminated abnormally. Falling back to Newton.\n",
      "10:48:10 - cmdstanpy - INFO - Chain [1] start processing\n",
      "10:48:19 - cmdstanpy - INFO - Chain [1] done processing\n",
      " 61%|██████████████████████████▎                | 46/75 [04:11<02:07,  4.41s/it]"
     ]
    },
    {
     "data": {
      "application/vnd.jupyter.widget-view+json": {
       "model_id": "c8abd8b8a99240e7b326c5c5113c5f27",
       "version_major": 2,
       "version_minor": 0
      },
      "text/plain": [
       "  0%|          | 0/1 [00:00<?, ?it/s]"
      ]
     },
     "metadata": {},
     "output_type": "display_data"
    },
    {
     "name": "stderr",
     "output_type": "stream",
     "text": [
      "10:48:21 - cmdstanpy - INFO - Chain [1] start processing\n",
      "10:48:21 - cmdstanpy - INFO - Chain [1] done processing\n",
      "10:48:21 - cmdstanpy - ERROR - Chain [1] error: error during processing Operation not permitted\n",
      "Optimization terminated abnormally. Falling back to Newton.\n",
      "10:48:21 - cmdstanpy - INFO - Chain [1] start processing\n",
      "10:48:30 - cmdstanpy - INFO - Chain [1] done processing\n",
      " 63%|██████████████████████████▉                | 47/75 [04:22<02:59,  6.42s/it]"
     ]
    },
    {
     "data": {
      "application/vnd.jupyter.widget-view+json": {
       "model_id": "13d1c6131f214239b26bca732fc5e022",
       "version_major": 2,
       "version_minor": 0
      },
      "text/plain": [
       "  0%|          | 0/1 [00:00<?, ?it/s]"
      ]
     },
     "metadata": {},
     "output_type": "display_data"
    },
    {
     "name": "stderr",
     "output_type": "stream",
     "text": [
      "10:48:32 - cmdstanpy - INFO - Chain [1] start processing\n",
      "10:48:32 - cmdstanpy - INFO - Chain [1] done processing\n",
      "10:48:32 - cmdstanpy - ERROR - Chain [1] error: error during processing Operation not permitted\n",
      "Optimization terminated abnormally. Falling back to Newton.\n",
      "10:48:32 - cmdstanpy - INFO - Chain [1] start processing\n",
      "10:48:43 - cmdstanpy - INFO - Chain [1] done processing\n",
      " 64%|███████████████████████████▌               | 48/75 [04:35<03:44,  8.30s/it]"
     ]
    },
    {
     "data": {
      "application/vnd.jupyter.widget-view+json": {
       "model_id": "28cca15565c94a6ab991bb76237e7cf0",
       "version_major": 2,
       "version_minor": 0
      },
      "text/plain": [
       "  0%|          | 0/1 [00:00<?, ?it/s]"
      ]
     },
     "metadata": {},
     "output_type": "display_data"
    },
    {
     "name": "stderr",
     "output_type": "stream",
     "text": [
      "10:48:44 - cmdstanpy - INFO - Chain [1] start processing\n",
      "10:48:45 - cmdstanpy - INFO - Chain [1] done processing\n",
      "10:48:45 - cmdstanpy - ERROR - Chain [1] error: error during processing Operation not permitted\n",
      "Optimization terminated abnormally. Falling back to Newton.\n",
      "10:48:45 - cmdstanpy - INFO - Chain [1] start processing\n",
      "10:49:03 - cmdstanpy - INFO - Chain [1] done processing\n",
      " 65%|████████████████████████████               | 49/75 [04:55<05:04, 11.72s/it]"
     ]
    },
    {
     "data": {
      "application/vnd.jupyter.widget-view+json": {
       "model_id": "d84d631232ed422eb7b38c67bdfabb0e",
       "version_major": 2,
       "version_minor": 0
      },
      "text/plain": [
       "  0%|          | 0/1 [00:00<?, ?it/s]"
      ]
     },
     "metadata": {},
     "output_type": "display_data"
    },
    {
     "name": "stderr",
     "output_type": "stream",
     "text": [
      "10:49:04 - cmdstanpy - INFO - Chain [1] start processing\n",
      "10:49:04 - cmdstanpy - INFO - Chain [1] done processing\n",
      "10:49:04 - cmdstanpy - ERROR - Chain [1] error: error during processing Operation not permitted\n",
      "Optimization terminated abnormally. Falling back to Newton.\n",
      "10:49:04 - cmdstanpy - INFO - Chain [1] start processing\n",
      "10:49:12 - cmdstanpy - INFO - Chain [1] done processing\n",
      " 67%|████████████████████████████▋              | 50/75 [05:04<04:35, 11.01s/it]"
     ]
    },
    {
     "data": {
      "application/vnd.jupyter.widget-view+json": {
       "model_id": "2c0ab1f7303c46018577f8d0bedf7e65",
       "version_major": 2,
       "version_minor": 0
      },
      "text/plain": [
       "  0%|          | 0/1 [00:00<?, ?it/s]"
      ]
     },
     "metadata": {},
     "output_type": "display_data"
    },
    {
     "name": "stderr",
     "output_type": "stream",
     "text": [
      "10:49:13 - cmdstanpy - INFO - Chain [1] start processing\n",
      "10:49:14 - cmdstanpy - INFO - Chain [1] done processing\n",
      "10:49:14 - cmdstanpy - ERROR - Chain [1] error: error during processing Operation not permitted\n",
      "Optimization terminated abnormally. Falling back to Newton.\n",
      "10:49:14 - cmdstanpy - INFO - Chain [1] start processing\n",
      "10:49:32 - cmdstanpy - INFO - Chain [1] done processing\n",
      " 68%|█████████████████████████████▏             | 51/75 [05:24<05:27, 13.63s/it]"
     ]
    },
    {
     "data": {
      "application/vnd.jupyter.widget-view+json": {
       "model_id": "380d5a6fcb244693b2bee85af127673a",
       "version_major": 2,
       "version_minor": 0
      },
      "text/plain": [
       "  0%|          | 0/1 [00:00<?, ?it/s]"
      ]
     },
     "metadata": {},
     "output_type": "display_data"
    },
    {
     "name": "stderr",
     "output_type": "stream",
     "text": [
      "10:49:33 - cmdstanpy - INFO - Chain [1] start processing\n",
      "10:49:33 - cmdstanpy - INFO - Chain [1] done processing\n",
      "10:49:33 - cmdstanpy - ERROR - Chain [1] error: error during processing Operation not permitted\n",
      "Optimization terminated abnormally. Falling back to Newton.\n",
      "10:49:33 - cmdstanpy - INFO - Chain [1] start processing\n",
      "10:49:48 - cmdstanpy - INFO - Chain [1] done processing\n",
      " 69%|█████████████████████████████▊             | 52/75 [05:39<05:28, 14.27s/it]"
     ]
    },
    {
     "data": {
      "application/vnd.jupyter.widget-view+json": {
       "model_id": "bc346a9f7f93461785e83f3c1bc290ba",
       "version_major": 2,
       "version_minor": 0
      },
      "text/plain": [
       "  0%|          | 0/1 [00:00<?, ?it/s]"
      ]
     },
     "metadata": {},
     "output_type": "display_data"
    },
    {
     "name": "stderr",
     "output_type": "stream",
     "text": [
      "10:49:49 - cmdstanpy - INFO - Chain [1] start processing\n",
      "10:49:49 - cmdstanpy - INFO - Chain [1] done processing\n",
      "10:49:49 - cmdstanpy - ERROR - Chain [1] error: error during processing Operation not permitted\n",
      "Optimization terminated abnormally. Falling back to Newton.\n",
      "10:49:49 - cmdstanpy - INFO - Chain [1] start processing\n",
      "10:50:02 - cmdstanpy - INFO - Chain [1] done processing\n",
      " 71%|██████████████████████████████▍            | 53/75 [05:54<05:16, 14.39s/it]"
     ]
    },
    {
     "data": {
      "application/vnd.jupyter.widget-view+json": {
       "model_id": "d5d975a273b44dec887f3d5a4516f148",
       "version_major": 2,
       "version_minor": 0
      },
      "text/plain": [
       "  0%|          | 0/1 [00:00<?, ?it/s]"
      ]
     },
     "metadata": {},
     "output_type": "display_data"
    },
    {
     "name": "stderr",
     "output_type": "stream",
     "text": [
      "10:50:04 - cmdstanpy - INFO - Chain [1] start processing\n",
      "10:50:04 - cmdstanpy - INFO - Chain [1] done processing\n",
      "10:50:04 - cmdstanpy - ERROR - Chain [1] error: error during processing Operation not permitted\n",
      "Optimization terminated abnormally. Falling back to Newton.\n",
      "10:50:04 - cmdstanpy - INFO - Chain [1] start processing\n",
      "10:50:17 - cmdstanpy - INFO - Chain [1] done processing\n",
      " 72%|██████████████████████████████▉            | 54/75 [06:09<05:04, 14.49s/it]"
     ]
    },
    {
     "data": {
      "application/vnd.jupyter.widget-view+json": {
       "model_id": "3f2e7828caaf4e2690fd3468d0621e01",
       "version_major": 2,
       "version_minor": 0
      },
      "text/plain": [
       "  0%|          | 0/1 [00:00<?, ?it/s]"
      ]
     },
     "metadata": {},
     "output_type": "display_data"
    },
    {
     "name": "stderr",
     "output_type": "stream",
     "text": [
      "10:50:18 - cmdstanpy - INFO - Chain [1] start processing\n",
      "10:50:18 - cmdstanpy - INFO - Chain [1] done processing\n",
      "10:50:18 - cmdstanpy - ERROR - Chain [1] error: error during processing Operation not permitted\n",
      "Optimization terminated abnormally. Falling back to Newton.\n",
      "10:50:19 - cmdstanpy - INFO - Chain [1] start processing\n",
      "10:50:28 - cmdstanpy - INFO - Chain [1] done processing\n",
      " 73%|███████████████████████████████▌           | 55/75 [06:20<04:28, 13.41s/it]"
     ]
    },
    {
     "data": {
      "application/vnd.jupyter.widget-view+json": {
       "model_id": "9530a06bcddd4f0897a01f8faa07a8e4",
       "version_major": 2,
       "version_minor": 0
      },
      "text/plain": [
       "  0%|          | 0/1 [00:00<?, ?it/s]"
      ]
     },
     "metadata": {},
     "output_type": "display_data"
    },
    {
     "name": "stderr",
     "output_type": "stream",
     "text": [
      "10:50:29 - cmdstanpy - INFO - Chain [1] start processing\n",
      "10:50:29 - cmdstanpy - INFO - Chain [1] done processing\n",
      "10:50:29 - cmdstanpy - ERROR - Chain [1] error: error during processing Operation not permitted\n",
      "Optimization terminated abnormally. Falling back to Newton.\n",
      "10:50:29 - cmdstanpy - INFO - Chain [1] start processing\n",
      "10:50:42 - cmdstanpy - INFO - Chain [1] done processing\n",
      " 75%|████████████████████████████████           | 56/75 [06:34<04:18, 13.60s/it]"
     ]
    },
    {
     "data": {
      "application/vnd.jupyter.widget-view+json": {
       "model_id": "efd73dfcd83a46c986fcb162972438c2",
       "version_major": 2,
       "version_minor": 0
      },
      "text/plain": [
       "  0%|          | 0/1 [00:00<?, ?it/s]"
      ]
     },
     "metadata": {},
     "output_type": "display_data"
    },
    {
     "name": "stderr",
     "output_type": "stream",
     "text": [
      "10:50:43 - cmdstanpy - INFO - Chain [1] start processing\n",
      "10:50:43 - cmdstanpy - INFO - Chain [1] done processing\n",
      "10:50:43 - cmdstanpy - ERROR - Chain [1] error: error during processing Operation not permitted\n",
      "Optimization terminated abnormally. Falling back to Newton.\n",
      "10:50:43 - cmdstanpy - INFO - Chain [1] start processing\n",
      "10:50:58 - cmdstanpy - INFO - Chain [1] done processing\n",
      " 76%|████████████████████████████████▋          | 57/75 [06:49<04:16, 14.26s/it]"
     ]
    },
    {
     "data": {
      "application/vnd.jupyter.widget-view+json": {
       "model_id": "64df0ee4a73d4981beecb44b32e1b845",
       "version_major": 2,
       "version_minor": 0
      },
      "text/plain": [
       "  0%|          | 0/1 [00:00<?, ?it/s]"
      ]
     },
     "metadata": {},
     "output_type": "display_data"
    },
    {
     "name": "stderr",
     "output_type": "stream",
     "text": [
      "10:50:59 - cmdstanpy - INFO - Chain [1] start processing\n",
      "10:50:59 - cmdstanpy - INFO - Chain [1] done processing\n",
      "10:50:59 - cmdstanpy - ERROR - Chain [1] error: error during processing Operation not permitted\n",
      "Optimization terminated abnormally. Falling back to Newton.\n",
      "10:50:59 - cmdstanpy - INFO - Chain [1] start processing\n",
      "10:51:09 - cmdstanpy - INFO - Chain [1] done processing\n",
      " 77%|█████████████████████████████████▎         | 58/75 [07:00<03:43, 13.16s/it]"
     ]
    },
    {
     "data": {
      "application/vnd.jupyter.widget-view+json": {
       "model_id": "defbecbf72e4465b8785e0e7e223bbe2",
       "version_major": 2,
       "version_minor": 0
      },
      "text/plain": [
       "  0%|          | 0/1 [00:00<?, ?it/s]"
      ]
     },
     "metadata": {},
     "output_type": "display_data"
    },
    {
     "name": "stderr",
     "output_type": "stream",
     "text": [
      "10:51:10 - cmdstanpy - INFO - Chain [1] start processing\n",
      "10:51:10 - cmdstanpy - INFO - Chain [1] done processing\n",
      "10:51:10 - cmdstanpy - ERROR - Chain [1] error: error during processing Operation not permitted\n",
      "Optimization terminated abnormally. Falling back to Newton.\n",
      "10:51:10 - cmdstanpy - INFO - Chain [1] start processing\n",
      "10:51:27 - cmdstanpy - INFO - Chain [1] done processing\n",
      " 79%|█████████████████████████████████▊         | 59/75 [07:19<03:58, 14.88s/it]"
     ]
    },
    {
     "data": {
      "application/vnd.jupyter.widget-view+json": {
       "model_id": "95448f3fad4543f8b83831fef09a96a9",
       "version_major": 2,
       "version_minor": 0
      },
      "text/plain": [
       "  0%|          | 0/1 [00:00<?, ?it/s]"
      ]
     },
     "metadata": {},
     "output_type": "display_data"
    },
    {
     "name": "stderr",
     "output_type": "stream",
     "text": [
      "10:51:29 - cmdstanpy - INFO - Chain [1] start processing\n",
      "10:51:29 - cmdstanpy - INFO - Chain [1] done processing\n",
      "10:51:29 - cmdstanpy - ERROR - Chain [1] error: error during processing Operation not permitted\n",
      "Optimization terminated abnormally. Falling back to Newton.\n",
      "10:51:29 - cmdstanpy - INFO - Chain [1] start processing\n",
      "10:51:40 - cmdstanpy - INFO - Chain [1] done processing\n",
      " 80%|██████████████████████████████████▍        | 60/75 [07:32<03:34, 14.28s/it]"
     ]
    },
    {
     "data": {
      "application/vnd.jupyter.widget-view+json": {
       "model_id": "2f80edcdc5724030a05b7118fba7c3f6",
       "version_major": 2,
       "version_minor": 0
      },
      "text/plain": [
       "  0%|          | 0/1 [00:00<?, ?it/s]"
      ]
     },
     "metadata": {},
     "output_type": "display_data"
    },
    {
     "name": "stderr",
     "output_type": "stream",
     "text": [
      "10:51:42 - cmdstanpy - INFO - Chain [1] start processing\n",
      "10:51:42 - cmdstanpy - INFO - Chain [1] done processing\n",
      " 81%|██████████████████████████████████▉        | 61/75 [07:33<02:25, 10.36s/it]"
     ]
    },
    {
     "data": {
      "application/vnd.jupyter.widget-view+json": {
       "model_id": "5896d21d06164e86b3a626692ab10dd7",
       "version_major": 2,
       "version_minor": 0
      },
      "text/plain": [
       "  0%|          | 0/1 [00:00<?, ?it/s]"
      ]
     },
     "metadata": {},
     "output_type": "display_data"
    },
    {
     "name": "stderr",
     "output_type": "stream",
     "text": [
      "10:51:43 - cmdstanpy - INFO - Chain [1] start processing\n",
      "10:51:43 - cmdstanpy - INFO - Chain [1] done processing\n",
      " 83%|███████████████████████████████████▌       | 62/75 [07:34<01:38,  7.61s/it]"
     ]
    },
    {
     "data": {
      "application/vnd.jupyter.widget-view+json": {
       "model_id": "57695d3d95054f9883a4382f0acde845",
       "version_major": 2,
       "version_minor": 0
      },
      "text/plain": [
       "  0%|          | 0/1 [00:00<?, ?it/s]"
      ]
     },
     "metadata": {},
     "output_type": "display_data"
    },
    {
     "name": "stderr",
     "output_type": "stream",
     "text": [
      "10:51:44 - cmdstanpy - INFO - Chain [1] start processing\n",
      "10:51:44 - cmdstanpy - INFO - Chain [1] done processing\n",
      " 84%|████████████████████████████████████       | 63/75 [07:35<01:08,  5.69s/it]"
     ]
    },
    {
     "data": {
      "application/vnd.jupyter.widget-view+json": {
       "model_id": "82d436f46e6b4d5fbd9169d3d58c83e2",
       "version_major": 2,
       "version_minor": 0
      },
      "text/plain": [
       "  0%|          | 0/1 [00:00<?, ?it/s]"
      ]
     },
     "metadata": {},
     "output_type": "display_data"
    },
    {
     "name": "stderr",
     "output_type": "stream",
     "text": [
      "10:51:45 - cmdstanpy - INFO - Chain [1] start processing\n",
      "10:51:45 - cmdstanpy - INFO - Chain [1] done processing\n",
      " 85%|████████████████████████████████████▋      | 64/75 [07:37<00:47,  4.33s/it]"
     ]
    },
    {
     "data": {
      "application/vnd.jupyter.widget-view+json": {
       "model_id": "6438f51388d543ccbc230c9c6e4d3535",
       "version_major": 2,
       "version_minor": 0
      },
      "text/plain": [
       "  0%|          | 0/1 [00:00<?, ?it/s]"
      ]
     },
     "metadata": {},
     "output_type": "display_data"
    },
    {
     "name": "stderr",
     "output_type": "stream",
     "text": [
      "10:51:46 - cmdstanpy - INFO - Chain [1] start processing\n",
      "10:51:46 - cmdstanpy - INFO - Chain [1] done processing\n",
      " 87%|█████████████████████████████████████▎     | 65/75 [07:38<00:33,  3.40s/it]"
     ]
    },
    {
     "data": {
      "application/vnd.jupyter.widget-view+json": {
       "model_id": "f60dc35ab8ef4c018394f9163720a11b",
       "version_major": 2,
       "version_minor": 0
      },
      "text/plain": [
       "  0%|          | 0/1 [00:00<?, ?it/s]"
      ]
     },
     "metadata": {},
     "output_type": "display_data"
    },
    {
     "name": "stderr",
     "output_type": "stream",
     "text": [
      "10:51:48 - cmdstanpy - INFO - Chain [1] start processing\n",
      "10:51:48 - cmdstanpy - INFO - Chain [1] done processing\n",
      " 88%|█████████████████████████████████████▊     | 66/75 [07:39<00:24,  2.73s/it]"
     ]
    },
    {
     "data": {
      "application/vnd.jupyter.widget-view+json": {
       "model_id": "7cdcea8bee414ee59527eeaafbc2a8ba",
       "version_major": 2,
       "version_minor": 0
      },
      "text/plain": [
       "  0%|          | 0/1 [00:00<?, ?it/s]"
      ]
     },
     "metadata": {},
     "output_type": "display_data"
    },
    {
     "name": "stderr",
     "output_type": "stream",
     "text": [
      "10:51:49 - cmdstanpy - INFO - Chain [1] start processing\n",
      "10:51:49 - cmdstanpy - INFO - Chain [1] done processing\n",
      " 89%|██████████████████████████████████████▍    | 67/75 [07:40<00:18,  2.26s/it]"
     ]
    },
    {
     "data": {
      "application/vnd.jupyter.widget-view+json": {
       "model_id": "6fed705467c44419b8c46e6763f80cd6",
       "version_major": 2,
       "version_minor": 0
      },
      "text/plain": [
       "  0%|          | 0/1 [00:00<?, ?it/s]"
      ]
     },
     "metadata": {},
     "output_type": "display_data"
    },
    {
     "name": "stderr",
     "output_type": "stream",
     "text": [
      "10:51:50 - cmdstanpy - INFO - Chain [1] start processing\n",
      "10:51:50 - cmdstanpy - INFO - Chain [1] done processing\n",
      " 91%|██████████████████████████████████████▉    | 68/75 [07:41<00:13,  1.94s/it]"
     ]
    },
    {
     "data": {
      "application/vnd.jupyter.widget-view+json": {
       "model_id": "fdddb7fda88c408baf646c7349fa0b0e",
       "version_major": 2,
       "version_minor": 0
      },
      "text/plain": [
       "  0%|          | 0/1 [00:00<?, ?it/s]"
      ]
     },
     "metadata": {},
     "output_type": "display_data"
    },
    {
     "name": "stderr",
     "output_type": "stream",
     "text": [
      "10:51:51 - cmdstanpy - INFO - Chain [1] start processing\n",
      "10:51:51 - cmdstanpy - INFO - Chain [1] done processing\n",
      " 92%|███████████████████████████████████████▌   | 69/75 [07:43<00:10,  1.71s/it]"
     ]
    },
    {
     "data": {
      "application/vnd.jupyter.widget-view+json": {
       "model_id": "fbcb179cf0014e9fb260bc37a78a5008",
       "version_major": 2,
       "version_minor": 0
      },
      "text/plain": [
       "  0%|          | 0/1 [00:00<?, ?it/s]"
      ]
     },
     "metadata": {},
     "output_type": "display_data"
    },
    {
     "name": "stderr",
     "output_type": "stream",
     "text": [
      "10:51:52 - cmdstanpy - INFO - Chain [1] start processing\n",
      "10:51:52 - cmdstanpy - INFO - Chain [1] done processing\n",
      " 93%|████████████████████████████████████████▏  | 70/75 [07:44<00:07,  1.54s/it]"
     ]
    },
    {
     "data": {
      "application/vnd.jupyter.widget-view+json": {
       "model_id": "ca647b0e416f48088cfe9208bfb27f53",
       "version_major": 2,
       "version_minor": 0
      },
      "text/plain": [
       "  0%|          | 0/1 [00:00<?, ?it/s]"
      ]
     },
     "metadata": {},
     "output_type": "display_data"
    },
    {
     "name": "stderr",
     "output_type": "stream",
     "text": [
      "10:51:53 - cmdstanpy - INFO - Chain [1] start processing\n",
      "10:51:53 - cmdstanpy - INFO - Chain [1] done processing\n",
      " 95%|████████████████████████████████████████▋  | 71/75 [07:45<00:05,  1.44s/it]"
     ]
    },
    {
     "data": {
      "application/vnd.jupyter.widget-view+json": {
       "model_id": "da4f1d3660a049069be1a45cc264a0e7",
       "version_major": 2,
       "version_minor": 0
      },
      "text/plain": [
       "  0%|          | 0/1 [00:00<?, ?it/s]"
      ]
     },
     "metadata": {},
     "output_type": "display_data"
    },
    {
     "name": "stderr",
     "output_type": "stream",
     "text": [
      "10:51:55 - cmdstanpy - INFO - Chain [1] start processing\n",
      "10:51:55 - cmdstanpy - INFO - Chain [1] done processing\n",
      " 96%|█████████████████████████████████████████▎ | 72/75 [07:46<00:04,  1.47s/it]"
     ]
    },
    {
     "data": {
      "application/vnd.jupyter.widget-view+json": {
       "model_id": "92b1ff2143784a11b47717d6450630fb",
       "version_major": 2,
       "version_minor": 0
      },
      "text/plain": [
       "  0%|          | 0/1 [00:00<?, ?it/s]"
      ]
     },
     "metadata": {},
     "output_type": "display_data"
    },
    {
     "name": "stderr",
     "output_type": "stream",
     "text": [
      "10:51:56 - cmdstanpy - INFO - Chain [1] start processing\n",
      "10:51:56 - cmdstanpy - INFO - Chain [1] done processing\n",
      " 97%|█████████████████████████████████████████▊ | 73/75 [07:48<00:02,  1.42s/it]"
     ]
    },
    {
     "data": {
      "application/vnd.jupyter.widget-view+json": {
       "model_id": "65b460bbb55b44c6af633e0c3ed96c6e",
       "version_major": 2,
       "version_minor": 0
      },
      "text/plain": [
       "  0%|          | 0/1 [00:00<?, ?it/s]"
      ]
     },
     "metadata": {},
     "output_type": "display_data"
    },
    {
     "name": "stderr",
     "output_type": "stream",
     "text": [
      "10:51:57 - cmdstanpy - INFO - Chain [1] start processing\n",
      "10:51:57 - cmdstanpy - INFO - Chain [1] done processing\n",
      " 99%|██████████████████████████████████████████▍| 74/75 [07:49<00:01,  1.37s/it]"
     ]
    },
    {
     "data": {
      "application/vnd.jupyter.widget-view+json": {
       "model_id": "cde882654692445ca06b486060594e4f",
       "version_major": 2,
       "version_minor": 0
      },
      "text/plain": [
       "  0%|          | 0/1 [00:00<?, ?it/s]"
      ]
     },
     "metadata": {},
     "output_type": "display_data"
    },
    {
     "name": "stderr",
     "output_type": "stream",
     "text": [
      "10:51:59 - cmdstanpy - INFO - Chain [1] start processing\n",
      "10:51:59 - cmdstanpy - INFO - Chain [1] done processing\n",
      "100%|███████████████████████████████████████████| 75/75 [07:50<00:00,  6.28s/it]\n"
     ]
    }
   ],
   "source": [
    "smapes = [get_smape(m) for m in tqdm(models)]"
   ]
  },
  {
   "cell_type": "code",
   "execution_count": 59,
   "id": "f1c06d19",
   "metadata": {
    "ExecuteTime": {
     "end_time": "2023-07-25T09:52:00.244010Z",
     "start_time": "2023-07-25T09:52:00.215161Z"
    }
   },
   "outputs": [
    {
     "name": "stdout",
     "output_type": "stream",
     "text": [
      "Argentina|Kaggle Learn|Using LLMs to Improve Your Coding 102.05\n",
      "Argentina|Kaggle Learn|Using LLMs to Train More LLMs 102.51\n",
      "Argentina|Kaggle Learn|Using LLMs to Win Friends and Influence People 103.14\n",
      "Argentina|Kaggle Learn|Using LLMs to Win More Kaggle Competitions 92.37\n",
      "Argentina|Kaggle Learn|Using LLMs to Write Better 130.39\n",
      "Argentina|Kaggle Store|Using LLMs to Improve Your Coding 97.54\n",
      "Argentina|Kaggle Store|Using LLMs to Train More LLMs 113.49\n",
      "Argentina|Kaggle Store|Using LLMs to Win Friends and Influence People 102.44\n",
      "Argentina|Kaggle Store|Using LLMs to Win More Kaggle Competitions 89.88\n",
      "Argentina|Kaggle Store|Using LLMs to Write Better 96.20\n",
      "Argentina|Kagglazon|Using LLMs to Improve Your Coding 103.28\n",
      "Argentina|Kagglazon|Using LLMs to Train More LLMs 111.49\n",
      "Argentina|Kagglazon|Using LLMs to Win Friends and Influence People 90.88\n",
      "Argentina|Kagglazon|Using LLMs to Win More Kaggle Competitions 94.22\n",
      "Argentina|Kagglazon|Using LLMs to Write Better 117.72\n",
      "Canada|Kaggle Learn|Using LLMs to Improve Your Coding 6.27\n",
      "Canada|Kaggle Learn|Using LLMs to Train More LLMs 8.25\n",
      "Canada|Kaggle Learn|Using LLMs to Win Friends and Influence People 7.70\n",
      "Canada|Kaggle Learn|Using LLMs to Win More Kaggle Competitions 11.55\n",
      "Canada|Kaggle Learn|Using LLMs to Write Better 14.05\n",
      "Canada|Kaggle Store|Using LLMs to Improve Your Coding 8.68\n",
      "Canada|Kaggle Store|Using LLMs to Train More LLMs 8.75\n",
      "Canada|Kaggle Store|Using LLMs to Win Friends and Influence People 10.80\n",
      "Canada|Kaggle Store|Using LLMs to Win More Kaggle Competitions 11.09\n",
      "Canada|Kaggle Store|Using LLMs to Write Better 20.53\n",
      "Canada|Kagglazon|Using LLMs to Improve Your Coding 7.10\n",
      "Canada|Kagglazon|Using LLMs to Train More LLMs 7.05\n",
      "Canada|Kagglazon|Using LLMs to Win Friends and Influence People 7.88\n",
      "Canada|Kagglazon|Using LLMs to Win More Kaggle Competitions 7.12\n",
      "Canada|Kagglazon|Using LLMs to Write Better 16.52\n",
      "Estonia|Kaggle Learn|Using LLMs to Improve Your Coding 23.66\n",
      "Estonia|Kaggle Learn|Using LLMs to Train More LLMs 25.65\n",
      "Estonia|Kaggle Learn|Using LLMs to Win Friends and Influence People 27.10\n",
      "Estonia|Kaggle Learn|Using LLMs to Win More Kaggle Competitions 24.47\n",
      "Estonia|Kaggle Learn|Using LLMs to Write Better 23.67\n",
      "Estonia|Kaggle Store|Using LLMs to Improve Your Coding 23.58\n",
      "Estonia|Kaggle Store|Using LLMs to Train More LLMs 27.74\n",
      "Estonia|Kaggle Store|Using LLMs to Win Friends and Influence People 20.93\n",
      "Estonia|Kaggle Store|Using LLMs to Win More Kaggle Competitions 24.64\n",
      "Estonia|Kaggle Store|Using LLMs to Write Better 30.65\n",
      "Estonia|Kagglazon|Using LLMs to Improve Your Coding 29.91\n",
      "Estonia|Kagglazon|Using LLMs to Train More LLMs 21.81\n",
      "Estonia|Kagglazon|Using LLMs to Win Friends and Influence People 40.60\n",
      "Estonia|Kagglazon|Using LLMs to Win More Kaggle Competitions 26.38\n",
      "Estonia|Kagglazon|Using LLMs to Write Better 22.64\n",
      "Japan|Kaggle Learn|Using LLMs to Improve Your Coding 6.39\n",
      "Japan|Kaggle Learn|Using LLMs to Train More LLMs 5.09\n",
      "Japan|Kaggle Learn|Using LLMs to Win Friends and Influence People 4.38\n",
      "Japan|Kaggle Learn|Using LLMs to Win More Kaggle Competitions 4.15\n",
      "Japan|Kaggle Learn|Using LLMs to Write Better 4.30\n",
      "Japan|Kaggle Store|Using LLMs to Improve Your Coding 4.63\n",
      "Japan|Kaggle Store|Using LLMs to Train More LLMs 3.97\n",
      "Japan|Kaggle Store|Using LLMs to Win Friends and Influence People 4.44\n",
      "Japan|Kaggle Store|Using LLMs to Win More Kaggle Competitions 4.96\n",
      "Japan|Kaggle Store|Using LLMs to Write Better 7.79\n",
      "Japan|Kagglazon|Using LLMs to Improve Your Coding 4.13\n",
      "Japan|Kagglazon|Using LLMs to Train More LLMs 4.63\n",
      "Japan|Kagglazon|Using LLMs to Win Friends and Influence People 5.40\n",
      "Japan|Kagglazon|Using LLMs to Win More Kaggle Competitions 5.20\n",
      "Japan|Kagglazon|Using LLMs to Write Better 6.19\n",
      "Spain|Kaggle Learn|Using LLMs to Improve Your Coding 31.54\n",
      "Spain|Kaggle Learn|Using LLMs to Train More LLMs 39.80\n",
      "Spain|Kaggle Learn|Using LLMs to Win Friends and Influence People 26.85\n",
      "Spain|Kaggle Learn|Using LLMs to Win More Kaggle Competitions 16.36\n",
      "Spain|Kaggle Learn|Using LLMs to Write Better 22.86\n",
      "Spain|Kaggle Store|Using LLMs to Improve Your Coding 23.13\n",
      "Spain|Kaggle Store|Using LLMs to Train More LLMs 25.46\n",
      "Spain|Kaggle Store|Using LLMs to Win Friends and Influence People 31.21\n",
      "Spain|Kaggle Store|Using LLMs to Win More Kaggle Competitions 35.24\n",
      "Spain|Kaggle Store|Using LLMs to Write Better 26.76\n",
      "Spain|Kagglazon|Using LLMs to Improve Your Coding 29.86\n",
      "Spain|Kagglazon|Using LLMs to Train More LLMs 28.51\n",
      "Spain|Kagglazon|Using LLMs to Win Friends and Influence People 33.24\n",
      "Spain|Kagglazon|Using LLMs to Win More Kaggle Competitions 34.19\n",
      "Spain|Kagglazon|Using LLMs to Write Better 28.72\n"
     ]
    }
   ],
   "source": [
    "for i, comb in enumerate(train_df.comb.unique(), 0):\n",
    "    print(comb, f'{smapes[i] * 100:.2f}')"
   ]
  },
  {
   "cell_type": "code",
   "execution_count": 60,
   "id": "5db3f7a9",
   "metadata": {
    "ExecuteTime": {
     "end_time": "2023-07-25T09:52:00.252053Z",
     "start_time": "2023-07-25T09:52:00.246690Z"
    }
   },
   "outputs": [
    {
     "data": {
      "text/plain": [
       "'Average SMAPE: 34.71688'"
      ]
     },
     "execution_count": 60,
     "metadata": {},
     "output_type": "execute_result"
    }
   ],
   "source": [
    "f'Average SMAPE: {np.mean(smapes) * 100:.5f}'"
   ]
  },
  {
   "cell_type": "code",
   "execution_count": null,
   "id": "b5768f96",
   "metadata": {
    "ExecuteTime": {
     "end_time": "2023-07-25T09:35:05.003885Z",
     "start_time": "2023-07-25T09:35:05.003863Z"
    }
   },
   "outputs": [],
   "source": [
    "# models[0].plot_components(forecasts[0])"
   ]
  },
  {
   "cell_type": "markdown",
   "id": "954fa750",
   "metadata": {},
   "source": [
    "## Submission"
   ]
  },
  {
   "cell_type": "code",
   "execution_count": 62,
   "id": "f9583c9a",
   "metadata": {
    "ExecuteTime": {
     "end_time": "2023-07-25T09:52:46.877254Z",
     "start_time": "2023-07-25T09:52:46.741263Z"
    }
   },
   "outputs": [
    {
     "data": {
      "text/html": [
       "<div>\n",
       "<style scoped>\n",
       "    .dataframe tbody tr th:only-of-type {\n",
       "        vertical-align: middle;\n",
       "    }\n",
       "\n",
       "    .dataframe tbody tr th {\n",
       "        vertical-align: top;\n",
       "    }\n",
       "\n",
       "    .dataframe thead th {\n",
       "        text-align: right;\n",
       "    }\n",
       "</style>\n",
       "<table border=\"1\" class=\"dataframe\">\n",
       "  <thead>\n",
       "    <tr style=\"text-align: right;\">\n",
       "      <th></th>\n",
       "      <th>date</th>\n",
       "      <th>comb</th>\n",
       "      <th>num_sold</th>\n",
       "      <th>yhat_upper</th>\n",
       "      <th>yhat_lower</th>\n",
       "    </tr>\n",
       "  </thead>\n",
       "  <tbody>\n",
       "    <tr>\n",
       "      <th>1826</th>\n",
       "      <td>2022-01-01</td>\n",
       "      <td>Argentina|Kaggle Learn|Using LLMs to Improve Y...</td>\n",
       "      <td>34.131069</td>\n",
       "      <td>38.667521</td>\n",
       "      <td>29.735971</td>\n",
       "    </tr>\n",
       "  </tbody>\n",
       "</table>\n",
       "</div>"
      ],
      "text/plain": [
       "            date                                               comb  \\\n",
       "1826  2022-01-01  Argentina|Kaggle Learn|Using LLMs to Improve Y...   \n",
       "\n",
       "       num_sold  yhat_upper  yhat_lower  \n",
       "1826  34.131069   38.667521   29.735971  "
      ]
     },
     "execution_count": 62,
     "metadata": {},
     "output_type": "execute_result"
    }
   ],
   "source": [
    "subs = preds[preds.ds > train_df.ds.max()]\n",
    "subs = subs.rename(columns={'ds': 'date',\n",
    "                            'yhat': 'num_sold'})\n",
    "subs['date'] = subs['date'].apply(str).apply(lambda x: x.split(' ')[0])\n",
    "subs.head(1)"
   ]
  },
  {
   "cell_type": "code",
   "execution_count": 76,
   "id": "b904e9bd",
   "metadata": {
    "ExecuteTime": {
     "end_time": "2023-07-25T09:59:19.221465Z",
     "start_time": "2023-07-25T09:59:18.986907Z"
    }
   },
   "outputs": [
    {
     "data": {
      "text/html": [
       "<div>\n",
       "<style scoped>\n",
       "    .dataframe tbody tr th:only-of-type {\n",
       "        vertical-align: middle;\n",
       "    }\n",
       "\n",
       "    .dataframe tbody tr th {\n",
       "        vertical-align: top;\n",
       "    }\n",
       "\n",
       "    .dataframe thead th {\n",
       "        text-align: right;\n",
       "    }\n",
       "</style>\n",
       "<table border=\"1\" class=\"dataframe\">\n",
       "  <thead>\n",
       "    <tr style=\"text-align: right;\">\n",
       "      <th></th>\n",
       "      <th>id</th>\n",
       "      <th>date</th>\n",
       "      <th>country</th>\n",
       "      <th>store</th>\n",
       "      <th>product</th>\n",
       "      <th>comb</th>\n",
       "    </tr>\n",
       "  </thead>\n",
       "  <tbody>\n",
       "    <tr>\n",
       "      <th>0</th>\n",
       "      <td>136950</td>\n",
       "      <td>2022-01-01</td>\n",
       "      <td>Argentina</td>\n",
       "      <td>Kaggle Learn</td>\n",
       "      <td>Using LLMs to Improve Your Coding</td>\n",
       "      <td>Argentina|Kaggle Learn|Using LLMs to Improve Y...</td>\n",
       "    </tr>\n",
       "  </tbody>\n",
       "</table>\n",
       "</div>"
      ],
      "text/plain": [
       "       id        date    country         store  \\\n",
       "0  136950  2022-01-01  Argentina  Kaggle Learn   \n",
       "\n",
       "                             product  \\\n",
       "0  Using LLMs to Improve Your Coding   \n",
       "\n",
       "                                                comb  \n",
       "0  Argentina|Kaggle Learn|Using LLMs to Improve Y...  "
      ]
     },
     "execution_count": 76,
     "metadata": {},
     "output_type": "execute_result"
    }
   ],
   "source": [
    "test_df['comb'] = test_df[cats].apply(lambda x: '|'.join(list(x)), \n",
    "                                      axis=1)\n",
    "test_df.head(1)"
   ]
  },
  {
   "cell_type": "code",
   "execution_count": 77,
   "id": "aeb780ee",
   "metadata": {
    "ExecuteTime": {
     "end_time": "2023-07-25T09:59:19.908823Z",
     "start_time": "2023-07-25T09:59:19.860638Z"
    }
   },
   "outputs": [
    {
     "data": {
      "text/html": [
       "<div>\n",
       "<style scoped>\n",
       "    .dataframe tbody tr th:only-of-type {\n",
       "        vertical-align: middle;\n",
       "    }\n",
       "\n",
       "    .dataframe tbody tr th {\n",
       "        vertical-align: top;\n",
       "    }\n",
       "\n",
       "    .dataframe thead th {\n",
       "        text-align: right;\n",
       "    }\n",
       "</style>\n",
       "<table border=\"1\" class=\"dataframe\">\n",
       "  <thead>\n",
       "    <tr style=\"text-align: right;\">\n",
       "      <th></th>\n",
       "      <th>id</th>\n",
       "      <th>date</th>\n",
       "      <th>country</th>\n",
       "      <th>store</th>\n",
       "      <th>product</th>\n",
       "      <th>comb</th>\n",
       "      <th>num_sold</th>\n",
       "      <th>yhat_upper</th>\n",
       "      <th>yhat_lower</th>\n",
       "    </tr>\n",
       "  </thead>\n",
       "  <tbody>\n",
       "    <tr>\n",
       "      <th>0</th>\n",
       "      <td>136950</td>\n",
       "      <td>2022-01-01</td>\n",
       "      <td>Argentina</td>\n",
       "      <td>Kaggle Learn</td>\n",
       "      <td>Using LLMs to Improve Your Coding</td>\n",
       "      <td>Argentina|Kaggle Learn|Using LLMs to Improve Y...</td>\n",
       "      <td>34.131069</td>\n",
       "      <td>38.667521</td>\n",
       "      <td>29.735971</td>\n",
       "    </tr>\n",
       "  </tbody>\n",
       "</table>\n",
       "</div>"
      ],
      "text/plain": [
       "       id        date    country         store  \\\n",
       "0  136950  2022-01-01  Argentina  Kaggle Learn   \n",
       "\n",
       "                             product  \\\n",
       "0  Using LLMs to Improve Your Coding   \n",
       "\n",
       "                                                comb   num_sold  yhat_upper  \\\n",
       "0  Argentina|Kaggle Learn|Using LLMs to Improve Y...  34.131069   38.667521   \n",
       "\n",
       "   yhat_lower  \n",
       "0   29.735971  "
      ]
     },
     "execution_count": 77,
     "metadata": {},
     "output_type": "execute_result"
    }
   ],
   "source": [
    "test_df = test_df.merge(subs, how='left', on=['date', 'comb'])\n",
    "test_df.head(1)"
   ]
  },
  {
   "cell_type": "code",
   "execution_count": 78,
   "id": "350b4144",
   "metadata": {
    "ExecuteTime": {
     "end_time": "2023-07-25T09:59:20.125850Z",
     "start_time": "2023-07-25T09:59:20.122071Z"
    }
   },
   "outputs": [],
   "source": [
    "multi_dict = {'Canada': .58 * 1.5,\n",
    "              'Japan': .76 * 1.5,\n",
    "              'Spain': 1 * 1.5,\n",
    "              'Estonia': 1.08 * 1.5,\n",
    "              'Argentina': 2.82 * 1.5}"
   ]
  },
  {
   "cell_type": "code",
   "execution_count": 79,
   "id": "a4ea3c09",
   "metadata": {
    "ExecuteTime": {
     "end_time": "2023-07-25T09:59:20.701984Z",
     "start_time": "2023-07-25T09:59:20.697355Z"
    }
   },
   "outputs": [],
   "source": [
    "def multipliers(test_df, multi_dict=multi_dict):\n",
    "    for country in test_df.country.unique():\n",
    "        test_df['num_sold'][test_df.country == country] *= multi_dict[country]\n",
    "    return test_df['num_sold']"
   ]
  },
  {
   "cell_type": "code",
   "execution_count": 80,
   "id": "9abc835a",
   "metadata": {
    "ExecuteTime": {
     "end_time": "2023-07-25T09:59:22.049942Z",
     "start_time": "2023-07-25T09:59:21.903032Z"
    }
   },
   "outputs": [],
   "source": [
    "test_df[\"num_sold\"] = np.round(multipliers(test_df))"
   ]
  },
  {
   "cell_type": "code",
   "execution_count": 81,
   "id": "90541aaa",
   "metadata": {
    "ExecuteTime": {
     "end_time": "2023-07-25T09:59:23.365363Z",
     "start_time": "2023-07-25T09:59:23.300595Z"
    }
   },
   "outputs": [],
   "source": [
    "test_df[['id', 'num_sold']].to_csv('subs/sub_4_hack.csv', index=False)"
   ]
  },
  {
   "cell_type": "code",
   "execution_count": 36,
   "id": "dbd09b0d",
   "metadata": {
    "ExecuteTime": {
     "end_time": "2023-07-24T20:14:22.577673Z",
     "start_time": "2023-07-24T20:14:22.572914Z"
    }
   },
   "outputs": [],
   "source": [
    "# test_df['num_sold'] = test_df['num_sold'] * 1.66\n",
    "# test_df[['id', 'num_sold']].to_csv('subs/sub_2_hack.csv', index=False)"
   ]
  },
  {
   "cell_type": "code",
   "execution_count": 37,
   "id": "d3266994",
   "metadata": {
    "ExecuteTime": {
     "end_time": "2023-07-24T20:14:22.585233Z",
     "start_time": "2023-07-24T20:14:22.580795Z"
    }
   },
   "outputs": [],
   "source": [
    "# test_df['num_sold'] = np.round(test_df['num_sold'], 0)\n",
    "# test_df[['id', 'num_sold']].to_csv('subs/sub_2_round.csv', index=False)"
   ]
  }
 ],
 "metadata": {
  "kernelspec": {
   "display_name": "Python 3 (ipykernel)",
   "language": "python",
   "name": "python3"
  },
  "language_info": {
   "codemirror_mode": {
    "name": "ipython",
    "version": 3
   },
   "file_extension": ".py",
   "mimetype": "text/x-python",
   "name": "python",
   "nbconvert_exporter": "python",
   "pygments_lexer": "ipython3",
   "version": "3.8.17"
  }
 },
 "nbformat": 4,
 "nbformat_minor": 5
}
